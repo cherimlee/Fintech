{
 "cells": [
  {
   "cell_type": "code",
   "execution_count": 2,
   "id": "88a3006d",
   "metadata": {},
   "outputs": [],
   "source": [
    "import pandas as pd\n",
    "import numpy as np\n",
    "import matplotlib.pyplot as plt\n",
    "import seaborn as sns"
   ]
  },
  {
   "cell_type": "code",
   "execution_count": 3,
   "id": "31e60c3d",
   "metadata": {},
   "outputs": [],
   "source": [
    "import requests\n",
    "from bs4 import BeautifulSoup"
   ]
  },
  {
   "cell_type": "code",
   "execution_count": 6,
   "id": "303de723",
   "metadata": {},
   "outputs": [],
   "source": [
    "url = 'https://www1.president.go.kr/petitions/best?page=23'\n",
    "path = '#cont_view > div.cs_area > div > div > div.board.text > div.b_list.category > div.bl_body > ul > li'"
   ]
  },
  {
   "cell_type": "code",
   "execution_count": 7,
   "id": "48f54804",
   "metadata": {},
   "outputs": [
    {
     "data": {
      "text/plain": [
       "15"
      ]
     },
     "execution_count": 7,
     "metadata": {},
     "output_type": "execute_result"
    }
   ],
   "source": [
    "res = requests.get(url)\n",
    "soup = BeautifulSoup(res.text, 'html.parser')\n",
    "lis = soup.select(path)\n",
    "len(lis)"
   ]
  },
  {
   "cell_type": "code",
   "execution_count": 11,
   "id": "aa72a2d3",
   "metadata": {},
   "outputs": [
    {
     "data": {
      "text/plain": [
       "<li>\n",
       "<div class=\"bl_wrap\">\n",
       "<div class=\"bl_category cs\"><span class=\"sound_only\">분류 </span> 보건복지</div>\n",
       "<div class=\"bl_subject\">\n",
       "<a class=\"cb\" href=\"/petitions/604770?navigation=best\"><span class=\"sound_only\">제목 </span>얼마나 더 많은 국민이 죽어나가야만 하는겁니까?</a>\n",
       "</div>\n",
       "<span class=\"sound_only\">청원만료 </span><div class=\"bl_date light\">22-04-16</div>\n",
       "<div class=\"bl_agree cb wv_agree\">\n",
       "<span class=\"sound_only\">참여인원 </span>343명\n",
       "\t\t\t\t\t\t\t\t\t\t\t\t</div>\n",
       "</div>\n",
       "</li>"
      ]
     },
     "execution_count": 11,
     "metadata": {},
     "output_type": "execute_result"
    }
   ],
   "source": [
    "lis[0]"
   ]
  },
  {
   "cell_type": "code",
   "execution_count": 18,
   "id": "6dd2485d",
   "metadata": {},
   "outputs": [
    {
     "data": {
      "text/plain": [
       "'보건복지'"
      ]
     },
     "execution_count": 18,
     "metadata": {},
     "output_type": "execute_result"
    }
   ],
   "source": [
    "lis[0].select('.bl_category')[0].text.split()[1]"
   ]
  },
  {
   "cell_type": "code",
   "execution_count": 30,
   "id": "8286d1fc",
   "metadata": {},
   "outputs": [],
   "source": [
    "main_url ='https://www1.president.go.kr'"
   ]
  },
  {
   "cell_type": "code",
   "execution_count": 32,
   "id": "e9206b4d",
   "metadata": {},
   "outputs": [
    {
     "data": {
      "text/plain": [
       "'https://www1.president.go.kr/petitions/604770?navigation=best'"
      ]
     },
     "execution_count": 32,
     "metadata": {},
     "output_type": "execute_result"
    }
   ],
   "source": [
    "full_url =  main_url + lis[0].select('a.cb')[0]['href']\n",
    "full_url"
   ]
  },
  {
   "cell_type": "code",
   "execution_count": 33,
   "id": "0974d7cf",
   "metadata": {},
   "outputs": [],
   "source": [
    "res1 = requests.get(full_url)\n",
    "soup1 = BeautifulSoup(res1.text, 'html.parser')"
   ]
  },
  {
   "cell_type": "code",
   "execution_count": 35,
   "id": "07815b9f",
   "metadata": {},
   "outputs": [
    {
     "data": {
      "text/plain": [
       "'343'"
      ]
     },
     "execution_count": 35,
     "metadata": {},
     "output_type": "execute_result"
    }
   ],
   "source": [
    "pop = soup1.select('#cont_view > div.cs_area > div.new_contents > div > div.petitionsView_left > div > h2 > span')[0].text"
   ]
  },
  {
   "cell_type": "code",
   "execution_count": 50,
   "id": "2cc6b9d4",
   "metadata": {},
   "outputs": [
    {
     "data": {
      "text/plain": [
       "'보건복지'"
      ]
     },
     "execution_count": 50,
     "metadata": {},
     "output_type": "execute_result"
    }
   ],
   "source": [
    "cate = soup1.select('#cont_view > div.cs_area > div.new_contents > div > div.petitionsView_left > div > div.petitionsView_info > ul > li')[0].text[4:]\n",
    "cate"
   ]
  },
  {
   "cell_type": "code",
   "execution_count": 49,
   "id": "4c7a5849",
   "metadata": {},
   "outputs": [
    {
     "data": {
      "text/plain": [
       "'2022-03-17'"
      ]
     },
     "execution_count": 49,
     "metadata": {},
     "output_type": "execute_result"
    }
   ],
   "source": [
    "st_date = soup1.select('#cont_view > div.cs_area > div.new_contents > div > div.petitionsView_left > div > div.petitionsView_info > ul > li')[1].text[4:]\n",
    "st_date"
   ]
  },
  {
   "cell_type": "code",
   "execution_count": 47,
   "id": "7a6273aa",
   "metadata": {},
   "outputs": [
    {
     "data": {
      "text/plain": [
       "'2022-04-16'"
      ]
     },
     "execution_count": 47,
     "metadata": {},
     "output_type": "execute_result"
    }
   ],
   "source": [
    "ed_date = soup1.select('#cont_view > div.cs_area > div.new_contents > div > div.petitionsView_left > div > div.petitionsView_info > ul > li')[2].text[4:]\n",
    "ed_date"
   ]
  },
  {
   "cell_type": "code",
   "execution_count": 45,
   "id": "17da1664",
   "metadata": {},
   "outputs": [
    {
     "data": {
      "text/plain": [
       "\"\\n\\t\\t\\t\\t\\t\\t\\t\\t\\t\\t현재 코로나19 전담병원에서 자행되고 있는 부실한관리와 의료과실로,  사망하는 통계에도 집계되지 않는 주검들에 대해 철저한 진상규명을 청원합니다.  \\n\\r\\n현재 코로나로 사망한 국민이 1만여명이 넘었습니다. \\r\\n이게 말이 됩니까?\\r\\nK방역으로 전국민이 잘 호응하여 여기까지 왔는데, 전쟁이 나도 이렇게까지 죽지는 않습니다. 이건 완전 의료체제 붕괴입니다.\\r\\n신속하고 정확한 의료체계를 구축하지 못하고 우왕좌왕하는 사이 국민들은 수백명씩 죽어나가고 있습니다.  \\r\\n저희 아버님도 이번 코로나19에 감염(요양원) 되어 전담병원으로 지정된 충북 제천 ○○요양병원 에서 입원한지 9일만에 돌아가셨습니다.  \\r\\n사망일 3일전부터 38.5도에 고열과 식사거부등 이상증세에도 불구하고 적절한 조치를 취하지 않았으며 \\r\\n위급한 상황일 때 심폐소생술도 하지않아 사망에 이르게 됬습니다. \\r\\n이는 명백한 주의의무 위반및 업무상 과실치사 입니다.\\n\\r\\n아버님만 생각하면 이런 낯선 환경에서 얼마나 힘들고 고통스러웠을까요. \\r\\n저는 아버지의 마지막 가는 모습도 지켜내지 못한\\r\\n불효자 입니다.\\r\\n○○야 ! '나 좀 살려다오' 하는 아버지의 목소리가\\r\\n아직도 마음 한 구석에 박혀있습니다.\\n\\r\\n국민 여러분! 청원에 동의해주십시요. \\r\\n누군가는 어둠만 보이는 긴 터널 속에서 쓸쓸한 죽음을 맞이한 우리 가족중 한 분일수 있습니다.\\t\\t\\t\\t\\t\\t\\t\\t\\t\""
      ]
     },
     "execution_count": 45,
     "metadata": {},
     "output_type": "execute_result"
    }
   ],
   "source": [
    "content = soup1.select('#cont_view > div.cs_area > div.new_contents > div > div.petitionsView_left > div > div.petitionsView_write > div.View_write')[0].text\n",
    "content"
   ]
  },
  {
   "cell_type": "code",
   "execution_count": null,
   "id": "7894bc0e",
   "metadata": {},
   "outputs": [],
   "source": []
  },
  {
   "cell_type": "code",
   "execution_count": 69,
   "id": "fa441cb9",
   "metadata": {},
   "outputs": [
    {
     "data": {
      "text/html": [
       "<div>\n",
       "<style scoped>\n",
       "    .dataframe tbody tr th:only-of-type {\n",
       "        vertical-align: middle;\n",
       "    }\n",
       "\n",
       "    .dataframe tbody tr th {\n",
       "        vertical-align: top;\n",
       "    }\n",
       "\n",
       "    .dataframe thead th {\n",
       "        text-align: right;\n",
       "    }\n",
       "</style>\n",
       "<table border=\"1\" class=\"dataframe\">\n",
       "  <thead>\n",
       "    <tr style=\"text-align: right;\">\n",
       "      <th></th>\n",
       "      <th>pop</th>\n",
       "      <th>cate</th>\n",
       "      <th>st_date</th>\n",
       "      <th>ed_date</th>\n",
       "      <th>content</th>\n",
       "    </tr>\n",
       "  </thead>\n",
       "  <tbody>\n",
       "    <tr>\n",
       "      <th>0</th>\n",
       "      <td>58,531</td>\n",
       "      <td>정치개혁</td>\n",
       "      <td>2022-03-25</td>\n",
       "      <td>2022-04-24</td>\n",
       "      <td>\\n\\t\\t\\t\\t\\t\\t\\t\\t\\t\\t국가의 권력은 국민으로부터 나옵니다.\\r\\n...</td>\n",
       "    </tr>\n",
       "    <tr>\n",
       "      <th>1</th>\n",
       "      <td>57,517</td>\n",
       "      <td>기타</td>\n",
       "      <td>2022-03-29</td>\n",
       "      <td>2022-04-28</td>\n",
       "      <td>\\n\\t\\t\\t\\t\\t\\t\\t\\t\\t\\t김정숙 여사님\\r\\n지난 5년동안 문재인 대...</td>\n",
       "    </tr>\n",
       "    <tr>\n",
       "      <th>2</th>\n",
       "      <td>57,332</td>\n",
       "      <td>정치개혁</td>\n",
       "      <td>2022-03-10</td>\n",
       "      <td>2022-04-09</td>\n",
       "      <td>\\n\\t\\t\\t\\t\\t\\t\\t\\t\\t\\t이번 대통령 선거에서는 부실한 표 관리와 부...</td>\n",
       "    </tr>\n",
       "    <tr>\n",
       "      <th>3</th>\n",
       "      <td>53,025</td>\n",
       "      <td>행정</td>\n",
       "      <td>2022-03-18</td>\n",
       "      <td>2022-04-17</td>\n",
       "      <td>\\n\\t\\t\\t\\t\\t\\t\\t\\t\\t\\t국민혈세 낭비하는 청와대 이전 반대합니다\\r...</td>\n",
       "    </tr>\n",
       "    <tr>\n",
       "      <th>4</th>\n",
       "      <td>51,909</td>\n",
       "      <td>인권/성평등</td>\n",
       "      <td>2022-03-17</td>\n",
       "      <td>2022-04-16</td>\n",
       "      <td>\\n\\t\\t\\t\\t\\t\\t\\t\\t\\t\\t안녕하십니까 \\r\\n***** 배구부 선수인...</td>\n",
       "    </tr>\n",
       "    <tr>\n",
       "      <th>5</th>\n",
       "      <td>51,236</td>\n",
       "      <td>기타</td>\n",
       "      <td>2022-03-18</td>\n",
       "      <td>2022-04-17</td>\n",
       "      <td>\\n\\t\\t\\t\\t\\t\\t\\t\\t\\t\\t저는 현재 ‘****(** ****) 국회의...</td>\n",
       "    </tr>\n",
       "    <tr>\n",
       "      <th>6</th>\n",
       "      <td>46,380</td>\n",
       "      <td>정치개혁</td>\n",
       "      <td>2022-03-16</td>\n",
       "      <td>2022-04-15</td>\n",
       "      <td>\\n\\t\\t\\t\\t\\t\\t\\t\\t\\t\\t&lt;대장동게이트 연루의혹을 받는 이재명씨의 검...</td>\n",
       "    </tr>\n",
       "    <tr>\n",
       "      <th>7</th>\n",
       "      <td>46,005</td>\n",
       "      <td>정치개혁</td>\n",
       "      <td>2022-03-15</td>\n",
       "      <td>2022-04-14</td>\n",
       "      <td>\\n\\t\\t\\t\\t\\t\\t\\t\\t\\t\\t1) 문재인 정부 청와대 투명성은 이전 정권...</td>\n",
       "    </tr>\n",
       "    <tr>\n",
       "      <th>8</th>\n",
       "      <td>38,538</td>\n",
       "      <td>정치개혁</td>\n",
       "      <td>2022-03-11</td>\n",
       "      <td>2022-04-10</td>\n",
       "      <td>\\n\\t\\t\\t\\t\\t\\t\\t\\t\\t\\t415 총선 부정선거의 주범으로 의심 받으며...</td>\n",
       "    </tr>\n",
       "    <tr>\n",
       "      <th>9</th>\n",
       "      <td>38,154</td>\n",
       "      <td>정치개혁</td>\n",
       "      <td>2022-03-18</td>\n",
       "      <td>2022-04-17</td>\n",
       "      <td>\\n\\t\\t\\t\\t\\t\\t\\t\\t\\t\\t윤석열 당선인의 대통령 집무실을 \\r\\n청와...</td>\n",
       "    </tr>\n",
       "  </tbody>\n",
       "</table>\n",
       "</div>"
      ],
      "text/plain": [
       "      pop    cate     st_date     ed_date  \\\n",
       "0  58,531    정치개혁  2022-03-25  2022-04-24   \n",
       "1  57,517      기타  2022-03-29  2022-04-28   \n",
       "2  57,332    정치개혁  2022-03-10  2022-04-09   \n",
       "3  53,025      행정  2022-03-18  2022-04-17   \n",
       "4  51,909  인권/성평등  2022-03-17  2022-04-16   \n",
       "5  51,236      기타  2022-03-18  2022-04-17   \n",
       "6  46,380    정치개혁  2022-03-16  2022-04-15   \n",
       "7  46,005    정치개혁  2022-03-15  2022-04-14   \n",
       "8  38,538    정치개혁  2022-03-11  2022-04-10   \n",
       "9  38,154    정치개혁  2022-03-18  2022-04-17   \n",
       "\n",
       "                                             content  \n",
       "0  \\n\\t\\t\\t\\t\\t\\t\\t\\t\\t\\t국가의 권력은 국민으로부터 나옵니다.\\r\\n...  \n",
       "1  \\n\\t\\t\\t\\t\\t\\t\\t\\t\\t\\t김정숙 여사님\\r\\n지난 5년동안 문재인 대...  \n",
       "2  \\n\\t\\t\\t\\t\\t\\t\\t\\t\\t\\t이번 대통령 선거에서는 부실한 표 관리와 부...  \n",
       "3  \\n\\t\\t\\t\\t\\t\\t\\t\\t\\t\\t국민혈세 낭비하는 청와대 이전 반대합니다\\r...  \n",
       "4  \\n\\t\\t\\t\\t\\t\\t\\t\\t\\t\\t안녕하십니까 \\r\\n***** 배구부 선수인...  \n",
       "5  \\n\\t\\t\\t\\t\\t\\t\\t\\t\\t\\t저는 현재 ‘****(** ****) 국회의...  \n",
       "6  \\n\\t\\t\\t\\t\\t\\t\\t\\t\\t\\t<대장동게이트 연루의혹을 받는 이재명씨의 검...  \n",
       "7  \\n\\t\\t\\t\\t\\t\\t\\t\\t\\t\\t1) 문재인 정부 청와대 투명성은 이전 정권...  \n",
       "8  \\n\\t\\t\\t\\t\\t\\t\\t\\t\\t\\t415 총선 부정선거의 주범으로 의심 받으며...  \n",
       "9  \\n\\t\\t\\t\\t\\t\\t\\t\\t\\t\\t윤석열 당선인의 대통령 집무실을 \\r\\n청와...  "
      ]
     },
     "execution_count": 69,
     "metadata": {},
     "output_type": "execute_result"
    }
   ],
   "source": [
    "petitions = {}\n",
    "\n",
    "pop_list = []\n",
    "cate_list = []\n",
    "st_date_list = []\n",
    "ed_date_list = []\n",
    "content_list = []\n",
    "\n",
    "url = 'https://www1.president.go.kr/petitions/best?page=5'\n",
    "path = '#cont_view > div.cs_area > div > div > div.board.text > div.b_list.category > div.bl_body > ul > li'\n",
    "\n",
    "res = requests.get(url)\n",
    "soup = BeautifulSoup(res.text, 'html.parser')\n",
    "lis = soup.select(path)\n",
    "\n",
    "main_url ='https://www1.president.go.kr'\n",
    "\n",
    "for li in lis:\n",
    "    full_url =  main_url + li.select('a.cb')[0]['href']\n",
    "    res1 = requests.get(full_url)\n",
    "    soup1 = BeautifulSoup(res1.text, 'html.parser')\n",
    "    \n",
    "    pop = soup1.select('#cont_view > div.cs_area > div.new_contents > div > div.petitionsView_left > div > h2 > span')[0].text\n",
    "    cate = soup1.select('#cont_view > div.cs_area > div.new_contents > div > div.petitionsView_left > div > div.petitionsView_info > ul > li')[0].text[4:]\n",
    "    st_date = soup1.select('#cont_view > div.cs_area > div.new_contents > div > div.petitionsView_left > div > div.petitionsView_info > ul > li')[1].text[4:]\n",
    "    ed_date = soup1.select('#cont_view > div.cs_area > div.new_contents > div > div.petitionsView_left > div > div.petitionsView_info > ul > li')[2].text[4:]\n",
    "    content = soup1.select('#cont_view > div.cs_area > div.new_contents > div > div.petitionsView_left > div > div.petitionsView_write > div.View_write')[0].text\n",
    "    \n",
    "#     print(pop)\n",
    "#     print(cate)\n",
    "#     print(st_date)\n",
    "#     print(ed_date)\n",
    "#     print(content)\n",
    "    \n",
    "    pop_list.append(pop)\n",
    "    cate_list.append(cate)\n",
    "    st_date_list.append(st_date)\n",
    "    ed_date_list.append(ed_date)\n",
    "    content_list.append(content)\n",
    "    \n",
    "    petitions['pop'] = pop_list\n",
    "    petitions['cate'] = cate_list\n",
    "    petitions['st_date'] = st_date_list\n",
    "    petitions['ed_date'] = ed_date_list\n",
    "    petitions['content'] = content_list\n",
    "    \n",
    "    pet_df = pd.DataFrame(petitions)\n",
    "\n",
    "    \n",
    "pet_df"
   ]
  },
  {
   "cell_type": "code",
   "execution_count": null,
   "id": "7a1e415e",
   "metadata": {},
   "outputs": [],
   "source": []
  },
  {
   "cell_type": "code",
   "execution_count": 72,
   "id": "75732bbb",
   "metadata": {},
   "outputs": [
    {
     "name": "stdout",
     "output_type": "stream",
     "text": [
      "1 2 3 4 "
     ]
    },
    {
     "data": {
      "text/html": [
       "<div>\n",
       "<style scoped>\n",
       "    .dataframe tbody tr th:only-of-type {\n",
       "        vertical-align: middle;\n",
       "    }\n",
       "\n",
       "    .dataframe tbody tr th {\n",
       "        vertical-align: top;\n",
       "    }\n",
       "\n",
       "    .dataframe thead th {\n",
       "        text-align: right;\n",
       "    }\n",
       "</style>\n",
       "<table border=\"1\" class=\"dataframe\">\n",
       "  <thead>\n",
       "    <tr style=\"text-align: right;\">\n",
       "      <th></th>\n",
       "    </tr>\n",
       "  </thead>\n",
       "  <tbody>\n",
       "  </tbody>\n",
       "</table>\n",
       "</div>"
      ],
      "text/plain": [
       "Empty DataFrame\n",
       "Columns: []\n",
       "Index: []"
      ]
     },
     "execution_count": 72,
     "metadata": {},
     "output_type": "execute_result"
    }
   ],
   "source": [
    "petitions = {}\n",
    "\n",
    "pop_list = []\n",
    "cate_list = []\n",
    "st_date_list = []\n",
    "ed_date_list = []\n",
    "content_list = []\n",
    "\n",
    "\n",
    "for i in range(1,5):\n",
    "\n",
    "    url = 'https://www1.president.go.kr/petitions/best?page={}'.format(i)\n",
    "    path = '#cont_view > div.cs_area > div > div > div.board.text > div.b_list.category > div.bl_body > ul > li'\n",
    "\n",
    "    res = requests.get(url)\n",
    "    soup = BeautifulSoup(res.text, 'html.parser')\n",
    "    lis = soup.select(path)\n",
    "\n",
    "    main_url ='https://www1.president.go.kr'\n",
    "    \n",
    "    print(i, end=' ')\n",
    "\n",
    "    for li in lis:\n",
    "        \n",
    "        try:\n",
    "            full_url =  main_url + li.select('a.cb')[0]['href']\n",
    "            res1 = requests.get(full_url)\n",
    "            soup1 = BeautifulSoup(res1.text, 'html.parser')\n",
    "\n",
    "            pop = soup1.select('#cont_view > div.cs_area > div.new_contents > div > div.petitionsView_left > div > h2 > span')[0].text\n",
    "            cate = soup1.select('#cont_view > div.cs_area > div.new_contents > div > div.petitionsView_left > div > div.petitionsView_info > ul > li')[0].text[4:]\n",
    "            st_date = soup1.select('#cont_view > div.cs_area > div.new_contents > div > div.petitionsView_left > div > div.petitionsView_info > ul > li')[1].text[4:]\n",
    "            ed_date = soup1.select('#cont_view > div.cs_area > div.new_contents > div > div.petitionsView_left > div > div.petitionsView_info > ul > li')[2].text[4:]\n",
    "            content = soup1.select('#cont_view > div.cs_area > div.new_contents > div > div.petitionsView_left > div > div.petitionsView_write > div.View_write')[0].text\n",
    "\n",
    "            print(pop)\n",
    "            print(cate)\n",
    "            print(st_date)\n",
    "            print(ed_date)\n",
    "            print(content)\n",
    "            print('=====')\n",
    "\n",
    "            pop_list.append(pop)\n",
    "            cate_list.append(cate)\n",
    "            st_date_list.append(st_date)\n",
    "            ed_date_list.append(ed_date)\n",
    "            content_list.append(content)\n",
    "\n",
    "            petitions['pop'] = pop_list\n",
    "            petitions['cate'] = cate_list\n",
    "            petitions['st_date'] = st_date_list\n",
    "            petitions['ed_date'] = ed_date_list\n",
    "            petitions['content'] = content_list\n",
    "            \n",
    "        except:\n",
    "#             print(e)\n",
    "            pass\n",
    "\n",
    "pet_df = pd.DataFrame(petitions)    \n",
    "pet_df"
   ]
  },
  {
   "cell_type": "code",
   "execution_count": null,
   "id": "12cdad49",
   "metadata": {},
   "outputs": [],
   "source": []
  },
  {
   "cell_type": "code",
   "execution_count": null,
   "id": "db9d4dd8",
   "metadata": {},
   "outputs": [],
   "source": []
  },
  {
   "cell_type": "code",
   "execution_count": null,
   "id": "a8b3af74",
   "metadata": {},
   "outputs": [],
   "source": []
  }
 ],
 "metadata": {
  "kernelspec": {
   "display_name": "Python 3 (ipykernel)",
   "language": "python",
   "name": "python3"
  },
  "language_info": {
   "codemirror_mode": {
    "name": "ipython",
    "version": 3
   },
   "file_extension": ".py",
   "mimetype": "text/x-python",
   "name": "python",
   "nbconvert_exporter": "python",
   "pygments_lexer": "ipython3",
   "version": "3.9.7"
  }
 },
 "nbformat": 4,
 "nbformat_minor": 5
}
