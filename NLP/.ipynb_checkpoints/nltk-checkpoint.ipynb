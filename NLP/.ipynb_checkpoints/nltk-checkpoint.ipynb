{
 "cells": [
  {
   "cell_type": "code",
   "execution_count": null,
   "metadata": {
    "id": "DITZmZdEHTLa"
   },
   "outputs": [],
   "source": [
    "!curl -s https://raw.githubusercontent.com/teddylee777/machine-learning/master/99-Misc/01-Colab/mecab-colab.sh | bash"
   ]
  },
  {
   "cell_type": "code",
   "execution_count": 2,
   "metadata": {
    "id": "pYfHm5A-HWin"
   },
   "outputs": [],
   "source": [
    "import nltk"
   ]
  },
  {
   "cell_type": "code",
   "execution_count": 3,
   "metadata": {
    "id": "BCvR6UuOHXIP"
   },
   "outputs": [],
   "source": [
    "from konlpy.corpus import kobill"
   ]
  },
  {
   "cell_type": "code",
   "execution_count": null,
   "metadata": {
    "id": "6E8T6_gwHXLd"
   },
   "outputs": [],
   "source": [
    "doc_ko = kobill.open('1809890.txt').read()\n",
    "doc_ko"
   ]
  },
  {
   "cell_type": "code",
   "execution_count": 5,
   "metadata": {
    "id": "rdqOmCyUHXOV"
   },
   "outputs": [],
   "source": [
    "from konlpy.tag import Okt\n",
    "okt = Okt()"
   ]
  },
  {
   "cell_type": "code",
   "execution_count": null,
   "metadata": {
    "id": "V5FszpbNHXRN"
   },
   "outputs": [],
   "source": [
    "tokens = okt.nouns(doc_ko)\n",
    "tokens[:20]"
   ]
  },
  {
   "cell_type": "code",
   "execution_count": null,
   "metadata": {
    "id": "0DdMhYCfHXT-"
   },
   "outputs": [],
   "source": [
    "ko = nltk.Text(tokens)\n",
    "ko"
   ]
  },
  {
   "cell_type": "code",
   "execution_count": null,
   "metadata": {
    "id": "02FV9QKxHXWu"
   },
   "outputs": [],
   "source": [
    "ko.tokens[:10]"
   ]
  },
  {
   "cell_type": "code",
   "execution_count": null,
   "metadata": {
    "id": "vO1reRLFHXaG"
   },
   "outputs": [],
   "source": [
    "ko.vocab()"
   ]
  },
  {
   "cell_type": "code",
   "execution_count": 11,
   "metadata": {
    "colab": {
     "base_uri": "https://localhost:8080/"
    },
    "id": "cr8oxLg-In4F",
    "outputId": "0ff0cdc2-2179-4888-c7ae-633a1190ab55"
   },
   "outputs": [
    {
     "data": {
      "text/plain": [
       "10"
      ]
     },
     "execution_count": 11,
     "metadata": {},
     "output_type": "execute_result"
    }
   ],
   "source": [
    "ko.count('공무원')"
   ]
  },
  {
   "cell_type": "code",
   "execution_count": 12,
   "metadata": {
    "colab": {
     "base_uri": "https://localhost:8080/"
    },
    "id": "roTcLe8rIsV-",
    "outputId": "424de379-c62e-4043-de58-42fdba2fcc6e"
   },
   "outputs": [
    {
     "data": {
      "text/plain": [
       "[('육아휴직', 38), ('발생', 19), ('만', 18), ('이하', 18), ('비용', 17)]"
      ]
     },
     "execution_count": 12,
     "metadata": {},
     "output_type": "execute_result"
    }
   ],
   "source": [
    "ko.vocab().most_common(5)"
   ]
  },
  {
   "cell_type": "code",
   "execution_count": 15,
   "metadata": {
    "colab": {
     "base_uri": "https://localhost:8080/"
    },
    "id": "G6-TzbGjIwVM",
    "outputId": "f9bb84b1-0b42-405c-c650-65c9f1a5c4c2"
   },
   "outputs": [
    {
     "name": "stdout",
     "output_type": "stream",
     "text": [
      "경우\n"
     ]
    }
   ],
   "source": [
    "ko.similar('비용')"
   ]
  },
  {
   "cell_type": "code",
   "execution_count": 26,
   "metadata": {
    "colab": {
     "base_uri": "https://localhost:8080/"
    },
    "id": "BsWsIlixIz3e",
    "outputId": "e08bdb30-30a1-4202-a18c-42423a64e666"
   },
   "outputs": [
    {
     "name": "stdout",
     "output_type": "stream",
     "text": [
      "Displaying 8 of 8 matches:\n",
      "모님 일자리 곧 출산 의욕 저하 문제 수 것임 따라서 육아휴직 자녀 연령 만 세 이하 개정 것임 안 제 항제 호 법률 제 호 지방공무원법 일\n",
      "정안 국가공무원 법 제 항제 호 중 국가공무원 육아 휴직 가능 자녀 연령 만 세 이하 만 세 이하 방공 무 법 제 항제 호 중 지방 공무원 \n",
      "이하 교육 공무원 법 제 항 제 중 교육 공무원 육아휴직 가능 자녀 연령 만 세 이하 만 세 이하 남녀 고용 평등 일 가정 양립 지원 관 법\n",
      " 일 가정 양립 지원 관 법률 제 항 중 근로자 육아휴직 가능 자녀 연령 만 세 이하 만 세 이하 조정 함 추가 재정 요가 예상 첨부 근거 \n",
      "유 개정안 국가 지방 교육 공무원 및 근로자 육아휴직 신청 수 자녀 연령 만 세 이하 만 세 이하 상향 조정 함 추가 재정 요가 예상 법률 \n",
      "함 추가 재정 요가 예상 법률 개정안 시행 고 가정 경우 현재 자녀 연령 세이 육아휴직 신청 국가 지방 교육 공무원 및 근로자 대상 대상 연\n",
      "령 세이 육아휴직 신청 국가 지방 교육 공무원 및 근로자 대상 대상 연령 확대 육아휴직 신청 수가 정도 것 예상 이 경우 발생 비용 현행법 \n",
      "금 더 이상 발생 따라서 실제 발생 비용 육 휴직 지급 월 급여 액 연령 확대 발생 비용 인 육아휴직 월급 액 체인 고용 인건비 차 액 이 \n"
     ]
    }
   ],
   "source": [
    "ko.concordance('연령')"
   ]
  },
  {
   "cell_type": "code",
   "execution_count": 18,
   "metadata": {
    "colab": {
     "base_uri": "https://localhost:8080/"
    },
    "id": "_3uuIdGcJIgP",
    "outputId": "214fbb8c-7f94-4907-edd6-6eac2b12a9b7"
   },
   "outputs": [
    {
     "name": "stdout",
     "output_type": "stream",
     "text": [
      "[nltk_data] Downloading package stopwords to /root/nltk_data...\n",
      "[nltk_data]   Unzipping corpora/stopwords.zip.\n"
     ]
    },
    {
     "data": {
      "text/plain": [
       "True"
      ]
     },
     "execution_count": 18,
     "metadata": {},
     "output_type": "execute_result"
    }
   ],
   "source": [
    "import nltk\n",
    "nltk.download('stopwords')"
   ]
  },
  {
   "cell_type": "code",
   "execution_count": 19,
   "metadata": {
    "colab": {
     "base_uri": "https://localhost:8080/"
    },
    "id": "bvCFokv6I69m",
    "outputId": "c92be0b3-baa0-48ff-d77b-597685b8eeb3"
   },
   "outputs": [
    {
     "name": "stdout",
     "output_type": "stream",
     "text": [
      "초등학교 저학년; 근로자 육아휴직; 육아휴직 대상자; 공무원 육아휴직\n"
     ]
    }
   ],
   "source": [
    "ko.collocations()"
   ]
  },
  {
   "cell_type": "code",
   "execution_count": null,
   "metadata": {
    "id": "v_ALZrOOJEMc"
   },
   "outputs": [],
   "source": [
    "ko.dispersion_plot(['육아휴직','연령','공무원'])"
   ]
  },
  {
   "cell_type": "code",
   "execution_count": 21,
   "metadata": {
    "id": "11VCews9JSvb"
   },
   "outputs": [],
   "source": [
    "from wordcloud import WordCloud"
   ]
  },
  {
   "cell_type": "code",
   "execution_count": 22,
   "metadata": {
    "id": "Zp2O4VvJJZnd"
   },
   "outputs": [],
   "source": [
    "data = ko.vocab().most_common(30)"
   ]
  },
  {
   "cell_type": "code",
   "execution_count": 24,
   "metadata": {
    "id": "bEtDiQcAKBDv"
   },
   "outputs": [],
   "source": [
    "import matplotlib.pyplot as plt"
   ]
  },
  {
   "cell_type": "code",
   "execution_count": 25,
   "metadata": {
    "colab": {
     "base_uri": "https://localhost:8080/",
     "height": 237
    },
    "id": "pU4U9sukJfFt",
    "outputId": "f5e4a898-7ff5-4bae-b28f-e3e6e43cd1d8"
   },
   "outputs": [
    {
     "data": {
      "text/plain": [
       "<matplotlib.image.AxesImage at 0x7fc6409ade50>"
      ]
     },
     "execution_count": 25,
     "metadata": {},
     "output_type": "execute_result"
    },
    {
     "data": {
      "image/png": "[encoded data removed]",
      "text/plain": [
       "<Figure size 432x288 with 1 Axes>"
      ]
     },
     "metadata": {
      "needs_background": "light"
     },
     "output_type": "display_data"
    }
   ],
   "source": [
    "wordcloud = WordCloud().generate_from_frequencies(dict(data))\n",
    "plt.imshow(wordcloud)"
   ]
  },
  {
   "cell_type": "code",
   "execution_count": null,
   "metadata": {
    "id": "FQ8euxmFJ_o9"
   },
   "outputs": [],
   "source": []
  }
 ],
 "metadata": {
  "colab": {
   "collapsed_sections": [],
   "name": "nltk.ipynb",
   "provenance": []
  },
  "kernelspec": {
   "display_name": "Python 3 (ipykernel)",
   "language": "python",
   "name": "python3"
  },
  "language_info": {
   "codemirror_mode": {
    "name": "ipython",
    "version": 3
   },
   "file_extension": ".py",
   "mimetype": "text/x-python",
   "name": "python",
   "nbconvert_exporter": "python",
   "pygments_lexer": "ipython3",
   "version": "3.9.7"
  }
 },
 "nbformat": 4,
 "nbformat_minor": 1
}
