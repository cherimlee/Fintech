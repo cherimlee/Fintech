{
 "cells": [
  {
   "cell_type": "code",
   "execution_count": 41,
   "metadata": {
    "id": "IgtBgMFLSrJU"
   },
   "outputs": [],
   "source": [
    "from tensorflow.keras.models import Sequential\n",
    "from tensorflow.keras.layers import SimpleRNN, Bidirectional, LSTM, GRU"
   ]
  },
  {
   "cell_type": "markdown",
   "metadata": {
    "id": "nQpkkuD3hJYH"
   },
   "source": []
  },
  {
   "cell_type": "code",
   "execution_count": 42,
   "metadata": {
    "id": "xRq5yj5gS3bE"
   },
   "outputs": [
    {
     "name": "stdout",
     "output_type": "stream",
     "text": [
      "Model: \"sequential_7\"\n",
      "_________________________________________________________________\n",
      " Layer (type)                Output Shape              Param #   \n",
      "=================================================================\n",
      " simple_rnn_5 (SimpleRNN)    (None, 3)                 42        \n",
      "                                                                 \n",
      "=================================================================\n",
      "Total params: 42\n",
      "Trainable params: 42\n",
      "Non-trainable params: 0\n",
      "_________________________________________________________________\n"
     ]
    }
   ],
   "source": [
    "model = Sequential()\n",
    "model.add(SimpleRNN(3, input_shape=(2,10)))\n",
    "model.summary()"
   ]
  },
  {
   "cell_type": "code",
   "execution_count": 43,
   "metadata": {
    "id": "7fxduc2vS37G"
   },
   "outputs": [
    {
     "name": "stdout",
     "output_type": "stream",
     "text": [
      "Model: \"sequential_8\"\n",
      "_________________________________________________________________\n",
      " Layer (type)                Output Shape              Param #   \n",
      "=================================================================\n",
      " simple_rnn_6 (SimpleRNN)    (None, 2, 3)              42        \n",
      "                                                                 \n",
      " simple_rnn_7 (SimpleRNN)    (None, 3)                 21        \n",
      "                                                                 \n",
      "=================================================================\n",
      "Total params: 63\n",
      "Trainable params: 63\n",
      "Non-trainable params: 0\n",
      "_________________________________________________________________\n"
     ]
    }
   ],
   "source": [
    "model = Sequential()\n",
    "model.add(SimpleRNN(3, input_shape=(2,10), return_sequences=True))\n",
    "model.add(SimpleRNN(3, input_shape=(2,10)))\n",
    "model.summary()"
   ]
  },
  {
   "cell_type": "code",
   "execution_count": 44,
   "metadata": {
    "id": "Y9Dp8ifSS399"
   },
   "outputs": [
    {
     "name": "stdout",
     "output_type": "stream",
     "text": [
      "Model: \"sequential_9\"\n",
      "_________________________________________________________________\n",
      " Layer (type)                Output Shape              Param #   \n",
      "=================================================================\n",
      " bidirectional_4 (Bidirectio  (None, 2, 6)             84        \n",
      " nal)                                                            \n",
      "                                                                 \n",
      " bidirectional_5 (Bidirectio  (None, 6)                60        \n",
      " nal)                                                            \n",
      "                                                                 \n",
      "=================================================================\n",
      "Total params: 144\n",
      "Trainable params: 144\n",
      "Non-trainable params: 0\n",
      "_________________________________________________________________\n"
     ]
    }
   ],
   "source": [
    "model = Sequential()\n",
    "model.add(Bidirectional(SimpleRNN(3, return_sequences=True), input_shape=(2,10)))\n",
    "model.add(Bidirectional(SimpleRNN(3)))\n",
    "model.summary()"
   ]
  },
  {
   "cell_type": "code",
   "execution_count": 45,
   "metadata": {
    "id": "jLiynhQyS4Dd"
   },
   "outputs": [
    {
     "name": "stdout",
     "output_type": "stream",
     "text": [
      "Model: \"sequential_10\"\n",
      "_________________________________________________________________\n",
      " Layer (type)                Output Shape              Param #   \n",
      "=================================================================\n",
      " lstm_4 (LSTM)               (None, 3)                 168       \n",
      "                                                                 \n",
      "=================================================================\n",
      "Total params: 168\n",
      "Trainable params: 168\n",
      "Non-trainable params: 0\n",
      "_________________________________________________________________\n"
     ]
    }
   ],
   "source": [
    "model = Sequential()\n",
    "model.add(LSTM(3, input_shape=(2,10)))\n",
    "model.summary()"
   ]
  },
  {
   "cell_type": "code",
   "execution_count": 46,
   "metadata": {
    "id": "jITSaDsjS4GG"
   },
   "outputs": [
    {
     "name": "stdout",
     "output_type": "stream",
     "text": [
      "Model: \"sequential_11\"\n",
      "_________________________________________________________________\n",
      " Layer (type)                Output Shape              Param #   \n",
      "=================================================================\n",
      " gru_1 (GRU)                 (None, 3)                 135       \n",
      "                                                                 \n",
      "=================================================================\n",
      "Total params: 135\n",
      "Trainable params: 135\n",
      "Non-trainable params: 0\n",
      "_________________________________________________________________\n"
     ]
    }
   ],
   "source": [
    "model = Sequential()\n",
    "model.add(GRU(3, input_shape=(2,10)))\n",
    "model.summary()"
   ]
  },
  {
   "cell_type": "markdown",
   "metadata": {
    "id": "pmKHJsnYS4Iu"
   },
   "source": [
    "### reuter news text classification\n",
    "* 케라스에서 제공하는 로이터 뉴스 데이터를 LSTM을 이용하여 텍스트 분류\n",
    "* 로이터 뉴스 기사 데이터는 총 11,258개의 뉴스 기사가 46개의 뉴스 카테고리로 분류"
   ]
  },
  {
   "cell_type": "code",
   "execution_count": 47,
   "metadata": {
    "id": "q9s7G9ZCVrJf"
   },
   "outputs": [],
   "source": [
    "from tensorflow.keras.datasets import reuters\n",
    "import matplotlib.pyplot as plt\n",
    "import pandas as pd\n",
    "import numpy as np\n",
    "import seaborn as sns"
   ]
  },
  {
   "cell_type": "code",
   "execution_count": 48,
   "metadata": {
    "id": "-2ZUcif9VrMm"
   },
   "outputs": [],
   "source": [
    "(x_train, y_train), (x_test, y_test) = reuters.load_data(test_split=0.2)"
   ]
  },
  {
   "cell_type": "code",
   "execution_count": 49,
   "metadata": {
    "id": "zBLourQIVrPn"
   },
   "outputs": [
    {
     "name": "stdout",
     "output_type": "stream",
     "text": [
      "(8982,)\n"
     ]
    }
   ],
   "source": [
    "print(x_train.shape)"
   ]
  },
  {
   "cell_type": "code",
   "execution_count": 50,
   "metadata": {
    "id": "oDWLpO4hVrV2"
   },
   "outputs": [
    {
     "name": "stdout",
     "output_type": "stream",
     "text": [
      "(2246,)\n"
     ]
    }
   ],
   "source": [
    "print(x_test.shape)"
   ]
  },
  {
   "cell_type": "code",
   "execution_count": 51,
   "metadata": {
    "id": "HdR2CKEES4Om"
   },
   "outputs": [
    {
     "data": {
      "text/plain": [
       "87"
      ]
     },
     "execution_count": 51,
     "metadata": {},
     "output_type": "execute_result"
    }
   ],
   "source": [
    "len(x_train[0])"
   ]
  },
  {
   "cell_type": "code",
   "execution_count": 52,
   "metadata": {
    "id": "EN3fbqsaWP7H"
   },
   "outputs": [
    {
     "name": "stdout",
     "output_type": "stream",
     "text": [
      "[1, 27595, 28842, 8, 43, 10, 447, 5, 25, 207, 270, 5, 3095, 111, 16, 369, 186, 90, 67, 7, 89, 5, 19, 102, 6, 19, 124, 15, 90, 67, 84, 22, 482, 26, 7, 48, 4, 49, 8, 864, 39, 209, 154, 6, 151, 6, 83, 11, 15, 22, 155, 11, 15, 7, 48, 9, 4579, 1005, 504, 6, 258, 6, 272, 11, 15, 22, 134, 44, 11, 15, 16, 8, 197, 1245, 90, 67, 52, 29, 209, 30, 32, 132, 6, 109, 15, 17, 12]\n"
     ]
    }
   ],
   "source": [
    "# 훈련용 뉴스 기사 데이터인 X_train 중 첫번째 뉴스 기사인 X_train[0]에는 정수의 나열이 저장\n",
    "# 텍스트가 아닌, 토큰화와 정수 인코딩(각 단어를 정수로 변환)이 끝난 데이터\n",
    "\n",
    "print(x_train[0])"
   ]
  },
  {
   "cell_type": "code",
   "execution_count": null,
   "metadata": {
    "id": "3HAHoy4CWdiv"
   },
   "outputs": [],
   "source": []
  },
  {
   "cell_type": "code",
   "execution_count": 53,
   "metadata": {
    "id": "ByiHYX65Wilw"
   },
   "outputs": [
    {
     "data": {
      "text/plain": [
       "2376"
      ]
     },
     "execution_count": 53,
     "metadata": {},
     "output_type": "execute_result"
    }
   ],
   "source": [
    "# 제일 긴 기사 \n",
    "max([len(l) for l in x_train])"
   ]
  },
  {
   "cell_type": "code",
   "execution_count": 54,
   "metadata": {},
   "outputs": [
    {
     "name": "stdout",
     "output_type": "stream",
     "text": [
      "뉴스 기사의 최대 길이 :2376\n",
      "뉴스 기사의 평균 길이 :145.5398574927633\n"
     ]
    }
   ],
   "source": [
    "print('뉴스 기사의 최대 길이 :{}'.format(max(len(l) for l in x_train)))\n",
    "print('뉴스 기사의 평균 길이 :{}'.format(sum(map(len, x_train))/len(x_train)))"
   ]
  },
  {
   "cell_type": "code",
   "execution_count": 55,
   "metadata": {
    "id": "icI9l9etWirH",
    "scrolled": true
   },
   "outputs": [
    {
     "data": {
      "image/png": "[encoded data removed]",
      "text/plain": [
       "<Figure size 1080x360 with 1 Axes>"
      ]
     },
     "metadata": {},
     "output_type": "display_data"
    }
   ],
   "source": [
    "plt.figure(figsize=(15,5))\n",
    "plt.hist([len(l) for l in x_train], bins=100)\n",
    "plt.xlabel('length of samples')\n",
    "plt.ylabel('number of samples')\n",
    "plt.style.use('ggplot')\n",
    "plt.show()"
   ]
  },
  {
   "cell_type": "code",
   "execution_count": 56,
   "metadata": {},
   "outputs": [
    {
     "name": "stderr",
     "output_type": "stream",
     "text": [
      "C:\\Users\\bitcamp\\anaconda3\\lib\\site-packages\\seaborn\\_decorators.py:36: FutureWarning: Pass the following variable as a keyword arg: x. From version 0.12, the only valid positional argument will be `data`, and passing other arguments without an explicit keyword will result in an error or misinterpretation.\n",
      "  warnings.warn(\n"
     ]
    },
    {
     "data": {
      "text/plain": [
       "<AxesSubplot:ylabel='count'>"
      ]
     },
     "execution_count": 56,
     "metadata": {},
     "output_type": "execute_result"
    },
    {
     "data": {
      "image/png": "[encoded data removed]",
      "text/plain": [
       "<Figure size 864x360 with 1 Axes>"
      ]
     },
     "metadata": {},
     "output_type": "display_data"
    }
   ],
   "source": [
    "# 3, 4가 가장 많은 레이블을 차지\n",
    "\n",
    "fig, axe = plt.subplots(ncols=1)\n",
    "fig.set_size_inches(12,5)\n",
    "sns.countplot(y_train)"
   ]
  },
  {
   "cell_type": "code",
   "execution_count": 57,
   "metadata": {
    "colab": {
     "base_uri": "https://localhost:8080/"
    },
    "id": "NFyXSlHJWiuH",
    "outputId": "e79c8c12-3c3b-4bf7-b501-81cf5474312a"
   },
   "outputs": [
    {
     "data": {
      "text/plain": [
       "array([ 3,  4,  3, ..., 25,  3, 25], dtype=int64)"
      ]
     },
     "execution_count": 57,
     "metadata": {},
     "output_type": "execute_result"
    }
   ],
   "source": [
    "y_train"
   ]
  },
  {
   "cell_type": "code",
   "execution_count": 58,
   "metadata": {
    "id": "XPBQrChqWiww"
   },
   "outputs": [
    {
     "data": {
      "text/plain": [
       "3     3159\n",
       "4     1949\n",
       "19     549\n",
       "16     444\n",
       "1      432\n",
       "11     390\n",
       "20     269\n",
       "13     172\n",
       "8      139\n",
       "10     124\n",
       "9      101\n",
       "21     100\n",
       "25      92\n",
       "2       74\n",
       "18      66\n",
       "24      62\n",
       "0       55\n",
       "34      50\n",
       "12      49\n",
       "36      49\n",
       "28      48\n",
       "6       48\n",
       "30      45\n",
       "23      41\n",
       "31      39\n",
       "17      39\n",
       "40      36\n",
       "32      32\n",
       "41      30\n",
       "14      26\n",
       "39      24\n",
       "26      24\n",
       "43      21\n",
       "15      20\n",
       "37      19\n",
       "38      19\n",
       "29      19\n",
       "45      18\n",
       "5       17\n",
       "7       16\n",
       "27      15\n",
       "22      15\n",
       "42      13\n",
       "44      12\n",
       "33      11\n",
       "35      10\n",
       "dtype: int64"
      ]
     },
     "execution_count": 58,
     "metadata": {},
     "output_type": "execute_result"
    }
   ],
   "source": [
    "pd.Series(y_train).value_counts()"
   ]
  },
  {
   "cell_type": "code",
   "execution_count": 59,
   "metadata": {
    "colab": {
     "base_uri": "https://localhost:8080/"
    },
    "id": "QTtuAz-6Wizf",
    "outputId": "fa6a653e-4e11-43f9-eb34-56dd7f8687dc"
   },
   "outputs": [
    {
     "data": {
      "text/plain": [
       "45"
      ]
     },
     "execution_count": 59,
     "metadata": {},
     "output_type": "execute_result"
    }
   ],
   "source": [
    "max(y_train)"
   ]
  },
  {
   "cell_type": "code",
   "execution_count": 60,
   "metadata": {
    "id": "5BOvHzUnWi2Y"
   },
   "outputs": [
    {
     "data": {
      "text/plain": [
       "{'mdbl': 10996,\n",
       " 'fawc': 16260,\n",
       " 'degussa': 12089,\n",
       " 'woods': 8803,\n",
       " 'hanging': 13796,\n",
       " 'localized': 20672,\n",
       " 'sation': 20673,\n",
       " 'chanthaburi': 20675,\n",
       " 'refunding': 10997,\n",
       " 'hermann': 8804,\n",
       " 'passsengers': 20676,\n",
       " 'stipulate': 20677,\n",
       " 'heublein': 8352,\n",
       " 'screaming': 20713,\n",
       " 'tcby': 16261,\n",
       " 'four': 185,\n",
       " 'grains': 1642,\n",
       " 'broiler': 20680,\n",
       " 'wooden': 12090,\n",
       " 'wednesday': 1220,\n",
       " 'highveld': 13797,\n",
       " 'duffour': 7593,\n",
       " '0053': 20681,\n",
       " 'elections': 3914,\n",
       " '270': 2563,\n",
       " '271': 3551,\n",
       " '272': 5113,\n",
       " '273': 3552,\n",
       " '274': 3400,\n",
       " 'rudman': 7975,\n",
       " '276': 3401,\n",
       " '277': 3478,\n",
       " '278': 3632,\n",
       " '279': 4309,\n",
       " 'dormancy': 9381,\n",
       " 'errors': 7247,\n",
       " 'deferred': 3086,\n",
       " 'sptnd': 20683,\n",
       " 'cooking': 8805,\n",
       " 'stratabit': 20684,\n",
       " 'designing': 16262,\n",
       " 'metalurgicos': 20685,\n",
       " 'databank': 13798,\n",
       " '300er': 20686,\n",
       " 'shocks': 20687,\n",
       " 'nawg': 7972,\n",
       " 'tnta': 20688,\n",
       " 'perforations': 20689,\n",
       " 'affiliates': 2891,\n",
       " '27p': 20690,\n",
       " 'ching': 16263,\n",
       " 'china': 595,\n",
       " 'wagyu': 16264,\n",
       " 'affiliated': 3189,\n",
       " 'chino': 16265,\n",
       " 'chinh': 16266,\n",
       " 'slickline': 20692,\n",
       " 'doldrums': 13799,\n",
       " 'kids': 12092,\n",
       " 'climbed': 3028,\n",
       " 'controversy': 6693,\n",
       " 'kidd': 20693,\n",
       " 'spotty': 12093,\n",
       " 'rebel': 12639,\n",
       " 'millimetres': 9382,\n",
       " 'golden': 4007,\n",
       " 'projection': 5689,\n",
       " 'stern': 12094,\n",
       " \"hudson's\": 7903,\n",
       " 'dna': 10066,\n",
       " 'dnc': 20695,\n",
       " 'hodler': 20696,\n",
       " 'lme': 2394,\n",
       " 'insolvancy': 20697,\n",
       " 'music': 13800,\n",
       " 'therefore': 1984,\n",
       " 'dns': 10998,\n",
       " 'distortions': 6959,\n",
       " 'thassos': 13801,\n",
       " 'populations': 20698,\n",
       " 'meteorologist': 8806,\n",
       " 'loss': 43,\n",
       " 'exco': 9383,\n",
       " 'adventist': 20813,\n",
       " 'murchison': 16267,\n",
       " 'locked': 10999,\n",
       " 'kampala': 13802,\n",
       " 'arndt': 20699,\n",
       " 'nakasone': 1267,\n",
       " 'steinweg': 20700,\n",
       " \"india's\": 3633,\n",
       " 'wang': 3029,\n",
       " 'wane': 10067,\n",
       " 'unjust': 13803,\n",
       " 'titanium': 13804,\n",
       " 'want': 850,\n",
       " 'pinto': 20701,\n",
       " \"institutes'\": 16268,\n",
       " 'absolute': 7973,\n",
       " 'travel': 4677,\n",
       " 'cutback': 6422,\n",
       " 'nazmi': 16269,\n",
       " 'modest': 1858,\n",
       " 'shopwell': 16270,\n",
       " 'sedi': 20702,\n",
       " 'adoped': 20703,\n",
       " 'tulis': 16271,\n",
       " '18th': 20704,\n",
       " \"wmc's\": 20705,\n",
       " 'menlo': 20706,\n",
       " 'reiners': 11000,\n",
       " 'farmlands': 12095,\n",
       " 'nonsensical': 20707,\n",
       " 'elisra': 20708,\n",
       " 'welcomed': 2461,\n",
       " 'peup': 20709,\n",
       " \"holiday's\": 16272,\n",
       " 'activating': 20711,\n",
       " 'avondale': 16273,\n",
       " 'interational': 16274,\n",
       " 'welcomes': 20712,\n",
       " 'fip': 16275,\n",
       " 'tailings': 11001,\n",
       " 'fit': 4205,\n",
       " 'lifeline': 16276,\n",
       " 'bringing': 1916,\n",
       " 'fix': 4819,\n",
       " '624': 6164,\n",
       " 'naturalite': 12096,\n",
       " 'wales': 6165,\n",
       " 'fin': 8807,\n",
       " 'fio': 11129,\n",
       " 'ceremenony': 20714,\n",
       " 'sovr': 20715,\n",
       " \"yeo's\": 20716,\n",
       " 'effects': 1788,\n",
       " 'sixteen': 13805,\n",
       " 'undeveloped': 8808,\n",
       " 'glutted': 13806,\n",
       " 'barton': 20717,\n",
       " 'froday': 20718,\n",
       " 'arrow': 10089,\n",
       " 'stabilises': 11002,\n",
       " 'allan': 6960,\n",
       " '374p': 20719,\n",
       " '393': 3891,\n",
       " '392': 4008,\n",
       " '391': 4206,\n",
       " '390': 3079,\n",
       " '397': 4550,\n",
       " '396': 6166,\n",
       " '395': 6423,\n",
       " '394': 4207,\n",
       " '399': 6961,\n",
       " '398': 4208,\n",
       " 'stabilised': 7595,\n",
       " 'smelters': 5114,\n",
       " 'oprah': 20720,\n",
       " 'orginially': 20721,\n",
       " \"tvx's\": 20722,\n",
       " 'ponomarev': 16278,\n",
       " 'enviroment': 20723,\n",
       " \"reeves'\": 20724,\n",
       " 'mason': 8363,\n",
       " 'encourage': 1670,\n",
       " 'adapt': 7596,\n",
       " 'abbott': 12776,\n",
       " 'stamping': 13808,\n",
       " 'colquiri': 20726,\n",
       " 'ambrit': 11003,\n",
       " 'strata': 8353,\n",
       " 'corrects': 4821,\n",
       " 'sandra': 11922,\n",
       " 'estimate': 859,\n",
       " 'universally': 20727,\n",
       " 'chlorine': 20728,\n",
       " 'competes': 16279,\n",
       " 'leiner': 10068,\n",
       " 'ministries': 8809,\n",
       " 'disturbed': 8810,\n",
       " 'competed': 13809,\n",
       " 'juergen': 8811,\n",
       " 'kfw': 13810,\n",
       " 'turben': 11004,\n",
       " 'reintroduced': 9384,\n",
       " 'maladies': 20729,\n",
       " 'chevron': 4101,\n",
       " 'lazere': 16280,\n",
       " 'antilles': 8812,\n",
       " 'dti': 11907,\n",
       " 'specially': 9070,\n",
       " 'bilzerian': 4678,\n",
       " 'bakelite': 13811,\n",
       " 'renovated': 20730,\n",
       " 'service': 568,\n",
       " 'payless': 16281,\n",
       " 'spiegler': 20731,\n",
       " 'needed': 831,\n",
       " 'wigglesworth': 16282,\n",
       " 'master': 6962,\n",
       " 'antonson': 13812,\n",
       " 'genesis': 20732,\n",
       " 'vismara': 13813,\n",
       " 'organically': 20734,\n",
       " \"accords'\": 20735,\n",
       " 'task': 5940,\n",
       " 'positively': 7974,\n",
       " 'feasibility': 3479,\n",
       " 'ahmed': 6963,\n",
       " \"suralco's\": 13814,\n",
       " 'awacs': 20736,\n",
       " 'idly': 16283,\n",
       " 'regulator': 20737,\n",
       " 'pseudorabies': 12097,\n",
       " 'staubli': 16284,\n",
       " 'nzi': 8813,\n",
       " 'feeling': 5115,\n",
       " '275': 3127,\n",
       " '6819': 20738,\n",
       " 'gorman': 16285,\n",
       " 'sustaining': 8354,\n",
       " 'spectrum': 9385,\n",
       " 'consenting': 20739,\n",
       " 'recapitalized': 12098,\n",
       " 'sailed': 11562,\n",
       " 'dozen': 7597,\n",
       " 'affairs': 1985,\n",
       " 'courier': 2253,\n",
       " 'kremlin': 8355,\n",
       " 'shipments': 895,\n",
       " \"aquino's\": 16286,\n",
       " 'committing': 10070,\n",
       " 'sugarcane': 5293,\n",
       " 'diminishing': 9386,\n",
       " 'vexing': 16287,\n",
       " 'simplify': 11005,\n",
       " 'mouth': 6167,\n",
       " 'steinhardt': 7248,\n",
       " 'conceded': 8814,\n",
       " 'bradford': 9387,\n",
       " 'singer': 7976,\n",
       " '5602': 20740,\n",
       " \"1987's\": 13816,\n",
       " 'tech': 4950,\n",
       " 'teck': 6424,\n",
       " 'majv': 20741,\n",
       " 'saying': 666,\n",
       " 'dickey': 16477,\n",
       " 'sweetner': 20742,\n",
       " 'teresa': 21149,\n",
       " 'ulcer': 20743,\n",
       " 'cheaply': 13817,\n",
       " 'thai': 2361,\n",
       " 'orleans': 6964,\n",
       " 'excavator': 16290,\n",
       " 'rico': 6168,\n",
       " 'lube': 12099,\n",
       " 'rick': 13818,\n",
       " 'rich': 4679,\n",
       " 'kerna': 13819,\n",
       " 'rice': 950,\n",
       " 'rica': 4209,\n",
       " 'plate': 5503,\n",
       " 'platt': 16291,\n",
       " 'altogether': 8356,\n",
       " 'jaguar': 8815,\n",
       " 'dynair': 20744,\n",
       " 'patch': 8816,\n",
       " 'ldp': 2892,\n",
       " 'boarded': 13820,\n",
       " 'precluding': 16292,\n",
       " 'clarified': 11006,\n",
       " 'sensitivity': 16293,\n",
       " 'alternative': 1511,\n",
       " 'clarifies': 11007,\n",
       " 'lots': 5116,\n",
       " 'irs': 7598,\n",
       " 'irv': 20745,\n",
       " 'iri': 13821,\n",
       " 'ira': 13822,\n",
       " 'timber': 5690,\n",
       " 'ire': 20746,\n",
       " 'discipline': 5219,\n",
       " 'extend': 1937,\n",
       " 'nature': 3634,\n",
       " \"amb's\": 16295,\n",
       " 'dunhill': 16296,\n",
       " 'extent': 2142,\n",
       " 'restrcitions': 20747,\n",
       " 'heating': 2396,\n",
       " \"mannesmann's\": 11008,\n",
       " 'outsanding': 20748,\n",
       " 'multimillions': 20749,\n",
       " 'sarcinelli': 13824,\n",
       " 'southeastern': 6694,\n",
       " 'eradicate': 10071,\n",
       " 'libyan': 9388,\n",
       " 'foreclosing': 20750,\n",
       " 'maclaine': 12101,\n",
       " 'fra': 20751,\n",
       " 'union': 353,\n",
       " 'frn': 11009,\n",
       " 'much': 386,\n",
       " 'fry': 12102,\n",
       " 'mothball': 20752,\n",
       " 'chlorazepate': 10072,\n",
       " 'dxns': 12103,\n",
       " 'toyko': 19981,\n",
       " 'spit': 20753,\n",
       " '007050': 16297,\n",
       " 'freehold': 16298,\n",
       " 'davy': 13825,\n",
       " 'dave': 11010,\n",
       " 'spie': 12177,\n",
       " 'aguayo': 10117,\n",
       " 'wildcat': 12104,\n",
       " 'fecs': 10069,\n",
       " 'kennan': 20754,\n",
       " 'intal': 16299,\n",
       " 'contingencies': 9389,\n",
       " 'professionally': 16551,\n",
       " 'microbiological': 16300,\n",
       " 'misconstrued': 20756,\n",
       " 'k': 409,\n",
       " 'securitiesd': 20757,\n",
       " 'deferring': 16301,\n",
       " 'kohl': 5941,\n",
       " 'conditioned': 3030,\n",
       " 'fnhb': 20758,\n",
       " \"october's\": 16302,\n",
       " 'memorial': 13954,\n",
       " 'democracies': 6965,\n",
       " 'conformed': 27520,\n",
       " 'split': 464,\n",
       " \"bond's\": 12105,\n",
       " 'thinly': 11112,\n",
       " 'dunkirk': 16515,\n",
       " 'cavanaugh': 16303,\n",
       " \"securities'\": 13827,\n",
       " 'marches': 21345,\n",
       " 'issam': 16304,\n",
       " 'workforce': 2020,\n",
       " 'meinert': 12106,\n",
       " 'boiler': 13828,\n",
       " \"bp's\": 5294,\n",
       " 'torpedoed': 16305,\n",
       " 'indidate': 20762,\n",
       " 'downwardly': 13829,\n",
       " 'viviez': 20763,\n",
       " 'vladiminovich': 20764,\n",
       " 'academic': 16306,\n",
       " 'architecural': 20765,\n",
       " 'corporate': 1117,\n",
       " 'appropriately': 16307,\n",
       " 'teicc': 20766,\n",
       " \"hanover's\": 20767,\n",
       " 'aristech': 8817,\n",
       " 'portrayed': 20768,\n",
       " 'raffineries': 21383,\n",
       " 'hai': 20770,\n",
       " 'hal': 7599,\n",
       " 'ham': 13830,\n",
       " 'han': 10073,\n",
       " 'e15b': 20771,\n",
       " 'had': 61,\n",
       " 'hay': 20772,\n",
       " 'botchwey': 13831,\n",
       " 'haq': 10074,\n",
       " 'has': 37,\n",
       " 'hat': 13832,\n",
       " 'hav': 20773,\n",
       " 'fortin': 20774,\n",
       " 'municipal': 8818,\n",
       " 'osman': 20775,\n",
       " 'fsical': 20776,\n",
       " 'elders': 3480,\n",
       " 'survival': 12107,\n",
       " 'unequivocally': 16308,\n",
       " 'objective': 2519,\n",
       " 'indicative': 6695,\n",
       " 'shadow': 10075,\n",
       " 'riskiness': 21411,\n",
       " 'positiive': 20778,\n",
       " \"american's\": 10076,\n",
       " 'alick': 16309,\n",
       " 'harima': 16310,\n",
       " 'alice': 12108,\n",
       " 'altschul': 20779,\n",
       " 'festivities': 16311,\n",
       " 'medecines': 20780,\n",
       " 'beneficial': 2942,\n",
       " 'yoweri': 12109,\n",
       " 'crowd': 13833,\n",
       " 'crowe': 9390,\n",
       " 'crown': 3553,\n",
       " 'topping': 13679,\n",
       " 'captive': 8819,\n",
       " 'billboard': 12110,\n",
       " 'fiduciary': 6169,\n",
       " 'bottom': 3402,\n",
       " 'plucked': 20782,\n",
       " 'locksmithing': 20783,\n",
       " 'ecopetrol': 9391,\n",
       " 'pipestone': 24018,\n",
       " \"growers'\": 5505,\n",
       " 'borrows': 20785,\n",
       " 'eduard': 16312,\n",
       " 'venpres': 13834,\n",
       " 'bamboo': 16313,\n",
       " 'foolish': 13835,\n",
       " 'uruguyan': 20786,\n",
       " 'officeholders': 20787,\n",
       " 'economiques': 20788,\n",
       " 'aden': 16314,\n",
       " 'maxwell': 4822,\n",
       " 'marshall': 4680,\n",
       " 'honeymoon': 16315,\n",
       " 'administer': 16316,\n",
       " 'shoots': 20790,\n",
       " 'rubbertech': 16317,\n",
       " 'johsen': 16318,\n",
       " 'reciprocity': 10077,\n",
       " 'fabric': 13836,\n",
       " 'suffice': 20791,\n",
       " 'spokemsan': 20792,\n",
       " \"sonora's\": 20793,\n",
       " '5865': 16319,\n",
       " \"systems'\": 16320,\n",
       " 'perfumes': 20794,\n",
       " 'halycon': 20795,\n",
       " 'nonvoting': 20796,\n",
       " 'safeguard': 7250,\n",
       " 'sawdust': 21538,\n",
       " \"else's\": 20797,\n",
       " 'arrays': 13837,\n",
       " 'aza': 20798,\n",
       " 'smasher': 20799,\n",
       " 'complications': 12111,\n",
       " 'pesos': 1813,\n",
       " 'relabelling': 20800,\n",
       " 'passenger': 3722,\n",
       " \"avon's\": 12112,\n",
       " 'megahertz': 20801,\n",
       " 'mirror': 10683,\n",
       " 'minas': 8357,\n",
       " 'bourdain': 16322,\n",
       " 'crownx': 20802,\n",
       " 'eventual': 6425,\n",
       " 'crowns': 1207,\n",
       " 'role': 1369,\n",
       " 'obliges': 20803,\n",
       " 'rolf': 16323,\n",
       " 'vegetative': 13838,\n",
       " 'rolm': 20804,\n",
       " 'roll': 4419,\n",
       " 'intend': 2463,\n",
       " 'palms': 16324,\n",
       " 'denys': 19255,\n",
       " 'transported': 13839,\n",
       " 'moresby': 20805,\n",
       " 'devon': 16325,\n",
       " 'intent': 1351,\n",
       " \"camco's\": 20806,\n",
       " 'variable': 5942,\n",
       " 'transporter': 20807,\n",
       " 'danske': 16326,\n",
       " 'friedhelm': 13840,\n",
       " 'hawker': 8358,\n",
       " \"sand's\": 17774,\n",
       " 'preseving': 20808,\n",
       " '80386': 12113,\n",
       " 'bnls': 16328,\n",
       " 'ordination': 19984,\n",
       " 'overturned': 11011,\n",
       " 'erred': 16329,\n",
       " 'cincinnati': 6696,\n",
       " 'corps': 16710,\n",
       " 'whoever': 20809,\n",
       " 'osp': 16330,\n",
       " 'osr': 13841,\n",
       " 'ost': 12114,\n",
       " 'chair': 16331,\n",
       " '690': 5647,\n",
       " 'grapples': 20810,\n",
       " 'megawatts': 13842,\n",
       " 'photocopiers': 20811,\n",
       " 'sconninx': 20812,\n",
       " 'circumstances': 2274,\n",
       " 'oversight': 13843,\n",
       " \"paradyne's\": 20814,\n",
       " '691': 6363,\n",
       " 'paychecks': 20815,\n",
       " \"stadelmann's\": 13844,\n",
       " 'choice': 3241,\n",
       " 'vastagh': 11012,\n",
       " 'embark': 8820,\n",
       " 'gloomy': 9392,\n",
       " 'stays': 9393,\n",
       " 'exact': 4009,\n",
       " 'minute': 5117,\n",
       " 'kittiwake': 11892,\n",
       " 'picul': 20816,\n",
       " 'skewed': 20817,\n",
       " 'cooke': 11013,\n",
       " 'defaults': 10078,\n",
       " 'reimpose': 11014,\n",
       " 'hindered': 9394,\n",
       " 'lengthened': 20818,\n",
       " 'chopping': 16333,\n",
       " 'mckiernan': 13845,\n",
       " 'collaspe': 20819,\n",
       " 'corazon': 7251,\n",
       " 'antwerp': 7600,\n",
       " 'abdullah': 13846,\n",
       " 'goldston': 13847,\n",
       " '300': 442,\n",
       " 'cassa': 20821,\n",
       " 'casse': 20822,\n",
       " '695': 4081,\n",
       " 'ground': 2979,\n",
       " 'boost': 839,\n",
       " 'azusa': 16334,\n",
       " 'drafted': 9395,\n",
       " '303': 4823,\n",
       " 'climbs': 13848,\n",
       " 'honour': 7601,\n",
       " 'vanderbilt': 20823,\n",
       " '305': 3968,\n",
       " 'address': 3031,\n",
       " 'dwindling': 8821,\n",
       " 'benson': 7252,\n",
       " 'enroll': 12115,\n",
       " 'revenues': 501,\n",
       " 'impacted': 12116,\n",
       " 'queue': 20826,\n",
       " 'accomplished': 10079,\n",
       " 'throughput': 7602,\n",
       " 'influx': 9396,\n",
       " 'stockbuilding': 10080,\n",
       " 'aproximates': 20827,\n",
       " 'petroleo': 13849,\n",
       " 'sistemas': 16335,\n",
       " 'feretti': 14053,\n",
       " 'opposes': 5943,\n",
       " 'working': 882,\n",
       " 'perished': 20829,\n",
       " 'oldham': 13850,\n",
       " '27000': 20830,\n",
       " 'optimize': 19245,\n",
       " 'vigour': 20832,\n",
       " 'opposed': 1580,\n",
       " 'liberalizing': 16336,\n",
       " 'wvz': 20833,\n",
       " 'dampness': 20834,\n",
       " 'approving': 13851,\n",
       " 'sierra': 13496,\n",
       " 'entrepot': 20835,\n",
       " 'currency': 224,\n",
       " 'originally': 1499,\n",
       " 'tindemans': 20837,\n",
       " 'valorem': 16337,\n",
       " 'following': 477,\n",
       " 'fossen': 20838,\n",
       " 'locke': 11016,\n",
       " 'employess': 20839,\n",
       " 'rotberg': 12117,\n",
       " 'parachute': 16338,\n",
       " 'locks': 11017,\n",
       " 'incremental': 12255,\n",
       " 'woolowrth': 16339,\n",
       " 'listens': 20841,\n",
       " 'litre': 7253,\n",
       " 'edouard': 3554,\n",
       " 'ounce': 1377,\n",
       " 'nicanor': 20843,\n",
       " 'sucocitrico': 20844,\n",
       " 'minicomputers': 16340,\n",
       " \"silva's\": 16341,\n",
       " 'restitutions': 11018,\n",
       " 'custer': 16342,\n",
       " '3rd': 2590,\n",
       " 'fueled': 10081,\n",
       " 'trydahl': 20845,\n",
       " 'aice': 11019,\n",
       " 'harmon': 12118,\n",
       " 'conscious': 10082,\n",
       " 'herbicidesand': 20846,\n",
       " 'subdivisions': 20847,\n",
       " \"veslefrikk's\": 20848,\n",
       " 'swollen': 11020,\n",
       " 'pulled': 7978,\n",
       " 'tilney': 20849,\n",
       " 'years': 203,\n",
       " 'structuring': 20850,\n",
       " 'episodes': 20851,\n",
       " 'sportscene': 16343,\n",
       " \"northair's\": 16344,\n",
       " 'jig': 20852,\n",
       " 'jin': 20853,\n",
       " 'jim': 3403,\n",
       " 'troubles': 8359,\n",
       " 'workforces': 13852,\n",
       " 'suspension': 2362,\n",
       " 'troubled': 3892,\n",
       " 'fondiaria': 16345,\n",
       " 'modestly': 6697,\n",
       " 'recipients': 12119,\n",
       " 'civilian': 7979,\n",
       " 'indigenous': 13853,\n",
       " 'overpowering': 20854,\n",
       " 'drilling': 1051,\n",
       " 'sorted': 16346,\n",
       " 'lichtenstein': 16347,\n",
       " 'bedevil': 20855,\n",
       " 'dispite': 20856,\n",
       " 'battleships': 16843,\n",
       " 'instability': 4824,\n",
       " 'quarter': 95,\n",
       " 'salado': 20857,\n",
       " 'honduras': 5692,\n",
       " \"chevron's\": 13855,\n",
       " \"lazere's\": 12273,\n",
       " 'receipt': 2660,\n",
       " 'sponsor': 8360,\n",
       " 'entering': 4825,\n",
       " \"kcbt's\": 16349,\n",
       " 'nowicki': 19987,\n",
       " 'salads': 13856,\n",
       " 'augar': 16351,\n",
       " '797': 7980,\n",
       " '796': 7254,\n",
       " '795': 8361,\n",
       " '794': 5295,\n",
       " '793': 5118,\n",
       " '792': 6170,\n",
       " '791': 5296,\n",
       " '790': 4826,\n",
       " \"nikko's\": 20858,\n",
       " 'unsaleable': 20859,\n",
       " '799': 5720,\n",
       " '798': 5693,\n",
       " 'seriously': 2143,\n",
       " 'trauma': 16352,\n",
       " 'tvbh': 20860,\n",
       " 'macedon': 20861,\n",
       " 'disintegrated': 21906,\n",
       " 'adddition': 21909,\n",
       " 'incentives': 2244,\n",
       " 'complicated': 5944,\n",
       " 'reevaluating': 20864,\n",
       " 'thatching': 21921,\n",
       " 'brasil': 7981,\n",
       " '79p': 20865,\n",
       " 'wrong': 4951,\n",
       " 'initiate': 8822,\n",
       " 'aboard': 16353,\n",
       " 'saving': 7255,\n",
       " 'spoken': 8823,\n",
       " 'parkinson': 16364,\n",
       " 'one': 65,\n",
       " 'ont': 20867,\n",
       " 'concert': 7256,\n",
       " \"boston's\": 16354,\n",
       " 'stifled': 13859,\n",
       " 'types': 4622,\n",
       " 'lingering': 20868,\n",
       " 'surges': 16356,\n",
       " 'hurdman': 20869,\n",
       " 'herds': 16357,\n",
       " 'absorbs': 14114,\n",
       " 'surged': 4681,\n",
       " 'dalkon': 14211,\n",
       " 'crossroads': 13860,\n",
       " 'shakeup': 20870,\n",
       " 'disasterous': 20871,\n",
       " 'illness': 11021,\n",
       " 'turned': 3242,\n",
       " 'locations': 3801,\n",
       " 'tyranite': 12120,\n",
       " 'minesweepers': 13861,\n",
       " 'turner': 7257,\n",
       " 'borough': 20872,\n",
       " 'underlines': 12358,\n",
       " \"bancorporation's\": 20873,\n",
       " 'fashionable': 20874,\n",
       " \"ae's\": 20875,\n",
       " 'dilutions': 16358,\n",
       " 'goodman': 9472,\n",
       " 'unlawfully': 10510,\n",
       " 'mayer': 16359,\n",
       " 'printer': 16360,\n",
       " 'offload': 20877,\n",
       " 'opposite': 13862,\n",
       " 'buffer': 738,\n",
       " 'printed': 9398,\n",
       " 'pequiven': 16361,\n",
       " 'panoche': 13863,\n",
       " 'knowingly': 20878,\n",
       " 'ecusta': 16362,\n",
       " 'thsl': 20879,\n",
       " 'phil': 8825,\n",
       " 'jitters': 13864,\n",
       " 'touche': 16363,\n",
       " 'jittery': 20881,\n",
       " 'friction': 3291,\n",
       " 'fecal': 16365,\n",
       " 'resurgance': 22068,\n",
       " 'heeding': 20882,\n",
       " 'soviets': 2363,\n",
       " 'imagined': 16366,\n",
       " 'transact': 16367,\n",
       " 'califoirnia': 20883,\n",
       " \"chrysler's\": 9399,\n",
       " 'respecitvely': 16368,\n",
       " 'presse': 16369,\n",
       " 'euromarket': 10084,\n",
       " 'guarded': 12121,\n",
       " 'satisfacotry': 16371,\n",
       " 'authroization': 20884,\n",
       " 'simplistic': 20885,\n",
       " 'monde': 20886,\n",
       " 'awaiting': 4102,\n",
       " 'recombinant': 13865,\n",
       " 'refinancement': 20887,\n",
       " 'comserv': 20888,\n",
       " 'kitakyushu': 20889,\n",
       " 'pima': 16372,\n",
       " 'basle': 11022,\n",
       " '6250': 20891,\n",
       " 'choudhury': 16373,\n",
       " 'vision': 8826,\n",
       " 'interruptible': 20892,\n",
       " 'weatherford': 13866,\n",
       " '832': 7982,\n",
       " '833': 5694,\n",
       " '830': 4420,\n",
       " '831': 5119,\n",
       " '836': 5297,\n",
       " '837': 4553,\n",
       " '834': 6172,\n",
       " '835': 4952,\n",
       " 'alarming': 22144,\n",
       " '838': 5695,\n",
       " '839': 6173,\n",
       " '524p': 20893,\n",
       " 'sponsorship': 20894,\n",
       " 'vendex': 12122,\n",
       " \"amsouth's\": 20895,\n",
       " 'kilometer': 20896,\n",
       " 'enjoys': 10086,\n",
       " 'illiberal': 20897,\n",
       " 'punta': 6174,\n",
       " 'punte': 20898,\n",
       " 'girozentrale': 10087,\n",
       " 'missstatements': 20899,\n",
       " 'marietta': 10088,\n",
       " 'awards': 6175,\n",
       " 'concentrated': 3635,\n",
       " '83p': 20900,\n",
       " 'developpement': 13867,\n",
       " 'rhodes': 13868,\n",
       " 'matheson': 5696,\n",
       " '1720': 20901,\n",
       " 'paring': 20902,\n",
       " 's': 35,\n",
       " 'concentrates': 4953,\n",
       " \"can's\": 16374,\n",
       " 'polysaturated': 22183,\n",
       " 'parini': 20903,\n",
       " 'baden': 13869,\n",
       " 'bader': 20904,\n",
       " 'buoyancy': 12123,\n",
       " 'erdem': 20905,\n",
       " 'properites': 16375,\n",
       " 'comparitive': 20906,\n",
       " 'practises': 12124,\n",
       " 'collides': 20907,\n",
       " 'west': 189,\n",
       " 'wess': 20908,\n",
       " 'collided': 13870,\n",
       " 'practised': 20909,\n",
       " \"amalgamated's\": 20910,\n",
       " 'motives': 20911,\n",
       " 'wants': 1378,\n",
       " 'formed': 1273,\n",
       " 'readings': 20912,\n",
       " 'geothermal': 12125,\n",
       " 'tightened': 7315,\n",
       " \"d'or\": 11023,\n",
       " 'former': 1109,\n",
       " 'venezulean': 20913,\n",
       " 'curd': 19935,\n",
       " 'squeezes': 12126,\n",
       " 'newspaper': 1019,\n",
       " 'situation': 817,\n",
       " 'ivey': 13871,\n",
       " 'engaged': 3636,\n",
       " 'dubious': 13872,\n",
       " 'cayacq': 17061,\n",
       " 'cobol': 20916,\n",
       " 'limping': 20917,\n",
       " 'technology': 883,\n",
       " 'koerner': 20919,\n",
       " 'debilitating': 16376,\n",
       " 'verified': 7983,\n",
       " 'otto': 4010,\n",
       " '7770': 20920,\n",
       " 'emulsions': 16377,\n",
       " \"onic's\": 16378,\n",
       " 'slate': 9075,\n",
       " 'wires': 20921,\n",
       " 'edged': 5506,\n",
       " 'assigns': 20922,\n",
       " 'singapore': 1341,\n",
       " 'deflate': 20923,\n",
       " \"strategy's\": 20924,\n",
       " 'walesa': 16379,\n",
       " 'advertisement': 4554,\n",
       " 'luyten': 20925,\n",
       " 'shrortly': 20926,\n",
       " 'corpoartion': 20927,\n",
       " 'preferance': 22290,\n",
       " 'tracking': 16380,\n",
       " 'sunnyvale': 13874,\n",
       " 'colorants': 20928,\n",
       " 'persistently': 16381,\n",
       " \"officers'\": 16382,\n",
       " \"his's\": 20929,\n",
       " 'being': 367,\n",
       " 'divestitures': 7259,\n",
       " 'steamer': 20930,\n",
       " 'rover': 20931,\n",
       " 'grounded': 8362,\n",
       " \"businessmen's\": 16383,\n",
       " 'cyanidation': 16384,\n",
       " 'overthrow': 20932,\n",
       " 'partnerhip': 20933,\n",
       " 'sumt': 16385,\n",
       " 'sums': 8827,\n",
       " 'oelmuehle': 16386,\n",
       " 'unveil': 16387,\n",
       " 'gestures': 13875,\n",
       " 'penta': 20934,\n",
       " 'traffic': 2544,\n",
       " 'preference': 2428,\n",
       " 'sumi': 20935,\n",
       " 'world': 166,\n",
       " 'postal': 9400,\n",
       " 'bced': 16388,\n",
       " 'dornbush': 12128,\n",
       " 'confine': 14215,\n",
       " '2555': 20936,\n",
       " \"zambia's\": 5945,\n",
       " 'superiority': 20937,\n",
       " 'militate': 20938,\n",
       " 'satisfactory': 2395,\n",
       " 'superintendent': 20939,\n",
       " 'tvx': 5946,\n",
       " 'tvt': 16389,\n",
       " 'magma': 6698,\n",
       " 'diving': 20940,\n",
       " 'tvb': 15548,\n",
       " 'seaman': 13876,\n",
       " 'matsunaga': 11025,\n",
       " '919': 4827,\n",
       " '918': 5298,\n",
       " 'refundable': 17070,\n",
       " '914': 5947,\n",
       " '917': 7260,\n",
       " '916': 6699,\n",
       " '911': 5507,\n",
       " '910': 4828,\n",
       " 'restoring': 10213,\n",
       " '912': 4555,\n",
       " 'squabble': 20942,\n",
       " 'retains': 7261,\n",
       " \"partner's\": 20943,\n",
       " 'leadership': 5300,\n",
       " 'graaf': 11026,\n",
       " 'spacelab': 20944,\n",
       " 'thailand': 1800,\n",
       " 'graan': 9402,\n",
       " 'exasperating': 20945,\n",
       " 'hartmarx': 12129,\n",
       " 'frights': 16390,\n",
       " 'niall': 20946,\n",
       " 'johnston': 11027,\n",
       " '91p': 16391,\n",
       " 'sensitively': 16392,\n",
       " 'porsche': 6016,\n",
       " 'prepares': 15494,\n",
       " 'lively': 12130,\n",
       " 'stoppages': 10686,\n",
       " \"associated's\": 16394,\n",
       " 'pivot': 12131,\n",
       " 'series': 1037,\n",
       " 'sese': 24050,\n",
       " 'bubble': 7604,\n",
       " 'trusses': 16395,\n",
       " 'interestate': 20949,\n",
       " 'continents': 20950,\n",
       " 'societal': 20951,\n",
       " 'with': 28,\n",
       " 'pull': 6176,\n",
       " 'rush': 6700,\n",
       " 'monopoly': 6222,\n",
       " 'operationally': 20953,\n",
       " 'dirty': 20954,\n",
       " 'abuses': 10090,\n",
       " 'prudhoe': 7262,\n",
       " 'pulp': 5949,\n",
       " 'rust': 16396,\n",
       " 'hellman': 20955,\n",
       " 'amdec': 20956,\n",
       " 'australasian': 16397,\n",
       " 'watches': 13878,\n",
       " 'hypertension': 20957,\n",
       " \"hemdale's\": 20958,\n",
       " 'formulation': 16398,\n",
       " 'watched': 7605,\n",
       " 'jargon': 20959,\n",
       " 'cream': 13879,\n",
       " 'ideally': 9404,\n",
       " 'ryavec': 11028,\n",
       " 'microoganisms': 20960,\n",
       " 'indemnify': 13880,\n",
       " 'wincenty': 20961,\n",
       " 'waving': 20962,\n",
       " \"multifood's\": 20963,\n",
       " 'midges': 20964,\n",
       " 'natalie': 11029,\n",
       " 'crosbie': 13881,\n",
       " 'posible': 20965,\n",
       " 'omnibus': 13882,\n",
       " 'assetsof': 20966,\n",
       " 'tricks': 13883,\n",
       " 'rs': 16399,\n",
       " 'kilogram': 20967,\n",
       " 'pruning': 25363,\n",
       " 'dyer': 13884,\n",
       " 'dyes': 20968,\n",
       " 'legislatures': 20969,\n",
       " 'scm': 16400,\n",
       " 'sci': 9405,\n",
       " 'riedel': 20970,\n",
       " 'ceramic': 16401,\n",
       " 'unitholders': 6701,\n",
       " 'scb': 13885,\n",
       " 'dn11': 20971,\n",
       " 'conditionality': 20972,\n",
       " \"stock's\": 13807,\n",
       " 'masland': 20973,\n",
       " 'causes': 7606,\n",
       " 'riots': 10091,\n",
       " 'norf': 20974,\n",
       " 'nord': 9406,\n",
       " 'midwest': 3893,\n",
       " 'tamils': 13886,\n",
       " 'ofthe': 16402,\n",
       " \"colombia's\": 3421,\n",
       " '24th': 11030,\n",
       " 'sant': 20975,\n",
       " 'moines': 10092,\n",
       " 'electrotechnical': 22577,\n",
       " 'proceeded': 24534,\n",
       " 'sanz': 20976,\n",
       " 'insufficiently': 13887,\n",
       " 'sang': 20977,\n",
       " 'sand': 5950,\n",
       " 'bracho': 16404,\n",
       " 'small': 805,\n",
       " 'workloads': 20978,\n",
       " 'sank': 6702,\n",
       " 'kemper': 20979,\n",
       " 'abbreviated': 16405,\n",
       " 'quicker': 13888,\n",
       " '199': 3802,\n",
       " '198': 3243,\n",
       " '195': 2661,\n",
       " '194': 3080,\n",
       " '197': 4310,\n",
       " '196': 3894,\n",
       " '191': 2850,\n",
       " '190': 2199,\n",
       " '193': 3481,\n",
       " '192': 3350,\n",
       " 'past': 582,\n",
       " 'fractionation': 20980,\n",
       " 'displays': 20981,\n",
       " 'pass': 3081,\n",
       " 'investment': 202,\n",
       " 'quals': 27062,\n",
       " 'quicken': 16406,\n",
       " \"centronic's\": 20983,\n",
       " 'menswear': 20984,\n",
       " 'clock': 16407,\n",
       " 'teape': 20985,\n",
       " 'teapa': 20986,\n",
       " 'prevailed': 10093,\n",
       " 'hebei': 9407,\n",
       " ...}"
      ]
     },
     "execution_count": 60,
     "metadata": {},
     "output_type": "execute_result"
    }
   ],
   "source": [
    "# 각 단어와 그 단어에 부여된 인덱스를 리턴\n",
    "reuters.get_word_index()"
   ]
  },
  {
   "cell_type": "code",
   "execution_count": 61,
   "metadata": {
    "id": "CAQxxjbzWi5H"
   },
   "outputs": [],
   "source": [
    "word_to_index = reuters.get_word_index()"
   ]
  },
  {
   "cell_type": "code",
   "execution_count": 62,
   "metadata": {
    "id": "5CeF4geQWi8f"
   },
   "outputs": [
    {
     "data": {
      "text/plain": [
       "{10996: 'mdbl',\n",
       " 16260: 'fawc',\n",
       " 12089: 'degussa',\n",
       " 8803: 'woods',\n",
       " 13796: 'hanging',\n",
       " 20672: 'localized',\n",
       " 20673: 'sation',\n",
       " 20675: 'chanthaburi',\n",
       " 10997: 'refunding',\n",
       " 8804: 'hermann',\n",
       " 20676: 'passsengers',\n",
       " 20677: 'stipulate',\n",
       " 8352: 'heublein',\n",
       " 20713: 'screaming',\n",
       " 16261: 'tcby',\n",
       " 185: 'four',\n",
       " 1642: 'grains',\n",
       " 20680: 'broiler',\n",
       " 12090: 'wooden',\n",
       " 1220: 'wednesday',\n",
       " 13797: 'highveld',\n",
       " 7593: 'duffour',\n",
       " 20681: '0053',\n",
       " 3914: 'elections',\n",
       " 2563: '270',\n",
       " 3551: '271',\n",
       " 5113: '272',\n",
       " 3552: '273',\n",
       " 3400: '274',\n",
       " 7975: 'rudman',\n",
       " 3401: '276',\n",
       " 3478: '277',\n",
       " 3632: '278',\n",
       " 4309: '279',\n",
       " 9381: 'dormancy',\n",
       " 7247: 'errors',\n",
       " 3086: 'deferred',\n",
       " 20683: 'sptnd',\n",
       " 8805: 'cooking',\n",
       " 20684: 'stratabit',\n",
       " 16262: 'designing',\n",
       " 20685: 'metalurgicos',\n",
       " 13798: 'databank',\n",
       " 20686: '300er',\n",
       " 20687: 'shocks',\n",
       " 7972: 'nawg',\n",
       " 20688: 'tnta',\n",
       " 20689: 'perforations',\n",
       " 2891: 'affiliates',\n",
       " 20690: '27p',\n",
       " 16263: 'ching',\n",
       " 595: 'china',\n",
       " 16264: 'wagyu',\n",
       " 3189: 'affiliated',\n",
       " 16265: 'chino',\n",
       " 16266: 'chinh',\n",
       " 20692: 'slickline',\n",
       " 13799: 'doldrums',\n",
       " 12092: 'kids',\n",
       " 3028: 'climbed',\n",
       " 6693: 'controversy',\n",
       " 20693: 'kidd',\n",
       " 12093: 'spotty',\n",
       " 12639: 'rebel',\n",
       " 9382: 'millimetres',\n",
       " 4007: 'golden',\n",
       " 5689: 'projection',\n",
       " 12094: 'stern',\n",
       " 7903: \"hudson's\",\n",
       " 10066: 'dna',\n",
       " 20695: 'dnc',\n",
       " 20696: 'hodler',\n",
       " 2394: 'lme',\n",
       " 20697: 'insolvancy',\n",
       " 13800: 'music',\n",
       " 1984: 'therefore',\n",
       " 10998: 'dns',\n",
       " 6959: 'distortions',\n",
       " 13801: 'thassos',\n",
       " 20698: 'populations',\n",
       " 8806: 'meteorologist',\n",
       " 43: 'loss',\n",
       " 9383: 'exco',\n",
       " 20813: 'adventist',\n",
       " 16267: 'murchison',\n",
       " 10999: 'locked',\n",
       " 13802: 'kampala',\n",
       " 20699: 'arndt',\n",
       " 1267: 'nakasone',\n",
       " 20700: 'steinweg',\n",
       " 3633: \"india's\",\n",
       " 3029: 'wang',\n",
       " 10067: 'wane',\n",
       " 13803: 'unjust',\n",
       " 13804: 'titanium',\n",
       " 850: 'want',\n",
       " 20701: 'pinto',\n",
       " 16268: \"institutes'\",\n",
       " 7973: 'absolute',\n",
       " 4677: 'travel',\n",
       " 6422: 'cutback',\n",
       " 16269: 'nazmi',\n",
       " 1858: 'modest',\n",
       " 16270: 'shopwell',\n",
       " 20702: 'sedi',\n",
       " 20703: 'adoped',\n",
       " 16271: 'tulis',\n",
       " 20704: '18th',\n",
       " 20705: \"wmc's\",\n",
       " 20706: 'menlo',\n",
       " 11000: 'reiners',\n",
       " 12095: 'farmlands',\n",
       " 20707: 'nonsensical',\n",
       " 20708: 'elisra',\n",
       " 2461: 'welcomed',\n",
       " 20709: 'peup',\n",
       " 16272: \"holiday's\",\n",
       " 20711: 'activating',\n",
       " 16273: 'avondale',\n",
       " 16274: 'interational',\n",
       " 20712: 'welcomes',\n",
       " 16275: 'fip',\n",
       " 11001: 'tailings',\n",
       " 4205: 'fit',\n",
       " 16276: 'lifeline',\n",
       " 1916: 'bringing',\n",
       " 4819: 'fix',\n",
       " 6164: '624',\n",
       " 12096: 'naturalite',\n",
       " 6165: 'wales',\n",
       " 8807: 'fin',\n",
       " 11129: 'fio',\n",
       " 20714: 'ceremenony',\n",
       " 20715: 'sovr',\n",
       " 20716: \"yeo's\",\n",
       " 1788: 'effects',\n",
       " 13805: 'sixteen',\n",
       " 8808: 'undeveloped',\n",
       " 13806: 'glutted',\n",
       " 20717: 'barton',\n",
       " 20718: 'froday',\n",
       " 10089: 'arrow',\n",
       " 11002: 'stabilises',\n",
       " 6960: 'allan',\n",
       " 20719: '374p',\n",
       " 3891: '393',\n",
       " 4008: '392',\n",
       " 4206: '391',\n",
       " 3079: '390',\n",
       " 4550: '397',\n",
       " 6166: '396',\n",
       " 6423: '395',\n",
       " 4207: '394',\n",
       " 6961: '399',\n",
       " 4208: '398',\n",
       " 7595: 'stabilised',\n",
       " 5114: 'smelters',\n",
       " 20720: 'oprah',\n",
       " 20721: 'orginially',\n",
       " 20722: \"tvx's\",\n",
       " 16278: 'ponomarev',\n",
       " 20723: 'enviroment',\n",
       " 20724: \"reeves'\",\n",
       " 8363: 'mason',\n",
       " 1670: 'encourage',\n",
       " 7596: 'adapt',\n",
       " 12776: 'abbott',\n",
       " 13808: 'stamping',\n",
       " 20726: 'colquiri',\n",
       " 11003: 'ambrit',\n",
       " 8353: 'strata',\n",
       " 4821: 'corrects',\n",
       " 11922: 'sandra',\n",
       " 859: 'estimate',\n",
       " 20727: 'universally',\n",
       " 20728: 'chlorine',\n",
       " 16279: 'competes',\n",
       " 10068: 'leiner',\n",
       " 8809: 'ministries',\n",
       " 8810: 'disturbed',\n",
       " 13809: 'competed',\n",
       " 8811: 'juergen',\n",
       " 13810: 'kfw',\n",
       " 11004: 'turben',\n",
       " 9384: 'reintroduced',\n",
       " 20729: 'maladies',\n",
       " 4101: 'chevron',\n",
       " 16280: 'lazere',\n",
       " 8812: 'antilles',\n",
       " 11907: 'dti',\n",
       " 9070: 'specially',\n",
       " 4678: 'bilzerian',\n",
       " 13811: 'bakelite',\n",
       " 20730: 'renovated',\n",
       " 568: 'service',\n",
       " 16281: 'payless',\n",
       " 20731: 'spiegler',\n",
       " 831: 'needed',\n",
       " 16282: 'wigglesworth',\n",
       " 6962: 'master',\n",
       " 13812: 'antonson',\n",
       " 20732: 'genesis',\n",
       " 13813: 'vismara',\n",
       " 20734: 'organically',\n",
       " 20735: \"accords'\",\n",
       " 5940: 'task',\n",
       " 7974: 'positively',\n",
       " 3479: 'feasibility',\n",
       " 6963: 'ahmed',\n",
       " 13814: \"suralco's\",\n",
       " 20736: 'awacs',\n",
       " 16283: 'idly',\n",
       " 20737: 'regulator',\n",
       " 12097: 'pseudorabies',\n",
       " 16284: 'staubli',\n",
       " 8813: 'nzi',\n",
       " 5115: 'feeling',\n",
       " 3127: '275',\n",
       " 20738: '6819',\n",
       " 16285: 'gorman',\n",
       " 8354: 'sustaining',\n",
       " 9385: 'spectrum',\n",
       " 20739: 'consenting',\n",
       " 12098: 'recapitalized',\n",
       " 11562: 'sailed',\n",
       " 7597: 'dozen',\n",
       " 1985: 'affairs',\n",
       " 2253: 'courier',\n",
       " 8355: 'kremlin',\n",
       " 895: 'shipments',\n",
       " 16286: \"aquino's\",\n",
       " 10070: 'committing',\n",
       " 5293: 'sugarcane',\n",
       " 9386: 'diminishing',\n",
       " 16287: 'vexing',\n",
       " 11005: 'simplify',\n",
       " 6167: 'mouth',\n",
       " 7248: 'steinhardt',\n",
       " 8814: 'conceded',\n",
       " 9387: 'bradford',\n",
       " 7976: 'singer',\n",
       " 20740: '5602',\n",
       " 13816: \"1987's\",\n",
       " 4950: 'tech',\n",
       " 6424: 'teck',\n",
       " 20741: 'majv',\n",
       " 666: 'saying',\n",
       " 16477: 'dickey',\n",
       " 20742: 'sweetner',\n",
       " 21149: 'teresa',\n",
       " 20743: 'ulcer',\n",
       " 13817: 'cheaply',\n",
       " 2361: 'thai',\n",
       " 6964: 'orleans',\n",
       " 16290: 'excavator',\n",
       " 6168: 'rico',\n",
       " 12099: 'lube',\n",
       " 13818: 'rick',\n",
       " 4679: 'rich',\n",
       " 13819: 'kerna',\n",
       " 950: 'rice',\n",
       " 4209: 'rica',\n",
       " 5503: 'plate',\n",
       " 16291: 'platt',\n",
       " 8356: 'altogether',\n",
       " 8815: 'jaguar',\n",
       " 20744: 'dynair',\n",
       " 8816: 'patch',\n",
       " 2892: 'ldp',\n",
       " 13820: 'boarded',\n",
       " 16292: 'precluding',\n",
       " 11006: 'clarified',\n",
       " 16293: 'sensitivity',\n",
       " 1511: 'alternative',\n",
       " 11007: 'clarifies',\n",
       " 5116: 'lots',\n",
       " 7598: 'irs',\n",
       " 20745: 'irv',\n",
       " 13821: 'iri',\n",
       " 13822: 'ira',\n",
       " 5690: 'timber',\n",
       " 20746: 'ire',\n",
       " 5219: 'discipline',\n",
       " 1937: 'extend',\n",
       " 3634: 'nature',\n",
       " 16295: \"amb's\",\n",
       " 16296: 'dunhill',\n",
       " 2142: 'extent',\n",
       " 20747: 'restrcitions',\n",
       " 2396: 'heating',\n",
       " 11008: \"mannesmann's\",\n",
       " 20748: 'outsanding',\n",
       " 20749: 'multimillions',\n",
       " 13824: 'sarcinelli',\n",
       " 6694: 'southeastern',\n",
       " 10071: 'eradicate',\n",
       " 9388: 'libyan',\n",
       " 20750: 'foreclosing',\n",
       " 12101: 'maclaine',\n",
       " 20751: 'fra',\n",
       " 353: 'union',\n",
       " 11009: 'frn',\n",
       " 386: 'much',\n",
       " 12102: 'fry',\n",
       " 20752: 'mothball',\n",
       " 10072: 'chlorazepate',\n",
       " 12103: 'dxns',\n",
       " 19981: 'toyko',\n",
       " 20753: 'spit',\n",
       " 16297: '007050',\n",
       " 16298: 'freehold',\n",
       " 13825: 'davy',\n",
       " 11010: 'dave',\n",
       " 12177: 'spie',\n",
       " 10117: 'aguayo',\n",
       " 12104: 'wildcat',\n",
       " 10069: 'fecs',\n",
       " 20754: 'kennan',\n",
       " 16299: 'intal',\n",
       " 9389: 'contingencies',\n",
       " 16551: 'professionally',\n",
       " 16300: 'microbiological',\n",
       " 20756: 'misconstrued',\n",
       " 409: 'k',\n",
       " 20757: 'securitiesd',\n",
       " 16301: 'deferring',\n",
       " 5941: 'kohl',\n",
       " 3030: 'conditioned',\n",
       " 20758: 'fnhb',\n",
       " 16302: \"october's\",\n",
       " 13954: 'memorial',\n",
       " 6965: 'democracies',\n",
       " 27520: 'conformed',\n",
       " 464: 'split',\n",
       " 12105: \"bond's\",\n",
       " 11112: 'thinly',\n",
       " 16515: 'dunkirk',\n",
       " 16303: 'cavanaugh',\n",
       " 13827: \"securities'\",\n",
       " 21345: 'marches',\n",
       " 16304: 'issam',\n",
       " 2020: 'workforce',\n",
       " 12106: 'meinert',\n",
       " 13828: 'boiler',\n",
       " 5294: \"bp's\",\n",
       " 16305: 'torpedoed',\n",
       " 20762: 'indidate',\n",
       " 13829: 'downwardly',\n",
       " 20763: 'viviez',\n",
       " 20764: 'vladiminovich',\n",
       " 16306: 'academic',\n",
       " 20765: 'architecural',\n",
       " 1117: 'corporate',\n",
       " 16307: 'appropriately',\n",
       " 20766: 'teicc',\n",
       " 20767: \"hanover's\",\n",
       " 8817: 'aristech',\n",
       " 20768: 'portrayed',\n",
       " 21383: 'raffineries',\n",
       " 20770: 'hai',\n",
       " 7599: 'hal',\n",
       " 13830: 'ham',\n",
       " 10073: 'han',\n",
       " 20771: 'e15b',\n",
       " 61: 'had',\n",
       " 20772: 'hay',\n",
       " 13831: 'botchwey',\n",
       " 10074: 'haq',\n",
       " 37: 'has',\n",
       " 13832: 'hat',\n",
       " 20773: 'hav',\n",
       " 20774: 'fortin',\n",
       " 8818: 'municipal',\n",
       " 20775: 'osman',\n",
       " 20776: 'fsical',\n",
       " 3480: 'elders',\n",
       " 12107: 'survival',\n",
       " 16308: 'unequivocally',\n",
       " 2519: 'objective',\n",
       " 6695: 'indicative',\n",
       " 10075: 'shadow',\n",
       " 21411: 'riskiness',\n",
       " 20778: 'positiive',\n",
       " 10076: \"american's\",\n",
       " 16309: 'alick',\n",
       " 16310: 'harima',\n",
       " 12108: 'alice',\n",
       " 20779: 'altschul',\n",
       " 16311: 'festivities',\n",
       " 20780: 'medecines',\n",
       " 2942: 'beneficial',\n",
       " 12109: 'yoweri',\n",
       " 13833: 'crowd',\n",
       " 9390: 'crowe',\n",
       " 3553: 'crown',\n",
       " 13679: 'topping',\n",
       " 8819: 'captive',\n",
       " 12110: 'billboard',\n",
       " 6169: 'fiduciary',\n",
       " 3402: 'bottom',\n",
       " 20782: 'plucked',\n",
       " 20783: 'locksmithing',\n",
       " 9391: 'ecopetrol',\n",
       " 24018: 'pipestone',\n",
       " 5505: \"growers'\",\n",
       " 20785: 'borrows',\n",
       " 16312: 'eduard',\n",
       " 13834: 'venpres',\n",
       " 16313: 'bamboo',\n",
       " 13835: 'foolish',\n",
       " 20786: 'uruguyan',\n",
       " 20787: 'officeholders',\n",
       " 20788: 'economiques',\n",
       " 16314: 'aden',\n",
       " 4822: 'maxwell',\n",
       " 4680: 'marshall',\n",
       " 16315: 'honeymoon',\n",
       " 16316: 'administer',\n",
       " 20790: 'shoots',\n",
       " 16317: 'rubbertech',\n",
       " 16318: 'johsen',\n",
       " 10077: 'reciprocity',\n",
       " 13836: 'fabric',\n",
       " 20791: 'suffice',\n",
       " 20792: 'spokemsan',\n",
       " 20793: \"sonora's\",\n",
       " 16319: '5865',\n",
       " 16320: \"systems'\",\n",
       " 20794: 'perfumes',\n",
       " 20795: 'halycon',\n",
       " 20796: 'nonvoting',\n",
       " 7250: 'safeguard',\n",
       " 21538: 'sawdust',\n",
       " 20797: \"else's\",\n",
       " 13837: 'arrays',\n",
       " 20798: 'aza',\n",
       " 20799: 'smasher',\n",
       " 12111: 'complications',\n",
       " 1813: 'pesos',\n",
       " 20800: 'relabelling',\n",
       " 3722: 'passenger',\n",
       " 12112: \"avon's\",\n",
       " 20801: 'megahertz',\n",
       " 10683: 'mirror',\n",
       " 8357: 'minas',\n",
       " 16322: 'bourdain',\n",
       " 20802: 'crownx',\n",
       " 6425: 'eventual',\n",
       " 1207: 'crowns',\n",
       " 1369: 'role',\n",
       " 20803: 'obliges',\n",
       " 16323: 'rolf',\n",
       " 13838: 'vegetative',\n",
       " 20804: 'rolm',\n",
       " 4419: 'roll',\n",
       " 2463: 'intend',\n",
       " 16324: 'palms',\n",
       " 19255: 'denys',\n",
       " 13839: 'transported',\n",
       " 20805: 'moresby',\n",
       " 16325: 'devon',\n",
       " 1351: 'intent',\n",
       " 20806: \"camco's\",\n",
       " 5942: 'variable',\n",
       " 20807: 'transporter',\n",
       " 16326: 'danske',\n",
       " 13840: 'friedhelm',\n",
       " 8358: 'hawker',\n",
       " 17774: \"sand's\",\n",
       " 20808: 'preseving',\n",
       " 12113: '80386',\n",
       " 16328: 'bnls',\n",
       " 19984: 'ordination',\n",
       " 11011: 'overturned',\n",
       " 16329: 'erred',\n",
       " 6696: 'cincinnati',\n",
       " 16710: 'corps',\n",
       " 20809: 'whoever',\n",
       " 16330: 'osp',\n",
       " 13841: 'osr',\n",
       " 12114: 'ost',\n",
       " 16331: 'chair',\n",
       " 5647: '690',\n",
       " 20810: 'grapples',\n",
       " 13842: 'megawatts',\n",
       " 20811: 'photocopiers',\n",
       " 20812: 'sconninx',\n",
       " 2274: 'circumstances',\n",
       " 13843: 'oversight',\n",
       " 20814: \"paradyne's\",\n",
       " 6363: '691',\n",
       " 20815: 'paychecks',\n",
       " 13844: \"stadelmann's\",\n",
       " 3241: 'choice',\n",
       " 11012: 'vastagh',\n",
       " 8820: 'embark',\n",
       " 9392: 'gloomy',\n",
       " 9393: 'stays',\n",
       " 4009: 'exact',\n",
       " 5117: 'minute',\n",
       " 11892: 'kittiwake',\n",
       " 20816: 'picul',\n",
       " 20817: 'skewed',\n",
       " 11013: 'cooke',\n",
       " 10078: 'defaults',\n",
       " 11014: 'reimpose',\n",
       " 9394: 'hindered',\n",
       " 20818: 'lengthened',\n",
       " 16333: 'chopping',\n",
       " 13845: 'mckiernan',\n",
       " 20819: 'collaspe',\n",
       " 7251: 'corazon',\n",
       " 7600: 'antwerp',\n",
       " 13846: 'abdullah',\n",
       " 13847: 'goldston',\n",
       " 442: '300',\n",
       " 20821: 'cassa',\n",
       " 20822: 'casse',\n",
       " 4081: '695',\n",
       " 2979: 'ground',\n",
       " 839: 'boost',\n",
       " 16334: 'azusa',\n",
       " 9395: 'drafted',\n",
       " 4823: '303',\n",
       " 13848: 'climbs',\n",
       " 7601: 'honour',\n",
       " 20823: 'vanderbilt',\n",
       " 3968: '305',\n",
       " 3031: 'address',\n",
       " 8821: 'dwindling',\n",
       " 7252: 'benson',\n",
       " 12115: 'enroll',\n",
       " 501: 'revenues',\n",
       " 12116: 'impacted',\n",
       " 20826: 'queue',\n",
       " 10079: 'accomplished',\n",
       " 7602: 'throughput',\n",
       " 9396: 'influx',\n",
       " 10080: 'stockbuilding',\n",
       " 20827: 'aproximates',\n",
       " 13849: 'petroleo',\n",
       " 16335: 'sistemas',\n",
       " 14053: 'feretti',\n",
       " 5943: 'opposes',\n",
       " 882: 'working',\n",
       " 20829: 'perished',\n",
       " 13850: 'oldham',\n",
       " 20830: '27000',\n",
       " 19245: 'optimize',\n",
       " 20832: 'vigour',\n",
       " 1580: 'opposed',\n",
       " 16336: 'liberalizing',\n",
       " 20833: 'wvz',\n",
       " 20834: 'dampness',\n",
       " 13851: 'approving',\n",
       " 13496: 'sierra',\n",
       " 20835: 'entrepot',\n",
       " 224: 'currency',\n",
       " 1499: 'originally',\n",
       " 20837: 'tindemans',\n",
       " 16337: 'valorem',\n",
       " 477: 'following',\n",
       " 20838: 'fossen',\n",
       " 11016: 'locke',\n",
       " 20839: 'employess',\n",
       " 12117: 'rotberg',\n",
       " 16338: 'parachute',\n",
       " 11017: 'locks',\n",
       " 12255: 'incremental',\n",
       " 16339: 'woolowrth',\n",
       " 20841: 'listens',\n",
       " 7253: 'litre',\n",
       " 3554: 'edouard',\n",
       " 1377: 'ounce',\n",
       " 20843: 'nicanor',\n",
       " 20844: 'sucocitrico',\n",
       " 16340: 'minicomputers',\n",
       " 16341: \"silva's\",\n",
       " 11018: 'restitutions',\n",
       " 16342: 'custer',\n",
       " 2590: '3rd',\n",
       " 10081: 'fueled',\n",
       " 20845: 'trydahl',\n",
       " 11019: 'aice',\n",
       " 12118: 'harmon',\n",
       " 10082: 'conscious',\n",
       " 20846: 'herbicidesand',\n",
       " 20847: 'subdivisions',\n",
       " 20848: \"veslefrikk's\",\n",
       " 11020: 'swollen',\n",
       " 7978: 'pulled',\n",
       " 20849: 'tilney',\n",
       " 203: 'years',\n",
       " 20850: 'structuring',\n",
       " 20851: 'episodes',\n",
       " 16343: 'sportscene',\n",
       " 16344: \"northair's\",\n",
       " 20852: 'jig',\n",
       " 20853: 'jin',\n",
       " 3403: 'jim',\n",
       " 8359: 'troubles',\n",
       " 13852: 'workforces',\n",
       " 2362: 'suspension',\n",
       " 3892: 'troubled',\n",
       " 16345: 'fondiaria',\n",
       " 6697: 'modestly',\n",
       " 12119: 'recipients',\n",
       " 7979: 'civilian',\n",
       " 13853: 'indigenous',\n",
       " 20854: 'overpowering',\n",
       " 1051: 'drilling',\n",
       " 16346: 'sorted',\n",
       " 16347: 'lichtenstein',\n",
       " 20855: 'bedevil',\n",
       " 20856: 'dispite',\n",
       " 16843: 'battleships',\n",
       " 4824: 'instability',\n",
       " 95: 'quarter',\n",
       " 20857: 'salado',\n",
       " 5692: 'honduras',\n",
       " 13855: \"chevron's\",\n",
       " 12273: \"lazere's\",\n",
       " 2660: 'receipt',\n",
       " 8360: 'sponsor',\n",
       " 4825: 'entering',\n",
       " 16349: \"kcbt's\",\n",
       " 19987: 'nowicki',\n",
       " 13856: 'salads',\n",
       " 16351: 'augar',\n",
       " 7980: '797',\n",
       " 7254: '796',\n",
       " 8361: '795',\n",
       " 5295: '794',\n",
       " 5118: '793',\n",
       " 6170: '792',\n",
       " 5296: '791',\n",
       " 4826: '790',\n",
       " 20858: \"nikko's\",\n",
       " 20859: 'unsaleable',\n",
       " 5720: '799',\n",
       " 5693: '798',\n",
       " 2143: 'seriously',\n",
       " 16352: 'trauma',\n",
       " 20860: 'tvbh',\n",
       " 20861: 'macedon',\n",
       " 21906: 'disintegrated',\n",
       " 21909: 'adddition',\n",
       " 2244: 'incentives',\n",
       " 5944: 'complicated',\n",
       " 20864: 'reevaluating',\n",
       " 21921: 'thatching',\n",
       " 7981: 'brasil',\n",
       " 20865: '79p',\n",
       " 4951: 'wrong',\n",
       " 8822: 'initiate',\n",
       " 16353: 'aboard',\n",
       " 7255: 'saving',\n",
       " 8823: 'spoken',\n",
       " 16364: 'parkinson',\n",
       " 65: 'one',\n",
       " 20867: 'ont',\n",
       " 7256: 'concert',\n",
       " 16354: \"boston's\",\n",
       " 13859: 'stifled',\n",
       " 4622: 'types',\n",
       " 20868: 'lingering',\n",
       " 16356: 'surges',\n",
       " 20869: 'hurdman',\n",
       " 16357: 'herds',\n",
       " 14114: 'absorbs',\n",
       " 4681: 'surged',\n",
       " 14211: 'dalkon',\n",
       " 13860: 'crossroads',\n",
       " 20870: 'shakeup',\n",
       " 20871: 'disasterous',\n",
       " 11021: 'illness',\n",
       " 3242: 'turned',\n",
       " 3801: 'locations',\n",
       " 12120: 'tyranite',\n",
       " 13861: 'minesweepers',\n",
       " 7257: 'turner',\n",
       " 20872: 'borough',\n",
       " 12358: 'underlines',\n",
       " 20873: \"bancorporation's\",\n",
       " 20874: 'fashionable',\n",
       " 20875: \"ae's\",\n",
       " 16358: 'dilutions',\n",
       " 9472: 'goodman',\n",
       " 10510: 'unlawfully',\n",
       " 16359: 'mayer',\n",
       " 16360: 'printer',\n",
       " 20877: 'offload',\n",
       " 13862: 'opposite',\n",
       " 738: 'buffer',\n",
       " 9398: 'printed',\n",
       " 16361: 'pequiven',\n",
       " 13863: 'panoche',\n",
       " 20878: 'knowingly',\n",
       " 16362: 'ecusta',\n",
       " 20879: 'thsl',\n",
       " 8825: 'phil',\n",
       " 13864: 'jitters',\n",
       " 16363: 'touche',\n",
       " 20881: 'jittery',\n",
       " 3291: 'friction',\n",
       " 16365: 'fecal',\n",
       " 22068: 'resurgance',\n",
       " 20882: 'heeding',\n",
       " 2363: 'soviets',\n",
       " 16366: 'imagined',\n",
       " 16367: 'transact',\n",
       " 20883: 'califoirnia',\n",
       " 9399: \"chrysler's\",\n",
       " 16368: 'respecitvely',\n",
       " 16369: 'presse',\n",
       " 10084: 'euromarket',\n",
       " 12121: 'guarded',\n",
       " 16371: 'satisfacotry',\n",
       " 20884: 'authroization',\n",
       " 20885: 'simplistic',\n",
       " 20886: 'monde',\n",
       " 4102: 'awaiting',\n",
       " 13865: 'recombinant',\n",
       " 20887: 'refinancement',\n",
       " 20888: 'comserv',\n",
       " 20889: 'kitakyushu',\n",
       " 16372: 'pima',\n",
       " 11022: 'basle',\n",
       " 20891: '6250',\n",
       " 16373: 'choudhury',\n",
       " 8826: 'vision',\n",
       " 20892: 'interruptible',\n",
       " 13866: 'weatherford',\n",
       " 7982: '832',\n",
       " 5694: '833',\n",
       " 4420: '830',\n",
       " 5119: '831',\n",
       " 5297: '836',\n",
       " 4553: '837',\n",
       " 6172: '834',\n",
       " 4952: '835',\n",
       " 22144: 'alarming',\n",
       " 5695: '838',\n",
       " 6173: '839',\n",
       " 20893: '524p',\n",
       " 20894: 'sponsorship',\n",
       " 12122: 'vendex',\n",
       " 20895: \"amsouth's\",\n",
       " 20896: 'kilometer',\n",
       " 10086: 'enjoys',\n",
       " 20897: 'illiberal',\n",
       " 6174: 'punta',\n",
       " 20898: 'punte',\n",
       " 10087: 'girozentrale',\n",
       " 20899: 'missstatements',\n",
       " 10088: 'marietta',\n",
       " 6175: 'awards',\n",
       " 3635: 'concentrated',\n",
       " 20900: '83p',\n",
       " 13867: 'developpement',\n",
       " 13868: 'rhodes',\n",
       " 5696: 'matheson',\n",
       " 20901: '1720',\n",
       " 20902: 'paring',\n",
       " 35: 's',\n",
       " 4953: 'concentrates',\n",
       " 16374: \"can's\",\n",
       " 22183: 'polysaturated',\n",
       " 20903: 'parini',\n",
       " 13869: 'baden',\n",
       " 20904: 'bader',\n",
       " 12123: 'buoyancy',\n",
       " 20905: 'erdem',\n",
       " 16375: 'properites',\n",
       " 20906: 'comparitive',\n",
       " 12124: 'practises',\n",
       " 20907: 'collides',\n",
       " 189: 'west',\n",
       " 20908: 'wess',\n",
       " 13870: 'collided',\n",
       " 20909: 'practised',\n",
       " 20910: \"amalgamated's\",\n",
       " 20911: 'motives',\n",
       " 1378: 'wants',\n",
       " 1273: 'formed',\n",
       " 20912: 'readings',\n",
       " 12125: 'geothermal',\n",
       " 7315: 'tightened',\n",
       " 11023: \"d'or\",\n",
       " 1109: 'former',\n",
       " 20913: 'venezulean',\n",
       " 19935: 'curd',\n",
       " 12126: 'squeezes',\n",
       " 1019: 'newspaper',\n",
       " 817: 'situation',\n",
       " 13871: 'ivey',\n",
       " 3636: 'engaged',\n",
       " 13872: 'dubious',\n",
       " 17061: 'cayacq',\n",
       " 20916: 'cobol',\n",
       " 20917: 'limping',\n",
       " 883: 'technology',\n",
       " 20919: 'koerner',\n",
       " 16376: 'debilitating',\n",
       " 7983: 'verified',\n",
       " 4010: 'otto',\n",
       " 20920: '7770',\n",
       " 16377: 'emulsions',\n",
       " 16378: \"onic's\",\n",
       " 9075: 'slate',\n",
       " 20921: 'wires',\n",
       " 5506: 'edged',\n",
       " 20922: 'assigns',\n",
       " 1341: 'singapore',\n",
       " 20923: 'deflate',\n",
       " 20924: \"strategy's\",\n",
       " 16379: 'walesa',\n",
       " 4554: 'advertisement',\n",
       " 20925: 'luyten',\n",
       " 20926: 'shrortly',\n",
       " 20927: 'corpoartion',\n",
       " 22290: 'preferance',\n",
       " 16380: 'tracking',\n",
       " 13874: 'sunnyvale',\n",
       " 20928: 'colorants',\n",
       " 16381: 'persistently',\n",
       " 16382: \"officers'\",\n",
       " 20929: \"his's\",\n",
       " 367: 'being',\n",
       " 7259: 'divestitures',\n",
       " 20930: 'steamer',\n",
       " 20931: 'rover',\n",
       " 8362: 'grounded',\n",
       " 16383: \"businessmen's\",\n",
       " 16384: 'cyanidation',\n",
       " 20932: 'overthrow',\n",
       " 20933: 'partnerhip',\n",
       " 16385: 'sumt',\n",
       " 8827: 'sums',\n",
       " 16386: 'oelmuehle',\n",
       " 16387: 'unveil',\n",
       " 13875: 'gestures',\n",
       " 20934: 'penta',\n",
       " 2544: 'traffic',\n",
       " 2428: 'preference',\n",
       " 20935: 'sumi',\n",
       " 166: 'world',\n",
       " 9400: 'postal',\n",
       " 16388: 'bced',\n",
       " 12128: 'dornbush',\n",
       " 14215: 'confine',\n",
       " 20936: '2555',\n",
       " 5945: \"zambia's\",\n",
       " 20937: 'superiority',\n",
       " 20938: 'militate',\n",
       " 2395: 'satisfactory',\n",
       " 20939: 'superintendent',\n",
       " 5946: 'tvx',\n",
       " 16389: 'tvt',\n",
       " 6698: 'magma',\n",
       " 20940: 'diving',\n",
       " 15548: 'tvb',\n",
       " 13876: 'seaman',\n",
       " 11025: 'matsunaga',\n",
       " 4827: '919',\n",
       " 5298: '918',\n",
       " 17070: 'refundable',\n",
       " 5947: '914',\n",
       " 7260: '917',\n",
       " 6699: '916',\n",
       " 5507: '911',\n",
       " 4828: '910',\n",
       " 10213: 'restoring',\n",
       " 4555: '912',\n",
       " 20942: 'squabble',\n",
       " 7261: 'retains',\n",
       " 20943: \"partner's\",\n",
       " 5300: 'leadership',\n",
       " 11026: 'graaf',\n",
       " 20944: 'spacelab',\n",
       " 1800: 'thailand',\n",
       " 9402: 'graan',\n",
       " 20945: 'exasperating',\n",
       " 12129: 'hartmarx',\n",
       " 16390: 'frights',\n",
       " 20946: 'niall',\n",
       " 11027: 'johnston',\n",
       " 16391: '91p',\n",
       " 16392: 'sensitively',\n",
       " 6016: 'porsche',\n",
       " 15494: 'prepares',\n",
       " 12130: 'lively',\n",
       " 10686: 'stoppages',\n",
       " 16394: \"associated's\",\n",
       " 12131: 'pivot',\n",
       " 1037: 'series',\n",
       " 24050: 'sese',\n",
       " 7604: 'bubble',\n",
       " 16395: 'trusses',\n",
       " 20949: 'interestate',\n",
       " 20950: 'continents',\n",
       " 20951: 'societal',\n",
       " 28: 'with',\n",
       " 6176: 'pull',\n",
       " 6700: 'rush',\n",
       " 6222: 'monopoly',\n",
       " 20953: 'operationally',\n",
       " 20954: 'dirty',\n",
       " 10090: 'abuses',\n",
       " 7262: 'prudhoe',\n",
       " 5949: 'pulp',\n",
       " 16396: 'rust',\n",
       " 20955: 'hellman',\n",
       " 20956: 'amdec',\n",
       " 16397: 'australasian',\n",
       " 13878: 'watches',\n",
       " 20957: 'hypertension',\n",
       " 20958: \"hemdale's\",\n",
       " 16398: 'formulation',\n",
       " 7605: 'watched',\n",
       " 20959: 'jargon',\n",
       " 13879: 'cream',\n",
       " 9404: 'ideally',\n",
       " 11028: 'ryavec',\n",
       " 20960: 'microoganisms',\n",
       " 13880: 'indemnify',\n",
       " 20961: 'wincenty',\n",
       " 20962: 'waving',\n",
       " 20963: \"multifood's\",\n",
       " 20964: 'midges',\n",
       " 11029: 'natalie',\n",
       " 13881: 'crosbie',\n",
       " 20965: 'posible',\n",
       " 13882: 'omnibus',\n",
       " 20966: 'assetsof',\n",
       " 13883: 'tricks',\n",
       " 16399: 'rs',\n",
       " 20967: 'kilogram',\n",
       " 25363: 'pruning',\n",
       " 13884: 'dyer',\n",
       " 20968: 'dyes',\n",
       " 20969: 'legislatures',\n",
       " 16400: 'scm',\n",
       " 9405: 'sci',\n",
       " 20970: 'riedel',\n",
       " 16401: 'ceramic',\n",
       " 6701: 'unitholders',\n",
       " 13885: 'scb',\n",
       " 20971: 'dn11',\n",
       " 20972: 'conditionality',\n",
       " 13807: \"stock's\",\n",
       " 20973: 'masland',\n",
       " 7606: 'causes',\n",
       " 10091: 'riots',\n",
       " 20974: 'norf',\n",
       " 9406: 'nord',\n",
       " 3893: 'midwest',\n",
       " 13886: 'tamils',\n",
       " 16402: 'ofthe',\n",
       " 3421: \"colombia's\",\n",
       " 11030: '24th',\n",
       " 20975: 'sant',\n",
       " 10092: 'moines',\n",
       " 22577: 'electrotechnical',\n",
       " 24534: 'proceeded',\n",
       " 20976: 'sanz',\n",
       " 13887: 'insufficiently',\n",
       " 20977: 'sang',\n",
       " 5950: 'sand',\n",
       " 16404: 'bracho',\n",
       " 805: 'small',\n",
       " 20978: 'workloads',\n",
       " 6702: 'sank',\n",
       " 20979: 'kemper',\n",
       " 16405: 'abbreviated',\n",
       " 13888: 'quicker',\n",
       " 3802: '199',\n",
       " 3243: '198',\n",
       " 2661: '195',\n",
       " 3080: '194',\n",
       " 4310: '197',\n",
       " 3894: '196',\n",
       " 2850: '191',\n",
       " 2199: '190',\n",
       " 3481: '193',\n",
       " 3350: '192',\n",
       " 582: 'past',\n",
       " 20980: 'fractionation',\n",
       " 20981: 'displays',\n",
       " 3081: 'pass',\n",
       " 202: 'investment',\n",
       " 27062: 'quals',\n",
       " 16406: 'quicken',\n",
       " 20983: \"centronic's\",\n",
       " 20984: 'menswear',\n",
       " 16407: 'clock',\n",
       " 20985: 'teape',\n",
       " 20986: 'teapa',\n",
       " 10093: 'prevailed',\n",
       " 9407: 'hebei',\n",
       " ...}"
      ]
     },
     "execution_count": 62,
     "metadata": {},
     "output_type": "execute_result"
    }
   ],
   "source": [
    "# 인덱스와 워드의 위치를 바꾸는 함수 \n",
    "# items() : 딕셔너리 내부의 key, value를 tuple형태로 반환 \n",
    "index_to_word = {}\n",
    "for word, idx in word_to_index.items():\n",
    "  index_to_word[idx] = word\n",
    "\n",
    "index_to_word"
   ]
  },
  {
   "cell_type": "code",
   "execution_count": null,
   "metadata": {
    "id": "VKrJevlMXeU3"
   },
   "outputs": [],
   "source": []
  },
  {
   "cell_type": "code",
   "execution_count": 63,
   "metadata": {
    "id": "7LIRbPGaXeXv"
   },
   "outputs": [],
   "source": [
    "for index, token in enumerate(('<pad>', '<sos>', '<unk>')):\n",
    "  index_to_word[index+30980] = token"
   ]
  },
  {
   "cell_type": "code",
   "execution_count": null,
   "metadata": {
    "id": "GWGWUFsndDkw"
   },
   "outputs": [],
   "source": []
  },
  {
   "cell_type": "code",
   "execution_count": 64,
   "metadata": {
    "colab": {
     "base_uri": "https://localhost:8080/"
    },
    "id": "l_S79OnUXeap",
    "outputId": "d91e93a4-de4b-461f-fc03-9999db0ee01b"
   },
   "outputs": [
    {
     "name": "stdout",
     "output_type": "stream",
     "text": [
      "[1, 27595, 28842, 8, 43, 10, 447, 5, 25, 207, 270, 5, 3095, 111, 16, 369, 186, 90, 67, 7, 89, 5, 19, 102, 6, 19, 124, 15, 90, 67, 84, 22, 482, 26, 7, 48, 4, 49, 8, 864, 39, 209, 154, 6, 151, 6, 83, 11, 15, 22, 155, 11, 15, 7, 48, 9, 4579, 1005, 504, 6, 258, 6, 272, 11, 15, 22, 134, 44, 11, 15, 16, 8, 197, 1245, 90, 67, 52, 29, 209, 30, 32, 132, 6, 109, 15, 17, 12]\n"
     ]
    }
   ],
   "source": [
    "print(x_train[0])"
   ]
  },
  {
   "cell_type": "code",
   "execution_count": 65,
   "metadata": {
    "colab": {
     "base_uri": "https://localhost:8080/",
     "height": 88
    },
    "id": "nv7zArVxXedG",
    "outputId": "eff7ad72-279b-439e-a768-858d89620eff"
   },
   "outputs": [
    {
     "data": {
      "text/plain": [
       "'the wattie nondiscriminatory mln loss for plc said at only ended said commonwealth could 1 traders now april 0 a after said from 1985 and from foreign 000 april 0 prices its account year a but in this mln home an states earlier and rise and revs vs 000 its 16 vs 000 a but 3 psbr oils several and shareholders and dividend vs 000 its all 4 vs 000 1 mln agreed largely april 0 are 2 states will billion total and against 000 pct dlrs'"
      ]
     },
     "execution_count": 65,
     "metadata": {},
     "output_type": "execute_result"
    }
   ],
   "source": [
    "# print(x_train[0])를 띄어쓰기로 합치며 숫자 말고 단어로 다시 합침 \n",
    "' '.join([index_to_word[idx] for idx in x_train[0]])"
   ]
  },
  {
   "cell_type": "markdown",
   "metadata": {
    "id": "6odY5dA6Xef_"
   },
   "source": [
    "### LSTM으로 로이터 뉴스 분류"
   ]
  },
  {
   "cell_type": "code",
   "execution_count": 66,
   "metadata": {
    "id": "JDX-YJ-nZu54"
   },
   "outputs": [],
   "source": [
    "from tensorflow.keras.datasets import reuters\n",
    "from tensorflow.keras.models import Sequential\n",
    "from tensorflow.keras.layers import Dense, LSTM, Embedding, Dropout, Bidirectional\n",
    "from tensorflow.keras.preprocessing.sequence import pad_sequences\n",
    "from tensorflow.keras.utils import to_categorical\n",
    "from tensorflow.keras.callbacks import EarlyStopping, ModelCheckpoint\n",
    "from tensorflow.keras.models import load_model"
   ]
  },
  {
   "cell_type": "code",
   "execution_count": 67,
   "metadata": {
    "id": "J2pTz_1ZZu8o"
   },
   "outputs": [],
   "source": [
    "# num_words =  20000 : 빈도수 순위가 20000 이하의 단어만 가져온다는 의미\n",
    "(x_train, y_train), (x_test, y_test)  = reuters.load_data(num_words=20000, test_split=0.2)"
   ]
  },
  {
   "cell_type": "code",
   "execution_count": 68,
   "metadata": {
    "colab": {
     "base_uri": "https://localhost:8080/"
    },
    "id": "Lz98WcjLhe5S",
    "outputId": "9c09ca03-0cfc-4485-dace-e93d2c30378b"
   },
   "outputs": [
    {
     "data": {
      "text/plain": [
       "(8982,)"
      ]
     },
     "execution_count": 68,
     "metadata": {},
     "output_type": "execute_result"
    }
   ],
   "source": [
    "x_train.shape"
   ]
  },
  {
   "cell_type": "code",
   "execution_count": 69,
   "metadata": {
    "id": "WLR-sAo4ZvB3"
   },
   "outputs": [],
   "source": [
    "# 문장길이 500개까지 \n",
    "max_len = 500\n",
    "x_train = pad_sequences(x_train, maxlen=max_len)\n",
    "x_test = pad_sequences(x_test, maxlen=max_len)"
   ]
  },
  {
   "cell_type": "code",
   "execution_count": 70,
   "metadata": {
    "id": "D-9ep66Nh52Y"
   },
   "outputs": [
    {
     "name": "stdout",
     "output_type": "stream",
     "text": [
      "[    0     0     0     0     0     0     0     0     0     0     0     0\n",
      "     0     0     0     0     0     0     0     0     0     0     0     0\n",
      "     0     0     0     0     0     0     0     0     0     0     0     0\n",
      "     0     0     0     0     0     0     0     0     0     0     0     0\n",
      "     0     0     0     0     0     0     0     0     0     0     0     0\n",
      "     0     0     0     0     0     0     0     0     0     0     0     0\n",
      "     0     0     0     0     0     0     0     0     0     0     0     0\n",
      "     0     0     0     0     0     0     0     0     0     0     0     0\n",
      "     0     0     0     0     0     0     0     0     0     0     0     0\n",
      "     0     0     0     0     0     0     0     0     0     0     0     0\n",
      "     0     0     0     0     0     0     0     0     0     0     0     0\n",
      "     0     0     0     0     0     0     0     0     0     0     0     0\n",
      "     0     0     0     0     0     0     0     0     0     0     0     0\n",
      "     0     0     0     0     0     0     0     0     0     0     0     0\n",
      "     0     0     0     0     0     0     0     0     0     0     0     0\n",
      "     0     0     0     0     0     0     0     0     0     0     0     0\n",
      "     0     0     0     0     0     0     0     0     0     0     0     0\n",
      "     0     0     0     0     0     0     0     0     0     0     0     0\n",
      "     0     0     0     0     0     0     0     0     0     0     0     0\n",
      "     0     0     0     0     0     0     0     0     0     0     0     0\n",
      "     0     0     0     0     0     0     0     0     0     0     0     0\n",
      "     0     0     0     0     0     0     0     0     0     0     0     0\n",
      "     0     0     0     0     0     0     0     0     0     0     0     0\n",
      "     0     0     0     0     0     0     0     0     0     0     0     0\n",
      "     0     0     0     0     0     0     0     0     0     0     0     0\n",
      "     0     0     0     0     0     0     0     0     0     0     0     0\n",
      "     0     0     0     0     0     0     0     0     0     0     0     0\n",
      "     0     0     0     0     0     0     0     0     0     0     0     0\n",
      "     0     0     0     0     0     0     0     0     0     0     0     0\n",
      "     0     0     0     0     0     0     0     0     0     0     0     0\n",
      "     0     0     0     0     0     0     0     0     0     0     0     0\n",
      "     0     0     0     0     0     0     0     0     0     0     0     0\n",
      "     0     0     0     0     0     0     0     0     0     0     0     0\n",
      "     0     0     0     0     0     0     0     0     0     0     0     0\n",
      "     0     0     0     0     0     0     0     0     0     1    56   735\n",
      "   268   626    71     8    16    41  2049    25   866     6   438    56\n",
      " 18408   149  2832   310     7   125  2279   324 12570   149    13  1045\n",
      "    11    15    31  1074   133    91   272   735   268   626   152    24\n",
      "     4   584    96   114    30   478   290  2474    21    42  2681   690\n",
      "  1269  1593    22    10   384   257  1397   435  1629    27   735   268\n",
      "   626     2  2681   267 12570    23    10  2050   362    49    31   220\n",
      "     7     4    37    38     9   392    17    12]\n"
     ]
    }
   ],
   "source": [
    "print(x_train[60])"
   ]
  },
  {
   "cell_type": "code",
   "execution_count": 71,
   "metadata": {
    "colab": {
     "base_uri": "https://localhost:8080/"
    },
    "id": "nKmNY_zeZvEf",
    "outputId": "678adf76-a3d4-4ac2-8c4f-221519ff2361"
   },
   "outputs": [
    {
     "data": {
      "text/plain": [
       "array([ 3,  4,  3, ..., 25,  3, 25], dtype=int64)"
      ]
     },
     "execution_count": 71,
     "metadata": {},
     "output_type": "execute_result"
    }
   ],
   "source": [
    "# 레이블(문제지 답안지)\n",
    "y_train"
   ]
  },
  {
   "cell_type": "code",
   "execution_count": 72,
   "metadata": {
    "id": "Zg4AyzUtZvHP"
   },
   "outputs": [],
   "source": [
    "y_train = to_categorical(y_train)\n",
    "y_test = to_categorical(y_test)"
   ]
  },
  {
   "cell_type": "code",
   "execution_count": 73,
   "metadata": {
    "id": "dfGXatoJZvMX"
   },
   "outputs": [],
   "source": [
    "model = Sequential()\n",
    "model.add(Embedding(1000, 120, input_length = 500))\n",
    "model.add(Bidirectional(LSTM(120, return_sequences=True)))\n",
    "model.add(Bidirectional(LSTM(120)))\n",
    "model.add(Dense(160, activation='relu'))\n",
    "model.add(Dropout(0.5))\n",
    "model.add(Dense(80, activation='relu'))\n",
    "model.add(Dropout(0.5))\n",
    "model.add(Dense(46, activation='softmax'))"
   ]
  },
  {
   "cell_type": "code",
   "execution_count": 74,
   "metadata": {
    "id": "odhi9U7jZvPJ"
   },
   "outputs": [],
   "source": [
    "# 알아서 멈춰라 \n",
    "# 저장을 생활화 합시다 \n",
    "es = EarlyStopping(monitor='val_loss', mode='min', verbose=1, patience=5)\n",
    "mc = ModelCheckpoint('best_model.h5', monitor='val_acc', mode='max', verbose=1, save_best_only=True)"
   ]
  },
  {
   "cell_type": "code",
   "execution_count": 75,
   "metadata": {
    "id": "phRsk1p3ZvSS"
   },
   "outputs": [],
   "source": [
    "model.compile(loss='categorical_crossentropy', optimizer='adam', metrics=['acc'])"
   ]
  },
  {
   "cell_type": "code",
   "execution_count": 76,
   "metadata": {
    "collapsed": true,
    "id": "Lf0VvDjhjMGX"
   },
   "outputs": [
    {
     "name": "stdout",
     "output_type": "stream",
     "text": [
      "Epoch 1/30\n"
     ]
    },
    {
     "ename": "InvalidArgumentError",
     "evalue": "Graph execution error:\n\nDetected at node 'sequential_12/embedding_2/embedding_lookup' defined at (most recent call last):\n    File \"C:\\Users\\bitcamp\\anaconda3\\lib\\runpy.py\", line 197, in _run_module_as_main\n      return _run_code(code, main_globals, None,\n    File \"C:\\Users\\bitcamp\\anaconda3\\lib\\runpy.py\", line 87, in _run_code\n      exec(code, run_globals)\n    File \"C:\\Users\\bitcamp\\anaconda3\\lib\\site-packages\\ipykernel_launcher.py\", line 16, in <module>\n      app.launch_new_instance()\n    File \"C:\\Users\\bitcamp\\anaconda3\\lib\\site-packages\\traitlets\\config\\application.py\", line 846, in launch_instance\n      app.start()\n    File \"C:\\Users\\bitcamp\\anaconda3\\lib\\site-packages\\ipykernel\\kernelapp.py\", line 677, in start\n      self.io_loop.start()\n    File \"C:\\Users\\bitcamp\\anaconda3\\lib\\site-packages\\tornado\\platform\\asyncio.py\", line 199, in start\n      self.asyncio_loop.run_forever()\n    File \"C:\\Users\\bitcamp\\anaconda3\\lib\\asyncio\\base_events.py\", line 596, in run_forever\n      self._run_once()\n    File \"C:\\Users\\bitcamp\\anaconda3\\lib\\asyncio\\base_events.py\", line 1890, in _run_once\n      handle._run()\n    File \"C:\\Users\\bitcamp\\anaconda3\\lib\\asyncio\\events.py\", line 80, in _run\n      self._context.run(self._callback, *self._args)\n    File \"C:\\Users\\bitcamp\\anaconda3\\lib\\site-packages\\ipykernel\\kernelbase.py\", line 457, in dispatch_queue\n      await self.process_one()\n    File \"C:\\Users\\bitcamp\\anaconda3\\lib\\site-packages\\ipykernel\\kernelbase.py\", line 446, in process_one\n      await dispatch(*args)\n    File \"C:\\Users\\bitcamp\\anaconda3\\lib\\site-packages\\ipykernel\\kernelbase.py\", line 353, in dispatch_shell\n      await result\n    File \"C:\\Users\\bitcamp\\anaconda3\\lib\\site-packages\\ipykernel\\kernelbase.py\", line 648, in execute_request\n      reply_content = await reply_content\n    File \"C:\\Users\\bitcamp\\anaconda3\\lib\\site-packages\\ipykernel\\ipkernel.py\", line 353, in do_execute\n      res = shell.run_cell(code, store_history=store_history, silent=silent)\n    File \"C:\\Users\\bitcamp\\anaconda3\\lib\\site-packages\\ipykernel\\zmqshell.py\", line 533, in run_cell\n      return super(ZMQInteractiveShell, self).run_cell(*args, **kwargs)\n    File \"C:\\Users\\bitcamp\\anaconda3\\lib\\site-packages\\IPython\\core\\interactiveshell.py\", line 2901, in run_cell\n      result = self._run_cell(\n    File \"C:\\Users\\bitcamp\\anaconda3\\lib\\site-packages\\IPython\\core\\interactiveshell.py\", line 2947, in _run_cell\n      return runner(coro)\n    File \"C:\\Users\\bitcamp\\anaconda3\\lib\\site-packages\\IPython\\core\\async_helpers.py\", line 68, in _pseudo_sync_runner\n      coro.send(None)\n    File \"C:\\Users\\bitcamp\\anaconda3\\lib\\site-packages\\IPython\\core\\interactiveshell.py\", line 3172, in run_cell_async\n      has_raised = await self.run_ast_nodes(code_ast.body, cell_name,\n    File \"C:\\Users\\bitcamp\\anaconda3\\lib\\site-packages\\IPython\\core\\interactiveshell.py\", line 3364, in run_ast_nodes\n      if (await self.run_code(code, result,  async_=asy)):\n    File \"C:\\Users\\bitcamp\\anaconda3\\lib\\site-packages\\IPython\\core\\interactiveshell.py\", line 3444, in run_code\n      exec(code_obj, self.user_global_ns, self.user_ns)\n    File \"C:\\Users\\bitcamp\\AppData\\Local\\Temp/ipykernel_4336/803752097.py\", line 1, in <module>\n      hist = model.fit(x_train, y_train, batch_size=128, epochs=30, callbacks=[es, mc], validation_data=(x_test, y_test))\n    File \"C:\\Users\\bitcamp\\anaconda3\\lib\\site-packages\\keras\\utils\\traceback_utils.py\", line 64, in error_handler\n      return fn(*args, **kwargs)\n    File \"C:\\Users\\bitcamp\\anaconda3\\lib\\site-packages\\keras\\engine\\training.py\", line 1384, in fit\n      tmp_logs = self.train_function(iterator)\n    File \"C:\\Users\\bitcamp\\anaconda3\\lib\\site-packages\\keras\\engine\\training.py\", line 1021, in train_function\n      return step_function(self, iterator)\n    File \"C:\\Users\\bitcamp\\anaconda3\\lib\\site-packages\\keras\\engine\\training.py\", line 1010, in step_function\n      outputs = model.distribute_strategy.run(run_step, args=(data,))\n    File \"C:\\Users\\bitcamp\\anaconda3\\lib\\site-packages\\keras\\engine\\training.py\", line 1000, in run_step\n      outputs = model.train_step(data)\n    File \"C:\\Users\\bitcamp\\anaconda3\\lib\\site-packages\\keras\\engine\\training.py\", line 859, in train_step\n      y_pred = self(x, training=True)\n    File \"C:\\Users\\bitcamp\\anaconda3\\lib\\site-packages\\keras\\utils\\traceback_utils.py\", line 64, in error_handler\n      return fn(*args, **kwargs)\n    File \"C:\\Users\\bitcamp\\anaconda3\\lib\\site-packages\\keras\\engine\\base_layer.py\", line 1096, in __call__\n      outputs = call_fn(inputs, *args, **kwargs)\n    File \"C:\\Users\\bitcamp\\anaconda3\\lib\\site-packages\\keras\\utils\\traceback_utils.py\", line 92, in error_handler\n      return fn(*args, **kwargs)\n    File \"C:\\Users\\bitcamp\\anaconda3\\lib\\site-packages\\keras\\engine\\sequential.py\", line 374, in call\n      return super(Sequential, self).call(inputs, training=training, mask=mask)\n    File \"C:\\Users\\bitcamp\\anaconda3\\lib\\site-packages\\keras\\engine\\functional.py\", line 451, in call\n      return self._run_internal_graph(\n    File \"C:\\Users\\bitcamp\\anaconda3\\lib\\site-packages\\keras\\engine\\functional.py\", line 589, in _run_internal_graph\n      outputs = node.layer(*args, **kwargs)\n    File \"C:\\Users\\bitcamp\\anaconda3\\lib\\site-packages\\keras\\utils\\traceback_utils.py\", line 64, in error_handler\n      return fn(*args, **kwargs)\n    File \"C:\\Users\\bitcamp\\anaconda3\\lib\\site-packages\\keras\\engine\\base_layer.py\", line 1096, in __call__\n      outputs = call_fn(inputs, *args, **kwargs)\n    File \"C:\\Users\\bitcamp\\anaconda3\\lib\\site-packages\\keras\\utils\\traceback_utils.py\", line 92, in error_handler\n      return fn(*args, **kwargs)\n    File \"C:\\Users\\bitcamp\\anaconda3\\lib\\site-packages\\keras\\layers\\embeddings.py\", line 197, in call\n      out = tf.nn.embedding_lookup(self.embeddings, inputs)\nNode: 'sequential_12/embedding_2/embedding_lookup'\nindices[44,466] = 4222 is not in [0, 1000)\n\t [[{{node sequential_12/embedding_2/embedding_lookup}}]] [Op:__inference_train_function_25807]",
     "output_type": "error",
     "traceback": [
      "\u001b[1;31m---------------------------------------------------------------------------\u001b[0m",
      "\u001b[1;31mInvalidArgumentError\u001b[0m                      Traceback (most recent call last)",
      "\u001b[1;32m~\\AppData\\Local\\Temp/ipykernel_4336/803752097.py\u001b[0m in \u001b[0;36m<module>\u001b[1;34m\u001b[0m\n\u001b[1;32m----> 1\u001b[1;33m \u001b[0mhist\u001b[0m \u001b[1;33m=\u001b[0m \u001b[0mmodel\u001b[0m\u001b[1;33m.\u001b[0m\u001b[0mfit\u001b[0m\u001b[1;33m(\u001b[0m\u001b[0mx_train\u001b[0m\u001b[1;33m,\u001b[0m \u001b[0my_train\u001b[0m\u001b[1;33m,\u001b[0m \u001b[0mbatch_size\u001b[0m\u001b[1;33m=\u001b[0m\u001b[1;36m128\u001b[0m\u001b[1;33m,\u001b[0m \u001b[0mepochs\u001b[0m\u001b[1;33m=\u001b[0m\u001b[1;36m30\u001b[0m\u001b[1;33m,\u001b[0m \u001b[0mcallbacks\u001b[0m\u001b[1;33m=\u001b[0m\u001b[1;33m[\u001b[0m\u001b[0mes\u001b[0m\u001b[1;33m,\u001b[0m \u001b[0mmc\u001b[0m\u001b[1;33m]\u001b[0m\u001b[1;33m,\u001b[0m \u001b[0mvalidation_data\u001b[0m\u001b[1;33m=\u001b[0m\u001b[1;33m(\u001b[0m\u001b[0mx_test\u001b[0m\u001b[1;33m,\u001b[0m \u001b[0my_test\u001b[0m\u001b[1;33m)\u001b[0m\u001b[1;33m)\u001b[0m\u001b[1;33m\u001b[0m\u001b[1;33m\u001b[0m\u001b[0m\n\u001b[0m",
      "\u001b[1;32m~\\anaconda3\\lib\\site-packages\\keras\\utils\\traceback_utils.py\u001b[0m in \u001b[0;36merror_handler\u001b[1;34m(*args, **kwargs)\u001b[0m\n\u001b[0;32m     65\u001b[0m     \u001b[1;32mexcept\u001b[0m \u001b[0mException\u001b[0m \u001b[1;32mas\u001b[0m \u001b[0me\u001b[0m\u001b[1;33m:\u001b[0m  \u001b[1;31m# pylint: disable=broad-except\u001b[0m\u001b[1;33m\u001b[0m\u001b[1;33m\u001b[0m\u001b[0m\n\u001b[0;32m     66\u001b[0m       \u001b[0mfiltered_tb\u001b[0m \u001b[1;33m=\u001b[0m \u001b[0m_process_traceback_frames\u001b[0m\u001b[1;33m(\u001b[0m\u001b[0me\u001b[0m\u001b[1;33m.\u001b[0m\u001b[0m__traceback__\u001b[0m\u001b[1;33m)\u001b[0m\u001b[1;33m\u001b[0m\u001b[1;33m\u001b[0m\u001b[0m\n\u001b[1;32m---> 67\u001b[1;33m       \u001b[1;32mraise\u001b[0m \u001b[0me\u001b[0m\u001b[1;33m.\u001b[0m\u001b[0mwith_traceback\u001b[0m\u001b[1;33m(\u001b[0m\u001b[0mfiltered_tb\u001b[0m\u001b[1;33m)\u001b[0m \u001b[1;32mfrom\u001b[0m \u001b[1;32mNone\u001b[0m\u001b[1;33m\u001b[0m\u001b[1;33m\u001b[0m\u001b[0m\n\u001b[0m\u001b[0;32m     68\u001b[0m     \u001b[1;32mfinally\u001b[0m\u001b[1;33m:\u001b[0m\u001b[1;33m\u001b[0m\u001b[1;33m\u001b[0m\u001b[0m\n\u001b[0;32m     69\u001b[0m       \u001b[1;32mdel\u001b[0m \u001b[0mfiltered_tb\u001b[0m\u001b[1;33m\u001b[0m\u001b[1;33m\u001b[0m\u001b[0m\n",
      "\u001b[1;32m~\\anaconda3\\lib\\site-packages\\tensorflow\\python\\eager\\execute.py\u001b[0m in \u001b[0;36mquick_execute\u001b[1;34m(op_name, num_outputs, inputs, attrs, ctx, name)\u001b[0m\n\u001b[0;32m     52\u001b[0m   \u001b[1;32mtry\u001b[0m\u001b[1;33m:\u001b[0m\u001b[1;33m\u001b[0m\u001b[1;33m\u001b[0m\u001b[0m\n\u001b[0;32m     53\u001b[0m     \u001b[0mctx\u001b[0m\u001b[1;33m.\u001b[0m\u001b[0mensure_initialized\u001b[0m\u001b[1;33m(\u001b[0m\u001b[1;33m)\u001b[0m\u001b[1;33m\u001b[0m\u001b[1;33m\u001b[0m\u001b[0m\n\u001b[1;32m---> 54\u001b[1;33m     tensors = pywrap_tfe.TFE_Py_Execute(ctx._handle, device_name, op_name,\n\u001b[0m\u001b[0;32m     55\u001b[0m                                         inputs, attrs, num_outputs)\n\u001b[0;32m     56\u001b[0m   \u001b[1;32mexcept\u001b[0m \u001b[0mcore\u001b[0m\u001b[1;33m.\u001b[0m\u001b[0m_NotOkStatusException\u001b[0m \u001b[1;32mas\u001b[0m \u001b[0me\u001b[0m\u001b[1;33m:\u001b[0m\u001b[1;33m\u001b[0m\u001b[1;33m\u001b[0m\u001b[0m\n",
      "\u001b[1;31mInvalidArgumentError\u001b[0m: Graph execution error:\n\nDetected at node 'sequential_12/embedding_2/embedding_lookup' defined at (most recent call last):\n    File \"C:\\Users\\bitcamp\\anaconda3\\lib\\runpy.py\", line 197, in _run_module_as_main\n      return _run_code(code, main_globals, None,\n    File \"C:\\Users\\bitcamp\\anaconda3\\lib\\runpy.py\", line 87, in _run_code\n      exec(code, run_globals)\n    File \"C:\\Users\\bitcamp\\anaconda3\\lib\\site-packages\\ipykernel_launcher.py\", line 16, in <module>\n      app.launch_new_instance()\n    File \"C:\\Users\\bitcamp\\anaconda3\\lib\\site-packages\\traitlets\\config\\application.py\", line 846, in launch_instance\n      app.start()\n    File \"C:\\Users\\bitcamp\\anaconda3\\lib\\site-packages\\ipykernel\\kernelapp.py\", line 677, in start\n      self.io_loop.start()\n    File \"C:\\Users\\bitcamp\\anaconda3\\lib\\site-packages\\tornado\\platform\\asyncio.py\", line 199, in start\n      self.asyncio_loop.run_forever()\n    File \"C:\\Users\\bitcamp\\anaconda3\\lib\\asyncio\\base_events.py\", line 596, in run_forever\n      self._run_once()\n    File \"C:\\Users\\bitcamp\\anaconda3\\lib\\asyncio\\base_events.py\", line 1890, in _run_once\n      handle._run()\n    File \"C:\\Users\\bitcamp\\anaconda3\\lib\\asyncio\\events.py\", line 80, in _run\n      self._context.run(self._callback, *self._args)\n    File \"C:\\Users\\bitcamp\\anaconda3\\lib\\site-packages\\ipykernel\\kernelbase.py\", line 457, in dispatch_queue\n      await self.process_one()\n    File \"C:\\Users\\bitcamp\\anaconda3\\lib\\site-packages\\ipykernel\\kernelbase.py\", line 446, in process_one\n      await dispatch(*args)\n    File \"C:\\Users\\bitcamp\\anaconda3\\lib\\site-packages\\ipykernel\\kernelbase.py\", line 353, in dispatch_shell\n      await result\n    File \"C:\\Users\\bitcamp\\anaconda3\\lib\\site-packages\\ipykernel\\kernelbase.py\", line 648, in execute_request\n      reply_content = await reply_content\n    File \"C:\\Users\\bitcamp\\anaconda3\\lib\\site-packages\\ipykernel\\ipkernel.py\", line 353, in do_execute\n      res = shell.run_cell(code, store_history=store_history, silent=silent)\n    File \"C:\\Users\\bitcamp\\anaconda3\\lib\\site-packages\\ipykernel\\zmqshell.py\", line 533, in run_cell\n      return super(ZMQInteractiveShell, self).run_cell(*args, **kwargs)\n    File \"C:\\Users\\bitcamp\\anaconda3\\lib\\site-packages\\IPython\\core\\interactiveshell.py\", line 2901, in run_cell\n      result = self._run_cell(\n    File \"C:\\Users\\bitcamp\\anaconda3\\lib\\site-packages\\IPython\\core\\interactiveshell.py\", line 2947, in _run_cell\n      return runner(coro)\n    File \"C:\\Users\\bitcamp\\anaconda3\\lib\\site-packages\\IPython\\core\\async_helpers.py\", line 68, in _pseudo_sync_runner\n      coro.send(None)\n    File \"C:\\Users\\bitcamp\\anaconda3\\lib\\site-packages\\IPython\\core\\interactiveshell.py\", line 3172, in run_cell_async\n      has_raised = await self.run_ast_nodes(code_ast.body, cell_name,\n    File \"C:\\Users\\bitcamp\\anaconda3\\lib\\site-packages\\IPython\\core\\interactiveshell.py\", line 3364, in run_ast_nodes\n      if (await self.run_code(code, result,  async_=asy)):\n    File \"C:\\Users\\bitcamp\\anaconda3\\lib\\site-packages\\IPython\\core\\interactiveshell.py\", line 3444, in run_code\n      exec(code_obj, self.user_global_ns, self.user_ns)\n    File \"C:\\Users\\bitcamp\\AppData\\Local\\Temp/ipykernel_4336/803752097.py\", line 1, in <module>\n      hist = model.fit(x_train, y_train, batch_size=128, epochs=30, callbacks=[es, mc], validation_data=(x_test, y_test))\n    File \"C:\\Users\\bitcamp\\anaconda3\\lib\\site-packages\\keras\\utils\\traceback_utils.py\", line 64, in error_handler\n      return fn(*args, **kwargs)\n    File \"C:\\Users\\bitcamp\\anaconda3\\lib\\site-packages\\keras\\engine\\training.py\", line 1384, in fit\n      tmp_logs = self.train_function(iterator)\n    File \"C:\\Users\\bitcamp\\anaconda3\\lib\\site-packages\\keras\\engine\\training.py\", line 1021, in train_function\n      return step_function(self, iterator)\n    File \"C:\\Users\\bitcamp\\anaconda3\\lib\\site-packages\\keras\\engine\\training.py\", line 1010, in step_function\n      outputs = model.distribute_strategy.run(run_step, args=(data,))\n    File \"C:\\Users\\bitcamp\\anaconda3\\lib\\site-packages\\keras\\engine\\training.py\", line 1000, in run_step\n      outputs = model.train_step(data)\n    File \"C:\\Users\\bitcamp\\anaconda3\\lib\\site-packages\\keras\\engine\\training.py\", line 859, in train_step\n      y_pred = self(x, training=True)\n    File \"C:\\Users\\bitcamp\\anaconda3\\lib\\site-packages\\keras\\utils\\traceback_utils.py\", line 64, in error_handler\n      return fn(*args, **kwargs)\n    File \"C:\\Users\\bitcamp\\anaconda3\\lib\\site-packages\\keras\\engine\\base_layer.py\", line 1096, in __call__\n      outputs = call_fn(inputs, *args, **kwargs)\n    File \"C:\\Users\\bitcamp\\anaconda3\\lib\\site-packages\\keras\\utils\\traceback_utils.py\", line 92, in error_handler\n      return fn(*args, **kwargs)\n    File \"C:\\Users\\bitcamp\\anaconda3\\lib\\site-packages\\keras\\engine\\sequential.py\", line 374, in call\n      return super(Sequential, self).call(inputs, training=training, mask=mask)\n    File \"C:\\Users\\bitcamp\\anaconda3\\lib\\site-packages\\keras\\engine\\functional.py\", line 451, in call\n      return self._run_internal_graph(\n    File \"C:\\Users\\bitcamp\\anaconda3\\lib\\site-packages\\keras\\engine\\functional.py\", line 589, in _run_internal_graph\n      outputs = node.layer(*args, **kwargs)\n    File \"C:\\Users\\bitcamp\\anaconda3\\lib\\site-packages\\keras\\utils\\traceback_utils.py\", line 64, in error_handler\n      return fn(*args, **kwargs)\n    File \"C:\\Users\\bitcamp\\anaconda3\\lib\\site-packages\\keras\\engine\\base_layer.py\", line 1096, in __call__\n      outputs = call_fn(inputs, *args, **kwargs)\n    File \"C:\\Users\\bitcamp\\anaconda3\\lib\\site-packages\\keras\\utils\\traceback_utils.py\", line 92, in error_handler\n      return fn(*args, **kwargs)\n    File \"C:\\Users\\bitcamp\\anaconda3\\lib\\site-packages\\keras\\layers\\embeddings.py\", line 197, in call\n      out = tf.nn.embedding_lookup(self.embeddings, inputs)\nNode: 'sequential_12/embedding_2/embedding_lookup'\nindices[44,466] = 4222 is not in [0, 1000)\n\t [[{{node sequential_12/embedding_2/embedding_lookup}}]] [Op:__inference_train_function_25807]"
     ]
    }
   ],
   "source": [
    "hist = model.fit(x_train, y_train, batch_size=128, epochs=30, callbacks=[es, mc], validation_data=(x_test, y_test))"
   ]
  },
  {
   "cell_type": "code",
   "execution_count": null,
   "metadata": {
    "id": "qSaWRStsjzbB"
   },
   "outputs": [],
   "source": [
    "loaded_model = load_model('best_model.h5')"
   ]
  },
  {
   "cell_type": "code",
   "execution_count": null,
   "metadata": {
    "colab": {
     "base_uri": "https://localhost:8080/"
    },
    "id": "EckNVI15jzdg",
    "outputId": "58e7290b-e056-48d6-d523-5f94369e7258"
   },
   "outputs": [],
   "source": [
    "loaded_model.evaluate(x_test, y_test)"
   ]
  },
  {
   "cell_type": "code",
   "execution_count": null,
   "metadata": {
    "id": "Ed3RpcHPjzgQ"
   },
   "outputs": [],
   "source": []
  },
  {
   "cell_type": "code",
   "execution_count": null,
   "metadata": {
    "id": "e-7Z8wjzjzi4"
   },
   "outputs": [],
   "source": []
  },
  {
   "cell_type": "markdown",
   "metadata": {
    "id": "svx6OQCRzRl6"
   },
   "source": [
    "### IMDB 리뷰 감성 분류하기(IMDB Movie Review Sentiment Analysis) \n",
    "\n",
    "* 감성 분류를 연습하기 위해 자주 사용하는 영어 데이터\n",
    "* 리뷰에 대한 텍스트와 해당 리뷰가 긍정인 경우 1을 부정인 경우 0으로 표시한 레이블로 구성\n",
    "* imdb.load_data()"
   ]
  },
  {
   "cell_type": "code",
   "execution_count": 77,
   "metadata": {
    "id": "1Zwq660EzegC"
   },
   "outputs": [],
   "source": [
    "from tensorflow.keras.datasets import reuters\n",
    "from tensorflow.keras.models import Sequential\n",
    "from tensorflow.keras.layers import Dense, LSTM, Embedding, Dropout, Bidirectional\n",
    "from tensorflow.keras.preprocessing.sequence import pad_sequences\n",
    "from tensorflow.keras.utils import to_categorical\n",
    "from tensorflow.keras.callbacks import EarlyStopping, ModelCheckpoint\n",
    "from tensorflow.keras.models import load_model"
   ]
  },
  {
   "cell_type": "code",
   "execution_count": 78,
   "metadata": {
    "id": "q8clq1IEjzlw"
   },
   "outputs": [],
   "source": [
    "from tensorflow.keras.datasets import imdb"
   ]
  },
  {
   "cell_type": "markdown",
   "metadata": {},
   "source": [
    "* 훈련 데이터와 테스트 데이터를 50:50 비율로 구분해서 제공 \n",
    "* 비율 조절 x"
   ]
  },
  {
   "cell_type": "code",
   "execution_count": 80,
   "metadata": {
    "id": "L2016iN2sf3E"
   },
   "outputs": [
    {
     "name": "stdout",
     "output_type": "stream",
     "text": [
      "Downloading data from https://storage.googleapis.com/tensorflow/tf-keras-datasets/imdb.npz\n",
      "17465344/17464789 [==============================] - 0s 0us/step\n",
      "17473536/17464789 [==============================] - 0s 0us/step\n"
     ]
    }
   ],
   "source": [
    "(x_train, y_train), (x_test, y_test) = imdb.load_data(num_words=5000)"
   ]
  },
  {
   "cell_type": "code",
   "execution_count": 81,
   "metadata": {
    "colab": {
     "base_uri": "https://localhost:8080/"
    },
    "id": "x9n-US0Rsf6B",
    "outputId": "65106225-3747-4a48-fa6c-fba85fe2f952"
   },
   "outputs": [
    {
     "data": {
      "text/plain": [
       "(25000,)"
      ]
     },
     "execution_count": 81,
     "metadata": {},
     "output_type": "execute_result"
    }
   ],
   "source": [
    "x_train.shape"
   ]
  },
  {
   "cell_type": "code",
   "execution_count": 82,
   "metadata": {
    "colab": {
     "base_uri": "https://localhost:8080/"
    },
    "id": "B0yomb0lsf_p",
    "outputId": "47e3a389-7faf-4b30-cc2c-9587023a62b0"
   },
   "outputs": [
    {
     "data": {
      "text/plain": [
       "(25000,)"
      ]
     },
     "execution_count": 82,
     "metadata": {},
     "output_type": "execute_result"
    }
   ],
   "source": [
    "x_test.shape"
   ]
  },
  {
   "cell_type": "code",
   "execution_count": 83,
   "metadata": {
    "collapsed": true,
    "id": "RPJUmms5sgGb"
   },
   "outputs": [
    {
     "data": {
      "text/plain": [
       "[1,\n",
       " 14,\n",
       " 22,\n",
       " 16,\n",
       " 43,\n",
       " 530,\n",
       " 973,\n",
       " 1622,\n",
       " 1385,\n",
       " 65,\n",
       " 458,\n",
       " 4468,\n",
       " 66,\n",
       " 3941,\n",
       " 4,\n",
       " 173,\n",
       " 36,\n",
       " 256,\n",
       " 5,\n",
       " 25,\n",
       " 100,\n",
       " 43,\n",
       " 838,\n",
       " 112,\n",
       " 50,\n",
       " 670,\n",
       " 2,\n",
       " 9,\n",
       " 35,\n",
       " 480,\n",
       " 284,\n",
       " 5,\n",
       " 150,\n",
       " 4,\n",
       " 172,\n",
       " 112,\n",
       " 167,\n",
       " 2,\n",
       " 336,\n",
       " 385,\n",
       " 39,\n",
       " 4,\n",
       " 172,\n",
       " 4536,\n",
       " 1111,\n",
       " 17,\n",
       " 546,\n",
       " 38,\n",
       " 13,\n",
       " 447,\n",
       " 4,\n",
       " 192,\n",
       " 50,\n",
       " 16,\n",
       " 6,\n",
       " 147,\n",
       " 2025,\n",
       " 19,\n",
       " 14,\n",
       " 22,\n",
       " 4,\n",
       " 1920,\n",
       " 4613,\n",
       " 469,\n",
       " 4,\n",
       " 22,\n",
       " 71,\n",
       " 87,\n",
       " 12,\n",
       " 16,\n",
       " 43,\n",
       " 530,\n",
       " 38,\n",
       " 76,\n",
       " 15,\n",
       " 13,\n",
       " 1247,\n",
       " 4,\n",
       " 22,\n",
       " 17,\n",
       " 515,\n",
       " 17,\n",
       " 12,\n",
       " 16,\n",
       " 626,\n",
       " 18,\n",
       " 2,\n",
       " 5,\n",
       " 62,\n",
       " 386,\n",
       " 12,\n",
       " 8,\n",
       " 316,\n",
       " 8,\n",
       " 106,\n",
       " 5,\n",
       " 4,\n",
       " 2223,\n",
       " 2,\n",
       " 16,\n",
       " 480,\n",
       " 66,\n",
       " 3785,\n",
       " 33,\n",
       " 4,\n",
       " 130,\n",
       " 12,\n",
       " 16,\n",
       " 38,\n",
       " 619,\n",
       " 5,\n",
       " 25,\n",
       " 124,\n",
       " 51,\n",
       " 36,\n",
       " 135,\n",
       " 48,\n",
       " 25,\n",
       " 1415,\n",
       " 33,\n",
       " 6,\n",
       " 22,\n",
       " 12,\n",
       " 215,\n",
       " 28,\n",
       " 77,\n",
       " 52,\n",
       " 5,\n",
       " 14,\n",
       " 407,\n",
       " 16,\n",
       " 82,\n",
       " 2,\n",
       " 8,\n",
       " 4,\n",
       " 107,\n",
       " 117,\n",
       " 2,\n",
       " 15,\n",
       " 256,\n",
       " 4,\n",
       " 2,\n",
       " 7,\n",
       " 3766,\n",
       " 5,\n",
       " 723,\n",
       " 36,\n",
       " 71,\n",
       " 43,\n",
       " 530,\n",
       " 476,\n",
       " 26,\n",
       " 400,\n",
       " 317,\n",
       " 46,\n",
       " 7,\n",
       " 4,\n",
       " 2,\n",
       " 1029,\n",
       " 13,\n",
       " 104,\n",
       " 88,\n",
       " 4,\n",
       " 381,\n",
       " 15,\n",
       " 297,\n",
       " 98,\n",
       " 32,\n",
       " 2071,\n",
       " 56,\n",
       " 26,\n",
       " 141,\n",
       " 6,\n",
       " 194,\n",
       " 2,\n",
       " 18,\n",
       " 4,\n",
       " 226,\n",
       " 22,\n",
       " 21,\n",
       " 134,\n",
       " 476,\n",
       " 26,\n",
       " 480,\n",
       " 5,\n",
       " 144,\n",
       " 30,\n",
       " 2,\n",
       " 18,\n",
       " 51,\n",
       " 36,\n",
       " 28,\n",
       " 224,\n",
       " 92,\n",
       " 25,\n",
       " 104,\n",
       " 4,\n",
       " 226,\n",
       " 65,\n",
       " 16,\n",
       " 38,\n",
       " 1334,\n",
       " 88,\n",
       " 12,\n",
       " 16,\n",
       " 283,\n",
       " 5,\n",
       " 16,\n",
       " 4472,\n",
       " 113,\n",
       " 103,\n",
       " 32,\n",
       " 15,\n",
       " 16,\n",
       " 2,\n",
       " 19,\n",
       " 178,\n",
       " 32]"
      ]
     },
     "execution_count": 83,
     "metadata": {},
     "output_type": "execute_result"
    }
   ],
   "source": [
    "# 토큰화와 정수 인코딩이라는 텍스트 전처리가 끝난 상태\n",
    "# IMDB 리뷰 데이터는 전체 데이터에서 각 단어들의 등장 빈도에 따라서 인덱스를 부여\n",
    "# 숫자가 낮을수록 이 데이터에서 등장 빈도 순위가 높음\n",
    "\n",
    "x_train[0]"
   ]
  },
  {
   "cell_type": "code",
   "execution_count": 84,
   "metadata": {
    "colab": {
     "base_uri": "https://localhost:8080/"
    },
    "id": "TtHK6FoVsgJh",
    "outputId": "e5525939-4455-47fc-88dd-c31102d88bac",
    "scrolled": true
   },
   "outputs": [
    {
     "data": {
      "text/plain": [
       "array([1, 0, 0, ..., 0, 1, 0], dtype=int64)"
      ]
     },
     "execution_count": 84,
     "metadata": {},
     "output_type": "execute_result"
    }
   ],
   "source": [
    "# x_train의 레이블인 y_train 은 감성정보의 0,1 값을 가짐\n",
    "\n",
    "y_train"
   ]
  },
  {
   "cell_type": "code",
   "execution_count": null,
   "metadata": {
    "id": "dcgYC3qXsgMh"
   },
   "outputs": [],
   "source": []
  },
  {
   "cell_type": "code",
   "execution_count": 85,
   "metadata": {
    "id": "qr0jN_tRzxDt"
   },
   "outputs": [],
   "source": [
    "max_len = 500\n",
    "x_train = pad_sequences(x_train, maxlen=max_len)\n",
    "x_test = pad_sequences(x_test, maxlen=max_len)"
   ]
  },
  {
   "cell_type": "code",
   "execution_count": 86,
   "metadata": {
    "id": "baO4ybuJsgPJ"
   },
   "outputs": [],
   "source": [
    "model = Sequential()\n",
    "model.add(Embedding(5000, 120))\n",
    "model.add(LSTM(120))\n",
    "model.add(Dense(1, activation='sigmoid'))"
   ]
  },
  {
   "cell_type": "code",
   "execution_count": 87,
   "metadata": {
    "id": "0YrphOartHy5"
   },
   "outputs": [],
   "source": [
    "es = EarlyStopping(monitor='val_loss', mode='min', verbose=1, patience=5)\n",
    "mc = ModelCheckpoint('best_model.h5', monitor='val_acc', mode='max', verbose=1, save_best_only=True)"
   ]
  },
  {
   "cell_type": "code",
   "execution_count": 88,
   "metadata": {
    "id": "Wa_erSwTtH5C"
   },
   "outputs": [],
   "source": [
    "model.compile(loss='binary_crossentropy', optimizer='adam', metrics=['acc'])"
   ]
  },
  {
   "cell_type": "code",
   "execution_count": 89,
   "metadata": {
    "collapsed": true,
    "id": "A7lqH006tH8Q"
   },
   "outputs": [
    {
     "name": "stdout",
     "output_type": "stream",
     "text": [
      "Epoch 1/50\n",
      "196/196 [==============================] - ETA: 0s - loss: 0.4473 - acc: 0.7830\n",
      "Epoch 1: val_acc improved from -inf to 0.86084, saving model to best_model.h5\n",
      "196/196 [==============================] - 238s 1s/step - loss: 0.4473 - acc: 0.7830 - val_loss: 0.3642 - val_acc: 0.8608\n",
      "Epoch 2/50\n",
      "173/196 [=========================>....] - ETA: 25s - loss: 0.3221 - acc: 0.8602"
     ]
    },
    {
     "ename": "KeyboardInterrupt",
     "evalue": "",
     "output_type": "error",
     "traceback": [
      "\u001b[1;31m---------------------------------------------------------------------------\u001b[0m",
      "\u001b[1;31mKeyboardInterrupt\u001b[0m                         Traceback (most recent call last)",
      "\u001b[1;32m~\\AppData\\Local\\Temp/ipykernel_4336/2019127170.py\u001b[0m in \u001b[0;36m<module>\u001b[1;34m\u001b[0m\n\u001b[1;32m----> 1\u001b[1;33m \u001b[0mhist\u001b[0m \u001b[1;33m=\u001b[0m \u001b[0mmodel\u001b[0m\u001b[1;33m.\u001b[0m\u001b[0mfit\u001b[0m\u001b[1;33m(\u001b[0m\u001b[0mx_train\u001b[0m\u001b[1;33m,\u001b[0m \u001b[0my_train\u001b[0m\u001b[1;33m,\u001b[0m \u001b[0mbatch_size\u001b[0m\u001b[1;33m=\u001b[0m\u001b[1;36m128\u001b[0m\u001b[1;33m,\u001b[0m \u001b[0mepochs\u001b[0m\u001b[1;33m=\u001b[0m\u001b[1;36m50\u001b[0m\u001b[1;33m,\u001b[0m \u001b[0mcallbacks\u001b[0m\u001b[1;33m=\u001b[0m\u001b[1;33m[\u001b[0m\u001b[0mes\u001b[0m\u001b[1;33m,\u001b[0m \u001b[0mmc\u001b[0m\u001b[1;33m]\u001b[0m\u001b[1;33m,\u001b[0m \u001b[0mvalidation_data\u001b[0m\u001b[1;33m=\u001b[0m\u001b[1;33m(\u001b[0m\u001b[0mx_test\u001b[0m\u001b[1;33m,\u001b[0m \u001b[0my_test\u001b[0m\u001b[1;33m)\u001b[0m\u001b[1;33m)\u001b[0m\u001b[1;33m\u001b[0m\u001b[1;33m\u001b[0m\u001b[0m\n\u001b[0m",
      "\u001b[1;32m~\\anaconda3\\lib\\site-packages\\keras\\utils\\traceback_utils.py\u001b[0m in \u001b[0;36merror_handler\u001b[1;34m(*args, **kwargs)\u001b[0m\n\u001b[0;32m     62\u001b[0m     \u001b[0mfiltered_tb\u001b[0m \u001b[1;33m=\u001b[0m \u001b[1;32mNone\u001b[0m\u001b[1;33m\u001b[0m\u001b[1;33m\u001b[0m\u001b[0m\n\u001b[0;32m     63\u001b[0m     \u001b[1;32mtry\u001b[0m\u001b[1;33m:\u001b[0m\u001b[1;33m\u001b[0m\u001b[1;33m\u001b[0m\u001b[0m\n\u001b[1;32m---> 64\u001b[1;33m       \u001b[1;32mreturn\u001b[0m \u001b[0mfn\u001b[0m\u001b[1;33m(\u001b[0m\u001b[1;33m*\u001b[0m\u001b[0margs\u001b[0m\u001b[1;33m,\u001b[0m \u001b[1;33m**\u001b[0m\u001b[0mkwargs\u001b[0m\u001b[1;33m)\u001b[0m\u001b[1;33m\u001b[0m\u001b[1;33m\u001b[0m\u001b[0m\n\u001b[0m\u001b[0;32m     65\u001b[0m     \u001b[1;32mexcept\u001b[0m \u001b[0mException\u001b[0m \u001b[1;32mas\u001b[0m \u001b[0me\u001b[0m\u001b[1;33m:\u001b[0m  \u001b[1;31m# pylint: disable=broad-except\u001b[0m\u001b[1;33m\u001b[0m\u001b[1;33m\u001b[0m\u001b[0m\n\u001b[0;32m     66\u001b[0m       \u001b[0mfiltered_tb\u001b[0m \u001b[1;33m=\u001b[0m \u001b[0m_process_traceback_frames\u001b[0m\u001b[1;33m(\u001b[0m\u001b[0me\u001b[0m\u001b[1;33m.\u001b[0m\u001b[0m__traceback__\u001b[0m\u001b[1;33m)\u001b[0m\u001b[1;33m\u001b[0m\u001b[1;33m\u001b[0m\u001b[0m\n",
      "\u001b[1;32m~\\anaconda3\\lib\\site-packages\\keras\\engine\\training.py\u001b[0m in \u001b[0;36mfit\u001b[1;34m(self, x, y, batch_size, epochs, verbose, callbacks, validation_split, validation_data, shuffle, class_weight, sample_weight, initial_epoch, steps_per_epoch, validation_steps, validation_batch_size, validation_freq, max_queue_size, workers, use_multiprocessing)\u001b[0m\n\u001b[0;32m   1382\u001b[0m                 _r=1):\n\u001b[0;32m   1383\u001b[0m               \u001b[0mcallbacks\u001b[0m\u001b[1;33m.\u001b[0m\u001b[0mon_train_batch_begin\u001b[0m\u001b[1;33m(\u001b[0m\u001b[0mstep\u001b[0m\u001b[1;33m)\u001b[0m\u001b[1;33m\u001b[0m\u001b[1;33m\u001b[0m\u001b[0m\n\u001b[1;32m-> 1384\u001b[1;33m               \u001b[0mtmp_logs\u001b[0m \u001b[1;33m=\u001b[0m \u001b[0mself\u001b[0m\u001b[1;33m.\u001b[0m\u001b[0mtrain_function\u001b[0m\u001b[1;33m(\u001b[0m\u001b[0miterator\u001b[0m\u001b[1;33m)\u001b[0m\u001b[1;33m\u001b[0m\u001b[1;33m\u001b[0m\u001b[0m\n\u001b[0m\u001b[0;32m   1385\u001b[0m               \u001b[1;32mif\u001b[0m \u001b[0mdata_handler\u001b[0m\u001b[1;33m.\u001b[0m\u001b[0mshould_sync\u001b[0m\u001b[1;33m:\u001b[0m\u001b[1;33m\u001b[0m\u001b[1;33m\u001b[0m\u001b[0m\n\u001b[0;32m   1386\u001b[0m                 \u001b[0mcontext\u001b[0m\u001b[1;33m.\u001b[0m\u001b[0masync_wait\u001b[0m\u001b[1;33m(\u001b[0m\u001b[1;33m)\u001b[0m\u001b[1;33m\u001b[0m\u001b[1;33m\u001b[0m\u001b[0m\n",
      "\u001b[1;32m~\\anaconda3\\lib\\site-packages\\tensorflow\\python\\util\\traceback_utils.py\u001b[0m in \u001b[0;36merror_handler\u001b[1;34m(*args, **kwargs)\u001b[0m\n\u001b[0;32m    148\u001b[0m     \u001b[0mfiltered_tb\u001b[0m \u001b[1;33m=\u001b[0m \u001b[1;32mNone\u001b[0m\u001b[1;33m\u001b[0m\u001b[1;33m\u001b[0m\u001b[0m\n\u001b[0;32m    149\u001b[0m     \u001b[1;32mtry\u001b[0m\u001b[1;33m:\u001b[0m\u001b[1;33m\u001b[0m\u001b[1;33m\u001b[0m\u001b[0m\n\u001b[1;32m--> 150\u001b[1;33m       \u001b[1;32mreturn\u001b[0m \u001b[0mfn\u001b[0m\u001b[1;33m(\u001b[0m\u001b[1;33m*\u001b[0m\u001b[0margs\u001b[0m\u001b[1;33m,\u001b[0m \u001b[1;33m**\u001b[0m\u001b[0mkwargs\u001b[0m\u001b[1;33m)\u001b[0m\u001b[1;33m\u001b[0m\u001b[1;33m\u001b[0m\u001b[0m\n\u001b[0m\u001b[0;32m    151\u001b[0m     \u001b[1;32mexcept\u001b[0m \u001b[0mException\u001b[0m \u001b[1;32mas\u001b[0m \u001b[0me\u001b[0m\u001b[1;33m:\u001b[0m\u001b[1;33m\u001b[0m\u001b[1;33m\u001b[0m\u001b[0m\n\u001b[0;32m    152\u001b[0m       \u001b[0mfiltered_tb\u001b[0m \u001b[1;33m=\u001b[0m \u001b[0m_process_traceback_frames\u001b[0m\u001b[1;33m(\u001b[0m\u001b[0me\u001b[0m\u001b[1;33m.\u001b[0m\u001b[0m__traceback__\u001b[0m\u001b[1;33m)\u001b[0m\u001b[1;33m\u001b[0m\u001b[1;33m\u001b[0m\u001b[0m\n",
      "\u001b[1;32m~\\anaconda3\\lib\\site-packages\\tensorflow\\python\\eager\\def_function.py\u001b[0m in \u001b[0;36m__call__\u001b[1;34m(self, *args, **kwds)\u001b[0m\n\u001b[0;32m    913\u001b[0m \u001b[1;33m\u001b[0m\u001b[0m\n\u001b[0;32m    914\u001b[0m       \u001b[1;32mwith\u001b[0m \u001b[0mOptionalXlaContext\u001b[0m\u001b[1;33m(\u001b[0m\u001b[0mself\u001b[0m\u001b[1;33m.\u001b[0m\u001b[0m_jit_compile\u001b[0m\u001b[1;33m)\u001b[0m\u001b[1;33m:\u001b[0m\u001b[1;33m\u001b[0m\u001b[1;33m\u001b[0m\u001b[0m\n\u001b[1;32m--> 915\u001b[1;33m         \u001b[0mresult\u001b[0m \u001b[1;33m=\u001b[0m \u001b[0mself\u001b[0m\u001b[1;33m.\u001b[0m\u001b[0m_call\u001b[0m\u001b[1;33m(\u001b[0m\u001b[1;33m*\u001b[0m\u001b[0margs\u001b[0m\u001b[1;33m,\u001b[0m \u001b[1;33m**\u001b[0m\u001b[0mkwds\u001b[0m\u001b[1;33m)\u001b[0m\u001b[1;33m\u001b[0m\u001b[1;33m\u001b[0m\u001b[0m\n\u001b[0m\u001b[0;32m    916\u001b[0m \u001b[1;33m\u001b[0m\u001b[0m\n\u001b[0;32m    917\u001b[0m       \u001b[0mnew_tracing_count\u001b[0m \u001b[1;33m=\u001b[0m \u001b[0mself\u001b[0m\u001b[1;33m.\u001b[0m\u001b[0mexperimental_get_tracing_count\u001b[0m\u001b[1;33m(\u001b[0m\u001b[1;33m)\u001b[0m\u001b[1;33m\u001b[0m\u001b[1;33m\u001b[0m\u001b[0m\n",
      "\u001b[1;32m~\\anaconda3\\lib\\site-packages\\tensorflow\\python\\eager\\def_function.py\u001b[0m in \u001b[0;36m_call\u001b[1;34m(self, *args, **kwds)\u001b[0m\n\u001b[0;32m    945\u001b[0m       \u001b[1;31m# In this case we have created variables on the first call, so we run the\u001b[0m\u001b[1;33m\u001b[0m\u001b[1;33m\u001b[0m\u001b[0m\n\u001b[0;32m    946\u001b[0m       \u001b[1;31m# defunned version which is guaranteed to never create variables.\u001b[0m\u001b[1;33m\u001b[0m\u001b[1;33m\u001b[0m\u001b[0m\n\u001b[1;32m--> 947\u001b[1;33m       \u001b[1;32mreturn\u001b[0m \u001b[0mself\u001b[0m\u001b[1;33m.\u001b[0m\u001b[0m_stateless_fn\u001b[0m\u001b[1;33m(\u001b[0m\u001b[1;33m*\u001b[0m\u001b[0margs\u001b[0m\u001b[1;33m,\u001b[0m \u001b[1;33m**\u001b[0m\u001b[0mkwds\u001b[0m\u001b[1;33m)\u001b[0m  \u001b[1;31m# pylint: disable=not-callable\u001b[0m\u001b[1;33m\u001b[0m\u001b[1;33m\u001b[0m\u001b[0m\n\u001b[0m\u001b[0;32m    948\u001b[0m     \u001b[1;32melif\u001b[0m \u001b[0mself\u001b[0m\u001b[1;33m.\u001b[0m\u001b[0m_stateful_fn\u001b[0m \u001b[1;32mis\u001b[0m \u001b[1;32mnot\u001b[0m \u001b[1;32mNone\u001b[0m\u001b[1;33m:\u001b[0m\u001b[1;33m\u001b[0m\u001b[1;33m\u001b[0m\u001b[0m\n\u001b[0;32m    949\u001b[0m       \u001b[1;31m# Release the lock early so that multiple threads can perform the call\u001b[0m\u001b[1;33m\u001b[0m\u001b[1;33m\u001b[0m\u001b[0m\n",
      "\u001b[1;32m~\\anaconda3\\lib\\site-packages\\tensorflow\\python\\eager\\function.py\u001b[0m in \u001b[0;36m__call__\u001b[1;34m(self, *args, **kwargs)\u001b[0m\n\u001b[0;32m   2954\u001b[0m       (graph_function,\n\u001b[0;32m   2955\u001b[0m        filtered_flat_args) = self._maybe_define_function(args, kwargs)\n\u001b[1;32m-> 2956\u001b[1;33m     return graph_function._call_flat(\n\u001b[0m\u001b[0;32m   2957\u001b[0m         filtered_flat_args, captured_inputs=graph_function.captured_inputs)  # pylint: disable=protected-access\n\u001b[0;32m   2958\u001b[0m \u001b[1;33m\u001b[0m\u001b[0m\n",
      "\u001b[1;32m~\\anaconda3\\lib\\site-packages\\tensorflow\\python\\eager\\function.py\u001b[0m in \u001b[0;36m_call_flat\u001b[1;34m(self, args, captured_inputs, cancellation_manager)\u001b[0m\n\u001b[0;32m   1851\u001b[0m         and executing_eagerly):\n\u001b[0;32m   1852\u001b[0m       \u001b[1;31m# No tape is watching; skip to running the function.\u001b[0m\u001b[1;33m\u001b[0m\u001b[1;33m\u001b[0m\u001b[0m\n\u001b[1;32m-> 1853\u001b[1;33m       return self._build_call_outputs(self._inference_function.call(\n\u001b[0m\u001b[0;32m   1854\u001b[0m           ctx, args, cancellation_manager=cancellation_manager))\n\u001b[0;32m   1855\u001b[0m     forward_backward = self._select_forward_and_backward_functions(\n",
      "\u001b[1;32m~\\anaconda3\\lib\\site-packages\\tensorflow\\python\\eager\\function.py\u001b[0m in \u001b[0;36mcall\u001b[1;34m(self, ctx, args, cancellation_manager)\u001b[0m\n\u001b[0;32m    497\u001b[0m       \u001b[1;32mwith\u001b[0m \u001b[0m_InterpolateFunctionError\u001b[0m\u001b[1;33m(\u001b[0m\u001b[0mself\u001b[0m\u001b[1;33m)\u001b[0m\u001b[1;33m:\u001b[0m\u001b[1;33m\u001b[0m\u001b[1;33m\u001b[0m\u001b[0m\n\u001b[0;32m    498\u001b[0m         \u001b[1;32mif\u001b[0m \u001b[0mcancellation_manager\u001b[0m \u001b[1;32mis\u001b[0m \u001b[1;32mNone\u001b[0m\u001b[1;33m:\u001b[0m\u001b[1;33m\u001b[0m\u001b[1;33m\u001b[0m\u001b[0m\n\u001b[1;32m--> 499\u001b[1;33m           outputs = execute.execute(\n\u001b[0m\u001b[0;32m    500\u001b[0m               \u001b[0mstr\u001b[0m\u001b[1;33m(\u001b[0m\u001b[0mself\u001b[0m\u001b[1;33m.\u001b[0m\u001b[0msignature\u001b[0m\u001b[1;33m.\u001b[0m\u001b[0mname\u001b[0m\u001b[1;33m)\u001b[0m\u001b[1;33m,\u001b[0m\u001b[1;33m\u001b[0m\u001b[1;33m\u001b[0m\u001b[0m\n\u001b[0;32m    501\u001b[0m               \u001b[0mnum_outputs\u001b[0m\u001b[1;33m=\u001b[0m\u001b[0mself\u001b[0m\u001b[1;33m.\u001b[0m\u001b[0m_num_outputs\u001b[0m\u001b[1;33m,\u001b[0m\u001b[1;33m\u001b[0m\u001b[1;33m\u001b[0m\u001b[0m\n",
      "\u001b[1;32m~\\anaconda3\\lib\\site-packages\\tensorflow\\python\\eager\\execute.py\u001b[0m in \u001b[0;36mquick_execute\u001b[1;34m(op_name, num_outputs, inputs, attrs, ctx, name)\u001b[0m\n\u001b[0;32m     52\u001b[0m   \u001b[1;32mtry\u001b[0m\u001b[1;33m:\u001b[0m\u001b[1;33m\u001b[0m\u001b[1;33m\u001b[0m\u001b[0m\n\u001b[0;32m     53\u001b[0m     \u001b[0mctx\u001b[0m\u001b[1;33m.\u001b[0m\u001b[0mensure_initialized\u001b[0m\u001b[1;33m(\u001b[0m\u001b[1;33m)\u001b[0m\u001b[1;33m\u001b[0m\u001b[1;33m\u001b[0m\u001b[0m\n\u001b[1;32m---> 54\u001b[1;33m     tensors = pywrap_tfe.TFE_Py_Execute(ctx._handle, device_name, op_name,\n\u001b[0m\u001b[0;32m     55\u001b[0m                                         inputs, attrs, num_outputs)\n\u001b[0;32m     56\u001b[0m   \u001b[1;32mexcept\u001b[0m \u001b[0mcore\u001b[0m\u001b[1;33m.\u001b[0m\u001b[0m_NotOkStatusException\u001b[0m \u001b[1;32mas\u001b[0m \u001b[0me\u001b[0m\u001b[1;33m:\u001b[0m\u001b[1;33m\u001b[0m\u001b[1;33m\u001b[0m\u001b[0m\n",
      "\u001b[1;31mKeyboardInterrupt\u001b[0m: "
     ]
    }
   ],
   "source": [
    "hist = model.fit(x_train, y_train, batch_size=128, epochs=50, callbacks=[es, mc], validation_data=(x_test, y_test))"
   ]
  },
  {
   "cell_type": "code",
   "execution_count": null,
   "metadata": {
    "id": "bp5n2_QttH_o"
   },
   "outputs": [],
   "source": [
    "loaded_model = load_model('best_model.h5')"
   ]
  },
  {
   "cell_type": "code",
   "execution_count": null,
   "metadata": {
    "colab": {
     "base_uri": "https://localhost:8080/"
    },
    "id": "6gXIvoJutIDD",
    "outputId": "ddacf811-d1ce-48dc-c7a8-c1a57ccd6c09"
   },
   "outputs": [],
   "source": [
    "loaded_model.evaluate(x_test, y_test)"
   ]
  },
  {
   "cell_type": "code",
   "execution_count": null,
   "metadata": {
    "id": "rWo7VZ5GtIGZ"
   },
   "outputs": [],
   "source": []
  },
  {
   "cell_type": "code",
   "execution_count": null,
   "metadata": {
    "id": "qVQnuSiMD6C1"
   },
   "outputs": [],
   "source": []
  },
  {
   "cell_type": "markdown",
   "metadata": {
    "id": "AGfd2QgpELY3"
   },
   "source": [
    "### 네이버 영화 리뷰 감성 분류하기(Naver Movie Review Sentiment Analysis) \n",
    "*  영화 리뷰에 대한 텍스트와 해당 리뷰가 긍정인 경우 1, 부정인 경우 0을 표시한 레이블로 구성"
   ]
  },
  {
   "cell_type": "code",
   "execution_count": null,
   "metadata": {
    "id": "iXHgd6aZD6Fj"
   },
   "outputs": [],
   "source": [
    "!curl -s https://raw.githubusercontent.com/teddylee777/machine-learning/master/99-Misc/01-Colab/mecab-colab.sh | bash"
   ]
  },
  {
   "cell_type": "code",
   "execution_count": 90,
   "metadata": {
    "id": "5Jz6uV7VD6Ib"
   },
   "outputs": [],
   "source": [
    "import pandas as pd\n",
    "import numpy as np\n",
    "import matplotlib.pyplot as plt\n",
    "import seaborn as sns"
   ]
  },
  {
   "cell_type": "code",
   "execution_count": 91,
   "metadata": {
    "id": "H0HjAhsFD6LD"
   },
   "outputs": [],
   "source": [
    "from konlpy.tag import Okt, Mecab, Komoran, Kkma, Hannanum\n",
    "\n",
    "okt = Okt()\n",
    "# mecab = Mecab()\n",
    "kom = Komoran()\n",
    "kkma = Kkma()\n",
    "han = Hannanum()"
   ]
  },
  {
   "cell_type": "code",
   "execution_count": 92,
   "metadata": {
    "id": "pZ_50l6-D6N7"
   },
   "outputs": [],
   "source": [
    "train_df = pd.read_csv('./ratings_train.txt', sep='\\t')\n",
    "test_df = pd.read_csv('./ratings_test.txt', sep='\\t')\n"
   ]
  },
  {
   "cell_type": "code",
   "execution_count": 93,
   "metadata": {
    "id": "WsN2NfLsD6Qt"
   },
   "outputs": [],
   "source": [
    "import re\n",
    "from tensorflow.keras.preprocessing.text import Tokenizer\n",
    "from tensorflow.keras.preprocessing.sequence import pad_sequences"
   ]
  },
  {
   "cell_type": "code",
   "execution_count": 94,
   "metadata": {
    "colab": {
     "base_uri": "https://localhost:8080/"
    },
    "id": "1OK1fSaRD6Tn",
    "outputId": "814d154e-5b45-455a-fc22-cf7ff8558f8d"
   },
   "outputs": [
    {
     "data": {
      "text/plain": [
       "150000"
      ]
     },
     "execution_count": 94,
     "metadata": {},
     "output_type": "execute_result"
    }
   ],
   "source": [
    "# 훈련용 리뷰 개수\n",
    "len(train_df)"
   ]
  },
  {
   "cell_type": "code",
   "execution_count": 95,
   "metadata": {
    "colab": {
     "base_uri": "https://localhost:8080/"
    },
    "id": "3UidosmqD6WM",
    "outputId": "128d8e4d-5c85-432d-f305-c3d7af2ac461"
   },
   "outputs": [
    {
     "data": {
      "text/plain": [
       "50000"
      ]
     },
     "execution_count": 95,
     "metadata": {},
     "output_type": "execute_result"
    }
   ],
   "source": [
    "# 테스트용 리뷰 개수 \n",
    "len(test_df)"
   ]
  },
  {
   "cell_type": "code",
   "execution_count": 96,
   "metadata": {
    "colab": {
     "base_uri": "https://localhost:8080/",
     "height": 206
    },
    "collapsed": true,
    "id": "os3i2jrLD6Yu",
    "outputId": "69cd7e92-3155-4f7f-ffd7-e9042326c61d"
   },
   "outputs": [
    {
     "data": {
      "text/html": [
       "<div>\n",
       "<style scoped>\n",
       "    .dataframe tbody tr th:only-of-type {\n",
       "        vertical-align: middle;\n",
       "    }\n",
       "\n",
       "    .dataframe tbody tr th {\n",
       "        vertical-align: top;\n",
       "    }\n",
       "\n",
       "    .dataframe thead th {\n",
       "        text-align: right;\n",
       "    }\n",
       "</style>\n",
       "<table border=\"1\" class=\"dataframe\">\n",
       "  <thead>\n",
       "    <tr style=\"text-align: right;\">\n",
       "      <th></th>\n",
       "      <th>id</th>\n",
       "      <th>document</th>\n",
       "      <th>label</th>\n",
       "    </tr>\n",
       "  </thead>\n",
       "  <tbody>\n",
       "    <tr>\n",
       "      <th>0</th>\n",
       "      <td>9976970</td>\n",
       "      <td>아 더빙.. 진짜 짜증나네요 목소리</td>\n",
       "      <td>0</td>\n",
       "    </tr>\n",
       "    <tr>\n",
       "      <th>1</th>\n",
       "      <td>3819312</td>\n",
       "      <td>흠...포스터보고 초딩영화줄....오버연기조차 가볍지 않구나</td>\n",
       "      <td>1</td>\n",
       "    </tr>\n",
       "    <tr>\n",
       "      <th>2</th>\n",
       "      <td>10265843</td>\n",
       "      <td>너무재밓었다그래서보는것을추천한다</td>\n",
       "      <td>0</td>\n",
       "    </tr>\n",
       "    <tr>\n",
       "      <th>3</th>\n",
       "      <td>9045019</td>\n",
       "      <td>교도소 이야기구먼 ..솔직히 재미는 없다..평점 조정</td>\n",
       "      <td>0</td>\n",
       "    </tr>\n",
       "    <tr>\n",
       "      <th>4</th>\n",
       "      <td>6483659</td>\n",
       "      <td>사이몬페그의 익살스런 연기가 돋보였던 영화!스파이더맨에서 늙어보이기만 했던 커스틴 ...</td>\n",
       "      <td>1</td>\n",
       "    </tr>\n",
       "  </tbody>\n",
       "</table>\n",
       "</div>"
      ],
      "text/plain": [
       "         id                                           document  label\n",
       "0   9976970                                아 더빙.. 진짜 짜증나네요 목소리      0\n",
       "1   3819312                  흠...포스터보고 초딩영화줄....오버연기조차 가볍지 않구나      1\n",
       "2  10265843                                  너무재밓었다그래서보는것을추천한다      0\n",
       "3   9045019                      교도소 이야기구먼 ..솔직히 재미는 없다..평점 조정      0\n",
       "4   6483659  사이몬페그의 익살스런 연기가 돋보였던 영화!스파이더맨에서 늙어보이기만 했던 커스틴 ...      1"
      ]
     },
     "execution_count": 96,
     "metadata": {},
     "output_type": "execute_result"
    }
   ],
   "source": [
    "train_df.head()"
   ]
  },
  {
   "cell_type": "code",
   "execution_count": 97,
   "metadata": {
    "id": "KQKndpv2D6bb"
   },
   "outputs": [],
   "source": [
    "# 널값 제거 \n",
    "train_df.dropna(inplace=True)\n",
    "test_df.dropna(inplace=True)"
   ]
  },
  {
   "cell_type": "code",
   "execution_count": 98,
   "metadata": {
    "colab": {
     "base_uri": "https://localhost:8080/"
    },
    "id": "e64UNyRGD6d2",
    "outputId": "735c1262-b5c2-49d7-d9c1-6f7c23b0a6cd"
   },
   "outputs": [
    {
     "data": {
      "text/plain": [
       "3813"
      ]
     },
     "execution_count": 98,
     "metadata": {},
     "output_type": "execute_result"
    }
   ],
   "source": [
    "# 데이터 중복 유무 확인\n",
    "train_df.duplicated(subset=['document']).sum()"
   ]
  },
  {
   "cell_type": "code",
   "execution_count": null,
   "metadata": {},
   "outputs": [],
   "source": []
  },
  {
   "cell_type": "code",
   "execution_count": 99,
   "metadata": {
    "collapsed": true,
    "id": "4k29csTQD6gW"
   },
   "outputs": [
    {
     "data": {
      "text/html": [
       "<div>\n",
       "<style scoped>\n",
       "    .dataframe tbody tr th:only-of-type {\n",
       "        vertical-align: middle;\n",
       "    }\n",
       "\n",
       "    .dataframe tbody tr th {\n",
       "        vertical-align: top;\n",
       "    }\n",
       "\n",
       "    .dataframe thead th {\n",
       "        text-align: right;\n",
       "    }\n",
       "</style>\n",
       "<table border=\"1\" class=\"dataframe\">\n",
       "  <thead>\n",
       "    <tr style=\"text-align: right;\">\n",
       "      <th></th>\n",
       "      <th>id</th>\n",
       "      <th>document</th>\n",
       "      <th>label</th>\n",
       "    </tr>\n",
       "  </thead>\n",
       "  <tbody>\n",
       "    <tr>\n",
       "      <th>1058</th>\n",
       "      <td>5890638</td>\n",
       "      <td>4</td>\n",
       "      <td>0</td>\n",
       "    </tr>\n",
       "    <tr>\n",
       "      <th>1097</th>\n",
       "      <td>2062443</td>\n",
       "      <td>쵝오</td>\n",
       "      <td>1</td>\n",
       "    </tr>\n",
       "    <tr>\n",
       "      <th>1248</th>\n",
       "      <td>3502685</td>\n",
       "      <td>최고</td>\n",
       "      <td>1</td>\n",
       "    </tr>\n",
       "    <tr>\n",
       "      <th>1483</th>\n",
       "      <td>775332</td>\n",
       "      <td>최고</td>\n",
       "      <td>1</td>\n",
       "    </tr>\n",
       "    <tr>\n",
       "      <th>1707</th>\n",
       "      <td>8009134</td>\n",
       "      <td>재밌다</td>\n",
       "      <td>1</td>\n",
       "    </tr>\n",
       "    <tr>\n",
       "      <th>...</th>\n",
       "      <td>...</td>\n",
       "      <td>...</td>\n",
       "      <td>...</td>\n",
       "    </tr>\n",
       "    <tr>\n",
       "      <th>149919</th>\n",
       "      <td>6502490</td>\n",
       "      <td>짱</td>\n",
       "      <td>1</td>\n",
       "    </tr>\n",
       "    <tr>\n",
       "      <th>149949</th>\n",
       "      <td>3924716</td>\n",
       "      <td>OO 영화</td>\n",
       "      <td>0</td>\n",
       "    </tr>\n",
       "    <tr>\n",
       "      <th>149960</th>\n",
       "      <td>6368431</td>\n",
       "      <td>지루하다</td>\n",
       "      <td>0</td>\n",
       "    </tr>\n",
       "    <tr>\n",
       "      <th>149966</th>\n",
       "      <td>6735753</td>\n",
       "      <td>1</td>\n",
       "      <td>0</td>\n",
       "    </tr>\n",
       "    <tr>\n",
       "      <th>149987</th>\n",
       "      <td>7669621</td>\n",
       "      <td>재미있어요^^</td>\n",
       "      <td>1</td>\n",
       "    </tr>\n",
       "  </tbody>\n",
       "</table>\n",
       "<p>3813 rows × 3 columns</p>\n",
       "</div>"
      ],
      "text/plain": [
       "             id document  label\n",
       "1058    5890638        4      0\n",
       "1097    2062443       쵝오      1\n",
       "1248    3502685       최고      1\n",
       "1483     775332       최고      1\n",
       "1707    8009134      재밌다      1\n",
       "...         ...      ...    ...\n",
       "149919  6502490        짱      1\n",
       "149949  3924716    OO 영화      0\n",
       "149960  6368431     지루하다      0\n",
       "149966  6735753        1      0\n",
       "149987  7669621  재미있어요^^      1\n",
       "\n",
       "[3813 rows x 3 columns]"
      ]
     },
     "execution_count": 99,
     "metadata": {},
     "output_type": "execute_result"
    }
   ],
   "source": [
    "train_df[train_df.duplicated(subset=['document'])]"
   ]
  },
  {
   "cell_type": "code",
   "execution_count": 100,
   "metadata": {
    "id": "80ElSkU9G0K4"
   },
   "outputs": [],
   "source": [
    "# 제일 먼저 있는 놈 빼고 지워라 \n",
    "train_df.drop_duplicates(['document'], keep='first', inplace=True)\n",
    "test_df.drop_duplicates(['document'], keep='first', inplace=True)"
   ]
  },
  {
   "cell_type": "code",
   "execution_count": 101,
   "metadata": {
    "colab": {
     "base_uri": "https://localhost:8080/"
    },
    "id": "_FhlHKfvG2FU",
    "outputId": "c29644a4-9ccd-4440-9026-6a5a7070432d"
   },
   "outputs": [
    {
     "data": {
      "text/plain": [
       "0"
      ]
     },
     "execution_count": 101,
     "metadata": {},
     "output_type": "execute_result"
    }
   ],
   "source": [
    "# 중복 샘플 제거\n",
    "train_df.duplicated(subset=['document']).sum()"
   ]
  },
  {
   "cell_type": "code",
   "execution_count": 102,
   "metadata": {
    "colab": {
     "base_uri": "https://localhost:8080/"
    },
    "id": "u5-NDPMOG2H8",
    "outputId": "67c1e637-6ded-40c4-e7a4-cf3aec95a4b9"
   },
   "outputs": [
    {
     "data": {
      "text/plain": [
       "0    73342\n",
       "1    72840\n",
       "Name: label, dtype: int64"
      ]
     },
     "execution_count": 102,
     "metadata": {},
     "output_type": "execute_result"
    }
   ],
   "source": [
    "train_df.label.value_counts()"
   ]
  },
  {
   "cell_type": "code",
   "execution_count": 103,
   "metadata": {},
   "outputs": [
    {
     "data": {
      "text/plain": [
       "<AxesSubplot:>"
      ]
     },
     "execution_count": 103,
     "metadata": {},
     "output_type": "execute_result"
    },
    {
     "data": {
      "image/png": "[encoded data removed]",
      "text/plain": [
       "<Figure size 360x504 with 1 Axes>"
      ]
     },
     "metadata": {},
     "output_type": "display_data"
    }
   ],
   "source": [
    "# 긍정과 부정의 분포 균일 \n",
    "plt.figure(figsize=(5,7))\n",
    "train_df['label'].value_counts().plot(kind = 'bar')"
   ]
  },
  {
   "cell_type": "code",
   "execution_count": 104,
   "metadata": {
    "colab": {
     "base_uri": "https://localhost:8080/"
    },
    "id": "ghXprDRLG2Kn",
    "outputId": "5e70612e-0556-487b-b327-ddd94ff44503"
   },
   "outputs": [
    {
     "name": "stderr",
     "output_type": "stream",
     "text": [
      "C:\\Users\\bitcamp\\AppData\\Local\\Temp/ipykernel_4336/2934983200.py:1: FutureWarning: The default value of regex will change from True to False in a future version.\n",
      "  train_df['document'] = train_df['document'].str.replace(\"[^ㄱ-ㅎㅏ-ㅣ가-힣a-zA-Z ]\", '')\n",
      "C:\\Users\\bitcamp\\AppData\\Local\\Temp/ipykernel_4336/2934983200.py:2: FutureWarning: The default value of regex will change from True to False in a future version.\n",
      "  test_df['document'] = test_df['document'].str.replace(\"[^ㄱ-ㅎㅏ-ㅣ가-힣a-zA-Z ]\", '')\n"
     ]
    }
   ],
   "source": [
    "# 전처리\n",
    "train_df['document'] = train_df['document'].str.replace(\"[^ㄱ-ㅎㅏ-ㅣ가-힣a-zA-Z ]\", '')\n",
    "test_df['document'] = test_df['document'].str.replace(\"[^ㄱ-ㅎㅏ-ㅣ가-힣a-zA-Z ]\", '')"
   ]
  },
  {
   "cell_type": "code",
   "execution_count": 105,
   "metadata": {
    "colab": {
     "base_uri": "https://localhost:8080/"
    },
    "id": "xPKKvNbmG2Nb",
    "outputId": "41488c4a-494d-4dd4-acc7-04826b3096ae"
   },
   "outputs": [
    {
     "name": "stderr",
     "output_type": "stream",
     "text": [
      "C:\\Users\\bitcamp\\AppData\\Local\\Temp/ipykernel_4336/1084111067.py:1: FutureWarning: The default value of regex will change from True to False in a future version.\n",
      "  train_df['document'] = train_df['document'].str.replace(\"\\s+\", ' ')\n",
      "C:\\Users\\bitcamp\\AppData\\Local\\Temp/ipykernel_4336/1084111067.py:2: FutureWarning: The default value of regex will change from True to False in a future version.\n",
      "  test_df['document'] = test_df['document'].str.replace(\"\\s+\", ' ')\n"
     ]
    }
   ],
   "source": [
    "train_df['document'] = train_df['document'].str.replace(\"\\s+\", ' ')\n",
    "test_df['document'] = test_df['document'].str.replace(\"\\s+\", ' ')"
   ]
  },
  {
   "cell_type": "code",
   "execution_count": 106,
   "metadata": {
    "id": "I2e2yvxNG2Pz"
   },
   "outputs": [],
   "source": [
    "train_df = train_df[(train_df['document'] != '') | (train_df['document'] != ' ')]\n",
    "test_df = test_df[(test_df['document'] != '') | (test_df['document'] != ' ')]"
   ]
  },
  {
   "cell_type": "code",
   "execution_count": 107,
   "metadata": {
    "collapsed": true,
    "id": "8hAve7QoG2VM"
   },
   "outputs": [
    {
     "ename": "FileNotFoundError",
     "evalue": "[Errno 2] No such file or directory: './stopwords-ko.txt'",
     "output_type": "error",
     "traceback": [
      "\u001b[1;31m---------------------------------------------------------------------------\u001b[0m",
      "\u001b[1;31mFileNotFoundError\u001b[0m                         Traceback (most recent call last)",
      "\u001b[1;32m~\\AppData\\Local\\Temp/ipykernel_4336/1895211317.py\u001b[0m in \u001b[0;36m<module>\u001b[1;34m\u001b[0m\n\u001b[0;32m      1\u001b[0m \u001b[1;32mfrom\u001b[0m \u001b[0mpandas\u001b[0m\u001b[1;33m.\u001b[0m\u001b[0mcore\u001b[0m\u001b[1;33m.\u001b[0m\u001b[0minternals\u001b[0m\u001b[1;33m.\u001b[0m\u001b[0mconstruction\u001b[0m \u001b[1;32mimport\u001b[0m \u001b[0mdataclasses_to_dicts\u001b[0m\u001b[1;33m\u001b[0m\u001b[1;33m\u001b[0m\u001b[0m\n\u001b[1;32m----> 2\u001b[1;33m \u001b[0mst_df\u001b[0m \u001b[1;33m=\u001b[0m \u001b[0mpd\u001b[0m\u001b[1;33m.\u001b[0m\u001b[0mread_csv\u001b[0m\u001b[1;33m(\u001b[0m\u001b[1;34m'./stopwords-ko.txt'\u001b[0m\u001b[1;33m,\u001b[0m \u001b[0mheader\u001b[0m\u001b[1;33m=\u001b[0m\u001b[1;32mNone\u001b[0m\u001b[1;33m)\u001b[0m\u001b[1;33m\u001b[0m\u001b[1;33m\u001b[0m\u001b[0m\n\u001b[0m\u001b[0;32m      3\u001b[0m \u001b[0mst_list\u001b[0m \u001b[1;33m=\u001b[0m \u001b[1;33m[\u001b[0m\u001b[0mst\u001b[0m\u001b[1;33m[\u001b[0m\u001b[1;36m0\u001b[0m\u001b[1;33m]\u001b[0m \u001b[1;32mfor\u001b[0m \u001b[0mst\u001b[0m \u001b[1;32min\u001b[0m \u001b[0mst_df\u001b[0m\u001b[1;33m.\u001b[0m\u001b[0mvalues\u001b[0m\u001b[1;33m]\u001b[0m\u001b[1;33m\u001b[0m\u001b[1;33m\u001b[0m\u001b[0m\n\u001b[0;32m      4\u001b[0m \u001b[1;33m\u001b[0m\u001b[0m\n\u001b[0;32m      5\u001b[0m \u001b[1;32mdef\u001b[0m \u001b[0mremove_stwords_oneletter\u001b[0m\u001b[1;33m(\u001b[0m\u001b[0mdoc\u001b[0m\u001b[1;33m)\u001b[0m\u001b[1;33m:\u001b[0m\u001b[1;33m\u001b[0m\u001b[1;33m\u001b[0m\u001b[0m\n",
      "\u001b[1;32m~\\anaconda3\\lib\\site-packages\\pandas\\util\\_decorators.py\u001b[0m in \u001b[0;36mwrapper\u001b[1;34m(*args, **kwargs)\u001b[0m\n\u001b[0;32m    309\u001b[0m                     \u001b[0mstacklevel\u001b[0m\u001b[1;33m=\u001b[0m\u001b[0mstacklevel\u001b[0m\u001b[1;33m,\u001b[0m\u001b[1;33m\u001b[0m\u001b[1;33m\u001b[0m\u001b[0m\n\u001b[0;32m    310\u001b[0m                 )\n\u001b[1;32m--> 311\u001b[1;33m             \u001b[1;32mreturn\u001b[0m \u001b[0mfunc\u001b[0m\u001b[1;33m(\u001b[0m\u001b[1;33m*\u001b[0m\u001b[0margs\u001b[0m\u001b[1;33m,\u001b[0m \u001b[1;33m**\u001b[0m\u001b[0mkwargs\u001b[0m\u001b[1;33m)\u001b[0m\u001b[1;33m\u001b[0m\u001b[1;33m\u001b[0m\u001b[0m\n\u001b[0m\u001b[0;32m    312\u001b[0m \u001b[1;33m\u001b[0m\u001b[0m\n\u001b[0;32m    313\u001b[0m         \u001b[1;32mreturn\u001b[0m \u001b[0mwrapper\u001b[0m\u001b[1;33m\u001b[0m\u001b[1;33m\u001b[0m\u001b[0m\n",
      "\u001b[1;32m~\\anaconda3\\lib\\site-packages\\pandas\\io\\parsers\\readers.py\u001b[0m in \u001b[0;36mread_csv\u001b[1;34m(filepath_or_buffer, sep, delimiter, header, names, index_col, usecols, squeeze, prefix, mangle_dupe_cols, dtype, engine, converters, true_values, false_values, skipinitialspace, skiprows, skipfooter, nrows, na_values, keep_default_na, na_filter, verbose, skip_blank_lines, parse_dates, infer_datetime_format, keep_date_col, date_parser, dayfirst, cache_dates, iterator, chunksize, compression, thousands, decimal, lineterminator, quotechar, quoting, doublequote, escapechar, comment, encoding, encoding_errors, dialect, error_bad_lines, warn_bad_lines, on_bad_lines, delim_whitespace, low_memory, memory_map, float_precision, storage_options)\u001b[0m\n\u001b[0;32m    584\u001b[0m     \u001b[0mkwds\u001b[0m\u001b[1;33m.\u001b[0m\u001b[0mupdate\u001b[0m\u001b[1;33m(\u001b[0m\u001b[0mkwds_defaults\u001b[0m\u001b[1;33m)\u001b[0m\u001b[1;33m\u001b[0m\u001b[1;33m\u001b[0m\u001b[0m\n\u001b[0;32m    585\u001b[0m \u001b[1;33m\u001b[0m\u001b[0m\n\u001b[1;32m--> 586\u001b[1;33m     \u001b[1;32mreturn\u001b[0m \u001b[0m_read\u001b[0m\u001b[1;33m(\u001b[0m\u001b[0mfilepath_or_buffer\u001b[0m\u001b[1;33m,\u001b[0m \u001b[0mkwds\u001b[0m\u001b[1;33m)\u001b[0m\u001b[1;33m\u001b[0m\u001b[1;33m\u001b[0m\u001b[0m\n\u001b[0m\u001b[0;32m    587\u001b[0m \u001b[1;33m\u001b[0m\u001b[0m\n\u001b[0;32m    588\u001b[0m \u001b[1;33m\u001b[0m\u001b[0m\n",
      "\u001b[1;32m~\\anaconda3\\lib\\site-packages\\pandas\\io\\parsers\\readers.py\u001b[0m in \u001b[0;36m_read\u001b[1;34m(filepath_or_buffer, kwds)\u001b[0m\n\u001b[0;32m    480\u001b[0m \u001b[1;33m\u001b[0m\u001b[0m\n\u001b[0;32m    481\u001b[0m     \u001b[1;31m# Create the parser.\u001b[0m\u001b[1;33m\u001b[0m\u001b[1;33m\u001b[0m\u001b[0m\n\u001b[1;32m--> 482\u001b[1;33m     \u001b[0mparser\u001b[0m \u001b[1;33m=\u001b[0m \u001b[0mTextFileReader\u001b[0m\u001b[1;33m(\u001b[0m\u001b[0mfilepath_or_buffer\u001b[0m\u001b[1;33m,\u001b[0m \u001b[1;33m**\u001b[0m\u001b[0mkwds\u001b[0m\u001b[1;33m)\u001b[0m\u001b[1;33m\u001b[0m\u001b[1;33m\u001b[0m\u001b[0m\n\u001b[0m\u001b[0;32m    483\u001b[0m \u001b[1;33m\u001b[0m\u001b[0m\n\u001b[0;32m    484\u001b[0m     \u001b[1;32mif\u001b[0m \u001b[0mchunksize\u001b[0m \u001b[1;32mor\u001b[0m \u001b[0miterator\u001b[0m\u001b[1;33m:\u001b[0m\u001b[1;33m\u001b[0m\u001b[1;33m\u001b[0m\u001b[0m\n",
      "\u001b[1;32m~\\anaconda3\\lib\\site-packages\\pandas\\io\\parsers\\readers.py\u001b[0m in \u001b[0;36m__init__\u001b[1;34m(self, f, engine, **kwds)\u001b[0m\n\u001b[0;32m    809\u001b[0m             \u001b[0mself\u001b[0m\u001b[1;33m.\u001b[0m\u001b[0moptions\u001b[0m\u001b[1;33m[\u001b[0m\u001b[1;34m\"has_index_names\"\u001b[0m\u001b[1;33m]\u001b[0m \u001b[1;33m=\u001b[0m \u001b[0mkwds\u001b[0m\u001b[1;33m[\u001b[0m\u001b[1;34m\"has_index_names\"\u001b[0m\u001b[1;33m]\u001b[0m\u001b[1;33m\u001b[0m\u001b[1;33m\u001b[0m\u001b[0m\n\u001b[0;32m    810\u001b[0m \u001b[1;33m\u001b[0m\u001b[0m\n\u001b[1;32m--> 811\u001b[1;33m         \u001b[0mself\u001b[0m\u001b[1;33m.\u001b[0m\u001b[0m_engine\u001b[0m \u001b[1;33m=\u001b[0m \u001b[0mself\u001b[0m\u001b[1;33m.\u001b[0m\u001b[0m_make_engine\u001b[0m\u001b[1;33m(\u001b[0m\u001b[0mself\u001b[0m\u001b[1;33m.\u001b[0m\u001b[0mengine\u001b[0m\u001b[1;33m)\u001b[0m\u001b[1;33m\u001b[0m\u001b[1;33m\u001b[0m\u001b[0m\n\u001b[0m\u001b[0;32m    812\u001b[0m \u001b[1;33m\u001b[0m\u001b[0m\n\u001b[0;32m    813\u001b[0m     \u001b[1;32mdef\u001b[0m \u001b[0mclose\u001b[0m\u001b[1;33m(\u001b[0m\u001b[0mself\u001b[0m\u001b[1;33m)\u001b[0m\u001b[1;33m:\u001b[0m\u001b[1;33m\u001b[0m\u001b[1;33m\u001b[0m\u001b[0m\n",
      "\u001b[1;32m~\\anaconda3\\lib\\site-packages\\pandas\\io\\parsers\\readers.py\u001b[0m in \u001b[0;36m_make_engine\u001b[1;34m(self, engine)\u001b[0m\n\u001b[0;32m   1038\u001b[0m             )\n\u001b[0;32m   1039\u001b[0m         \u001b[1;31m# error: Too many arguments for \"ParserBase\"\u001b[0m\u001b[1;33m\u001b[0m\u001b[1;33m\u001b[0m\u001b[0m\n\u001b[1;32m-> 1040\u001b[1;33m         \u001b[1;32mreturn\u001b[0m \u001b[0mmapping\u001b[0m\u001b[1;33m[\u001b[0m\u001b[0mengine\u001b[0m\u001b[1;33m]\u001b[0m\u001b[1;33m(\u001b[0m\u001b[0mself\u001b[0m\u001b[1;33m.\u001b[0m\u001b[0mf\u001b[0m\u001b[1;33m,\u001b[0m \u001b[1;33m**\u001b[0m\u001b[0mself\u001b[0m\u001b[1;33m.\u001b[0m\u001b[0moptions\u001b[0m\u001b[1;33m)\u001b[0m  \u001b[1;31m# type: ignore[call-arg]\u001b[0m\u001b[1;33m\u001b[0m\u001b[1;33m\u001b[0m\u001b[0m\n\u001b[0m\u001b[0;32m   1041\u001b[0m \u001b[1;33m\u001b[0m\u001b[0m\n\u001b[0;32m   1042\u001b[0m     \u001b[1;32mdef\u001b[0m \u001b[0m_failover_to_python\u001b[0m\u001b[1;33m(\u001b[0m\u001b[0mself\u001b[0m\u001b[1;33m)\u001b[0m\u001b[1;33m:\u001b[0m\u001b[1;33m\u001b[0m\u001b[1;33m\u001b[0m\u001b[0m\n",
      "\u001b[1;32m~\\anaconda3\\lib\\site-packages\\pandas\\io\\parsers\\c_parser_wrapper.py\u001b[0m in \u001b[0;36m__init__\u001b[1;34m(self, src, **kwds)\u001b[0m\n\u001b[0;32m     49\u001b[0m \u001b[1;33m\u001b[0m\u001b[0m\n\u001b[0;32m     50\u001b[0m         \u001b[1;31m# open handles\u001b[0m\u001b[1;33m\u001b[0m\u001b[1;33m\u001b[0m\u001b[0m\n\u001b[1;32m---> 51\u001b[1;33m         \u001b[0mself\u001b[0m\u001b[1;33m.\u001b[0m\u001b[0m_open_handles\u001b[0m\u001b[1;33m(\u001b[0m\u001b[0msrc\u001b[0m\u001b[1;33m,\u001b[0m \u001b[0mkwds\u001b[0m\u001b[1;33m)\u001b[0m\u001b[1;33m\u001b[0m\u001b[1;33m\u001b[0m\u001b[0m\n\u001b[0m\u001b[0;32m     52\u001b[0m         \u001b[1;32massert\u001b[0m \u001b[0mself\u001b[0m\u001b[1;33m.\u001b[0m\u001b[0mhandles\u001b[0m \u001b[1;32mis\u001b[0m \u001b[1;32mnot\u001b[0m \u001b[1;32mNone\u001b[0m\u001b[1;33m\u001b[0m\u001b[1;33m\u001b[0m\u001b[0m\n\u001b[0;32m     53\u001b[0m \u001b[1;33m\u001b[0m\u001b[0m\n",
      "\u001b[1;32m~\\anaconda3\\lib\\site-packages\\pandas\\io\\parsers\\base_parser.py\u001b[0m in \u001b[0;36m_open_handles\u001b[1;34m(self, src, kwds)\u001b[0m\n\u001b[0;32m    220\u001b[0m         \u001b[0mLet\u001b[0m \u001b[0mthe\u001b[0m \u001b[0mreaders\u001b[0m \u001b[0mopen\u001b[0m \u001b[0mIOHandles\u001b[0m \u001b[0mafter\u001b[0m \u001b[0mthey\u001b[0m \u001b[0mare\u001b[0m \u001b[0mdone\u001b[0m \u001b[1;32mwith\u001b[0m \u001b[0mtheir\u001b[0m \u001b[0mpotential\u001b[0m \u001b[0mraises\u001b[0m\u001b[1;33m.\u001b[0m\u001b[1;33m\u001b[0m\u001b[1;33m\u001b[0m\u001b[0m\n\u001b[0;32m    221\u001b[0m         \"\"\"\n\u001b[1;32m--> 222\u001b[1;33m         self.handles = get_handle(\n\u001b[0m\u001b[0;32m    223\u001b[0m             \u001b[0msrc\u001b[0m\u001b[1;33m,\u001b[0m\u001b[1;33m\u001b[0m\u001b[1;33m\u001b[0m\u001b[0m\n\u001b[0;32m    224\u001b[0m             \u001b[1;34m\"r\"\u001b[0m\u001b[1;33m,\u001b[0m\u001b[1;33m\u001b[0m\u001b[1;33m\u001b[0m\u001b[0m\n",
      "\u001b[1;32m~\\anaconda3\\lib\\site-packages\\pandas\\io\\common.py\u001b[0m in \u001b[0;36mget_handle\u001b[1;34m(path_or_buf, mode, encoding, compression, memory_map, is_text, errors, storage_options)\u001b[0m\n\u001b[0;32m    700\u001b[0m         \u001b[1;32mif\u001b[0m \u001b[0mioargs\u001b[0m\u001b[1;33m.\u001b[0m\u001b[0mencoding\u001b[0m \u001b[1;32mand\u001b[0m \u001b[1;34m\"b\"\u001b[0m \u001b[1;32mnot\u001b[0m \u001b[1;32min\u001b[0m \u001b[0mioargs\u001b[0m\u001b[1;33m.\u001b[0m\u001b[0mmode\u001b[0m\u001b[1;33m:\u001b[0m\u001b[1;33m\u001b[0m\u001b[1;33m\u001b[0m\u001b[0m\n\u001b[0;32m    701\u001b[0m             \u001b[1;31m# Encoding\u001b[0m\u001b[1;33m\u001b[0m\u001b[1;33m\u001b[0m\u001b[0m\n\u001b[1;32m--> 702\u001b[1;33m             handle = open(\n\u001b[0m\u001b[0;32m    703\u001b[0m                 \u001b[0mhandle\u001b[0m\u001b[1;33m,\u001b[0m\u001b[1;33m\u001b[0m\u001b[1;33m\u001b[0m\u001b[0m\n\u001b[0;32m    704\u001b[0m                 \u001b[0mioargs\u001b[0m\u001b[1;33m.\u001b[0m\u001b[0mmode\u001b[0m\u001b[1;33m,\u001b[0m\u001b[1;33m\u001b[0m\u001b[1;33m\u001b[0m\u001b[0m\n",
      "\u001b[1;31mFileNotFoundError\u001b[0m: [Errno 2] No such file or directory: './stopwords-ko.txt'"
     ]
    }
   ],
   "source": [
    "from pandas.core.internals.construction import dataclasses_to_dicts\n",
    "st_df = pd.read_csv('./stopwords-ko.txt', header=None)\n",
    "st_list = [st[0] for st in st_df.values]\n",
    "\n",
    "def remove_stwords_oneletter(doc):\n",
    "  doc = mecab.morphs(doc)\n",
    "  doc = [t for t in doc if t not in st_list]\n",
    "  doc = [t for t in doc if len(t) > 1]\n",
    "  doc = ' '.join(doc)\n",
    "  return doc"
   ]
  },
  {
   "cell_type": "code",
   "execution_count": null,
   "metadata": {
    "id": "LfefCZ7dKspR"
   },
   "outputs": [],
   "source": [
    "train_df['document'] = train_df['document'].apply(remove_stwords_oneletter)\n",
    "test_df['document'] = test_df['document'].apply(remove_stwords_oneletter)"
   ]
  },
  {
   "cell_type": "code",
   "execution_count": null,
   "metadata": {
    "id": "hkzFZuBOKswU"
   },
   "outputs": [],
   "source": [
    "train_df"
   ]
  },
  {
   "cell_type": "code",
   "execution_count": null,
   "metadata": {
    "id": "IobTfcA9Ks1U"
   },
   "outputs": [],
   "source": [
    "# 토큰화\n",
    "tokenizer = Tokenizer()\n",
    "tokenizer.fit_on_texts(train_df.document)"
   ]
  },
  {
   "cell_type": "code",
   "execution_count": null,
   "metadata": {
    "id": "znUi6Yr0Ks3o"
   },
   "outputs": [],
   "source": [
    "tokenizer.word_index"
   ]
  },
  {
   "cell_type": "code",
   "execution_count": null,
   "metadata": {
    "colab": {
     "base_uri": "https://localhost:8080/"
    },
    "id": "rT09Td9IKs6O",
    "outputId": "af273140-1189-4317-85cb-09e6eefb4951"
   },
   "outputs": [],
   "source": [
    "# 튜플 형태로 반환\n",
    "tokenizer.word_counts.items()"
   ]
  },
  {
   "cell_type": "markdown",
   "metadata": {},
   "source": [
    "#### 등장 빈도수가 3회 미만인 단어들이 이 데이터에서 얼만큼의 비중을 차지하는지 확인"
   ]
  },
  {
   "cell_type": "code",
   "execution_count": null,
   "metadata": {
    "id": "KeKOlnXoMsOf"
   },
   "outputs": [],
   "source": [
    "total_cnt = len(tokenizer.word_index)  # 단어의 수\n",
    "rare_cnt = 0 # 등장 빈도수가 3보다 작은 단어의 개수를 카운트\n",
    "total_freq = 0 # 훈련 데이터의 전체 단어 빈도수 총 합\n",
    "rare_freq = 0 # 등장 빈도수가 3보다 작은 단어의 등장 빈도수의 총 합\n",
    "\n",
    "# 단어와 빈도수의 쌍(pair)을 key와 value로 받는다.\n",
    "for key, value in tokenizer.word_counts.items():\n",
    "  total_freq = total_freq + value\n",
    "\n",
    " # 단어의 등장 빈도수가 3보다 작으면\n",
    "  if (value < 3):\n",
    "    rare_cnt = rare_cnt + 1\n",
    "    rare_freq = rare_freq + value"
   ]
  },
  {
   "cell_type": "code",
   "execution_count": null,
   "metadata": {
    "colab": {
     "base_uri": "https://localhost:8080/"
    },
    "id": "ziseRwtrMsRF",
    "outputId": "08ceda21-47fd-4ee5-a548-666e788bfaa4"
   },
   "outputs": [],
   "source": [
    "print(total_cnt)\n",
    "print(rare_cnt)\n",
    "print(rare_cnt/total_cnt)"
   ]
  },
  {
   "cell_type": "markdown",
   "metadata": {},
   "source": [
    "#### 등장 빈도수가 2이하인 단어들의 수를 제외한 단어의 개수를 단어 집합의 최대 크기로 제한"
   ]
  },
  {
   "cell_type": "code",
   "execution_count": null,
   "metadata": {
    "colab": {
     "base_uri": "https://localhost:8080/"
    },
    "id": "PwoWzHJgMsTu",
    "outputId": "b853dbe5-5f23-4680-a8a7-51b4ca5d9f89"
   },
   "outputs": [],
   "source": [
    "vocab_size = total_cnt - rare_cnt + 2  # 최종 token의 종류수\n",
    "vocab_size"
   ]
  },
  {
   "cell_type": "code",
   "execution_count": null,
   "metadata": {
    "id": "EXRhuOUqMsWc"
   },
   "outputs": [],
   "source": [
    "tokenizer = Tokenizer(vocab_size, oov_token='OOV')\n",
    "tokenizer.fit_on_texts(train_df.document)"
   ]
  },
  {
   "cell_type": "code",
   "execution_count": null,
   "metadata": {
    "id": "48BPz2Q5Pnht"
   },
   "outputs": [],
   "source": [
    "train_df.document"
   ]
  },
  {
   "cell_type": "code",
   "execution_count": null,
   "metadata": {
    "id": "Qw25hHOIMsZX"
   },
   "outputs": [],
   "source": [
    "x_train = tokenizer.texts_to_sequences(train_df.document)\n",
    "x_test = tokenizer.texts_to_sequences(test_df.document)"
   ]
  },
  {
   "cell_type": "code",
   "execution_count": null,
   "metadata": {
    "colab": {
     "base_uri": "https://localhost:8080/"
    },
    "id": "gbh41Y6nMsbs",
    "outputId": "c879e43d-ce35-4e90-e825-2a567e8b2e90"
   },
   "outputs": [],
   "source": [
    "# 정수 인코딩이 진행되었는지 확인하고자 X_train에 대해서 상위 3개의 샘플만 출력\n",
    "x_train[:3]"
   ]
  },
  {
   "cell_type": "code",
   "execution_count": null,
   "metadata": {
    "id": "x2AERJeyQHK-"
   },
   "outputs": [],
   "source": [
    "# 각 샘플 내의 단어들은 각 단어에 대한 정수로 변환된 것을 확인할 수 있습니다. \n",
    "# 단어의 개수는 19,416개로 제한되었으므로 0번 단어 ~ 19,415번 단어까지만 사용 중입니다. \n",
    "# 0번 단어는 패딩을 위한 토큰임을 상기합시다. train_data에서 y_train과 y_test를 별도로 저장해줍니다.\n",
    "\n",
    "y_train = train_df.label\n",
    "y_test = test_df.label"
   ]
  },
  {
   "cell_type": "code",
   "execution_count": null,
   "metadata": {
    "id": "UnmWvMlrQHNy"
   },
   "outputs": [],
   "source": []
  },
  {
   "cell_type": "code",
   "execution_count": null,
   "metadata": {
    "id": "kv2myjwUQHRN"
   },
   "outputs": [],
   "source": [
    "print('리뷰의 최대 길이 :',max(len(review) for review in x_train))\n",
    "print('리뷰의 평균 길이 :',sum(map(len, x_train))/len(x_train))\n",
    "plt.hist([len(l) for l in x_train], bins=50)\n",
    "plt.xlabel('length of samples')\n",
    "plt.ylabel('number of samples')\n",
    "plt.show()"
   ]
  },
  {
   "cell_type": "code",
   "execution_count": null,
   "metadata": {
    "id": "SWUTDo8oQHUz"
   },
   "outputs": [],
   "source": []
  },
  {
   "cell_type": "code",
   "execution_count": null,
   "metadata": {
    "id": "QnadjZYYQHW2"
   },
   "outputs": [],
   "source": [
    "# 모델이 처리할 수 있도록 X_train과 X_test의 모든 샘플의 길이를 특정 길이로 동일하게 맞춰주는 작업\n",
    "# 리뷰가 30이하의 길이를 가지는 리뷰만 남김\n",
    "x_train = pad_sequences(x_train, maxlen=30)\n",
    "x_test = pad_sequences(x_test, maxlen=30)"
   ]
  },
  {
   "cell_type": "code",
   "execution_count": null,
   "metadata": {
    "colab": {
     "base_uri": "https://localhost:8080/"
    },
    "id": "vRsidsZ5Tfi_",
    "outputId": "f23704e2-3764-40e1-c3cd-d016ec8ee28c"
   },
   "outputs": [],
   "source": [
    "x_train[0]"
   ]
  },
  {
   "cell_type": "markdown",
   "metadata": {
    "id": "hDNN32T8Tfl3"
   },
   "source": [
    "### LSTM으로 네이버 영화 리뷰 감성 분류하기"
   ]
  },
  {
   "cell_type": "code",
   "execution_count": null,
   "metadata": {
    "id": "kplKDlPTULY3"
   },
   "outputs": [],
   "source": [
    "from tensorflow.keras.layers import Embedding, Dense, LSTM, GRU\n",
    "from tensorflow.keras.models import Sequential, load_model\n",
    "from tensorflow.keras.callbacks import EarlyStopping, ModelCheckpoint"
   ]
  },
  {
   "cell_type": "code",
   "execution_count": null,
   "metadata": {
    "id": "U-fCxvjnTfo1"
   },
   "outputs": [],
   "source": [
    "model = Sequential()\n",
    "model.add(Embedding(vocab_size, 100))\n",
    "model.add(GRU(128))\n",
    "model.add(Dense(1, activation='sigmoid'))"
   ]
  },
  {
   "cell_type": "code",
   "execution_count": null,
   "metadata": {
    "id": "-gLBH8naXl9C"
   },
   "outputs": [],
   "source": [
    "model.summary()"
   ]
  },
  {
   "cell_type": "code",
   "execution_count": null,
   "metadata": {
    "id": "uJWDL7_ETfro"
   },
   "outputs": [],
   "source": [
    "model.compile(optimizer='adam', loss='binary_crossentropy', metrics=['acc'])"
   ]
  },
  {
   "cell_type": "code",
   "execution_count": null,
   "metadata": {
    "id": "-2fNJP9IU0sx"
   },
   "outputs": [],
   "source": [
    "es = EarlyStopping(monitor='val_loss', mode='min', verbose=1, patience=5)\n",
    "mc = ModelCheckpoint('best_model.h5', monitor='val_acc', mode='max', verbose=1, save_best_only=True)"
   ]
  },
  {
   "cell_type": "code",
   "execution_count": null,
   "metadata": {
    "id": "Jxemaun2TfuI"
   },
   "outputs": [],
   "source": [
    "model.fit(x_train, y_train, epochs=15, callbacks=[es, mc], batch_size=128, validation_split=0.2)"
   ]
  },
  {
   "cell_type": "code",
   "execution_count": null,
   "metadata": {
    "id": "IWdDwtf5Tfxb"
   },
   "outputs": [],
   "source": [
    "loaded_model = load_model('best_model.h5')"
   ]
  },
  {
   "cell_type": "code",
   "execution_count": null,
   "metadata": {
    "colab": {
     "base_uri": "https://localhost:8080/"
    },
    "id": "laZKJaR7VlzR",
    "outputId": "a553feef-1487-4376-fc59-cd61fe996a66"
   },
   "outputs": [],
   "source": [
    "loaded_model.evaluate(x_test, y_test)"
   ]
  },
  {
   "cell_type": "code",
   "execution_count": null,
   "metadata": {},
   "outputs": [],
   "source": []
  },
  {
   "cell_type": "code",
   "execution_count": null,
   "metadata": {},
   "outputs": [],
   "source": []
  },
  {
   "cell_type": "code",
   "execution_count": null,
   "metadata": {
    "id": "2VuVfQjgWPax"
   },
   "outputs": [],
   "source": [
    "def remove_stwords_oneletter(doc):\n",
    "  doc = mecab.morphs(doc)\n",
    "  doc = [t for t in doc if t not in st_list]\n",
    "  doc = [t for t in doc if len(t) > 1]\n",
    "  doc = ' '.join(doc)\n",
    "  return doc"
   ]
  },
  {
   "cell_type": "code",
   "execution_count": null,
   "metadata": {
    "id": "nx-b4qxWVxZf"
   },
   "outputs": [],
   "source": [
    "def sentiment_predict(model, new_sentence):\n",
    "  new_sentence = remove_stwords_oneletter(new_sentence)\n",
    "  # print(new_sentence)\n",
    "  encoded = tokenizer.texts_to_sequences([new_sentence])\n",
    "  # print(encoded)\n",
    "  pad_new = pad_sequences(encoded, maxlen=30)\n",
    "  score = model.predict(pad_new)\n",
    "  # return score\n",
    "  if(score > 0.5):\n",
    "    print('긍정리뷰입니다 : 긍정점수는 {}입니다'.format(score))\n",
    "  else:\n",
    "    print('부정리뷰입니다 : 긍정점수는 {}입니다'.format(score))"
   ]
  },
  {
   "cell_type": "code",
   "execution_count": null,
   "metadata": {
    "colab": {
     "base_uri": "https://localhost:8080/"
    },
    "id": "qlgrCqwFVxcA",
    "outputId": "164037c3-172b-4e08-d2b7-620a58689b61"
   },
   "outputs": [],
   "source": [
    "sentiment_predict(model, '이 영화 배우들의 연기가 압권이에요')"
   ]
  },
  {
   "cell_type": "code",
   "execution_count": null,
   "metadata": {
    "id": "BtKMHeobVxei"
   },
   "outputs": [],
   "source": []
  },
  {
   "cell_type": "code",
   "execution_count": null,
   "metadata": {
    "id": "hvrYNcx1VxhZ"
   },
   "outputs": [],
   "source": []
  },
  {
   "cell_type": "code",
   "execution_count": null,
   "metadata": {
    "id": "zjeQocDTVxkP"
   },
   "outputs": [],
   "source": [
    "# 1D CNN으로 예측모델 만들기.."
   ]
  },
  {
   "cell_type": "code",
   "execution_count": null,
   "metadata": {
    "id": "-6sBwpcwaNp_"
   },
   "outputs": [],
   "source": []
  },
  {
   "cell_type": "code",
   "execution_count": null,
   "metadata": {
    "id": "nGFqYmnjaNs2"
   },
   "outputs": [],
   "source": [
    "from tensorflow.keras.layers import Conv1D, GlobalAveragePooling1D, Dropout, Flatten, Input, Concatenate\n",
    "from tensorflow.keras.models import Model"
   ]
  },
  {
   "cell_type": "code",
   "execution_count": null,
   "metadata": {
    "id": "zP5aspQ3aNvp"
   },
   "outputs": [],
   "source": [
    "vocal_size= 5000\n",
    "max_len = 50\n",
    "embedding_dim = 128\n",
    "dropout_prob = (0.5, 0.8)\n",
    "num_filters = 128"
   ]
  },
  {
   "cell_type": "code",
   "execution_count": null,
   "metadata": {
    "id": "ZinsWZvmaNyN"
   },
   "outputs": [],
   "source": [
    "model_input = Input(shape = (max_len,))\n",
    "z = Embedding(vocab_size, embedding_dim, input_length = max_len)(model_input)\n",
    "\n",
    "conv_blocks = []\n",
    "\n",
    "for sz in [3,4,5]:\n",
    "  conv = Conv1D(filters = num_filters,\n",
    "                kernel_size= sz,\n",
    "                padding='valid',\n",
    "                activation='relu',\n",
    "                strides=1)(z)\n",
    "  conv = GlobalAveragePooling1D()(conv)\n",
    "  conv = Flatten()(conv)\n",
    "  conv_blocks.append(conv)\n",
    "\n",
    "z = Concatenate()(conv_blocks) if len(conv_blocks) > 1 else conv_blocks[0]\n",
    "z = Dropout(dropout_prob[1])(z)\n",
    "model_output = Dense(1, activation='sigmoid')(z)\n",
    "\n",
    "model = Model(model_input, model_output)"
   ]
  },
  {
   "cell_type": "code",
   "execution_count": null,
   "metadata": {
    "colab": {
     "base_uri": "https://localhost:8080/"
    },
    "id": "X6IFBDUQaN03",
    "outputId": "035c060d-c4a7-4b6a-9f17-f71bb0d38e66"
   },
   "outputs": [],
   "source": [
    "model.summary()"
   ]
  },
  {
   "cell_type": "code",
   "execution_count": null,
   "metadata": {
    "id": "ZOiYn2xraN3g"
   },
   "outputs": [],
   "source": []
  },
  {
   "cell_type": "code",
   "execution_count": null,
   "metadata": {
    "id": "nr8EoObAaN6R"
   },
   "outputs": [],
   "source": []
  }
 ],
 "metadata": {
  "accelerator": "GPU",
  "colab": {
   "collapsed_sections": [],
   "name": "RNN_LSTM_GRU.ipynb",
   "provenance": []
  },
  "kernelspec": {
   "display_name": "Python 3 (ipykernel)",
   "language": "python",
   "name": "python3"
  },
  "language_info": {
   "codemirror_mode": {
    "name": "ipython",
    "version": 3
   },
   "file_extension": ".py",
   "mimetype": "text/x-python",
   "name": "python",
   "nbconvert_exporter": "python",
   "pygments_lexer": "ipython3",
   "version": "3.9.7"
  }
 },
 "nbformat": 4,
 "nbformat_minor": 1
}
