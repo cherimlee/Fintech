{
  "nbformat": 4,
  "nbformat_minor": 0,
  "metadata": {
    "colab": {
      "name": "bluehouse_petition.ipynb",
      "provenance": []
    },
    "kernelspec": {
      "name": "python3",
      "display_name": "Python 3"
    },
    "language_info": {
      "name": "python"
    },
    "accelerator": "GPU"
  },
  "cells": [
    {
      "cell_type": "code",
      "execution_count": null,
      "metadata": {
        "id": "Rve4GghDre1V"
      },
      "outputs": [],
      "source": [
        "!curl -s https://raw.githubusercontent.com/teddylee777/machine-learning/master/99-Misc/01-Colab/mecab-colab.sh | bash"
      ]
    },
    {
      "cell_type": "code",
      "source": [
        "import pandas as pd\n",
        "import numpy as np\n",
        "import matplotlib.pyplot as plt\n",
        "import seaborn as sns"
      ],
      "metadata": {
        "id": "VNXiZZ1ptfvU"
      },
      "execution_count": 4,
      "outputs": []
    },
    {
      "cell_type": "code",
      "source": [
        "from konlpy.tag import Okt, Mecab, Komoran, Kkma, Hannanum\n",
        "\n",
        "okt = Okt()\n",
        "mecab = Mecab()\n",
        "kom = Komoran()\n",
        "kkma = Kkma()\n",
        "han = Hannanum()"
      ],
      "metadata": {
        "id": "h6OkzOmsroqk"
      },
      "execution_count": 2,
      "outputs": []
    },
    {
      "cell_type": "code",
      "source": [
        "pet = pd.read_csv('pet_sample.csv')"
      ],
      "metadata": {
        "id": "0GIHBLYtrotj"
      },
      "execution_count": 5,
      "outputs": []
    },
    {
      "cell_type": "code",
      "source": [
        ""
      ],
      "metadata": {
        "id": "2KHOdkME28g1"
      },
      "execution_count": null,
      "outputs": []
    },
    {
      "cell_type": "code",
      "source": [
        "# word count"
      ],
      "metadata": {
        "id": "xM2lIuFr28kM"
      },
      "execution_count": null,
      "outputs": []
    },
    {
      "cell_type": "code",
      "source": [
        "pet_by_mon = pet.groupby('mon')['content'].sum()"
      ],
      "metadata": {
        "id": "SRzuqfUOrowb"
      },
      "execution_count": 6,
      "outputs": []
    },
    {
      "cell_type": "code",
      "source": [
        "pet_by_mon"
      ],
      "metadata": {
        "id": "3QvCXWltroy7"
      },
      "execution_count": null,
      "outputs": []
    },
    {
      "cell_type": "code",
      "source": [
        "import re\n",
        "\n",
        "def text_clean(doc):\n",
        "  doc = re.sub('[^ㄱ-ㅎㅏ-ㅣ가-힣a-zA-Z ]', ' ', doc)\n",
        "  return doc"
      ],
      "metadata": {
        "id": "hn0byTu4ro1r"
      },
      "execution_count": 8,
      "outputs": []
    },
    {
      "cell_type": "code",
      "source": [
        "pet_by_mon_clean = pet_by_mon.apply(text_clean)\n",
        "pet_by_mon_clean"
      ],
      "metadata": {
        "id": "Igr6TwdNro4b"
      },
      "execution_count": null,
      "outputs": []
    },
    {
      "cell_type": "code",
      "source": [
        "tokens = []\n",
        "for doc in pet_by_mon_clean:\n",
        "  token = mecab.morphs(doc)\n",
        "  tokens.append(token)\n",
        "\n",
        "tokens"
      ],
      "metadata": {
        "id": "PGv7pD17ro7L"
      },
      "execution_count": null,
      "outputs": []
    },
    {
      "cell_type": "code",
      "source": [
        "len(tokens)"
      ],
      "metadata": {
        "colab": {
          "base_uri": "https://localhost:8080/"
        },
        "id": "7XL9_mzyro9z",
        "outputId": "27841c6a-53b6-436f-8c5d-f271fd830827"
      },
      "execution_count": 12,
      "outputs": [
        {
          "output_type": "execute_result",
          "data": {
            "text/plain": [
              "18"
            ]
          },
          "metadata": {},
          "execution_count": 12
        }
      ]
    },
    {
      "cell_type": "code",
      "source": [
        "st_df = pd.read_csv('/content/drive/MyDrive/text_minning/stopwords-ko.txt', header=None)\n",
        "st_list = [st[0] for st in st_df.values]\n",
        "\n",
        "def remove_stwords(doc):\n",
        "  doc = [t for t in doc if t not in st_list]\n",
        "  doc = ' '.join(doc)\n",
        "  return doc"
      ],
      "metadata": {
        "id": "0TC0BhOprpAk"
      },
      "execution_count": 14,
      "outputs": []
    },
    {
      "cell_type": "code",
      "source": [
        "clean_tokens = []\n",
        "for token in tokens:\n",
        "  token = remove_stwords(token)\n",
        "  clean_tokens.append(token)\n",
        "\n",
        "clean_tokens"
      ],
      "metadata": {
        "id": "Wc_i4XhlrpCz"
      },
      "execution_count": 15,
      "outputs": []
    },
    {
      "cell_type": "code",
      "source": [
        "pet_tokens = pd.Series(clean_tokens, index = pet_by_mon.index)\n",
        "pet_tokens"
      ],
      "metadata": {
        "id": "YZc5Wz50uaIE"
      },
      "execution_count": null,
      "outputs": []
    },
    {
      "cell_type": "code",
      "source": [
        "pet_tokens.to_csv('/content/drive/MyDrive/text_minning/pet_tokens.csv')"
      ],
      "metadata": {
        "id": "COzfqW0ZuaK1"
      },
      "execution_count": 18,
      "outputs": []
    },
    {
      "cell_type": "code",
      "source": [
        "pet_tokens"
      ],
      "metadata": {
        "id": "7KBjV_5k1CW-"
      },
      "execution_count": null,
      "outputs": []
    },
    {
      "cell_type": "code",
      "source": [
        "tokens_list = []\n",
        "\n",
        "for token in pet_tokens:\n",
        "  token = [t for t in token.split() if len(t) > 1 ]\n",
        "  # token = ' '.join(token)\n",
        "  tokens_list.append(token)"
      ],
      "metadata": {
        "id": "GsDPkxZyz8p8"
      },
      "execution_count": 38,
      "outputs": []
    },
    {
      "cell_type": "code",
      "source": [
        "tokens_list"
      ],
      "metadata": {
        "id": "tCwZdIa20z6t"
      },
      "execution_count": null,
      "outputs": []
    },
    {
      "cell_type": "code",
      "source": [
        "import nltk"
      ],
      "metadata": {
        "id": "tUq6lLUJzZeW"
      },
      "execution_count": 21,
      "outputs": []
    },
    {
      "cell_type": "code",
      "source": [
        "common_tokens_list = []\n",
        "\n",
        "for tokens in tokens_list:\n",
        "  ko = nltk.Text(tokens)\n",
        "  common_tokens = ko.vocab().most_common(50)\n",
        "  common_tokens_list.append(common_tokens)\n",
        "\n",
        "common_tokens_list"
      ],
      "metadata": {
        "id": "qf3Jb1UAuaNc"
      },
      "execution_count": null,
      "outputs": []
    },
    {
      "cell_type": "code",
      "source": [
        ""
      ],
      "metadata": {
        "id": "iKqfWE9NuaQE"
      },
      "execution_count": null,
      "outputs": []
    },
    {
      "cell_type": "code",
      "source": [
        "tokens_counts = []\n",
        "keyword = '경제'\n",
        "\n",
        "for tokens in tokens_list:\n",
        "  token_count = tokens.count(keyword)\n",
        "  tokens_counts.append(token_count)\n",
        "\n",
        "tokens_counts"
      ],
      "metadata": {
        "id": "pkZyL7XwuaSj"
      },
      "execution_count": null,
      "outputs": []
    },
    {
      "cell_type": "code",
      "source": [
        "plt.plot(tokens_counts)"
      ],
      "metadata": {
        "id": "Tq4W4yKUuaVM"
      },
      "execution_count": null,
      "outputs": []
    },
    {
      "cell_type": "code",
      "source": [
        ""
      ],
      "metadata": {
        "id": "dOrV79aYuaXl"
      },
      "execution_count": null,
      "outputs": []
    },
    {
      "cell_type": "code",
      "source": [
        "# text classification"
      ],
      "metadata": {
        "id": "OTdETeNwuaaA"
      },
      "execution_count": 43,
      "outputs": []
    },
    {
      "cell_type": "code",
      "source": [
        "pet"
      ],
      "metadata": {
        "colab": {
          "base_uri": "https://localhost:8080/",
          "height": 1000
        },
        "id": "izTf6OYVuadM",
        "outputId": "77150aaa-bb57-493d-a1e0-1138e612d5bd"
      },
      "execution_count": 45,
      "outputs": [
        {
          "output_type": "execute_result",
          "data": {
            "text/plain": [
              "       Unnamed: 0  article_id       start         end  answered  votes  \\\n",
              "0              31          53  2017-08-19  2017-11-17         0     16   \n",
              "1               2          23  2017-08-19  2017-09-03         0      0   \n",
              "2              32          54  2017-08-19  2017-08-26         0    144   \n",
              "3               0          21  2017-08-19  2017-11-17         0      9   \n",
              "4              68          91  2017-08-20  2017-09-19         0    165   \n",
              "...           ...         ...         ...         ...       ...    ...   \n",
              "37771      377051      491184  2019-01-09  2019-02-08         0      3   \n",
              "37772      377246      491413  2019-01-09  2019-02-08         0      3   \n",
              "37773      376972      491089  2019-01-09  2019-02-08         0     35   \n",
              "37774      377570      491809  2019-01-09  2019-02-08         0    109   \n",
              "37775      377008      491131  2019-01-09  2019-02-08         0    129   \n",
              "\n",
              "      category                                              title  \\\n",
              "0         보건복지                              소방공무원분들의 인원충원을 청원합니다!   \n",
              "1           미래                                           제2의 개성공단   \n",
              "2          일자리                                 공정한 기회 균등이 보장되는 사회   \n",
              "3        안전/환경                                스텔라 데이지호에 대한 제안입니다.   \n",
              "4        경제민주화                              증권 자본시장개정안(상장폐지법 개정안)   \n",
              "...        ...                                                ...   \n",
              "37771    육아/교육  85년~88년생 남자들중에 최악질이고 너무 이상한 남자들이 많은게 상대에게 고의적인...   \n",
              "37772       행정                           피의자가 더 큰소리차는 사회 바로 잡아주세요   \n",
              "37773       미래               기초의회 없애란 소리 나온다 정부야 지방자치 확대 캠페인 하지마라   \n",
              "37774     정치개혁                   ★예천군의원 전원사퇴 후 형사처벌, 군의회 폐쇄 촉구합니다   \n",
              "37775     정치개혁                            기초의원폐지하고 주민자치제로 전환 바랍니다   \n",
              "\n",
              "                                                 content duration     mon  \n",
              "0      안녕하세요? 저는 부산예문여고 2학년에 재학 중인 학생입니다. 다름이 아니라 저희 ...  90 days  201708  \n",
              "1      만일 하시는 대통령님 및 각 부처 장관님,주무관님들 안녕하세요!!\\n전남 목포에서 ...  15 days  201708  \n",
              "2      안녕하십니까.저는 인천에서 지방으로 전출을 희망하는 별거 부부이자 중등교사입니다. ...   7 days  201708  \n",
              "3      스텔라 데이지호에 대한 제안입니다.\\n3월31일 스텔라 데이지호가 침몰하고 5달째가...  90 days  201708  \n",
              "4      존경하는 문제인 대통령님께\\n먼저 어렵고 힘든 국정운영을 이끄시느라 노고가 많으십니...  30 days  201708  \n",
              "...                                                  ...      ...     ...  \n",
              "37771  85년~88년생 남자들중에 최악질이고 너무 이상한 남자들이 많은게 상대에게 고의적인...  30 days  201901  \n",
              "37772  예전 사건인데 피의자가 피해자 신상을 털어 다니는 곳 마다 저 놈 나쁜× 으로 몰아...  30 days  201901  \n",
              "37773  봐라 야이야아~!!  뭐 지방자치 확대로 경제가 발전해? 우스와 죽겠네\\n좁디좁은 ...  30 days  201901  \n",
              "37774  박종철뿐만 아니라 예천군의원 전체가 사퇴하고 강력처벌 해야합니다 단순한 일탈 정도가...  30 days  201901  \n",
              "37775  제정자립도가 마이너스인 지자체가 전국에 얼마나 많은데 시의원은 명예직이 아닌 유급제...  30 days  201901  \n",
              "\n",
              "[37776 rows x 11 columns]"
            ],
            "text/html": [
              "\n",
              "  <div id=\"df-2a61e032-0aa8-4490-919f-190a4ccc1234\">\n",
              "    <div class=\"colab-df-container\">\n",
              "      <div>\n",
              "<style scoped>\n",
              "    .dataframe tbody tr th:only-of-type {\n",
              "        vertical-align: middle;\n",
              "    }\n",
              "\n",
              "    .dataframe tbody tr th {\n",
              "        vertical-align: top;\n",
              "    }\n",
              "\n",
              "    .dataframe thead th {\n",
              "        text-align: right;\n",
              "    }\n",
              "</style>\n",
              "<table border=\"1\" class=\"dataframe\">\n",
              "  <thead>\n",
              "    <tr style=\"text-align: right;\">\n",
              "      <th></th>\n",
              "      <th>Unnamed: 0</th>\n",
              "      <th>article_id</th>\n",
              "      <th>start</th>\n",
              "      <th>end</th>\n",
              "      <th>answered</th>\n",
              "      <th>votes</th>\n",
              "      <th>category</th>\n",
              "      <th>title</th>\n",
              "      <th>content</th>\n",
              "      <th>duration</th>\n",
              "      <th>mon</th>\n",
              "    </tr>\n",
              "  </thead>\n",
              "  <tbody>\n",
              "    <tr>\n",
              "      <th>0</th>\n",
              "      <td>31</td>\n",
              "      <td>53</td>\n",
              "      <td>2017-08-19</td>\n",
              "      <td>2017-11-17</td>\n",
              "      <td>0</td>\n",
              "      <td>16</td>\n",
              "      <td>보건복지</td>\n",
              "      <td>소방공무원분들의 인원충원을 청원합니다!</td>\n",
              "      <td>안녕하세요? 저는 부산예문여고 2학년에 재학 중인 학생입니다. 다름이 아니라 저희 ...</td>\n",
              "      <td>90 days</td>\n",
              "      <td>201708</td>\n",
              "    </tr>\n",
              "    <tr>\n",
              "      <th>1</th>\n",
              "      <td>2</td>\n",
              "      <td>23</td>\n",
              "      <td>2017-08-19</td>\n",
              "      <td>2017-09-03</td>\n",
              "      <td>0</td>\n",
              "      <td>0</td>\n",
              "      <td>미래</td>\n",
              "      <td>제2의 개성공단</td>\n",
              "      <td>만일 하시는 대통령님 및 각 부처 장관님,주무관님들 안녕하세요!!\\n전남 목포에서 ...</td>\n",
              "      <td>15 days</td>\n",
              "      <td>201708</td>\n",
              "    </tr>\n",
              "    <tr>\n",
              "      <th>2</th>\n",
              "      <td>32</td>\n",
              "      <td>54</td>\n",
              "      <td>2017-08-19</td>\n",
              "      <td>2017-08-26</td>\n",
              "      <td>0</td>\n",
              "      <td>144</td>\n",
              "      <td>일자리</td>\n",
              "      <td>공정한 기회 균등이 보장되는 사회</td>\n",
              "      <td>안녕하십니까.저는 인천에서 지방으로 전출을 희망하는 별거 부부이자 중등교사입니다. ...</td>\n",
              "      <td>7 days</td>\n",
              "      <td>201708</td>\n",
              "    </tr>\n",
              "    <tr>\n",
              "      <th>3</th>\n",
              "      <td>0</td>\n",
              "      <td>21</td>\n",
              "      <td>2017-08-19</td>\n",
              "      <td>2017-11-17</td>\n",
              "      <td>0</td>\n",
              "      <td>9</td>\n",
              "      <td>안전/환경</td>\n",
              "      <td>스텔라 데이지호에 대한 제안입니다.</td>\n",
              "      <td>스텔라 데이지호에 대한 제안입니다.\\n3월31일 스텔라 데이지호가 침몰하고 5달째가...</td>\n",
              "      <td>90 days</td>\n",
              "      <td>201708</td>\n",
              "    </tr>\n",
              "    <tr>\n",
              "      <th>4</th>\n",
              "      <td>68</td>\n",
              "      <td>91</td>\n",
              "      <td>2017-08-20</td>\n",
              "      <td>2017-09-19</td>\n",
              "      <td>0</td>\n",
              "      <td>165</td>\n",
              "      <td>경제민주화</td>\n",
              "      <td>증권 자본시장개정안(상장폐지법 개정안)</td>\n",
              "      <td>존경하는 문제인 대통령님께\\n먼저 어렵고 힘든 국정운영을 이끄시느라 노고가 많으십니...</td>\n",
              "      <td>30 days</td>\n",
              "      <td>201708</td>\n",
              "    </tr>\n",
              "    <tr>\n",
              "      <th>...</th>\n",
              "      <td>...</td>\n",
              "      <td>...</td>\n",
              "      <td>...</td>\n",
              "      <td>...</td>\n",
              "      <td>...</td>\n",
              "      <td>...</td>\n",
              "      <td>...</td>\n",
              "      <td>...</td>\n",
              "      <td>...</td>\n",
              "      <td>...</td>\n",
              "      <td>...</td>\n",
              "    </tr>\n",
              "    <tr>\n",
              "      <th>37771</th>\n",
              "      <td>377051</td>\n",
              "      <td>491184</td>\n",
              "      <td>2019-01-09</td>\n",
              "      <td>2019-02-08</td>\n",
              "      <td>0</td>\n",
              "      <td>3</td>\n",
              "      <td>육아/교육</td>\n",
              "      <td>85년~88년생 남자들중에 최악질이고 너무 이상한 남자들이 많은게 상대에게 고의적인...</td>\n",
              "      <td>85년~88년생 남자들중에 최악질이고 너무 이상한 남자들이 많은게 상대에게 고의적인...</td>\n",
              "      <td>30 days</td>\n",
              "      <td>201901</td>\n",
              "    </tr>\n",
              "    <tr>\n",
              "      <th>37772</th>\n",
              "      <td>377246</td>\n",
              "      <td>491413</td>\n",
              "      <td>2019-01-09</td>\n",
              "      <td>2019-02-08</td>\n",
              "      <td>0</td>\n",
              "      <td>3</td>\n",
              "      <td>행정</td>\n",
              "      <td>피의자가 더 큰소리차는 사회 바로 잡아주세요</td>\n",
              "      <td>예전 사건인데 피의자가 피해자 신상을 털어 다니는 곳 마다 저 놈 나쁜× 으로 몰아...</td>\n",
              "      <td>30 days</td>\n",
              "      <td>201901</td>\n",
              "    </tr>\n",
              "    <tr>\n",
              "      <th>37773</th>\n",
              "      <td>376972</td>\n",
              "      <td>491089</td>\n",
              "      <td>2019-01-09</td>\n",
              "      <td>2019-02-08</td>\n",
              "      <td>0</td>\n",
              "      <td>35</td>\n",
              "      <td>미래</td>\n",
              "      <td>기초의회 없애란 소리 나온다 정부야 지방자치 확대 캠페인 하지마라</td>\n",
              "      <td>봐라 야이야아~!!  뭐 지방자치 확대로 경제가 발전해? 우스와 죽겠네\\n좁디좁은 ...</td>\n",
              "      <td>30 days</td>\n",
              "      <td>201901</td>\n",
              "    </tr>\n",
              "    <tr>\n",
              "      <th>37774</th>\n",
              "      <td>377570</td>\n",
              "      <td>491809</td>\n",
              "      <td>2019-01-09</td>\n",
              "      <td>2019-02-08</td>\n",
              "      <td>0</td>\n",
              "      <td>109</td>\n",
              "      <td>정치개혁</td>\n",
              "      <td>★예천군의원 전원사퇴 후 형사처벌, 군의회 폐쇄 촉구합니다</td>\n",
              "      <td>박종철뿐만 아니라 예천군의원 전체가 사퇴하고 강력처벌 해야합니다 단순한 일탈 정도가...</td>\n",
              "      <td>30 days</td>\n",
              "      <td>201901</td>\n",
              "    </tr>\n",
              "    <tr>\n",
              "      <th>37775</th>\n",
              "      <td>377008</td>\n",
              "      <td>491131</td>\n",
              "      <td>2019-01-09</td>\n",
              "      <td>2019-02-08</td>\n",
              "      <td>0</td>\n",
              "      <td>129</td>\n",
              "      <td>정치개혁</td>\n",
              "      <td>기초의원폐지하고 주민자치제로 전환 바랍니다</td>\n",
              "      <td>제정자립도가 마이너스인 지자체가 전국에 얼마나 많은데 시의원은 명예직이 아닌 유급제...</td>\n",
              "      <td>30 days</td>\n",
              "      <td>201901</td>\n",
              "    </tr>\n",
              "  </tbody>\n",
              "</table>\n",
              "<p>37776 rows × 11 columns</p>\n",
              "</div>\n",
              "      <button class=\"colab-df-convert\" onclick=\"convertToInteractive('df-2a61e032-0aa8-4490-919f-190a4ccc1234')\"\n",
              "              title=\"Convert this dataframe to an interactive table.\"\n",
              "              style=\"display:none;\">\n",
              "        \n",
              "  <svg xmlns=\"http://www.w3.org/2000/svg\" height=\"24px\"viewBox=\"0 0 24 24\"\n",
              "       width=\"24px\">\n",
              "    <path d=\"M0 0h24v24H0V0z\" fill=\"none\"/>\n",
              "    <path d=\"M18.56 5.44l.94 2.06.94-2.06 2.06-.94-2.06-.94-.94-2.06-.94 2.06-2.06.94zm-11 1L8.5 8.5l.94-2.06 2.06-.94-2.06-.94L8.5 2.5l-.94 2.06-2.06.94zm10 10l.94 2.06.94-2.06 2.06-.94-2.06-.94-.94-2.06-.94 2.06-2.06.94z\"/><path d=\"M17.41 7.96l-1.37-1.37c-.4-.4-.92-.59-1.43-.59-.52 0-1.04.2-1.43.59L10.3 9.45l-7.72 7.72c-.78.78-.78 2.05 0 2.83L4 21.41c.39.39.9.59 1.41.59.51 0 1.02-.2 1.41-.59l7.78-7.78 2.81-2.81c.8-.78.8-2.07 0-2.86zM5.41 20L4 18.59l7.72-7.72 1.47 1.35L5.41 20z\"/>\n",
              "  </svg>\n",
              "      </button>\n",
              "      \n",
              "  <style>\n",
              "    .colab-df-container {\n",
              "      display:flex;\n",
              "      flex-wrap:wrap;\n",
              "      gap: 12px;\n",
              "    }\n",
              "\n",
              "    .colab-df-convert {\n",
              "      background-color: #E8F0FE;\n",
              "      border: none;\n",
              "      border-radius: 50%;\n",
              "      cursor: pointer;\n",
              "      display: none;\n",
              "      fill: #1967D2;\n",
              "      height: 32px;\n",
              "      padding: 0 0 0 0;\n",
              "      width: 32px;\n",
              "    }\n",
              "\n",
              "    .colab-df-convert:hover {\n",
              "      background-color: #E2EBFA;\n",
              "      box-shadow: 0px 1px 2px rgba(60, 64, 67, 0.3), 0px 1px 3px 1px rgba(60, 64, 67, 0.15);\n",
              "      fill: #174EA6;\n",
              "    }\n",
              "\n",
              "    [theme=dark] .colab-df-convert {\n",
              "      background-color: #3B4455;\n",
              "      fill: #D2E3FC;\n",
              "    }\n",
              "\n",
              "    [theme=dark] .colab-df-convert:hover {\n",
              "      background-color: #434B5C;\n",
              "      box-shadow: 0px 1px 3px 1px rgba(0, 0, 0, 0.15);\n",
              "      filter: drop-shadow(0px 1px 2px rgba(0, 0, 0, 0.3));\n",
              "      fill: #FFFFFF;\n",
              "    }\n",
              "  </style>\n",
              "\n",
              "      <script>\n",
              "        const buttonEl =\n",
              "          document.querySelector('#df-2a61e032-0aa8-4490-919f-190a4ccc1234 button.colab-df-convert');\n",
              "        buttonEl.style.display =\n",
              "          google.colab.kernel.accessAllowed ? 'block' : 'none';\n",
              "\n",
              "        async function convertToInteractive(key) {\n",
              "          const element = document.querySelector('#df-2a61e032-0aa8-4490-919f-190a4ccc1234');\n",
              "          const dataTable =\n",
              "            await google.colab.kernel.invokeFunction('convertToInteractive',\n",
              "                                                     [key], {});\n",
              "          if (!dataTable) return;\n",
              "\n",
              "          const docLinkHtml = 'Like what you see? Visit the ' +\n",
              "            '<a target=\"_blank\" href=https://colab.research.google.com/notebooks/data_table.ipynb>data table notebook</a>'\n",
              "            + ' to learn more about interactive tables.';\n",
              "          element.innerHTML = '';\n",
              "          dataTable['output_type'] = 'display_data';\n",
              "          await google.colab.output.renderOutput(dataTable, element);\n",
              "          const docLink = document.createElement('div');\n",
              "          docLink.innerHTML = docLinkHtml;\n",
              "          element.appendChild(docLink);\n",
              "        }\n",
              "      </script>\n",
              "    </div>\n",
              "  </div>\n",
              "  "
            ]
          },
          "metadata": {},
          "execution_count": 45
        }
      ]
    },
    {
      "cell_type": "code",
      "source": [
        ""
      ],
      "metadata": {
        "id": "I-P--AB13EuT"
      },
      "execution_count": null,
      "outputs": []
    }
  ]
}