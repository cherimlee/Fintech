{
 "cells": [
  {
   "cell_type": "code",
   "execution_count": null,
   "metadata": {
    "id": "j-_Fd25y7fCQ"
   },
   "outputs": [],
   "source": []
  },
  {
   "cell_type": "code",
   "execution_count": null,
   "metadata": {
    "id": "yP2W95hC7fE_"
   },
   "outputs": [],
   "source": [
    "!curl -s https://raw.githubusercontent.com/teddylee777/machine-learning/master/99-Misc/01-Colab/mecab-colab.sh | bash"
   ]
  },
  {
   "cell_type": "code",
   "execution_count": 6,
   "metadata": {
    "id": "mVCIWOWw7fH5"
   },
   "outputs": [],
   "source": [
    "from konlpy.tag import Okt, Mecab, Komoran, Kkma, Hannanum\n",
    "\n",
    "okt = Okt()\n",
    "mecab = Mecab()"
   ]
  },
  {
   "cell_type": "code",
   "execution_count": 3,
   "metadata": {
    "id": "9p0avFNj7fKY"
   },
   "outputs": [],
   "source": [
    "text = '아버지가방에들어가신다'"
   ]
  },
  {
   "cell_type": "code",
   "execution_count": 4,
   "metadata": {
    "colab": {
     "base_uri": "https://localhost:8080/"
    },
    "id": "3Qmmkxom7fNA",
    "outputId": "7a4490ad-a8cd-4855-def6-857d916de255"
   },
   "outputs": [
    {
     "data": {
      "text/plain": [
       "[('아버지', 'Noun'), ('가방', 'Noun'), ('에', 'Josa'), ('들어가신다', 'Verb')]"
      ]
     },
     "execution_count": 4,
     "metadata": {},
     "output_type": "execute_result"
    }
   ],
   "source": [
    "okt.pos(text)"
   ]
  },
  {
   "cell_type": "code",
   "execution_count": 5,
   "metadata": {
    "colab": {
     "base_uri": "https://localhost:8080/"
    },
    "id": "LiiKKk1t8mpo",
    "outputId": "6a29f3fe-5566-4d39-ed17-57dfebef1d06"
   },
   "outputs": [
    {
     "data": {
      "text/plain": [
       "[('아버지', 'NNG'),\n",
       " ('가', 'JKS'),\n",
       " ('방', 'NNG'),\n",
       " ('에', 'JKB'),\n",
       " ('들어가', 'VV'),\n",
       " ('신다', 'EP+EC')]"
      ]
     },
     "execution_count": 5,
     "metadata": {},
     "output_type": "execute_result"
    }
   ],
   "source": [
    "mecab.pos(text)"
   ]
  },
  {
   "cell_type": "code",
   "execution_count": 8,
   "metadata": {
    "colab": {
     "base_uri": "https://localhost:8080/"
    },
    "id": "4iC-0JZL8msq",
    "outputId": "45fa7324-ec54-428e-a10e-39aef63b9b4e"
   },
   "outputs": [
    {
     "data": {
      "text/plain": [
       "[('아버지가방에들어가', 'N'), ('이', 'J'), ('시ㄴ다', 'E')]"
      ]
     },
     "execution_count": 8,
     "metadata": {},
     "output_type": "execute_result"
    }
   ],
   "source": [
    "han = Hannanum()\n",
    "han.pos(text)"
   ]
  },
  {
   "cell_type": "code",
   "execution_count": null,
   "metadata": {
    "id": "uWh-0c718l8n"
   },
   "outputs": [],
   "source": []
  },
  {
   "cell_type": "code",
   "execution_count": 9,
   "metadata": {
    "id": "CXN4FdMO9EGp"
   },
   "outputs": [],
   "source": [
    "text = \"\"\"\n",
    "방역당국이 코로나19(COVID-19) 재감염 사례 전면 재조사에 나섰다. 의료 현장에선 재감염 추정 사례가 늘지만 집계된 재감염률은 0.0018%에 그쳐서다. 우리보다 먼저 오미크론 대유행을 겪은 영국 등 해외에서는 재감염률이 10%인 곳도 있다는 점을 감안하면 그동안 과소 집계됐을 가능성을 배제 못한다. 감염병 국면이 길어지며 확진 후유증 사례도 늘어난다. 확진자가 당뇨병 진단을 받을 위험이 미확진자 보다 40% 높다는 연구결과까지 나온다. 대유행은 정점을 지나 기세가 꺾인 모양새지만 1400만명을 넘어선 확진자들에게도 코로나19는 여전한 부담으로 남아있다.\n",
    "1400만 확진자 재감염 주의보…당국 전면 재조사 7일 방역당국에 따르면 전일 신규확진자 수는 28만6294명을 기록했다. 전주보다 13만8292명 줄었다. 통상 확진자 수가 늘어나는 수요일에도 확진자 수는 20만명대에 묶였다. 방역당국과 의료계 분석대로 대유행의 정점은 지난 양상이다.\n",
    "하지만 누적 확진자는 1455만3644명으로 곧 1500만명을 넘어서게 된다. 이미 전체 인구의 30% 가량이 코로나19에 확진됐다. 정점은 꺾였지만 얼마나 더 늘어날지 예단이 어렵다. 의료계에서는 이번 유행 추세가 정점 이후로도 평평한 곡선을 그릴 것이라는 전망이 나온다. 오미크론보다 전파력이 더 큰 스텔스오미크론이 우세종이 된 상황이어서 확진자 수가 빠른 속도로 감소할 가능성은 낮아졌다는 분석이다.\n",
    "누적확진 1500만명을 앞두고 당국은 재감염자 전수 재조사에 나섰다. 방역당국은 전일 재감염 재조사 관련, \"1차적으로 자료 전처리가 가능한 약 900만명을 대상으로 (조사)작업을 진행 중\"이라며 \"예비 결과 검토 후 동일한 방식으로 대상을 단계적으로 확대할 예정\"이라고 밝혔다.\n",
    "그동안 의료 현장에서는 재감염 추정 사례가 상당히 나왔다는 전언이다. 한 의료계 관계자는 \"첫 확진 후 한달이 못돼 재감염이 추정된 환자들을 지난달 초부터 상당수 봤다\"며 \"지난달 확진자들이 대폭 늘어나며 나타난 현상\"이라고 말했다. 최근 온라인 커뮤니티 게시판에도 \"첫 확진후 한달이 못돼 자가검사 키트에 두 줄이 나왔지만 보건소에서 재감염이 아니라는 말을 들었다\"는 글들이 자주 올라온다.\n",
    "하지만 올해 1월부터 3월 16일 사이 공식적으로 집계된 재감염자는 129명에 그친다. 이 기간 전체 확진자 중 0.0018% 비중에 불과하다. 지금보다 확진자 수가 훨씬 적었던 지난해 7~12월 재감염 비중 0.03%보다도 오히려 낮은 숫자다.\n",
    "이 비중은 우리보다 먼저 오미크론발 대유행을 겪은 곳과 비교해도 지나치게 낮다. 영국 보건당국에 따르면 올해 1~2월 영국의 재감염 추정 사례는 65만건 수준인 것으로 집계됐다. 이는 전체 확진의 10% 비중이었다. 이 비중은 지난해 11월까지는 1%에 불과했다. 오미크론이 확산되며 확진자 10명중 1명은 재감염자가 된 셈이다.\n",
    "방역 당국은 우리 집계에 누락이 있을 가능성을 인정했다. 방역당국은 \"현행 재감염 추정사례 지자체별 등록 현황을 바탕으로 한 통계가 외국과 비교할 때 매우 낮아서 확진자 급증 이후 등록 통계가 불안정할 수 있다\"며 \"(따라서)전수 조사를 하게 됐다\"고 밝혔다.\n",
    "면역 회피력이 강한 오미크론 특성이 재감염 증가 배경으로 거론된다. 오미크론은 바이러스 감염을 일으키는 스파이크 단백질이 델타 변이보다 2배 이상 많아 면역 회피력이 상당한 것으로 알려졌다. 앞서 델타 변이에 감염됐던 사람도 오미크론에 쉽게 감염되는 셈이다.\n",
    "특히 최근 오미크론의 하위 변이인 스텔스 오미크론 확산도 재감염 증가의 원인으로 꼽힌다. 스텔스 오미크론은 오미크론보다도 전파력이 최대 80% 강한 것으로 알려져있다. 한 달전 4%대에 불과한 국내 스텔스 오미크론 검출률은 이제 70%에 육박한다. 오미크론에 걸린 사람이 다시 스텔스 오미크론에 걸릴 가능성이 그만큼 높아진 셈이다.\n",
    "이젠 당뇨병까지…불안한 확진 후유증\n",
    "후유증 추가 의심질환도 늘어난다. 영국 의학 저널 '랜싯 당뇨병·내분비학'(Lancet Diabetes & Endocrinology)에 미국 VA 세인트루이스 의료시스템 지야드 알-알리 박사팀이 게재한 연구 결과에 따르면 코로나19 확진자가 1년 안에 당뇨병 진단을 받을 위험이 미확진자 보다 40% 높았던 것으로 조사됐다.\n",
    "독일 뒤셀도르프 하인리히 하이네 대학의 라이프니츠 당뇨 연구센터 연구진도 최근 코로나19 확진자의 2형 당뇨병 위험이 28% 높다는 연구 결과를 보고했다. 전 세계 코로나19 팬데믹이 막 시작된 2020년, 전세계 17명 당뇨병 권위자들이 미국 의학 전문지 '뉴 잉글랜드 저널 오브 메디신'에 \"코로나19가 당뇨병을 유발할 수 있다는 증거가 나타난다\"는 서한을 보낸 뒤 이제 구체적 연구 수치가 나오는 셈이다.\n",
    "당뇨병 같은 만성질환은 호흡 곤란과 미각 소실 등 코로나19의 대표적 후유증 보다 국민 건강에 미칠 위험성이 상당이 높다. 하지만 의료계에서는 기전이 확실히 규명돼 코로나19와 당뇨병과의 인과관계가 최종 입증되는데는 상당한 시간이 걸릴 것이라는 말이 나온다. 엄중식 가천대길병원 감염내과 교수는 \"확실한 인과관계를 검증하는 작업은 어렵고 상당히 오랜 기간 연구가 진행될 것\"이라고 말했다. 최재욱 고려대 예방의학교실 교수는 \"지금 나오는 연구는 역학적 연구결과를 통해 그런 사실이 확인됐다는 것\"이라며 \"최종 확정이 되기까지는 시간이 필요하다\"고 말했다.\n",
    "하지만, 기전이 명확히 규명되지 않았다 해도 최근 해외 연구 결과가 국내 감염병 국면에 주는 의미는 분명 있다는 평가가 나온다. 최 교수는 \"공중보건학 차원에서 (당뇨병 발병 위험을) 사전에 예방 가능한 것인지, 정부가 할 수 있는 것이 있나 들여다 볼수는 있는 자료\"라고 말했다. 엄 교수는 \"우리도 확진자들의 진료기록을 추적해 빅데이터화 해서 연구해야 한다\"며 \"당뇨뿐 아니라 국민에 미치는 여러 사례들을 계속해서 장기 추적해야 한다\"고 말했다.\n",
    "\"\"\""
   ]
  },
  {
   "cell_type": "code",
   "execution_count": 11,
   "metadata": {
    "colab": {
     "base_uri": "https://localhost:8080/"
    },
    "id": "5M_kkk_W9EJX",
    "outputId": "241335cf-12b4-448f-813a-fe3926bd0225"
   },
   "outputs": [
    {
     "name": "stdout",
     "output_type": "stream",
     "text": [
      "CPU times: user 40 s, sys: 547 ms, total: 40.6 s\n",
      "Wall time: 21 s\n"
     ]
    }
   ],
   "source": [
    "%%time\n",
    "kkma = Kkma()\n",
    "kkma.pos(text)"
   ]
  },
  {
   "cell_type": "code",
   "execution_count": 13,
   "metadata": {
    "colab": {
     "base_uri": "https://localhost:8080/"
    },
    "id": "c0SeCpc69EMM",
    "outputId": "773bbb8c-b814-4d58-b849-1f66d2335fb9"
   },
   "outputs": [
    {
     "name": "stdout",
     "output_type": "stream",
     "text": [
      "CPU times: user 13.2 s, sys: 149 ms, total: 13.4 s\n",
      "Wall time: 6.89 s\n"
     ]
    }
   ],
   "source": [
    "%%time\n",
    "kom = Komoran()\n",
    "kom.pos(text)"
   ]
  },
  {
   "cell_type": "code",
   "execution_count": 14,
   "metadata": {
    "colab": {
     "base_uri": "https://localhost:8080/"
    },
    "id": "ie9MMZep9EO3",
    "outputId": "23d98031-b0ca-40fb-b53b-b7ea1e423799"
   },
   "outputs": [
    {
     "name": "stdout",
     "output_type": "stream",
     "text": [
      "CPU times: user 9.09 s, sys: 79.9 ms, total: 9.17 s\n",
      "Wall time: 5.19 s\n"
     ]
    }
   ],
   "source": [
    "%%time\n",
    "han = Hannanum()\n",
    "han.pos(text)"
   ]
  },
  {
   "cell_type": "code",
   "execution_count": 15,
   "metadata": {
    "colab": {
     "base_uri": "https://localhost:8080/"
    },
    "id": "FHTH-Tvc9ERw",
    "outputId": "981ba6e1-d96f-4716-d925-9fe2e420ba64"
   },
   "outputs": [
    {
     "name": "stdout",
     "output_type": "stream",
     "text": [
      "CPU times: user 1.52 s, sys: 86 ms, total: 1.61 s\n",
      "Wall time: 843 ms\n"
     ]
    }
   ],
   "source": [
    "%%time\n",
    "okt = Okt()\n",
    "okt.pos(text)"
   ]
  },
  {
   "cell_type": "code",
   "execution_count": 17,
   "metadata": {
    "colab": {
     "base_uri": "https://localhost:8080/"
    },
    "id": "z5a3MP-M9EUQ",
    "outputId": "e45b1ad6-69c8-4914-d5a3-937be8f649df"
   },
   "outputs": [
    {
     "name": "stdout",
     "output_type": "stream",
     "text": [
      "CPU times: user 10.7 ms, sys: 2.98 ms, total: 13.7 ms\n",
      "Wall time: 13.5 ms\n"
     ]
    }
   ],
   "source": [
    "%%time\n",
    "mecab = Mecab()\n",
    "mecab.pos(text)"
   ]
  },
  {
   "cell_type": "code",
   "execution_count": null,
   "metadata": {
    "id": "00dx4_Ke9l6H"
   },
   "outputs": [],
   "source": [
    "mecab.nouns(text)"
   ]
  },
  {
   "cell_type": "code",
   "execution_count": null,
   "metadata": {
    "id": "7L-1xGn4-XPZ"
   },
   "outputs": [],
   "source": []
  },
  {
   "cell_type": "code",
   "execution_count": null,
   "metadata": {
    "id": "hP1kr8yz-XSH"
   },
   "outputs": [],
   "source": []
  },
  {
   "cell_type": "code",
   "execution_count": null,
   "metadata": {
    "id": "hRSRWruy-XUw"
   },
   "outputs": [],
   "source": []
  },
  {
   "cell_type": "code",
   "execution_count": null,
   "metadata": {
    "id": "KXo60Wvh-XXf"
   },
   "outputs": [],
   "source": []
  },
  {
   "cell_type": "code",
   "execution_count": null,
   "metadata": {
    "id": "xitNILK3-Xc_"
   },
   "outputs": [],
   "source": []
  }
 ],
 "metadata": {
  "colab": {
   "name": "형태소분석기.ipynb",
   "provenance": []
  },
  "kernelspec": {
   "display_name": "Python 3 (ipykernel)",
   "language": "python",
   "name": "python3"
  },
  "language_info": {
   "codemirror_mode": {
    "name": "ipython",
    "version": 3
   },
   "file_extension": ".py",
   "mimetype": "text/x-python",
   "name": "python",
   "nbconvert_exporter": "python",
   "pygments_lexer": "ipython3",
   "version": "3.7.11"
  }
 },
 "nbformat": 4,
 "nbformat_minor": 1
}
