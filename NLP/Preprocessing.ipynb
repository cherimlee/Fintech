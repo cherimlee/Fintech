{
 "cells": [
  {
   "cell_type": "code",
   "execution_count": null,
   "id": "4ad874bc",
   "metadata": {},
   "outputs": [],
   "source": [
    "# 한글 처리 => 형태소 단위 처리 => 형태소 분석기.. => konlpy\n",
    "# 형태소 : 문장에서 의미를 갖는 가장 작은 단위\n",
    "# 형태소 분석기 : 한글에서 형태소를 추출하는 분석기"
   ]
  },
  {
   "cell_type": "code",
   "execution_count": 3,
   "id": "673f4ade",
   "metadata": {},
   "outputs": [],
   "source": [
    "# konlpy 설치"
   ]
  },
  {
   "cell_type": "code",
   "execution_count": 1,
   "id": "dc7f17b0",
   "metadata": {},
   "outputs": [],
   "source": [
    "import konlpy"
   ]
  },
  {
   "cell_type": "code",
   "execution_count": 8,
   "id": "d08135a7",
   "metadata": {},
   "outputs": [],
   "source": [
    "from konlpy.tag import Hannanum, Kkma, Komoran, Twitter # Mecab, Kahiii"
   ]
  },
  {
   "cell_type": "code",
   "execution_count": 4,
   "id": "aedef762",
   "metadata": {},
   "outputs": [],
   "source": [
    "kor = Komoran()"
   ]
  },
  {
   "cell_type": "code",
   "execution_count": 10,
   "id": "2e1eca77",
   "metadata": {},
   "outputs": [],
   "source": [
    "text = \"\"\"\n",
    "더불어민주당 이재명 전 대선 후보 배우자 김혜경 씨의 ‘법인카드 사적 사용 의혹' 사건 \n",
    "등과 관련해 경찰이 핵심 인물로 지목된 배아무개 전 경기도청 사무관 자택과 휴대전화를 \n",
    "압수한 것으로 확인됐다.\n",
    "\n",
    "경기남부경찰청 반부패수사대는 지난 4일 밤 경기도청 전 총무과 별정직 5급 공무원 배씨 \n",
    "자택 압수수색하고 배씨 휴대전화를 압수했다고 5일 밝혔다. 배씨는 경기도가 법인카드 \n",
    "유용 의혹과 관련해 자체 감사를 벌인 뒤 지난달 25일 경찰에 고발한 인물이다. 배씨는 \n",
    "도청에 근무한 2018년 7월부터 지난해 9월까지 이 전 후보의 부인 개인 음식값을 경기도 \n",
    "법인카드로 결제했다는 의혹을 받아왔다. 경찰은 의혹이 불거진 지난 2월 말께 배씨에 \n",
    "대해 출국금지 조처를 내린 상태였다.\n",
    "\n",
    "경찰은 전날 10시간에 걸쳐 경기도청 총무과와 의무실 등을 압수수색했다. 경찰은 \n",
    "압수수색에서 경기도 법인카드 사용 내역 등 여러 자료를 확보한 것으로 전해졌다.\n",
    "\n",
    "경찰은 확보한 자료를 토대로 그동안 정당과 시민단체가 제기한 경기도 법인카드 사적 \n",
    "유용·수행비서 채용·불법 처방전 발급 등 김씨 관련 각종 의혹 전반에 대해 사실관계를 \n",
    "확인할 예정이다. 경찰 관계자는 “전날 배씨에 대한 압수수색 영장도 발부받은 상태였다”며 “배씨가 집에 없어서 늦은 시간까지 기다렸다가 영장을 집행했다”고 설명했다.\n",
    "\"\"\""
   ]
  },
  {
   "cell_type": "code",
   "execution_count": 29,
   "id": "8b0be806",
   "metadata": {
    "collapsed": true
   },
   "outputs": [
    {
     "name": "stdout",
     "output_type": "stream",
     "text": [
      "['더불어민주당', '이재명', '전', '대선', '후보', '배우자', '김혜경', '씨', '의', '‘', '법인', '카드', '사적', '사용', '의혹', \"'\", '사건']\n"
     ]
    }
   ],
   "source": [
    "print(kor.morphs(text[:50]))"
   ]
  },
  {
   "cell_type": "code",
   "execution_count": 30,
   "id": "313bdbac",
   "metadata": {
    "collapsed": true
   },
   "outputs": [
    {
     "name": "stdout",
     "output_type": "stream",
     "text": [
      "['더불어민주당', '이재명', '대선', '후보', '배우자', '김혜경', '씨', '법인', '카드', '사적', '사용', '의혹', '사건']\n"
     ]
    }
   ],
   "source": [
    "print(kor.nouns(text[:50]))"
   ]
  },
  {
   "cell_type": "code",
   "execution_count": 31,
   "id": "cc5afc2e",
   "metadata": {
    "collapsed": true
   },
   "outputs": [
    {
     "name": "stdout",
     "output_type": "stream",
     "text": [
      "[('더불어민주당', 'NNP'), ('이재명', 'NNP'), ('전', 'MM'), ('대선', 'NNG'), ('후보', 'NNG'), ('배우자', 'NNP'), ('김혜경', 'NNP'), ('씨', 'NNB'), ('의', 'JKG'), ('‘', 'SS'), ('법인', 'NNP'), ('카드', 'NNP'), ('사적', 'NNP'), ('사용', 'NNG'), ('의혹', 'NNG'), (\"'\", 'SS'), ('사건', 'NNG')]\n"
     ]
    }
   ],
   "source": [
    "print(kor.pos(text[:50]))"
   ]
  },
  {
   "cell_type": "code",
   "execution_count": null,
   "id": "651864a8",
   "metadata": {},
   "outputs": [],
   "source": []
  },
  {
   "cell_type": "code",
   "execution_count": 14,
   "id": "e065086e",
   "metadata": {},
   "outputs": [],
   "source": [
    "han = Hannanum()"
   ]
  },
  {
   "cell_type": "code",
   "execution_count": 32,
   "id": "c8ca13b4",
   "metadata": {
    "collapsed": true
   },
   "outputs": [
    {
     "name": "stdout",
     "output_type": "stream",
     "text": [
      "['더불어민주당', '이재명', '전', '대선', '후보', '배우', '자', '김혜경', '씨', '의', '‘법인카드', '사적', '사용', '의혹', \"'\", '사건']\n"
     ]
    }
   ],
   "source": [
    "print(han.morphs(text[:50]))"
   ]
  },
  {
   "cell_type": "code",
   "execution_count": 34,
   "id": "d18153a0",
   "metadata": {
    "collapsed": true
   },
   "outputs": [
    {
     "name": "stdout",
     "output_type": "stream",
     "text": [
      "['더불어민주당', '이재명', '전', '대선', '후보', '김혜경', '씨', '‘법인카드', '사적', '사용', '의혹', '사건']\n"
     ]
    }
   ],
   "source": [
    "print(han.nouns(text[:50]))"
   ]
  },
  {
   "cell_type": "code",
   "execution_count": 35,
   "id": "0ce80f2a",
   "metadata": {
    "collapsed": true
   },
   "outputs": [
    {
     "name": "stdout",
     "output_type": "stream",
     "text": [
      "[('더불어민주당', 'N'), ('이재명', 'N'), ('전', 'N'), ('대선', 'N'), ('후보', 'N'), ('배우', 'P'), ('자', 'E'), ('김혜경', 'N'), ('씨', 'N'), ('의', 'J'), ('‘법인카드', 'N'), ('사적', 'N'), ('사용', 'N'), ('의혹', 'N'), (\"'\", 'S'), ('사건', 'N')]\n"
     ]
    }
   ],
   "source": [
    "print(han.pos(text[:50]))"
   ]
  },
  {
   "cell_type": "code",
   "execution_count": null,
   "id": "902e6a92",
   "metadata": {},
   "outputs": [],
   "source": []
  },
  {
   "cell_type": "code",
   "execution_count": 36,
   "id": "46d073f9",
   "metadata": {},
   "outputs": [],
   "source": [
    "kkm = Kkma()"
   ]
  },
  {
   "cell_type": "code",
   "execution_count": 37,
   "id": "7062b480",
   "metadata": {
    "collapsed": true
   },
   "outputs": [
    {
     "name": "stdout",
     "output_type": "stream",
     "text": [
      "['더불', '어', '민주당', '이재명', '전', '대선', '후보', '배우자', '김', '혜', '경', '씨', '의', '‘', '법인', '카드', '사적', '사용', '의혹', \"'\", '사건']\n"
     ]
    }
   ],
   "source": [
    "print(kkm.morphs(text[:50]))"
   ]
  },
  {
   "cell_type": "code",
   "execution_count": 38,
   "id": "54ce393f",
   "metadata": {
    "collapsed": true
   },
   "outputs": [
    {
     "name": "stdout",
     "output_type": "stream",
     "text": [
      "['민주당', '이재명', '전', '대선', '후보', '배우자', '김', '김혜경', '혜', '경', '씨', '법인', '법인카드', '카드', '사적', '사용', '의혹', '사건']\n"
     ]
    }
   ],
   "source": [
    "print(kkm.nouns(text[:50]))"
   ]
  },
  {
   "cell_type": "code",
   "execution_count": 39,
   "id": "9f8fd3e5",
   "metadata": {
    "collapsed": true
   },
   "outputs": [
    {
     "name": "stdout",
     "output_type": "stream",
     "text": [
      "[('더불', 'VV'), ('어', 'ECD'), ('민주당', 'NNG'), ('이재명', 'NNG'), ('전', 'NNG'), ('대선', 'NNG'), ('후보', 'NNG'), ('배우자', 'NNG'), ('김', 'NNG'), ('혜', 'UN'), ('경', 'NNG'), ('씨', 'NNB'), ('의', 'JKG'), ('‘', 'SS'), ('법인', 'NNG'), ('카드', 'NNG'), ('사적', 'NNG'), ('사용', 'NNG'), ('의혹', 'NNG'), (\"'\", 'SS'), ('사건', 'NNG')]\n"
     ]
    }
   ],
   "source": [
    "print(kkm.pos(text[:50]))"
   ]
  },
  {
   "cell_type": "code",
   "execution_count": null,
   "id": "3a7644ea",
   "metadata": {},
   "outputs": [],
   "source": []
  },
  {
   "cell_type": "code",
   "execution_count": null,
   "id": "4c205fc2",
   "metadata": {},
   "outputs": [],
   "source": []
  },
  {
   "cell_type": "code",
   "execution_count": null,
   "id": "e803d747",
   "metadata": {},
   "outputs": [],
   "source": []
  }
 ],
 "metadata": {
  "kernelspec": {
   "display_name": "Python 3 (ipykernel)",
   "language": "python",
   "name": "python3"
  },
  "language_info": {
   "codemirror_mode": {
    "name": "ipython",
    "version": 3
   },
   "file_extension": ".py",
   "mimetype": "text/x-python",
   "name": "python",
   "nbconvert_exporter": "python",
   "pygments_lexer": "ipython3",
   "version": "3.9.7"
  }
 },
 "nbformat": 4,
 "nbformat_minor": 5
}
