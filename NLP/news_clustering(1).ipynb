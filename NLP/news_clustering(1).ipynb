{
 "cells": [
  {
   "cell_type": "code",
   "execution_count": 1,
   "id": "89adf83f",
   "metadata": {},
   "outputs": [],
   "source": [
    "import requests\n",
    "from bs4 import BeautifulSoup"
   ]
  },
  {
   "cell_type": "code",
   "execution_count": 4,
   "id": "8f8a3c1c",
   "metadata": {},
   "outputs": [
    {
     "data": {
      "text/plain": [
       "'https://news.daum.net/economic#1'"
      ]
     },
     "execution_count": 4,
     "metadata": {},
     "output_type": "execute_result"
    }
   ],
   "source": [
    "cate = 'economic'  # politics, society\n",
    "url = 'https://news.daum.net/{}#1'.format(cate)\n",
    "url"
   ]
  },
  {
   "cell_type": "code",
   "execution_count": null,
   "id": "03d089a4",
   "metadata": {},
   "outputs": [],
   "source": []
  },
  {
   "cell_type": "code",
   "execution_count": 5,
   "id": "994258ea",
   "metadata": {},
   "outputs": [],
   "source": [
    "res = requests.get(url)"
   ]
  },
  {
   "cell_type": "code",
   "execution_count": 8,
   "id": "772e17b4",
   "metadata": {},
   "outputs": [],
   "source": [
    "path = 'body > div.container-doc.cont-category > main > section > div.main-sub > div.box_g.box_news_major > ul > li'\n",
    "\n",
    "soup = BeautifulSoup(res.text)\n",
    "lis = soup.select(path)"
   ]
  },
  {
   "cell_type": "code",
   "execution_count": 13,
   "id": "c7c06fed",
   "metadata": {},
   "outputs": [
    {
     "data": {
      "text/plain": [
       "['https://v.daum.net/v/20220406120559057',\n",
       " 'https://v.daum.net/v/20220406120045853',\n",
       " 'https://v.daum.net/v/20220406120054873',\n",
       " 'https://v.daum.net/v/20220406120034828',\n",
       " 'https://v.daum.net/v/20220406120034827',\n",
       " 'https://v.daum.net/v/20220406120011771',\n",
       " 'https://v.daum.net/v/20220406120006762',\n",
       " 'https://v.daum.net/v/20220406115620684',\n",
       " 'https://v.daum.net/v/20220406115513639',\n",
       " 'https://v.daum.net/v/20220406115035465']"
      ]
     },
     "execution_count": 13,
     "metadata": {},
     "output_type": "execute_result"
    }
   ],
   "source": [
    "news_urls = []\n",
    "for li in lis:\n",
    "    news_url = li.select('a')[0]['href']\n",
    "    news_urls.append(news_url)\n",
    "news_urls"
   ]
  },
  {
   "cell_type": "code",
   "execution_count": 14,
   "id": "0bcd472b",
   "metadata": {},
   "outputs": [
    {
     "data": {
      "text/plain": [
       "'https://v.daum.net/v/20220406120559057'"
      ]
     },
     "execution_count": 14,
     "metadata": {},
     "output_type": "execute_result"
    }
   ],
   "source": [
    "news_urls[0]"
   ]
  },
  {
   "cell_type": "code",
   "execution_count": 15,
   "id": "362d5ba9",
   "metadata": {},
   "outputs": [],
   "source": [
    "res1 = requests.get(news_urls[0])"
   ]
  },
  {
   "cell_type": "code",
   "execution_count": 17,
   "id": "52b28d4b",
   "metadata": {},
   "outputs": [],
   "source": [
    "soup1 = BeautifulSoup(res1.text, 'html.parser')"
   ]
  },
  {
   "cell_type": "code",
   "execution_count": 20,
   "id": "37d473f7",
   "metadata": {},
   "outputs": [],
   "source": [
    "news_texts = []\n",
    "\n",
    "path1 = '#harmonyContainer > section > p'\n",
    "\n",
    "for p in soup1.select(path1):\n",
    "    news_texts.append(p.text)"
   ]
  },
  {
   "cell_type": "code",
   "execution_count": null,
   "id": "1edc5a25",
   "metadata": {},
   "outputs": [],
   "source": []
  },
  {
   "cell_type": "code",
   "execution_count": 178,
   "id": "52c2e4e9",
   "metadata": {
    "collapsed": true
   },
   "outputs": [
    {
     "name": "stdout",
     "output_type": "stream",
     "text": [
      "https://v.daum.net/v/20220406123000510\n",
      "https://v.daum.net/v/20220406121521285\n",
      "https://v.daum.net/v/20220406120559057\n",
      "https://v.daum.net/v/20220406120604074\n",
      "https://v.daum.net/v/20220406120305977\n",
      "https://v.daum.net/v/20220406120204936\n",
      "https://v.daum.net/v/20220406120045853\n",
      "https://v.daum.net/v/20220406120054873\n",
      "https://v.daum.net/v/20220406120034828\n",
      "https://v.daum.net/v/20220406120034827\n",
      "https://v.daum.net/v/20220406122719476\n",
      "https://v.daum.net/v/20220406122529456\n",
      "https://v.daum.net/v/20220406122516452\n",
      "https://v.daum.net/v/20220406121032188\n",
      "https://v.daum.net/v/20220406121601297\n",
      "https://v.daum.net/v/20220406121025183\n",
      "https://v.daum.net/v/20220406120744122\n",
      "https://v.daum.net/v/20220406120616082\n",
      "https://v.daum.net/v/20220406120555046\n",
      "https://v.daum.net/v/20220406120518029\n",
      "https://v.daum.net/v/20220406125603927\n",
      "https://v.daum.net/v/20220406124332743\n",
      "https://v.daum.net/v/20220406124136714\n",
      "https://v.daum.net/v/20220406123113541\n",
      "https://v.daum.net/v/20220406123002513\n",
      "https://v.daum.net/v/20220406122516451\n",
      "https://v.daum.net/v/20220406122322431\n",
      "https://v.daum.net/v/20220406121952370\n",
      "https://v.daum.net/v/20220406121606302\n",
      "https://v.daum.net/v/20220406121606301\n"
     ]
    }
   ],
   "source": [
    "cate_news_list = []\n",
    "\n",
    "for cate in ['economic', 'politics', 'society']:\n",
    "    \n",
    "    cate_news_texts = []\n",
    "    url = 'https://news.daum.net/{}#1'.format(cate)\n",
    "\n",
    "    res = requests.get(url)\n",
    "\n",
    "    path = 'body > div.container-doc.cont-category > main > section > div.main-sub > div.box_g.box_news_major > ul > li'\n",
    "\n",
    "\n",
    "    soup = BeautifulSoup(res.text)\n",
    "    lis = soup.select(path)\n",
    "\n",
    "    news_urls = []\n",
    "    for li in lis:\n",
    "        news_url = li.select('a')[0]['href']\n",
    "        print(news_url)\n",
    "        news_urls.append(news_url)\n",
    "\n",
    "\n",
    "    # print(news_urls)\n",
    "\n",
    "    for url in news_urls:\n",
    "        news_texts = []\n",
    "        res1 = requests.get(url)\n",
    "\n",
    "        soup1 = BeautifulSoup(res1.text, 'html.parser')\n",
    "\n",
    "        path1 = '#harmonyContainer > section > p'\n",
    "\n",
    "        text = ''\n",
    "        for p in soup1.select(path1):\n",
    "            text += p.text\n",
    "\n",
    "        news_texts.append(text)\n",
    "\n",
    "        cate_news_texts.append(news_texts)\n",
    "    \n",
    "    cate_news_list.append(cate_news_texts)"
   ]
  },
  {
   "cell_type": "code",
   "execution_count": 179,
   "id": "f84afd58",
   "metadata": {},
   "outputs": [
    {
     "data": {
      "text/plain": [
       "3"
      ]
     },
     "execution_count": 179,
     "metadata": {},
     "output_type": "execute_result"
    }
   ],
   "source": [
    "len(cate_news_list)"
   ]
  },
  {
   "cell_type": "code",
   "execution_count": 180,
   "id": "71f847c7",
   "metadata": {},
   "outputs": [
    {
     "data": {
      "text/plain": [
       "10"
      ]
     },
     "execution_count": 180,
     "metadata": {},
     "output_type": "execute_result"
    }
   ],
   "source": [
    "len(cate_news_list[2])"
   ]
  },
  {
   "cell_type": "code",
   "execution_count": null,
   "id": "feb5a52f",
   "metadata": {},
   "outputs": [],
   "source": []
  },
  {
   "cell_type": "code",
   "execution_count": 181,
   "id": "f2666d44",
   "metadata": {},
   "outputs": [],
   "source": [
    "economic_news = cate_news_list[0]\n",
    "politics_news = cate_news_list[1]\n",
    "society_news = cate_news_list[2]"
   ]
  },
  {
   "cell_type": "code",
   "execution_count": null,
   "id": "447e7673",
   "metadata": {},
   "outputs": [],
   "source": []
  },
  {
   "cell_type": "code",
   "execution_count": 182,
   "id": "34b12db9",
   "metadata": {},
   "outputs": [],
   "source": [
    "total_news = economic_news + politics_news + society_news"
   ]
  },
  {
   "cell_type": "code",
   "execution_count": 183,
   "id": "804da132",
   "metadata": {},
   "outputs": [
    {
     "data": {
      "text/plain": [
       "30"
      ]
     },
     "execution_count": 183,
     "metadata": {},
     "output_type": "execute_result"
    }
   ],
   "source": [
    "len(total_news)"
   ]
  },
  {
   "cell_type": "code",
   "execution_count": 190,
   "id": "fdb4b01a",
   "metadata": {
    "collapsed": true
   },
   "outputs": [
    {
     "data": {
      "text/html": [
       "<div>\n",
       "<style scoped>\n",
       "    .dataframe tbody tr th:only-of-type {\n",
       "        vertical-align: middle;\n",
       "    }\n",
       "\n",
       "    .dataframe tbody tr th {\n",
       "        vertical-align: top;\n",
       "    }\n",
       "\n",
       "    .dataframe thead th {\n",
       "        text-align: right;\n",
       "    }\n",
       "</style>\n",
       "<table border=\"1\" class=\"dataframe\">\n",
       "  <thead>\n",
       "    <tr style=\"text-align: right;\">\n",
       "      <th></th>\n",
       "      <th>cate</th>\n",
       "      <th>news</th>\n",
       "    </tr>\n",
       "  </thead>\n",
       "  <tbody>\n",
       "    <tr>\n",
       "      <th>0</th>\n",
       "      <td>eco</td>\n",
       "      <td>[YTN라디오(FM 94.5) [YTN 뉴스FM 슬기로운 라디오생활] □ 방송일시 ...</td>\n",
       "    </tr>\n",
       "    <tr>\n",
       "      <th>1</th>\n",
       "      <td>eco</td>\n",
       "      <td>[MG손보 부실 여파… KDB생명 매각도 ‘빨간불’실적 개선위해 공적자금 투입 3차...</td>\n",
       "    </tr>\n",
       "    <tr>\n",
       "      <th>2</th>\n",
       "      <td>eco</td>\n",
       "      <td>[인건비·임대료·농산물 ‘급등’ 식음료 기업들 가격 인상 조짐서울 마포구에 거주하는...</td>\n",
       "    </tr>\n",
       "    <tr>\n",
       "      <th>3</th>\n",
       "      <td>eco</td>\n",
       "      <td>[“1187만대 덜 팔고 78조7천억원 더 벌었다.”전 세계 대표 완성차 업체들 이...</td>\n",
       "    </tr>\n",
       "    <tr>\n",
       "      <th>4</th>\n",
       "      <td>eco</td>\n",
       "      <td>[“이제 오해를 푸는 일이 남았습니다. 학자로서 양심을 걸고 모다모다 샴푸를 보는 ...</td>\n",
       "    </tr>\n",
       "    <tr>\n",
       "      <th>5</th>\n",
       "      <td>eco</td>\n",
       "      <td>[기사내용 요약 IC인사이트 분석결과…파운드리 제외 기준 [서울=뉴시스] 이인준 기...</td>\n",
       "    </tr>\n",
       "    <tr>\n",
       "      <th>6</th>\n",
       "      <td>eco</td>\n",
       "      <td>[(세종=뉴스1) 권혁준 기자 = 신종 코로나바이러스 감염증(코로나19)의 여파로 ...</td>\n",
       "    </tr>\n",
       "    <tr>\n",
       "      <th>7</th>\n",
       "      <td>eco</td>\n",
       "      <td>[(세종=뉴스1) 서미선 기자 = 한국경제에 인플레이션 경고등이 켜지면서 국내외 주...</td>\n",
       "    </tr>\n",
       "    <tr>\n",
       "      <th>8</th>\n",
       "      <td>eco</td>\n",
       "      <td>[기사내용 요약 통계청' 한국의 SDGs 이행보고서 2022' 발간 중3·고2년, ...</td>\n",
       "    </tr>\n",
       "    <tr>\n",
       "      <th>9</th>\n",
       "      <td>eco</td>\n",
       "      <td>[ 코로나19 이후 중·고등학생의 주요 과목 기초학력 미달 비율이 크게 증가하는 등...</td>\n",
       "    </tr>\n",
       "    <tr>\n",
       "      <th>10</th>\n",
       "      <td>pol</td>\n",
       "      <td>[(서울=연합뉴스) 이슬기 기자 = 안철수 대통령직인수위원회 위원장은 6일 싱하이밍...</td>\n",
       "    </tr>\n",
       "    <tr>\n",
       "      <th>11</th>\n",
       "      <td>pol</td>\n",
       "      <td>[기사내용 요약 尹 친서 전달…\"포괄적 전략동맹 높이잔 내용\" 쿼드 논의하고 文 정...</td>\n",
       "    </tr>\n",
       "    <tr>\n",
       "      <th>12</th>\n",
       "      <td>pol</td>\n",
       "      <td>[(서울=뉴스1) 유새슬 기자,김일창 기자 = 김은혜 국민의힘 의원은 6일 \"정권교...</td>\n",
       "    </tr>\n",
       "    <tr>\n",
       "      <th>13</th>\n",
       "      <td>pol</td>\n",
       "      <td>[우크라에 연대·협력 제안 여야 정치권은 러시아의 민간인 학살 정황을 두고 명백한 ...</td>\n",
       "    </tr>\n",
       "    <tr>\n",
       "      <th>14</th>\n",
       "      <td>pol</td>\n",
       "      <td>[(서울=뉴스1) 정재민 기자 = 이재명 더불어민주당 상임고문의 정치적 고향이자 지...</td>\n",
       "    </tr>\n",
       "    <tr>\n",
       "      <th>15</th>\n",
       "      <td>pol</td>\n",
       "      <td>[이른바 '채널A 사건' 연루 의혹을 받고 있는 한동훈 검사장(사법연수원 부원장)에...</td>\n",
       "    </tr>\n",
       "    <tr>\n",
       "      <th>16</th>\n",
       "      <td>pol</td>\n",
       "      <td>[[경향신문] 더불어민주당은 6일 국무총리로 지명된 한덕수 지명자의 김앤장 등 전관...</td>\n",
       "    </tr>\n",
       "    <tr>\n",
       "      <th>17</th>\n",
       "      <td>pol</td>\n",
       "      <td>[기사내용 요약 尹 서울대 후배 나경원, 중기부 장관 하마평 물리학 박사 신용현은 ...</td>\n",
       "    </tr>\n",
       "    <tr>\n",
       "      <th>18</th>\n",
       "      <td>pol</td>\n",
       "      <td>[(서울=연합뉴스) 왕길환 기자 = 내년 세계한상대회가 미국 오렌지 카운티에서 열린...</td>\n",
       "    </tr>\n",
       "    <tr>\n",
       "      <th>19</th>\n",
       "      <td>pol</td>\n",
       "      <td>[정부가 6일 윤석열 대통령 당선인의 용산 집무실 이전을 위한 예비비 지출안을 처리...</td>\n",
       "    </tr>\n",
       "    <tr>\n",
       "      <th>20</th>\n",
       "      <td>soc</td>\n",
       "      <td>[(서울=연합뉴스) 최인영 신선미 기자 = 정부가 오미크론 변이 유행 이후의 일상회...</td>\n",
       "    </tr>\n",
       "    <tr>\n",
       "      <th>21</th>\n",
       "      <td>soc</td>\n",
       "      <td>[(서울=뉴스1) 전준우 기자 = 오세훈 서울시장이 서울시의회의 예산 삭감에 강한 ...</td>\n",
       "    </tr>\n",
       "    <tr>\n",
       "      <th>22</th>\n",
       "      <td>soc</td>\n",
       "      <td>[(서울=뉴스1) 송상현 기자 = 서울 지하철 5호선 신정역 에스컬레이터에서 앞에 ...</td>\n",
       "    </tr>\n",
       "    <tr>\n",
       "      <th>23</th>\n",
       "      <td>soc</td>\n",
       "      <td>[YTN라디오(FM 94.5) [YTN 뉴스FM 슬기로운 라디오생활] □ 방송일시 ...</td>\n",
       "    </tr>\n",
       "    <tr>\n",
       "      <th>24</th>\n",
       "      <td>soc</td>\n",
       "      <td>[YTN라디오(FM 94.5) [YTN 뉴스FM 슬기로운 라디오생활] □ 방송일시 ...</td>\n",
       "    </tr>\n",
       "    <tr>\n",
       "      <th>25</th>\n",
       "      <td>soc</td>\n",
       "      <td>[중국이 한국산 수입 의류를 코로나19 감염원으로 지목한 가운데 우리 방역당국은 이...</td>\n",
       "    </tr>\n",
       "    <tr>\n",
       "      <th>26</th>\n",
       "      <td>soc</td>\n",
       "      <td>[기사내용 요약 \"국내 방역 상황 큰 변화 있을 때 조정 검토\" \"3차 접종까지 해...</td>\n",
       "    </tr>\n",
       "    <tr>\n",
       "      <th>27</th>\n",
       "      <td>soc</td>\n",
       "      <td>[ [이데일리 박경훈 기자] 방역당국이 ‘사회적 거리두기’ 폐지 등 방역조치 해제에...</td>\n",
       "    </tr>\n",
       "    <tr>\n",
       "      <th>28</th>\n",
       "      <td>soc</td>\n",
       "      <td>[(서울=뉴스1) 권영미 기자,김규빈 기자,성재준 바이오전문기자,음상준 기자,이형진...</td>\n",
       "    </tr>\n",
       "    <tr>\n",
       "      <th>29</th>\n",
       "      <td>soc</td>\n",
       "      <td>[7일 충청 이남 지역에 비가 오지만 강수량이 적어 대기 건조를 해소하기에는 부족할...</td>\n",
       "    </tr>\n",
       "  </tbody>\n",
       "</table>\n",
       "</div>"
      ],
      "text/plain": [
       "   cate                                               news\n",
       "0   eco  [YTN라디오(FM 94.5) [YTN 뉴스FM 슬기로운 라디오생활] □ 방송일시 ...\n",
       "1   eco  [MG손보 부실 여파… KDB생명 매각도 ‘빨간불’실적 개선위해 공적자금 투입 3차...\n",
       "2   eco  [인건비·임대료·농산물 ‘급등’ 식음료 기업들 가격 인상 조짐서울 마포구에 거주하는...\n",
       "3   eco  [“1187만대 덜 팔고 78조7천억원 더 벌었다.”전 세계 대표 완성차 업체들 이...\n",
       "4   eco  [“이제 오해를 푸는 일이 남았습니다. 학자로서 양심을 걸고 모다모다 샴푸를 보는 ...\n",
       "5   eco  [기사내용 요약 IC인사이트 분석결과…파운드리 제외 기준 [서울=뉴시스] 이인준 기...\n",
       "6   eco  [(세종=뉴스1) 권혁준 기자 = 신종 코로나바이러스 감염증(코로나19)의 여파로 ...\n",
       "7   eco  [(세종=뉴스1) 서미선 기자 = 한국경제에 인플레이션 경고등이 켜지면서 국내외 주...\n",
       "8   eco  [기사내용 요약 통계청' 한국의 SDGs 이행보고서 2022' 발간 중3·고2년, ...\n",
       "9   eco  [ 코로나19 이후 중·고등학생의 주요 과목 기초학력 미달 비율이 크게 증가하는 등...\n",
       "10  pol  [(서울=연합뉴스) 이슬기 기자 = 안철수 대통령직인수위원회 위원장은 6일 싱하이밍...\n",
       "11  pol  [기사내용 요약 尹 친서 전달…\"포괄적 전략동맹 높이잔 내용\" 쿼드 논의하고 文 정...\n",
       "12  pol  [(서울=뉴스1) 유새슬 기자,김일창 기자 = 김은혜 국민의힘 의원은 6일 \"정권교...\n",
       "13  pol  [우크라에 연대·협력 제안 여야 정치권은 러시아의 민간인 학살 정황을 두고 명백한 ...\n",
       "14  pol  [(서울=뉴스1) 정재민 기자 = 이재명 더불어민주당 상임고문의 정치적 고향이자 지...\n",
       "15  pol  [이른바 '채널A 사건' 연루 의혹을 받고 있는 한동훈 검사장(사법연수원 부원장)에...\n",
       "16  pol  [[경향신문] 더불어민주당은 6일 국무총리로 지명된 한덕수 지명자의 김앤장 등 전관...\n",
       "17  pol  [기사내용 요약 尹 서울대 후배 나경원, 중기부 장관 하마평 물리학 박사 신용현은 ...\n",
       "18  pol  [(서울=연합뉴스) 왕길환 기자 = 내년 세계한상대회가 미국 오렌지 카운티에서 열린...\n",
       "19  pol  [정부가 6일 윤석열 대통령 당선인의 용산 집무실 이전을 위한 예비비 지출안을 처리...\n",
       "20  soc  [(서울=연합뉴스) 최인영 신선미 기자 = 정부가 오미크론 변이 유행 이후의 일상회...\n",
       "21  soc  [(서울=뉴스1) 전준우 기자 = 오세훈 서울시장이 서울시의회의 예산 삭감에 강한 ...\n",
       "22  soc  [(서울=뉴스1) 송상현 기자 = 서울 지하철 5호선 신정역 에스컬레이터에서 앞에 ...\n",
       "23  soc  [YTN라디오(FM 94.5) [YTN 뉴스FM 슬기로운 라디오생활] □ 방송일시 ...\n",
       "24  soc  [YTN라디오(FM 94.5) [YTN 뉴스FM 슬기로운 라디오생활] □ 방송일시 ...\n",
       "25  soc  [중국이 한국산 수입 의류를 코로나19 감염원으로 지목한 가운데 우리 방역당국은 이...\n",
       "26  soc  [기사내용 요약 \"국내 방역 상황 큰 변화 있을 때 조정 검토\" \"3차 접종까지 해...\n",
       "27  soc  [ [이데일리 박경훈 기자] 방역당국이 ‘사회적 거리두기’ 폐지 등 방역조치 해제에...\n",
       "28  soc  [(서울=뉴스1) 권영미 기자,김규빈 기자,성재준 바이오전문기자,음상준 기자,이형진...\n",
       "29  soc  [7일 충청 이남 지역에 비가 오지만 강수량이 적어 대기 건조를 해소하기에는 부족할..."
      ]
     },
     "execution_count": 190,
     "metadata": {},
     "output_type": "execute_result"
    }
   ],
   "source": [
    "category = ['eco']*10 + ['pol']*10 + ['soc']*10\n",
    "news = total_news\n",
    "\n",
    "news_df = pd.DataFrame({'cate':category, 'news':total_news})\n",
    "news_df"
   ]
  },
  {
   "cell_type": "code",
   "execution_count": 195,
   "id": "0a90bd60",
   "metadata": {
    "collapsed": true
   },
   "outputs": [
    {
     "data": {
      "text/plain": [
       "['(세종=뉴스1) 서미선 기자 = 한국경제에 인플레이션 경고등이 켜지면서 국내외 주요 경제예측 기관들이 잇따라 한국의 올해 물가상승률 전망치는 높여 잡고, 경제성장률은 소폭 하향조정하는 양상이다.우크라이나 사태, 중국 상하이 폐쇄에 따른 공급망 비상 등 대내외 리스크 요인들이 산적한 영향이다.6일 기획재정부에 따르면 아시아개발은행(ADB)은 지난해 12월과 비교해 한국 경제성장률 전망치는 3.1%에서 3.0%로 낮추고, 물가상승률 전망치는 1.9%에서 3.2%로 대폭 상향조정했다.이같은 경제성장률 전망치는 국제통화기금(IMF)이 올해 1월 세계경제전망 수정보고서와 3월 한국 정부와의 연례협의 결과보고서에서 제시한 3.0%와 같다.IMF는 1월 코로나19 새 변이인 오미크론 확산세, 인플레이션 등을 반영해 한국 경제성장률 전망치를 3.3%에서 3.0%로 낮췄다. 물가의 경우 지난해 10월 전망치(2.2%)보다 0.9%포인트(p) 끌어올린 3.1%로 전망했다.경제협력개발기구(OECD)는 지난해 12월 발표한 경제전망에서 올해 한국 경제성장률 전망치를 종전 2.9%에서 3개월만에 3.0%로 0.1%p 높였으나, 물가상승률 전망치 역시 2.1%로 종전(1.8%)보다 0.3%p 올려잡았다.지난달 국제신용평가사 피치와 무디스는 우크라이나 사태에 따른 에너지 가격 상승 등을 반영해 올해 한국 경제성장률 전망치를 각각 3.0%에서 2.7%로 낮췄다.피치는 올해 말 기준 연간 소비자물가 상승률 전망치도 3.8%로 상향조정하며 물가상승률이 내년 초까지 3.5% 이상을 유지할 것으로 내다봤다.메리츠증권도 지난달 성장률 전망치를 3.0%에서 2.8%로 낮췄고 국내 연간 소비자물가 상승률은 3.3%로 내다봤다.대부분 기관에서 올해 경제성장률 전망치가 한국 정부의 지난해 12월 발표치(3.1%)를 밑도는 것이다. 한국은행은 지난 2월 성장률 전망치를 3.0%로 제시했다.물가상승률 전망치는 OECD를 제외한 대부분이 지난해 12월 정부 전망치(2.2%)를 웃돈다. 지난 2월 한국은행은 물가상승률 전망치를 기존보다 1.1%p 높인 3.1%로 올렸다. 특히 한은은 전날(5일) 당분간 물가가 4%대를 나타내는 등 올해 연간 소비자물가가 기존 전망치를 크게 웃돌 것으로 봤다.이처럼 물가 전망치는 올라가고 성장률 전망치는 소폭 내려가는 배경엔 코로나19 이후 국내소비 회복이 진행되는 가운데 우크라이나 사태 영향으로 국제유가와 원자재 가격 상승이 초래된 영향이 적잖다는 분석이다.이날 ADB가 밝힌 물가 전망치 상향 이유도 유사하다. ADB는 올해 한국 물가가 고유가와 식품물가 상승 등 일시적 요인으로 높아진다면서 \"우크라이나 사태의 직접적 영향은 중앙아시아에 집중될 것이나, 에너지·식품물가 상승 등으로 아시아 전체에 영향을 줄 수 있다\"고 했다.중국의 경제수도 상하이 봉쇄가 장기화하며 세계 최대 컨테이너항인 상하이항의 육·해상 물류차질이 커진 데 따라 전 세계 공급망 위기에 대한 압박이 가중되는 측면도 있다.이처럼 대내외적 요인이 겹치면서 3월 소비자물가 상승률은 결국 4%대를 찍었다. 1년 전 같은 달과 비교해 국제유가 상승 영향으로 석유류(31.2%), 원재료비 상승 지속으로 외식(6.6%) 가격이 급등했다.당분간 물가안정은 쉽지 않을 분위기다. 우크라이나 사태 장기화가 전망되며 원자재 가격이 더 오를 수 있는데다 5월 새 정부 출범, 6월 지방선거가 이어져 하반기에도 고물가 추세가 지속될 수 있어서다. 새 정부도 물가 부담을 안을 가능성이 큰 셈이다.이와 관련 윤석열 대통령 당선인은 이날 오전 대통령직인수위원회 경제1·2분과로부터 물가동향 보고를 받고 \"물가를 포함한 민생안정대책을 새 정부 최우선 과제로 추진하라\"고 주문했다.인수위는 이에 유류세 30% 추가 인하 조치를 포함해 현 정부에 특단의 서민 물가 안정대책을 마련해줄 것을 촉구했다고 원일희 인수위 수석부대변인이 브리핑에서 밝혔다.smith@news1.kr ']"
      ]
     },
     "execution_count": 195,
     "metadata": {},
     "output_type": "execute_result"
    }
   ],
   "source": [
    "news_df.iloc[7, 1]"
   ]
  },
  {
   "cell_type": "code",
   "execution_count": 196,
   "id": "487f12be",
   "metadata": {},
   "outputs": [],
   "source": [
    "news_df.to_csv('news_df.csv')"
   ]
  },
  {
   "cell_type": "code",
   "execution_count": null,
   "id": "31bebb52",
   "metadata": {},
   "outputs": [],
   "source": []
  }
 ],
 "metadata": {
  "kernelspec": {
   "display_name": "Python 3 (ipykernel)",
   "language": "python",
   "name": "python3"
  },
  "language_info": {
   "codemirror_mode": {
    "name": "ipython",
    "version": 3
   },
   "file_extension": ".py",
   "mimetype": "text/x-python",
   "name": "python",
   "nbconvert_exporter": "python",
   "pygments_lexer": "ipython3",
   "version": "3.9.7"
  }
 },
 "nbformat": 4,
 "nbformat_minor": 5
}
