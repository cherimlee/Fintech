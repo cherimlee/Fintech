{
 "cells": [
  {
   "cell_type": "code",
   "execution_count": 2,
   "id": "29ab182c",
   "metadata": {},
   "outputs": [],
   "source": [
    "import pandas as pd\n",
    "import numpy as np\n",
    "import matplotlib.pyplot as plt\n",
    "import seaborn as sns"
   ]
  },
  {
   "cell_type": "code",
   "execution_count": 3,
   "id": "a51ed2ba",
   "metadata": {},
   "outputs": [],
   "source": [
    "import requests\n",
    "from bs4 import BeautifulSoup"
   ]
  },
  {
   "cell_type": "code",
   "execution_count": 6,
   "id": "93436dd1",
   "metadata": {},
   "outputs": [],
   "source": [
    "url = 'https://www1.president.go.kr/petitions/best?page=23'\n",
    "path = '#cont_view > div.cs_area > div > div > div.board.text > div.b_list.category > div.bl_body > ul > li'"
   ]
  },
  {
   "cell_type": "code",
   "execution_count": 7,
   "id": "823d158c",
   "metadata": {},
   "outputs": [
    {
     "data": {
      "text/plain": [
       "15"
      ]
     },
     "execution_count": 7,
     "metadata": {},
     "output_type": "execute_result"
    }
   ],
   "source": [
    "res = requests.get(url)\n",
    "soup = BeautifulSoup(res.text, 'html.parser')\n",
    "lis = soup.select(path)\n",
    "len(lis)"
   ]
  },
  {
   "cell_type": "code",
   "execution_count": 11,
   "id": "e1757235",
   "metadata": {},
   "outputs": [
    {
     "data": {
      "text/plain": [
       "<li>\n",
       "<div class=\"bl_wrap\">\n",
       "<div class=\"bl_category cs\"><span class=\"sound_only\">분류 </span> 보건복지</div>\n",
       "<div class=\"bl_subject\">\n",
       "<a class=\"cb\" href=\"/petitions/604770?navigation=best\"><span class=\"sound_only\">제목 </span>얼마나 더 많은 국민이 죽어나가야만 하는겁니까?</a>\n",
       "</div>\n",
       "<span class=\"sound_only\">청원만료 </span><div class=\"bl_date light\">22-04-16</div>\n",
       "<div class=\"bl_agree cb wv_agree\">\n",
       "<span class=\"sound_only\">참여인원 </span>343명\n",
       "\t\t\t\t\t\t\t\t\t\t\t\t</div>\n",
       "</div>\n",
       "</li>"
      ]
     },
     "execution_count": 11,
     "metadata": {},
     "output_type": "execute_result"
    }
   ],
   "source": [
    "lis[0]"
   ]
  },
  {
   "cell_type": "code",
   "execution_count": 18,
   "id": "8d2aeff5",
   "metadata": {},
   "outputs": [
    {
     "data": {
      "text/plain": [
       "'보건복지'"
      ]
     },
     "execution_count": 18,
     "metadata": {},
     "output_type": "execute_result"
    }
   ],
   "source": [
    "lis[0].select('.bl_category')[0].text.split()[1]"
   ]
  },
  {
   "cell_type": "code",
   "execution_count": 30,
   "id": "112b7582",
   "metadata": {},
   "outputs": [],
   "source": [
    "main_url ='https://www1.president.go.kr'"
   ]
  },
  {
   "cell_type": "code",
   "execution_count": 32,
   "id": "d4b1ca75",
   "metadata": {},
   "outputs": [
    {
     "data": {
      "text/plain": [
       "'https://www1.president.go.kr/petitions/604770?navigation=best'"
      ]
     },
     "execution_count": 32,
     "metadata": {},
     "output_type": "execute_result"
    }
   ],
   "source": [
    "full_url =  main_url + lis[0].select('a.cb')[0]['href']\n",
    "full_url"
   ]
  },
  {
   "cell_type": "code",
   "execution_count": 33,
   "id": "6153f45f",
   "metadata": {},
   "outputs": [],
   "source": [
    "res1 = requests.get(full_url)\n",
    "soup1 = BeautifulSoup(res1.text, 'html.parser')"
   ]
  },
  {
   "cell_type": "code",
   "execution_count": 35,
   "id": "f9fda7d9",
   "metadata": {},
   "outputs": [
    {
     "data": {
      "text/plain": [
       "'343'"
      ]
     },
     "execution_count": 35,
     "metadata": {},
     "output_type": "execute_result"
    }
   ],
   "source": [
    "pop = soup1.select('#cont_view > div.cs_area > div.new_contents > div > div.petitionsView_left > div > h2 > span')[0].text"
   ]
  },
  {
   "cell_type": "code",
   "execution_count": 50,
   "id": "514e542f",
   "metadata": {},
   "outputs": [
    {
     "data": {
      "text/plain": [
       "'보건복지'"
      ]
     },
     "execution_count": 50,
     "metadata": {},
     "output_type": "execute_result"
    }
   ],
   "source": [
    "cate = soup1.select('#cont_view > div.cs_area > div.new_contents > div > div.petitionsView_left > div > div.petitionsView_info > ul > li')[0].text[4:]\n",
    "cate"
   ]
  },
  {
   "cell_type": "code",
   "execution_count": 49,
   "id": "215644bf",
   "metadata": {},
   "outputs": [
    {
     "data": {
      "text/plain": [
       "'2022-03-17'"
      ]
     },
     "execution_count": 49,
     "metadata": {},
     "output_type": "execute_result"
    }
   ],
   "source": [
    "st_date = soup1.select('#cont_view > div.cs_area > div.new_contents > div > div.petitionsView_left > div > div.petitionsView_info > ul > li')[1].text[4:]\n",
    "st_date"
   ]
  },
  {
   "cell_type": "code",
   "execution_count": 47,
   "id": "482abf4b",
   "metadata": {},
   "outputs": [
    {
     "data": {
      "text/plain": [
       "'2022-04-16'"
      ]
     },
     "execution_count": 47,
     "metadata": {},
     "output_type": "execute_result"
    }
   ],
   "source": [
    "ed_date = soup1.select('#cont_view > div.cs_area > div.new_contents > div > div.petitionsView_left > div > div.petitionsView_info > ul > li')[2].text[4:]\n",
    "ed_date"
   ]
  },
  {
   "cell_type": "code",
   "execution_count": 45,
   "id": "bb6fdc79",
   "metadata": {},
   "outputs": [
    {
     "data": {
      "text/plain": [
       "\"\\n\\t\\t\\t\\t\\t\\t\\t\\t\\t\\t현재 코로나19 전담병원에서 자행되고 있는 부실한관리와 의료과실로,  사망하는 통계에도 집계되지 않는 주검들에 대해 철저한 진상규명을 청원합니다.  \\n\\r\\n현재 코로나로 사망한 국민이 1만여명이 넘었습니다. \\r\\n이게 말이 됩니까?\\r\\nK방역으로 전국민이 잘 호응하여 여기까지 왔는데, 전쟁이 나도 이렇게까지 죽지는 않습니다. 이건 완전 의료체제 붕괴입니다.\\r\\n신속하고 정확한 의료체계를 구축하지 못하고 우왕좌왕하는 사이 국민들은 수백명씩 죽어나가고 있습니다.  \\r\\n저희 아버님도 이번 코로나19에 감염(요양원) 되어 전담병원으로 지정된 충북 제천 ○○요양병원 에서 입원한지 9일만에 돌아가셨습니다.  \\r\\n사망일 3일전부터 38.5도에 고열과 식사거부등 이상증세에도 불구하고 적절한 조치를 취하지 않았으며 \\r\\n위급한 상황일 때 심폐소생술도 하지않아 사망에 이르게 됬습니다. \\r\\n이는 명백한 주의의무 위반및 업무상 과실치사 입니다.\\n\\r\\n아버님만 생각하면 이런 낯선 환경에서 얼마나 힘들고 고통스러웠을까요. \\r\\n저는 아버지의 마지막 가는 모습도 지켜내지 못한\\r\\n불효자 입니다.\\r\\n○○야 ! '나 좀 살려다오' 하는 아버지의 목소리가\\r\\n아직도 마음 한 구석에 박혀있습니다.\\n\\r\\n국민 여러분! 청원에 동의해주십시요. \\r\\n누군가는 어둠만 보이는 긴 터널 속에서 쓸쓸한 죽음을 맞이한 우리 가족중 한 분일수 있습니다.\\t\\t\\t\\t\\t\\t\\t\\t\\t\""
      ]
     },
     "execution_count": 45,
     "metadata": {},
     "output_type": "execute_result"
    }
   ],
   "source": [
    "content = soup1.select('#cont_view > div.cs_area > div.new_contents > div > div.petitionsView_left > div > div.petitionsView_write > div.View_write')[0].text\n",
    "content"
   ]
  },
  {
   "cell_type": "code",
   "execution_count": null,
   "id": "f5421f1a",
   "metadata": {},
   "outputs": [],
   "source": []
  },
  {
   "cell_type": "code",
   "execution_count": 77,
   "id": "07666967",
   "metadata": {},
   "outputs": [
    {
     "data": {
      "text/html": [
       "<div>\n",
       "<style scoped>\n",
       "    .dataframe tbody tr th:only-of-type {\n",
       "        vertical-align: middle;\n",
       "    }\n",
       "\n",
       "    .dataframe tbody tr th {\n",
       "        vertical-align: top;\n",
       "    }\n",
       "\n",
       "    .dataframe thead th {\n",
       "        text-align: right;\n",
       "    }\n",
       "</style>\n",
       "<table border=\"1\" class=\"dataframe\">\n",
       "  <thead>\n",
       "    <tr style=\"text-align: right;\">\n",
       "      <th></th>\n",
       "    </tr>\n",
       "  </thead>\n",
       "  <tbody>\n",
       "  </tbody>\n",
       "</table>\n",
       "</div>"
      ],
      "text/plain": [
       "Empty DataFrame\n",
       "Columns: []\n",
       "Index: []"
      ]
     },
     "execution_count": 77,
     "metadata": {},
     "output_type": "execute_result"
    }
   ],
   "source": [
    "petitions = {}\n",
    "\n",
    "pop_list = []\n",
    "cate_list = []\n",
    "st_date_list = []\n",
    "ed_date_list = []\n",
    "content_list = []\n",
    "\n",
    "url = 'https://www1.president.go.kr/petitions/best?page=5'\n",
    "path = '#cont_view > div.cs_area > div > div > div.board.text > div.b_list.category > div.bl_body > ul > li'\n",
    "\n",
    "res = requests.get(url)\n",
    "soup = BeautifulSoup(res.text, 'html.parser')\n",
    "lis = soup.select(path)\n",
    "\n",
    "main_url ='https://www1.president.go.kr'\n",
    "\n",
    "for li in lis:\n",
    "    full_url =  main_url + li.select('a.cb')[0]['href']\n",
    "    res1 = requests.get(full_url)\n",
    "    soup1 = BeautifulSoup(res1.text, 'html.parser')\n",
    "    \n",
    "    pop = soup1.select('#cont_view > div.cs_area > div.new_contents > div > div.petitionsView_left > div > h2 > span')[0].text\n",
    "    cate = soup1.select('#cont_view > div.cs_area > div.new_contents > div > div.petitionsView_left > div > div.petitionsView_info > ul > li')[0].text[4:]\n",
    "    st_date = soup1.select('#cont_view > div.cs_area > div.new_contents > div > div.petitionsView_left > div > div.petitionsView_info > ul > li')[1].text[4:]\n",
    "    ed_date = soup1.select('#cont_view > div.cs_area > div.new_contents > div > div.petitionsView_left > div > div.petitionsView_info > ul > li')[2].text[4:]\n",
    "    content = soup1.select('#cont_view > div.cs_area > div.new_contents > div > div.petitionsView_left > div > div.petitionsView_write > div.View_write')[0].text\n",
    "    \n",
    "#     print(pop)\n",
    "#     print(cate)\n",
    "#     print(st_date)\n",
    "#     print(ed_date)\n",
    "#     print(content)\n",
    "    \n",
    "    pop_list.append(pop)\n",
    "    cate_list.append(cate)\n",
    "    st_date_list.append(st_date)\n",
    "    ed_date_list.append(ed_date)\n",
    "    content_list.append(content)\n",
    "    \n",
    "    petitions['pop'] = pop_list\n",
    "    petitions['cate'] = cate_list\n",
    "    petitions['st_date'] = st_date_list\n",
    "    petitions['ed_date'] = ed_date_list\n",
    "    petitions['content'] = content_list\n",
    "    \n",
    "    pet_df = pd.DataFrame(petitions)\n",
    "\n",
    "    \n",
    "pet_df"
   ]
  },
  {
   "cell_type": "code",
   "execution_count": null,
   "id": "1a3c55c4",
   "metadata": {},
   "outputs": [],
   "source": []
  },
  {
   "cell_type": "code",
   "execution_count": 75,
   "id": "bd8c081f",
   "metadata": {},
   "outputs": [
    {
     "name": "stdout",
     "output_type": "stream",
     "text": [
      "https://www1.president.go.kr/petitions/best?page=1\n",
      "0\n",
      "1 https://www1.president.go.kr/petitions/best?page=2\n",
      "0\n",
      "2 https://www1.president.go.kr/petitions/best?page=3\n",
      "0\n",
      "3 https://www1.president.go.kr/petitions/best?page=4\n",
      "0\n",
      "4 "
     ]
    },
    {
     "data": {
      "text/html": [
       "<div>\n",
       "<style scoped>\n",
       "    .dataframe tbody tr th:only-of-type {\n",
       "        vertical-align: middle;\n",
       "    }\n",
       "\n",
       "    .dataframe tbody tr th {\n",
       "        vertical-align: top;\n",
       "    }\n",
       "\n",
       "    .dataframe thead th {\n",
       "        text-align: right;\n",
       "    }\n",
       "</style>\n",
       "<table border=\"1\" class=\"dataframe\">\n",
       "  <thead>\n",
       "    <tr style=\"text-align: right;\">\n",
       "      <th></th>\n",
       "    </tr>\n",
       "  </thead>\n",
       "  <tbody>\n",
       "  </tbody>\n",
       "</table>\n",
       "</div>"
      ],
      "text/plain": [
       "Empty DataFrame\n",
       "Columns: []\n",
       "Index: []"
      ]
     },
     "execution_count": 75,
     "metadata": {},
     "output_type": "execute_result"
    }
   ],
   "source": [
    "petitions = {}\n",
    "\n",
    "pop_list = []\n",
    "cate_list = []\n",
    "st_date_list = []\n",
    "ed_date_list = []\n",
    "content_list = []\n",
    "\n",
    "\n",
    "for i in range(1,5):\n",
    "\n",
    "    url = 'https://www1.president.go.kr/petitions/best?page={}'.format(i)\n",
    "    print(url)\n",
    "    path = '#cont_view > div.cs_area > div > div > div.board.text > div.b_list.category > div.bl_body > ul > li'\n",
    "\n",
    "    res = requests.get(url)\n",
    "    soup = BeautifulSoup(res.text, 'html.parser')\n",
    "    lis = soup.select(path)\n",
    "    print(len(lis))\n",
    "\n",
    "    main_url ='https://www1.president.go.kr'\n",
    "    \n",
    "    print(i, end=' ')\n",
    "\n",
    "    for li in lis:\n",
    "        \n",
    "\n",
    "        full_url =  main_url + li.select('a.cb')[0]['href']\n",
    "        print(full_url)\n",
    "        res1 = requests.get(full_url)\n",
    "        soup1 = BeautifulSoup(res1.text, 'html.parser')\n",
    "        \n",
    "        \n",
    "        try:\n",
    "\n",
    "            pop = soup1.select('#cont_view > div.cs_area > div.new_contents > div > div.petitionsView_left > div > h2 > span')[0].text\n",
    "            cate = soup1.select('#cont_view > div.cs_area > div.new_contents > div > div.petitionsView_left > div > div.petitionsView_info > ul > li')[0].text[4:]\n",
    "            st_date = soup1.select('#cont_view > div.cs_area > div.new_contents > div > div.petitionsView_left > div > div.petitionsView_info > ul > li')[1].text[4:]\n",
    "            ed_date = soup1.select('#cont_view > div.cs_area > div.new_contents > div > div.petitionsView_left > div > div.petitionsView_info > ul > li')[2].text[4:]\n",
    "            content = soup1.select('#cont_view > div.cs_area > div.new_contents > div > div.petitionsView_left > div > div.petitionsView_write > div.View_write')[0].text\n",
    "\n",
    "            print(pop)\n",
    "            print(cate)\n",
    "            print(st_date)\n",
    "            print(ed_date)\n",
    "            print(content)\n",
    "            print('=====')\n",
    "\n",
    "            pop_list.append(pop)\n",
    "            cate_list.append(cate)\n",
    "            st_date_list.append(st_date)\n",
    "            ed_date_list.append(ed_date)\n",
    "            content_list.append(content)\n",
    "\n",
    "            petitions['pop'] = pop_list\n",
    "            petitions['cate'] = cate_list\n",
    "            petitions['st_date'] = st_date_list\n",
    "            petitions['ed_date'] = ed_date_list\n",
    "            petitions['content'] = content_list\n",
    "            \n",
    "        except:\n",
    "            pass\n",
    "\n",
    "pet_df = pd.DataFrame(petitions)    \n",
    "pet_df"
   ]
  },
  {
   "cell_type": "code",
   "execution_count": null,
   "id": "e63024a0",
   "metadata": {},
   "outputs": [],
   "source": []
  },
  {
   "cell_type": "code",
   "execution_count": 78,
   "id": "cf586b21",
   "metadata": {
    "collapsed": true
   },
   "outputs": [
    {
     "data": {
      "text/html": [
       "<div>\n",
       "<style scoped>\n",
       "    .dataframe tbody tr th:only-of-type {\n",
       "        vertical-align: middle;\n",
       "    }\n",
       "\n",
       "    .dataframe tbody tr th {\n",
       "        vertical-align: top;\n",
       "    }\n",
       "\n",
       "    .dataframe thead th {\n",
       "        text-align: right;\n",
       "    }\n",
       "</style>\n",
       "<table border=\"1\" class=\"dataframe\">\n",
       "  <thead>\n",
       "    <tr style=\"text-align: right;\">\n",
       "      <th></th>\n",
       "      <th>article_id</th>\n",
       "      <th>start</th>\n",
       "      <th>end</th>\n",
       "      <th>answered</th>\n",
       "      <th>votes</th>\n",
       "      <th>category</th>\n",
       "      <th>title</th>\n",
       "      <th>content</th>\n",
       "    </tr>\n",
       "  </thead>\n",
       "  <tbody>\n",
       "    <tr>\n",
       "      <th>0</th>\n",
       "      <td>21</td>\n",
       "      <td>2017-08-19</td>\n",
       "      <td>2017-11-17</td>\n",
       "      <td>0</td>\n",
       "      <td>9</td>\n",
       "      <td>안전/환경</td>\n",
       "      <td>스텔라 데이지호에 대한 제안입니다.</td>\n",
       "      <td>스텔라 데이지호에 대한 제안입니다.\\n3월31일 스텔라 데이지호가 침몰하고 5달째가...</td>\n",
       "    </tr>\n",
       "    <tr>\n",
       "      <th>1</th>\n",
       "      <td>22</td>\n",
       "      <td>2017-08-19</td>\n",
       "      <td>2017-11-17</td>\n",
       "      <td>0</td>\n",
       "      <td>17</td>\n",
       "      <td>기타</td>\n",
       "      <td>비리제보처를 만들어주세요.</td>\n",
       "      <td>현 정부에 국민들이 가장 원하는 것은 부패척결입니다.  우리 사회에 각종 비리들이 ...</td>\n",
       "    </tr>\n",
       "    <tr>\n",
       "      <th>2</th>\n",
       "      <td>23</td>\n",
       "      <td>2017-08-19</td>\n",
       "      <td>2017-09-03</td>\n",
       "      <td>0</td>\n",
       "      <td>0</td>\n",
       "      <td>미래</td>\n",
       "      <td>제2의 개성공단</td>\n",
       "      <td>만일 하시는 대통령님 및 각 부처 장관님,주무관님들 안녕하세요!!\\n전남 목포에서 ...</td>\n",
       "    </tr>\n",
       "    <tr>\n",
       "      <th>3</th>\n",
       "      <td>24</td>\n",
       "      <td>2017-08-19</td>\n",
       "      <td>2017-08-26</td>\n",
       "      <td>0</td>\n",
       "      <td>53</td>\n",
       "      <td>일자리</td>\n",
       "      <td>공공기관 무조건적인 정규직전환을 반대합니다.</td>\n",
       "      <td>현정부에서 정규직 일자리를 늘리는 것에 찬성합니다. 그런데 공공기관 비정규직들은 인...</td>\n",
       "    </tr>\n",
       "    <tr>\n",
       "      <th>4</th>\n",
       "      <td>25</td>\n",
       "      <td>2017-08-19</td>\n",
       "      <td>2017-09-03</td>\n",
       "      <td>0</td>\n",
       "      <td>0</td>\n",
       "      <td>미래</td>\n",
       "      <td>제2의 개성공단</td>\n",
       "      <td>만일 하시는 대통령님 및 각 부처 장관님,주무관님들 안녕하세요!!\\n전남 목포에서 ...</td>\n",
       "    </tr>\n",
       "    <tr>\n",
       "      <th>...</th>\n",
       "      <td>...</td>\n",
       "      <td>...</td>\n",
       "      <td>...</td>\n",
       "      <td>...</td>\n",
       "      <td>...</td>\n",
       "      <td>...</td>\n",
       "      <td>...</td>\n",
       "      <td>...</td>\n",
       "    </tr>\n",
       "    <tr>\n",
       "      <th>377751</th>\n",
       "      <td>492039</td>\n",
       "      <td>2019-01-09</td>\n",
       "      <td>2019-02-08</td>\n",
       "      <td>0</td>\n",
       "      <td>48</td>\n",
       "      <td>인권/성평등</td>\n",
       "      <td>박종철 의원. 폭행구속수사 및 의원직 박탈 청원합니다</td>\n",
       "      <td>나라돈으로 해외연수가서 현지 동반 가이드를 때려 안경 파편이 얼굴이 꽂혔답니다. C...</td>\n",
       "    </tr>\n",
       "    <tr>\n",
       "      <th>377752</th>\n",
       "      <td>492040</td>\n",
       "      <td>2019-01-09</td>\n",
       "      <td>2019-02-08</td>\n",
       "      <td>0</td>\n",
       "      <td>5</td>\n",
       "      <td>정치개혁</td>\n",
       "      <td>각 정상들은 들으시요 국회의원을 학력과 무관한 양심 및  윤리가 있는  서민이 되어...</td>\n",
       "      <td>각 정당은 현재 국회의원 개개인을 심사하면 지탄받은 사람이 국\\n회를 장악하고 있습...</td>\n",
       "    </tr>\n",
       "    <tr>\n",
       "      <th>377753</th>\n",
       "      <td>492041</td>\n",
       "      <td>2019-01-09</td>\n",
       "      <td>2019-02-08</td>\n",
       "      <td>0</td>\n",
       "      <td>1</td>\n",
       "      <td>외교/통일/국방</td>\n",
       "      <td>남한땅에 옥류관을 오픈해주세요</td>\n",
       "      <td>말그대로 옥류관을 여기서 열면 진짜 재미있고 신나는 일이 일어날것 같은 느낌이 듭니...</td>\n",
       "    </tr>\n",
       "    <tr>\n",
       "      <th>377754</th>\n",
       "      <td>492042</td>\n",
       "      <td>2019-01-09</td>\n",
       "      <td>2019-02-08</td>\n",
       "      <td>0</td>\n",
       "      <td>4</td>\n",
       "      <td>정치개혁</td>\n",
       "      <td>임종석실장님 수고많으셨습니다.</td>\n",
       "      <td>범죄정권이후 많은 어려움을 갖고 시작한 국민의정부.\\n저급한 자칭 보수단체와 한국당...</td>\n",
       "    </tr>\n",
       "    <tr>\n",
       "      <th>377755</th>\n",
       "      <td>492043</td>\n",
       "      <td>2019-01-09</td>\n",
       "      <td>2019-02-08</td>\n",
       "      <td>0</td>\n",
       "      <td>1</td>\n",
       "      <td>행정</td>\n",
       "      <td>예천군과 환경부를 규탄합니다. 어불성설인 가축사육 관련 법규를 개정해주세요!</td>\n",
       "      <td>해당 사건이 발생한 곳은 요즘은 매체에서 매일 나오는 곳으로 '군의원의 외유성 해외...</td>\n",
       "    </tr>\n",
       "  </tbody>\n",
       "</table>\n",
       "<p>377756 rows × 8 columns</p>\n",
       "</div>"
      ],
      "text/plain": [
       "        article_id       start         end  answered  votes  category  \\\n",
       "0               21  2017-08-19  2017-11-17         0      9     안전/환경   \n",
       "1               22  2017-08-19  2017-11-17         0     17        기타   \n",
       "2               23  2017-08-19  2017-09-03         0      0        미래   \n",
       "3               24  2017-08-19  2017-08-26         0     53       일자리   \n",
       "4               25  2017-08-19  2017-09-03         0      0        미래   \n",
       "...            ...         ...         ...       ...    ...       ...   \n",
       "377751      492039  2019-01-09  2019-02-08         0     48    인권/성평등   \n",
       "377752      492040  2019-01-09  2019-02-08         0      5      정치개혁   \n",
       "377753      492041  2019-01-09  2019-02-08         0      1  외교/통일/국방   \n",
       "377754      492042  2019-01-09  2019-02-08         0      4      정치개혁   \n",
       "377755      492043  2019-01-09  2019-02-08         0      1        행정   \n",
       "\n",
       "                                                    title  \\\n",
       "0                                     스텔라 데이지호에 대한 제안입니다.   \n",
       "1                                          비리제보처를 만들어주세요.   \n",
       "2                                                제2의 개성공단   \n",
       "3                                공공기관 무조건적인 정규직전환을 반대합니다.   \n",
       "4                                                제2의 개성공단   \n",
       "...                                                   ...   \n",
       "377751                      박종철 의원. 폭행구속수사 및 의원직 박탈 청원합니다   \n",
       "377752  각 정상들은 들으시요 국회의원을 학력과 무관한 양심 및  윤리가 있는  서민이 되어...   \n",
       "377753                                   남한땅에 옥류관을 오픈해주세요   \n",
       "377754                                   임종석실장님 수고많으셨습니다.   \n",
       "377755         예천군과 환경부를 규탄합니다. 어불성설인 가축사육 관련 법규를 개정해주세요!   \n",
       "\n",
       "                                                  content  \n",
       "0       스텔라 데이지호에 대한 제안입니다.\\n3월31일 스텔라 데이지호가 침몰하고 5달째가...  \n",
       "1       현 정부에 국민들이 가장 원하는 것은 부패척결입니다.  우리 사회에 각종 비리들이 ...  \n",
       "2       만일 하시는 대통령님 및 각 부처 장관님,주무관님들 안녕하세요!!\\n전남 목포에서 ...  \n",
       "3       현정부에서 정규직 일자리를 늘리는 것에 찬성합니다. 그런데 공공기관 비정규직들은 인...  \n",
       "4       만일 하시는 대통령님 및 각 부처 장관님,주무관님들 안녕하세요!!\\n전남 목포에서 ...  \n",
       "...                                                   ...  \n",
       "377751  나라돈으로 해외연수가서 현지 동반 가이드를 때려 안경 파편이 얼굴이 꽂혔답니다. C...  \n",
       "377752  각 정당은 현재 국회의원 개개인을 심사하면 지탄받은 사람이 국\\n회를 장악하고 있습...  \n",
       "377753  말그대로 옥류관을 여기서 열면 진짜 재미있고 신나는 일이 일어날것 같은 느낌이 듭니...  \n",
       "377754  범죄정권이후 많은 어려움을 갖고 시작한 국민의정부.\\n저급한 자칭 보수단체와 한국당...  \n",
       "377755  해당 사건이 발생한 곳은 요즘은 매체에서 매일 나오는 곳으로 '군의원의 외유성 해외...  \n",
       "\n",
       "[377756 rows x 8 columns]"
      ]
     },
     "execution_count": 78,
     "metadata": {},
     "output_type": "execute_result"
    }
   ],
   "source": [
    "pet = pd.read_csv('./data_files/petition.csv')"
   ]
  },
  {
   "cell_type": "code",
   "execution_count": 79,
   "id": "6d5ae533",
   "metadata": {
    "collapsed": true
   },
   "outputs": [
    {
     "name": "stdout",
     "output_type": "stream",
     "text": [
      "<class 'pandas.core.frame.DataFrame'>\n",
      "RangeIndex: 377756 entries, 0 to 377755\n",
      "Data columns (total 8 columns):\n",
      " #   Column      Non-Null Count   Dtype \n",
      "---  ------      --------------   ----- \n",
      " 0   article_id  377756 non-null  int64 \n",
      " 1   start       377756 non-null  object\n",
      " 2   end         377756 non-null  object\n",
      " 3   answered    377756 non-null  int64 \n",
      " 4   votes       377756 non-null  int64 \n",
      " 5   category    377756 non-null  object\n",
      " 6   title       377756 non-null  object\n",
      " 7   content     377755 non-null  object\n",
      "dtypes: int64(3), object(5)\n",
      "memory usage: 23.1+ MB\n"
     ]
    }
   ],
   "source": [
    "pet.info()"
   ]
  },
  {
   "cell_type": "code",
   "execution_count": 80,
   "id": "e216b51e",
   "metadata": {},
   "outputs": [
    {
     "data": {
      "text/html": [
       "<div>\n",
       "<style scoped>\n",
       "    .dataframe tbody tr th:only-of-type {\n",
       "        vertical-align: middle;\n",
       "    }\n",
       "\n",
       "    .dataframe tbody tr th {\n",
       "        vertical-align: top;\n",
       "    }\n",
       "\n",
       "    .dataframe thead th {\n",
       "        text-align: right;\n",
       "    }\n",
       "</style>\n",
       "<table border=\"1\" class=\"dataframe\">\n",
       "  <thead>\n",
       "    <tr style=\"text-align: right;\">\n",
       "      <th></th>\n",
       "      <th>article_id</th>\n",
       "      <th>start</th>\n",
       "      <th>end</th>\n",
       "      <th>answered</th>\n",
       "      <th>votes</th>\n",
       "      <th>category</th>\n",
       "      <th>title</th>\n",
       "      <th>content</th>\n",
       "    </tr>\n",
       "  </thead>\n",
       "  <tbody>\n",
       "    <tr>\n",
       "      <th>0</th>\n",
       "      <td>21</td>\n",
       "      <td>2017-08-19</td>\n",
       "      <td>2017-11-17</td>\n",
       "      <td>0</td>\n",
       "      <td>9</td>\n",
       "      <td>안전/환경</td>\n",
       "      <td>스텔라 데이지호에 대한 제안입니다.</td>\n",
       "      <td>스텔라 데이지호에 대한 제안입니다.\\n3월31일 스텔라 데이지호가 침몰하고 5달째가...</td>\n",
       "    </tr>\n",
       "    <tr>\n",
       "      <th>1</th>\n",
       "      <td>22</td>\n",
       "      <td>2017-08-19</td>\n",
       "      <td>2017-11-17</td>\n",
       "      <td>0</td>\n",
       "      <td>17</td>\n",
       "      <td>기타</td>\n",
       "      <td>비리제보처를 만들어주세요.</td>\n",
       "      <td>현 정부에 국민들이 가장 원하는 것은 부패척결입니다.  우리 사회에 각종 비리들이 ...</td>\n",
       "    </tr>\n",
       "    <tr>\n",
       "      <th>2</th>\n",
       "      <td>23</td>\n",
       "      <td>2017-08-19</td>\n",
       "      <td>2017-09-03</td>\n",
       "      <td>0</td>\n",
       "      <td>0</td>\n",
       "      <td>미래</td>\n",
       "      <td>제2의 개성공단</td>\n",
       "      <td>만일 하시는 대통령님 및 각 부처 장관님,주무관님들 안녕하세요!!\\n전남 목포에서 ...</td>\n",
       "    </tr>\n",
       "    <tr>\n",
       "      <th>3</th>\n",
       "      <td>24</td>\n",
       "      <td>2017-08-19</td>\n",
       "      <td>2017-08-26</td>\n",
       "      <td>0</td>\n",
       "      <td>53</td>\n",
       "      <td>일자리</td>\n",
       "      <td>공공기관 무조건적인 정규직전환을 반대합니다.</td>\n",
       "      <td>현정부에서 정규직 일자리를 늘리는 것에 찬성합니다. 그런데 공공기관 비정규직들은 인...</td>\n",
       "    </tr>\n",
       "    <tr>\n",
       "      <th>4</th>\n",
       "      <td>25</td>\n",
       "      <td>2017-08-19</td>\n",
       "      <td>2017-09-03</td>\n",
       "      <td>0</td>\n",
       "      <td>0</td>\n",
       "      <td>미래</td>\n",
       "      <td>제2의 개성공단</td>\n",
       "      <td>만일 하시는 대통령님 및 각 부처 장관님,주무관님들 안녕하세요!!\\n전남 목포에서 ...</td>\n",
       "    </tr>\n",
       "  </tbody>\n",
       "</table>\n",
       "</div>"
      ],
      "text/plain": [
       "   article_id       start         end  answered  votes category  \\\n",
       "0          21  2017-08-19  2017-11-17         0      9    안전/환경   \n",
       "1          22  2017-08-19  2017-11-17         0     17       기타   \n",
       "2          23  2017-08-19  2017-09-03         0      0       미래   \n",
       "3          24  2017-08-19  2017-08-26         0     53      일자리   \n",
       "4          25  2017-08-19  2017-09-03         0      0       미래   \n",
       "\n",
       "                      title                                            content  \n",
       "0       스텔라 데이지호에 대한 제안입니다.  스텔라 데이지호에 대한 제안입니다.\\n3월31일 스텔라 데이지호가 침몰하고 5달째가...  \n",
       "1            비리제보처를 만들어주세요.  현 정부에 국민들이 가장 원하는 것은 부패척결입니다.  우리 사회에 각종 비리들이 ...  \n",
       "2                  제2의 개성공단  만일 하시는 대통령님 및 각 부처 장관님,주무관님들 안녕하세요!!\\n전남 목포에서 ...  \n",
       "3  공공기관 무조건적인 정규직전환을 반대합니다.  현정부에서 정규직 일자리를 늘리는 것에 찬성합니다. 그런데 공공기관 비정규직들은 인...  \n",
       "4                  제2의 개성공단  만일 하시는 대통령님 및 각 부처 장관님,주무관님들 안녕하세요!!\\n전남 목포에서 ...  "
      ]
     },
     "execution_count": 80,
     "metadata": {},
     "output_type": "execute_result"
    }
   ],
   "source": [
    "pet.head()"
   ]
  },
  {
   "cell_type": "code",
   "execution_count": 83,
   "id": "c89a3998",
   "metadata": {
    "collapsed": true
   },
   "outputs": [
    {
     "data": {
      "text/plain": [
       "'**  존경하옵는 문재인대통령님께\\\\n저는 중국원양자원이라는 KOSPI상장사의 소액 주주입니다. 중국원양자원(이하 중원)은 이번 재회계감사에서 의견거절이라는 감사인 판단이 내려져 꿈에도 생각못한 상장폐지를 목전에 두고 있습니다.\\\\n상장폐지가되면 국내에 상장하여 천문학적인 금액을 취득하여 회사의 규모를 키우고 개인자산을 불린 후 자신의 지분도  다 팔아서 이득을 챙긴 중국인 장화리 사장은 정리매매때 휴지조각의 비용으로 자신의 지분을 다시 사들이고 대주주로서의 지위를 다시 획득하여 온전히 자신의 기업으로 만들수 있습니다.\\\\n결국 한국 국민들의 피땀어린 투자금으로 중국인 사장의 부를 채워주지만 이에 대해 한국의 금융당국 및 상장과 운영의 주체인 거래소는 누구도 이에대한 책임없이 이를 그냥 덮어버리고만 말것입니다.\\\\n이로인해 약 2만 5천의 국내소액주주는 피눈물을 흘리며 고통속에 살게 될 것입니다.\\\\n주식투자는 개인의 판단하에 이루어지는 것이나 투자에 대한 개인의 책임을 묻기전에 그 과정은 규정과 상식에 맞게 공정하고 정의로워야 할 것입니다. 이는 존경하는 문대통령님의 말씀이라 가슴깊이 새기고 있었으나 현재 우리나라의 금융 시스템, 특히 거래소와 회계감사는 그렇지 못한 것 같습니다.\\\\n이렇게 생각하게된 이유는 이번 회계감사의 주된 의견거절의 이유 때문입니다\\\\n이번 신한회계법인의 추측적이고 터무니없는 의견거절로 전재산이 한순간에 물거품으로 사라질 위기에 처한 본인을 비롯한 많은 사람들이 죽음이라는 극단적인 선택앞에 내몰려져 억울함과 원통함에 피눈물을 흘리고 있습니다. .\\\\n기업의 사업성이나 계속 존속여부를 점검하는 감사자인 회계법인은 오직 밝혀진 사실과 그에 따른 증거만을 근거로 공정하게 기업의 존속여부에 대한 의견을 내야하고 유추할 경우에도 당연히 관련 법이나 판례에 근거하여야 합니다.\\\\n그러나 신한회계법인은 법또는 제도권으로 확정되지 않은 추정사항을 의견거절의\\'결정적 이유\\'로 명시하였는바 이는 감사자의 \\'의견거절\\'에 따른 참혹한 결과로 볼때 25000명의 국민들과 그 가족들은 공정한 감사결과라 절대로 인정할수 없습니다.\\\\n이런 고통의 원인은 법 제도나 규정에 근거를 두지 않고 자의적인 추측에 따라 작성, 발표한 감사인의 감사보고서 \"의견 거절\" 때문입니다. 한국 증권거래소에 상장된 중국원양자원에 투자한 우리 국민 25,000명과 수많은 가족들은 부당한 감사인의 의견 거절로 절망에 처하고 삶의 의욕과 희망을 모두 잃어가고 있습니다.\\\\n분명 투자는 개개인의 책임입니다.\\\\n그런데 최근 언론을 통해 중대하게 다루어졌듯이 국민 노후를 책임지는 국민연금 역시 증권 시장의 공정성과 투명성에 크게 의존하고 있습니다. 때문에 증권 시장의 공정성과 투명성이 확보되지 않으면, 증권시장에 의존하여 국민의 노후를 책임지는 국민연금 역시 국민의 재산을 지켜낼 수 없고 결국에는 이리저리 부당하게 뜯겨나가서 몇 줌 안 되는 푼돈만 국민들에게 남을 것입니다. 마찬가지로 은행, 증권, 보험사를 통해 어떤 형태로든 금융 상품에 가입되어 있는 수많은 금융 소비자 역시 이런 불공정한 금융 질서의 피해자가 될 수밖에 없습니다. 이런 심대한 피해를 입힐 수 있는 증권시장의 부당함이 우리 금융시장에 새로운 전례로 남게 될 일을 앞두고 있습니다. 한 번 이런 불공정성이 뿌리내리면 그 부당함은 우리나라 금융 시장에서 독버섯처럼 세력을 뻗어나갈 것입니다. 국민 2만 5천 명의 재산이 몰수되도록 하는 회계 감사 법인의 부당한 감사 의견이 개인 투자자 2만 5천 명들의 피눈물로만 끝나지 않을 이유가 여기에 있습니다.\\\\n기업 회계 기록의 적정성이나 회사의 계속 존속 여부를 점검하는 회계 감사 법인은 오직 밝혀진 사실과 이를 뒷받침하는 증거를 근거로 회계 장부가 공정하게 기록되었는지 의견을 표명해야 하고, 추정이 필요할 경우에도 회계 기준에서 규정하고 있는 방법을 준수해야 한다고 명시되어 있습니다. 왜냐하면 회계 감사 의견 자체가 기업의 사활을 결정지을 수 있는 대출 가능 여부, 회사채 발행 가능 여부, 증권 시장에서 상장 유지와 상장 폐지에 있어서 결정적이기 때문입니다.\\\\n그러나 신한회계법인은 어떤 규정이나 법에도 근거를 두지 않고 추측과 예단을 감사 의견 거절의 \\'결정적 근거\\'로 명시하였는 바, 이는 감사인의 \\'의견거절\\'로 인해 25,000명의 재산이 부당한 상장 폐지로 몰수되는 참혹한 결과에 비추어 볼 때 너무도 무책임하며 법적 근거를 갖추지 못한 심각하게 불공정한 처사로 25,000명의 국민들과 그 가족들은 적법한 감사 결과로 절대 인정할 수 없습니다.\\\\n감사인 (신한회계법인)이 감사 의견을 \"거절\"로 표명한 근거는 3가지입니다.\\\\n(1) 증권선물위원회의 올 해 7월 정례 회의에서 회사 대표이사를 검찰에 고발하기로 결의한 것.\\\\n(2) 우발부채와 소송사건이 재무제표에 미칠 영향에 대하여 충분한 감사 증거를 회사에서 제공하지 않았다는 것.\\\\n(3) 유동부채가 유동자산보다 1,282,797,603 HKD 많고 (1,999억 원) 자본금이 222,176,074 HKD 잠식 (346억 원)되었다는 것.\\\\n사유의 부당함을 하나씩 짚어보겠습니다.\\\\n의견 거절 사유 (1)은 증권선물위원회 회의에서 중국원양자원 대표이사 고발을 1달 전 (7월 19일) 결의한 것을 감사 의견 거절의 근거로 내세웠습니다. 2011년부터 매년 2차례씩 회사 내부 서류를 샅샅히 들여다보며 매 반기와 연말 감사를 직접 수행하고 총 12차례에 걸쳐 회계 장부가 적정하게 작성되었다고 적정 의견을 표명했던 회계 감사인이 (신한회계법인) 법원의 유죄 판결도 아니고 검찰의 기소도 아닌 \\'검찰 고발 결의\\'를 1달 전에 증권선물위원회가 했던 것을 사유로 작년 말 기준 작성되었던 회사의 회계 장부를 믿지 못하는 이유라고 내세웠습니다.\\\\n2011년부터 매년 2차례씩 회계 장부와 증빙 서류를 샅샅히 확인하고 조사, 검토한 회계 법인이 손에 넣고 직접 눈으로 확인했던 그 많은 증빙 서류들은 놔둔 채, 상급 감독기관의 회의에서 대표이사 검찰에 고발 결의 사항을 감사 의견 거절의 근거로 삼은 것입니다. 지난 6년 동안 12차례의 감사 과정에 입수했던 수 많은 회계 서류로는 감사 \"의견 거절\"을 표명할 수 없었지만, 상급 감독기관에서 대표이사 검찰 고발을 결의한 결정을 사유로 감사 의견 거절을 낸 것에 주목해주시기 바랍니다.\\\\n더구나 우리나라 증권 시장의 전례를 보았을 때 대표이사가 검찰에 고발되어 실제로 3억 원의 벌금형을 선고받은 셀트리온의 경우 회사의 감사 의견에는 전혀 영향이 없었던 점에서 감사인의 의견 거절 사유 (1)은 법이나 규정에 전혀 근거를 두지 않은 내용입니다.\\\\n의견 거절 사유 (2) 역시 회사 (법인)에 대한 우발부채 및 소송사건이 아닌 회사의 대표이사 개인에 대한 우발부채와 소송사건을 문제 삼은 것으로, 회사 측과 감사인 (신한회계법인)이 각각 회사가 있는 외국 현지 로펌을 선임해 의견서를 제출받은 결과, 회사 측 로펌에서 문제가 없다는 의견을 낸 바 있습니다.\\\\n의견 거절 사유 (3)은 자본잠식 (자본잠식률 12%)이 회계 감사 의견 표명과는 무관함에도 불구하고 감사 의견 거절 사유로 내세웠습니다. 한 편 KRX 한국거래소에서는 자본잠식률 50% 이상 2년 연속 유지될 경우를 상장 폐지 사유로 규정하고 있습니다. 감사 의견 거절 사유로 12%의 자본잠식을 내세우는 것은 어디에서도 근거를 찾을 수 없는 처사입니다. 지금도 코스닥 시장에는 53개사의 부분 자본 잠식 회사들이 등록되어 있습니다.\\\\n또한 올 해 4월에는 유동부채의 유동자산 초과액이 1,999억 원에서 85억 원으로 줄어드는 후속 사건이 있었습니다. 그런데 감사인은 감사 시점 7개월 뒤인 올 7월에 생긴 후속 사건은 감사 의견 거절 사유로 전면에 내세우면서도 그보다 3달 앞서 있었던 후속 사건은 감사 의견에 전혀 반영하지 않고 있습니다. 규정에 맞지 않는 근거를 내세우면서 그마저도 형평성을 크게 잃은, 부당한 감사 의견입니다.\\\\n국내 주주 25,000명의 재산 합계 수 천억 원이 하루 아침에 없어질 상황에 놓인 중국원양자원의 상장 폐지 여부는 감사인의 감사 의견에 의해 결정됩니다. 감사인 신한회계법인은 2011년부터 6년 동안 의심의 눈초리로 국내의 통상적인 회계 감사보다 훨씬 엄격하게 감사를 수행해왔고, 그 엄격한 잣대에도 회사의 회계 장부에서는 오점이 발견되지 않았습니다. 그런데 지난 6년 동안의 감사에서 수집했던 증거로는 \"감사 의견 거절\" 표명을 하지 못했던 감사인이 법이나 제도에 근거하지 않은 부당한 의견 거절 표명으로 국내 투자자 25,000명의 생계를 사지에 몰아넣고 있습니다.\\\\n회사는 현재 지난 약 3년간 선원의 파업과 어업조황의 악화 및 낮은 어가로 인해 좋은 실적을 못내었고 동시에 이러한 악조건속에서 선단수를 늘리는 모험을 감행해 더 적자폭이 늘어났습니다. 그러나 현재 어가가 회복되고 있고 늘어난 조업선단이 자리잡아  장화리사장은 올 하반기부터는 500억 이상의 순이익을 자신하고 그에따른 순이익의 20% 배당을 기대하고 있었으며 또한, 우리나라를 포함 전세계적으로 원양어업의 환경이 좋아지고 있으며,\\\\n원양업체들의 매출및 이익이 전년대비 향상되고 있습니다.\\\\n이런 와중에 이러한 부적절하고 정당하지 못하며 형평에 맞지않는 재감사 결과로 인해 상장주체인 거래소에서 대한민국에 상장시킨 “중국원양자원” 이라는 회사에\\\\n원양어업의 발전 가능성을 보고 투자한, 수십년간 성실히 살면서 아끼고 아껴서\\\\n모은 소액주주들의 소중한 재산이 한순간에 휴지조각이 될 현실에 처해 너무나도 가슴이 아프며, 소액주주들의 삶 자체가 존폐위기에 놓여 있습니다.\\\\n거래소의 심리 제도는 날선 칼날처럼 예리해야 하지만 한편으로는 투명성(공정성)과 보편성(정당성), 형평성을 유지하여 미래의 성장성이 인정되는 기업이 도태되거나 어느한쪽이 일방적으로 억울하게 피해을 당하는 일이 없도록 하는 방패의 역할도 함께 수행해야 한다고 생각 합니다.\\\\n중국원양자원 에서 과거에 일어났던 일련의 사건에 대해서만 집중하고 미래에 그려나갈 모습들에 대해서는 상대적으로 등한시 특히나, 투자자들의 권익과 입장에\\\\n대해서는 가장 후순위로 밀어놓고 이에 대한 투자자들의 의견이나 읍소에선 아랑곳하지 않는다면, 대다수의 국민들은 누굴믿고 투자를 하겠습니까.\\\\n현재 상장폐지제도에서 “투자자보호” 라고 하는 기치에 맞게 진정한 투자자보호를\\\\n위하여 공정하고 형평성있는 심사가 이루어질수 있도록 간청 드립니다.\\\\n또한, 무엇보다 재감사결과에 대한 공정한 정정을 원하며\\\\n만에하나 이루어지지않는다면\\\\n최소한 대한민국 국민인 소액주주들의 피해를 최소화하기위해 거래소 당국자분들께서 개선기간을 1년이상 다시 부여해주시는 융통성을 발휘해주시기를 바랍니다.\\\\n1년이상의 개선기간 부여로 인해 국민의 어떠한 추가적인 다른 피해는 없으면서 회사가 약속한 이익의 개선이 이루어지기를 바랄수 있고 최악의 경우 회사의 실적이 돌이킬수 없게되더라도 주총에서 장화리 사장의 해임등 안을 모색해서 국부의 유출을 막을 수 있기 때문입니다. 대한민국의 투자자를 위한 거래소라면 최소한의 억울한 투자자 피해를 막기위한 이러한 결정은 당연히 이뤄져야할 것이라고 믿습니다.\\\\n부디 한 소시민의 눈물어린 목소리에 귀기울여 주시고 대통령님이 바라시는 정의로운 사회에 맞는 판단을 해 주실것을 온 마음을 다해 부탁드립니다.\\\\n긴글 읽어주셔서 감사합니다.'"
      ]
     },
     "execution_count": 83,
     "metadata": {},
     "output_type": "execute_result"
    }
   ],
   "source": [
    "pet.content[7]"
   ]
  },
  {
   "cell_type": "code",
   "execution_count": 84,
   "id": "3576cead",
   "metadata": {},
   "outputs": [],
   "source": [
    "pet = pet.sample(frac=0.1).copy()"
   ]
  },
  {
   "cell_type": "code",
   "execution_count": 85,
   "id": "4b21939e",
   "metadata": {},
   "outputs": [
    {
     "name": "stdout",
     "output_type": "stream",
     "text": [
      "<class 'pandas.core.frame.DataFrame'>\n",
      "Int64Index: 37776 entries, 299906 to 282723\n",
      "Data columns (total 8 columns):\n",
      " #   Column      Non-Null Count  Dtype \n",
      "---  ------      --------------  ----- \n",
      " 0   article_id  37776 non-null  int64 \n",
      " 1   start       37776 non-null  object\n",
      " 2   end         37776 non-null  object\n",
      " 3   answered    37776 non-null  int64 \n",
      " 4   votes       37776 non-null  int64 \n",
      " 5   category    37776 non-null  object\n",
      " 6   title       37776 non-null  object\n",
      " 7   content     37776 non-null  object\n",
      "dtypes: int64(3), object(5)\n",
      "memory usage: 2.6+ MB\n"
     ]
    }
   ],
   "source": [
    "pet.info()"
   ]
  },
  {
   "cell_type": "code",
   "execution_count": null,
   "id": "c2c76c40",
   "metadata": {},
   "outputs": [],
   "source": []
  },
  {
   "cell_type": "code",
   "execution_count": 86,
   "id": "ecd6e452",
   "metadata": {
    "collapsed": true
   },
   "outputs": [
    {
     "data": {
      "text/html": [
       "<div>\n",
       "<style scoped>\n",
       "    .dataframe tbody tr th:only-of-type {\n",
       "        vertical-align: middle;\n",
       "    }\n",
       "\n",
       "    .dataframe tbody tr th {\n",
       "        vertical-align: top;\n",
       "    }\n",
       "\n",
       "    .dataframe thead th {\n",
       "        text-align: right;\n",
       "    }\n",
       "</style>\n",
       "<table border=\"1\" class=\"dataframe\">\n",
       "  <thead>\n",
       "    <tr style=\"text-align: right;\">\n",
       "      <th></th>\n",
       "      <th>article_id</th>\n",
       "      <th>start</th>\n",
       "      <th>end</th>\n",
       "      <th>answered</th>\n",
       "      <th>votes</th>\n",
       "      <th>category</th>\n",
       "      <th>title</th>\n",
       "      <th>content</th>\n",
       "    </tr>\n",
       "  </thead>\n",
       "  <tbody>\n",
       "    <tr>\n",
       "      <th>299906</th>\n",
       "      <td>390740</td>\n",
       "      <td>2018-09-27</td>\n",
       "      <td>2018-10-27</td>\n",
       "      <td>0</td>\n",
       "      <td>300</td>\n",
       "      <td>교통/건축/국토</td>\n",
       "      <td>교통 및 기타 인프라 확충 없는 광명하안안터택지지구개발을 반대합니다.</td>\n",
       "      <td>교통 및 기타 인프라 확충 없는 택지지구개발을 반대합니다.\\n1. 하안동 우체국사거...</td>\n",
       "    </tr>\n",
       "    <tr>\n",
       "      <th>268501</th>\n",
       "      <td>348855</td>\n",
       "      <td>2018-08-20</td>\n",
       "      <td>2018-09-19</td>\n",
       "      <td>0</td>\n",
       "      <td>17</td>\n",
       "      <td>행정</td>\n",
       "      <td>🌸 국 민 연 금 폐 지 🌸</td>\n",
       "      <td>🌸 국 민 연 금 폐 지 🌸</td>\n",
       "    </tr>\n",
       "    <tr>\n",
       "      <th>261094</th>\n",
       "      <td>339001</td>\n",
       "      <td>2018-08-13</td>\n",
       "      <td>2018-09-12</td>\n",
       "      <td>0</td>\n",
       "      <td>10</td>\n",
       "      <td>일자리</td>\n",
       "      <td>국가비상사태 선포하고라도 최저임금 다시 정해야 한다</td>\n",
       "      <td>내가 알아본 바에 의하면 중소기업들 적자나는 기업들 많이 있다\\n이런 어려운 기업들...</td>\n",
       "    </tr>\n",
       "    <tr>\n",
       "      <th>347632</th>\n",
       "      <td>451982</td>\n",
       "      <td>2018-11-25</td>\n",
       "      <td>2018-12-25</td>\n",
       "      <td>0</td>\n",
       "      <td>4</td>\n",
       "      <td>성장동력</td>\n",
       "      <td>소득주도성장의 허구와 국가주도발전전략</td>\n",
       "      <td>소득주도성장의 허구와 국가주도발전전략\\n현제의 경제문제는 한두마디로 간단히 설명하기...</td>\n",
       "    </tr>\n",
       "    <tr>\n",
       "      <th>334925</th>\n",
       "      <td>435781</td>\n",
       "      <td>2018-11-08</td>\n",
       "      <td>2018-12-08</td>\n",
       "      <td>0</td>\n",
       "      <td>1</td>\n",
       "      <td>기타</td>\n",
       "      <td>억울합니다!!! 판 물건 값올랐다고 판 물건 도로 달랍니다.</td>\n",
       "      <td>보험은 무형의 상품입니다.\\n너무나 웃기고 어의 없는 대한민국 민사재판!\\n보험관련...</td>\n",
       "    </tr>\n",
       "  </tbody>\n",
       "</table>\n",
       "</div>"
      ],
      "text/plain": [
       "        article_id       start         end  answered  votes  category  \\\n",
       "299906      390740  2018-09-27  2018-10-27         0    300  교통/건축/국토   \n",
       "268501      348855  2018-08-20  2018-09-19         0     17        행정   \n",
       "261094      339001  2018-08-13  2018-09-12         0     10       일자리   \n",
       "347632      451982  2018-11-25  2018-12-25         0      4      성장동력   \n",
       "334925      435781  2018-11-08  2018-12-08         0      1        기타   \n",
       "\n",
       "                                         title  \\\n",
       "299906  교통 및 기타 인프라 확충 없는 광명하안안터택지지구개발을 반대합니다.   \n",
       "268501                         🌸 국 민 연 금 폐 지 🌸   \n",
       "261094            국가비상사태 선포하고라도 최저임금 다시 정해야 한다   \n",
       "347632                    소득주도성장의 허구와 국가주도발전전략   \n",
       "334925       억울합니다!!! 판 물건 값올랐다고 판 물건 도로 달랍니다.   \n",
       "\n",
       "                                                  content  \n",
       "299906  교통 및 기타 인프라 확충 없는 택지지구개발을 반대합니다.\\n1. 하안동 우체국사거...  \n",
       "268501                                    🌸 국 민 연 금 폐 지 🌸  \n",
       "261094  내가 알아본 바에 의하면 중소기업들 적자나는 기업들 많이 있다\\n이런 어려운 기업들...  \n",
       "347632  소득주도성장의 허구와 국가주도발전전략\\n현제의 경제문제는 한두마디로 간단히 설명하기...  \n",
       "334925  보험은 무형의 상품입니다.\\n너무나 웃기고 어의 없는 대한민국 민사재판!\\n보험관련...  "
      ]
     },
     "execution_count": 86,
     "metadata": {},
     "output_type": "execute_result"
    }
   ],
   "source": [
    "pet.head()"
   ]
  },
  {
   "cell_type": "code",
   "execution_count": 87,
   "id": "aca36497",
   "metadata": {},
   "outputs": [],
   "source": [
    "pet['start'] = pd.to_datetime(pet['start'])\n",
    "pet['end'] = pd.to_datetime(pet['end'])"
   ]
  },
  {
   "cell_type": "code",
   "execution_count": 88,
   "id": "dd64d5bd",
   "metadata": {
    "collapsed": true
   },
   "outputs": [
    {
     "name": "stdout",
     "output_type": "stream",
     "text": [
      "<class 'pandas.core.frame.DataFrame'>\n",
      "Int64Index: 37776 entries, 299906 to 282723\n",
      "Data columns (total 8 columns):\n",
      " #   Column      Non-Null Count  Dtype         \n",
      "---  ------      --------------  -----         \n",
      " 0   article_id  37776 non-null  int64         \n",
      " 1   start       37776 non-null  datetime64[ns]\n",
      " 2   end         37776 non-null  datetime64[ns]\n",
      " 3   answered    37776 non-null  int64         \n",
      " 4   votes       37776 non-null  int64         \n",
      " 5   category    37776 non-null  object        \n",
      " 6   title       37776 non-null  object        \n",
      " 7   content     37776 non-null  object        \n",
      "dtypes: datetime64[ns](2), int64(3), object(3)\n",
      "memory usage: 2.6+ MB\n"
     ]
    }
   ],
   "source": [
    "pet.info()"
   ]
  },
  {
   "cell_type": "code",
   "execution_count": null,
   "id": "ba720ca4",
   "metadata": {},
   "outputs": [],
   "source": []
  },
  {
   "cell_type": "code",
   "execution_count": 92,
   "id": "422cdbe7",
   "metadata": {},
   "outputs": [],
   "source": [
    "pet['duration'] = pet['end'] - pet['start']"
   ]
  },
  {
   "cell_type": "code",
   "execution_count": 93,
   "id": "5d5bc6f1",
   "metadata": {
    "collapsed": true
   },
   "outputs": [
    {
     "data": {
      "text/html": [
       "<div>\n",
       "<style scoped>\n",
       "    .dataframe tbody tr th:only-of-type {\n",
       "        vertical-align: middle;\n",
       "    }\n",
       "\n",
       "    .dataframe tbody tr th {\n",
       "        vertical-align: top;\n",
       "    }\n",
       "\n",
       "    .dataframe thead th {\n",
       "        text-align: right;\n",
       "    }\n",
       "</style>\n",
       "<table border=\"1\" class=\"dataframe\">\n",
       "  <thead>\n",
       "    <tr style=\"text-align: right;\">\n",
       "      <th></th>\n",
       "      <th>article_id</th>\n",
       "      <th>start</th>\n",
       "      <th>end</th>\n",
       "      <th>answered</th>\n",
       "      <th>votes</th>\n",
       "      <th>category</th>\n",
       "      <th>title</th>\n",
       "      <th>content</th>\n",
       "      <th>duration</th>\n",
       "    </tr>\n",
       "  </thead>\n",
       "  <tbody>\n",
       "    <tr>\n",
       "      <th>299906</th>\n",
       "      <td>390740</td>\n",
       "      <td>2018-09-27</td>\n",
       "      <td>2018-10-27</td>\n",
       "      <td>0</td>\n",
       "      <td>300</td>\n",
       "      <td>교통/건축/국토</td>\n",
       "      <td>교통 및 기타 인프라 확충 없는 광명하안안터택지지구개발을 반대합니다.</td>\n",
       "      <td>교통 및 기타 인프라 확충 없는 택지지구개발을 반대합니다.\\n1. 하안동 우체국사거...</td>\n",
       "      <td>30 days</td>\n",
       "    </tr>\n",
       "    <tr>\n",
       "      <th>268501</th>\n",
       "      <td>348855</td>\n",
       "      <td>2018-08-20</td>\n",
       "      <td>2018-09-19</td>\n",
       "      <td>0</td>\n",
       "      <td>17</td>\n",
       "      <td>행정</td>\n",
       "      <td>🌸 국 민 연 금 폐 지 🌸</td>\n",
       "      <td>🌸 국 민 연 금 폐 지 🌸</td>\n",
       "      <td>30 days</td>\n",
       "    </tr>\n",
       "    <tr>\n",
       "      <th>261094</th>\n",
       "      <td>339001</td>\n",
       "      <td>2018-08-13</td>\n",
       "      <td>2018-09-12</td>\n",
       "      <td>0</td>\n",
       "      <td>10</td>\n",
       "      <td>일자리</td>\n",
       "      <td>국가비상사태 선포하고라도 최저임금 다시 정해야 한다</td>\n",
       "      <td>내가 알아본 바에 의하면 중소기업들 적자나는 기업들 많이 있다\\n이런 어려운 기업들...</td>\n",
       "      <td>30 days</td>\n",
       "    </tr>\n",
       "    <tr>\n",
       "      <th>347632</th>\n",
       "      <td>451982</td>\n",
       "      <td>2018-11-25</td>\n",
       "      <td>2018-12-25</td>\n",
       "      <td>0</td>\n",
       "      <td>4</td>\n",
       "      <td>성장동력</td>\n",
       "      <td>소득주도성장의 허구와 국가주도발전전략</td>\n",
       "      <td>소득주도성장의 허구와 국가주도발전전략\\n현제의 경제문제는 한두마디로 간단히 설명하기...</td>\n",
       "      <td>30 days</td>\n",
       "    </tr>\n",
       "    <tr>\n",
       "      <th>334925</th>\n",
       "      <td>435781</td>\n",
       "      <td>2018-11-08</td>\n",
       "      <td>2018-12-08</td>\n",
       "      <td>0</td>\n",
       "      <td>1</td>\n",
       "      <td>기타</td>\n",
       "      <td>억울합니다!!! 판 물건 값올랐다고 판 물건 도로 달랍니다.</td>\n",
       "      <td>보험은 무형의 상품입니다.\\n너무나 웃기고 어의 없는 대한민국 민사재판!\\n보험관련...</td>\n",
       "      <td>30 days</td>\n",
       "    </tr>\n",
       "  </tbody>\n",
       "</table>\n",
       "</div>"
      ],
      "text/plain": [
       "        article_id      start        end  answered  votes  category  \\\n",
       "299906      390740 2018-09-27 2018-10-27         0    300  교통/건축/국토   \n",
       "268501      348855 2018-08-20 2018-09-19         0     17        행정   \n",
       "261094      339001 2018-08-13 2018-09-12         0     10       일자리   \n",
       "347632      451982 2018-11-25 2018-12-25         0      4      성장동력   \n",
       "334925      435781 2018-11-08 2018-12-08         0      1        기타   \n",
       "\n",
       "                                         title  \\\n",
       "299906  교통 및 기타 인프라 확충 없는 광명하안안터택지지구개발을 반대합니다.   \n",
       "268501                         🌸 국 민 연 금 폐 지 🌸   \n",
       "261094            국가비상사태 선포하고라도 최저임금 다시 정해야 한다   \n",
       "347632                    소득주도성장의 허구와 국가주도발전전략   \n",
       "334925       억울합니다!!! 판 물건 값올랐다고 판 물건 도로 달랍니다.   \n",
       "\n",
       "                                                  content duration  \n",
       "299906  교통 및 기타 인프라 확충 없는 택지지구개발을 반대합니다.\\n1. 하안동 우체국사거...  30 days  \n",
       "268501                                    🌸 국 민 연 금 폐 지 🌸  30 days  \n",
       "261094  내가 알아본 바에 의하면 중소기업들 적자나는 기업들 많이 있다\\n이런 어려운 기업들...  30 days  \n",
       "347632  소득주도성장의 허구와 국가주도발전전략\\n현제의 경제문제는 한두마디로 간단히 설명하기...  30 days  \n",
       "334925  보험은 무형의 상품입니다.\\n너무나 웃기고 어의 없는 대한민국 민사재판!\\n보험관련...  30 days  "
      ]
     },
     "execution_count": 93,
     "metadata": {},
     "output_type": "execute_result"
    }
   ],
   "source": [
    "pet.head()"
   ]
  },
  {
   "cell_type": "code",
   "execution_count": null,
   "id": "35ebabb6",
   "metadata": {},
   "outputs": [],
   "source": []
  },
  {
   "cell_type": "code",
   "execution_count": 94,
   "id": "d302500d",
   "metadata": {},
   "outputs": [],
   "source": [
    "# 60일 이상 게시가 되고, answer를 받은 청원목록.."
   ]
  },
  {
   "cell_type": "code",
   "execution_count": 95,
   "id": "9c6ab9e7",
   "metadata": {
    "collapsed": true
   },
   "outputs": [
    {
     "name": "stdout",
     "output_type": "stream",
     "text": [
      "<class 'pandas.core.frame.DataFrame'>\n",
      "Int64Index: 37776 entries, 299906 to 282723\n",
      "Data columns (total 9 columns):\n",
      " #   Column      Non-Null Count  Dtype          \n",
      "---  ------      --------------  -----          \n",
      " 0   article_id  37776 non-null  int64          \n",
      " 1   start       37776 non-null  datetime64[ns] \n",
      " 2   end         37776 non-null  datetime64[ns] \n",
      " 3   answered    37776 non-null  int64          \n",
      " 4   votes       37776 non-null  int64          \n",
      " 5   category    37776 non-null  object         \n",
      " 6   title       37776 non-null  object         \n",
      " 7   content     37776 non-null  object         \n",
      " 8   duration    37776 non-null  timedelta64[ns]\n",
      "dtypes: datetime64[ns](2), int64(3), object(3), timedelta64[ns](1)\n",
      "memory usage: 2.9+ MB\n"
     ]
    }
   ],
   "source": [
    "pet.info()"
   ]
  },
  {
   "cell_type": "code",
   "execution_count": 103,
   "id": "4f692753",
   "metadata": {
    "collapsed": true
   },
   "outputs": [
    {
     "data": {
      "text/html": [
       "<div>\n",
       "<style scoped>\n",
       "    .dataframe tbody tr th:only-of-type {\n",
       "        vertical-align: middle;\n",
       "    }\n",
       "\n",
       "    .dataframe tbody tr th {\n",
       "        vertical-align: top;\n",
       "    }\n",
       "\n",
       "    .dataframe thead th {\n",
       "        text-align: right;\n",
       "    }\n",
       "</style>\n",
       "<table border=\"1\" class=\"dataframe\">\n",
       "  <thead>\n",
       "    <tr style=\"text-align: right;\">\n",
       "      <th></th>\n",
       "      <th>article_id</th>\n",
       "      <th>start</th>\n",
       "      <th>end</th>\n",
       "      <th>answered</th>\n",
       "      <th>votes</th>\n",
       "      <th>category</th>\n",
       "      <th>title</th>\n",
       "      <th>content</th>\n",
       "      <th>duration</th>\n",
       "    </tr>\n",
       "  </thead>\n",
       "  <tbody>\n",
       "    <tr>\n",
       "      <th>164274</th>\n",
       "      <td>203181</td>\n",
       "      <td>2018-04-17</td>\n",
       "      <td>2018-05-17</td>\n",
       "      <td>1</td>\n",
       "      <td>302082</td>\n",
       "      <td>행정</td>\n",
       "      <td>다산신도시 실버택배 비용은 입주민들의 관리비로 충당해야합니다.</td>\n",
       "      <td>다산신도시 입주민들이 택배원 대상으로 갑질을 저질러 사회적으로 큰 물의를 빚은 바 ...</td>\n",
       "      <td>30 days</td>\n",
       "    </tr>\n",
       "    <tr>\n",
       "      <th>85497</th>\n",
       "      <td>96427</td>\n",
       "      <td>2018-01-15</td>\n",
       "      <td>2018-02-14</td>\n",
       "      <td>1</td>\n",
       "      <td>277674</td>\n",
       "      <td>정치개혁</td>\n",
       "      <td>국회의원 급여를 최저시급으로 책정해 주세요</td>\n",
       "      <td>최저시급 인상 반대하던 의원들부터 최저시급으로 책정해주시고 최저시급으로 일하는 노동...</td>\n",
       "      <td>30 days</td>\n",
       "    </tr>\n",
       "    <tr>\n",
       "      <th>10894</th>\n",
       "      <td>10949</td>\n",
       "      <td>2017-09-06</td>\n",
       "      <td>2017-12-05</td>\n",
       "      <td>1</td>\n",
       "      <td>615354</td>\n",
       "      <td>미래</td>\n",
       "      <td>조두순 출소반대</td>\n",
       "      <td>제발 조두순 재심다시해서 무기징역으로 해야됩니다!!!</td>\n",
       "      <td>90 days</td>\n",
       "    </tr>\n",
       "    <tr>\n",
       "      <th>91882</th>\n",
       "      <td>105105</td>\n",
       "      <td>2018-01-20</td>\n",
       "      <td>2018-02-19</td>\n",
       "      <td>1</td>\n",
       "      <td>360905</td>\n",
       "      <td>외교/통일/국방</td>\n",
       "      <td>나경원 의원 평창올림픽 위원직을 파면시켜주세요</td>\n",
       "      <td>안녕하세요. 청와대에 청원은 처음해 보는 경험인지라 조금은 어색하고 뭐라 말을 시작...</td>\n",
       "      <td>30 days</td>\n",
       "    </tr>\n",
       "    <tr>\n",
       "      <th>98134</th>\n",
       "      <td>113699</td>\n",
       "      <td>2018-01-25</td>\n",
       "      <td>2018-02-24</td>\n",
       "      <td>1</td>\n",
       "      <td>235167</td>\n",
       "      <td>안전/환경</td>\n",
       "      <td>일간베스트 저장소(일베) 사이트 폐쇄를 요청합니다</td>\n",
       "      <td>거론된 사이트는 정치적이거나 사회적으로 이슈된 모든 현안들에 대해 허위날조된 정보를...</td>\n",
       "      <td>30 days</td>\n",
       "    </tr>\n",
       "    <tr>\n",
       "      <th>73197</th>\n",
       "      <td>79162</td>\n",
       "      <td>2018-01-03</td>\n",
       "      <td>2018-02-02</td>\n",
       "      <td>1</td>\n",
       "      <td>233842</td>\n",
       "      <td>인권/성평등</td>\n",
       "      <td>미성년자 성폭행 형량 올려주세요 종신형원합니다</td>\n",
       "      <td>또 창원에서 조두순사건과 같은 사건이 발생했네요\\n술먹어 심신이 미약하신 50대 대...</td>\n",
       "      <td>30 days</td>\n",
       "    </tr>\n",
       "  </tbody>\n",
       "</table>\n",
       "</div>"
      ],
      "text/plain": [
       "        article_id      start        end  answered   votes  category  \\\n",
       "164274      203181 2018-04-17 2018-05-17         1  302082        행정   \n",
       "85497        96427 2018-01-15 2018-02-14         1  277674      정치개혁   \n",
       "10894        10949 2017-09-06 2017-12-05         1  615354        미래   \n",
       "91882       105105 2018-01-20 2018-02-19         1  360905  외교/통일/국방   \n",
       "98134       113699 2018-01-25 2018-02-24         1  235167     안전/환경   \n",
       "73197        79162 2018-01-03 2018-02-02         1  233842    인권/성평등   \n",
       "\n",
       "                                     title  \\\n",
       "164274  다산신도시 실버택배 비용은 입주민들의 관리비로 충당해야합니다.   \n",
       "85497              국회의원 급여를 최저시급으로 책정해 주세요   \n",
       "10894                             조두순 출소반대   \n",
       "91882            나경원 의원 평창올림픽 위원직을 파면시켜주세요   \n",
       "98134          일간베스트 저장소(일베) 사이트 폐쇄를 요청합니다   \n",
       "73197            미성년자 성폭행 형량 올려주세요 종신형원합니다   \n",
       "\n",
       "                                                  content duration  \n",
       "164274  다산신도시 입주민들이 택배원 대상으로 갑질을 저질러 사회적으로 큰 물의를 빚은 바 ...  30 days  \n",
       "85497   최저시급 인상 반대하던 의원들부터 최저시급으로 책정해주시고 최저시급으로 일하는 노동...  30 days  \n",
       "10894                       제발 조두순 재심다시해서 무기징역으로 해야됩니다!!!  90 days  \n",
       "91882   안녕하세요. 청와대에 청원은 처음해 보는 경험인지라 조금은 어색하고 뭐라 말을 시작...  30 days  \n",
       "98134   거론된 사이트는 정치적이거나 사회적으로 이슈된 모든 현안들에 대해 허위날조된 정보를...  30 days  \n",
       "73197   또 창원에서 조두순사건과 같은 사건이 발생했네요\\n술먹어 심신이 미약하신 50대 대...  30 days  "
      ]
     },
     "execution_count": 103,
     "metadata": {},
     "output_type": "execute_result"
    }
   ],
   "source": [
    "pet[(pet['duration'] >= '30 days') & (pet['answered'] == 1)]"
   ]
  },
  {
   "cell_type": "code",
   "execution_count": null,
   "id": "00d37574",
   "metadata": {},
   "outputs": [],
   "source": []
  },
  {
   "cell_type": "code",
   "execution_count": 104,
   "id": "d8698627",
   "metadata": {},
   "outputs": [],
   "source": [
    "# 어느 카테고리에 청원이 가장 많은지.."
   ]
  },
  {
   "cell_type": "code",
   "execution_count": 107,
   "id": "2154a49c",
   "metadata": {
    "collapsed": true
   },
   "outputs": [
    {
     "data": {
      "text/plain": [
       "정치개혁           5935\n",
       "기타             4789\n",
       "인권/성평등         3315\n",
       "안전/환경          2885\n",
       "교통/건축/국토       2723\n",
       "외교/통일/국방       2564\n",
       "육아/교육          2422\n",
       "보건복지           2348\n",
       "일자리            2200\n",
       "행정             1909\n",
       "미래             1753\n",
       "경제민주화          1678\n",
       "문화/예술/체육/언론    1647\n",
       "성장동력            708\n",
       "반려동물            391\n",
       "저출산/고령화대책       327\n",
       "농산어촌            182\n",
       "Name: category, dtype: int64"
      ]
     },
     "execution_count": 107,
     "metadata": {},
     "output_type": "execute_result"
    }
   ],
   "source": [
    "pet.category.value_counts()"
   ]
  },
  {
   "cell_type": "code",
   "execution_count": 110,
   "id": "c35b0182",
   "metadata": {},
   "outputs": [],
   "source": [
    "\n",
    "import matplotlib as mpl\n",
    "import matplotlib.font_manager as fm\n",
    "\n",
    "mpl.rcParams['axes.unicode_minus'] = False\n",
    "\n",
    "path = 'C:/Windows/Fonts/malgun.ttf'\n",
    "font_name = fm.FontProperties(fname=path, size=50).get_name()\n",
    "plt.rc('font', family=font_name)"
   ]
  },
  {
   "cell_type": "code",
   "execution_count": 111,
   "id": "36a89588",
   "metadata": {},
   "outputs": [
    {
     "data": {
      "image/png": "[encoded data removed]",
      "text/plain": [
       "<Figure size 432x288 with 1 Axes>"
      ]
     },
     "metadata": {
      "needs_background": "light"
     },
     "output_type": "display_data"
    }
   ],
   "source": [
    "pet.category.value_counts().plot(kind='bar')\n",
    "plt.show()"
   ]
  },
  {
   "cell_type": "code",
   "execution_count": null,
   "id": "cf312193",
   "metadata": {},
   "outputs": [],
   "source": []
  },
  {
   "cell_type": "code",
   "execution_count": 113,
   "id": "828c6764",
   "metadata": {},
   "outputs": [],
   "source": [
    "pet.sort_values('start', inplace=True)"
   ]
  },
  {
   "cell_type": "code",
   "execution_count": null,
   "id": "d3da01f9",
   "metadata": {},
   "outputs": [],
   "source": []
  },
  {
   "cell_type": "code",
   "execution_count": null,
   "id": "d575c955",
   "metadata": {},
   "outputs": [],
   "source": []
  },
  {
   "cell_type": "code",
   "execution_count": null,
   "id": "ede924a2",
   "metadata": {},
   "outputs": [],
   "source": []
  },
  {
   "cell_type": "code",
   "execution_count": null,
   "id": "649150a9",
   "metadata": {},
   "outputs": [],
   "source": [
    "# 월별 등장빈도가 가장 많은 상위 5개 단어를 출력.."
   ]
  },
  {
   "cell_type": "code",
   "execution_count": 124,
   "id": "4a4b0dcc",
   "metadata": {},
   "outputs": [],
   "source": [
    "pet['mon'] = pet.start.dt.year.astype('str') + pet.start.dt.month.astype('str').apply(lambda x: x.zfill(2))"
   ]
  },
  {
   "cell_type": "code",
   "execution_count": 132,
   "id": "282f92e0",
   "metadata": {},
   "outputs": [],
   "source": [
    "pet.to_csv('pet_sample.csv')"
   ]
  },
  {
   "cell_type": "code",
   "execution_count": null,
   "id": "15be2624",
   "metadata": {},
   "outputs": [],
   "source": []
  },
  {
   "cell_type": "code",
   "execution_count": 127,
   "id": "9466651c",
   "metadata": {},
   "outputs": [],
   "source": [
    "pet_by_mon = pet.groupby('mon')['content'].sum()"
   ]
  },
  {
   "cell_type": "code",
   "execution_count": 129,
   "id": "de28f4ac",
   "metadata": {
    "collapsed": true
   },
   "outputs": [
    {
     "data": {
      "text/plain": [
       "'안녕하세요? 저는 부산예문여고 2학년에 재학 중인 학생입니다. 다름이 아니라 저희 학교에서 연구 과제 대회를 진행하고 있습니다. 저는 소방공무원의 업무실태 조사라는 주제를 연구를 진행하던 중에 소방서 3곳을 들러 소방공무원의 처우 개선이라는 주제로 설문조사를 실시했습니다. 설문조사 결과를 통계 내던 중 저는 충격에 빠졌습니다. 당연히 매스컴에서 보도되는 문제인 소방 장비의 부족이나 초과 근무 수당의 미지급이 큰 문제라고 생각하였는데 부족한 소방인원이 큰 문제라는 결과가 나왔습니다. 또한, 저희가 소방서 3곳을 방문했지만 생각보다 매우 적은 인원이 계셨습니다.  광역단체 소속의 소방서임에도 불구하고 적은 인원으로 업무 시에 어려운 점이 많고 광역단체가 아닌 다른 소규모의 지자체에서의 실정은 더하다고 들었습니다. 소규모 지자체 소속의 소방서는 인원이 한 소방서에 5명 내외이고 장비 또한 정말 부족하다고 합니다. 국가에서 각 가구마다 소화기 설치를 권장하시고 제도로 만들어 놓기까지 했으나 시골이나 외곽 지역은 소화기 설비가 잘 되어 있지도 않고 주로 노인 분들이 많으시기 때문에 소화기가 구비되어 있다 하더라도 거의 화재초기진압이 불가피합니다. 모든 소방서 뿐만 아니라 이런 외곽지역에 더 많은 지원과 인원이 필요한 것 아닐까요? 그래서 저는 소방공무원의 인원 충원과 국가직의 신속한 전환을 촉구합니다. 저희가 조사한 그래프에 따르면 2014년의 소방인력은 4만 5천명 미만이고 이중 현장 활동 인력은 약 3만 명입니다. 현행 소방력 기준에 관한 규칙은 소방서·소방기관별 근무요원의 배치 기준을 정해 놓았는데, 재난 현장의 최전방에서 근무하는 소방관의 업무가 과중해지는 것을 막기 위한 최소한의 기준입니다. 그런데 이 기준대로라면 현장 활동 인력은 최소 5만1천명을 넘어야 하는데 현원이 약 2만 명이나 부족하다는 것입니다. 이렇게 2만명이나 부족한 인원을 빨리 충원해야 소방관분들의 근무 환경도 개선이 되고 우리나라의 안전율 또한 증가할 수 있습니다. 또한 현재 소방관 눈물 닦아주기법이 하루 빨리 통과되어 소방관 분들의 국가직 전환과 여러 복지가 진행되어야 합니다. 소방공무원분들을 위한 법안이 빨리 통과되기를 바랍니다!!\\\\n아래 링크는 제가 조사한 자료와 직접 설문조사한 내용을 바탕으로 만든 유튜브 동영상입니다. 참고가 되시길 바랍니다.만일 하시는 대통령님 및 각 부처 장관님,주무관님들 안녕하세요!!\\\\n전남 목포에서 자영업을 하는 사람입니다.\\\\n국정운영을 너무 잘해주셔서  감사하다는 인사를 먼저드리겠습니다.\\\\n제가 청원 드리고자 하는 사안은 아래와 같습니다.\\\\n그 사안은 개성공단 관련 부분입니다.\\\\n이 사안은 오래전 개성공단이 폐쇄 되고, 그와 관련되어 문제들이 돌출되면서 한번씩 생각해봤습니다.\\\\n개성공단의 상징성은 제가 부연하지 않아도 아주 잘 아실거라 생각 하고 요점만 정리하여 말씀드리겠습니다.\\\\n저는 개성공단을 북측에 꼭 설치 해야되나 하는 의문이 계속 들었습니다.\\\\n북측과 인접한 강원도의 적합한 지역에 제2의 개성공단을  설치하면 안되나 하고 말이지요.\\\\n공단이 설치가 된다면, 강원지역의 경제활성화와 중소기업에 돌아가는 혜택, 북측에 공단이 위치했을때\\\\n지리적 불안전에서 오는 위험 해소, 제2의 개성공단이라는 남북화해의 상징성 등을 두루 갖추지 않을까 싶습니다.\\\\n또한 요즘 처럼 대북관계의 긴장감에서 오는 불안함이 제2의 개성공단 설치로 인하여 대화의 창구를 열어\\\\n관계를 계속 유지해간다면 긴장감이 어느 정도 해소 되지 않을까 싶습니다.\\\\n이상으로 부족한 글 읽어주셔서 감사합니다.안녕하십니까.저는 인천에서 지방으로 전출을 희망하는 별거 부부이자 중등교사입니다. 타시도 전출에 성공하여 하루 빨리 가족과 함께 사는 것이 가장 큰 관심사인 평범한 주부이기도 하고요. 지금은 가족과 함께 사는 것이 제게 가장 중요한 문제이지만 근래에 논란이 되고 있는 기간제 및 강사의 정규화 문제를 묵과할 수 없어 질문드립니다.\\\\n사립학교의 기간제 및 강사는 \"경우에 따라 \" 정규화가 정당한 경우가 있다고 인정합니다. 그러나 공립학교의 경우는 엄연히 임용고사라는 공채 제도가 있는데 정규화를 인정하는 것은 공정한 기회 균등에 위배되는 것 아닐까요? 또 교원자격증 취득을 위해 공부하고, 임용고사에 합격하기 위해 지금도 공부하고 있는 예비교사들과 3수는 필수라는 말이 있을 정도로 힘든 임용고사 합격을 위해 공부에 매진하여 교사가 된 사람들에게 역차별 아닐까요? 우리 사회가 지향하는 것은 공정한 기회와 그에 따른 정당한 결과이지, 무조건적인 결과적 평등이 아닙니다. 공채 제도를 무시하는 이러한 선심성 정책은 공정한 사회가 추구하는 기본 가치를 무시하는 것 아닐까요?스텔라 데이지호에 대한 제안입니다.\\\\n3월31일 스텔라 데이지호가 침몰하고 5달째가 되고 있습니다.\\\\n저는 우리가 너무 일찍 포기한 것이 아닌가 하는 생각을 갖고 있습니다.\\\\n그리고, 추후 이 사고에 대한 확실한 해결이 없다면 나중에는 문재인 정부에 커다란 부담이 될 수도 있다는 생각에 이 글을 쓰게 되었습니다.\\\\n가족들이 지금까지 갖고 있는 희망은 발견되지 않은 구명벌(땟목)에 선원들이 살아있지 않을까 하는 겁니다.\\\\n생존 훈련받은 선원들이 대부분이고 구명벌에는 지붕과 생존도구가 구비되어있기 때문에 오랜 기간 버틸 수 있을 거라 보는 겁니다.\\\\n이전 정권이 대선이전에 서둘러 수색을 중단한 탓도 있고, 정권교체 후 재수색이 있었지만,\\\\n태평양, 3000m 수심이라는 데서, 애초 우리가 마음속에서 너무 일찍 포기한 게 아닌가 하는 생각이 듭니다.\\\\n멕시코에서는 14개월 동안 표류하다 구조된 어부도 있고,\\\\n과태말라에서 요트가 전복되어 태평양을 117일간 표류하던 어떤 부부가 한국어선에 의해 구조되는 일도 있었다는데,\\\\n구명벌을 찾을 때 까지 포기하면 안된다고 생각합니다.\\\\n구명벌이 침몰당시 분리된 것이 맞는지 확인하고,\\\\n선박의 침몰 원인을 찾기 위해서도 심해를 탐사할 수 있는 장비를 통한 수색도 필요하다고 생각합니다.\\\\n선박의 침몰에 대해서는 선사의 노후선박 개조와 사전 균열 등, 의혹이 제기되고 있는 상황입니다.\\\\n구명벌이 선박에서 분리되지 못했다면 구명벌 수색은 필요 없는 것이 되고 침몰원인만 확인하면 되는 것입니다.\\\\n물론 불가능하거나 실패할 수도 있지만 적어도 정부가 할 수 있는 모든 걸 했다는 것을 보여줘야 한다고 봅니다.\\\\n침몰 당시 자동발신 조난신호의 위치나 수동발신 조난신호 발생위치가 확인되고 있고, AIS나 레이다, 인공위성사진 등을 이용하면 침몰위치 특정은 어려운 것이 아니고,\\\\n현재 유인 심해 탐사정의 심해탐사기록이 일본 6500m, 중국 7,062m인 걸 보면 아주 불가능한 일은 아닐 수도 있다고 봅니다.\\\\n애초에 사고가 발생했을 때 해수부는 국방부에 협조를 구해서 구조용 군함과 헬기를 지원 받고, 주변국과의 협조로 전방위적인 구명벌 수색을 했어야 한다고 봅니다.\\\\n하지만, 지금은 구명벌이 조류와 바람에 의해 어디로 흘러갔을지 모르기 때문에 좀 더 넓은 지역에 대한 지속적인 구조용 선박과 헬기에 의한 수색과 주변 무인도에 대한 수색이 필요하다고 봅니다.\\\\n나중에라도 구명벌이 발견되고 죽어있는 시신만 발견되었을 때 국가가 아무것도 안하고 있었다면 그 비난은 모두 현 정부에 주어지게 될 것이기 때문입니다.\\\\n물론, 정부가 욕을 먹는 것은 작은 겁니다.\\\\n중요한건 “사람이 먼저다”라는 가치를 지키는 것입니다.\\\\n이런 공간을 마련해 주셔서 감사합니다.존경하는 문제인 대통령님께\\\\n먼저 어렵고 힘든 국정운영을 이끄시느라 노고가 많으십니다\\\\n저는 대구에 거주 하는 임채우 입니다\\\\n저는 주식 소액 투자자로서\\\\n대주주의 먹튀사기에 여러번 상폐경험이 있습니다\\\\n기업의 호재뉴스나 허위공시를 이용하여 주가 부양후  대주주 지분을 전량매도 하여 결국은\\\\n상장폐지로 죄없고 힘없는 소액주주가  피해를 고스란히 떠안게 됩니다\\\\n기타 대주주의 비리 횡령배임 분식회계 등등  으로 거래정지 또는 상폐 되고 있습니다\\\\n이때 회사는 비상장으로 정상영업을 영위하고 있습니다\\\\n상폐법은 위헌이며 자유당 독재시대의 악법이며 구시대의 유물 입니다\\\\n상폐법을 이용하여 멀쩡한 흑자 기업도 기업사냥꾼이 침투하여 회사를 망가 뜨리고 고용된 직원들과 소액투자자를 사지로 몰고 있습니다\\\\n이처럼 상폐법은 멀쩡한 기업과\\\\n먹튀사기  약탈경제 투기자본 기업사냥꾼의 도구로전락  하고 있습니다\\\\n이런 행태로 간다면 시장전체가\\\\n얼마지나지 않아 망가지고 말것입니다 나아가서는 해외먹튀 투기자본이 침투하여 대한민국\\\\n경제발전의 저해요인이 될 수도 있으며 경제성장동력의 엔진이 멈출수도 있다고 생각 합니다\\\\n다음은 거래소에 대해서 이야기 하겠습 니다\\\\n상장주체는 거래소 입니다\\\\n상장책임이 있으면 상폐책임도 있다고 생각 합니다\\\\n거래소의 관리감독 부실을 죄없는 소액주주에게 전가하는것은 잘못된 행정 이라고 생각 합니다\\\\n그리고는 회사와 법적으로 처리하라 하고 책임을 회피 합니다\\\\n저희 일반 소액주주는 법에 무지 할뿐만 아니라 법조인이 아니며 회계사 도 아닙니다\\\\n오로지 회사의 지표 거래소의지표만 믿고 투자를 합니다 누구보다 법을 잘 알고 있는 거래소가 있기 때문 입니다\\\\n일례로 예전에 한국기술산업 이라는 종목이 있었 습니다\\\\n거래소에서 우량종목 편입후 얼마 지나지 않아 상장폐지 했습니다\\\\n이때 거래소 지표만 믿고 투자한 투자자들은 엄청난 재산피해로 인해 자살직전 까지 간 사람도\\\\n있는걸로 알고 있습니다\\\\n거래소가 얼마나 관리감독이 엉망인지 보여주는 일례 입니다\\\\n우리 소액 주주는 설자리가 없습니다 누굴믿고 투자를 하겠습니까 힘들게 고생해서 아끼고 아껴서  모은돈  먹튀사기로 모든것을 잃었습니다\\\\n억울 합니다\\\\n이 억울함을 문대통령 께서 꼭 좀 풀어 주십시오\\\\n그리고 제가 정책제안 한가지 하겠 습니다 저는 법에 무지 합니다\\\\n거래소의 상장시 상폐보험 또는 상폐보증금 가입업체나 기타 소액주주를 보호할 수 있는 안전장치법안 가입업체에 한해서 엄격히 상장한다  입니다\\\\n이법을 신설제정 해야 한다고 생각 합니다\\\\n거래소의 약2000종목을 일일이 감시 관리감독은 사실상 불가 합니다\\\\n이런법안이 신설제정되면  기업사냥꾼 이나 최대주주의 비리와 먹튀를 방지 할 수 있다고\\\\n생각 합니다\\\\n외국 투기 먹튀 자본이 침투 하고 있습니다 기타 자본시장법 개정안도 필요 하다고 생각 합니다\\\\n부디 거래소의 적폐와 갑질횡포를 바로 잡아 주십시오 소액주주의 권리 찾아 주십시오\\\\n시장이 바로선나라 약자가 보호받는 나라 서민이 보호받는나라 정의가 바로선 나라 꼭좀\\\\n만들어 주십시오\\\\n끝으로 문대통령님의 노고에 다시한번 고개숙여 감사드리며 바쁜 국정운영에 불편을 드려 죄송 합니다 두서없이 쓴 장문의글 읽어 주셔서 고맙게 생각하며 아울러 과거 정부에서는 생각하지도못한 청와대 소통의 장을 마련해\\\\n주셔서 정말 고맙습 니다1. 들어가며(현재 상황)\\\\n공직복무관리관실의 감사로 인하여 현재 교수 4인 및 학과조교가 공금횡령 등의 범죄로 중징계를 받은 상태이다(이에 대해서는 약 20,000,000원의 금액에 대해서만 처벌이 이루어 졌으나 장부조작을 통해 위 금액의 몇 배에 달하는 횡령액이 있을 것으로 추정된다). 징계를 받았음에도 불구하고 횡령금액에 대한 후속조치(환급문제)와 신임교수 채용 등에 대해서 범죄 사실에 대해 인지하지 못하고 지속적으로 비리를 저지르고 있는 실정이다. 내용은 아래와 같다.\\\\n2. 교수 채용 비리\\\\n현재 2명의 신입교수를 채용하는 과정에서 총장의 부재를 틈타 부당한 방법으로 교수 채용 절차를 자신들의 편의에 맞도록 조정하였으며 이를 통해 담합하여 자신들의 사익을 위하여 조종할 수 있는 대상을 교수로 채용하였다. 지원자들 중에 전공일치도를 고려한 연구 실적 등에서 월등히 하위권임에도 불구하고 부당한 방법으로 교수 채용을 단행하였다. 이렇게 하여 현재 2명(권대광, 가은아)이 최종 선발되었으며 9월 1일자로 임용발령을 기다리고 있는 상태이다. 만일 이 2명이 임용되었을 시에는 기존의 적폐세력에 공조하여 더욱더 비리에 가담할 것이다.\\\\n3. 횡령금액에 대한 후속초지\\\\n약 20,000,000원의 공금 횡령 금액 중 일부 3,600,000원에 대해서만 환급한 상태이며 나머지 금액환급에 대해서는 침묵으로 일관하고 있다. 한국장학재단에서 8월 17일 (목)까지 약 17,000,000원에 대한 환급 명령을 내렸음에도 불구하고 현재 정직 상태인 징계 교수들은 해외로 여행을 가거나 전화를 받지 않는 등 도피성 태도를 취하고 있다. 이는 엄밀히 직무 유기이며 적폐 세력을 처단해야 하는 현 정권에 대한 도전으로 판단된다.\\\\n4. 나오며\\\\n이밖에도 논문심사비 부당 취득 혐의, 대학(원)생 성희롱 및 성추행 혐의, 학과 연간 예산(매년 약 20,000,000원) 횡령 혐의 등 말로 형용할 수 없는 만행들을 저지르고 있다. 자신들의 사익을 지속적으로 취하기 위하여 국립대학교에서 교수 채용 비리를 저지를 정도로 추악한 적폐 세력이다. 이들의 혐의점은 이미 올해 실시된 공직복무관리관실의 감사 내용으로도 충분히 소명되었다고 생각된다. 하루라도 빨리 부당한 교수 채용 비리의 임용을 유예해야 할 것이며 이에 대한 추가 수사 및 감사를 요청하는 바이다.전국수영연합회 대한수영연맹 관리위원회 수영 종목단체 통합에 대한 문제점\\\\n1. 현 황\\\\n국민생활체육전국수영연합회는 2001년 출범하여 2004년 4월 4개 시, 도 연합회로 시작해 국민생활체육협의회에 준회원으로 가입하였고 2017년 현재정회원단체로 14개 시, 도 국민생활체육수영연합회가 구성되어있으며, 전국 수영 동호인만 80만에 이르는 생활체육수영종목 메카이며, 대한민국 각종 생활체육수영대회, 수영지도자 검정시험, 불우청소년 행복나눔수영교실, 노인실버 수영교실, 통일염원 임진강 수영대회, 2004, 2005년 세계최조 울릉도 독도92km 수영종단 등 100여개 이상에 이르는 전국아마추어 수영대회 개최 등, 국민의 건강과 우리나라 생활체육수영발전을 위해 최선을 다하고 있는 대한민국 최고의 생활체육 수영단체입니다.\\\\n2. 문제점\\\\n2016년 대한민국 체육발전과 국민 건강증진의 일환으로 대한체육회와 국민생활체육회의 통합과 종목단체 통합에 부합하고자 2016년 3월 24일 올림픽 파크 텔에서 임시 대의원 총회를 개최하여 국민생활체육전국수영연합회와 대한수영연맹 간 통합을 완성하기로 합의하였으나 무산되었습니다.\\\\n그 이유는 대한민국 국민이면 모두가 알고 있듯 대한수영연맹 및 지역연맹 임원 10여명이 국가대표 선발을 둘러싼 금품 비리와 공금 횡령으로 기소되었고 이로 인하여 2016년 3월 24일 오전 10시 대한체육회 이사회에서 대한수영연맹이 관리단체로 지정되었기 때문입니다.\\\\n또한 수영종목의 통합은 국민생활체육전국수영연합회와 대한수영연맹 관리위원들 간의 협의로 통합에 이르러야 함에도 불구하고, 2016년 5월 13일 문체부와 대한체육회 에서 일방적으로 정부 측 인사 3명 연맹측 인사 3인 그리고 연합회 측 인사 3인등 총 9인으로 통합위원회를 구성하였습니다. 그러나 연맹 측 인사 3명중 지역연맹 비리에 연루되어 지정된 관리단체 임원이 포함 되어 있어 교체를 요구 하였으나 2016년 당시 문체부 에서 묵살하여 시정 되지 않았습니다.\\\\n그리고 1, 2차례 통합정관에 대한 논의가 있었으며 통합 정관을 작성하기에 이르렀으나 이는 문체부의 일방적인 결정으로 국민생활체육전국수영연합회와 대한수영연맹 관리위원간의 합의에 이르렀다고 할 수는 없으며, 전국수영연합회 요구한 연맹측 통합 추진위원 교체 사항에 대하여 모두 무시하고 회의를 진행하여 더 이상 통합 회의에 참석할 필요가 없었고 판단하여 본회 요구사항이 시정 될 때 까지 통합회의 소집에 대응 하지 않았습니다.\\\\n2016년 5월 13일 이후 대한수영연맹 관리위원회는 전국수영연합회를 배재 하고 수영종목 통합과정을 진행하였으며 이는 체육단체 통합법을 무시하고 당시 권력을 이용하여 독단적으로 통합과정을 진행한 대한수영연맹 관리위원회의 수영종목단체 통합은 원천 무효 입니다.\\\\n2017년 현재 대한수영연맹 관리위원회 와 전국수영연합회 가 통합 되었다고 하여 2017년 1월부터 전국수영연합회의 예산, 임원구성, 모든 사업, 직원급여 모두 중단하여 사무실 전기, 전화도 끈기고 직원들은 신용불량자료 넘어가게 생겼습니다. 대한수영연맹 관리위원회의 계속되는 악행으로 생활체육수영종목만 죽어나가고 있습니다.\\\\n3. 개선사항\\\\n수영연합회는 정상단체이고 대한수영연맹은 관리단체 이므로 대한체육회 통합정관 규정, 관리단체규정에 근거하여  대한야구협회, 족구 협회 와 같은 방식으로 국민생활체육전국수영연합회가 전, 대한수영연맹을 흡수 통합할 수 있도록 해야 하나 전 세계 체육인들의 축제인 동계올림픽등 국가적 큰 행사가 있으므로 대한수영연맹 관리위원회 와 전국수영연합회 가 체육단체 통합법에 의거 하여 문체부 관계자의 협조 하에 전국수영연합회의 모든 사업과 권한을 다시 돌려받고 임원구성, 생활체육 직원 승계, 회장 선출 등 통합에 대한 과정을 다시 진행해야 할 것입니다\\\\n전국수영연합회는 임원들의 출연금과 적은 정부예산으로 오직 생활체육 수영종목 활성화에 최선의 노력을 다하는 대한민국 최고의 생활체육 단체 입니다. 대한체육회와 대한수영연맹 관리위원회의 독단적인 통합은 종목단체 통합 취지에 역행하는 행위이며 전국수영연합회는 해산총회 조차도 하지 못한 상태 입니다 결국 지금에 이르기까지 수영종목은 올바른 통합에 이르지 못하였으므로 현재 통합자체를 무효 하고 처음부터 관계부처 관리 하에 적법하게 대한수영연맹 관리위원회와 전국수영연합회 통합추진위원 들과 처음부터 통합에 대한 모든 과정을 진행 하여야 해야 것입니다. 이 또한 전국 1천600만 생활체육인과 대한민국 수영종목을 아끼는 80만수영인들의 바램이기도 합니다.\\\\n존경하는 위원장님 80만 대한민국 수영동호인 은 통합수영연맹의 정상화를 기다리고 있습니다. 잘못된 수영종목 통합을 바로잡아 주시고 국민이 진정으로 원하는 대한민국 수영 종목이 될 수 있도록 바로잡아 주시길 간곡히 부탁드립니다.  감사합니다.\\\\n국민생활체육전국수영연합회 일동\\\\n전남수영연합회 회장 이관웅\\\\n목포고등학교 교장 이현천\\\\n부산수영호인 회장 김방헌\\\\n전 생활체육사무처장협회 회장 박상구\\\\n경남수영연맹 부회장 이후락\\\\n구미여중 교사 장필구\\\\n구미스포츠센터 대표 곽진성지난\\xa07월\\xa020일 공공부문 비정규직의 정규직 전환 가이드라인을 발표한 정부는 강사와 기간제교사를\\xa0‘정규직 전환대상’에서 제외하였습니다.\\xa0지난\\xa020년 동안 온갖 차별과 부당한 대우를 참으며 고용불안에 시달리면서도 의무와 책임을 다하였던 기간제교사들은 실망과 분노에 휩싸였습니다.\\\\n정부는 그동안 교육 현장에 부족한 교사를 대신하고 비용절감을 위해\\xa04만6천여 명의 기간제교사를 양산해 전체 교원의 약\\xa010%에 이릅니다.\\\\n지금도 한국의 교사\\xa01인당 학생 수는 절대적으로 많습니다. OECD\\xa0평균 수준에만 맞추려 해도 교사\\xa06만 명 이상을 증원해야 합니다.\\\\n기간제교사들은 정규 교사와 같은 일을 하면서도 관리자로부터 부당한 요구와 차별을 받는데,\\xa0\\xa0이런 조건은 기간제교사들이 충분한 역량을 발휘해 더 좋은 교육을 제공하기 어렵게 만듭니다.\\xa0\\xa0 \\xa0\\xa0이로 인한 피해는 결국 학생들과 이들의 부모인 대다수 노동자들에게 돌아갈 것입니다.\\\\n기간제교사 제도 등 “비정규직 백화점”으로 불리는 학교에서 학생들에게 ‘어떤 이유로도 차별을 해서는 안 된다’고 교육을 할 수 있을까요?\\xa0학생들은 노동의 가치와 노동자에 대한 왜곡된 가치관을 갖게 될 것입니다.\\\\n노동자는 누구나 정규직 노동자로 살아가야 합니다.\\xa0그러나 정부가 정교사를 확충하지 않고 기간제교사를 계속 양산하는 한 대부분의 교대생과 사범대생들도 미래에 기간제교사가 돼 차별을 받으며 살아갈 것입니다.\\xa0또한 학교는 과밀학급으로 인해 학생들의 학습권이 침해될 것이고 교사들은 여전히 강도 높은 노동을 해야 할 것입니다.\\\\n질 높은 교육 실현과 예비교사들의 미래를 위해 다음과 같이 요구합니다.\\\\n‘정교사를 확충하고,\\xa0기간제교사 정규직화하라!’\\\\n\\'기간제교사도 교사다.\\xa0기간제교사 정규직화하라!’광화문 같이 잘 알려져 있고 유동인구가 많은 곳에 스피커즈 코너 (Speaker\\'s Corner) 을 설치해 주십시요.\\\\n온라인도 중요하지만, 비슷한 성향의 사람들이 모이는 경향이 있어서, 국민들끼리 서로 소통할 수 있는 조금은 다른 성격의 플랫폼이 필요하다고 생각합니다.\\\\n관심이 있는 소재이고 시간이 허용하면, 큰 군중이 모이지 않아도 항시 이용될 공간이 될 것 같습니다.\\\\n시위 등이 아니라면 오프에서의 발언 기회는 일반시민에게는 적습니다. 누구든지 쉽게 자신의 목소리를 내고 즉흥적으로 다른 사람들과 얼굴을 마주보고 이야기 할 수 있는 공간을 만들어 주세요.\\\\n특정인이나 단체가 독점하지 못 하도록 관리해 주십시요.안녕하세요. 저는 서울문영여자고등학교에 재학 중인 1학년 김가영입니다. 저는 교내에서 우리 사회에서 발생하는 문제점을 찾고 개선해 나아가는 활동을 하게 되었습니다. 문제점을 생각하던 중 저는 영어 수업 중 엠마 왓슨의 페미니즘과 양성평등의 내용을 다룬 유엔 연설이 생각났습니다. 성차별은 우리 사회는 물론 세계에서도 발생하는 가장 큰 문제점입니다. 성차별은 사실 민감한 내용이기에 대단히 조심스럽습니다. 하지만 성차별은 누가, 언제 상관없이 우리 모두가 반드시 해결해야 할 문제입니다.\\\\n처음에 저는 다양한 사례들을 조사하면서 여혐이나, 남존여비사상, 유리천장 등의 양성평등을 가로막던 문제를 알게 되었습니다. 이러한 문제 중 “여자를 혐오한다.”라는 뜻인 여혐이라는 단어는 작년에 알다시피 ‘강남역 화장실 살인 사건’이라는 참혹한 결과를 일으켰습니다. 저는 이러한 문제에 대해 사람들의 양성평등 인식이 궁금하여 3가지 문항의 설문조사를 했습니다. 결과는 제가 생각하는 정도 이상으로 대부분 사람은 양성평등이 잘 이루어지고 않다고, 성차별을 당한 경험이 빈번했다는 결과가 나왔습니다. 그중 여성분들은 대부분 유리천장 등의 성차별을 겪었고 남성분들 또한 차별받고, 불이익을 받는 사례도 있었습니다. 실생활뿐만이 아니라 각종 SNS나 사이트 등 인터넷상에서는 서로 성별을 혐오하는 이야기 하며 폐쇄적인 집단으로 형성하는 일들도 있습니다. 이렇게 직접적 간접적으로 성차별이 빈번합니다.\\\\n위의 여러 문제점을 해결하기 위해 정부는 여러 실질적인 정책과 제도가 필요합니다. 성차별은 누가, 언제 상관없이 우리 모두가 해결해야 합니다. 양성평등은 양쪽 성이 동등한 사회적 지위, 권리, 의무를 갖는 것입니다. 양성평등이 이뤄지는 날이 오길 바라며...  바쁘실 와중에 긴 글을 읽어 주셔서 감사합니다 :)나라가 교육을 결정한다? 아닙니다.\\\\n교육이 나라의 미래이고 국가의 근본입니다.\\\\n교육의 중요성을 모르는 사람은 없을거라 생각합니다.\\\\n그렇기 때문에 기간제 교사의 정규직 전환과 같은 중대사를 결정함에 있어 이해관계 당사자인 학생, 학부모, 교사, 임고생, 사범대생을 제외한 심의는 그 어느 누구도 받아들일 수 없습니다. 대통령님께서도 중요시 여긴 국민과의 소통이 이루어지지 않은 정책을 국민이 어떻게 받아들일 수 있을까요?\\\\n그리고 학교는 배움의 장이지 일자리를 창출하는 곳이 아닙니다. 기간제교사의 정규직화 전환, 영전강과 스전강의 무기계약직. 이와 같은 정책은 학생의 교육권을 침해하는 정책입니다. 누구라도 배움에 있어 부족함 없이 질 좋은 교육을 받아야 합니다. 그러나 기간제 교사는 교사로써 지식에 대한 전문성, 학생의 지도함에 있어 바른 인성 등을 확인하는 임용고시를 통과하지 못 하였는데, 어찌 이 분들을 현직쌤과 동등하게 보고 아이들에게 똑같은 교육을 할 수 있다고 보십니까? 또한 영어전문강사, 스포츠전문강사님들은 교원자격증을 소지하지 않고 학생들을 지도하시는 분들이 많은데, 이 분들이 학생들에게 전문적인 지식을 가르칠수 있을지는 몰라도 학생의 눈높이에서 가르치지는 못한다고 단언 합니다. 저희 임고생들과 현직선생님들은 하루도 안 빠지고 매일 같이 고민합니다. 어떤 점에서 인지적 갈등이 유발될까? 이를 위해 어떻게 가르쳐야 할까?\\\\n과연 강사님들께서 이와 같은 고민을 해본적이 있을까요?\\\\n저희는 매일 같이 연구하고 준비하고 노력합니다.\\\\n이 외에도 많은 문제가 있고 이를 아는건 저희 예비교사와 현직교사인데, 왜 교육부에서는 저희와 소통하지 않으신가요? 대학교수님들 보다 저희가 더 전문가입니다. 저희가 현장에 있는데 왜 저희의 이야기를 들어주지 않으신가요?\\\\n교육은 국가의 미래입니다. 저는 국가가 낭떨어지로 가는 길을 볼 수 없습니다. 대통령님께서는 예비교사와 현직교사들이 교육부와 또는 대통령님과 함께 소통하는 자리를 만들어 학생의 교육권을 보장해주시기 바랍니다. 저희 교사들과 학생들에게 정의로운 결과를 보여주세요.안녕하세요 임용을 준비하는 수험생입니다. 저는 기간제 교사의 정규직화 무기계약직화를 반대합니다.\\\\n기간제 교사는 정교사가 출산,휴가,해외 연수 등 여러가지 이유로 자리를 지키지 못할 때 대체하는 임시직입니다.\\\\n더불어 그 채용방식이 공개채용에 비해 교장이나 교감 등 지인의 추천으로 알음알음으로해서 들어가는 경우가\\\\n부지기수입니다.  따라서 기간제교사를 정규직화 또는 무기계약직으로 전환하는 것은 아이들의 교육의 질을 저하시킬 우려가 했습니다.\\\\n교원의 전문적인 전공지식, 교육학 적용, 수업, 면접등을 거치지 않고 들어가지 않은 경우가 많기 때문입니다. 또한 엄연한 국가채용제도가 있음에도 불구하고\\\\n기간제 교사를 정규직화시키는 것은 수많은 임용생들에게 역차별이 될 것입니다.  임용을 보류하고 현장에 나간 기간제교사를 전환하는 것은 임용을 위해\\\\n여러 기회비용을 포기하면서 정말 힘들게 공부한 고시생들에게 많은 좌절과 상처를 안겨줄 것입니다. 제발 다시 한번 생각하여 주십시요.안녕하세요. 요즘 참 바람잘 날 없는 대한민국입니다. 대외와 대내가 모두 많은 위협과 도전에 직면해 있습니다.\\\\n이 와중에 대한민국 대통령님의 능력이 절실한 실정입니다.\\\\n저는 30대 후반 두 아이를 둔 가장입니다. 직장 생활을 한지는 10여년 되었습니다. 제 직장이 전국구 인지라 저는 서울에 집을 살 생각을 하지 못하고 지방에서 전세를 살았습니다. 그러나 올 해 큰 아이가 초등학교에 진학하면서 아이를 위해 서울로 가야 할 때도 오겠구나 싶은 마음에 서울에서 그나마 저렴한 지역의 재개발 빌라를 매매하여 취득하고 당장은 살 수가 없기에 전세를 주었습니다. 소위 정부에서 규정지은 투기과열지구 내 재개발 지역입니다. 저는 투기를 할 생각도 자금도 없었습니다. 단지 나중에 서울로 올 때 급하게 집을 사기보다는 좀 쪼들리더라도 지금부터 준비하면 좋겠다고 생각한 것 뿐입니다.\\\\n허나, 금번 8.2 대책으로 인해 참 어렵게 되었습니다. 사업시행 시 이주비가 30~40%로 줄어들었습니다. 제 생각에 정부 정책자분들은 오로지 강남을 기준으로 금번 대책을 수립한 것 같습니다. 강남이야 집값이 10억정도 되니 이주비 30~40%면 3~4억 정도 받고 어디 외곽에 전세를 얻을 수 있겠지요. 하지만 제가 구매한 지역의 집값은 2억정도 됩니다. 2억의 30~40%면 6천~8천만원 입니다. 도대체 6~8천 만원으로 서울이나 경기도 어디에서 전세를 얻으라는 말입니까. 정말 이렇게 아무생각 없이 정책을 만들수가 있는지 어처구니가 없습니다.\\\\n하여 제안드립니다.\\\\n1. 재개발, 재건축 등 이주비 LTV 정책을 다시 고려해 주십시오.\\\\n- 최소 사람이 새로운 거주지를 살 정도의 금액은 나와야 하지 않겠습니까. 10억짜리 집이랑 2억짜리 집이랑 똑같이 뭉뚱그려서 40%로 해버리면 대체 어쩌자는 얘기인가요. 금액에 따라 차등을 두던지 이주비 상한액을 설정한 후 그대로 LTV 60%를 두던지 해야하는거 아닌가요?\\\\n2. 소급적용 하지말아 주십시오.\\\\n- 금번 대책 중 양도세 면제를 위해선 부동산 취득 후 2년 실거주해야한다 라는 조건이 추가되었습니다. 그런데 재개발이나 재건축의 경우 사업이 언제 진행될지도 모르는데 그걸 어떻게 딱 맞춰서 실거주 2년을 하라는 건가요. 직장이 계속 서울에 있다면 뭐 그렇게 하기도 하겠지만, 보통 사람들은 여기저기 옮겨 다니는게 일반적인데 서울에 가서 실거주를 하는 시기와 매매해야 하는 시기를 어떻게 딱 맞추나요. 재개발, 재건축은 새로운 아파트 등기가 아니라 기존 부동산을 가지고 있던 사람들은 실거주 요건을 제외하여야 한다고 생각합니다.\\\\n3. 정책을 좀 더 세분화해 주십시오.\\\\n- 금번 대책은 한마디로 잡탕밥입니다. 정부 당국자 입장에선 이런거겠죠. \\'위에서 자꾸 쪼니 그냥 대충 쎈거 다 넣어서 보고하자\\' 이정도 입니다. 중학생도 만들 수 있는 정책입니다. 그냥 있는거 다 넣어서 양념만 좀 해서 비비면 끝이니까요. 누가 어떻게 피해를 볼 지 전혀 고려한 흔적이 없습니다. 그냥 \\'에라 모르겠다 그냥 다 죽어라\\' 이런 정책입니다. 부동산 가격에 따라, 주택 보유 수에 따라 좀 더 세분화가 필요합니다. 50억 짜리 부동산 한 채있는 사람, 10억짜리 전세살면서 소득세 적게내는사람, 2억짜리 주택 2채 있는 직장인, 집 10채 갭투자 하는 사람 중에 누가 서민이고 적폐인가요? 집도 집 나름이고 다주택도 다주택 나름입니다. 그냥 에라 모르겠다 식의 정책은 수많은 피해자를 양산할 것입니다.\\\\n대통령님!! 단 한명의 국민 권익이라도 지켜야하는게 나라 아니었습니까? 대를 위해 소를 희생시키는 것이 대통령님의 정치 철학이셨나요? 좀 더 살펴봐 주십시오. 금번 대책으로 피해입는 서민들이 너무도 많습니다.\\\\n부디 부동산 문제만큼은 조금 더 차근차근 꼼꼼하게 다시 정책을 만들어 주십시오.\\\\n국민의 주거 문제입니다. 선량한 피해자가 최소화 되도록 다시 검토 부탁드립니다.\\\\n감사합니다.변리사 시험은 특허제도 등의 전문자격자를 뽑는 제도로 사법시험과 함께 오랜 역사를 갖고 있습니다.\\\\n특허청에서 관리를 하다가 일부 전문 자격증들과 함께 한국산업인력공단에서 통합 관리를 한 2000년대 이후로 시험의 형평 공정 문제가 끊이지 않고 있습니다.\\\\n올해는 특히 필수과목인 상표법에서 출제위원이 특정 사립대학의 학생만 신청 가능한 특강자료에서 극히 유사한 문제를 출제하는 바람에 공정성에 큰 문제가 있게 되었습니다. 본 특강은 다른 학교 학생들은 존재의 유무조차 알 수가 없거나 자료는 비공개이기 때문에 그 수업을 들은 학생만 채점 기준표와 출제 방향 등의 유리한 자료를 직접 \\'출제위원급\\' 교수들로부터 배울 수 있도록 합니다. 올해 2차시험 상표법에서 1번과 3번 문제가 \\'작년\\' 특정 학교의특강에서 출제한 문제 중 하나로서 특강을 들은 학생과 그렇지 못한 학생간에 분명한 풀이의 차이가 있고 채점에도 영향을 미쳐 소수점 차이로 당락이 결정되곤 하므로  불공정 문제는 자명하다고 볼 수 있습니다.\\\\n한국산업인력관리공단은 이러한 문제를 수많은 민원사항으로 인지하고 있었으며 해소할 제도도 갖추고 있으나 문제는 매해 반복됩니다. 검토위원 제도로 당해 시험 출제후 검토를 거치나 단순 오탈자 체크만 할 뿐 출제위원의 문제 난이도 면을 고려하지 못하고 일부 특강자료를 배제할 권한이 실질적으로 없도록 운영하고 있습니다.\\\\n문제를 해결하기 위해선 궁극적으로 산업인력관리공단에서 다시 주관부서를 특허청 등으로 이관하는 방법이 있겠으나 변리사 시험의 공정성은 매년 수천명의 수험생이 인생을 걸고 공부하는 시험이기에 조속한 해결이 필요하고 1년조차 소홀히 할 수 없는 문제입니다. 따라서 검토위원 제도의 실효성을 높이고 최근 몇년간대학 특강에서 출제된 문제 등의 철저한 배제를 요구합니다.\\\\n변리사 2차시험은 선택과목간 형평성 문제도 있습니다. 선택과목은 수십개가 되나 일괄적으로 필수과목과 점수 합계를 내어 합격자를 가리는 방식으로 과목별 난이도 등을 보완할 수단이 전무합니다. 따라서 어느 해는 어떤 과목이 난이도가 쉬워 필수과목과 합산시 합격에 매우 유리한 반면 어떤 과목은 난이도가 어려워 그 과목 선택자는 합격자가 전무하기도 합니다. 따라서 수년간의 반복된 문제에 선택과목은 그대로 두되 P/F제도를 도입하여 일정 점수만 선택과목에서 넘으면 되도록 내년부터 시행하려합니다. 다만 이 제도로도 선택과목별로 난이도가 일정하게 유지되지 않는다면 문제의 근본적 해결은 되지 않습니다.\\\\n따라서 산업인력관리공단은 출제와 채점을 전문가의 전문소양에 따른 결과라하여 이러한 산적한 문제를 방치하지 말아야하며 검토위원의 권한으로 불공정성을 해소하기 위한 노력이 필요할 것입니다.부동산 투기를 잡고 집값을 안정시키겠다는 대통령님과 정부의 의지에 절대적인 찬성을 보냅니다.\\\\n지난 정부의 실책으로 투기꾼들은 큰 돈을 벌었을지 모르지만 그렇지 않은 대다수의 국민들은 하늘 높은 줄 모르고 올라가고 있는 집값에 망연자실하며 거의 포기상태에 놓여 있습니다.\\\\n일자리 정책도 좋고 다 좋지만 내 가족이 마음 편히 쉴 공간인 집이 없는 상태에서 누가 결혼을 하며 누가 아이를 낳겠습니까?  그러한 모든 것을 고려하여 지난 8.2 대책이란 강력한 부동산 대책을 내 놓으시어 지금 당장은 잠시 숨고르기에 들어 간것처럼 보이실테지만 지금 이 시간에도 부동산 카페에서는 8.2 대책을 파리대책으로 부르며 그까짓 양도세, 존버 정신으로 버티면 그만이다, 전.월세 올려버리면 되지, 한 번 올라버린 부동산 내리는 것 봤나. 조금만 기다리면 또 오르게 되어 있다라고 대통령님과 정부를 비웃고 있습니다.\\\\n투기꾼과 부동산중개인의 농간으로 다운계약이 성행하니 집값이 내렸다고 보여지시겠지만 결코 아닙니다.\\\\n특히, 이번 정책에서 비켜난 부산은 그 풍선 효과로 오히려 전보다 더했으면 더했지 결코 못하지 않습니다.\\\\n서울, 경기야 지방보다 일자리도 많고 생산직도 많으니 인구, 특히 젊은층의 비율이 높겠지만 여기 부산은 노인 인구 비율이 더 높고 변변한 일자리도 없어 젊은이들도 떠나고 있는 마당인데 몰려든 투기꾼들로 인하여 집값만 올라가 있습니다.\\\\n조정지역에조차  해당되지 않은 금정구의 4억에 분양된 아파트, 아직 건축중인데도 벌써 8억이네요. 한군데 새 아파트가 분양되어 저런 시세가 되면 그 근처 모든 아파트가 덩달아 그 시세가 되어버리는 기막힌 일이 벌어집니다.\\\\n왜 부산을 비롯한 지방은 방치하십니까?\\\\n핀셋규제 하신다지만 과열되어 있는 광역시급 지방은 안중에도 없으십니까?\\\\n서울, 강남만 사람 사는 곳이 아니고 일자리 부족하여 서울보다 더 가난한 사람들이 살고 있는 곳이 지방이란걸 제발 알아 주십시오.\\\\n그리고 한 가지 더 말씀드리자면, 앞에서도 말씀드렸듯이 양도세 정도의 규제는 비웃음만 사실 뿐입니다. 양도세때문에 집을 내 놓을 투기꾼은 100명중에 10명도 안될것이며 오히려 낡은 1주택 소유자가 새집으로 이사가지 못해 정부를 원망하는 결과만 초래할 것입니다.\\\\n부동산 카페들, 그들의 모임을 살펴본 결과 결국 제일 두려워 하는 것은 전월세 상한제를 바탕으로 한 보유세 강화( 단 절대 1주택은 올리시면 안됩니다. 전기세처럼 누진제 하시면 됩니다)와 후분양뿐입니다.\\\\n제발 누군가가 갖다 바치는 그럴듯한 수치만을 보지 마시고 현실을, 실체를 파악해 주십시오.\\\\n한번에 밀어 붙이지 않으시고 이번에 안되면 다음에 좀 더, 그 다음에 좀 더, 이런 찔끔 정책은 그들의 맷집만 불리고 내성만 키울 뿐입니다.\\\\n역대 최고의 지지율을 유지하고 계신 지금이 적기입니다.\\\\n소수의 투기꾼이 아닌 대다수의 국민만 보고 가십시오.\\\\n현실을 보십시오.\\\\n간절히 바랍니다.최근 부영아파트 하자 관련 이슈가 부각되고 있습니다.\\\\n양우건설업자들이 분양은 지속적으로 하면서 시설 공사에 대한 하자는\\\\n관심을 두지 않고 있습니다.\\\\n지금 제가 살고 있는 아파트도 장판 하자에 대한 하자보수에 대해\\\\n관리소에서 매 번 양우내안애 건설업체에게 문서를 보내지만\\\\n답변은 없습니다.\\\\n이렇게 일방적으로 무시를 해도 되는건지...\\\\n이 업체는 최근 속초 옆에 양양이란 곳에 분양을 하였더라고요\\\\n건물 하자보수에 대한 적폐가 청산이 안되고 있는 상황에\\\\n또 보란듯이 분양을 한다는 것은 속초 양우내안애에 살고 있는 시민을 우롱하는 것입니다.\\\\n비단, 양우만의 일이 아닐거라 생각됩니다.\\\\n말로만 책임시공 외치지 말고 책임을 져주는 사회가 되었으면 하는 바램으로\\\\n최근 이슈가 되고 있는 부영아파트 하자 관련해서 다른 아파트의 현 상태를\\\\n말씀드려봅니다. 몇 억 들어가는 공사에 공무원 승인만으로 준공이 되어 잔금을 다 납부하란것은 문제가 있으며\\\\n하자 발생시 담당 공무원도 책임을 져주지 않는데 입주민에게만 책임을 전가하는것은 문제있습니다.\\\\n청원. 1. 아파트 준공 시 하자가 발생하여 하자처리기간이 늦어질 경우 책임준공승인을 낸 시에서 지연처리에 대한 보상 및 책임을 져주세요.\\\\n2. 일정 잔금을 납부않고 입주 후 하자 처리가 완료 되었을 경우 입주민 승인 하에 잔금을 지급하였으면 합니다.\\\\n이상입니다. 감사합니다.유기견이었던 강아지를 데려와서 어느새 12년이 훌쩍 넘도록 키워오고 있습니다.\\\\n사람도 그렇듯이 강아지도 이제는 노견이 되어서 이곳 저곳 아픈 곳이 많아\\\\n계속 동물병원을 다니고 있습니다.\\\\n병원비가 너무 부담이 되어\\\\n안락사도 생각해봤지만\\\\n그래도 생명이고, 살릴 수 있다면 어떠한 것이라도 해야 한다는 생각에\\\\n계속 치료를  받아오고 있습니다.\\\\n강아지 병간호야 제가 수고하면 되는 일이지만\\\\n매달 약값만 30만원씩 되는데 강아지가 무지개 다리를 건너기 전까지는 계속 이 약을 먹어야만 한다고 합니다.\\\\n심지어 진료비 및 검사비는 할때마다 10여만원씩 청구가 됩니다.\\\\n혹시나 다른 병원을 알아봤지만 다들 비슷한 수준이었습니다.\\\\n그동안 키워온 정으로, 또한 살릴 수 있다면 살려야 하고 이 아이를 포기할 수가 없는데..\\\\n아무리 생각해보아도 현재의 동물병원 진료비는 너무나 비싼거 같습니다.\\\\n동물병원 의료수가제가 폐지되고 난 이후로 진료비가 일제히 너무 많이 올랐습니다.\\\\n심지어 부가세까지 포함이 되더라고요..\\\\n가족과도 같은 반려동물을 살릴 수 있도록 동물병원 의료비를 낮출 수 있는 정책을 만들어주시길\\\\n부탁드립니다.존경하는 문재인 대통령님!\\\\n저는 중등 영어과 임용고시를 준비하는 수험생 엄마입니다.\\\\n저는 60년대 생 80년대 대학을 다닌 86세대이며 87년 6월 항쟁,  2016년 촛불혁명에 직접 참가한 대한민국의 평범한 소시민입니다.\\\\n문재인 대통령 당선을 누구보다 기뻐 했으며 새정부 출범 후 대통령님 뉴스 보는 게 늘 즐거움이었습니다.\\\\n추경을 통해 공공부분 일자리 증원하고  청년들에게 희망을 주는 대통령, 일자리 대통령, 교사증원 뉴스를 보고 기대를 가졌습니다.\\\\n근데 이게 웬일인가요?  늦은 사전예고를 통한  교사증원은 수업도 안하고 담임도 생활지도, 생기부 작성도 안하는 보건 , 영양, 상담, 교사만 두배 이상 늘리고 국영수 특히 영어과는 티오가 줄었다는 작년에 비해서도 반토막이 났습니다.\\\\n경북 0명 울산 0명 대구 7명..  입학때 부터 교사의 길만 바라보고 사범대 진학하여 4년 이상(어학연수 1년)을 준비해온 우리 아이들 같은 임고생들 에게는 어찌 이리 절망감만 안겨주시나요? 대구경북에만 사범대 영어교육과 졸업생이 몇 명입니까? 교직이수와 교육대학원 까지 합치면 영어 임용고시 준비생이 500명은 넘을 듯 싶습니다.\\\\n우리 아이들에게 닥친 현실의 벽이 너무 높습니다.  무조건 열심히 하면 합격한다고 희망을 주기에는 너무나 모집인원이 적어서 현실적이지 못합니다.\\\\n과연 열심히 하고 실력 있다고 합격할까요?\\\\n4년 이상을 준비한 교사자격증을 가진 사람만 응시하는 허수가 없는 1년에 딱 한번 있는 시험에 합격률이 2-3% 정도입니다.\\\\n식품영양학과는 처음부터 교사가 되겠다고 사범대 진학한 사람들도 아니고 보건교사도 간호사진로를 위해 선택한 사람들입니다. 그런데 그런 비교과는 두배로 늘려 경쟁률을 낮게 만들고\\\\n오직 교사만을 위해 4년이상을 준비해온 다른 길도 없는 교과 교사 준비생들에겐 너무나 처절하고 참담한 상황입니다.\\\\n교육환경 개선을 위해서는 교사의 질을 높이고 학급당 인원을 선진국 수준으로 낮추어야 한다고 생각합니다.  학생들을 직접 지도하고 상담하고 부대껴야 하는 교사들은 교과교사들입니다.  교과교사를 늘리는 것이 교육환경을 개선하는 것입니다.\\\\n중등 임고생이 작게 잡아도 5만명이 넘는다고 합니다. 그 가족 까지 함께 받을 고통을 생각하면 10만명 이상의 국민들이 절망하고 있습니다.\\\\n국영수 주요교과 과목 교사 선발 늘려야 하고 아울러 사범대, 교직이수 교육대학원 정원을 조정해서  청년들이 희망 없는 이 길로 처음부터 발을 들여 놓지 않도록 해야 합니다.\\\\n임용공부가 다른 취업공부와 공부 방향이 완전히 달라서 한 번 이 길로 들어 온 이상 다른 길로 돌아가기도 쉽지가 않습니다.\\\\n대부분 2-3%의 합격권에 내가 든다는 희망을 안고  몇년씩  어두운 독서실에서 암울한 생활을 하거나 기간제 교사로 전전합니다.\\\\n존경하는 대통령님 부디 우리 아이들의 처절한 절규를 귀담아 들으시고  정규직 교과 교사 증원을 부탁드립니다.\\\\n우리 청년들에  희망을 주세요\\\\n대구에서 중등 영어과 임용을 준비하는 수험생 엄마 올림저는 경기도 파주에 사는 사람으로 경기도 고양시 소재 중등과정 대안학교에 아이를 보내고 있습니다.\\\\n1. 청원 내용 (현황 및 문제점)\\\\n대안교육연대와 소속 학교들은 20여 년간 우리 사회의 서열화 교육에 대한 문제제기와 대안을 고민해 왔습니다. 이 과정에서 학교 안과 밖을 구분하는 것에 대한 문제제기 또한 꾸준히 해 왔습니다. 학교 이외의 방식에 대한 선택권의 보장이 우리 헌법과 교육기본법이 명시한 \\'능력과 적성에 따라 교육 받을 권리\\'를 실현하는 길임을 누차 주장해 왔습니다.\\\\n매년 서울과 경기도에서만 각각 2만여 명의 초, 중, 고 청소년들이 여러 이유들로 제도교육 밖으로 나오고 있는 실정입니다. 이들 가운데 비인가 대안교육기관에서 교육을 받는 청소년들도 매 해 약 5천여 명 (교육부 실태조사)에 이릅니다. 국민의 교육기본권을 보장하는 것이 헌법의 기본 정신입니다. 정부와 지자체에서  제도교육 밖 청소년들에게 정당한 교육기회를 보장하고 학습권을 보장하기 위해 노력해야 합니다. 헌법에 학교 안의 학생들만 교육받을 권리가 있다고 되어 있지 않습니다. 모든 청소년은 교육받을 권리가 있고, 국가 및 지자체는 학습권을 보장할 의무가 있으므로 제도교육 밖 청소년의 학습권 보호를 위해 적극적으로 정책을 추진해야 합니다. 똑같이 세금내는 대한민국 사람이고 자식들입니다만, 단지 학교안에 머물러 있지 않다는 이유로 각종 권리 등에서 배제되고 있는 현실은 수긍하기 어렵습니다. 2015년 세출예산 기준 학생 1인당 교육비는 전국 평균 768만원입니다. 대안학교의 경우는 어떠한지요?\\\\n개인의 출세와 성공을 위한 입시위주 교육이 아니라 생태와 평화, 민주주의에 대한 감수성을 지니고 협력할 줄 아는 사람을 기르는 교육을 하고자 하는 것이 대안교육의 본래 취지라고 봅니다. 생태와 평화, 민주주의는 이 시대가 요청하는 가치이고 교육이 마땅히 지향해야 할 가치라고 생각합니다. 대안교육을 바라보는 시선은 매우 다중적입니다만, 대안교육이 가지는 공교육으로서의 자격을 사회적으로 인증해 줘야 합니다. 교육의 문화를 바꾸는 일이고 사회의 문화를 바꾸는 일이어서 입니다. 아이들의 특성과 경험이 다양하기 때문에 배움도 다양해야 합니다. 교육부에서 운영하는 학교만이 유일한 배움터가 아닙니다. 제도권이든 제도 밖이든 우리 사회의 다양한 교육과정이 인정되고 어느 아이도 교육으로부터 소외되지 않도록 하는 것이 어른들의 의무이고, 국가는 그러한 교육환경을 만들어야 합니다.\\\\n2. 개선안\\\\n1). 비인가 대안교육기관에 대한 운영비 지원이 되어야 합니다. 교사 인건비, 교육 프로그램 운영비 등이 여기에 포함됩니다. 2). 비인가 대안교육기관에 대한 무상급식 비용이 지원되야 합니다.\\\\n3). 대안교육시설에 대한 시설 임대 또는 임대료 지원이 필요합니다.\\\\n4). 대안교육지원센타의 설립과 운영에 대한 지원이 필요합니다.\\\\n이상의 모든 것들을 담아내는 대안교육 지원법의 제정을 요구합니다.\\\\n\\'비인가 대안학교\\'에 대한 지원이 과거에 아예 없었던 것은 아닙니다만, 재원의 성격상 연속성이 없는 임의적인 성격의 특별교부금 등의 형태가 아니라, 법률적 근거에 의해 지원하는 방식이길 기대합니다.\\\\n또한 정부의 지원은 대안학교의 정체성과 운영의 자율성이 침해받지 않는 지원이어야 합니다.\\\\n3. 기대효과\\\\n1). 교육정책의 사각지대에서 사회적으로 소외되었으나, 대안교육기관에 대한 지원을 통해 교육기회 확대와 학습권을 보장받게 됩니다.\\\\n2). 다양한 교육과정을 통해, 보다 많은 아이들이 교육과정에서 소외되지 않고 교육의 기회를 누리게 됩니다.\\\\n3). 대안교육기관에 대한 무상급식 실시로 제도교육 밖 청소년에 대해 충분한 영양 공급이 이루어지고, 보편적 교육복지를 실현하게 됩니다.최근의 부동산시장 과열로 인한 정부의 대책들에 대해 일부 무리한 측면이 없는 것은 아니지만 전체적으로는 공감을 표하며 정부가 바라는 부동산시장의 안정화가 최대한 이른 시간내에\\\\n그 효과가 나오기를 바랍니다.\\\\n2016년 11월3일에 발표된 “�실수요 중심의 시장형성을 통한 주택시장의 안정적 관리방안 발표�” 내용중에 18쪽 3항을 보시면 아래와 같은 내용이 있습니다.\\\\n『③ 정비사업 대출보증 요건 강화 (HUG 내부규정, 11.3(목) 보증신청분부터)\\\\n□ (현행) 정비사업 대출보증은 관리처분인가 前, 일반분양분 분양 보증은 기존 건축물 철거 前에도 발급\\\\n□ (개선) 정비사업 대출보증은 관리처분인가 後, 일반분양분 분양 보증은 기존 건축물 철거 後에 발급하여 무리한 사업추진을 방지』\\\\n그런데 이 조항을 교묘히 악용하여 소위 알박기를 통한 막대한 이권이나 금전적 이득을 취하려는 무리의 사냥감이 되고 있습니다.\\\\n실제 현장에서 분양보증을 받는 시기는 대부분의 조합원이 이주를 완료한 상태로\\\\n도시정비의 상당한 금액이 지출된 상태인 바 사업을 되돌리거나 연기를 하기에는 그 비용이 어마어마하게 들어갈 수 밖에 없는 시기입니다.\\\\n조합입장에서는 다소 지출이 늘어나도 사업을 밀어 붙이는것이 오히려 경제적이라는 이야기입니다.\\\\n그래서 이러한 조합의 약점을 잡고 엄청난 이익을 취하려는 것입니다.\\\\n결국은 정부에서 기대하는 “무리한 사업추진의 방지”라는 본래의 목적달성은 불가능하고\\\\n일부 알박기세력의 호주머니만 채워주는 결과밖에 될 수 없음을 이해하시길 바랍니다.\\\\n정말로 정부에서 바라는 “무리한 사업추진의 방지”를 하실려면 관리처분승인 전까지를 적절히 관리해야 선량한 법집행을 믿고있는 대다수의 조합원의 피해도 최소화 할 수 있지 않을까합니다.우선 저의 간단한 자기 소개를 먼저 드립니다.\\\\n저는 민중연합당 당원으로 활동 하고 있는 22세 김정수라고 합니다.\\\\n다름이 아니오라 정부측에 청원을 드리고자 합니다.\\\\n작년 4월 5일 새벽 3시 05분경 문경시 불정동 창원 172.3m 지점에서 4.5t 냉동 탑차가 앞서 가던 25t 화물차를 추돌 하였습니다. 이 사고로 4.5t 탑차는 불이나 43세 김모씨 ( 김종화 위와 청원자는 아버지 ) 가 죽었습니다...\\\\n문경 교통계측은 사망자 신원 확인 작업은 벌이고 있었으며 그게 저희 가족인걸 알고 저희 가족은 작년에 문경 교통 조사계 가서도 조사를 받고 저는 아버지를 그렇게 험하게 보내 드리고 말았습니다...\\\\n저희 어머니과 저는 아버지가 어떡해 타서 죽었는지 그 모습은 보여 달라고 경찰청에다가 요구를 하였고 .... 국가수에다가도 부탁을 드렸으며 드 기관측은 절대로 보여 드릴수가 없다 라고 하며 ....\\\\n죄송하다 말밖에 안나옵니다...\\\\n그리고 저는 경찰에게 이렇게 말씀은 드렸습니다...\\\\n아버지 소지품은 어떡해 되었냐 라고\\\\n소지품 마저 다 전소 되어서 건져 낼수 없다 ....\\\\n죄송하다 말밖에 안나옵니다...\\\\n저는 너무나 화가 납니다. 작년 4/5일날 고속도로 cctv 관계자측과 경찰청 직원분들께 사과 요구를 받고 싶습니다.\\\\n저는 비록 지적 장애 2급은 가고 있지만 제 주변에서 야 쟤 아빠 없대 라는 손찌껌 받고 또 무시 . 차별은 받고 있습니다.\\\\n문재인 대통령님과 청와대 정부 차원에서 이 조사를 철저히 해주실것은 당부 드립니다.안녕하세요! 저는 경기도 화성시에 살고있는 고등학교 1학년 여고생입니다.\\\\n제가 이렇게 청원을 드리게 된 것은 다름이 아니라 대한민국 청소년 참여 위원회 편성을 위함입니다.\\\\n대한민국 청소년 참여 위원회는 이미 운영이 되고 있었지만  매우 안타깝게도 2014년에 각 시에서 운영하는 것으로 분리가 되면서 다양한 지역의 청소년들이 모여 많은 이야기를 들어보고 의견을 내고 청소년들의 예산을 직접 분배하는 활동을 할 수 없게 되었습니다.\\\\n저는 얼마전 3차례에 걸쳐 화성시에서 청소년 참여 예산 학교에 참여하였습니다. 비록 많은 학생들이 참여하지는 않았지만 그곳에 있는 모든 청소년들이 우리 청소년 예산에 많은 관심을 갖고 우리들의 이야기를 할 수 있는 시간이 되었습니다. 화성시처럼 다른 시도 운영이 되고 있지만 많은 시들이 제대로 운영되고 있지는 않았습니다. 저는 화성세에서 청소년 정책제안기구에서 위원장으로 활동하고 있습니다. 저는 회의를 진행하면서 매번 느끼는 것이 우리 청소년들이 많은 정책을 필요로 하고 우리의 목소리를 내고 싶어한다는 것입니다. 한정되어 있는 예산으로 최대한의 결과를 내기 위해 많은 노력이 필요하고 전문적인 지식과 여러가지가 필요하다는 것을 잘 알고 있습니다. 그렇지만 이런 활동을 함으로써 우리 청소년들은 더 많은 것을 배울 수 있게되고 이런 활동들이 더 많은 청소년들의 관심을 이끌어 낼 수 있습니다. 또한 고민끝에 우리 청소년들이 얻어낸 결과임으로 결과가 우리가 생각했던 것만큼 잘 되지 않아도 그동안의 수고와 보람으로 나름의 만족을 느끼면서 우리 사회에서 생활을 하기도 합니다. 저는 화성시에 청소년 정책을 제안하기 위해 많은 청소년들과 이야기를 하다보니 이런 기회가 청소년들에게 더 많이 주어지면 좋겠다고 생각했습니다. 이 제안의 관련 분야의 전문가와 문재인 대통령을 비롯한 정부의 인사분들이 이 글을 보게 되신다면 저의 의견을 진지하게 받아들이시고 우리 청소년들을 위해 많은 이야기를 나누어 주셨으면 합닏다. 이 정책이 꼭 실현되지 않더라도 이 글을 기회로 우리 미래 사회의 주역이 될 청소년들을 위해 정책과 많은 이야기를 나눠주셨으면 좋겠습니다. 저는 이런 기회가 미래 사회의 발전을 더욱더 강화하고 증진시키는데 많은ㄴ 도움이 될 것이라고 생각합니다. 이런 저의 생각을 전달 할 수 있어 매우 뜻깊게 생각합니다. 이 글을 읽어주셔서 감사하고 정부의 인사들 뿐 아니라 우리 사회에 계신 많은 분들이 우리 청소년들을 위해 노력해주시고 생각해 주시면 감사하겠습니다. 이상입니다1. 대통령이 직접 답변준다고 해서 그대로 믿었습니다.\\\\n그런데, 접수대기로 접수조차 안 되어 있습니다.\\\\n누구를 위한 축제입니까?\\\\n수년간 생각한거 제안 건의했습니다.\\\\n약속이행을 청원합니다.\\\\n2. 청와대 국민신문고 청와대에 제출도 안 되게 해 놓았습니다.\\\\n시정의 청원을 합니다.\\\\n3. 대통령과 국민과의 대화도 온,오프라인 마련의 청원을 합니다.\\\\n장차관 등의 대화도 청와대에 마련 청원을 합니다.\\\\n현행 장차관 기관장대화는 감사관실 등 중간에서 가로채서 전혀 대화가 안 되고,\\\\n장차관 기관장도 관심도 없습니다.\\\\n증거: 마이페이지 (로그인후 https://www.gwanghwamoon1st.go.kr/member/myBoard.php)\\\\n39 접수대기 정치개혁 광화문1번가 국민인수위워회를 개혁하라!  2017.06.13\\\\n38 접수대기 정치개혁 광화문1번가 인수위원회 대개혁  2017.06.11\\\\n37 접수대기 정치개혁 광화문1번가 인수위원회를 해체하고, 재정비  2017.06.10\\\\n36 접수대기 보건복지 국가 대통령직속 다양한 요법 등 개발 보급  2017.06.10\\\\n35 접수대기 행정 <청원,건의>지문날인 및, 주민등록제도 등 폐지 개정  2017.06.10\\\\n34 접수대기 보건복지 장애인 복지관 거리 지역별로 다 마련, 복지카드 통폐합  2017.06.09\\\\n33 접수대기 행정 헌법재판소 대개혁  2017.06.09\\\\n32 접수대기 행정 각종 법률 용어 쉽고 명확하게 풀어서 대개혁, 쓰레기통  2017.06.09\\\\n31 접수대기 행정 지방자치 대개혁  2017.06.09\\\\n30 접수대기 정치개혁 <건의> 헌법소원 국선변호인 선임비율 9%로 있으나마나  2017.06.09\\\\n29 접수대기 보건복지 보건소 진료서비스 확대 및 기타 각종 프로그램 확대  2017.06.09\\\\n28 접수대기 행정 국민권익위원회를 축소하고, 행정심판위원회 해체 개혁  2017.06.09\\\\n27 접수대기 정치개혁 <국민권익위원회> <중앙행정심판위원회> 개혁  2017.06.09\\\\n26 접수대기 행정 헌법소원, 온라인행정심판 개혁 2  2017.06.09\\\\n25 접수대기 기타 광화문1번가 개혁  2017.06.09\\\\n24 접수대기 정치개혁 광화문1번가 대개혁!!!  2017.06.09\\\\n23 접수대기 행정 행정 시스템개혁ㅡ> 실체 실질 사실적 역동적 시스템마련  2017.06.08\\\\n22 접수대기 안전/환경 정책제안 창구 제대로 마련,정수기 대책 마련, 담배부스  2017.06.08\\\\n21 접수대기 정치개혁 온라인 대통령 홈페이지 및 온라인국민청원 투표 등 마련  2017.06.08\\\\n20 접수대기 행정 수 만건 대통령 직접 답변ㅡ> 제대로 된 창구 마련   2017.06.08\\\\n19 접수대기 행정 국기 태극기 정정  2017.06.07\\\\n18 접수대기 행정 행정시스템 대혁신 대개혁  2017.06.05\\\\n17 접수대기 행정 국가 행정시스템 대개혁  2017.06.03\\\\n16 접수대기 육아/교육 국립방송대,평생교육학습관 등 통폐합, 수요자 중심 교육  2017.06.03\\\\n15 접수대기 육아/교육 과학,예체능 등 특수목적고 전면 페지  2017.06.02\\\\n14 접수대기 문화/예술/체육/언론 국기 태권도의 허구 및 다양한 무술 체육 육성  2017.06.02\\\\n13 접수대기 기타 각종 사회 체육 육성 및 각종 프로그램 활성화  2017.06.02\\\\n12 접수대기 안전/환경 교통사고 1회 이상 삼거리 사거리 사각지대 이중방지턱  2017.06.02\\\\n11 접수대기 보건복지 헌법소원, 온라인행정심판 개혁 3  2017.06.02\\\\n10 접수대기 기타 헌법소원, 온라인행정심판 개혁 1  2017.06.02\\\\n9 접수대기 행정 인증 수단 다양 다각화  2017.06.02\\\\n8 접수대기 육아/교육 대입시 전면 대학자율화  2017.06.01\\\\n7 접수대기 행정 행정시스템 개혁  2017.06.01\\\\n6 접수대기 기타 법 적용의 원칙으로 종교시설 세금 물려 사회 일원 담당  2017.06.01\\\\n5 접수대기 정치개혁  온라인 국민투표 건의  2017.05.30\\\\n4 접수대기 기타 여러가지 건의  2017.05.30\\\\n3 접수대기 행정 대통령 직속 고위공직자 등의 감찰 조사 수사 등을 마련  2017.05.30\\\\n2 접수대기 행정 민원 처리에 관한 법률 폐지 개정   2017.05.30\\\\n1 접수대기 정치개혁 <국민권익위원회> <중앙행정심판위원회> 개혁  2017.05.30기간제 정규직 반대.모든걸 꽁짜로 얻으려고 합니까?기간제 교사들 뻔뻔하네요.월급챙겨가고 경력인정까지 받으면서 정규직 전환까지?없는돈 아껴가며 경력단절시켜가며 교사꿈이루고자하는 임용고시생들은 병신입니까?말도 안되는 논의가 이루어지고 뻔뻔한 주장이 오가는 국가가 이해가 안가네요.노력해서 정당한 것을 인정받을수있는 국가를 만들어주세요.역차별 형평성 깨지는 일입니다.과정을 공정하고 결과는 정당하다는 대통령님의 생각과는 완전히 배치되는 일이며 사안입니다.기간제 교사 정규직을 주장하는 사람들도 양심을 갖길 바라네요.모든걸 노력없이 꽁짜로 얻으려는 그런 마음..정말 슬프고 슬픕니다.교사가 되기위해 노력하십시요.돈도 경력도 포기하며 미친듯 노력해 얻으면 더 간절해질것입니다.저는 한양대학교부속고등학교에 아이를 보내고 있습니다.\\\\n솔직히 아이가 가고 싶다고 해서 원서를 써주었습니다. 정말정말 붙을거라고는 생각하지 않았습니다.\\\\n그럴 성적이 전혀 아니었거든요. 그래서 합격 소식이 날벼락이었습니다. 솔직히 등록금도 많이 부담스럽습니다.\\\\n그런데 아이가 학교 생활을 너무 좋아해서 전학은 꿈도 꾸지 못하겠습니다. 공부도 못하는 우리딸 대학은 마음ㅔ 드느데 못가더라도 고등학교라도 마음에 드는 곳에 다녔으면하는 마음때문에요.\\\\n그래서 현금이 거의 없는 저희는 학비가 카드로 결재 되었으면 좋겠다 생각합니다. 학교에 연락해보니 계좌에서 이체 하는 방법밖에 없다고 해서 써비스 받아서 넣고 있습니다.  왜 고등학교 학비는 카드결재가 안되나요. 돈 없는 사람들은 카드결재로 분할해서 내면 그나마 부담도 적고 안심인데.... 이번 금요일가지 도 학비를 결재해야 하는데\\\\n목요일에 써비스를 받아서 넣어놔야겠네요.남양주 호평동에 거주하는 주민입니다.\\\\n도움을 구할 곳을 찾다 급한 마음에 여기저기 요청을 드리고 있습니다.\\\\n제발 한번 검토해 주시고 도움을 주실 수 있다면 연락 부탁드립니다.\\\\n임대인과 계약 만료 및 보증금 문제로 분쟁 중 입니다.\\\\n계약만료일(8월1일)  4개월 전부터 결로 문제와 임신 준비로 생활의 어려움을 전달하였고\\\\n사과와 보수공사 약속을 받았으나 계약 만료일까지 보수공사를\\\\n차일피일 미루었고 결로 문제 전달 시 적극적인 사과와 보수공사의 적극적인 의지를 보이셨고\\\\n많은 건물 관리로 조금 늦어진다고 생각을 하였지만\\\\n계약 만료일은 지났고 저희에게 아이가 생기게 되었습니다.\\\\n부모가 되려는 입장에서 태아의 건강을 위해서 이사를 더 이상 미룰 수 없기에\\\\n임대인에게 이사를 통보 하였으나(계약 만료 14일 후)\\\\n오히려 임차인인 저에게 계약일 확인과 자동연장 이며 중개수수료 부담과\\\\n보증금 반환도 거부 하고 있습니다.\\\\n태아의 건강이 걱정이라고 말씀을 드려도\\\\n그건 그쪽 사정이고 결로 때문에 나가는게 아니지 않냐\\\\n아이 생겨서 나간다고 하지 않았냐 하시며 말장난을 하십니다.\\\\n최소한의 이사 날짜 혹은 중개 수수료 부담을 덜어 줄 것을 요구 하였지만\\\\n완강하게 거부하고 계시며\\\\n매물로 내놓은 부동산에는 건물에 아무 이상이 없고\\\\n저희가 아이가 생겨서 나간다고 거짓말을 하고 계십니다.\\\\n이 집에 들어오실 분들에게 저도 거짓말을 해야 하는지 고민이 되긴 합니다.\\\\n제발 도움을 부탁 드립니다.\\\\n나이 42에 어렵게 생긴 첫 아이입니다.\\\\n아직 임신 초기이고 조심해야 한다고 알고 있습니다.\\\\n잠들기 전 제습기와 통풍으로 습도 50~60%를 맞추어도 자고 일어나면 70~80% 입니다.\\\\n저희 둘만의 생활이라면 버티겠습니다만\\\\n태아의 건강을 위해 제발 간곡히 부탁 드립니다.아파트 내에서 간접흡연으로 인해 비흡연자 주민분들이 지속적으로 아파트 관리사무소에 민원을 제기하고 있습니다. 하지만 아직 법적으로 아파트내에서 흡연을 금지할 수 있는 법이 없어  간접흡연 피해를 막지 못하고 있습니다.\\\\n아파트 내 특히 화장실과 배란다앞쪽에서 담배를 필수없도록 법이 마련되었으면 합니다.\\\\n저희집에는 얼마전 갑상선 암으로 인해 치료받고 계시는 가족분이 있습니다. 간접흡연으로 인해 고통스러워 하십니다. 더이상 이런일이 일어나지 않았으면 합니다.\\\\n물론 사생활침해나 자신의 집에서의 행동 및 자유를 침해한다고 하실 수 있지만 엄연히 간접흡연은 남에게 피해를 주는 행동이 아닙니다. 피지말라는 것이 아닙니다. 나가서 집 밖에서 또는 흡연장소로 지정된 곳에서 피시면 되는데 왜 많은 주민분들이 다같이 살고있는 주택 내에서 피시는 걸까요? 그러지 못하게 부탁드립니다.청소년 참정권을 보장해주십시오!\\\\n현재 대한민국은 세계 95% 가까운 국가에서 선거권을 18세 이상으로 하고 있는 것과 달리 19세 이상에게\\\\n선거권을 주고 있습니다. OECD 일원임에도 불구하고 정치문화에 대한 세대참여 수준은 후진국 보다 못한\\\\n실정입니다.\\\\n선거권 뿐만 아니라 청소년의 정당활동도 크게 제한되어 있습니다. 글로벌 스탠다드에 맞춰 선거권 연령을\\\\n하향하는 것도 중요하지만, 피선거권과 선거권 연령을 동기화 하는 것도 중요합니다. 만약 피선거권을 가진\\\\n18세의 후보자가 당선에 이르고, 이렇게 제도권 정치에 진입한 18세가 제 역할을 하려면 피선거권 연령에\\\\n이르기 전에 정당활동을 보장해 역량을 키울 수 있어야 합니다.\\\\n그러나 우리 제도는 선거권을 19세, 피선거권을 25세로 한정해두고, 그 이유를 청소년의 미성숙에 두고 있습니다.\\\\n허나 13세부터 정당활동을 허용하고 18세에 선거권과 피선거권을 갖게 되면 충분한 정치적 역량을 발휘할 수\\\\n있습니다. 정치선진국으로 불리는 유럽의 여러 나라 의회들이 20대~40대 청년정치인으로 채워지고 있고,\\\\n캐나다, 프랑스 등의 국가들이 청년을 국가 지도자로 세우고 있습니다.\\\\n청소년 참정권 보장이 그 시작입니다. 가까이 2018년 교육감 선거에서부터 시작해 교육정책의 주인인\\\\n청소년들이 교육정책의 책임자를 직접 뽑을 수 있도록 참정권 연령 하향, 정당활동 허용 등의 변화를 만들어\\\\n주시기 바랍니다.안녕하세요.\\\\n보건복지부의 국내기업 역차별 및  일자리없애기 정책에 대해 의견 올립니다.\\\\n일자리 신규창출도 중요하지만 보건복지부의 국내기업 역차별 자의적 법률해석으로 인해 2,000 여개 외국인환자 유치업체들이 고사되어 가고 있습니다. (2017.6월 800여개 업체 외국인환자 유치업 갱신 포기)\\\\n2000여개 업체 1개회사 고용인력을 5명씩만 잡아도 1만명이라는 일자리가 사라질 위기에 처해 있습니다.\\\\n정부의 잘못된 정책은 다음과 같습니다.\\\\n1. 자의적 법률해석 및 집행의 문제 [국내기업 역차별]\\\\n2015.12월 [의료 해외진출 및 외국인환자 유치 지원에 관한 법률]이 국회를 통과하고 2016년 6월부터 시행되었습니다. 본 법률에서 제6조 외국인환자 유치업체 등록 및 정의, 제9조(과도한 수수료 등의 제한), 제23조(유사명칭의 사용 금지), 24조(등록의 취소) 요건을 분명히 하였습니다.\\\\n법률 24조(등록의 취소) ①항 4. “외국인환자 유치의료기관(등록요건 및 정의: 동법제6조① ③항)이 외국인환자 유치업자(등록요건 및 정의: 동법제6조② ③항)가 아닌 자에게 외국인환자와의 진료계약 소개·알선을 받은 경우”를 등록취소 조항으로 명시하고 있습니다.\\\\n법에따라 국내에 유치업체로 등록하지 않은 외국인(개인,법인,브로커)에게 환자유치 수수료를 제공하는 행위는 외국인환자유치업자가 아닌자에게  소개·알선을 받는 행위입니다.   이 행위는 법률상 국내 외국인환자 유치의료기관의 등록취소 조항임에도 불구하고 외국인(개인,법인,브로커)과의 거래는 본 법에 저촉되지 않는다는 정책을 유지하고 있습니다.\\\\n또한 과도한수수료의 제한 사항에서도 수수료 제공 기관이 국내 외국인환자유치 의료기관 임에도 불구하고 국내유치업체와의 거래시에는 수수료의 제한을 받으며 외국업체(법인, 개인, 브로커)와의 거래시에는 과도한 수수료를 제공해도 된다는 정책을 펴고 있습니다. (외국업체나 외국인에게는 100%의 수수료를 제공해도 불법이 아니다)\\\\n보건복지부가 이 법률을 이렇게 해석하기 전까지는 해외에 있는 외국인환자 송출업체가 국내 외국인환자유치업체를 통해 외국인환자를 병원치료 받게 하였으며, 국내 외국인환자 유치업체는 의료통역서비스, 병원치료외의 NON-Medical 서비스 (호텔예약, 픽업/샌딩, 관광)를 맡아서 진행해 왔습니다. 즉,외국인환자가 안전하게 치료받을수 있는 최소한의 장치를 국내 외국인환자유치업체가 맡고 있었습니다.\\\\n하지만 보건복지부의 외국인환자유치업체를 고려하지 않는 자국민 역차별 법률해석 및 정책으로 외국인환자가 안전하게 치료받을수 있는 최소한의 안전장치마저 무너뜨리고 이 과정에서 국내 유치업체의 설자리를 잃게 만들었습니다.\\\\n또한 국내병원의 수수료지급에서 국내 정식 등록된 유치업체는 수수료 제한선을 법으로 엄격히 적용하고, 외국의 무자격자 (개인, 브로커, 법인) 에게는 과도한 수수료를 제공해도 된다는 정책을 펼치고 있습니다.\\\\n이 2가지 정책으로 말미암아 국내 유치업체는 어떠한 실익도 없이 규제만 받는 역차별 상황이 도래하고 있습니다. 해외에 지사를 운영하는 국내 외국인환자 유치업체는 국내의 본사를 폐지하고 해외지사로 이전하는 것까지 심각하게 고려하게 만들었습니다.\\\\n세상의 어떤 국가가 자국민에게 불리하게 법을 해석해 집행하는지, 대한민국이란 나라가 이렇게 밖에 못하는 나라인지...심각한 자괴감이 듭니다.\\\\n하루빨리 상식이 통하는 법과 정책이 집행되도록, 정부를 믿고 열심히 일 할수 있도록 되었으면 합니다.원래 광화문 1번가에 올리고 싶었던 글입니다. 글자제한이 있어 국민신문고를 통해서 제안하였습니다. 제 글을 여러 부서가 접수하여 답변을 주었는데 실망스러운 답변이 많아서 이를 수렴하여 다시 제안하게 되었습니다. 사실 글자체가 구체적인 수치 자료를 조사하지 않았고, 제가 보고 느낀 것을 위주로 작성했습니다. 수정조차 하지 않아서 맞춤법도 어색하고, 잘못된 문장이나 사실도 있습니다. 하지만 저는 전반적인 내용을 봐주기를 원했습니다. 단편적으로 어떤 부분은 어떻게 하고 있다라는 답변을 받고자 한 것이 아닙니다.\\\\n따라서 전체적으로 검토해주시고, 어떤 식의 정책을 펼 예정이신지를 답해주시면 좋겠습니다. 원 글과 검토부서의 답변, 답변에 대한 저의 생각을 더했습니다. 부디 발전하는 대한민국을 위해서 변할 것은 변하고, 잘하는 것은 칭찬하는 사회가 만들어지길 바랍니다.\\\\n---------------------------------------------------------------------------------------------------------------------------------------\\\\n우선 제가 생각한 정치란 무엇이고, 우리나라의 황급히 고쳐야할 부분들에 대한 제시를 주를 이루고 해결책 제시가 미흡한 점은 해당 분야의 전문가들에게 맡기고 싶습니다.\\\\n예전 ‘육룡이 나르샤’라는 드라마를 보며 정도전이 백성들을 상대로 외쳤던 대사가 기억이 나네요. 정치란 무엇입니까? 정치란 나눔입니다!\\\\n저는 이 말을 정치를 한마디로 표현한 말이라고 생각합니다. 정치란 나눔이고, 허용할 수 있는 수준에서의 끊임없는 비효율의 추구라고 생각합니다. 우리나라의 경제와 사회가 전쟁 후 너무 빠르게 발전한 탓에 세대간의 생각과 인식 차이가 ‘정말 우리가 같은 나라에 살고 있는가?’라는 물음이들 정도로 심해졌습니다. 그와 함께 부의 편중이 극심해졌고, 우리 청춘들은 미래의 행복을 포기하고 현재에 불안정한 행복에 만족할 수밖에 없다는 생각이 팽배해져 있습니다. 저 역시 운이 좋게 졸업하자마자 취업하였다면 이제부터 언급할 사회적인 병폐에 대해서 생각할 기회조차 얻을 수 없을 것이었고, 제가 들었던 물음에 대한 자료들을 조사하면서 우리 사회가 생각보다 심각하다는 생각을 매일 밤 하였습니다.\\\\n이제부터 이야기할 것들은 어쩔 수 없이 경제적인 이야기가 클 것입니다. 우리나라는 자본주의 경제체제를 선택하였고, 제가 생각했을 때는 자본주의의 실패표본이라고 생각합니다. 인간은 끊임없이 탐욕적이고, 자본주의는 이를 극대화하는 구조입니다. 그러한 탐욕을 브레이크 없이 달려왔고, 국민의 불평등은 빈부격차가 가장 높다는 미국의 바로 밑까지 쫒아왔습니다. 이제부터 제가 생각하는 한국의 문제점을 하나씩 이야기 할 것이고 어떤 부분을 해소해야 하는지 이야기 해야해볼까 합니다.\\\\n글의 순서는 다음과 같습니다.\\\\n문제점\\\\n1. 대기업 위주의 경제성장의 탈피의 시기를 놓쳤다.\\\\n2. 재정절벽, 복지할 돈이 없는 채무국가. 세금을 걷어야한다. 정치가 투명해야 한다.\\\\n3. 복지는 약자를 위해 최대한 사용해야한다. 노인복지, 교육무료, 육아, 의료, 완전고용(누구나 일할 수 있어야 한다.), 국민최전선(최소한의 생활수준)이하로 사는 일이 없게 해야 한다.\\\\n4. 기업의 투자를 어떻게 유치할 것인가?\\\\n5. 인구의 절반이 수도권에 사는 나라. 인구과밀화를 어떻게 해소할 것인가. 부동산가격\\\\n6. 왜 물가가 이리 비싸지?\\\\n1. 대기업 위주의 경제성장의 탈피의 시기를 놓쳤다.\\\\n1950년 한국 전쟁이후 폐허였던 한국은 경제개발 5개년 계획, 새마을 운동 등을 수행하며 사례없는 빠른 성장을 보였습니다. 그 과정에서 정부주도하에 일부 몇 개의 사업을 집중적으로 육성하였고, 일부 기업들이 재벌화 되고 막대한 부의 치중과 함께 정경유착으로 인하여 이를 타파해야 하는 시기를 놓쳤습니다.\\\\n‘소득구간별 인구수’를 보면 얼마나 부가 치중되었는지 한탄하게 됩니다. 마치 어린왕자의 코끼리를 삼킨 보아뱀의 형상을 하고 있습니다. 국민의 평균 소득은 연 3000만원(세전기준) 이며, 국민의 70%가 평균이하의 소득 수준을 가지고 있습니다. 한 달에 200만원을 벌면 연봉 2400만원이고, 이는 수도권에서 주거비와 생활비와 같이 생존을 위한 필수적인 비용을 제하고 나면 얼마 남지 않는 최소한의 수준에 불과합니다. 이러한 계층은 현재를 살기에 급급하고, 내집 마련과 결혼에 대한 준비가 한 숨이 날정도로 힘듭니다. 그런데 이런 국민이 무려 70%를 차지하고 있습니다. 국가 GDP의 86%를 상위 10개 기업이 차지하고 있는 이러한 이상구조에서 어마어마한 국민이 고통받고 있습니다. 마트에서 장을 보며 생각해봤습니다. 공산품 중 큰 기업의 제품이 아닌 제품을 찾기 힘들정도입니다.\\\\n그렇다고 재벌 기업들을 무조건적으로 해체시키고 철퇴를 내리자는 것은 국가가 자멸하게 되는 길일 것입니다. 허나 우리는 불편한 진실은 이야기해야 하고 이에 대한 개선을 통해 일자리를 만들 수 있는 여력을 만들어야 합니다. 우리나라 1년 예산은 400조입니다. 삼성전자가 지난해 벌어들인 매출액이 200조이고, 꾸준히 이 수준을 유지하고 있습니다. 하지만 삼성전자는 이 중 90%이상을 해외에서 생산하고 있습니다. 이는 과거 중화학공업이 경제성장을 주도하였던 시절과는 엄청난 차이인 것입니다. 과거의 우리 부모님 세대가 인권착취와 저임금으로 희생을 했던 시절의 경제 성장은 어느 정도 국민에게 돌아올 수 있었습니다. 원재료를 수입하여 우리나라에서 우리국민이 만들어 수출하였고 거기서 오는 임금 역시 내가 열심히 일하면 일한 만큼 벌 수 있는 구조였습니다. 삼성전자의 저 어마어마한 매출 중 겨우 10%만이 국민경제에 직접적인 기여를 하고 있습니다. 임금은 매출원가와 판관비에서 계산되기 때문에 국내 생산의 비율은 국민들의 임금 수준과 직결됩니다. 작년에 중국 공장이 완공된 현대자동차 역시 매출의 70% 이상을 해외에서 생산할 것입니다. 이처럼 경제에 대기업이 차지하는 비율이 높은 우리나라에서 해당기업들의 해외직접투자의 증가는 경제학에서 말하는 기업의 투자일까라는 생각을 하였습니다. 투자마저 위축되어 기업저축이 증가하였다는 사실은 우리나라의 성장이 포화에 이르렀다는 생각을 하게 했습니다. 기업저축은 증가는 부의 불평등을 심화하는 다른 장치입니다. 현대의 이자는 퍼센트 수익입니다. 예컨대 100만원을 연이율 3%를 받는 사람은 1년에 3만원을 이자로 받지만 100억을 연이율 3%로 받는 사람은 1년에 3억원의 이자수익을 얻을 수 있습니다. 즉, 현대 금융에서는 자본의 규모가 커질수록 절대적인 수익이 커질 수밖에 없습니다. 저축의 주체인 가계가 가져갈 수익을 기업들이 막대한 자본을 예치함으로써 가계의 수익을 좀먹고 있는 것입니다.\\\\n이제 우리는 이런 대기업을 견제할 수 있는 대기업을 만들어야 합니다. 하지만 많은 수의 기업이 대기업의 하청업체이고, 이 사이에서 엄청난 갑질이 자행되고 있다는 것은 현장에 근무하시는 분들은 대부분 아실 것입니다. 제가 채용교육을 받으며 들었던 것 중 1차 협력업체만 하더라도 한군데가 아니고, 심지어 CCTV를 설치하고 이를 실시간으로 감시하여 생산을 짜낸다고 하였습니다. 협력업체끼리 입찰시켜 낮은 가격대로 부품을 받는 것은 당연하고, 어떤 기업에서 만들어진 신기술로 생산 능력이 확대되면 이런 기술을 경쟁업체에 넘겨주어 기술 유출로 인하여 경쟁력을 상실하게 하는 일도 있다고 하였습니다. 2차, 3차 협력업체로 갈수록 이러한 행태들은 심각해집니다. 낮은 단가를 유지하기 위하여 신규채용은 최소화합니다. 2~3명이 할 일을 1명이 하게 되고, 인권 유린과 낮은 임금은 중소기업에 다니는 사람에게는 당연시 되어버립니다. 이것은 불공정한 경쟁입니다. 이러한 일들을 근절하지 않으면 더 이상 제 2의 삼성전자와 현대자동차 같은 기업들이 생겨날 수 없습니다.\\\\n그렇다면 제조업만 이런 불공정한 경쟁을 하고 있을까요?\\\\n아뇨. IT 업계 역시 마찬가지입니다. 네이버 역시 성장단계에서 수많은 중소IT 업체의 아이디어를 헐값에 사들이고, 해당 시장을 독점하였습니다. 실제로 부동산 플랫폼 서비스를 제공함으로써 많은 부동산 중계 사이트들이 사라졌고, 지도 서비스와 정보서비스를 결합하여 지도검색에 노출되기 위하여 많은 상인들에게 광고비를 짜냈습니다. 네이버의 서비스 중 많은 방문자를 유발하는 웹툰분야에서는 웹툰작가들에게 희생을 강요하며 몸집을 키웠습니다. 최근 방송에서 인기 웹툰작가의 연봉이 몇억대이다라고 과대포장하지만 최소임금을 받고, 하루종일 방에서 그림 그리시며 고생하시는 분들이 절대 다수입니다.\\\\n게임회사 넥슨은 더 심합니다. 저는 286컴퓨터부터 사용한 PC게임 1세대입니다. 지금까지 수많은 게임을 하였고, 흘러간 역사를 알고 있습니다. 넥슨이 악명 높은 이유는 급성장한 게임들을 인수하여 게임을 망치기 때문입니다. 대부분 만족스럽게 운영되던 게임들은 넥슨이 인수한 순간 유저들의 화를 부추기는 운영을 시작합니다. 대부분이 부분유료화인 게임들은 결재없이는 게임을 즐길 수 없는 운영으로 사용자들에게 커다란 욕을 먹습니다. 유저수 역시 급감합니다. 좋은 아이디어와 지속가능한 플랫폼들이 황금알을 낳는 거위의 배를 가른 마냥 빠르게 사라지는 것을 보았습니다.\\\\n주요 프랜차이즈 업체들은 어떤가요?\\\\n은퇴하신 부모님들이 고심 끝에 결정한 프렌차이즈 가맹점은 가맹주에게 갑질을 합니다. 찾아본 사례들 몇 개만 봐도 매출을 절반을 매달 가져가고, 매장의 리모델링비와 마케팅비로 착취합니다. 회사다닐 때보다 더 열심히 일해도 한달에 실제로 수령하는 금액은 그에 턱없이 못미치는 수준입니다.\\\\n위와 같은 사례들은 자본주의의 대표적인 실패입니다. 자본주의 경제학에서 말하는 기업은 이익을 극대화하기 위한 주체이기 때문에 브레이크가 없다면 큰 문제를 발생시킬 수 있습니다. 하지만 우리는 브레이크 없이 커가는 것을 방관했습니다. 아뇨, 법을 만드는 입법부와 결탁하여 자신들이 유리한 방면으로 법을 고친 정경유착이 가장 큰 원인일 것이라고 생각합니다. 어쩌면 경제성장을 최우선으로 놓고 아무것도 안한 것일 수도 있습니다.\\\\n첫째로, 대기업의 갑질을 못하게 해야 합니다. 대기업이 중소기업이 클 수 없게 하는 것들에 대해 실증적인 조사를 통해 해당법규를 만들어야 합니다. 대기업은 지금도 혼자 잘 성장할 수 있습니다. 이미 큰기업들은 대부분 해외시장으로 제조기지를 옮겼습니다.\\\\n둘째, 대기업이 리쇼어링 할 수 있는 방안을 마련해야 합니다. 대기업이 가진 자본은 우리가 상상하는 것 이상입니다. 그들이 다시 국내에 투자를 할 수 있게 규제를 줄여주고, 혜택을 줘야합니다. 해외의 값싼 노동력과 운송비들을 포기하고, 그럼에도 불구하고 우리나라로 돌아와야 할만한 메리트를 주어야 합니다. 4차 산업혁명과 맞물려 이 부분은 매우 쉽지 않을 것으로 생각됩니다.\\\\n셋째, 커가는 기업에 대한 윤리경영 역시 마련해야 합니다. 누군가를 밟고 올라서야만 커질 수 없다는 생각을 하게하고, 또한 그러한 제도적 장치가 있어야 합니다. 엄청난 수의 치킨집과 편의점들의 사장님들은 고생하시고 슬퍼합니다.\\\\n공정거래위원회 답변\\\\n1. 우선 귀하의 소중한 제안에 감사드립니다.\\\\n2. 귀하께서는 서비스업 분야(포털사이트, 게임업체 등)에서 시장 지배력을 갖고 있는 대기업들(네이버, 웹젠 등)이 중소업체의 아이디어를 헐값에 구입하는 행위 등을 통해 해당 시장에서의 경쟁을 제한하고 있을 뿐만 아니라 이를 제대로 활용하지 못하여 오히려 중소업체 들의 좋은 아이디어를 사장시키고 중소업체들의 건전한 성장을 방해하고 있다는 내용을 제보하여 주셨습니다.\\\\n아울러 이에 대한 방안으로 대기업들이 중소기업 성장을 방해하지 못하도록 실증적인 조사를 통해 관련 법규를 정비할 것, 대기업의 풍부한 자본력이 국내산업 발전에 재투자 될 수 있도록 규제완화 등을 할 것, 대기업이 상생의 윤리경영을 할 수 있도록 제도적 장치를 마련할 것 등을 제안하여 주셨습니다.\\\\n3. 우리 위원회에서는 ‘독점규제 및 공정거래에 관한 법률(이하 ‘공정거래법’)’ 제3조 제1항에 의거하여 독과점적 시장구조가 장기간 유지되고 있는 상품이나 용역의 공급 또는 수요시장에 대하여 경쟁을 촉진하기 위한 시책을 수립 시행하고 있습니다.\\\\n아울러 공정거래법 제3조의2 및 동법 시행령 제5조에서 시장지배적 사업자의 아래의 행위 등이 시장에서 경쟁을 제한하는 효과를 나타내는 경우에는 ‘시장지배적 지위의 남용행위’라 하여 금지하고 있습니다.\\\\n1. 상품의 가격이나 용역의 대가를 부당하게 결정․유지 또는 변경하는 행위\\\\n2. 상품의 판매 또는 용역의제공을 부당하게 조절하는 행위\\\\n3. 다른 사업자의 사업활동을 부당하게 방해하는 행위\\\\n4. 새로운 경쟁사업자의참가를 부당하게 방해하는 행위\\\\n5. 부당하게 경쟁사업자를 배제하기 위하여 거래하거나 소비자의 이익을 현저히 저해할 우려가 있는 행위\\\\n4. 귀하께서 제보하신 내용 중 네이버 등의 시장지배적 사업자가 중소업체의 아이디어를 저렴한 가격에 구입하거나 인수하여 사업을 진행하는 사실만으로는 공정거래법에 저촉된다고 보기는 어렵습니다.\\\\n그러나 해당 사업을 진행하는 과정에서 위의 3.에서 제시한 행위 등을 통해 시장에서의 경쟁을 제한하는 효과를 나타내는 경우에는 시장지배적 지위 남용행위에 해당될 여지가 있습니다.\\\\n다만, 경쟁상황에 대한 분석이 선행되어야 하는 업무의 성격상 구체적인 사실관계, 해당 시장현황 등의 파악이 선행되어야 합니다.\\\\n5. 따라서 귀하께서 제보하신 내용에 대해서는 향후 실태조사, 사건 관련 조사 등에 있어 적극적으로 검토할 계획임을 알려드립니다.\\\\n또한 시장지배적 사업자의 지위남용행위 관련하여 우리위원회는 상시 모니터링을 하고 있으며, 향후 법 위반 행위 적발시 엄중 조치할 계획임을 알려드립니다.\\\\n다시 한번 귀하의 소중한 의견에 감사드리며, 기타 궁금하신 사안에 대해서는 서비스업감시과 강은호 조사관(044-200-4506)으로 문의주시면 친절하게 답변드리겠습니다. 끝.\\\\n→ 산업전반적으로 공정거래에 관련된 문제는 너무 많아서 화가 나는 지경입니다.\\\\n모든 부서 중 가장 만족스러운 답변을 받았다고 생각합니다. 향후 실태조사를 한다는 답변을 받았습니다. 요즘 공정위에서 여러 가지 성과를 내고 있는데 이대로만 열심히 해주셔서 사회 부조리를 어느 정도 해소시켜주시길 바랍니다.\\\\n2. 재정절벽, 복지할 돈이 없는 채무국가. 세금을 걷어야한다. 정치가 투명해야 한다.\\\\n우리나라의 국가부채가 600조를 넘어서 700조로 가고 있습니다. 물론 다른 선진국에 비교하면 낮은 수준이지만 국가부채가 많은 것은 결코 좋은 현상일 수 없습니다. 정치란 나눔입니다. 자본주의의 특성상 돈이 돈을 버는 것은 어쩔 수 없는 것입니다. 즉, 많이 가진 사람은 가만히 앉아서도 돈을 벌지만 못 가진 사람은 기를 써도 겨우 살아갈 수밖에 없습니다.\\\\n북유럽국가들은 복지국가로 거듭나면서 살고싶은 나라들이 되었습니다. 하지만 복지를 추진하기 위한 조세제도의 정비 없이는 우리나라 역시 현재의 안정적인 부채비율을 유지하기 힘들 것입니다. 특히나 과거 50~60년대의 자녀를 많이 낳던 시대의 자녀들이 1~2명의 자녀를 낳았다고 생각해도 지금의 계속적인 저출산율로 인한 부메랑은 반드시 돌아올 것입니다. 제가 늙어서 연금을 수령할 나이가 되었을 때 제대로 받을 수 없을 것이라는 건 조금만 생각하여도 알 수 있습니다.\\\\n우리나라 사람들은 세금을 내는 것에 대해 급도의 예민함을 보입니다. 제가 생각하는 가장 큰 이유는 정치권의 실패입니다. 그간 국민의 세금으로 사업을 벌이는 정치권에서의 사업이 만족할만한 결과를 내지 못한 것도 있고, 끊임없는 부정부패와 사건사고로부터 정치에 등을 돌린 사람들이 많았습니다. 하지만 이번 탄핵사건과 높은 실업률, 다양한 사회현상들이 맞물려 많은 사람들이 정치에 관심을 가지게 되었습니다. 우리가 지금까지 힘든 이유는 정치에 관심이 없었기 때문이라는 것을, 우리가 힘을 모으면 대한민국을 바꿀 수 있다는 것을 이번 일을 계기로 알게 된것입니다.\\\\n세금을 올바르게 쓰고, 투명한 정치가 바로서야만 세금을 올리는 것에 대한 반감이 없을 것입니다. 핀란드는 소득대비 엄청난 세금을 내지만 다시 돌려받을 것이라는 생각에 기꺼이 세금을 납부합니다. 70%가 연봉 3천만원 이하에 해당하기 때문에 아직까지 세원 조달은 힘들어 보입니다. 최상위층의 희생정신이 필요하지만 이를 강요해서는 안된다고 생각합니다. 1번에서 말했듯이 불공정을 줄여, 중산층이 두터워질 수 있는 사회적이 구조를 만드는 것이 현명한 방법이라고 생각합니다.\\\\n3. 복지는 약자를 위해 최대한 사용해야한다. 노인복지, 교육무료, 육아, 의료, 완전고용(누구나 일할 수 있어야 한다.), 국민최전선(최소한의 생활수준)이하로 사는 일이 없게 해야 한다.\\\\n국가는 다음을 책임져야 합니다.\\\\n첫째 노인복지를 책임져야 합니다. 우리나라는 저출산으로 인하여 앞으로 급격하게 노인인구가 증가할 것입니다. 하지만 노인은 일하기 힘듭니다. 노인은 질병에 노출되어 있습니다. 우리나라는 노인자살률, 노인빈곤문제가 매우 심각합니다. 하지만 이를 국가보다는 각 가계에서 해결할 문제라고 생각합니다. 우리의 전통이 그러했듯 노인을 공경하고, 자식된 도리로 모시고 살아야한다고. 하지만 수치들은 명백히 이러한 것들이 변했다는 것을 보여주고, 자식을 위해 희생하는 삶을 살아왔기 때문에 가난에 허덕이며 외롭게 살아가는 노인층을 만들었습니다.\\\\n보건복지부 노인지원과 답변\\\\n1. 노인복지 정책에 대한 관심에 감사드리며, 국민제안(1AB-1706-004502) 중 노인복지 관련 내용에 대해 아래와 같이 답변드립니다.\\\\n○ 제안 내용(요약) : 급격한 노인인구 증가에 따라 노인빈곤, 노인자살률 문제에 대응하고, 노인 공경 분위기 조성 등을 위한 노인복지 정책 필요\\\\n○ 답변 내용\\\\n- 정부는 급속한 인구고령화에 따라 활기찬 노후생활 지원을 위해 노인일자리 확대, 노인 자살률 감소 및 효행 실천 분위기 조성 등을 위한 다양한 정책을 추진하고 있습니다.\\\\n→ 노인일자리 확대를 통하여 소득보충, 사회활동 개선. 나는 이런 정책을 펴는 것에 대해 전혀 이해 못하겠음. 몸이 성치 않아 일을 하면 병원비가 더 나오지 않을까? 복지혜택을 받아야 할 때에 노인을 인력으로 쓰겠다는 정책 자체를 이해하지 못하겠음.\\\\n- 우선, 노인일자리 사업은 ‘17년 기준 약 44만개의 일자리를 제공하기 위해 다양한 유형으로 추진되고 있으며, 어르신의 소득보충 효과 뿐만 아니라, 정기적인 사회활동을 통한 사회관계 개선, 우울증 감소 등으로 인한 의료비 절감 효과도 있습니다. 금년에 추경을 통해 일자리 확대 및 수당 인상을 추진하고 있으며, 앞으로도 지속적으로 확대하여 ’22년까지 80만개 수준의 일자리를 제공할 수 있도록 노력해 나가겠습니다.(담당 : 노인지원과 윤재성 주무관(044-202-3476))\\\\n- 또한, 노인 자살률 감소를 위해 독거노인 돌보미에 대한 자살예방 게이트키퍼 교육 집중실시, 노인 맞춤형 자살예방교육 프로그램 제작 및 배포 등 다각적인 노력으로 65세 이상 노인 자살률은 ’10년 81.9명으로 정점에 달한 이후 ’15년 58.5명으로 감소되고 있습니다. 향후 노인자살률을 감소시키기 위해 지속적으로 노력하겠습니다. (담당 : 정신건강정책과 이하림 주무관(044-202-2862))\\\\n- 마지막으로, 효행실천 분위기 조성을 위해 「효행 장려 및 지원에 관한 법률」에 따라 교육기관 등에 효행에 관한 교육을 장려하고 효문화진흥원 설립을 통해 전 국민대상 효 체험과 교육을 추진하고 있습니다. 또한, 매년 어버이날을 맞이하여 약 100명 가량의 효행 실천자를 발굴하여 포상하고 있습니다. 향후 사회적으로 경로효친과 효행사상이 지속될 수 있도록 노력하겠습니다. (담당 : 노인정책과 김지은 주무관(044-202-3457))\\\\n→ 정말 이런 눈가리고 아웅식의 정책은 아예 없어져야 합니다. 한국 사람이 효심이 없는게 아니고, 자기 살기 급급해 효를 실천할 수 없는 현실입니다. 근데 효행 실천자를 뽑아서 포상을 한다는 사실조차 처음 알았고, 공공기관의 특성상 홍보 마케팅의 집중을 안하기 때문에 실효성도 없고, 의도 조차 알 수 없는 예상 낭비라고 생각합니다.\\\\n2. 가정에 건강과 행복이 가득하시길 기원하며, 기타 문의사항이 있으신 경우 보건복지콜센터(국번없이 129) 또는 상기 부서 담당자에게 문의해주시기 바랍니다. 감사합니다. 끝.\\\\n→ 솔직히 보건복지부 답변을 받고, 허탈하기 짝이 없었습니다. 일하기 힘든 노인에게 일자리를 제공 한다는 정책, 효심을 키우기 위한 진흥원을 설립하여 예산을 엉뚱하게 쓰고 있는 것은 정말 충격적이고 실망스러웠습니다.\\\\n저는 외국 사례와 비교하는 것을 매우 싫어합니다. OECD에서 비교하는 것보다 그 나라 국민정서와 상황에 맞는 정책을 창의적으로 만들어서 실행해야 한다고 생각합니다. 노인 문제와 육아, 교육 문제는 국가가 책임져야 하는 문제입니다.\\\\n둘째 교육이 바뀌어야 합니다. 제가 최근 취업을 준비하면서 가장 크게 심각하다고 생각하는 부분 중 하나입니다. 최근 공기업들은 국가직무표준이라는 NCS를 도입하여 입사시 이를 활용하려는 움직임을 보여주고 있습니다. 하지만 이는 어불성설입니다. 우리나라 교육 체계 자체가 직무교육은 전혀 없습니다. 중고등학교만 해도 그러하고, 대학교육 역시 그러합니다. 저는 전기직을 위해 준비해왔지만 어느 곳에서도 변압기, 송전 시설들을 경험하고 배울 수는 없습니다.\\\\n그러한 의미에서 교육의 혁신적인 개편이 필요합니다. 고등학교만 나와도 취직하는데 문제가 없고 차별받지 않는 사회를 만들어야합니다. 우리나라의 대학진학률은 70%가 넘는 수준입니다. 한 반에 무려 70%가 대학을 가고, 또 갈 수 있는 대학이 있다는 것이 신기합니다. 실무자에게 물어보면 대학교육이 일하는 데 엄청난 기여를 하는가입니다. 단호하게 그들은 아니라고 이야기 합니다. 그렇다면 우리는 남자는 군대를 포함한 6년, 여자는 4년이라는 시간을 국가경제를 기여하는데 필요한 가장 최상의 인력을 버리고 있는 것입니다. 저는 이러한 폐해도 우리나라가 너무 빠르게 성장해버렸지 때문이라고 생각합니다. 우리 부모님 세대만해도 대학에 가면 무조건 남보다 좋은 직장에 취직하여 고생하지 않는다는 인식이 박혀있습니다. 물론 지금도 좋은 대학에 가면 남부러운 직장에 취직할 확률은 매우 올라갑니다. 그렇기 때문에 명문대에 진학하기 위하여 어린나이부터 밤늦게까지 사교육을 받고, 청소년 행복감은 세계 최하위 수준으로 치닫고 있습니다.\\\\n일단 교육을 근본부터 바꿔야합니다. 지금의 수많은 대학들(한국장학재단 부실대학)을 과감하게 정리하여 대학은 정말 학문을 연구하는 기초기관의 역할을 수행하도록 바꿔야 합니다. 이 과정에서 물론 대졸자의 수가 급감하기 때문에 이들이 대학을 졸업해서 좋은 회사에 취직하는 것을 어쩔 수 없습니다. 하지만 저는 남자 기준으로 고등학교 졸업하자마자 특정분야에서 경력을 4년을 쌓은 사람을 뽑을지, 아니면 단순히 대학 졸업한 사람을 뽑을지에 대한 결정을 해야 한다면 전자를 택할 것입니다.\\\\n그렇다면 우리의 공교육은 학생들에게 결정권을 줘야합니다. 대학에 들어가 연구자가 될 것인지 취직을 하여 돈을 벌 것인지. 그러면 교육은 그에 맞게 변해야합니다. 회사에 취직하기 위해 필요한 것을 배울 수 있는 과정이 있어야할 것이고, 대학에 진학을 선택하는 사람들을 위한 교육이 필요할 것입니다. 고등학교 시절 방학마다 인턴의 기회를 부여하여 미리 일해보고 학기 중에는 부족한 부분을 공부하여 졸업 후 바로 일할 수 있는 여건을 마련해야 합니다. 지금의 수능제도는 누가 국영수 사탐/과탐 위주의 반복입니다. 누구도 국영수 사탐/과탐을 실수 없이 잘 푸는 사람이 일을 잘한다는 것에 동의하지 않을 것입니다.\\\\n현실적으로 제가 제시한 방법은 많은 시간이 걸릴 수도 있지만 어찌 보면 금방 실현될 수도 있다는 생각을 합니다. 대학의 과감한 정리로 대학의 역할을 돌려놓고, 공교육의 혁신적인 변화로 누구나 자기가 하고 싶은 일을 하며 돈을 벌 수 있는 세상이 오길 간절히 바랍니다.\\\\n교육부 답변\\\\n안녕하십니까 교육부 대학평가과입니다.\\\\n우리 부 업무에 관심을 가져주신 점에 대해 우선 감사의 말씀을 드립니다.\\\\n먼저, 택지개발지구 및 저소득층 밀집지역 등 유치원 의무 설립 지역은 대규모 인구유입에 따라 원아 수용시설이 부족하여 공립유치원 신․증설을 적극 추진할 예정입니다.\\\\n또한 유아에 대한 지나친 사교육은 학부모의 육아부담을 가중시키는 것은 물론 아이들의 건전하고 균형있는 발달을 저해할 위험이 높기 때문에 정확한 실태파악을 위해 유아사교육비 현황 조사를 추진하여 사교육비 경감대책을 마련하고 공교육이 내실화있게 실시될 수 있도록 노력하겠습니다.\\\\n우리부에서는 차별 받지 않는 고졸 취업 활성화를 위해 정부부처, 기업인사담당자, 협·단체 등 유관기관과 지속적으로 협력하고 있으며, 직업계고 취업률 7년 연속 상승, 고졸채용박람회 확대 개최, 공무원 및 공공기관 고졸 채용 확대 등 가시적인 성과를 거두고 있습니다.\\\\n뿐만 아니라, TV 프로그램(드림고고, 꿈스타그램 등) 기획 방영, 토크콘서트(행진콘서트, 동행콘서트 등) 개최, 고졸 취업 성공수기 공모전 실시,\\\\n후진학제도(재직자특별전형, 기술·기능인 국비유학 등) 확대 등 고졸 인재에 대한 대국민 인식을 개선하고, 고졸 취업자의 지속적인 경력개발을 지원하여,\\\\n고졸 취업 문화가 사회에 온전히 정착될 수 있도록 노력하고 있습니다.\\\\n또한, 고등학교만 졸업해도 인정 받을 수 있는 기술 기능인을 만들기 위해\\\\nNCS(국가직무능력표준) 기반 교육과정 도입, 학교와 기업을 오가며 배우는 산학일체형 도제학교 운영, 한국 직업교육의 선도모델인 마이스터고 기반 조성 등 다양한 정책을 시행하고 있습니다.\\\\n또한 대학 구조개혁 정책을 추진하여 대학이 사회적으로 필요한 인재를 양성할 수 있는 경쟁력있는 대학으로 탈바꿈할 수 있도록 학사구조 개편 등 질적 구조개혁을 위한 다양한 지원방안을 마련하고 있습니다.\\\\n앞으로도 학생들이 자신의 소질과 적성에 따라 공부하고 취업할 수 있도록 지속 노력하겠습니다.\\\\n→ 제 글의 논점은 NCS를 도입하고 싶으면 중고등교육부터 바꾸고, 대학을 본연의 역할을 할수 있게 줄이는 정책을 생각하고 있는지 였습니다. 허나 돌아오는 것은 고졸 취업활성화를 위해 하고 있고, 성과를 자랑하기 급급한 이야기 였습니다.\\\\n입시위주, 암기위주의 교육과정을 청산하고, 취업사관학교가 되버린 대학의 역할을 자정할 수 있는 방안을 설명했었어야 합니다. 통계자료를 첨부하고 일일이 지적하며 문제점을 설명하지 않았다고 이런 식의 답변이 올지는 생각하지 못했습니다. 이런 방식은 제 생각은 대기업이 자신들의 아주 극히 일부인 사회공헌활동을 나열하고, 우리는 할만큼하고 있다는 생색을 내는 것과 비슷하다는 느낌을 받았습니다.\\\\n정말 교육문제는 심각합니다. 학생들의 행복지수는 바닥이고, 10년 간 기를 쓰고 들어간 대학에서는 또 소수의 몇 개의 그룹에 들어가기 위해 스펙전쟁을 벌입니다. 그것이 성공의 지표이고, 또한 현실역시 그렇습니다. 대기업과 그렇지 못한 기업의 임금격차는 너무 심각한 상황이고, 대기업을 다니지 못하는 사람들은 평생 집하나 사지도 못한다는 박탈감을 느끼게 합니다. 전반적인 구조의 문제가 얽혀 있습니다. 한 군데씩 해결하는 것도 중요하지만 전체적인 큰 그림을 보고 동시다발적인 처방을 했을 때 조금씩 변화가 있을 것이라고 생각합니다.\\\\n복지에 대한 이야기가 매우 길어질 것으로 생각되지만 저는 줄임없이 제 생각을 모두적기 위해 노력할 것입니다.\\\\n다음은 육아문제입니다. 우리나라의 육아문제는 앞에서 말한 교육문제와 얽혀 있습니다. 한 아이를 낳고 대학을 보내고 취직을 시키는데에만 억단위의 돈이 들어가는 것을 우리의 부모님은 알고 있습니다. 그럴 바에 우리끼리 여행가고 행복한 삶은 살자는 딩크족이라는 말이 생길 정도입니다. 즉 우리는 이미 아이를 낳는 순간 사교육을 생각합니다. 모든 것이 아직도 직결되어 있습니다. 좋은 대학을 가야만 좋은 기업에 가서 남보다 편하게 살 수 있다 라는 생각이... 그러려면 사교육을 시키는 것이 당연하고, 영어유치원부터 시작하여 유학에 각종 사교육이 넘쳐나는 세상입니다. 심지어는 취업 사교육 시장마저 커지고 있습니다.\\\\n또한 우리나라는 육아휴직에 대해 매우 박한 태도를 보이고 있습니다. 육아휴직을 마음대로 쓸 수 있는 사기업이 과연 존재할지에 대한 의문을 갖게 되었습니다. 여기서 당연하게 남녀에 대한 입사시의 차별이 발생할 수밖에 없습니다. 경력단절 여성은 재취업이 더 어렵습니다. 국가가 아이를 낳을 수 없는 환경을 개선하지도 않고 아이를 낳아야 한다고 강조만 하고 있습니다. 국민의 70%가 3천만원 이하의 연봉을 받고 있습니다. 혼자 벌어서는 가계가 생활하기 힘든 수준입니다. 아이의 사교육을 시키려면 더더욱 맞벌이는 필수입니다. 부의 편중이 미래의 소중한 우리의 인력을 만드는데 큰 걸림돌이 되고 있습니다.\\\\n유치원의 공교육화가 절실합니다. 앞으로 몇 년간 남녀가 육아휴직을 할 환경은 만들어지지 않을 것입니다. 그렇다면 몇을 낳아도 국가가 책임질 수만 있다면 출산율이 늘지 않을까요? 또한 위에서 말한 것처럼 고등학교만 졸업해도 일할 수 있고(차별없이) 대학에 가기위해 목맬 필요가 없다면 지금처럼 사교육이 넘쳐날까요? 사교육에 대한 부담이 없다면 더 많은 자식계획 역시 동반될 것입니다.\\\\n의료시스템은 그래도 우리나라에서 잘 운영하고 있는 것 중 하나입니다. 미국이 의료보험을 생각했을 때 우리나라는 잘 운영되고 있다는 생각을 합니다. 다만 희귀병이라든지 발병률이 높아지고 있는 분야에서의 보안이 필요하고, 사회 취약계층에게는 여전히 병원비는 부담일 수 있습니다. 더불어 가축분야의 인력강화와 운영의 개선은 국민건강과 직결 될 수밖에 없기 때문에 이 분야의 개선이 필요합니다. 최근 조류독감으로 산란계의 90%가량이 죽어 계란값 대란이 있었고, 지금도 계란값이 굉장히 높은 편입니다. 구제역 등으로 축산농가도 해마다 고통을 겪고 있습니다.\\\\n복지국가에서 추구하는 완전고용문제는 현실적으로 불가능하다고 생각합니다. 앞서 이야기 했듯 대기업들은 심각할 정도로 생산기지를 해외로 이전하였고, 중소기업에서의 고용이 80% 이상을 차지하고 있지만 구조적인 문제로 노동착취와 인권유린, 저임금이 심각한 수준입니다. 심지어 비상장사의 회계처리 특례 등 법률의 규제를 악용하여 임금체불을 하면서도 사장은 외제차를 타고 다니는 등, 중소기업 내부에서의 문제들이 팽배합니다. 질 좋은 일자리를 만들겠다는 의도는 이러한 문제들을 겨냥하고 있다고 저는 믿고 있습니다.\\\\n마지막으로 국민최전선의 이야기는 정말 너무나도 먼 미래의 이야기라서 저는 상상을 해보지 못했습니다. 사회적 약자들의 최저생활을 보장할 수 있다는 꿈같은 이야기를 어떻게 실현시킬 수 있을지가 궁금합니다. 사회적인 부조리만 해결해도 정이 넘치는 국민성을 금방 회복될 것 같습니다.\\\\n4. 기업의 투자를 어떻게 유치할 것인가?\\\\n거시 경제의 기초적인 논리는 기업은 투자, 가계는 소비, 정부는 조세의 주체라고 이야기 합니다. 기업이 사회를 통해 성장하면 투자를 하여 사람을 고용하고, 그 사람들은 소비를 통해 다시 기업의 성장 동력을 제공합니다. 정부는 적절한 조세를 걷어 시장실패를 최소화 하고 모두가 행복하기 위해 노력해야 합니다. 이 단순한 논리가 현대 사회에서는 실현되기 너무나 힘듭니다. FTA와 같이 나라는 이제 더 이상 폐쇄적인 구조를 유지 할 수 없습니다.\\\\n기업들은 이제 더 이상 새로운 투자를 국내에만 하지 않습니다. 아니오, 국내에 투자하는 것은 기업논리에 위배되는 것입니다. 해외에는 더 값싸고 풍부한 노동력과 자원이 풍부하다는 것을 알았기 때문입니다. 이러한 국내 투자의 감소는 당연히 가계 소득의 감소로 이어집니다. 정부의 조세 역시 가계의 소득의 감소로 떨어지고, 기업의 해외투자로 감소하게 됩니다. 그렇다고 해외회사들 역시 우리나라에 직접투자를 하지는 않습니다. 이미 우리나라의 GDP 규모는 세계 11위입니다. 경제만으로 보면 선진국이기 때문에 높은 임금과 각종 규제를 안고서 투자하는 해외기업들은 많지 않습니다.\\\\n이를 알아서 일까요? 트럼프는 자국민의 고용문제를 해결하기 위하여 공급자들에게 강제적으로 미국에 공장을 세우는 것을 강요했습니다. 그러나 우리는 4차 산업혁명 시대에 거의 근접하였습니다. 더 이상 공장에서는 사람이 필요하지 않습니다. 대부분의 일은 AI와 로봇들이 대체할 수 있고, 구시대처럼 공장이 고용률이 되는 시대가 지나갔습니다. 최근 아디다스가 자국으로 리쇼어링을 했지만 대부분 자동화를 통해서 자국 내 일자리 창출에는 큰 기여를 못하고 있다는 것을 보았습니다.\\\\n즉 2차 산업은 이제 일자리를 만드는데 한계에 다다르고 있습니다. 하지만 운좋게도 우리나라가 잘하는게 있습니다. 바로 문화산업입니다. 한류가 많은 것을 해냈다는 것은 이야기 하지 않아도 알 수 있습니다. 문화산업을 통하여 수많은 중국인 관광객을 유치했고, 세계적인 한국의 이미지는 달라졌습니다. 드라마와 영화를 통해 한국 사회에 동경하는 세계인들이 늘어나고 있고, 이들의 유입으로 인하여 산업자체가 변하고 있습니다. 문화라는 것, 감성이라는 것은 인공지능이 대체하기 어려운 영역입니다. 카카오톡이 성공할 수 있었던 것 역시 높은 문자통신비를 무료로 제공했다는 초기의 전략도 있었지만 이모티콘의 출시와 이를 연계한 캐릭터 산업의 성공이 가장 큰 역할을 했다고 생각합니다. 또한 기계를 조절하는 소프트웨어 분야 역시 마찬가지입니다. 우리 사회를 발전 시켜준 제조업에서 서비스산업으로의 빠른 전환과 풍부한 인력양성만이 미래를 대비할 수 있는 자산이 될 것입니다.\\\\n5. 인구의 절반이 수도권에 사는 나라. 인구과밀화를 어떻게 해소할 것인가. 부동산가격\\\\n말은 제주도로 사람은 서울로 보내라는 옛 속담이 있습니다. 우리나라가 빠르게 발전하면서 크게 실패한 것중 대기업만 발전한 것과 더불어 수도권에 모든 것이 몰려버린 것을 꼽을 수 있습니다. 최근 대선투표를 통해서 저는 구체적인 수치를 계산하였습니다. 놀랍게도 인구의 절반이 수도권에 살고 있었습니다. 저는 이러한 수치를 통하여 우리나라가 결코 좁지 않다는 생각을 하게 되었습니다. 고향이 전주인터라 가끔 고속버스를 타고 고향집에 갈 때면 우리나라의 대부분이 아직도 개발되지 않은 것을 볼 수 있습니다. 즉 수도권이 인구과밀 상태이기 때문에 부동산 가격이 심하게 높습니다. 삼포세대의 결혼, 육아, 출산을 포기한다는 점에서 이문제의 심각성을 알 수 있습니다. 우리나라의 문화상 집이 있어야 결혼을 한다는 생각을 합니다. 하지만 국토의 0.6% 밖에 되지 않는 서울에 1000만명이 살고 있고, 이는 전 세계에서 섬국가와 도시국가를 제외하면 최고수준의 인구밀도를 자랑합니다. 이러한 높은 인구밀도는 수도권 지역의 부동산 가격의 급증으로 이어졌고, 국민의 임금 인상 수준을 훨씬 웃돌아 평생모아도 내 집마련을 못한다는 생각을 하게 합니다. 이는 자연스럽게 결혼연령을 높이게 되었고, 출산율의 감소와 노산으로 인한 기형아 출생율의 증가로 사회적인 비용의 손실을 초래합니다. 세종시라는 특단의 대책을 내놓았으나 큰 실효성은 없었다고 생각됩니다. 주요 대기업의 본사와 소위 말하는 명문대들의 본교는 모두 서울에 위치하고 있습니다. 즉 현재의 성공의 측도인 좋은 학벌과 좋은 직장은 서울에 있기 때문에 서울로 사람이 모일 수밖에 없습니다. 누구도 출근지옥철에 몸을 맡기고, 퇴근시간 밀리는 도로를 좋아하진 않습니다. 명절의 교통대란으로 버려지는 시간과 비용은 숫자로 추산하기 무서울 정도입니다.\\\\n서울의 부동산 가격의 상승은 자연스럽게 지방의 부동산 가격의 상승으로 이어집니다. 서울의 프리미엄 아파트의 가격이 지방에서 엄청나게 싸질 수 없기 때문입니다. 각종 공기업의 본사를 이전시키는 지방으로 이전시키는 것은 오히려 업무효율성 측면에서 마이너스 측면이 더 크다고 생각됩니다. 저만해도 취업을 준비하기 전까지는 각종 공기업들의 규모를 전혀 몰랐고 얼마나 큰 회사들인지 관심이 없었기 때문입니다. 공기업 중 가장 큰 한전이 나주로 이전하였지만 인구의 분산이 얼마나 영향을 줬습니까? 인구의 분산을 해결하는 것 역시 정부의 필수적인 역할입니다.\\\\n국토교통부 답변\\\\nㅇ 정부정책에 많은 관심을 가져 주신 점 깊이 감사드립니다.\\\\nㅇ 정부에서도 그간 수도권 인구집중이 심화되어 나타나는 주택난, 교통난, 환경오염 등 사회적 문제들을 해소하고, 전국이 고르게 잘사는 나라를 만들기 위해 노력하여 왔습니다.\\\\nㅇ 특히, 1960년대 이후부터 대도시 인구집중 문제를 인식하고 ‘대도시 인구집중방지책(1964)’ 마련을 시작으로 그간 수도권 인구집중 해소와 국토 균형발전을 위해 다양한 시책을 지속적으로 마련하여 추진해 왔습니다.\\\\nㅇ 최근에는 세종시·혁신도시 건설을 통한 공공기능의 지방이전 등 지역발전을 위한 거점 개발 등으로 수도권 인구·산업 집중화 현상이 둔화되는 소기의 성과도 있었습니다.\\\\n* 수도권 순유입 인구(천명) : (’12) 7→(’13)△4→(’14)△21→(’15)△33→(’16)△1\\\\n* 수도권 GRDP 비중(%) : (’11) 48.2→(’12) 48.2→(’13) 48.7→(’14) 49.0→(’15) 49.4\\\\n- 다만, 아직도 인구 49.5%(‘16), 산업 48.6%(‘14) 등 비수도권대비 수도권의 비중이 여전히 높은 채로 지속되는 측면이 있는 것도 사실입니다.\\\\nㅇ 이에 현 정부에서도 수도권으로의 인구·자원집중을 해소하고 전국을 고르게 발전시키기 위해 “고르게 발전하는 지역”을 이번 정부 5대 국정목표 중 하나로 정하고, 동 국정목표 실현을 위해 3대 전략과 11개 국정과제를 선정하여 추진계획을 수립하는 등 다양한 정책과 사업을 추진할 계획입니다.\\\\n→ 문제점을 이해하고, 개선하겠다는 답변을 받았습니다. 주거문제 해결을 꼭 성공하시길 바라며, 인구분산 문제도 해결할 정책을 꼭 생각해주시길 바랍니다. 세계적으로 메가시티에서 발생하는 문제는 여러 연구자료들이 많은 걸로 알고 있습니다.\\\\n6. 왜 물가가 이리 비싸지?\\\\n최근 대통령이 바뀌는 과정에서 주요 회사들이 주력 상품의 가격을 일제히 올리는 상황이 벌어졌습니다. 그렇다면 우리나라의 물가는 싼 편일까요? 아뇨 매우 비싼편입니다. 해외여행을 해보신 분들이라면 우리나라의 식료품의 가격이 매우 비싸다는 것을 알고 있습니다. 바나나의 가격이 세계 최고라는 점을 알고 있습니다. 정말 마트에서 최소한의 물건만을 샀는데도 5만원은 훌쩍 넘고 10만원도 예사로 넘는 경우가 있습니다. 신기하게도 농민들은 빚을 내서 농산물과 축산물을 생산하는데 소비자는 그게 너무나 비싸다고 생각합니다. 농민도 빚에 쪼들리고, 소비자도 빚에 쪼들립니다. 유통과정에서 가격이 30~35%가 증가합니다. 그렇다면 농민에게서 빼앗고, 소비자에서 빼앗는 것은 누구일까요? 가계의 임금상승은 크지 않은데 생산자 물가의 상승률은 엄청나게 가파릅니다. 도대체 어디서 누군가가 폭리를 취하지 않는다면 이러한 체감을 느낄 수는 없을 것입니다. 높은 원재료값의 가격은 자영업을 하시는 분들에게도 타격이 큽니다. 원재료값이 높은데 판매하는 음식이 낮을 수가 없습니다. 하지만 대규모의 프랜차이즈나 기업에서 운영하는 곳은 대량의 이점을 활용하여 음식 가격을 획기적으로 낮출 수 있습니다. 울며 겨자먹기로 프랜차이즈에 가맹할 수밖에 없는 상황입니다.\\\\n거미줄 효과 역시 무시하지 못합니다. 농산물은 특성상 생산까지의 시간이 오래 걸립니다. 작년에 배추값이 폭등하면 대다수의 농민들은 양파를 심다가도 배추를 심습니다. 올해의 배추값은 폭락합니다. 농민들은 그럼 그해에는 빚을 지게 됩니다. 농민들에게 이러한 수요예측 시스템을 정부가 제공하고 있는지에 대해 궁금합니다. 균형적인 농산물의 생산은 적정한 시장가격의 형성에 도움이 될 것입니다. 국내에서 생산되는 가격경쟁력을 최고로 올릴 수 있는 방법은 어떻게든 도입되어야 합니다. 이미 많은 부분에서 수입상품이 유입되고 있습니다. 사막에서 고추를 말리는 중국과 같이 규모면에서 외국의 농산물은 우리를 압도합니다. 유통구조의 혁신으로 농민과 소비자가 윈윈할 수 있는 시장을 형성해야 합니다.\\\\n농림축산식품부 답변\\\\n1. 안녕하십니까? 우리 농림축산식품 업무에 관심을 가져 주셔서 감사합니다. 귀하께서 국민신문고를 통해 농림축산식품부 업무와 관련하여 제안하신 사항(1AB- 1706-004502)에 대한 심사결과를 안내드립니다.\\\\n2. 귀하께서 제안하신 내용은 \\'축산분야의 인력강화와 운영 개선\\'에 관한 것으로 이해됩니다만, 국민 제안 규정 제8조 제1항에 따라 심사한 결과, 귀하의 제안이 채택되지 않았음을 알려드립니다.\\\\n3. 추가 설명이 필요한 경우 농림축산식품부 축산정책과 이재승 주무관(☏044-201-2316, yijaes3@korea.kr)에게 연락주시면 친절히 안내해 드리도록 하겠습니다. 감사합니다. 끝.\\\\n→ 한 달만에 받은 답변에 자세한 답변조차 없었습니다. 가장 불량한 답변을 받았고, 글 내용조차 이해하지 못한 것 같습니다. 유통 구조에서 오는 가격상승과 거미집 효과를 완화시키는 정책을 하고 있는지를 문의했습니다.지인이 괴로워하다 도움을 요청하여 알게된 사건입니다\\\\n흔히들 몸캠 아실겁니다.\\\\n이게 더 지능화하고 조직화되어서 많은 국민들 특히 10대들이 무방비하게 노출되고\\\\n범죄 조직에 어쩔수 없이 가담되고 있다는 현실은 아십니까\\\\n저도 이 얘기를 듣기전에는 몸캠은 발정난(?) 남성들이 저지르는 실수로만 알고 있었습니다\\\\n그러나\\\\n이제는 랜덤채팅뿐만 아니라 페이스북 카페 블로그등을 해킹하여 정보를 빼내고 그 정보를 이용해서 접근\\\\n긴밀히 얘기할게 있다며\\\\n영상통화로 전환 시킵니다\\\\n그리고 그영상에 여자가 옷을 벗고 유혹을 시작하여 넘어오면 그 영상을 가지고 협박\\\\n넘어오지 않아도 얼굴이 나오는 통화영상과 다른 남성의 행위 영상을 붙여서 협박하고 있습니다\\\\n실제로 제 지인은 다른 사람찾으세요 그러고 끊었지만\\\\n두개의 영상을 보내와 협박을 당하였습니다\\\\n저도 그영상을 봤지만 두개가 연속으로 붙어서 오기에 마치 한사람이 한것 같은 오해를 불러일으킵니다\\\\n자세히 보면 다른 사람인걸 알수있지만\\\\n이것이 뿌려진다면 오해하는 사람들이 생겨나 큰 챙피와 고통을 당하게 될수 있구요\\\\n직장을 잃을 수도 있습니다\\\\n그전에 보내는 문서를 확인해달라고 하여 무심코 받아본게 핸드폰의 모든정보(연락처등)가 해킹되는 이유가 된거구요\\\\n이 영상으로 뿌리겠다면서 \"다른 사람들은 다 당신이 한걸로 알거라는\" 협박을 하고 있는 상황 입니다\\\\n그런데 여기뿐이면 청와대 까지 와서 글을 올리지 않았을겁니다\\\\n이런 피해를 입은 사람들이 모인 카페를 두군데 가봤는데 그 인원이 각각 2천6백명 ,1천 8백명등 생각보다 많은 사람들이\\\\n피해를 보고 어디가서 말도 못하고 협박에 시달리고 있는겁니다\\\\n정리해보면\\\\n1. 청소년들은 주로 랜덤채팅에서 걸립니다\\\\n아름다운 여성이 유혹을 해서 영상통화까지 연결되고 서로 사귄다는 착각속에 여성과 음란행위를 하게됩니다\\\\n그리고는 협박\\\\n청소년들은 돈을 보내던가 아니면 이 나쁜놈들이 시키는 대로 각종 게시판에 올라가 영상통화하자는 홍보를 하게됩니다\\\\n이놈들이 돈없으면 홍보하라고 시키는거죠.  자연스럽게 범죄가담하게 되는겁니다. 끝도없는 홍보를요\\\\n혈기왕성한 청소년들은 거의 다 범죄에 넘어갑니다\\\\n2. 성인 남자에게는 페이스북 카페 블로그에 있는 개인 정보를 활용하여 카카오톡등을 통하여 접근합니다\\\\n그리고는 위에 글처럼 걸리든 안걸리든 합성등을 이용하여 협박합니다\\\\n직장이 있는 남성이나 결혼한  남성들은 회사에 혹시 안좋은 소문이 퍼질까 직장을 잃을까 걱정하고\\\\n남들이 자기를 이상한 사람으로 오해할까 전전긍긍하며\\\\n돈을 보내게 됩니다. 그러나 돈을 보낸다고 끝나는게 계속 협박을 당합니다\\\\n3. 영상통화를 거부하는 사람들은 스마트폰 해킹때 획득한 사진을 교묘하게 합성하여 협박합니다\\\\n4. 협박을 거절시는 해킹한 GPS위치로 사는 지역을 말하며 \"죽고싶냐고\" 겁을 줘서 결국은 끌려다니게\\\\n만든다고 합니다\\\\n많은 사람들이 경찰에 가서 신고했다고합니다\\\\n그러나 경찰은 중국에 조직이 있어서 잡지못한다 그냥 무대응 해라가 끝입니다\\\\n(이건 정말 그런지 확인해봐야 될 이야기 입니다)\\\\n이협박이 하루이틀로 끝나는게 아니라 2년뒤에도 연락이 와서 협박을 하고 있다는 글도 있습니다\\\\n몸캠을 했다는 자괴감에 어디가서 말도 못하고 있는 사람들뿐만 아니라\\\\n억지로 엮여서 너무 억울하지만 하소연도 못하는 사람들이 무척많습니다\\\\n길가는 여성에게 성폭력을 행사하는 사람들이 진짜 나쁜사람들인겁니다\\\\n이 피해자들은 건강한 남성이 스스로 해결할려고 한것 뿐입니다\\\\n위 두카페에만 4천5백명입니다\\\\n아마 카페에 가입안한 사람들까지 하지면 어마어마한 숫자의 국민들이 이런 고통속에서 힘들어 하고있을겁니다\\\\n극단적으로 자살까지 하는 사건도 기사에게 검색할수 있었습니다\\\\n\" 경찰에신고해도 못잡는다 신고할려면 가서해라 경찰서라고 알려주면 경찰앞에서 내가 계속협박할거다\"\\\\n이런 말도 지인이 들었다고합니다\\\\n조직적이고  악날한 이런 범죄의 대부분이 조선족이고 위치가 중국 혹은 필리핀이라고\\\\n경찰은 \"어차피 못잡는다 그냥 어쩔수없다\"라고만 대응한다는데\\\\n이제 국가가 나설때입니다\\\\n중국과 혹은 필린핀과 공조를해서라도 이런 나쁜놈들를 때려 잡아주세요\\\\n그리고 유혹에 넘어가 남성들도 무조건 비난하지 마세요.\\\\n어디가서 타인에게 몹쓸짓을 한게 아닙니다\\\\n더군다나 유혹에 안 넘어가고도 교묘한 방법으로 타인이 봤을때 유혹에 넘어간것 처럼\\\\n보이게 해서 고통당한 남성들도 많이 있습니다\\\\n꼭 적극적이 수사가 이루어 질수있도록 부탁드립니다안녕하세요.\\\\n저는 18살 딸을 둔 엄마입니다.\\\\n얼마 전 작게 뉴스에 보도 된 ‘미술학원 강사 성추행 사건’을 기억 하시는 분도 있지만 하루 만에 묻혀버려 잊어버리신 분이 많을 거라 생각합니다.\\\\n네, 저는 피해자 아이의 엄마입니다. 버젓이 성추행이라는 만행을 저질렀지만 여전히 학원은 운영이 잘 되고 있는 어처구니없는 현실에 막막하여 호소 드립니다.\\\\n그 미술학원은 누나가 원장으로 있고 남 동생이 강사로 있는 학원으로 운영 되고 있으며 입시생 들이 제가 알기로 현재 100명이 넘는 거로 알고 있습니다.\\\\n현재 강사로 있는 남동생은 학원생 성추행 사건으로 경찰 조사를 받고 있는 상태입니다.\\\\n이번 사건으로 저는 기가 막힌 현실과 접하게 되었습니다.\\\\n이 남자 강사는 학원이 14년 정도 운영되는 동안 교육청에 강사로 등록되어 있지도 않다고 합니다.\\\\n그래서 저는 교육청에 성추행 범이 강사로 10년을 넘게 수업을 해오고 차량등록도 해야 하는데 하지 않고 자기 차량에 입시 생 애들을 태워가지고 다니면서 보조교사로 일을 시키거나 한 사실을 고발을 했습니다.\\\\n저는 고발을 하면 바로 불시 단속을 나가는 줄 알았지만 저 보고 증거 자료가 있어야 한다고 하더군요. 그래서 저는 그 강사가 수업하면서 카톡으로 학생들하고 주고받은\\\\n메시지를 제출했습니다.\\\\n그제야 교육청에서는 단속을 나갔다고 하더군요. 하지만 더 놀라운 사실은 10년을\\\\n넘게 단속을 한 번도 안했으니 실기 시험 끝나고 온 학생을 유인해서 보드카를 먹여가며 성추행을 한 파렴치한 인간이 강사로 꾸준히 돈을 벌고 있었는데도 몰랐다는 게 말이 됩니까?\\\\n그리고 원장으로 있다는 누나는 실상 원장이 아니고 강사였다고 합니다. 엄마 이름으로 학원을 차려 놓고 누나가 강사로 등록이 되어있었습니다.\\\\n또한 누나는 올 봄부터 미국으로 나가서 지금 그 학원은 등록되어 있는 강사는 없고 대학생이 내려 와서 가르치고 있다고 합니다.\\\\n이러한 파렴치하고 불법을 저지르는 학원임도 불구하고 1차 시정명령으로 경고를 주고 강사등록만 하면 여전히 학원은 운영해도 된다고 하니 이게 말이 된다고 생각하십니까? 여러 번 교육청에 전화도 하고 신고도 했지만 돌아오는 대답은 절차가 있고 규정이 있다고만 했습니다.\\\\n그럼 매년마다 왜? 교육청은 단속을 나가지 않았을까요? 단속만 제대로 나갔다면\\\\n성추행 범이 근무를 했을까요?  단속만 제대로 했다면 하고 저는 매일 교육청 공무원을 원망합니다. 제 아이는 사건 직후 음식도 못 먹고 5년 동안 믿었던\\\\n선생님의 만행으로 상처를 입었습니다. 그런 학원을 정지를 주지 않고 시정명령만 주는 우리나라 교육부의 행정이 누구를 위한 법인지 대통령님께 묻고 싶습니다.\\\\n어떠한 처벌을 받아도 제 아이의 다친 마음은 되돌릴 수 없지만 다시는 이러한 일이 일어나지 않게 교육부 행정을 바로 잡아주세요.안녕하세요, 대학병원 간호사를 배우자로 맞이할 준비를 하고 있는 청년입니다.\\\\n다름이 아니라 4년제 간호대를 나와 면허 취득하게 되는 간호사들은 대다수 병원에서 3교대로 근무를 하고 있습니다. 하지만 3교대 근무임에도 공평한 교대근무 시간이 주어지지도 못하고 있는 실정이고 야간근무의 경우 정규 8시간 근무가 아닌 12시간 근무를 하면서 휴일은 다음날 하루만 주어지는등 간호사들의 생체리듬 문제도 심각한 상황이라고 생각됩니다.\\\\n간호직은 국민생활에서 가장 중요한 부분을 맡고 있는 직무인데 정작 이 직무에 종사하고 있는 사람들이 자신들의 건강을 해쳐가면서까지 일을 하고 있다면 이는 환자들에게도 결코 좋지 못한 환경이라고 생각하며 국민건강을 책임지는 교대직들에 대한 교대근무현황 실태 조사 및 개선에 대한 정책 입안이 꼭 이루어졌으면 좋겠습니다.\\\\n그래야 진정 환자들에 대한 처우개선도 함께 이루어진다고 생각합니다.\\\\n감사합니다.안녕하세요.대통령님. 너무 억울해서 올립니다.\\\\n올 2월말까지 대구에 있는 흥국화재 POM센터에서 근무했던 설계사입니다.\\\\n다름이 아니라 이번에 흥국화재에 부도덕함을 고발하고자 이 글을 적게 되었습니다.\\\\n흥국화재에서 근무할떄부터 이회사는 정말 나쁜회사라고 생각했는데 아니나 다를까 본색을 들어내네요.\\\\n정확하게 8/8일 그날은 제가 휴무날이라서 집에서 쉬고 있었습니다. 몸이 아파서 병원 다녀오고 약먹고 자고 있는데 쿵쿵거리길래 나가보니 법원에서 소장이 왔더군요..서울중앙지방법원 민사 소액과에서 왔던데.. 뜯어보니 원고가 흥국화재더군요. 부당이득 반환소장이던데.. 금액은 56만원 조금 넘더군요.. 정말 기가 차서 말이 안나왔습니다.\\\\n소장에 적혀있는 흥국화재 원고측전화로 전화를 하니 아무리 해도 받지 않더군요..그래서 대표전화로 전화하니 근무했던 지점으로 연락하라고 하더군요..그리하여 제가 근무했던 센터로 전화 하였습니다. 이유는 제가 위촉당시 신용상태가 좋지 않아서 보증보험에 가입할 수가 없어서 이행보증으로 수당에 10%를 적립해두기로 계약을 했었습니다.  그때 했던말이 이돈은 해촉하게 되면 6개월있다가 미유지된 건들 환수건 처리하고 나머지는 자동으로 환급해준다고 하였습니다. 일종에 퇴직금이라고 생각하라고 하더라구요..\\\\n그런데 막상 센터로 전화하니 말이 다르더군요.. 이런 나쁜사람들은 사회에서 매장시켜야됩니다.\\\\n대구센터 강**라는 사람인데.. 이사람은 제가 근무할때도 자기멋데로 방만하게 운영하고 상담원들 수당 띵땅치고 그만두는 사람들은 수당도 제대로 주지 않고 퇴사하게 되면 프로모션으로 주는건 아예안주고 자기가 횡령하는 그런사람입니다. 자기가 좋아하는 사람들에게만 디비를 편향적으로 배분하고 맘에 안드는 사람들은 수당으로 협박하고 강제 해촉시키는 등 월권행위를 상당히 많이 하는 사람입니다.\\\\n강**한테 전화를 하니 그건 그거고 이건이거다.. 별개다고 하더군요.. 화낼 가치도 없어서 어떻게 말하는지 들어봤습니다. 이행보증으로 10% 적립한건 제가 별도로 직접와서 신청해야만 지급되는거라고 하더군요.. 그럼 신청안하면 어떻게 되냐고 했더니 안준다고 하더군요.. 게다가 신청해도 1달있다가 준다고 하더라구요.. 완전히 말이 다르더라구요..첨이랑.. 그돈은 환수들어오면 거기서 자동 차감하는거 아니냐고 하니깐,... 그것도 제가 별도로 신청해야만 그렇게 해준다고 하더라구요.. 법원에서 소장오고 2주안으로 이의제기서랑 반론서 내지 않으면 꼼짝없이 이행해야하는데 이런 소리를 하더군요.. 일단 알았다고 끊었습니다. 이날 정신적 충격과 스트레스로 인해서 저는 병원신세를 몇일간 져야했습니다. 그리고 몇일전 법원에 반론서와 이의제기서를 보냈습니다. 따로 신청안하면 돈을 안준다니 말이나 되는 소립니까? 저는 흥국화재에서 최저임금도 안되는 돈 받고 일했습니다. 거의 120에서 많아야 150인데.. 그것도 10%뗴고 3.3% 세금 내고 받았습니다. 수당도 제날 제때로 들어온적이 거의 없습니다. 하루이틀씩 밀려서 나오고 재동의 시책금은 그만두니깐 아예주지도 않더군요..자기네들이 다 횡령했으면서..\\\\n제가 근무할때도 몸이 안좋아서 몇일 못나가고 집에 어머니 아파서 몇일 못갔더니 전산을 다 막아놓고 일을 못하게 하고 강제 해촉시킬려고 하더라구요..자기한테 복종하고 말 잘들으면 일하게 해준다는 협박을 하더라구요..다른 상담원은 심지어 무릎까지 꿇게 한적도 있구요..이런인간이 센터장으로 근무를 하는곳입니다.\\\\n제가 흥국에서 일을 제대로 못했던건 흥국화재에 부도덕한 영업방침 때문입니다.\\\\n제가 알기론 승환계약은 엄연한 불법으로 알고 있습니다. 하지만 여기는 당연히 해야되는것으로 여겨지고 있습니다. 관리자 뿐아니라 본사차원에서 그렇게 하라고 유도를 합니다.  2-3년 유지한거 뿐아니라 10년가까이 유지한것도 해지 유도하고 더 좋다는 식으로 유도해서 신계약으로 갈아태우기를 합니다. 거의 모든 계약이 이런식으로 행해지고 있습니다. 이건 정부차원에서 대대적인 감사및 철퇴를 내려야된다고 생각합니다. 이런식으로 불완전 계약이 수백 수천건이 이루어지고 있습니다. 게다가 고지 사항같은것도 거의 사통화로 고객들과 입을 맞추어서 불법행위가 엄청납니다.  심지어 6개월도 안된 계약도 승환으로 유도하는 행위를 합니다. 고객들이 손해를 보던 말던 자기네 배만 부르면된다는식입니다.  TM채널에서 게다가 기계약보유자들 대상으로 하는 POM센터에서 원래 취지는 업셀링입니다. 그런데 여기는 기존 계약 해지하고 갈아태우는식으로 그것도 대부분 사통화로 짜고 하는 사기 행위가 만연하고 있습니다.\\\\n그리고 또하나 마케팅 활용 동의 동의경과 지난 디비를 불법적으로 사용하는겁니다. 엄연히 마케팅 동의기간이 지난 디비는 컨텍할 수 없는것이 원칙입니다.  재동의 같은 경우도 별도에 업체에서 위탁받아서 재동의를 받은 디비만 사용해야되는게 맞는데.. 여기는 그런게 아니라 무조건 들이대서 계약할때 재동의 한줄 녹취 읽어서 올리는 식으로 불법 행위를 합니다. 정말 엄청난 불법 행위입니다.  재동의 시책한다고 상담원들에게 한건 재동의받으면 1천원 준다는 식으로 해놓고 그만두면 그것도 안줍니다. 그걸 떠나서 이런식으로 양심에 없게 온갖 불법으로 영업을 하는것은 본보기로 삼아서 철퇴를 떼려야된다고 생각합니다. 티엠채널을 아예없애던지 영업정지를 시키던지 해서 업계에 본보기를 세워야됩니다. 흥국화재가 예전부터 소문이 않은건 알지만 소수약자에게 이런식으로 횡포를 부리고 갑질하는건 용납할수가없습니다. 제 수당은 다 떼먹고 환수는 환수데로 하고 돈은 관리자들이 꿀꺽하고 소송 남발하고 승환계약에 재동의 불법으로 하는건 당국에서 정밀하게 조사해서 엄벌에 처해야합니다.저는 이 민원건과는 별개로 소송도 할꺼고 언론사에도 배포할 예정입니다. 저 같은 소수 약자가 더 이상 피해를 보지 않도록 철저히 조사 부탁드리며 흥국화재 부도덕한 행위도 조사해서 일벌백개 부탁드립니다.요즘 문재인 대통령 아시죠?\\\\n그분에 대해서 저희 기자팀이라고만 설명 드리겠습니다\\\\n저희가 안 사실에 의하면 박근혜 대통령 시절에 최순실 사건을 처리하려던 그 사건이 온갖 전자기기를 찾아보니 음성녹음이 되어 있어 설마 저희도 놀랐습니다\\\\n혹시나 해서 지금 트럼프 대통령이 아닌 분께 물어봐서 통역을 해달라고하니 한미에서 그 두대통령이 전쟁얘기가 오고간다는 사실을 들었습니다\\\\n그래서 다른 기자분게도 물으니 설마 했는데 문재인 대통령님에 대한 비리 의혹이 많았습니다\\\\n이점 국민들께 말씀 드리고 박근혜 탄핵이 아닌 문재인 탄핵으로 가시는길을 선택하셔야 겠습니다!지난 21일 국민신문고에 민원을 신청하였으나 몇일째 추진상황이 \\'신청\\'으로만 뜨고 있습니다.\\\\n접수도 안돼는 \\'국민신문고\\'라니... 박근혜 정부 보다 더 심한 \\'불통\\'에 \\'식물정부\\'가 문재인 정부라\\\\n해야하지 않겠습니까?\\\\n이제는 욕설이 나와도 할 말 없는 문재인 정부라 생각됩니다만...\\\\n\\'교통사고 피해자\\'들이 얼마나 \\'악에 받쳐 사는지\\' 온갖 육두문자와 막말들로 제대로 한번 느껴보시렵니까?\\\\n감당조차 안돼는 스트레스 당신들도 한번 느껴봐야 국민들의 고통을 알게되겠지요?\\\\n아래 관련링크는 국민신문고에 몇일째 접수조차 되지 않고 신청으로만 남아 있는 저에 민원 내용입니다.먼져 대통령님 이하 여러 장관님들 국민들 위해 피땀흘리시느라 정말 고생이 많으십니다.\\\\n다름이 아니오라 이번 에 처음으로 분양전환을 맞은 아파트 문제를 보면서\\\\n걱정이 물밀듯이 밀려오는 상황입니다.\\\\n전 올해 7월말 10년 공공임대에 입주한 사람입니다.\\\\n결혼생활 9년간 전세를 4번 옴겻고 이번이사가 5번째 이사입니다.\\\\n저에게 이번 임대아파트는 저와 제가족에게 미래를 다시한번 도약할수 있는 계기가 돼었습니다.\\\\n그런데 입주하자마자 분양전환에 대한 뉴스들이 쏟아져 나오면서 주변시세 95% 분양전환이라는\\\\n말은 입주를 한 저와 저의 가족들에겐 벌써 부터 큰 부담으로 작용하기 시작했습니다.\\\\n임대료 조차도 이자보다 비싼 상황에서 분양전환때에는 시세와 별다를바 없는 가격에 다시금\\\\n아파트를 사라고 한다면 서민층에서 과연 그누가 그가격에 아파트를 살수 잇겟습니까\\\\n부담을 덜고 내집 마련을 꿈꾸었던 저와 제가족들은 실로 실망감이 너무나도 큽니다.\\\\n대통령님 이하 장관님들 정말 이문제 만큼은 정말 빠른 시일내에 해결해주셧으면 합니다.\\\\n공공임대 아파트에서 현재 살고 있는 모든 사람들은 대부분 서민들입니다.\\\\n우리 서민들이 조금이나마 맘편히 신경 들 쓰고 살수 있도록~ 도와주십시요~\\\\n부탁드립니다~안녕하십니까. 저는 다른 것이 아닌 6.25전쟁 당시 나라를 위해 하나뿐인 목숨을 마쳐 이름 모른 산야에서 돌아가신 호국용사들의 유해발굴 및 신원 확인해 대하여 제안 할 것이 있어 이렇게 글을 남깁니다.\\\\n현재 정부와 국방부에서는 호국용사들의 유해발굴 및 수습한 유해에 대하여 신원 확인을 위해 많은 노력을 한다는 것을 알고 있습니다.\\\\n그러나 현실적으로 이러한 부분이 한계가 있다는 점을 들어 몇 가지 제안을 하려고합니다.\\\\n첫째. 6.25전쟁 때 싸우셨던 참전 용사 분들께서 고령의 나이가 되시다보니 이러한 분들을  좀 더 많은 방문과  증언 또는 정보를 수집하여 전투지역을 확보하였으면 좋겠습니다.\\\\n둘째. 호국용사들의 신원을 확인하는 것에 대해서는 대한민국 군민이라면 어린아이부터 어른까지 병원을 안 가시는 분들은 없으실 겁니다. 대한민국은 국가에서 건강검진을 실시하여 채혈을 합니다. 이때 동의서를 작성 DNA샘플을 채취하여 좀 더 광범위한 DNA샘플을 보유할 수 있을 것이라 생각합니다.\\\\n셋째. 국군장병들의 지속적인 교육을 통한 유해발굴에 적극 참여하여 좀 더 많은 호국용사들의 유해를 찾았으면 좋겠습니다.\\\\n우리세대의 어린아이들과 저와 같은 젊은 친구들은 6.25전쟁에 대하여 많은 것을 모르고 있습니다. 대한민국의 영웅들의 자랑스러움과 용감함을 어린아이들과 이시대의 젊은 사람들에게 많은 전시회를 통해 알려주었으면 좋겠습니다.\\\\n대한민국의 자랑스러운 그들을 조금 더 많이 조국과 가족의 품으로 돌아왔으면 합니다.\\\\n감사합니다.1.원자력 추진 잠수함을 췬하고 있는데 미국의 반응은 뉴스상으로는 부정적인 것으로 알고 있읍니다.\\\\n2.미국은 신형 핵항모를 이미 1대 만들엇고 2021-2022년 취역 예정이며, 지속적으로 신형 핵항모를 건조중인\\\\n것으로 알고 있읍니다. 신형이 취역하면 현재의 니미츠급은 퇴역할 것으로 보여집니다.\\\\n3.퇴역하는 것을 차라리 동맹국에 판매하는 게 경제적 관점, 동맹의 국방력 강화 차원에서 미국에게도 나쁘지 않을 것\\\\n같읍니다.\\\\n4.니미츠급 퇴역예정 핵항모 구입과 원자력 추진 핵잠수함을 같은 협상 테이블에 올려 놓게되면, 한국의 원자력\\\\n추진체 사업 추진은 더 용이해지지 않을까 생각해 봅니다. 가장 좋게는 한국은 원자력 추진 잠수함과 핵항모를\\\\n동시에, 가장 단기간에 얻을 수 있는 것입니다.\\\\n5.한국이 독자적으로 핵항모를 추진할 경우 2030년대에나 가능한 일일 것입니다.국민신문고에 2회에 걸쳐 저가 민원을 제기 해 보았으나 시정이나 개선이 전혀 되지 않아 마지막으로 여기에 한번 더 청원 해 봅니다.\\\\n너무 슬프네요.\\\\n•아래는 국민신문고\\\\n올린 민원 내용:\\\\n신청일 2017.08.07\\\\n제목 흥덕구청 주민복지과 ***의 긴급의료비 지원 관련 업무처리에 대하여...\\\\n내용  절실히 호소하니 경위를 좀 파악하여 일처리를 해 주세요.\\\\n저는 지금 허리에 극심한 통증으로 앉아 있을 수가 없어서 누워서 폰으로 이 글을 작성하고 있어요.\\\\n(1AA-1707-246283)번호로 국민 신문고에 민원을 아래와 같이 신청 하였으나 어떤 개선도 도움도 받지 못하여 내용을 소상히 더 밝히니 도와 주세요...\\\\n신청일 2017.07.24. 18:40:41\\\\n제목 흥덕구청 긴급의료비지원 부서의 무책임한 처사를...\\\\n내용  안녕하세요.\\\\n저가 오늘 너무나도 억울한 심정이 드는 일을 겪어서 간곡히 하소연하며 도움을 청해 봅니다.\\\\n저는 현재 장애인 이면서 기초생활수급자로 기초수급액으로 겨우 겨우 생활을 해 나가고 있는 사람입니다.\\\\n저는 1995년 5월에 3층 옥상 건물에서 1층 콘크리트 바닥으로 추락하는 사고를 겪으며\\\\n요추1번,2번,3번이 완전히 골절되어 상체와 하체가 폴더폰처럼 되었고\\\\n왼쪽발목 거골 부위가 30여 조각 이상으로 분쇄골절이 되는 중상을 입었습니다.\\\\n그로 인하여 허리에 통증이 심하여 1시간 이상은 앉아 있지를 못하고 왼쪽발목 통증으로 인하여 50m 이상은 걸을 수가 없는 상태입니다. 그래서 현재까지 22년 동안을 장애인이 되어 거의 방에 누워만 있는 생활을 하며 살아 왔습니다.\\\\n경제적 여유는 전혀 없고 겨우 매달 나오는 수급액으로\\\\n중학교 3학년생 딸과 초등학교 6학년생 아들을 데리고\\\\n죽지 못해 살고 있습니다.허리가 통증이 오고 왼쪽발목이 통증이 심하여 사회에 나가서 일을 전혀 할 수가 없습니다.그런데 저번 토요일(7월 22일 오후 7시경)\\\\n집 거실 천장등이 불이 꺼져서 저가 의자에 올라가서 고쳐 보려다가 그만 의자가\\\\n비틀어지면서 저가 거실 맨바닥으로 떨어졌고 예전에 다쳤던 허리부위에 충격을 받아 그뒤로 통증이 너무 심하여 빨리 병원을 가서 검사를 받아 보고 싶었으나 주말 휴일이라서 못가고\\\\n월요일 아침 즉 오늘 아침 9시에 집 옆에 있는 청주프라임병원에 겨우 겨우 가서 접수하고\\\\n원장님에게 진료를 받으니 엑스레이와 mri 정밀 촬영을 하라고 하여 해보니\\\\n검사결과 상태가 심각하니 되도록 빨리 허리에\\\\n\"고주파 디스크 수핵성형술\" 과 \"신경성형술\"이란 2가지 시술을 해야 한다고 말씀 하셨습니다.\\\\n그런데 그 금액이 400만원에서 450만원 정도 들어 간다고 합니다.\\\\n그러나 저는 돈이 여유가 현재 전혀 없습니다.\\\\n몇 년 전에 아는 지인에게서 보건복지부 긴급의료지원이라는 제도가 있다라는 말을 들었습니다.그래서 저는 그 생각이 나서 11시경에\\\\n긴급의료비 지원 신청을 해보려고 129에 전화를 하니\\\\n저가 사는 곳(충북 청주시 흥덕구) 담당부서 전화번호를 알려 주면서 그곳에 신청을 하면 된다고 하여\\\\n저는 청주시 흥덕구청 긴급의료지원 담당부서(043-201-7153)에 전화를 하여\\\\n저의 상황을 말하고 접수를 하려고 하였으나 그곳에 전화를 받은 사람이 “지금 담당자가 무슨 일이 있어서 출근을 안하였고 내일 쯤이나 나올려는지 모르겠다”고 하면서 신청을 안 해 주려고 하였습니다.\\\\n그래서 저가 “거기가 긴급한 사람들을 취급하는 긴급의료지원센터인데 담당자가 출근도 안하고 있는게 말이 되냐”\\\\n고 하니 거기 직원분이 “말 못할 그럴 일이 있다” 고 하면서 다음에 전화하여 신청을 하라고 합니다.\\\\n그래서 저가 “비상연락망은 있을 텐데 비상연락처나 아니면 다른 직원이 신청을 받아야 하는게 아니냐” 고 말을 하여도 저에 말을 아예 무시하고 접수를 안해 주려고 하였습니다.\\\\n저가 계속 절박한 저에 사정을 이야기하고 또 하니까 그 직원이 접수는 해 주겠다고 말 했습니다.\\\\n저는 장애인이면서 기초생활수급자로 겨우겨우 기초수급액으로 어린 중학교 3학년 딸과 초등학교 6학년 아들하고 연명만 하면서 살고 있습니다. 22년을 장애인으로 살고 있습니다.\\\\n청주시 흥덕구청 긴급의료비 지원 담당자의 무책임한\\\\n위와 같은 일처리에 대해 개선 될수 있도록 파악 해 주시고\\\\n절박한 상황에 처한 저를 도와 주세요.\\\\n>>>\\\\n위 내용을\\\\n저의 절박한 상황을 국민신문고에 알렸으나 신문고 측에서는 저에게 전혀 도움도 주지 않았고 일처리도 도와주지 않았어요.\\\\n오히려 청주시 흥덕구청 주민복지과 담당자 ***은 신문고에 저가 민원을 넣은 후에 일처리 한것을 보면 오히려 저를 비웃듯이 놀리는 듯한 행동을 하였습니다\\\\n***의 행태를 저는 여기에 알리고자 해요.저는 아무런 힘도 없고 걸어 다니기도 힘든 장애인이에요.지금 앉아 있기도 어려워 누워서 스마트폰으로 흥덕구청 ***에게 겪은 일을 생각하면 너무 분하여 세상에 알리고자 이 글을 씁니다.\\\\n지금부터 저가 겪었던 경과를 적을께요.\\\\n■2017년 7월 22일 오후 7시경:\\\\n집 거실 천창등 교체 하려다가 높은 의자에서 미끄러져서 허리에 극심한 통증이 옴.\\\\n병원이 주말이라 진료를 안 보아서 파스 붙이고 집에 누워 있다가 겨우겨우 극심한 허리 통증을 참으며\\\\n■7월 24일 오전 8시30분:\\\\n집에서 나와서 청주프라임척추병원에\\\\n도착하고\\\\n■10시경:\\\\n담당의 ***원장에게 진료하고 mri 와 엑스레이 촬영 후에\\\\n■12시 50분경:\\\\n재 진료하고 진료한 내용이 고주파 디스크 수핵성형술과 신경성형술을 하라고 진단 함.\\\\n시술 할 비용이 전혀 없어서 혹여 긴급의료비 지원을 받을 수 있을까 하여\\\\n129 에 전화하니 흥덕구청 주민복지과로 접수 하라고 안내하여 그곳에 통화하니 담당자 임지선이 무슨 일인지는 말할수 없고 출근을 안하고 있는 중이라고 하며 다른 직원이 아주 불친절하게 대신 접수를 해 주며 담당자 임지선에게 연락하여 내일 전화 하도록 조치 해두겠다고 확실히 말을 함.\\\\n담당자 ***이 나에게 전화를 준다는 말만 어리석게 믿고 하루 종일 누워서 기다림.\\\\n방에 누워서 허리 통증을 진통제와 파스로 참으며\\\\n■25일 ~26일 종일 기다려도 전화가 안 옴.\\\\n■26일 17시 40분경에 043-201-7154(흥덕구청 담당자 ***)에게 처음 전화가 와서 통화를 함.\\\\n진단서를 발급 받아 팩스로 흥덕구청에 보내 주면 검토 후 의료비 지원을 즉시 해 주겠다는 통화를 함.\\\\n■7월 27일 10시 30분경: 청주프라임척추병원에 도착하여 통증을 참으며 대기실에 대기하다가\\\\n■12시 경:\\\\n담당의 ***에게 진단서 발급 받아서\\\\n■12시 10분경에 흥덕구청 ***에게 진단서를 팩스로 보냄.\\\\n043-201-7154로 전화하니 ***이 자리에 없었고\\\\n다른 직원이 전화를 받길래\\\\n팩스를 보냈으니 임지선이 검토 후 빨리 연락 달라고 부탁 함.\\\\n하염없이 병원에서 *** 전화 오기만을 기다리고 있었슴.\\\\n2시간이 넘어\\\\n■14시 10분경:\\\\n임지선이 전화가 와서 진단서 내용이 조금 미흡하니 다시 보충하여 보내 달라고 함.\\\\n그날 일처리를 하려고 하였으나 담당의 ***는 27일 그날은 오전 진료, 오후는 수술이라고 하여 나는 허망하게 청주프라임척추병원 대기실에서 10시 30분 부터 ~14시 30분이 넘도록,\\\\n4시간 이상을 극심한 고통을 겪으며 기다리기만 하다가 집으로 왔다.\\\\n■28일은 청주프라임척추병원 담당의 ***가 오전은 수술이고 오후에 진료라고 하여\\\\n■28일 13시:\\\\n병원으로 가서 대기하다가 ■13시30분에 추가로 내용이 보충이 된 진단서를 발급 받아서 흥덕구청 ***에게 팩스를 보냈다.팩스를 보냈다고 연락하니 담당자가 연락을 빨리 주겠다고 하였으나 14시 50분까지 기다렸어도 연락이 없었다.저가 전화를 다시하니 아직 검토중이라며 연락을 줄것이니 기다리라고 하였다.저는 허리에 극심한 통증을 진통제로 버티며 계속 병원 대기실에 앉아 연락 오기만을 기다렸다.\\\\n■15시경에 ***에게 전화가 와서 다시 보낸 진단서로도 긴급의료비지원이 안되니 내용을 더 추가 하여서 진단서를 보내 달라고 하였다.저는 다시 번호표를 뽑고 기다리다가 내 순번이 되어 이상호원장 진료실에 들어가서 지금까지 상황을 설명하고 긴급의료비 지원을 받으려면 진단서에 내용을 더 써 주어야 한다고 말하니 자기가 흥덕구청 담당자 ***과 통화 해 보겠다고 하여 연결 시켜 주니 두 사람이 통화를 하더니 이런 경우는 긴급의료비 지원이 안된다면서 전화를 끊었다.\\\\n저는 옆에서 그 상황을 지켜 보면서 지금까지 동분서주하며 고통스러운 몸으로 하라는대로 했는데 해줄듯 하다가 5일이나 괴롭히다가 안된다고 한마디 하는 그 사람들에게 너무 분하고 화가 났습니다.\\\\n***원장에게\\\\n\"이 ㄱ ㅐ ㅅ ㅐ ㄲ ㅣ야! 너가 사람ㅅ ㅐ ㄲ ㅣ냐.내가 흥덕구청 ***과 통화 하라고 한것은 긴급의료비 지원을 받을 수 있는 길이 있는지 찾아 달라고 한것이지 그냥 이런 경우는 안된다고 말하라고 통화하라고 했냐.이 ㄱ ㅐ ㅅ ㅐ ㄲ ㅣ 야\"\\\\n라며 소리지르며 나는 억울한 심정을 몇마디 말하다가 부질 없는듯 하여서 집으로 기어서 겨우 겨우 왔어요.***원장에게 욕을 한것은 저가 잘못한것이지만 그때 너무 분하여 욕을 했습니다.\\\\n그 뒤로 집에 돌아와서 누워서 오늘 8월 6일까지 있었습니다.\\\\n지금까지 겪은 일을 생각하면 너무 분하고 허망합니다.\\\\n***이 국민신문고에 민원처리한 답변을 보니 더 분합니다.\\\\n\"처리일 2017.08.03. 15:50:21\\\\n처리결과  1. 안녕하십니까? 귀하께서 국민신문고를 통해 신청하신 민원(신청번호1AA-1707-246283)에 대하여 다음과 같이 알려드립니다.\\\\n2. 먼저 긴급지원 의료비 상담과 관련하여 긴급지원담당자의 부재로 불편을 끼쳐드린 점 진심으로 사과드리며, 앞으로 부득이하게 긴급지원담당자가 자리를 비우게 될\\\\n경우 업무대행자를 통해 업무처리가 신속하게 이루어질 수 있도록 조치하겠습니다.\\\\n3. 위 내용과 관련하여 문의하실 사항이 있으시면 흥덕구청 주민복지과 *** 주무관(043-201-7154)에게 연락주시면 친절히 안내해드리도록 하겠습니다.\\\\n감사합니다. \"\\\\n위 내용이 ***이 답변한 내용 입니다.\\\\n저가 긴급의료비 지원을 받을 자격이 안되는데 받아 볼려고 무조건 떼쓰는 그런 사람이 아닙니다.\\\\n대한민국 공무원이 이렇케 하여도 되는 것인가요?\\\\n청주시 흥덕구청 주민복지과 ***을 생각하면 너무 억울 합니다.\\\\n좀 도와 주세요...\\\\n이렇케 위 내용처럼 2회에 걸쳐 국민신문고에 민원을 제기하였으나 국민신문고 측에서는 저에게는 어떤 도움도 희망도 주지 않았습니다.\\\\n다만\\\\n8월 16일 9시 20분경에\\\\n044-200-7445\\\\n국민권익위원회 복지노동민원과 *** 조사관이 저에게 전화가 와서 말한 내용은\\\\n\"정부가 도와 줄수 있는 것은 아무 것도 없다.기분 상하신 부분은 그냥 좀 이해 하고 넘어 가시면 안되겠냐\"였습니다.\\\\n이런 식으로 운영하려면 뭐하려고 국민 신문고 제도를 만들어서 운영합니까? 라고\\\\n문재인 대통령께 꼭 물어 보고 싶습니다.\\\\n그리고 있었던 사실을 하나 더 추가하여 알려 드리겠습니다.\\\\n●어제 8월 22일 14시경에 부재중 전화가 내 폰으로 3번 왔더군요.\\\\n17시에 같은 번호로 전화가 다시 와서 통화하면서 알게 되었는데 흥덕구청 주민복지과 ***씨 담당자 위에\\\\n관리하는 *팀장이라는 사람이 한 전화이더군요.\\\\n7월 24일에서 7월 28일까지 \"***과 그 윗 사람 *팀장\"이 긴급의료비 지원 해 준다고 말해 놓고 안 해 주면서 나를 그렇케도 괴롭히더니\\\\n그뒤로 25일 동안 어떤 전화도 어떤 말 한마디도 없더니 뜬금없이\\\\n어제 8월 22일에 연락이 와서 내일 집으로 찾아 갈테니 보자고 하더군요.\\\\n오늘 23일 11시 40분경 우리집 현관문 초인종이 울려서 집에 허리가 아파 누워 있다가 허리 보조기 차고 현관모니터 보려고 가니 모니터가 꺼져 있더군요. 잠시 뒤 나의 핸드폰으로 전화가 와서 \"흥덕구청 주민복지과 ***팀장인데 현관문 앞인데 문을 좀 열어 달라\"고 하더군요.\\\\n내가 전화로 말하기를\\\\n\"나는 허리 통증이 극심하여 시술이 필요한 사람이라 앉아 있기도 힘들다.도움을 안 주려면 뭐하려고 우리집에 왔냐.\\\\n사람 정신적으로 괴롭혀서 정신적 폐인까지 만들지 말고 그냥 가세요\"라고 말했더니 그냥 쌩하고 즉시 가고 없더군요.\\\\n그 사람들 둘\\\\n\"흥덕구청 ***\"과\\\\n\"그위 *팀장\"\\\\n이라는 여자 둘은 왜 우리집에 왔다가 갔는지 참 의문 스럽네요.아마도 이것은 형식적으로 자기들 업무 보고서에 자신들은 민원인 집에 갔다 왔다고 기록하기 위해 형식적인 행동으로 그냥 왔다는 것은 저의 글을 자세히 읽어 보시면 코흘리개 어린이도 알것 입니다.\\\\n이게 흥덕구청 주민복지과 \"담당자 ***\"하고\\\\n\"그 위에 * 팀장\"의\\\\n1달 동안 저에게 한 행적입니다.\\\\n이런 현실이 현재 대한민국의 최일선 공무원의 행태인데 문재인 대통령님께서는 알고 계실까요?\\\\n며칠전에는 티비에서 잠깐 보니 \"문재인정부출범 100일 기념 대국민 보고대회\" 라는 것을\\\\n정부 운영을 잘하고 있다고 생각하셔서  하는 것 같더군요.\\\\n힘없고 돈없고 권력없는 나 같은 사람은 이렇케 지금 처참하게 짓밟히고 당하고 있는데...\\\\n문재인정부에 묻고 싶습니다.\\\\n\"흥덕구청 주민복지과 담당자 ***\" 과 \"그 윗 사람 ***팀장\"\\\\n이 사람들이 한 달이 넘게\\\\n저에게 이렇케 행동 했습니다.\\\\n이게 문재인정부가 바라고 원하는 개혁된 공무원의 모습 입니까?\\\\n저에게 1달동안 공무원이 이렇케 고통만 주었는데 이게 문재인정부가 앞으로 하고자 하는 국민복지 인가요?\\\\n저는 간절히 여기에 청원을 합니다.\\\\n잘못된 처사를 하는 \"흥덕구청 주민복지과 *** 과\\\\n그 윗 사람 *팀장\"\\\\n두 사람을 강력히 깨닫게 하여 개선 시켜 주시고\\\\n저도 의료비 지원을 받아 허리 시술을 받아서 고통없이 좀 앉아서 어린 우리 애들 둘을 지켜 줄수 있게 좀 해주셨으면 합니다.\\\\n이제 저는 희망도 없습니다.\\\\n간절히 청원합니다!!!\\\\n(본문의 내용중 타인의 명의 등 개인정보가 무분별하게 노출되어 해당 내용은 홈페이지 관리자에 의해 \\'숨김\\' 처리 되었습니다.)존경하옵는 문재인대통령님께\\\\n저는 중국원양자원이라는 KOSPI상장사의 소액 주주입니다. 중국원양자원(이하 중원)은 이번 재회계감사에서 의견거절이라는 감사인 판단이 내려져 꿈에도 생각못한 상장폐지를 목전에 두고 있습니다.\\\\n상장폐지가되면 국내에 상장하여 천문학적인 금액을 취득하여 회사의 규모를 키우고 개인자산을 불린 후 자신의 지분도 다 팔아서 이득을 챙긴 중국인 장화리 사장은 정리매매때 휴지조각의 비용으로 자신의 지분을 다시 사들이고 대주주로서의 지위를 다시 획득하여 온전히 자신의 기업으로 만들수 있습니다.\\\\n결국 한국 국민들의 피땀어린 투자금으로 중국인 사장의 부를 채워주지만 이에 대해 한국의 금융당국 및 상장과 운영의 주체인 거래소는 누구도 이에대한 책임없이 이를 그냥 덮어버리고만 말것입니다.\\\\n이로인해 약 2만 5천의 국내소액주주는 피눈물을 흘리며 고통속에 살게 될 것입니다.\\\\n주식투자는 개인의 판단하에 이루어지는 것이나 투자에 대한 개인의 책임을 묻기전에 그 과정은 규정과 상식에 맞게 공정하고 정의로워야 할 것입니다. 이는 존경하는 문대통령님의 말씀이라 가슴깊이 새기고 있었으나 현재 우리나라의 금융 시스템, 특히 거래소와 회계감사는 그렇지 못한 것 같습니다.\\\\n이렇게 생각하게된 이유는 이번 회계감사의 주된 의견거절의 이유 때문입니다\\\\n이번 신한회계법인의 추측적이고 터무니없는 의견거절로 전재산이 한순간에 물거품으로 사라질 위기에 처한 본인을 비롯한 많은 사람들이 죽음이라는 극단적인 선택앞에 내몰려져 억울함과 원통함에 피눈물을 흘리고 있습니다. .\\\\n기업의 사업성이나 계속 존속여부를 점검하는 감사자인 회계법인은 오직 밝혀진 사실과 그에 따른 증거만을 근거로 공정하게 기업의 존속여부에 대한 의견을 내야하고 유추할 경우에도 당연히 관련 법이나 판례에 근거하여야 합니다.\\\\n그러나 신한회계법인은 법또는 제도권으로 확정되지 않은 추정사항을 의견거절의\\'결정적 이유\\'로 명시하였는바 이는 감사자의 \\'의견거절\\'에 따른 참혹한 결과로 볼때 25000명의 국민들과 그 가족들은 공정한 감사결과라 절대로 인정할수 없습니다.\\\\n이런 고통의 원인은 법 제도나 규정에 근거를 두지 않고 자의적인 추측에 따라 작성, 발표한 감사인의 감사보고서 \"의견 거절\" 때문입니다. 한국 증권거래소에 상장된 중국원양자원에 투자한 우리 국민 25,000명과 수많은 가족들은 부당한 감사인의 의견 거절로 절망에 처하고 삶의 의욕과 희망을 모두 잃어가고 있습니다.\\\\n분명 투자는 개개인의 책임입니다.\\\\n그런데 최근 언론을 통해 중대하게 다루어졌듯이 국민 노후를 책임지는 국민연금 역시 증권 시장의 공정성과 투명성에 크게 의존하고 있습니다. 때문에 증권 시장의 공정성과 투명성이 확보되지 않으면, 증권시장에 의존하여 국민의 노후를 책임지는 국민연금 역시 국민의 재산을 지켜낼 수 없고 결국에는 이리저리 부당하게 뜯겨나가서 몇 줌 안 되는 푼돈만 국민들에게 남을 것입니다. 마찬가지로 은행, 증권, 보험사를 통해 어떤 형태로든 금융 상품에 가입되어 있는 수많은 금융 소비자 역시 이런 불공정한 금융 질서의 피해자가 될 수밖에 없습니다. 이런 심대한 피해를 입힐 수 있는 증권시장의 부당함이 우리 금융시장에 새로운 전례로 남게 될 일을 앞두고 있습니다. 한 번 이런 불공정성이 뿌리내리면 그 부당함은 우리나라 금융 시장에서 독버섯처럼 세력을 뻗어나갈 것입니다. 국민 2만 5천 명의 재산이 몰수되도록 하는 회계 감사 법인의 부당한 감사 의견이 개인 투자자 2만 5천 명들의 피눈물로만 끝나지 않을 이유가 여기에 있습니다.\\\\n기업 회계 기록의 적정성이나 회사의 계속 존속 여부를 점검하는 회계 감사 법인은 오직 밝혀진 사실과 이를 뒷받침하는 증거를 근거로 회계 장부가 공정하게 기록되었는지 의견을 표명해야 하고, 추정이 필요할 경우에도 회계 기준에서 규정하고 있는 방법을 준수해야 한다고 명시되어 있습니다. 왜냐하면 회계 감사 의견 자체가 기업의 사활을 결정지을 수 있는 대출 가능 여부, 회사채 발행 가능 여부, 증권 시장에서 상장 유지와 상장 폐지에 있어서 결정적이기 때문입니다.\\\\n그러나 신한회계법인은 어떤 규정이나 법에도 근거를 두지 않고 추측과 예단을 감사 의견 거절의 \\'결정적 근거\\'로 명시하였는 바, 이는 감사인의 \\'의견거절\\'로 인해 25,000명의 재산이 부당한 상장 폐지로 몰수되는 참혹한 결과에 비추어 볼 때 너무도 무책임하며 법적 근거를 갖추지 못한 심각하게 불공정한 처사로 25,000명의 국민들과 그 가족들은 적법한 감사 결과로 절대 인정할 수 없습니다.\\\\n감사인 (신한회계법인)이 감사 의견을 \"거절\"로 표명한 근거는 3가지입니다.\\\\n(1) 증권선물위원회의 올 해 7월 정례 회의에서 회사 대표이사를 검찰에 고발하기로 결의한 것.\\\\n(2) 우발부채와 소송사건이 재무제표에 미칠 영향에 대하여 충분한 감사 증거를 회사에서 제공하지 않았다는 것.\\\\n(3) 유동부채가 유동자산보다 1,282,797,603 HKD 많고 (1,999억 원) 자본금이 222,176,074 HKD 잠식 (346억 원)되었다는 것.\\\\n사유의 부당함을 하나씩 짚어보겠습니다.\\\\n의견 거절 사유 (1)은 증권선물위원회 회의에서 중국원양자원 대표이사 고발을 1달 전 (7월 19일) 결의한 것을 감사 의견 거절의 근거로 내세웠습니다. 2011년부터 매년 2차례씩 회사 내부 서류를 샅샅히 들여다보며 매 반기와 연말 감사를 직접 수행하고 총 12차례에 걸쳐 회계 장부가 적정하게 작성되었다고 적정 의견을 표명했던 회계 감사인이 (신한회계법인) 법원의 유죄 판결도 아니고 검찰의 기소도 아닌 \\'검찰 고발 결의\\'를 1달 전에 증권선물위원회가 했던 것을 사유로 작년 말 기준 작성되었던 회사의 회계 장부를 믿지 못하는 이유라고 내세웠습니다.\\\\n2011년부터 매년 2차례씩 회계 장부와 증빙 서류를 샅샅히 확인하고 조사, 검토한 회계 법인이 손에 넣고 직접 눈으로 확인했던 그 많은 증빙 서류들은 놔둔 채, 상급 감독기관의 회의에서 대표이사 검찰에 고발 결의 사항을 감사 의견 거절의 근거로 삼은 것입니다. 지난 6년 동안 12차례의 감사 과정에 입수했던 수 많은 회계 서류로는 감사 \"의견 거절\"을 표명할 수 없었지만, 상급 감독기관에서 대표이사 검찰 고발을 결의한 결정을 사유로 감사 의견 거절을 낸 것에 주목해주시기 바랍니다.\\\\n더구나 우리나라 증권 시장의 전례를 보았을 때 대표이사가 검찰에 고발되어 실제로 3억 원의 벌금형을 선고받은 셀트리온의 경우 회사의 감사 의견에는 전혀 영향이 없었던 점에서 감사인의 의견 거절 사유 (1)은 법이나 규정에 전혀 근거를 두지 않은 내용입니다.\\\\n의견 거절 사유 (2) 역시 회사 (법인)에 대한 우발부채 및 소송사건이 아닌 회사의 대표이사 개인에 대한 우발부채와 소송사건을 문제 삼은 것으로, 회사 측과 감사인 (신한회계법인)이 각각 회사가 있는 외국 현지 로펌을 선임해 의견서를 제출받은 결과, 회사 측 로펌에서 문제가 없다는 의견을 낸 바 있습니다.\\\\n의견 거절 사유 (3)은 자본잠식 (자본잠식률 12%)이 회계 감사 의견 표명과는 무관함에도 불구하고 감사 의견 거절 사유로 내세웠습니다. 한 편 KRX 한국거래소에서는 자본잠식률 50% 이상 2년 연속 유지될 경우를 상장 폐지 사유로 규정하고 있습니다. 감사 의견 거절 사유로 12%의 자본잠식을 내세우는 것은 어디에서도 근거를 찾을 수 없는 처사입니다. 지금도 코스닥 시장에는 53개사의 부분 자본 잠식 회사들이 등록되어 있습니다.\\\\n또한 올해 4월에는 유동부채의 유동자산 초과액이 1,999억 원에서 85억 원으로 줄어드는 후속 사건이 있었습니다. 그런데 감사인은 감사 시점 7개월 뒤인 올 7월에 생긴 후속 사건은 감사 의견 거절 사유로 전면에 내세우면서도 그보다 3달 앞서 있었던 후속 사건은 감사 의견에 전혀 반영하지 않고 있습니다. 규정에 맞지 않는 근거를 내세우면서 그마저도 형평성을 크게 잃은, 부당한 감사 의견입니다.\\\\n국내 주주 25,000명의 재산 합계 수 천억 원이 하루 아침에 없어질 상황에 놓인 중국원양자원의 상장 폐지 여부는 감사인의 감사 의견에 의해 결정됩니다. 감사인 신한회계법인은 2011년부터 6년 동안 의심의 눈초리로 국내의 통상적인 회계 감사보다 훨씬 엄격하게 감사를 수행해왔고, 그 엄격한 잣대에도 회사의 회계 장부에서는 오점이 발견되지 않았습니다. 그런데 지난 6년 동안의 감사에서 수집했던 증거로는 \"감사 의견 거절\" 표명을 하지 못했던 감사인이 법이나 제도에 근거하지 않은 부당한 의견 거절 표명으로 국내 투자자 25,000명의 생계를 사지에 몰아넣고 있습니다.\\\\n회사는 현재 지난 약 3년간 선원의 파업과 어업조황의 악화 및 낮은 어가로 인해 좋은 실적을 못내었고 동시에 이러한 악조건속에서 선단수를 늘리는 모험을 감행해 더 적자폭이 늘어났습니다. 그러나 현재 어가가 회복되고 있고 늘어난 조업선단이 자리잡아 장화리사장은 올 하반기부터는 500억 이상의 순이익을 자신하고 그에따른 순이익의 20% 배당을 기대하고 있었으며 또한, 우리나라를 포함 전세계적으로 원양어업의 환경이 좋아지고 있으며, 원양업체들의 매출및 이익이 전년대비 향상되고 있습니다.\\\\n이런 와중에 이러한 부적절하고 정당하지 못하며 형평에 맞지않는 재감사 결과로 인해 상장주체인 거래소에서 대한민국에 상장시킨 “중국원양자원” 이라는 회사에 원양어업의 발전 가능성을 보고 투자한, 수십년간 성실히 살면서 아끼고 아껴서 모은 소액주주들의 소중한 재산이 한순간에 휴지조각이 될 현실에 처해 너무나도 가슴이 아프며, 소액주주들의 삶 자체가 존폐위기에 놓여 있습니다.\\\\n거래소의 심리 제도는 날선 칼날처럼 예리해야 하지만 한편으로는 투명성(공정성)과 보편성(정당성), 형평성을 유지하여 미래의 성장성이 인정되는 기업이 도태되거나 어느한쪽이 일방적으로 억울하게 피해을 당하는 일이 없도록 하는 방패의 역할도 함께 수행해야 한다고 생각 합니다.\\\\n중국원양자원 에서 과거에 일어났던 일련의 사건에 대해서만 집중하고 미래에 그려나갈 모습들에 대해서는 상대적으로 등한시 특히나, 투자자들의 권익과 입장에\\\\n대해서는 가장 후순위로 밀어놓고 이에 대한 투자자들의 의견이나 읍소에선 아랑곳하지 않는다면, 대다수의 국민들은 누굴믿고 투자를 하겠습니까.\\\\n현재 상장폐지제도에서 “투자자보호” 라고 하는 기치에 맞게 진정한 투자자보호를\\\\n위하여 공정하고 형평성있는 심사가 이루어질수 있도록 간청 드립니다.\\\\n또한, 무엇보다 재감사결과에 대한 공정한 정정을 원하며\\\\n만에하나 이루어지지않는다면\\\\n최소한 대한민국 국민인 소액주주들의 피해를 최소화하기위해 거래소 당국자분들께서 개선기간을 1년이상 다시 부여해주시는 융통성을 발휘해주시기를 바랍니다.\\\\n1년이상의 개선기간 부여로 인해 국민의 어떠한 추가적인 다른 피해는 없으면서 회사가 약속한 이익의 개선이 이루어지기를 바랄수 있고 최악의 경우 회사의 실적이 돌이킬수 없게되더라도 주총에서 장화리 사장의 해임등 안을 모색해서 국부의 유출을 막을 수 있기 때문입니다. 대한민국의 투자자를 위한 거래소라면 최소한의 억울한 투자자 피해를 막기위한 이러한 결정은 당연히 이뤄져야할 것이라고 믿습니다.\\\\n부디 한 소시민의 눈물어린 목소리에 귀기울여 주시고 대통령님이 바라시는 정의로운 사회에 맞는 판단을 해 주실것을 온 마음을 다해 부탁드립니다.\\\\n긴글 읽어주셔서 감사합니다.\\\\n2017년 8월 24일대통령님 안녕하세요 저희는 민간 해양오염방제업에 종사하는 사람으로 해양환경관리법에 따라 방제선과 장비를 갖추고 해양오염사고시 신속한 방제조치를 수행하는 기업입니다.\\\\n지난 2007년 태안에서 발생한 허베이스피리트 해양오염사고시 당시 강 무현 해수부장관께서 해양환경관리공단이 해안방제를 주관하라는 지시를 하였으나 공단은 지시를 이행하지 않아 전국에서 동원된 20여개 민간 방제업체가 동원되어 대부분의 해안방제를 성공적으로 수행한 우리나라의 중요한 방제자원입니다.\\\\n해양오염사고는 해상에 유출된 기름이 빠르게 확산되는 특성이 있어 방제선과 방제장비를 사전배치토록 하고 있습니다. 그런데 사전대비인 방제선 위탁배치를 해양환경관리공단이 독점하도록  법에서 규정하여 민간 방제업은 방제선과 장비를 갖추고도 사업을 수행하지 못하여 생존기반이 박탈된 상태입니다.    해양환경관리공단은 허베이 사고와 같은 대형해양오염사고시 민간 방제업체 보다 방제조치 기여도가 월등히 낮은 수준인데도 방제선 위탁배치를 독점하고 세계적으로 유래가 없는 방제분담금을 신설하여 약 200억원의 징수권을 준것은 2008년 공단설립이후 2014년세월호사고시까지 공단의 이사장과 임원진 9명 중 8명이 해양수산부와 산하 공무원으로 구성된 해피아 조직에 대한 특혜를 준 것 입니다.\\\\n* 국제적으로 유사한 제도를 가진 미국, 중국, 일본 등에서도 특정기관을 위한 방제조치 사전대비 위탁독점권과 방제분담금을 징수권을 주는 국가는 없습니다\\\\n3. 공단의 방제선 위탁배치 독점 페해는 민간 방제업의 생존기반 박탈로 인한 방제조치의 경쟁력 상실과 오염원인자가 수행해야 할 초동 방제조치를 제대로 수행하지 못하는 방제체제로 전락하여 국가방제능력은 약화되고, 피해확대로 인한 국가와 국민의 부담을 가중시킬 뿐만아니라 방제전문 일자리를 잠식하는 등 사회적 악영향을 초래하고 있습니다.\\\\n4. 오염원인자가 초동 방제조치를 원활히 수행하여 피해확대를 방지하고, 민간 방제업의 발전으로 국가방제능력을 향상시킬 수 있도록 해양환경관리공단이 독점하는 방제선 위탁배치를 민간 방제업에도 개방하는 법령개정을 청원합니다. 다양한 대응이 필요한 재난적 해양오염사고 방제조치의 사전대비를 특정기관에게 독점시킨 것은 국가가 방제임무를 포기한 것과 같습니다. 해피아보다 국민이 먼저 입니다.\\\\n감사합니다\\\\n한국해양방제협회안녕하세요. 대한민국 20대 직장인입니다.\\\\n우연히 임시공휴일에 관한 기사를 보게되었습니다. 그러나 이 기사를 보고 상대적으로 많은 박탈감을 느끼게 되었습니다. 이런 느낌은 저뿐만이 아닌 대부분의 사람들이  저와 같은 감정을 공유한다는 것을 알게되어\\\\n글을 쓰게 되었습니다. 임시공휴일 공기업만 해당되는 휴일입니다.\\\\n그러나 대부분의 사람들은 민간기업에 종사하고 있습니다.  민간기업 근로자들에게는 반갑지 않은 휴일...\\\\n상대적으로 많은 박탈감을 느끼게하는 휴일입니다. 민간기업 근로자들은 대부분 쉬지 못하고 직장을 나가야 합니다.\\\\n임시공휴일은 공기업 및 공무원들을 위한 휴일이죠..\\\\n누구는 쉬고, 누구는 일해야하는 휴일. 휴식있는 삶을 통해 생활의 균형을 중시한다는 휴일인데...\\\\n이게 모두에게 균형이는 있는 휴일인가요? 이러한 점을 개선 부탁드립니다.\\\\n모두가 행복해야하는 휴일을 비교과 상대적 박탈감을 느끼게하는 것이 진정한 휴일인가요?\\\\n이게 말로만 듣던 그들만의 사는 세상인가요? 모두가 기분좋은 연휴가 되길 바랍니다.학교에는 교과를 가르치는 교사와 전문영역별 비교과교사, 행정직원 그리고 교직원 또는 학생을 지원하는 인력 등이 함께하고 있으며,\\\\n비교과교사 그룹에는 보건교사, 영양교사, 사서교사,전문상담교사가 속해 있습니다.\\\\n이들 비교과교사들 모두 학부 또는 교육대학원 진학을 통해 교원자격증을 소지하고 학교내에서 일반 교과교사들과는 상당히 차별화되는 직무를 맡아 수행하고 있습니다. 이들은 교과교사에 비해 학생\\\\n들과의 직접적 소통의 기회가 다소 적을뿐, 학교교육과정 수립에 따른 관련 교과 연계 교실수업,창의적 체험활동, 동아리활동 등의 시간을 통해 학생들과 적극 소통하고 있습니다.\\\\n학생들의 안전과 복지 강화차원에서 학교에 비교과교사를 영역별로 1인 이상 배치하는 것이 가장 이상적이나, 2017년 5월 기준 비교과교사의 법정교원 확보율은 보건교사 73.5%, 영양교사 52.8%, 상담교사 20.3%, 사서교사 17.4%로 현장 수요에 비해 매우 부족하며, 초등교사 및 중등 교과교사에 비해서도 턱없이 낮은 수준이며, 교원 중 교장. 교감을 제외한 교과교사가 절대다수를 차지하고 있습니다.\\\\n따라서 지난 7월 국정기획자문위원회에서 발표한 문재인 정부 국정 운영5개년 계획중\\\\n‘미래 교육 환경 조성 및 안전한 학교 구현’의 세부 추진계획으로 “비교과교사 확충”이 포함된 것은 교과교사-비교과교사 충원의 불균형 해소를 위한 방안으로서 매우 의미가 있기에 정부의 정책을 신뢰하며 적극 지지합니다.\\\\n각 분야에서 전문성을 지닌 비교과교사가 학교별로 1인씩 배치될 수 있도록 앞으로도 비교과교사 법정정원 확충에 큰 관심과 지원을 부탁드립니다.\\\\n감사합니다.페북에 가입해 볼까해서 절차를 밟았는데, 증명사진 급의 아이디 파일을 요구합니다. 어느 다른 IT 회사에서도 이런 요구를 받은 적이 없습니다. 충격적이네요.\\\\nFace tagging 을 유저들 모르게 이용하려는 목적인 것 같습니다. 저는 가입을 하지 않기로 결정했지만, 인터넷 검색을 해 보니 체념하고 파일을 올린 후 가입하는 사람들이 있네요.\\\\n페북은 개인정보 약관을 바꿀 때마다 논란이 되어왔습니다. 한국서비스의 개인정보 방침은 어떻게 관리되는지 궁금합니다.\\\\n우선 일반 시민들의 사진을 요구하지 못하도록 정부에서 막아주십시요.먼저 지금 이순간에도 공정한 경쟁을 통하여 공직에 입문하고자 노력하고 있는 수많은 분들에게 심심한 위로의 말씀을 전합니다. 전 이 정부가 시작할 때 정말 설렜던 멘트가 있었습니다. \"기회는 균등할 것입니다. 과정은 공정할 것입니다. 결과는 정의로울 것입니다.\" 이미 공직이나 사기업이나 수많은 낙하산들이 타인의 기회를 박탈하며 내려왔었고 지금도 내려오고 있었으나 앞으로는 막아줄 것이라 헛된 희망을 가졌기 때문입니다. 지금의 공공부문 정규직화는 양질의 일자리를 늘려 소득주도 성장을 이룩하여 양극화를 조금이라도 더 해소시켜보겠다는 의지로 이해됩니다. 진단에 동의하고 양질의 일자리를 늘리겠다는 방향에도 동의합니다. 그런데 왜 방법이 스스로 발언했던 모든걸 역행하고 결과를 균등하게 하는 새로운 적폐의 시작인 겁니까? 공공부문 정규직은 응시 자격만 충족하면 누구에게나 열려있던 일자리가 아니었나요? 이미 이명박씨가 고졸자 구분모집으로 차별을 만들었고, 기능직의 일반직 전환으로 공정함이 훼손된 상태였는데 이 정부마저 수많은 공시생들에게 좌절감을 주고 사회 공정시스템을 파괴시키는 새로운 적폐를 시작할 줄은 정말 몰랐습니다. 요즘 본인들이 추진하는 공공부문 정규직화 관련 기사 댓글들 살펴보시나요? 그게 민심이고 현실이고 당신들의 오류입니다. 사람들이 이기심으로 남 잘되는 꼴을 보니 배가 아픈게 아닙니다. 자신들에겐 지원할 균등한 기회가 없으며 공정한 경쟁도 없이 그 양질의 일자리를 누군가 차지하고 또한 주변 지인들이나 소문을 통해 지금의 공공부문 비정규직들 대부분이 이미 비정규직이 되는 과정에서 조차 인맥을 이용하여 수많은 타인을 들러리로 만들고 내정된 상태로 형식만을 치루어 채용되었다고 믿기 때문입니다. 양질의 일자리를 만들며 이런 문제가 없는 아주 간단한 방법이 있습니다. 이른바 기간제 일자리는 현재 종사자들이 사인한 계약기간이 만료되면 그대로 다음 정규직 공채 인원에 넣어 국민들에게 모두 기회를 균등히 보장해 주고 공정한 채용과정을 통해 선발하시면 그 결과는 양질의 일자리 확산으로 정의로워 집니다. 이렇게 정의로운 방법이 있는데도 지속적으로 새로운 적폐를 만드시겠다면 현재 공공부문에 정부 인사들의 지인들이 상당하다고 의심할수밖에 없을것 같습니다.어제 구미시 구평동에 다리를 다쳐서 기어다니는 고양이가 있다고해서 가보았습니다 차밑에서 아픈몸을 이끌고 기어다니고 있었어요 어떤분이 아침에 유기동물보호소에 접수를 했다고 들었고 제가 퇴근후 어떻게든 구조를해서 병원을 데려가고픈 생각에 갔던거구요\\\\n5시반쯤 도착했는데 혼자서 잡긴 너무 힘들었어요 사납기도하고 계속 차 밑으로 가더라구요 119 시청 다 전화했지만 핑퐁도 아니고 고양이는 구조를 해줄수없다 우리부서 관할이 아니다는 답변만 받았죠\\\\n다시 유기동물보호소로 전화하니 ***이라는 사람이 전화를 받았어요\\\\n구평동이라고하니 알고있다면서 바쁘다고 일끝나고 올거랍니다\\\\n저는 다급해죽겠는데 기다리던지 아니면 저보고 박스에 넣어서 병원에 데리고 가랍니다\\\\n제 말 뚝뚝 끊고 건성건성일하는게 느껴지더군요\\\\n저도 화가나서 언제요?라고하니 그때부터 제가 예의가 없다는둥 말 이쁘게 하라는둥\\\\n전화도 일방적으로 끊고 문자를 보내네요\\\\n수십번 전화했으나 계속 수신거부를 합니다\\\\n저도 속상하고 화나서 다급하게 얘기한건 맞지만 통화내용녹음을 들어봐도 먼저 불성실하게 말한 사람은 ***이라는 사람입니다\\\\n알고보니 제가 4월에도 이사람이랑 통화를 했더군요 그때도 알고있다 접수받았다 기다려라 이런 말이었는데 말투자체가 그때도 건성건성이라고 느꼈어요\\\\n어쩔수없이 전 시청 동물사쳬처리팀의 도움을 받아 7시 45분쯤 고양이를 포획하였습니다 이분들은 본인들 담당업무도 아닌데 성의껏 정말 잘 도와주셨어요\\\\n고양이를 제차에 태운뒤 여기저기 동물병원을 알아보고있는데 7시 56분쯤 그 ***이란 직원이 후레쉬하나들고 내려서 어슬렁 어슬렁 고양이를 찾더군요\\\\n내려서 한바탕하고 싶었지만 치료가 우선이었기에 계속 병원을 알아보고있었어요\\\\n그 ***이란 사람은 5분정도 찾아보더니 자리를 뜨는데 정말 돈벌기 쉬운 꿀알바가 따로 없어보였어요\\\\n책임감가지고 일한다는 사람이 어찌그리 서두르는 기색없이 아침에 접수된 아이를 밤 8시에 와서 찾겠다는건지...\\\\n그리고 처음접수했던 분에게 전화를해서 막무가내로 화를 냈다고합니다\\\\n이쯤되면 정신적으로 문제가 있거나 직무유기아닌가요\\\\n세금지원받아 운영된다고 알고 있는데 이런 사람이 동물을 구조한다는게 너무 소름끼치고 화가 납니다 도대체 유기동물구조협회는 왜 뭐땜에 운영되는건가요\\\\n인천쪽 협회에 전화하니 이태현 이 사람이랑은 너무 다른 태도로 답변해주더군요\\\\n구미시만 이런건가요 아님 이사람만 이런건가요\\\\n시정될때까지 계속 민원제기하겠습니다\\\\n하찮은 생명이지만 그래도 치료하겠다는 사람이 있는데 최대한 도와주려는 모습은 보여야하는거 아닐까요?\\\\n일하는 태도며 말투 하는 행동 생김새 다 하나같이 저급하네요\\\\n(본문의 내용중 타인의 명의 등 개인정보가 무분별하게 노출되어 해당 내용은 홈페이지 관리자에 의해 \\'숨김\\' 처리 되었습니다.)저의 어린 제자가 하늘나라로 갔습니다.\\\\n관련기사 내용 http://www.idaegu.com/?c=6&uid=367272\\\\n2017년 7월 14일 07시50분경 대구 수성구 두산동 소재의 대우트럼프월드아파트 앞 횡단보도에서 등교하던 여중생(14세)이 신한종합건설(주)에서 시공 중인 오피스텔(수성헤센 더 테라스) 공사현장으로 진입하던 25톤 덤프트럭에 치여 현장 사망한 사고가 있었습니다. 저는 그 사망한 중학교 1학년 여자아이(배지인)의 아빠인 배은수입니다. 사고 당일 아침 25톤 트럭 밑에 깔려있는 딸아이의 참혹한 모습을 본 이후로 저희 가족들 모두는 정신과 치료를 받아야만 하루 하루를 겨우 버텨낼 수 있을 정도로 극심한 고통에 시달리고 있습니다.\\\\n교통사고로 인한 사망사고는 전국 어디서든 비일비재하게 일어난다고만 생각했던 저에게 이런 사고가 막상 일어나니 유가족들의 마음이 얼마나 뼈저리게 아픈지 느낄 수 있게 되었습니다.\\\\n저를 포함한 저의 가족들은 금번 사고가 운전자 과실로 발생한 단순 교통사고로만 생각하고 있었기에 가장으로써 이 사고를 빨리 수습해 남아있는 가족들을 추스르고 보살펴야 한다는 생각에 죽을 만큼 힘든 마음이었지만 꾹 참고, 또 참아가며 딸아이의 장례를 치러야만 했습니다.\\\\n그런데 장례를 다 치룬 후 저희가 살고 있는 아파트 관리소장으로 부터 뜻밖의 사고관련 내용을 전해 듣고서 저는 경악을 금할 수 없었습니다. 첫 번째는 사고 직후 가해 운전자는 경찰 진술에서 아파트 뒤쪽에 위치한 오피스텔 공사현장으로 가던 차량이 아니라 다른 공사현장으로 가야하는데 길을 잘못 들어 그만 사고가 나고 말았다는 허위진술 내용이었는데, 이는 시공사가 사고 파장이 커질 것을 우려해 의도적으로 사고를 축소ㆍ은폐하기 위함이었습니다.\\\\n그보다 더욱 놀라운 사실은 트럼프월드 입주민회에서 2013년도 사고현장 오피스텔 사업인허가 전부터 공사차량 출입으로 인한 안전사고를 우려해 해당구청에 수차례에 걸친 민원을 제기한 바 있었습니다. 인근주민들의 민원으로 사업인허가에 차질이 발생한 시행사는 자진하여 주민 공청회를 열어 각종 안전대책을 제시하며 주민들을 안심시키고 이에 수성구청은 조건부로 사업을 허가해 주었습니다.\\\\n주민들을 안심시킨 시행사의 공사 안전대책들은 첫째가 등하교 및 출퇴근시간에는 차량운행을 하지 않겠다는 것이었고, 공사차량의 운행 경로를 사전 지정하여 지정경로로만 운행함은 물론 차량운행 경로 곳곳에 신호수를 배치하여 보행자의 안전을 철저히 도모하겠다는 약속을 하여 주민들도 공사 진행에 동의하게 된 것입니다.\\\\n이러한 공사업체의 사전약속들을 제 눈과 귀로 확인하는 순간 저는 또 한번 하늘이 무너지는 마음이 들어 그만 바닥에 주저앉고 말았습니다.\\\\n공사업체에서 주민들을 안심시키기 위해(공사인허가를 받기위해) 제시했던 저 수많은 약속들 중에 단 하나라도 지켜졌었더라면 내 딸아이의 사고는 발생하지 않았을 거라는 원망이 북받쳐 올라왔습니다.\\\\n세월호 사고가 어른들의 무책임한 안전의식으로 수많은 어린학생들의 희생을 불러왔듯이 이번 제 딸아이의 교통사고 또한 단순 교통사고가 아닌 절대 발생되어서는 안 되는 또 하나의 인재라는 사실을 실감하게 되었고, 이에 저는 너무 억울하고 원통해서 매일 밤잠을 제대로 잘 수 없는 지경에 이르렀습니다.\\\\n수성구청의 주선으로 공사관계자들을 만나 이야기를 들어보니 주민공청회 주관 및 공사 안전대책을 약속한 주체는 시공사인 신한종합건설이 아니라 시행사인 미광개발이라서 자기들과는 별개의 회사이므로 책임을 회피하기에 급급하였습니다.\\\\n한술 더 떠서 차량운행 경로 등 공사현장 가림막 외부의 안전관리는 자신들의 몫이 아니라고 확실하게 선을 그으며 이번사고의 모든 책임은 운전자에게 있다고 이구동성으로 제창하였습니다. 왜 정해진 운행경로로 운행하지 않고 등하교시간대에 다수의 인파로 복잡한 그길로 운행한 것이냐고 공사관계자들에게 재차 항의하자 운전자들이 임의로 변경한 것이지 본인들과 무관하며, 덤프트럭의 운행경로까지 시공사에서 이래라 저래라 할 권한이 없다고 말하였습니다.\\\\n시공사 및 구청관계자와 만남은 저에게 더욱 큰 마음의 상처만 남겨주었고, 제 마음속에 답답함과 분노는 극에 달해 이성을 잃고 수성구청관계자에게 하소연하였습니다. “운전자 임의로 변경할 수 있고 그 어떤 제제도 할 수 없는 사안을 주민들 모아놓고 공청회는 왜 했고, 그 수많은 안전대책은 어디에다 써먹을려고 제시한 것이며, 구청에서는 뭣하러 심의까지 해서 공문으로 하달하신 것이냐고......”\\\\n그 이후 두세차례 공사 관계자와 만남의 자리를 가졌지만 계속 같은 입장만 반복하고 있습니다.\\\\n1. 사업인가시 공청회때 내용은 시행사가 약속한거지 시공사는 상관없다.\\\\n2. 시공사에서 공사차량 운행경로에 대해 약정한 문서가 없다.\\\\n(수성구청에 정보공개로 확인해본 결과 시공사가 2016년 10월경 직접\\\\n제출한 안전대책에 차량운행 경로가 나와 있었습니다.)\\\\n3. 공사차량이 사전 약속된 운행 경로 외 다른 경로로 운행하더라도 시공사는\\\\n가림막에 인접한 도로(공사현장 입출)만 통제할 뿐 진입로는 시공사 통제\\\\n사항이 아니다.\\\\n4. 피해자 연락처를 몰라 연락을 못했다.(사고일로부터 17일 지날 때까지\\\\n가해자뿐만 아니라 시공사측 누구에게서도 단 한번의 연락도 없었고\\\\n딸아이의 장례식장에도 어느 누구하나 오지 않았습니다.)\\\\n이런저런 핑계만 계속대는 모습과 아무도 우리 아이의 죽음을 미안해 하거나 애도하는 모습을 보이지 않는 것을 보고 아빠로써 아무것도 하지 못하고 있는 제 모습에 더욱 화가 나고 있습니다.\\\\n그 이후로도 10여일이 지날 때까지 시공사에서는 미안하다는, 제대로 된 사과 한번 없이 시간이 흘러가고 지난 8월10일 미팅이 잡혀 다시한번 시공사 관계자를 만나게 되었습니다. 그런데 그날의 시공사 태도는 절대 용서할 수 없을 정도로 당당하고 본인들은 아무런 잘못이 없다는 입장이었습니다. 변호사를 통해 알아보니 법적으로는 책임이 거의 없고 처벌 받는다 해도 벌금형 같은 가벼운 처벌이니 법대로 하라는 것과 지금까지 공사를 중단했으니 내일부터는 공사를 재개하겠다는 일방적인 통보였습니다. 그래도 우리나라에서 강소기업이라고 대대적으로 홍보하는 큰 기업이 일반 소시민을 상대로 이래도 되는 건지 도저히 납득이 되지 않습니다. 법대로 하자는 말이 틀린 말은 아니지만 이러한 상황에서 우리 아이의 목숨을 앗아간 사람들이 단 한번의 사과도 없이 이러한 행태를 보이는 것이 인간으로써 할 수 있는 짓인지 모르겠습니다. 사고 직후부터 시공사는 한 아이의 목숨보다 금전적 손해를 생각해, 가해 운전자를 설득해서 다른 현장소속 차량이라는 거짓진술을 시키고, 현장소장은 사고현장이 코앞 장소임에도 직접 사고현장을 확인하게 되면 시공사가 이번 안전사고와 연루되는 것을 염려한 나머지 어떤 상황인지 어떤 일이 벌어졌는지 와 보지도 않은 파렴치한 인간들입니다. “구청에서 피해자를 만나보라고 하니 만나긴 하지만 시공사는 아무런 책임이 없다”는 말 뿐이며, 모든 잘못은 운전자(가해자)의 운전 과실로 인한 것이라며 자신들은 공사를 강행하겠다고 말하는 금전과 물질만 생각하는 인간들과 기업입니다.\\\\n저 혼자 하소연 할 때 시공사는 현장소장 외에는 아무런 관심도 보이지 않다가 신문기사 및 아파트 주민들의 여론이 들고 일어나자 그제서야 서울본사에서 사람이 내려와 만남을 가졌는데, 사고 피해자인 유족들을 만나러 와서 낮에 일을 보고서는 저녁에는 자기네들끼리 단합하는 회식자리를 가졌는지 새벽까지 술에 취해 희희낙락하며 즐거워하는 모습을 제가 직접 목격한 바 있습니다. 그것도 사고 현장 근처에서 말입니다.\\\\n그렇게 저희 가족들의 가슴에 상처를 준 것도 모자라 그 이후에도 저희 가족들이 시공사측의 사과를 요구했지만 끝내 연락한번 없었습니다. 한번은 대표이사가 지금 대구 내려가니까 2-3시간 뒤에 만나자고 갑작스런 연락이 온 적이 있어 가족들에게 연락해서 같이 만나려면 4시간은 걸리니 시간을 조율해 달라고 부탁을 했지만 대표이사의 스케줄 때문에 안된다며 일방적으로 통보를 하는 겁니다. 사과를 하러 온다는 대표이사는 잠깐 저희 가족들에게 얼굴만 비추고 가려는 건지 1-2시간을 못내서 바로 서울로 올라간다고 하니 저희 가족들은 또 한번 시공사의 이런 행태에 분노하지 않을 수 없었습니다. 대표이사가 유가족에게 사과를 하러 직접 대구까지 내려왔는데 유가족이 거부해서 못 만났다고 얘기하는 그런 회사입니다. 8월 17일 대표이사와 통화하면서 빠른 수일내에 다시 일정을 잡아서 내려오고, 하루 전에만 연락주면 가족들 시간을 맞춰서 나오겠다며 저희 가족들의 의견을 전달했고 대표이사는 일정을 잡아서 연락을 주겠다고 약속을 했지만 21일 기획실 팀장이 전화가 와서는 ‘무슨 일로 대표와 통화를 원하냐’는 말을 하는 겁니다. 시공사 대표는 저희 가족들에게 사과하러 온다면서 갑질을 계속 할 뿐만 아니라 이제 와서는 본인이 직접 약속한 것도 언제 그랬냐라는 식으로 나 몰라라 하고 있고 22일에는 공사까지 재개하여 저희들의 가슴에 또다시 상처를 주고 있습니다.\\\\n현재 수성구청에서 행정명령으로 공사는 일시 중단이 됐지만 교통안전계획에 대한 서류만 보완이 되어서 한국시설안전공단에서 승인이 떨어지면 바로 공사를 재개할 수 있다고 합니다. 그 이후로는 수성구청에서 시공사를 처벌한 방법이 없다고 하니 저희 가족들은 시공사의 이런 행태를 보고도 가만히 있어야 하는 걸까요? 아빠로써 아무것도 하지 못하고 잘못을 저지른 사람들이 저희 딸에게 사과하는 모습도 보지 못하고 가만히 있어야만 하는 제 자신이 너무나 원망스럽고 죽고 싶은 심정입니다.\\\\n지금까지의 행태만 보더라도 공사주체인 신한종합건설은 공사를 속행할 생각만 하고 있지, 저희 가족들이 평생 가져가야 할 마음의 짐과 아픔, 우리 아이의 잃어버린 미래에 대해서는 조금도 미안한 마음을 갖지 않고 있습니다.\\\\n제발 저처럼 돈 없고 빽 없는 일반국민들이 힘 있고 돈 있는 자들에게 더 이상 이렇게 짖밟히는 일이 없었으면 합니다.\\\\n일반 국민에게 법대로 하자는 기업을 절대 이길 수가 없습니다. 한마디 사과도 안하는 이런 기업은 지금도 사람 목숨을 너무 하찮게 여기고 있습니다.\\\\n죽은 제 딸 지인이를 생각하면 지금도 잠을 못 이루고 모든 것을 포기하고 싶은 심정입니다. 그런데 건축허가 조건으로 자신들이 안전대책이라며 직접 구청에 제시한 통행로로 차량이 운행을 하지 않아 사람이 죽었는데도 자기들은 책임이 없다는 신한종합건설사를 엄중히 조사하여 강력히 처벌하여 주시기를 바랍니다.공직자 적폐청산\\\\n임종석 비서실장님 안녕하세요?\\\\n현재는 고위직 검사의 지위에 눌려서 상대지구대와 진주경찰 수사과 진주지청이 연계되어 복종하는 비리 때문에 고소를 하여 법적절차에 따라 모든 조치를 취했으나 상명하복으로 연결되는 고위공직자 비리를 혼자서 감당하기 어려워 글을 올리니 비서님과 참모진이 논의하여 대통령님께도 보고를 하시고, 군사무기(아이도저와 결합한 청음기) 특수성 때문에 경찰이나 지청이 회피하여 미대사관이나 영사관을 통하여 사실증명 확인과 검찰의 올바른 수사를 지휘하여 저를 포함한 무고한 사람 15명(+)이 더 이상 피해를  당하지 않도록  공정하고  상식이 통하는  세상을 만들어 주시기 바랍니다.\\\\n진주경찰 수사과와 지청이 연계하여 수사를 한 번도 제대로 하지 않고 16년 동안 비리를 키워으며, 관련자를 고소와 항고했으나 진주지청과 부산고등검찰 창원지부에서 각하처분을 받아고 2010년부터 지금까지 군사무기 때문에 피해를 당해 전기기사로 재직중이나 현장에  나가지 못하고 건강유지에 모든 시간을 소모하고 있으며, 군사무기로 인한 피해를 사실증명  하기 위해 저가 수사관이 되어 첨부파일 4매를 완성하는데 5년이란 세월을 소비했습니다.\\\\n본인이 수사한 내용은 울산광역시청 과장으로 퇴임한 고자인 김병규라는 인간이 처가의 고위공직자의 지위를 빌어서 비선공무원을 양성시키고 무시험으로 자격증을 취득시켜 금전을 얻는    비겁한 인간이며, 범죄 주체인 여자고자 홍영표와 연인관계로 군사무기로 중성 고아출신을     이용해 금전을 착취한다는 것을 알면서 홍영표를 도우기 위해 2004년 창원에서 홍영표 경찰 노창섭과  중성고아 정진영 서윤정 정서영이 의결을 맺어 자신의 우월감을 과시하는 파렴치한 인간이고 처가 고검장급과 홍영표의 연결고리로 32년 동안 범죄를 무마할려고 하는 사람이며,\\\\n작부출신 홍영표는 주한미군 흑인과 육체관계로 아이도저를 구입해서 85년부터 경기도 근처에서 금전을 착취하기 위해 사용하다가 발각될 무렵 91년도에 진주로 이사와 호적에서 삭제된  중성인 일자무식 정서영을 기독 유아원 생활관 선생으로 취업시켜고 지시하여 9세 10세인 고아5명의 교육과 도담을 무너뜨려 1년후 퇴학을 당하게 하고 중성인 신체적 단점을 지적하여 좋은 뜻으로 캡슐마약을 복용시켜 단점을 이용하여 시키는 대로 따르게 하여 26년 동안 계속되고 있으며, 캡슐마약 중독자 홍영표는 주약동 삼한나우빌 주거하면서 2001년에 상대동 도동아트빌Ⅳ에 주거하는 고아출신 6명의 뇌파를 읽어 아이도저와 결합한 청음기로 마약중독자 고아출신에게 지시하여 도동아트빌Ⅳ에 4명과 불명인 2명의 굴복을 받았으며, 지금은 삼한나우빌에서 1명을 하인으로 여기어 살고 있으면서 고아출신 5명에게 저를 금전을 지급할때까지 괴롭히라고 하는 흉악범이며, 홍영표의 양아들같은 저의 첫 번째 담당경찰 수사과 노창섭은 2011년 10월 범죄을 알면서 덮어려고 김병규에 의해 연결된 고위직 검사의 지시에 따르는 경찰로 신원조사와 신체검사가 반드시 필요하며, 부패한 경찰 노창섭을 직무유기로 고소할 예정으로   첨부파일 4매를 보내며 요청하면 고소장 7매도 전송하겠습니다.\\\\n저는 당원으로 서거하신 노무현 전대통령을 우상으로 생각하고 살았으며 국민의 인권변호사와   비서실장 사람사는 세상 이사장을 하시고 정도를 걸어오신 문재인 대통령을 정말 존경합니다.       주소: 경남 진주시 상평동 277-32번지 가람빌 303호\\\\nh p: 010-7338-6028\\\\n나이: 50세          심학보 올림안녕하세요. 부동산정책 제안합니다.\\\\n8.2 부동산 정책의 규제대상자 선정기준을 제안합니다.\\\\n제안에 앞서 간단하면서도 답변하기 어려운 질문 하나 드립니다.같이 풀어보세요\\\\n질문1\\\\n서울 투기지역내 20억원 아파트 주인인A와 그아파트에  전세 15억원으로 살고 있는 사람B와  지방의 비조정지역내 아파트 3채의 집주인C 중에서 부동산 규제대상은 누구인가요?\\\\n참고적으로 C는 아파트 3채의 총매수액이 약4억원으로 1채(1억원,주담대있음)는 거주,1채(1억원,주담대있음)는 부모에게 증여받았지만 현재 부모가 거주하고 있고 더 넓은 평수로 이사가서 부모를 모시기위해 그 아파트의 주담대를 받아 다른 아파트 1채(2억원,주담대있음) 를 매수후 돈이 모자라서 전월세를 놔준 상태있는 사람로 개인적인 사정으로 20년후에나 2억원이 모일것으로 판단하고 그때까지 성실히 근무하고 있다고 가정하겠습니다.\\\\n참고적으로 A와 C는 재산세를 공시가격에 적법하게 내고 있고 특히 B는 전세금에 관련된 세금을 낼수 있는 관련법규가 없어서 안내고 무주택자로 인정받고 각종혜택을 받고 있는 실정입니다.\\\\n자~설명이 길지만 누가 서민이고 누가 다주택자이며,누가 적폐대상인가요? 누구를 먹고살게 해야 하나요?\\\\n저는 부동산 초보이지만 주택유무로 1주택자,다주택자를 일괄적용 한다는 것은 공평하지 않고 억울한 국민들이 나올것 같습니다.\\\\n통상 제품가격을 강제하는 것은 공정거래법상 법규위반으로 알고 있으나 주택에 관해서는 국가가 나서서 통제하는것은 적절한 처사가 아닙니다.그 목적이 미친집값,미친 전월세를 잡기위한 목적이지만 반대로 착한집값,착한 전월세는 어디까지 인가요?기준이 없습니다.강남의 아파트가 평당100만원하면 착한 집값인가요? 단지 집값 상승률을 전년대비,전월대비.누계대비로만 잡으려고 하면 지방 시골에 23평 1억에 사는 가족이 그 돈으로  조만간에 서울 강남아파트에 23평을 살수 있나요?\\\\n그리고 진정 국민들에게 착한 주택을 빠르고 안정적으로 하기위해서는 다주택자들에 퇴로를 열어주셔야 되지 않을까요?군대 전술중에 적을 섬멸시키기 위해 퇴로를 먼저 차단하고 우회로 기습공격하는 보병소대전술 같습니다.국민들중 다주택자는 섬멸되어야하는 적인가요?\\\\n방법은 간단하게 보여요.다주택자의 집들을 신속히 팔수 있도록 양도소득세를 일정기간 면제시킴과 동시에 보유세중과를 시키고 주택을 사는 사람들은 쉽게 구매할수 있도록  걷어드린 보유세로 대출비율을 높이고 이번정책 전 부터 걷어드린 양도소득세,취등록세는 100%다시 공공주택을 공급하는 양면전술을 하는것이 가장 좋은 최선책 같습니다.\\\\n또한 제안의 핵심인 대안을 말씀드리기전에 먼저 부동산 투자를 권하는 각종매체를 없애주시길 바라고 연예인중에 어디에 투자했더니 대박을 쳤네,서울아파트가 몇채네 하는 갭투자를 하게끔하는 것을 원천적으로 차단해 주셨으면 합니다. 국가정책과 상반되는 언론기사 또한 차단이 먼저 입니다.\\\\n제가 부동산 정채실무자라면\\\\n1.주태유무와 상관없이 주택 금액으로 규제 한다.\\\\nㅡ주택 전세입자도 마찬가지 포함이나 비율을 주택금액의 70%로 한다.\\\\nㅡ전국5대광역시를 우선시범지역으로 선정하여 해당광역시의 전체 주택종류에 따라서 공시가격의 평균으로 선정하되 행정구역으로 나눠서 세분화의 평균 가중치를 적용 시킨다.\\\\nㅇ예)\\\\n-광역시 아파트 평균 공시가격 평당7백만원\\\\n-구의 아파트 평균 공시가격 평균 6만원\\\\n-동의 아파트 평균 공시가격 평균 8백만원\\\\nㅡ> 23평의 주택금액 161백만원 이상 1주택으로 선정, 그미만은 무주택(소액주택으로 인정)\\\\nㅡ> 위주택의 전세입자 또는 그 해당동의  전세입자는 주택가격의 70%인  112백만원을 1주택으로 선정,재산세가 아니 임대세로 그주택가의 70%를 세금 청구,1년1회,또는 전세금 확정신고시 완납조건(월세입자는 보증금과 2년 납부할 월세의 합이 그주택가의 50%인 80백만원 이상시 임대세 징구 , 2년1회납부)\\\\n*군.읍단위일 경우의 주택은  평균 공시지가의 90~80%만 인정\\\\n공시가격은 목적은 단순 재산세를 내기위한 용도외에는 큰의미가 없을정도입니다. 이제는 바뀌어야 합니다. 시세.공시가격가 거즘 맞지 않습니다.이번 기회에 부동산 규제시 규제대상을 명확히 하고 유주택기준을 현재 패러다임에 맞춰서 단순주택수가 아닌 주택가격으로, 전세임대자도  주택가격에 일정비율로 유주택자로 선정하여야 할것입니다.서울 강남의 고액의 전세임대자  보다 못한  지방의 집주인들과 어렵게 살아가고 있는 소액의 월세와 사글세를 사시는 분들이 더 집이 필요한것이 아니간 생각되어 부족한 글솜씨로 제안을 올립니다.\\\\n부동산 초보자로서 용어가 틀리거나 글자가 틀리더라도 이해 부탁드리고 아무쪼록 부동산 담당부서의 관계자들도 여러가지로 스트레스가 많을줄 압니다만 채찍만이 능사가 아니며 가난은 나랏님도 못구한다고 했습니다.비록 조그만한 제안이지만 국가정책에 도움이 되었으면 합니다.\\\\n긴글 읽어 주셔서 감사합니다.대통령님께서 꼭 보시길 바랍니다. 코웨이 얼음 정수기를 쓰고 있는데, 니켈 조각이 나왔어요. 해당업체 닥터가 나와서 확인도 했답니다. 담당자라고 전화와서 환불은 안되고 정수기 교체를 해 준다네요. 작년에 큰 이슈가 된 모델은 환불에 교체까지 해 줬는데, 이건 개별적인 결함이라 동일한 보상은 없다네요.  그럼 작년 니켈은 문제가 되고, 지금 니켈은 문제가 안된다는 건지..니켈이 나온 사람들의 모임 카페에 가입 했는데 같은 문제로 화가 나 있는 상태 입니다. 작년처럼 크게 이슈화 되면 보상이라는걸 해 줄라는지...정말 화가 납니다.물은 매일 하루에도 몇번씩 마시는건데 이렇게 만들어 놓고 배짱입니다.대통령님께서 꼭 힘없는 소비자의 대변인이 되어 주시길 간절히 바랍니다.대통령님^^ 민주주의 사회에서는 국공립과 사립은 공존하여 서로 경쟁 발전해야하며 시급한 사항을 몇가지 올립니다.\\\\n1.유보통합으로 보육과 교육의 서비스 질을 높여야합니다.\\\\n2.사립은 표준보육료 현실화 적어도 20프로 인상하여 운영할 수 있도록 해야합니다.\\\\n3.원장과 교사의 자격을 고졸이상 아닌 대졸 관련학과와 교육.연수로 강화하여야합니다.\\\\n4.사립학부모 평등을 위한 차액보육료 지원\\\\n5. 무분별한 사립 인수 국공립전환 반대 국공립은 국가에서 부지매입해 건축해야 질높은 국공립이 되며 현재 국공립 원장 교사등은 실제로 예전보다 질이 엄청 떨어집니다.\\\\n6.사립도 생계형이 아닌 대표자의 재력도 조건에 들어가야합니다. 가족들이 모두 같이 하는건 아니고 구립도 가족들 채용해 사유화식 운영은ㅈ금지되어야합니다.\\\\n7.구립은 차츰 병설유치원처럼 교사고시등을 패스한 분만  근무하도록 하여 질을 높이고 급여도 지금처럼 지원은 아니고 100 프로 지원해야 구립의 수준이 올라갑니다. 구립의 속을 들여다  봐야합니다 겉으로 ㅠ 그게 다가 아닙니다.\\\\n8.무엇보다도 사립과 공립을 같이 발전시켜 그 특성에  맞게 운영하고 부모들에게 선택권을 주어야한다.\\\\n9. 사립교사들 인건비 지원 수당을 원에 지급해 원에서 기본급과 같이 급여일 급여로 지급하도록하여야한다.\\\\n그밖에 많은 의견이 있으나 위의사항만이라도 개선해주시길 부탁드립니다.영어전문강사와 스포츠강사들은 이명박 정권 시절에 들어와 자리내린 기형적인 제도입니다. 이들은 실력을 공개검증하는 자리인 \\'임용고시\\'를 통과하지 않고 인맥으로 채용된자들 입니다. 공부하는 수험생들은 바보라서 취업해서 돈벌지 않고 노력을 쏟아서 공부하고 있는게 아닙니다. 학생들을 가르치고싶다면 응당 임용고시를 통과하면 됩니다. 기간제교사와 강사들은 알음알음 인맥으로 채용되어 실력과 성품, 교육에 임하는 자세가 적절하지 못한 경우가 많습니다. 학생들과 학부모들도 우리 선생님이 임용고시를 정정당당하게 통과한 \\'교사\\' 였으면 좋겠지, 임용과정을 제대로 거치지않고 들어온 \\'강사\\' 를 원하지 않습니다. 무기계약직 또한 이뤄져서는 안됩니다. 무기계약직으로 학교에 눌러앉는것 자체가 임용고시생에 대한 역차별이고 그들의 노력을 짓밟는 일입니다. 일부 사람들과 기간제교사, 강사들을 말합니다. 자신들도 열정과 실력이 있고 노하우가 있다고. 그렇다면 그 열정과 실력 노하우를 바탕으로 임용고사를 정정당당하게 합격하면 됩니다. 왜 실력이 있는데 교육자가 되는 과정을 통과하지 못하겠습니까? 그리고 열정과 실력 노하우가 있다고 그들의 정규직화, 무기계약직화가 허용된다면 이는 정유라도 이대 입학이후에 실력과 열정을 발휘하면 용서된다는 말과 다를바가 없습니다. 그리고 과거 정권에서 과잉충성으로 보은인사로 내려온 낙하산 인사들도 취임이후에 실력과 열정을 발휘하면 무관하다는 말과 다를바가 없습니다. \\'기회의 평등, 과정의 공정, 결과의 정의로움\\' 대통령님의 주장이자 현 정권의 상징적 용어 아닙니까? 학교 교단에 강사, 기간제 교사들을 무기계약직 혹은 정규직으로 만들어 주려는 시도 자체가 \\'기회의 평등, 과정의 공정, 결과의 정의로움\\'에 정면으로 위배되는 일입니다. 교단에 서려면 \\'기회의 평등, 과정의 공정, 결과의 정의로움\\'이 보장되는 교대와 사대 진학과 졸업, 임용고시 합격만이 해답입니다.(긴 글 이지만 꼭 끝까지 읽어 주세요.)\\\\n안녕하세요. 저는 서울 삼각산 중학교 1학년에 재학 중인 14살  \\'최원희\\' 입니다. 저는 나이는 아직 어리지만 대한민국의 국민으로서 한가지 입법청원을 하려고 합니다. 우리나라는 현재 학교앞 직선거리 50m를 금연구역으로 제정하여서 학교 앞 50m 내에서 흡연을 하는 어른들을 단속, 규제하며 벌금 20000원을 부과 시키고 있습니다. 하지만 적어도 지금 7년째 학교를 다니는 저는(제 친구들도) 이 제도가 적절하지 못하다고 생각합니다. 학교에서  공부를 하는 중에 담배연기,냄새가 올라오고 학교앞 도로에는 담배 꽁초가 있었으며 심지어 학교 옥상에 담배,라이터, 은단이 있던 적도 있었습니다. 이 청원을 하는 김에 이 이야기도 읽어 주셨으면 좋겠습니다. 위의 내용중 학교 옥상에 담배,라이터, 은단이 같이 있었던 사건은 제가 초등학교에 재학 중일 때 이었습니다. 아무래도 초등학생이었던 제가 보았던 그 현장은  중학교에 와서도 생생할 정도로 제게 충격을 줄만한 일이었던듯 합니다.\\\\n초등학교 5학년 부터 사회문제에 관심을 갖기 시작했고, 점점 학교와 흡연의 문제가 심각하다는 것을 느끼게 되었습니다. 저는 옥상에 그 물건들을 두었던 선생님을 알고 있었습니다. 하지만 당시 초등학생에 불과 했던 저는 아무런 조치를 취할 수 없었습니다. 초등학생이 그 당시 선생님에게 직접 말할 수도 없는 노릇 이었고, 그 나이에 국민 신문고 등의 프로그램도 알지 못했기 때문 입니다. 학생들에게는 블루 리본 주간이라는 캠페인이 있습니다. 학생들의 흡연을 막는 프로그램 입니다. 하지만 막상 선생님들 께서 담배를 피우신다는 것은 제게 여전히 미스터리 입니다. 분명 아침에는 나지 않았던 담배냄새가 오후 수업때 선생님들 에게서 나는 일도 다반사 입니다.설마 선생님들 께서 타산지석으로 학생을 가르치시진 않으실 것이니까요. 저는 학교앞 50m 금연과 더불어 적어도 학교에서 만큼은 선생님들 에게서 담배냄새가 나지 않았으면 좋겠습니다. 다시 학교 앞 50m 금연 이야기로 돌아오겠습니다. 앞에서 말했듯 학교 수업중 담배냄새가 올라오거나 학교앞에 담배 꽁초를 보는 일이 많습니다. 먼저 학교 앞 50m 금연이 왜 지켜져야하는 지를 말씀드리겠습니다.\\\\n첫째, 모두가 생각하고 있을 건강입니다. 물론 직접 흡연보다는 덜 하겠지만 간접 흡연의 심각성을 느껴야 합니다. 단 한명의 담배로 인해서 약2000명이 넘는 학생들에세 간접흡연이라는 어마무시한 피해를 끼치게 됩니다. 성인도 안 좋은 간접흡연의 영향을 과연 우리 학생들이 받게 된다면 그 결과는 과연 어떨까요? 한 간접흡연은 2000명의 학생에게 한 학생 당 2000분의 1만큼 영향을 주는 것 이 아닙니다. 간접흡연의 피해가 1 이라면 한명당 갖게된는 피해는 1분의 1이 됩니다. 결국 한 사람의 담배로 2000배가 넘는 피해를 주게 되는 것 입니다. 학생들은 어른들 보다 전체적으로 신체의 기능이 떨어집니다. 성인이 되기위해서 성장하는 때 이기 때문 입니다.  때문에 담배가 영향을 주는 폐 또한 영향을 받지 않을 수가 없습니다.\\\\n둘째, 학생들의 학습입니다. 에어컨을 켜기에는 뭔가 아까운 그런 여름날, 보통의 학생들은 창문을 열어둡니다. 집에서 있을 때와 같습니다. 그런데 창문을 열고 공부를 하는 도중 어디선가 담배냄새가 스멀스멀 올라온다면 어떨까요? 과연 그때 그 상황을 겪어 보셨나요? 만약 그런 경험을 해보지 못하셨다면 한번만 이라도 상상해 주세요. 그때 학생들은 짜증지수가 하늘을 뚫을 만큼 치솟게 됩니다. 어쩔 수 없이 선생님들께서는 창문을 닫으라고 하시고 이제 학생들은 에어컨을 켭니다. 다시 생각해보면 저는 이런 일이 쓸데없는 낭비라고 생각합니다. 일단 안 틀어도 되었던 에어컨을 켜게 되면서 낭비를 하게 되고, 학생들의 소중한 학습시간을 빼앗게 되면서 굳이 자,타의 건강을 해치는 담배를 구입하면서 또, 낭비를 하게됩니다. 과연 이게 끝이 아닙니다. 학교 환경 관리 아저씨는 학교 주변의 담배꽁초까지 치워 주셔야 합니다. 학생들에게 담배를 보게 한다는 것 만으로도 심리적 영향은 매우 크기 때문입니다.\\\\n셋째, 학교 앞에서 담배꽁초를 보는 것 만으로도 학생들에게  굉장히 큰 심리적 영향을 끼칩니다. 호기심이 많을 학생들이 매일 다니는 학교 앞에 담배꽁초가 떨어져 있으면 학교에 다니는 학생들은 알게 모르게 호기심이 점점 커집니다.\\\\n마지막으로 사회적 인식이 점점 떨어집니다. 그래도 학교 앞인데 피우면 안되겠지로 시작한 양심은 다른 이가 피우는 상황을 목격하거나 바닥의 담배꽁초를 보면 그 양심은 점점 깎여져 가게 됩니다.  이 네가지 이유로 학교 앞에서 담배를 피우는 것은 단단히 규제 해야 합니다.\\\\n그렇다면 학교 앞 50m 금연을 어떻게 규제 할 수 있을까요?  저는 그 방법에 대해 3가지를 찾아보았습니다.  하지만 아직 경험이 부족하고 사회를 잘 모르는 거 이기에 우리나라의 정치를 해주시는 국회의원, 다른 국민들의 의견이 더 반영 되었으면 좋겠습니다.\\\\n저는 우선 사회 인식을 바꾸어야 한다고 생각합니다. 학생들이 직접나오는 공익 TV 광고나 포스터 등으로 사람들에게  \\'학교 앞 50m 는 금연입니다!\\' 라는 인식을 만드는 것, 그 일이 가장 중요하다고 생각합니다.그리고 벌금을 높여야 한다고 생각합니다. 학교 앞에서 담배를 피우면 한 번의 흡연으로  2000명이 넘는 학생들에게 다시 뱉어낼 수도 없는 간접흡연이라는 피해를 주게 됩니다. 저는 그것 만으로도 벌금을 높일 이유가 된다고 생각하지만 굳이 덧 붙이자면  벌금은 생활에 불편을 끼칠 만큼 거두어야 한다고 생각합니다.  \\'학교 앞 50m는 금연 입니다.\\' 라는 포스터앞에서 담배를 피우고 그런 법이 있는지 몰랐다는 것은 말이 되지 않습니다. 벌은 다시 잘못된 일을 저지르지 않게 하기 위해서 주는 일종의 가르침 이라고 생각합니다. 그런 의미에서 20000원이라는 돈은 개인의 사정마다 다르겠지만 담배를 사서 피우는 어른들을 보는 청소년의 눈으로는 너무 적다는 생각이 듭니다. 저는 60000원이상으로 벌금을 올렸으면 좋겠습니다.  하지만  벌금인상만으로는 충분하지 않습니다. 인력이 부족하기 때문입니다. 학교의 녹색 어머니회, 안전 둥지회 처럼 각 동, 구 마다 충분히 많은 학교앞 순찰 및 규제 전문 보안관을 배치하여서 우리나라의 도서관, 경복궁 등의 고궁및 문화재, 박물관, 미술관 등을 무료 관람 할 수 있게 하는 혜택 등을 만들어 주면 좋겠습니다.\\\\n제가 학교 앞 금연에 대해서 입법청원을 하고 싶은 부분은 여기 까지입니다. 학교앞 금연을 위해서 시민의식 향상, 벌금인상, 인력증가 등의 새로운 규제 방식을 만들어 주세요!! 학교 앞 금연으로 저와 제 친구들의 미래를 지켜주세요!!  글을 읽어 주셔서 감사합니다!! 부탁 드리겠습니다!^^\\\\n서울 삼각산 중학교 1학년 8반 29번 최원희- 입법청원안녕하세요,\\\\n10년 넘게 쉬지않고 기간제 교사로 근무하고 있는 40대 교사입니다. 기간제 교사라고해서 열심히 일하시는 정규직 선생님들 보다 적게 일하지 않습니다. 기간제라는 열악한 환경(학교내 기간제 차별, 눈치, 경쟁 등)에서 학생들에게 그리고 선생님들에게 인정받기 위해서 더 분발하면 해야하지 결코 덜 할 수 없는 구조입니다.\\\\n저는 교직에 몸담아 오면서 매해 담임을 맡고, 생활지도 및 폭대위 관련 업무까지 합니다. 그래서 항상 30분 일찍 출근하고, 폭대위 관련 일이 하나라도 발생하면 서류 처리 등의 일을 하느라 9~10시는 되야 퇴근하는 경우가 수두룩 합니다. 그리고 학생들의 요청으로 매 학기, 방학 마다 방과후 프로그램도 진행합니다. 여러 부차적인 업무들이 많지만 학생들에게 실력을 인정받은 것이기에 즐거운 마음으로 수업과 방과후를 준비하고 가르치고 있습니다. 학생들에게 필요한 지식과 바른 인성을 가르치는 것이 교사의 소명이라고 생각하기 때문입니다. 그 소명을 가지고 10년 넘게 교사 생활을 해왔습니다. 소명엔 정규직과 비정규직이란 차별이 없단 생각을 가지고 말이죠.\\\\n그런데 나이를 먹으면 먹을 수록 그런 열정과 소명보다 현실적인 한계와 부담감에 좌절을 맛보곤 합니다. 아직 대학에 가지 않은 자녀들이 있는 40대 가장이라는 점과 매해 TO를 찾아 나서야하는 처지에 대한 불안함과 스트레스는 몇 년 전부터 계속 커져왔습니다. 가정에서는 걱정말고 각자 자기 할 일만 잘 해달라고 격려하지만 사실 마음 속으론 \\'언제까지 기간제 교사 생활을 할 수 있을까\\'하는 염려를 합니다. 말 못할 속앓이를 하며 지내온지도 벌써 5년이 넘었습니다. 가정 형편상 졸업 후 바로 직장에 취직해 돈을 벌어야하는 상황이었기에, 임용 재수는 꿈에도 못 꿨던 과거를 후회하기도 했습니다. 그래도 우여곡절 끝에 정말 교사가 너무 하고 싶었기에 기간제라도 시작할 수 있어서 정말 행복했습니다. 그래서 정말 열심히 수업했습니다. 10년이 넘는 시간 동안 40대이지만 쉬지 않고 기간제로 근무 할 수 있는 이유는 교사로서 실력을 인정 받았기 때문에 가능하다고 생각을 합니다. 앞으로는 기간제라는 이유로 항상 고용불안에 떨며 차별받고 눈치보며 근무하는 게 아닌, 온전히 학생들 교육에 더 신경쓸 수 있는 교사가 되는 길이 열렸으면 좋겠습니다.\\\\n부디 기간제라는 차별을 받는 환경에서도 오랫동안 학생들을 위해 소명을 다하는 교사들이 있음을 헤아려주시길 부탁드립니다. 열악한 조건 가운데서 십 수년의 시간 동안 학생들을 위해 일해온 기간제 교사들이 있음을 기억해주시길 부탁드립니다. 이들은 문재인 대통령께서 말씀하신 비정규직에 대한 처우 개선과 2017.7.20.에 발표된 공공부문 비정규직 전환 가이드라인의 추진배경과도 부합한다고 생각합니다.\\\\n감사합니다.지난 3월 서울 상암동 오피스텔 화재, 용접 작업을 하다 외벽에 튄 불티에서 불이 시작됐습니다.\\\\n외장재에 옮겨 붙은 불길은 순식간에 건물 한쪽면을 태웠습니다.\\\\n당시 불이 빠르게 번진 원인으로 지목된 외장재는 공인기관의 시험을 통과한 준불연 제품이었습니다.\\\\n국내에서는 지난 2013년 부산에 이어 2015년 의정부 오피스텔 화재 이후 정부가 불에 잘 타지 않는 재료로 건물 외벽을 시공하도록 대책을 내놨습니다.\\\\n하지만 이 기준을 충족하는 외장재도 실제로 불이 났을 때 화재에 취약하다고 합니다. 즉, 현재까지 준불연 제품이 시공된 모든 건물들이 제대로 성능 검증이 되지 않은 제품을 사용하고 있는 것입니다.\\\\n아래 기사로 자세한 내용을 확인하겠습니다.\\\\nhttp://mn.kbs.co.kr/mobile/news/view.do?ncd=3529314\\\\n그런데, 오늘 추가 기사를 보니 화재 이후 건설사 측은 정밀안전진단을 실시하고 재시공에 들어갔지만, 이 건물엔 같은 외장재가 다시 설치되었습니다.\\\\n오피스텔 계약자들은 불이 나면 같은 상황이 반복될 거라며 다른 외장재로 교체해 달라고 요구하고 있는 상황이라 기사 공유합니다.\\\\nhttp://mn.kbs.co.kr/mobile/news/view.do?ncd=3537759\\\\n얼마 전에 있었던 런던 화재 기억하실 것입니다. 그 화재도 외장재가 오히려 불쏘시개 역할을 해서 불을 키웠다고 합니다. 그 뒤로 런던은 그 외장재와 동일한 제품으로 만들어진 건물들의 외장재를 전면 교체하는 것으로 대응하고 있습니다.\\\\n그런데, 이미 화재로 외장재가 화재에 취약하며 심지어 화재를 키운 것을 직접 확인하고도 건설사는 법으로 문제 없다는 이유로 동일한 제품을 다시 쓰겠다는 얘기를 하고 있습니다.\\\\n모든 건물 외장재에 제대로 검증된 난연 제품을 사용할 수 있도록 도와 주십시오. 건축 중에 법이 바뀌어도 안전에 대한 문제는 건물 완공 전에 모두 소급 적용될 수 있도록 현재 시스템이 바뀔 수 있도록 한 목소리를 내 주십시오.\\\\n선분양 후시공의 허점를 이용하여 아직 완공되지도 않은 건물을 기존 법테두리에만 적용하고 문제가 아니라고 빠져 나가는 건설사들의 횡포를 막아야 합니다.\\\\n건물이 완공되고 사람이 살고 그 뒤에 화재가 나 인명 피해라도 나야, 그 다음에 소 잃고 외양간 고치듯이 바꾸려고 하는 것이 아니라면 지금 건물이 완공되기 전, 사람이 살기 전에 바꿔야 합니다.5년임대와 10년임대 분양산정방식이\\\\n서로 다른 이유가 무엇때문입니까?\\\\n분양전횐 산정방식은 동일해야 합니다.\\\\n10년 임대주택 분양전환가격 산정기준 변경을 위한『공공주택 특별법』개정해 주십시요.\\\\n1. 10년 공공임대주택은 무주택 서민의 주거안정을 목적으로 기존 5년 공공임대주택보다 임대기간을 늘려 도입되었는데,\\\\n기존 5년과 10년 공공임대주택의 분양전환 산정방식이 서로 다르다는 것은 도입취지 및 형평성에도 어긋난다 할 것입니다.\\\\n문제는 건설원가와 감정평가액의 평균을 분양가로 정하는 5년 공공임대와는 달리 10년 공공임대는 감정평가액으로만 분양가가 정해진다는 것입니다.\\\\n이렇게 되면 분양가가 인근 주택가격의 95%로 추산되는데 임차인들은 최초 모집공고 당시보다 2~3배 이상 더 부담해야 하기 때문입니다.\\\\n2. 10년 공공임대주택은 의무임대기간 경과후 시세 대비 저렴한 가격으로 임차인에게 우선 공급하도록 하여 무주택 서민의 주택마련을 위한 취지로 도입되었는데,\\\\n현실적으로 주변 시세에 따라 높아지는 “감정평가액”만으로 분양전환가격을 정하는 10년 공공임대주택의 분양전환 산정방식은 임차인을 배제하고 건설사만을 위한 것으로 도입 취지 및 형평성에도 어긋난다 할 것입니다.\\\\n분양전환 협상과정에서도 상대적으로 협상능력이 열악한 임차인들은 주변 시세가 상승하면 함께 상승하는 인근 주택가격의 95%로 추산되는 “감정평가액”만으로 분양전환가격이 정해질 가능성에 좌절하고 있습니다.\\\\n3. “감정평가액”만으로 분양전환가격을 규정하고있는 10년 공공임대주택의 분양전환 산정빙식을 5년 공공임대주택의 분양전환방식(건설원가와 감정평가액을 산술평균한 가액)과 동일하게 변경되어야 합니다.\\\\n10년 임대주택 분양전환가격 산정기준 변경을 위한 “공공주택 특별법” 개정해 주십시요.\\\\n10년 임대주택 최초 모집공고시부터 소급적용해 주실 것을 건의합니다.\\\\n든든한 대통령님\\\\n서민정책 살아있는\\\\n나라다운 나라를 만들어 주십시요.\\\\n납죽 업드려 눈물로 청원드립니다.\\\\n광주_하남부영3차 입주민  올림안녕하십니까.\\\\n경유차량에 부과되는 환경개선부담금의 불합리성에 대해서 건의 드립니다.\\\\n휘발유차량 환경개선부담금 냅니까?\\\\n안냅니다.\\\\nLPG 차량 환경개선부담금 냅니까?\\\\n안냅니다.\\\\n경유차량 환경개선부담금 냅니까?\\\\n냅니다.\\\\n왜 경유차량만 냅니까?\\\\n경유를 연료로 사용하는 차량이기 때문에,\\\\n경유가 환경을 오염시키므로 경유차량 소유자는 환경개선부담금을 냅니다.\\\\n그럼,\\\\n휘발유 차량과 LPG 차량은 전혀 환경오염을 안시키는 100% 청정한 연료입니까?\\\\n단, 1원어치의 환경오염도 안시키는 연료입니까?\\\\n그런데, 왜,\\\\n휘발유차량이나, LPG 차량은 1년에 10민Km 를 주행해도\\\\n환경개선부담금을 단 1원도 안냅니다.\\\\n경유차량 소유자는 1년에 100키로만 주행해도 환경개선부담금을 냅니다.\\\\n왜 입니까?\\\\n1년내내 출장이나 기타이유로 경유차를 단 한번도 운행을 안하였어도,\\\\n단지 경유차량 소유만했다는 이유로 환경개선부담금을 냅니다.\\\\n경유를 연료로 사용한다는 이유로 환경개선부담금을 해마다 내야한다면,\\\\n차라리 그 환경개선부담금을 경유가격에 포함시키는게 더 합리적이지 않을까요?\\\\n유로5 적용된 차량인가는 환경개선부담금을 안내죠?\\\\n그 차량에 들어가는 경유값에서 차후에 환급해주는 걸로 하고요.\\\\n어짜피 화물차량도 유가환급 해주잖습니까?\\\\n왜 행정편의 적으로 운행을 안하고 소유만 하고 있다고\\\\n환경개선부담금을 내야 됩니까?\\\\n심지어 화물차량들은 1년에 10만Km 이상 주행하는 차량과\\\\n같은 차종의 같은 화물차라도 1년에 2만Km 이하로 주행하는 차량이\\\\n왜 환경개선부담금이 똑 같습니까?\\\\n말 그대로 경유를 연료로 사용해서 환경을 오염시키니 환경개선부담금을 내라면,\\\\n운행을 많이하는 차량에 더 많이 부과하는게 맞는거 아닌가요?\\\\n그러니 운행 많은 차량이나, 운행 적은 차량 공평하게\\\\n경유가격에 환경개선부담금을 추가해 주십시요.\\\\n배기량마다 환경개선부담금이 달라서 안된다고요?\\\\n배기량 놓은 차량은 환경개선부담금을 더 많이 내야한다고요?\\\\n어짜피 배기량이 놓은 차량은 경유도 많이 사용하기 때문에\\\\n결국은 더 환경개선부담금을 내는 것이니 그걸 이유로 삼지는 마십시요.\\\\n왜 주행을 거의 안해서 경유도 얼마 사용하지 않는 차량이\\\\n환경개선부담금을 내야됩니까?\\\\n공평한 사회를 만들어 주세요.안녕하세요.저희는 중학교 2학년 여학생들입니다.\\\\n최근에 생리대에서 발암물질이 발견되었다고 해서\\\\n이렇게 청와대에 청원하게 되었습니다.\\\\n현재 발암물질이 발견되었는 생리대들을 판매 중지, 생산중지 부탁드립니다.\\\\n생리대는 여성분들의 생필품인데, 가격도 너무 비싸고 비위생적인 제품들이 많습니다.\\\\n발암물질 없는 생리대를 보편화해주세요.\\\\n저희는 청소년인데 앞으로를 생각하면 너무 무섭고, 이때까지 사용한 생리대에서 발암물질이 나왔다고 하니 배신감이 듭니다.\\\\n빠른 시일내에 조취 부탁드립니다!\\\\n살충제 달걀 문제 때문에 생리대에서 발암물질이 나온게 언론에 점점 묻히고 있어요.518 당시 헬기 사격 및 전투기 대기 명령에 대한 정부 차원의 특별조사를 지시한 문 대통령의 결단에\\\\n광주 출신 서울시민의 한 사람으로서 깊은 감사와 지지, 성원을 보냅니다.\\\\n\"세월호 참사의 진정한 원인인 해경 123정의 이상한 구조  및 구경 행태에 대해 지금이라도\\\\n정부 직접 조사로 규명해주십시오\"\\\\n1. 세월호 참사는 배가 원인미상의 이유로 갑자기 기울어져서 갑판밖으로 튕겨나간 사람 1명이 사망했으며\\\\n구조하러 온 해경 123정이 45분의 시간동안 나오라는 탈출방송을 한번도 하지 않아 선내에서 대기하고 있던\\\\n303명의 승객이 사망한 사건입니다.\\\\n2. 생존승객 172명중 166명은 자력탈출했으며 해경과 헬기는 이들을 바다에서 건져올리거나 헬기 바구니에 실어서\\\\n옮겨준 일밖에 한 것이 없습니다.(선원 15명과 선원구조시 같이 탈출한 일반인 승객 5명 포함)\\\\n3. 해경이 세월호 3층 선수 유리창을 깨서 구조한 6명의 승객들조차 최초 발견은 선원들이 했으며 선원들이 구조하러\\\\n가자고 해경123정장에 얘기를 했으며 실제로 유리창을 깨트린 것도 세월호 선원들이었습니다.\\\\n즉 해경이 자랑하는 적극적인 구조조차도 사실은 소극적 구조를 한 것에 불과합니다.\\\\n4. 세월호 선원들을 구하는데는 그렇게 유능했던 해경이 선원구조후에는 갑자기 백프로 무능으로 바뀐 이유를\\\\n알아내는 것이 진상규명의 핵심입니다.\\\\n5. 세월호 유가족분들은 대통령의 위로보다는 진상규명에 대한 자세한 향후 계획을 듣기를 원했겠지만\\\\n이번 만남에서는 그렇게 하지 못했던 것 같습니다.\\\\n그리고 2기 특조위 특별법은 본회의 상정조차 3개월이 남은 상황입니다.\\\\n6. 현재 청와대와 민주당 지도부중에는 진상규명에 대한 “개념”을 갖고 있는 사람이 없는 것 같습니다.\\\\n7. 정확한 진상규명이란 세월호의 주인이 국정원인지, 침몰원인이 무엇인지, 박근혜 전 대통령의 7시간 행적이\\\\n어땠는지뿐만 아니라 그날 선원은 왜 일사불란하게 자기들만 탈출했으며 해경은 선원들만 구조한 후 나머지\\\\n시간은 침몰하는 세월호를 구경만 하고 있었는지를 밝혀내는 것입니다.\\\\n이는 \"상부의 지시\"가 있지 않고서는 있을 수 없는 일이었습니다.\\\\n그날의 숨겨진 지휘라인만 밝혀낼 수 있다면 나머지 의문은 모두 저절로 풀리게 될 것입니다.\\\\n8.  문 대통령을 비롯하여 청와대, 내각, 민주당 국회의원들이 이 부분에 대한 인식이 있는지가 의문입니다.\\\\n9. 문재인 정부를 강력히 지지합니다.\\\\n하지만 세월호 진상규명의 방향과 세부 실행계획 수립에 있어서는 지금까지 진상규명을 위해 노력해온\\\\n진성 연구자들의 도움이 필요해 보입니다.\\\\n10. 해경 조사는 감사원 감사나 정부 직권조사등의 방법으로 당장 시행할 수 있습니다.\\\\n아울러 검찰의 해경과 선원들에 대한 재수사도 지금까지 드러난 - 하지만 국민들에게는 공개되지 않은-\\\\n자료들로 충분하다고 생각합니다.\\\\n11 . 2기 특조위의 국회 통과 및 이후 예상되는 특조위 활동에 대한 야당등의 저항을 고려할 때\\\\n정부 공무원인 해경에 대한 \"탈출방송을 하지 않은 진짜 이유\" 에 대한 정부 직접 조사에 당장 착수해야 합니다.\\\\n아래 글은 세월호 유가족인 박수현군 아빠 박종대님의 2017.8.24일 페이스북 글입니다.\\\\nhttps://www.facebook.com/permalink.php?story_fbid=1969332900002589&id=100007776949579\\\\n문재인 대통령님께 드리는 글~~~~\\\\n존경하는 문재인 대통령님!\\\\n안녕하십니까?\\\\n먼저 저의 소개부터 드리겠습니다.\\\\n저는 지난 2014년 4월 16일 맹골수도에서 발생했던 세월호 참사 때문에, 매우 친한 친구이며 동지와도 같았던, 내 삶의 기둥이자 희망이었으며, 내 생명과도 같았던, 말과 글로는 도저히 표현할 수도 없는, 그렇게도 소중했던 아들을 잃은 ‘박종대’라는 사람입니다. 그리고 아들의 이름은 단원고 2학년 4반 ‘박수현’이라고 합니다.\\\\n존경하는 대통령님!\\\\n저는 아들 수현이가 직전 정권 최고 통수권자인 박근혜와 그 일당들의 이해 못할 숨겨진 범죄행위로 인해 죽임을 당했다고 확신하고 있습니다.\\\\n그리고 참사 당일 구조를 책임졌던 해경들의 “매우 적극적인 부작위”가 304명의 소중한 생명을 앗아갔다고 믿고 있습니다.\\\\n이 나라에 법과 정의가 살아있었다면, 그리고 있어야 할 모습에 맞는 검찰이 존재했었더라면, 그들은 이미 법의 심판을 받았을 것입니다. 적어도 아직까지 머리를 꼿꼿이 세우고 떳떳하고 뻔뻔하게 거리를 활보하지는 못할 겁니다.\\\\n하지만 그들은 여전히 아무런 죄의식도 느끼지 않고 잘 살고 있으며, 잔인한 방법으로 끊임없이 유가족들을 괴롭히고 있습니다. 그들은 자신들의 범죄 혐의를 덮기 위해 특별법 제정과 특조위 활동을 방해했습니다.\\\\n더 나아가 방금 자식의 상여를 매었던 부모들을 일베 어린아이와 어버이 연합 늙은이들, 그리고 각종 관변 보수단체들을 앞세워 조롱하고 탄압했습니다. 이미 세상을 떠난 아이들에겐 어묵과 떡볶이를 비유하며 욕보이고 성적 모욕을 주기도 했습니다.\\\\n도저히 참을 수가 없었습니다. 차라리 죽고 싶었습니다.\\\\n하지만 아들의 억울함과 원통함을 풀지 못한 상태에서는 죽을 수도 없었습니다.\\\\n살아남기 위해, 진실을 밝히기 위해 기록을 모으고 공부를 했습니다. 세월호 안에서 아들이 남겨놓은 마지막 흔적을 찾기 위해 가슴 터지고 눈알 튀어나오는 작업을 진행했습니다. 많은 영상을 보고 기록을 읽었습니다.\\\\n그리고 그 기록들을 타인에게 전달하여 각종 서적으로, 방송 프로그램으로, 신문기사로 재생산 되도록 노력 했습니다. 하지만 그 행위만으로는 실체적 진실을 밝히고 책임자를 처벌하는 것엔 근본적인 한계가 있었습니다.\\\\n지금 우리들의 가슴속에 남아 있는 것은 국가에 대한 원망과 분노뿐입니다.\\\\n권불십년 화무십일홍(權不十年 花無十日紅)이라 했던가요. 다행히 뜻하지 않게 촛불이 타 올랐습니다. 엄동설한에 군중의 맨 앞에 서서 정권교체를 기도하며 촛불을 들었습니다.\\\\n그리고 존경하는 대통령님께서 대통령으로 당선되셨습니다. 솔직히 기분이 좋았습니다.\\\\n진상규명과 책임자 처벌이 가능할 수도 있을 것이라는 꿈도 꾸어 보았습니다. 한치 앞도 보이지 않던 길고 긴 터널을 빠져 나가는 느낌이었습니다. 그러나 희망은 거기까지였습니다.\\\\n대통령님의 의지와 상관없이 목포 신항에 있는 해수부 공무원들은 여전히 이상한 행동을 하고 있습니다.\\\\n대통령이 진상규명에 대한 의지를 밝혔고, 박상기 신임 법무장관은 국회 인사청문회에서 \"세월호 사건 다시 수사해야 한다.\"고 했음에도, 검찰의 달라진 움직임은 포착되지 않고 있습니다. 권력의 시녀였다는 오명을 벗을 수 있는 좋은 기회인데도 불구하고 그들은 명예회복의 기회를 스스로 걷어차고 있습니다.\\\\n존경하는 대통령님!\\\\n한 많은 삶을 살고 있는 못난 애미 애비들을 위해 검찰을 움직여 주십시오.\\\\n1980년 5·18광주민주화운동 당시 공군 전투기가 공대지(공중에서 지상을 공격) 무장을 하고 출격 대기를 하고 있었다는 증언에 대한 특별조사 지시를 했던 것처럼 세월호 참사에 대해서도 같은 명령을 내려 주십시오.\\\\n아무리 못난 자들이라 하더라도 “사랑하는 자기 자식이 왜 죽었는지, 어떻게 죽었는지, 언제 죽었는지, 누구 때문에 죽었는지”에 대해 정확히 알아야 할 권리는 있지 않겠습니까?\\\\n잘못을 저지른 사람들이 합당한 처벌을 받는 모습은 보고 죽어야 하지 않겠습니까?\\\\n대통령님께서는 유가족과의 면담 자리에서 2기 특조위 구성을 약속 하셨습니다. 결론적으로 말씀드려 실효성 없는 제안이며, 결국 진실규명에는 실패할 확률이 높다고 전망합니다.\\\\n참사 이후 저는 유가족협의회에서 수개월간 진상규명 분과장으로 일한 사실이 있습니다.\\\\n그 당시 1기 특조위 구성과 관련된 일을 경험했던 관계로 2기 특조위의 한계와 문제점을 누구보다도 잘 알고 있습니다.\\\\n2기 특조위 구성과 관련된 법안을 준비할 당시에는 박근혜가 건재했던 시절이었으므로 사실상 그 길밖엔 선택의 여지가 없었던 것은 솔직히 인정하겠습니다. 하지만 지금은 상황이 달라졌습니다.\\\\n여소야대 정국에서 협상테이블 건너편엔 여전히 발목 잡는 거대 야당이 있고, 과거 철저한 진상규명을 약속하긴 했지만 주변의 눈치를 살피면서 간에 붙었다 쓸개에 붙었다하는 변덕 심한 야당이 있습니다.\\\\n그들이 법안 통과에 적극적으로 협조할지도 의심되지만, 준비된 법안으로 범죄 혐의자들이 감춰둔 증거물을 찾아내고 조사하는 것에는 여전히 한계가 있다고 생각하고 있습니다. 2기 특조위 마저 진실규명과 책임자 처벌에 실패한다면, 이는 오히려 저들에게 면죄부를 주는 결과가 될 것이며, 영원히 진상규명과 책임자 처벌의 기회는 상실하게 될 것입니다.\\\\n자유한국당 정우택 원내대표는 2기 특조위 구성과 관련하여 “\"할 만큼 한 세월호… 2기 특조위는 정치 보복\"이라고 표현했다고 합니다.\\\\n그리고 \"지금 우리는 2기 특조위 구성을 전혀 검토하고 있지 않다\"라고 인터뷰 했다고 합니다. 이런 상황에서 진실을 밝힐 수 있는 특별법 제정이 쉽지 않을 것이라 판단하고 있습니다.\\\\n저는 아이들의 명예가 달린 소중하고 신성한 진상규명 작업을 두 번 다시 더러운 정쟁의 중심에 세울 수는 없다고 생각하고 있습니다.\\\\n정확한 해답은 오직 대통령님만이 가지고 계십니다.\\\\n대통령님께서 검찰에게 엄정한 특별 수사를 지시해 주십시오.\\\\n서울중앙지검에는 이미 탄원인이 제출한 고발장이 접수되어 담당 검사가 배당되어 있는 상태이므로 대통령님의 결단에 따라 재수사 착수는 충분히 가능하다고 저는 판단하고 있습니다.\\\\n존경하는 대통령님!\\\\n현 상황에서 자식을 잃은 부모가 해야 할 일은 “철저한 진상규명과 책임자 처벌”을 위해 포기하지 아니하고 싸우는 길 밖에 없습니다.\\\\n잘못된 선장과 선원의 “기다리라.”는 말을 믿고 선내에서 질서를 지키며 기다렸던 아이들의 오류를 부모들도 되풀이 할 수는 없습니다.\\\\n이 참사에 대한 진실을 밝히고, 책임자 처벌이란 한을 풀지 못한다면 못난 부모들은 살아도 산목숨이 아니라고 생각하고 있습니다.\\\\n국민의 소중한 생명을 지키지 못한 국가가 못난 부모들의 죽을 권리마저 박탈하지는 말아 주십시오.\\\\n아들 수현이는 자신의 49제(四十九齋)를 며칠 앞두고 그때까지는 전 전혀 모르는 사람이었던 윤00님의 꿈속에 나타났다고 합니다. 그리고 그분에게 “자신은 아빠가 어떤 판단을 하던 항상 옳다고 믿는다.\\\\n아빠에게 자신을 빨리 “解寃”을 시켜 달라고 전해 달라. 반드시 “解寃”시켜 주어야 한다.“고 했다 합니다.\\\\n어린 것이 얼마나 원통했으면 모르는 사람의 꿈속을 통해 억울함을 호소했겠습니까?\\\\n참사 이후 현재까지 참으로 모진 세월을 살아 왔습니다.\\\\n하지만 남은 삶마저도 모질게 살수는 없습니다.\\\\n이 부분을 해결할 수 있는 사람은 대통령님의 결단밖에 없다는 것을 호소하고 싶습니다.\\\\n간절히 바라옵건대 검찰을 바로 세워 주시고, 그 검찰에게 재수사 지시를 내려 주십시오.\\\\n부디 희생자들에게 “사법적인 씻김굿”을 선물해 주십시오.\\\\n감사합니다.\\\\n세월호 참사 진상규명 염원 1,227일 (2017.8.24일)\\\\n수현이 아빠 박종대 올림\\\\n아래 글은 제 페이스북에 8.19일날 작성한 저의 글입니다.\\\\n문재인 대통령께 바칩니다\\\\n부디 읽어주시길...\\\\n문재인 대통령님\\\\n세월호 참사는 배가 원인불명의 이유로 급격히 기울어져서 1명이 갑판밖으로 튕겨나가서 사망했으며 배에서 대기하다가 구조하러온 해경이 나오라는 탈출방송을 하지 않아서 선내에서 사망한 사람이 303명인 사건입니다.\\\\n즉, 해경의 구조과정의 문제 때문에 참사로 변한 사고이자 사건인 것입니다.\\\\n문재인 대통령님\\\\n세월호에 가장 먼저 도착한 해경 123정 김경일 정장은 그동안의 진술과 달리 도착 직후 연결된 해경본청 상황실과의 핸드폰 통화에서 세월호 선원들이 보이지 않는다고 선원들의 위치를 가장 먼저 언급하였습니다.\\\\n해경 123정이 촬영한 사고당일 동영상을 보면 적어도 9번 이상의 대공방송 소리가 잡힙니다.\\\\n하지만 이날 해경은 도착후 침몰시까지 약 50분가량의 시간 동안 탈출하라는 방송은 단 한번도 시행하지 않았습니다.\\\\n생존승객 172명중 166명은 배 밖으로 자력탈출한 사람들을 물에서 건지거나 헬기 바구니에 실어서 옮긴 사람들이며 해경이 유리창을 깨서 구조한 6명조차 세월호 선원이 발견해서 유리창을 깨자고 주장했고 유리창을 깬 것도 세월호 선원들이었습니다.\\\\n즉, 해경 123정 대원 13명과 헬기 3대의 해경대원 16명, 총 29명의 현장 해경들중 적극적으로 승객을 구한 대원은 단 한명도 없었을뿐더러 나오라고 외치거나 방송을 하는등의 가장 쉬운 소극적 구조조차 한 사람도 전혀 없었습니다.\\\\n그리고 생존승객들이 배에 학생들이, 사람들이 많이 대기하고 있다고 123정 해경들에게 얘기했지만 해경들은 이를 모두 묵살했다는 증언도 많습니다.\\\\n또한 이날 해경 123정과 세월호 선원들간에는 기존에 알려진 것과 달리 선원들을 먼저 구하겠다는 사전 교신이 있었다는 간접적인 증언도 있습니다.\\\\n배가 기울어진 단순 사고를 참사로 바꾸어버린 해경대원들의 이해할 수 없는 행동을 이해할 수 있는 유일한 길은 그날 이들이 상부에서 “어떤 지시”를 받지 않았을까 하는 것입니다.\\\\n해경 123정과 헬기들이 그렇게밖에 행동할수 없었던 어떤 지시나 명령을 내린 지휘체계를 밝힐 수만 있다면, 그리고 그들을 합법적으로 처벌할 수 있다면 굳이 3년후의 총선을 기다리지 않더라도 한국 사회 적폐세력의 대부분을 청산할 수 있을 것이라고 생각합니다.\\\\n2014.4.16일 해경이 승객들을 일부러 구하지 않았을 수도 있다는 간접 증거와 정황 증거는 지금도 차고 넘칩니다.\\\\n부디 이들에 대한 직접 조사와 수사를 통해 이 의혹을 빨리 해소할 수 있도록 길을 열어주시기 바랍니다.\\\\n국회의 법 통과만 기다리기에는 지난 겨울 세월호 가족들의 아픔을 가슴에 새기고 촛불을 높이 들었던 우리 일반 시민들의 마음이 너무나 무겁고 아픕니다.\\\\n사고후 해양구조 전문가들이 구조방법에 대해 본인들이 방법을 내놓지 않고 유가족들에게 방법을 제시해달라고 떠넘기고 수수방관하던 그 모습이 다시 되풀이 되지 않았으면 좋겠습니다.\\\\n더불어민주당 정부, 문재인 정부의 세월호 참사 해결을 통한 적폐세력의 청산을 간절히 기원합니다.\\\\n감사합니다.\\\\n아래 링크는 제가 세월호 3주기때 작성한 지난 2년반동안 세월호 자료들을 연구하며 정리,분석해온 내용들을\\\\n일반 국민분들께서 보기 쉽도록 제작한 내용 및 저의 페이스북 링크입니다.\\\\n이것의 해경 구조의 진짜 모습입니다.고용 노동부 행정 강제권 부여\\\\n목적 임금체불 빠른기간네 처리 목적\\\\n현행\\\\n조사관 강제권이없어 출석제안만 하는 형태\\\\n(사업주 출석요청만 할수있음 강제권 없음)\\\\n노동자 고발조치 후 2개월 조사 후 상위 법으로 처리할수있는 검찰에 이송된다고 함\\\\n(조사도 고용주가 출석안하면 2개월 소비됨)\\\\n변경안 1\\\\n조사관 충원으로 발로 움직이는 형태의 구조가 필요하다고 생각함\\\\n변경안 2\\\\n조사관에게 강제 출석요구 및 기본적인 공권력 주어서 검찰인원 필요없이 처리되었으면 함\\\\n참고\\\\n고용 노동부가 정말 노동자 편인지 고용자편인지 확실한 표명이 필요함\\\\n(한명의 조사관이 수십 수백의 노동자와 상담한다고 생각하면 이해는 되나 정말 화내야할 대상에게 했으면 함)\\\\n*강제권과 정부에서 간단한 지원만으로도 고용노동부에서 근무하는 분들 변화될꺼라 생각이드네요30년만에 찾아온 헌법개정에 \\'세종시 행정수도 이전 문제를 다루자\\'고 주장하시는 분들이, 충청권 지역정가를 중심으로 많은 것 같습니다. 노무현 정신을 계승하고자 하시는 문 대통령께서도 마음 같아서는 그렇게 하고 싶지만, 여러 현실적인 문제로 쉽지 않은 문제라 고민이실 것이고, 추진을 아예 하지않자니 지지층의 목소리를 외면하는 것에 대한 정치적 부담이 있을 것으로 사료됩니다(최근 총리님의 가벼운 한말씀이 필요 이상의 과도한 논란을 불렀었죠). 이에 대해 문 대통령이 고민하시는 부분에 대한 나름의 해결책을 생각해서, 대안을 제시해볼까 하여 이렇게 글을 쓰게 되었습니다. 제가 생각해낸 행정수도 문제를 풀 열쇠는 3가지인데, 이 중 어느 하나라도 도움이 되셨으면 좋겠습니다.\\\\n가장 큰 고민거리는 \\'예상되는 수도권 민심의 큰 반발\\'이 되겠습니다. 큰 변화를 몰고오는만큼 이에 대해 반대하시는 분들도 많으실 것이고, 심각한 국론분열과 지역갈등으로 대한민국이 두동강이 나는 것은, 대통령의 임기 초반 국정운영에 큰 부담이 될 수 밖에 없습니다. 이에 저는 수도권의 반발을 다소 누그러뜨릴 수 있는 방안을 생각해봤습니다. 서울시민들은 수도권 공동화 문제에 대해 우려할 것이고, 행정수도 이전으로 서울이 지방으로 불리게 될 상황에 거부감을 갖게 될 것입니다. 이것을 방지하기 위한 안전장치를 마련하는 방법으로 경제수도 조항을 성문헌법에 명기하는 것을 생각해볼 수 있습니다. 가령 \\'행정수도는 세종시로 하지만 경제수도는 서울로 한다\\'와 같이 \\'경제수도=서울\\'을 헌법에 명시하는 것입니다. 이리하여 행정수도 이전 이후에도 서울이 한국판 뉴욕으로 기능하며, 지방으로 불리지 않도록 할 수 있을 것입니다.\\\\n또한 행정수도 이전 이후에도 서울이 광역시로 격하되는 것이 아니라, 여전히 특별시로 남아서 비즈니스수도로서의 위상을, 유지할 수 있게 해주는 헌법적 근거가 마련될 것으로 기대합니다. 그리고 수도를 남하시키면 통일 이후에 수도가 너무 남쪽으로 치우친다는 비판이 있는데, 후손들이 혼란과 갈등을 겪지 않도록 할 필요도 있다고 봅니다. 예를들어 수도는 서울로 하지만 통일이 될 때까지, 세종시를 임시수도로 규정하는 것도 방법이 될 수 있습니다. 종합한다면 \\'통일한국의 수도는 서울로 하지만 통일 이전까지 남한의 임시행정수도는 세종시로 하되, 그때까지 서울특별시는 경제수도로서 역할을 한다\\'는 내용을 담을 수 있습니다. 서울의 통일수도 및 경제수도 위상을 명문화하고, 세종시를 임시수도로 규정하여 수도권의 반발을 현저히 누그러뜨릴 수 있을 것입니다.\\\\n두번째로 생각해볼 수 있는 방안은 “수도(서울)와 행정수도(세종시)를 양립시키는 것”입니다. 즉 수도는 서울로, 행정수도는 세종시로 헌법에 명기하는 것입니다. 과거 신행정수도 특별법에 대해 위헌 결정을 내렸던, 헌법재판소 판결에 따르면 수도란 “대통령이 활동하는 장소”이고 “입법기능을 수행하는 곳”으로 정의하고 있습니다. 세종시=행정수도를 명문화하여 세종시에 청와대 제2집무실과 국회 분원을 설치할 헌법적 근거를 만들 수 있습니다. 가장 국론분열과 지역갈등을 줄일 수 있고, 건설비용도 적게 드는 대안이라고 할 수 있습니다. 그렇게하면 고위공무원들이 서울과 세종을 오가며 낭비되는 국정비효율도 줄일 수 있을 것입니다. 세종시에 정부청사가 있는 공무원들은 서울로 오지 않고, 세종시의 국회 분원에서 보고를 올리면 될테니까요.\\\\n물론 광화문 정부청사에 근무하는 공무원들은, 원래대로 서울의 국회 본원에 출석하면 될 것입니다. 세종시에 국회분원을 설치하여 그곳에서 의원님들께서 상임위 활동과 국정감사도 하고, 청와대 제2집무실을 통해 대통령도 직접 내려와서 보고를 받고, 그곳에서 국무회의도 자주 여는 등, 세종시를 실질적인 행정수도로 발전시켜나간다는 복안입니다. 광화문 정부청사 공무원은 서울에서, 세종청사 공무원은 세종시의 국회 분원과 청와대 제2집무실에서, 주로 활동을 하게 하여 국정비효율을 차단할 수 있을 것입니다. 전면적인 수도 이전이 천문학적인 건설비용이 드는 국가중대사인것에 비해, 세종시 국회 분원 설치는 이미 현정부 100대 국정과제에도 포함되어 있으며, 별도의 재원조달 방안을 세우지 않아도 될 것으로 보입니다.\\\\n\\u200b이미 제1야당인 자유한국당에서도 수도(서울)와 행정수도(세종시) 분할수도 개헌안을 주장하고 있고, 홍준표 자유한국당 대표의 지난 대선 공약이기도 했던만큼 정치권 합의도 쉬울 것으로 예상됩니다. 또한 이 정도 안에 대해서는 수도권의 반발도 거의 없을 것이라고 생각하고, 기본권 확대나 지방분권 강화만큼이나 국민적•사회적 합의를 이루기 쉬울 것이라고 생각합니다. 6월 지방선거 때 개헌 국민투표를 하기 위해서는, 2월~3월 중에 개헌안이 국회에서 합의도출이 끝나서 의결되어야 합니다. 전면적인 수도 이전과 같은 국가중대사를 논의하기에는 시간이 촉박합니다. 우선 [2안: 수도(서울)와 행정수도(세종시) 분할수도 양립안]을 지방선거 때 처리한 후에, 장기적으로 [1안: 전면적인 행정수도 이전과 경제수도(서울) 명기]을 목표로 할 수도 있을 것입니다. 이미 안희정•이재명 등의 유력한 차기대권주자들이 세종시 행정수도 이전을 공약했던 바, 차기정부의 몫으로 남기고 오랜기간 논의와 설득을 통해, 전면적인 행정수도 이전 문제를 결정하는 것도 방법이 될 수 있습니다.\\\\n마지막 세번째로 생각해 볼 수 있는 방안은, 대통령 중심제를 폐지하고 이원집정부제(분권형 대통령제)로 개헌을 한다는 전제하에, 청와대는 서울에 남기고 국회만 세종시로 통째로 이전하는 방법입니다. 물론 이것은 청와대의 대통령은 국방과 외교 등의 외치를, 총리는 내정 위주로 국정을 담당하여 역할이 완전히 분리되는, 이원집정부제 개헌을 전제로 한 것입니다. 이럴 경우 청와대는 서울에 잔류하여 북한의 도발로부터, 서울권(현재의 수도권) 국민들을 심리적으로 방어해내는 안보천변 역할을 하게 될 것입니다. 그러나 내정에 있어서 행정부 수반은 의회가 선출할 총리가 될 것이니, 국회만 이전시켜서 행정수도 이전을 매듭짓는 것입니다.\\\\n대통령 중심제 하에서는 행정수반인 대통령이, 안정적으로 국정을 이끌어가기위해 의회와의 공조가 필수적이며, 국회와 소통을 원할이 하여 협조를 이끌어내는 것이 무엇보다 중요합니다. 청와대와 국회가 각기 다른 도시에 한참 멀리 떨어져서 존립하는 것은, 대통령제 하에서는 결코 상상할 수 없으며, 자칫 현재의 분할수도 비효율을 증대시킬 뿐입니다. 국회만 이전시켜 행정수도화하는 방안은 반드시, 분권형 대통령제 개헌안과 함께 통과시켜야 할 것입니다.\\\\n이렇게 제가 생각하는 방향으로는 3가지를 들 수 있습니다. 설령 여러 정치적인 이유로 세종시를 행정수도로 규정하는데까지는 가지 못하더라도, 청와대 제2집무실과 국회 분원과 관련한 내용을 헌법에 담는 것을 통해, 이후에 위헌 시비에 휘말리는 것을 막을 수 있습니다. 문 대통령께서 제2국무회의를 열 수 있는 헌법적 근거를 마련하고 싶어하는 의중이신데, 자치분권 국무회의를 여는 장소를 세종시의 청와대 제2집무실로 규정하거나, 국무회의를 여는 장소를 대통령의 자율적 권한에 위임한다는 내용을 담을 수도 있을 것입니다. 모쪼록 국가의 백년대계를 담을 개헌안이 정치권의 신중한 검토 속에 결정이 내려졌으면 하는 바람입니다.우리 모두가 궁금해 하고 진상 규명을 요청하는건에 대해서 몇자 적어 봅니다.\\\\n어린아이들에 목숨읗 앗아갔던 세월호에 대해서는 자녀를 둔 부모로써 안타까울때가 너무나도 많습니다.\\\\n차가운 물속에 본인 몸들이 빠져 들어 갈때의 두려움을 생각하면 지금도 가슴이 먹먹하고 안따깝기 그지 없습니다.\\\\n그순간 아이들이 공포에 질리고 얼마나 어른들에 도움을 기다렸겠습니까!?\\\\n하지만 도움에 요청을 무참히도 듣지 않고 외면했다는 언론에 보도를 보면서 가슴속 깊은 곳에서 끌어오르는 슬픔에 방송을 보면서 너무 너무 속상하기 없었습니다.\\\\n이런맘들이 우리들 맘이라 생각합니다.\\\\n부디 정확하고 사실적인 진상규명이 이루어져야 영혼들에게도 미안함 맘이 덜할것 같습니다.\\\\n다시한번 희생자분들에게 애도에 마음을 표합니다.인간의 기본권 중에 하나가 주거의 안정이라고 생각합니다. 1가구 1주택이 국가의 정책 목표가 되어야 한다고 생각합니다. 이런것을 실현시키기 위해서는 다주택자에게 보유세를 인상하는 것이 인간의 기본권이 실현, 공평과세실현, 유효한계가 있는 재화에 대한 공정한 사용을 실현시키기 위한 것입니다. 우리 헌법에도 모든 국민의 행복과 기본권을 향상하기 위해 노력하기 위해 국가가 존재이유, 국가의 가치에 대해 명시하고 있습니다. 다른 모든 oecd국가도 우리보다 훨씬 높은 보유세를 적용하고 있습니다. 주거안정과 공정과세를 위해 다주택자에게 보유세인상하는 것은 민주주의 가치에 꼭 필요한 조치라고 생각해서 이렇게 청원합니다.이 나라는 임용고시로 교육의 질을 유지하고 있습니다.\\\\n무임승차시키려는 것은 국가가 돈을 주고\\\\n자격없는 사람들을 사립학교에 취직시키는 것과\\\\n같은 일 입니다.  이 것은 다른 국민들에 대한 역차별이며 적폐입니다.\\\\n최순실 사태를 보면서도 최순실처럼 정당하지 않은\\\\n불공정한 편법으로 개나소나 교사를 시키려합니까?\\\\n이참에 아무노력없이 거져 공무원되보고싶어서\\\\n안달난 기간제 및 강사들의 이기주의에 정부가\\\\n놀아나지말고 법이 명시한 원칙을 지켜주십시오\\\\n국민들이 원하는 건 \\'공정한 나라\\'입니다\\\\n기간제 및 강사들은 본인이 그렇게 잘났고\\\\n능력되면 임용고사봐서 정당하게 교단에 서세요\\\\n아이들 앞에서 부끄럽지도 않나요?\\\\n이 나라의 어른들이 이렇게 편법, 무임승차를\\\\n좋아한다는 것을 알면 아이들이  이 나라를\\\\n좋아할까요???대학입시는 크게 정시,수시 로 나뉩니다.\\\\n그중 정시는 \"수학능력평가 (수능시험)\"을 치르는 것이고, 수시는 \"학생부종합전형\"등 입니다.\\\\n현재 수시(대표적으로 학생부종합전형)으로 70%이상의 학생을 선발하고 있습니다.\\\\n수능시험은 시험장에 들어가서 시험을 치르기 때문에 편법이나 부정이 개입하기 어렵습니다.\\\\n반면 학생부종합전형은 \"학생+학부모+선생님+컨설팅학원\" 이 총 동원되어서 작성이 되고, 대부분이 과장되어 작성이 됩니다.\\\\n1) 학생부종합전형은 거짓과장되어 작성됩니다.\\\\n재력이있는 학부모는 컨설팅학원에 몇천만원씩을 주고 학생의 이력관리를 의뢰합니다.\\\\n이에 컨설팅학원은 학생의 이력관리를 해주고, 학생부종합전형 및 자기소개서 등에 기재될 내용 또한 작성해줍니다.\\\\n소논문, 각종학교제출보고서 등 도 대신 작성해줍니다.\\\\n학교선생님도 해당학교의 실적 및 학생의 미래를 위해서 더욱 과장합니다.\\\\n오히려 학생스스로 관리하는 경우는 정보력의 부재 및 시간부족으로 입시에 낮은 평가가 나옵니다.\\\\n2) 학생부종합전형은 입시의 평가결과에 대해서 대학은 공개하지 않습니다. 결과에 의구심이 생깁니다.\\\\n같은 학생부(학교생활기록부)를 여러 대학교에 제출했을때, 하위권대학에서는 탈락하고, 상위권대학에서는 합격하는 경우도 상당히 많습니다. 학생부 자체가 주관적인 자료다보니 대학입학사정관에 따라 평가 결과가 다릅니다.\\\\n또한, 옆친구는 나보다 공부도 못하고, 학교생활도 성실하지도 않았는데,  나보다 좋은 대학에 가는 경우가 많습니다.\\\\n심지어, 교수님들끼리 인맥관계가 있을경우, 교수님자녀를 타대학의 입학에 청탁하는 경우도 있다고 합니다.\\\\n어느대학은 몇억이면 갈수 있다는 말도 돕니다.\\\\n3) 학생부종합전형은 고등학교 내신성적이 반영됩니다. 학교내 경쟁이 치열함과 동시에 중학교때 고등선행을 해야만 합니다.\\\\n학생부종합전형은 1,2,3학년 내신성적이 반영이 됩니다. 예를 들어 1학년때 공부를 잘 못하여 학교에서 중간성적을 받고, 2학년때부터 열심히 공부하여, 2학년전교1등, 3학년전교1등을 해도  서울에 있는 대학도 가기 어렵습니다.  그래서, 고등학교1학년 학교성적부터 입시시험인 것입니다. 따라서 옆 친구와 경쟁을 해야합니다. 옆 친구가 성적이 좋지 않아야 내가 좋은 대학에 갈수 있습니다.\\\\n또한, 고등1학년 학교시험부터 바로 입시시험이라고 봐야하기 때문에, 고등학때 배울 것들을 중학교때 미리 선행을 할수밖에 없습니다. 한학기 선행 정도가 아니라, 수학/영어는 전체 진도 선행을 하고, 과학/사회도 어느정도 선행을 합니다.\\\\n그래야 고등학교때 1학년부터는 학교내신에 전념을 다해서 공부할수 있습니다.\\\\n4) 학생부종합전형은 대학별 평가기준을 파악하기 어렵습니다.\\\\n요즘 엄마들은 육아휴직이 아닌 아이가 고등학교때 휴직을 해야할 정도로 부모가\"학생부종합전형\"에 대한 공부를 해야합니다. 여기저기 대학마다 입시설명회를 찾아다니고, 대학별로 입시전형을 파악합니다. 그래도 정작 해당 대학교에 합격하려면 무엇을 준비해야 하는지는 알수가 없습니다. 구체적 평가기준과 결과에 대해서 대학은 공개를 하지 않기 때문에, 학무모들은 카더라통신으로 여기저기 정보를 모읍니다. \"어떤학생은 몇등급밖에 안되는데, 봉사활동을 잘해서 어느학교에 붙었다더라\" 등등.\\\\n결국, 그나마 정보가 많이 모이는 컨설팅업체에 몇천만원의 비용을 들여 의지하게 됩니다.\\\\n5)학생부종합전형은 수능공부, 내신공부, 비교과활동 모두를 완벽하게 해야합니다.\\\\n위의 내용처럼 엄마가 컨설팅업체 및 각종 설명회등에서 정보를 얻었다고 하여도, 학교별 너무나 다른 입학기준때문에 학생에게 무엇을 주력하라고 말해주기가 어렵습니다.\\\\nA대학교는 봉사활동은 중시하고, B대학교는 수능최저를 반영하고, C대학교는 내신을 중시하며, D대학교는 소논문작성을 반영하고, E대학교는 수학, 영어성적만 반영되고,  F대학교는 특목고 학생이 잘 뽑히고..등등\\\\n학생부종합전형이 속해있는 수시는 여러 학교를 지원할수 있고, 또한 여기서 모두 탈락되면 결국 정시(수능시험)로 학교를 지원해야 하기 때문에, 학생들은 결국 수능, 내신, 비교과활동 모두를 잘해야 하는 구조입니다.\\\\n그래서 수능은 중학교때 선행으로 공부하고, 고등학교때 학교에서는 내신시험에 주력하고, 비교과활동은 컨설팅업체에 의존합니다.\\\\n■ 얼마전 EBS에서 방영한 \"대학입시의 진실\" 을 봐주세요. 여기내용에 나오는 학생부전형에 대한 부조리가 일부가 아니라, 우리주변 전체에 만연해 있습니다.\\\\n■ 그렇다고 수능으로만 학생을 선발한다면, 학생들은 학교수업에 소홀할수 있습니다.\\\\n■그래서 다음과 같은 입시제도를 제안합니다.\\\\n수능시험과 학교내신을 합산하여 총점으로 평가합니다.\\\\n예를들어, 다음과 같습니다.\\\\n총점(300점)=수능시험(250점)+학교내신(50점)\\\\n이 경우, 수능시험이 많은 비중을 차지하여, 부정과 편법을 배제하고, 공정성을 지킬수 있습니다.\\\\n학교내신이 반영됨으로 학생은 수업에 충실하고 학교가 정상화됩니다.\\\\n또한, 학교내신 반영비율이 아주 크지는 않기 때문에 학교에서의 내신에 대한 부담이 덜하고, 옆 친구와 치열한 경쟁을 하지 않을수 있습니다.\\\\n■최초의 \"학생부종합전형\"의 도입취지는 좋았습니다. 예를들어, 공부는 못하지만 어느한가지에 뛰어난 재능을 가진 학생에게  대학의 문을 열어주고자 하는 의도등이 있었던것 같습니다.. 하지만, 처음에는 몇% 비중을 차지하지  않던 \"학생부종합전형\"이 해가 지날수록 점점 비중이 늘어서 이제는 70% 이상을 차지하게 됬습니다.\\\\n그래서, 평범한 학생들이 부모와 선생님과 컨설팅업체의 도움을 받아 자신을 과장되게 포장하게 된것입니다.\\\\n■제 어릴적 기억입니다.\\\\n초등학교6학년때 우리집은 넉넉하지는 않았지만, 제가 일찍 머리가 깨여서인지 공부욕심이 있어서인지, 열심히 공부 했습니다.  그 시절은 초등학교때 주변이 공부를 열심히 하지는 않는분위기라서, 제가 열심히 했더니, 전교1~2등 했던것 같습니다.  그런데, 6학년때  경쟁하는 친구가 있었습니다. 이 친구는 집이 아주 부자이고, 시험은 항상 올백이었습니다. 6학년 전교부회장 선거에서 모든선생님은 이 친구가 당선되기를 바랬고, 우리집은 형편이 어려워서 부모님은 제가 전교부회장선거에 나가는것을 부담스러워 하셨습니다. 저는 결국 포기했고, 그친구는 전교부회장이 되었으며, 그아이는 항상 전교1등, 저는 전교2등 이었습니다.\\\\n어느날 소문에 그 아이는 학교시험보기전에 시험지를 미리 풀어본다는 소문이 있었습니다.\\\\n하지만 그건 소문만 있을뿐 그후 졸업했습니다.\\\\n그리고, 우연하게도 그 친구와 같은 중학교 같은반에 배정됬습니다.\\\\n담임선생님은 선거도 안하고 그 친구를 반장으로 임명하셨고, 제가 교무실 가서 항의를 하여, 추후 선거를 하였으며, 제가 반장을 했습니다. 그리고, 얼마후 중간고사를 봤는데, 그아이는 반에서 중간정도를 했습니다. 더이상 친구엄마가 점수에 개입할수 없었습니다.\\\\n그래서, 그때 어린나이에 생긴 믿음은 \"결코 정의는 죽지 않았으며, 결국 부모의 돈이 아닌 학생의 실력으로 인정받는다\" 라는 것입니다.\\\\n지금 저는 학부모입니다.\\\\n이제는 위의 믿음이 흔들립니다. 내 아이가 대학을 잘 갈수 있도록 나도 컨설팅업체에 문을 두드리고, 과장하여 학생부를 작성하고, 아이에게 부정과 편법을 가르쳐야 하나 많이 고민합니다.\\\\n\"문재인 대통령님\" 부탁드립니다.\\\\n전 정권에서  계속 늘려논 \"학생부종합전형\"의 비중을 이번정권에서는 줄이고 개선해주세요\\\\n\"결과의평등\" 이 아닌 \"기회의평등\" 이 이루어질수 있도록 노력해주세요.자녀를 키우는 입장인 부모로써 세월호에 진상 규명은 반드시 필요하다고 봅니다.\\\\n어린 아이에 소중한 목숨이 차기운 물속에 잠겨 같때에 아이들에 두려웅과 고통을 생각하면 지금도 가슴 한켠이 아립니다.\\\\n그아이들은 우리 모두에 아이들이었다라는거 잊지 마시고 꼭 밝혀 주시기 바랍니다.\\\\n부모님들에 고통도 지금까지도 이어지고 있는 모습을 화연상으로 볼때면 저또한 목이 메일 때가 여러번 있었습니다.\\\\n밥을 먹어도 먹는게 아니고 잠을 자도 자는게 아닐거라 생각합니다.\\\\n부모님들에게도 그날에 고통에서 벗어날수 있도록 의지를 모아서 밝혀주시기를 꼭 부탁드리겠습니다.태양광발전소를 지을 땅이 부족하다고 합니다.\\\\n그리고 산을 깍아 태양광 발전소를 만드는 것도 미관상 그리 좋지 않습니다.\\\\n새로 건설되는 서울-세종 고속도로부터 고속도로 위에 태양광패널을 설치할 수 있도록 해주세요.\\\\n태양광패널을 고속도로 위에 설치하면 다음과 같은 장점이 있습니다.\\\\n1)  별도의 태양광발전용 땅값이 들지 않는다. 우리나라의 고속도로 길이는 3000킬로미터가 넘습니다. 그 면적은 어마어마 합니다.\\\\n2)  태양광발전소는 고속도로 5-10미터 위에 설치되기 때문에 고속도로의 풍광을 방해하지 않는다.\\\\n3)  태양광패널의 각도를 잘 생각하여 만들면, 고속도로 역시 비와 눈으로부터 상당히 보호받을 수 있다.\\\\n4) 우선 새로 건설되는 고속도로에 적용하고 이후 기존 고속도로로 적용한다.\\\\n5) 태양광패널은 수명이 20년이기 때문에 20년이후에 패널만 교체 가능하도록 설계단계에서부터 조립식으로 건설한다.\\\\n좁은 국토에서 친환경에너지를 사용할 수 있는 방법이라고 생각됩니다우선 청와대 국민 청원 홈페이지 신설에 적극 박수를 보냅니다.\\\\n과거 잘못된 행정기관의 행태를 바로잡고 구호가 아닌 진정 국민과 소통하여\\\\n국민이 행복한 나라를 만들어 줄것으로 믿으며..........꼭 해결 되기를 바랍니다....\\\\n1) 용산—춘천간 운행하는 전철 노선인 itx 청춘 급행열차의 승차방법을 개선\\\\n해야 합니다, 당열차는 수도권 타전철의 급행 열차와 다름이 없는데도\\\\n교통카드 체크가 아닌 승차권을 구매하여 탑승하도록 운영하여...\\\\n2) 승차권을 구매하는데 구매기계 조작이 복잡하고 시간낭비가 심하여 차량도착시\\\\n승차 할수없으며, 공휴일 등 에는 일부역 에는 승차권 발매기 앞에 30분 정도\\\\n줄을 서고 기다려야 표를 구매 할수있으며,\\\\n3) 시간이 급하여 교통 카드 체크 후 승차시 무임승차가 아닌데도...\\\\n코레일의 편의주의 무임승차로 간주하여 요금에 50% 가산하여\\\\n차안에서 승차권을 검사 발부 하는\\\\n필요없는 승무원을 배치 하여 국민세금을 낭비하며, 운영하는 실정이며\\\\n4) 또한 웃기는 철도행정 은 열차에서 승차권을 발부하고\\\\n교통카드에서 납부된 돈은 하차역 에서 환불하는 2중적인 일을자행하며,\\\\n불친절 한 역무원 등이 업무숙지 를 못하여 30분 이상 기다려 돈 1000-2000 원 정도\\\\n환불받기위한 시간과 불편을 감수해야 합니다, 승차권 요금과 교통카드에서\\\\n결재한 돈의 차이도 미미하며,승차권 발부로 인하여 이용시민도 불편하며\\\\n코레일도 불편한 itx 청춘의 승차권 구매방식은 누구를 위한교통수단 인지?\\\\n시민을 불모로 누가그런 열차를 만들었는지? 한심한 코레일입니다,\\\\n승차권 핀매기계는 복잡하고 오작동이\\\\n심하여 엉뚱한 승하차 지역이 표시되어 표가 발부되며, 잘못 발급된\\\\n표를 갖이고 승차하면 무임승차로 간주 이중으로 요금을 징수하고,\\\\n불친절과 직무교육이 안된 차량내 검표기능직 철도공무원의 횡포가 심한지경으로...\\\\n5) 또한 이러한 문제시정의 민원을 국민권익위 신문고에 제출하면 해당부서로\\\\n이관 답변토록 하여 앵무세 마냥 똑같은 내용 되풀이 하는 되풀이 행정을 하여\\\\n국민을 지치게 만드느 것입니다, 잘못을 해결 하려는 의지가 보이지 않는\\\\n코레일 행태는 이명박 박그네 정부에 최악의 철도 행정의 적폐입니다,\\\\n6) 이러한 승차권 구매를 강요하여 운행하는 itx 청춘 열차는 다른전철의\\\\n급행 열차와 다른점이라곤 의자배치를 열차식으로 한것과 지정좌석제 인데\\\\n승객이 타고내린 역이 유동적이라 좌석이 비어있는 낭비와 이용 고객의불편,\\\\n비효율적으로 운영 예산낭비의 표본입니다,\\\\n7) 잘못된 관행을 고치는 것은 해당부처는 귀찮은 일이지만,잘못된 것을 고쳐 나갈때만\\\\n문재인 정부의 성공 이라고 생각합니다\\\\n8) 수도권전철 중 itx 청춘만\\\\n승차권을 발매하는 엉터리 행정으로 인원과 예산을 낭비하고 시민은 혼란과 불편하게\\\\n해주는 교통수단입니다, 아무도 편리하지않은 itx 청춘을 급행열차로 전환하여\\\\n교통카드 만으로 승하차 하고 이용거리 요금으로 정산 할수있도록\\\\n개선 해주시기 바랍니다,\\\\n(팩트= 사전에 돈을 예치한 교통카드를 무시하고 승차권 발부만 정당한것으로\\\\n홍보 강요 하는, 이러한 엉터리 수도권 전철 행정으로,시민을 괴롭히면 안됩니다.\\\\n교통카드 체크후 탑승한 선량한 시민을 비양심적 시민으로몰아가며 운행하는행태\\\\n필요 없는 검표승무원 인건비, 승차권 발급 불량기 기 구입 등\\\\n예산낭비, 불합리, 부조리 요인이 더많다고 생각합니다,)\\\\n동의 6 명\\\\n동의\\\\nfacebook-263648564149947\\\\n조속 개선 바랍니다.\\\\nnaver-33752521\\\\n개선 되었으면 하네요..\\\\nkakao-500899130\\\\n찬성합니다\\\\nkakao-501943000\\\\n동의합니다\\\\nnaver-16835920\\\\n동의합니다. 개선해 주세요.\\\\nnaver-15425671\\\\n동의합니다.\\\\n1\\\\n--------------------------------------------------------------------------------글을 시작하기 앞서 지금 올리는 내용은 KT 측의 유선 및 대면 상담을 통해 해결되지 않아 방송통신위원회에 문제제기를 했고 소비자보호원으로 이첩되어 KT측의 연락을 받았으나 역시 같은 대답만 반복되어 이렇게 국민청원에 글을 올립니다.\\\\n정부는 가계통신비 저감 정책을 내세우고 있습니다.\\\\n저는 통신비 절감을 위해 오래전부터 사용하던 3G요금제를 사용하고 있습니다.\\\\n한달에 2만원 가량 통신비를 절약할 수 있습니다.\\\\n최근 LTE가 보급되며 3G데이터의 품질이 많이 나빠졌습니다. KT측과 상담할 때 인정한 부분이고요.\\\\n3G품질에 대해 불만을 제기하면 KT측에서는 감안하고 쓰거나 LTE 요금제로 옮기라는 말만 반복합니다.\\\\n데이터가 10초 이상 끊기는 현상이 하루에도 수십번씩 반복됩니다. 일상생활에 지장이 있을 정도입니다.\\\\nKT측에서는 망관리를 위해 어쩔수 없다는 애매한 답변만 반복합니다.\\\\n아이러니한 건 품질은 나빠졌다고 공공연하게 인정하지만 가격은 그대로입니다.\\\\n아직도 저는 4만원대의 가격으로 3G요금제를 이용하고 있습니다.\\\\n2만원 가량 더 내고 LTE를 이용하면 모든게 해결될 상황이지만 앞서 말씀드린대로 통신비 절감을 위해 3G요금을 고수하고 있습니다. 속도의 문제는 당연히 받아드리겠지만 데이터가 끊겨서 일상생활에 지장을 초래하는 현상은 받아드릴수 없습니다. KT의 3G요금제를 사용하는 모든 사람이 이러한 불편함을 안고 살고 있습니다.\\\\n이어서 최신 태블릿에도 3G요금을 적용할 수 없습니다.\\\\n최근에 구입한 아이패드 프로는 HSPA+, 즉 KT측에서 제공하는 3G망을 사용할 수 있다고 애플홈페이지에 나와있습니다. 하지만 KT측에서는 아이패드 프로는 LTE전용 제품이라 3G요금제를 적용할 수 없다고 합니다. 기본적으로 4G데이터를 사용할 수 있는 기기는 3G, 2G 데이터를 사용할 수 있습니다. 소비자를 바보로 아는지...\"LTE전용 기기\"라뇨. 애플 측에 전화하여 알아봤습니다. 그리고 확실히 들었습니다. \"아이패드 프로는 LTE만 전용으로 사용하는 제품이 아니다, 3G 요금제를 사용할 수 없는 건 통신사 측의 정책일 것이다.\" 소비자를 기망하고 값싼 요금제를 사용하지 못하게 하는 KT의 꼼수입니다.\\\\n월 2, 3만원 더 주는 사람들만 고객으로 모시고 싼 요금제를 내는 사람들은 차별하는 KT의 정책. 글 초반에 말씀드린대로 개인의 힘으로는 해결할 수가 없었습니다. 꼭 바로잡아주셔서 말씀하신 가계통신비 절감을 이행할 수 있도록 부탁드립니다.우리나라는 성범죄 및 음주관련 범죄에 대한 처벌이 상당히 가볍습니다\\\\n그리고 다른 범죄도 마찬가지로 \"초범이다, 죄를반성한다, 우발적이다, 정신적문제가있다,\\\\n기억나지않는다\"라는 말도 안되는 이유 등으로 가중 처벌을 대신해서 감형을 받는게 현실입니다\\\\n그래서 피의자들은 자신들의 잘못을 인지하지 못하고 또 다른 잘못을 반복합니다\\\\n이 같은 감형과 약한 처벌은 큰 문제가 있습니다\\\\n반대로 법이 강해서 처벌이 강력했다면 이런 일들이 반복되지 않을거라고 생각합니다\\\\n국민들이 안전하고 보호 받을 수 있도록 성범죄 및 음주관련 범죄에 대한 강력한 처벌을 주장합니다 감사합니다안녕하세요..저는 전라북도군산에사는세아이의엄마입니다.\\\\n이렇게글을남기게된이유는\\\\n초등학교를다니는첫째아이때문입니다.\\\\n첫째가이번에학교에입학하였으나\\\\n학교생활에어려움이많습니다\\\\n우선아이가 엄마들이꺼려하는ADHD를앓고있습니다\\\\n하지만아직전문의검사를받지는않았지만상담소를다니는데 선생님의소견은ADHD라고합니다..\\\\n처음상담소를가게된이유는제가재혼을하면서아이의그동안이혼으로인해서바뀐환경들과재혼하기까지의 아이의정서를위해다니게된것입니다... 그런데문제는학교에있어서입니다..\\\\n모든ADHD를앓고있는부모들은이병을숨기기급급한병으로통하고학교에서는아이를문제아취급에항상문제있고수업을같이듣거나하면방해하고한다는이유로담임선생님아니면학교에서의문제아며왕따를당하게됩니다.더군다나저희아이같은경우는문제아취급에왕따학교의대한태도며환경조성등으로인하여상처를많이받게되고등교거부를하거나\\\\n아이가다치거나맞고오거나등등이런일이있어도저희아이가되려가해자가되고전교생에게놀림거리가되고학교(교감선생님,담임선생님)의행동과말로인해부모인저와아이에게상처가많이됐습니다 다양한일들로인해아이의학교유예,홈스쿨링을생각까지도했습니다..\\\\n전라북도교육청에얘기도해보았습니다..그러나팔은안으로굽더군요 ..되려저희아이가잘못했다는식이고이런ADHD아동에대한대처등이없더군요.그래서교육부에민원도넣었습니다..하지만저희아이가학교를다니는동안해코지나이런걸로인하여제가학교조사나이런걸막았습니다..\\\\nADHD아동은무조건약물복용하라는학교측이나무조건가해자취급에문제아등을취급을당하는행동들은언제까지지켜봐야될지모르겠어서글을남겼습니다..\\\\nADHD아동의부모들을인터넷이며사례주위분들보면다른부모들이나학교등으로인해치료중단을많이하게되고병원등을숨어서다니게된다고합니다저도마찬가지고요..ADHD아동의부모들은정말가슴에피멍이들고이글을쓰고있는저도매일같이아이를혼내고같이울기도하고아니면부부가이일로인해싸우게되고밤마다혼자숨죽여많이울게되고합니다더군다나아이가재혼가정이라하면더안좋은시선으로그러니 ....대통령님께서이런ADHD아동을위한학교대책이며학교에서의환경조성선생님들의행동말 그리고ADHD아동을위한치료비등등에대한대책을마련해주셨으면합니다..그리고이런아동들이대개보믄초등학교입학하면서부터눈에띄게많이보입니다더군다나우리나라가엄청ADHD아동들이많은데부모들이시선등으로인해아이에게해가입혀질까치료조차꺼리게되고한답니다..그리고병원기록도그렇고요(정신과)치료비며일반상담소비도그렇고요정말학교도보내기가너무절망적이고제가자살하고싶을정도로스트레스가상당히큽니다.더군다나방학도끝나가는데학교보내는게즐겁지가않고두려움이커지기시작하고아이가전학을가게되는데 얼마나또이과정을거치고얼마나상처받고눈물을흘리고억울함도크고외로움도크고학교에서얼마나창피하고속상하고별별생각이다듭니다..지금도나의대처가잘못된건가아님나의양육태도가잘못된건가내가이만큼자식에게해주지못해서우리아이가이렇게남들에게손가락질까지받아야하나생각이많이듭니다..대통령님께 이런저런상황이며여태일들을하나하나말씀드리고싶지만글로적는게너무한계이기에..만나서정말다얘기해드리고싶기도합니다..\\\\n정말ADHD아동들이일반학교를잘다닐수있도로빠른대처와방법을세워주셨으면합니다..부탁드립니다....그리고아스퍼거증후군도ADHD와흡사하다고합니다이런아동들도시선 치료비선생님들태도학교측에서저런일들을많이당한다합니다이런두병에대해치료비며\\\\n학교측환경조성선생님태도말그리고등을때리거나등등이런일을겪지못하게해주시고초등학교중학교고등학교과정을잘마무리할수있게해주셨으면합니다부모가학교에안전하게보내고맘놓일수있도록...빠르게검토하여 정책을펼쳐주셨으면합니다..ADHD가치료도안되믄아스퍼거증후군이라고합니다그러나아스퍼거증후군은더비싼검사비와치료비가들어가게됩니다.부모들이경제적여건시선학교와선생님동급생들행동말환경으로아이들이더위축하고등교거부등상처를받게됩니다...두병을앓고있는아동들에게더큰꿈을키울수있도록 검토하시고지원이나학교환경조성선생님들태도말행동동급생들이다가갈수있도록시급하게검토하시고빠르게대처부탁드립니다...저희아동은월요일에전학하고(병원에예약인원이많아이제서야검사받게되네요)월요일에검사받고소견서받아2학기유예시키고저와홈스쿨링생각을하고있습니자..우예가될지는모르겠지만아이의치료를위해 ...우선빠른검토부탁드리겠습니다.우선 청와대 국민 청원 홈페이지 신설에 적극 박수를 보냅니다.\\\\n과거 잘못된 행정기관의 행태를 바로잡고 구호가 아닌 진정 국민과 소통하여\\\\n국민이 행복한 나라를 만들어 줄것으로 믿으며..........꼭 해결 되기를 바랍니다....\\\\n1) 용산—춘천간 운행하는 전철 노선인 itx 청춘 급행열차의 승차방법을 개선\\\\n해야 합니다, 당열차는 수도권 타전철의 급행 열차와 다름이 없는데도\\\\n교통카드 체크가 아닌 승차권을 구매하여 탑승하도록 운영하여...\\\\n2) 승차권을 구매하는데 구매기계 조작이 복잡하고 시간낭비가 심하여 차량도착시\\\\n승차 할수없으며, 공휴일 등 에는 일부역 에는 승차권 발매기 앞에 30분 정도\\\\n줄을 서고 기다려야 표를 구매 할수있으며,\\\\n3) 시간이 급하여 교통 카드 체크 후 승차시 무임승차가 아닌데도...\\\\n코레일의 편의주의 무임승차로 간주하여 요금에 50% 가산하여\\\\n차안에서 승차권을 검사 발부 하는\\\\n필요없는 승무원을 배치 하여 국민세금을 낭비하며, 운영하는 실정이며\\\\n4) 또한 웃기는 철도행정 은 열차에서 승차권을 발부하고\\\\n교통카드에서 납부된 돈은 하차역 에서 환불하는 2중적인 일을자행하며,\\\\n불친절 한 역무원 등이 업무숙지 를 못하여 30분 이상 기다려 돈 1000-2000 원 정도\\\\n환불받기위한 시간과 불편을 감수해야 합니다, 승차권 요금과 교통카드에서\\\\n결재한 돈의 차이도 미미하며,승차권 발부로 인하여 이용시민도 불편하며\\\\n코레일도 불편한 itx 청춘의 승차권 구매방식은 누구를 위한교통수단 인지?\\\\n시민을 불모로 누가그런 열차를 만들었는지? 한심한 코레일입니다,\\\\n승차권 핀매기계는 복잡하고 오작동이\\\\n심하여 엉뚱한 승하차 지역이 표시되어 표가 발부되며, 잘못 발급된\\\\n표를 갖이고 승차하면 무임승차로 간주 이중으로 요금을 징수하고,\\\\n불친절과 직무교육이 안된 차량내 검표기능직 철도공무원의 횡포가 심한지경으로...\\\\n5) 또한 이러한 문제시정의 민원을 국민권익위 신문고에 제출하면 해당부서로\\\\n이관 답변토록 하여 앵무세 마냥 똑같은 내용 되풀이 하는 되풀이 행정을 하여\\\\n국민을 지치게 만드느 것입니다, 잘못을 해결 하려는 의지가 보이지 않는\\\\n코레일 행태는 이명박 박그네 정부에 최악의 철도 행정의 적폐입니다,\\\\n6) 이러한 승차권 구매를 강요하여 운행하는 itx 청춘 열차는 다른전철의\\\\n급행 열차와 다른점이라곤 의자배치를 열차식으로 한것과 지정좌석제 인데\\\\n승객이 타고내린 역이 유동적이라 좌석이 비어있는 낭비와 이용 고객의불편,\\\\n비효율적으로 운영 예산낭비의 표본입니다,\\\\n7) 잘못된 관행을 고치는 것은 해당부처는 귀찮은 일이지만,잘못된 것을 고쳐 나갈때만\\\\n문재인 정부의 성공 이라고 생각합니다\\\\n8) 수도권전철 중 itx 청춘만\\\\n승차권을 발매하는 엉터리 행정으로 인원과 예산을 낭비하고 시민은 혼란과 불편하게\\\\n해주는 교통수단입니다, 아무도 편리하지않은 itx 청춘을 급행열차로 전환하여\\\\n교통카드 만으로 승하차 하고 이용거리 요금으로 정산 할수있도록\\\\n개선 해주시기 바랍니다,\\\\n(팩트= 사전에 돈을 예치한 교통카드를 무시하고 승차권 발부만 정당한것으로\\\\n홍보 강요 하는, 이러한 엉터리 수도권 전철 행정으로,시민을 괴롭히면 안됩니다.\\\\n교통카드 체크후 탑승한 선량한 시민을 비양심적 시민으로몰아가며 운행하는행태\\\\n필요 없는 검표승무원 인건비, 승차권 발급 불량기 기 구입 등\\\\n예산낭비, 불합리, 부조리 요인이 더많다고 생각합니다,)\\\\n동의 6 명\\\\n동의\\\\nfacebook-263648564149947\\\\n조속 개선 바랍니다.\\\\nnaver-33752521\\\\n개선 되었으면 하네요..\\\\nkakao-500899130\\\\n찬성합니다\\\\nkakao-501943000\\\\n동의합니다\\\\nnaver-16835920\\\\n동의합니다. 개선해 주세요.\\\\nnaver-15425671\\\\n동의합니다.\\\\n1\\\\n--------------------------------------------------------------------------------\\\\n사이트맵 버튼\\\\n문재인 대통령 바로가기 공개일정 걸어온길 대통령의 말과 글 김정숙의 말과 글 청와대 뉴스룸 바로가기 청와대 온에어 청와대 브리핑 해외언론보도 청와대 이야기 정책자료 바로가기 정책현안 국정과제 숫자로 보는 정책 국민소통 광장 바로가기 토론방 국민청원 및 제안 국민신문고 인재추천 효자동사진관 청와대 알림 바로가기 정보공개 일자리 상황판 청와대 조직도 세입·세출예산 운용상황 청와대 기록관 오시는 길문재인 대통령님 귀중\\\\n민원인: 주식회사 청정지해\\\\n상기아래내용에 대한 내용을 책자로 8월21일 등기우편(11204-0470-7556)으로 보냈습니다\\\\n-  이런 국가는 세상 천지에 없을 것 입니다.(3)민원 청구 -\\\\n북부지방법원2015카합372가처분취소사건 책2쪽ㆍ책2-①~③쪽 은행 송달받음,\\\\n2014.12.31.신한은행의 약자에 대한 선관주의 는 고사하고, 시설중인 창업소기업에게 신한은행은 법원(판사님4명)상대로 사기 쳐,년말 기 설정담보 존재,년초(2015.1.15.)2건압류허위내용조작 신청이유, 같은 금원(2014.6.11.자 650백만원 대여(책8쪽-2014.6.11.자 250백만원 대출실행)하고 거래중 일부변제 550백만원-책16쪽과 책8쪽비교은행장(책6쪽)의 법원(판사님1명)상대 사기친것 확인 됨),\\\\n2014.12.18.자 불분명한 사유(책6-①~②쪽)로 당연 기한이익상실처리 신불· 이자 이체 계좌 압류(책13-1쪽, 2014.12.31.자 통장잔액존재 책13쪽 )연체 이자 채권자 일방 징수(책12쪽-약정서(이자지급 시기와 방법3항)에 따른 대출 원장 기장)조작·\\\\n2014.12. .중순경 부터 채무자와 대면기피, 또한 연락이나 통신도 받지 않고(책59쪽 통화내역서 확인)등 통고 의무 미 이행,\\\\n2014.12.27.자 는 채권자의 비 영업일로 -연체이자(2014.12.27. (토요일), 2014.12.28.(일요일) 연체이자 금346,273원으로 이자계산표허위내용조작(책14쪽, -대출원장의 기장으로, 허위내용확인 -책22,12쪽 )으로 또 다른 2014.12.31.자 가압류신청이유(책16쪽-이점을 공무원-금융위원회 은행과· 금융감독원 일체 민원처리기피한다.-하지만 이것은 은행여신기본약관이 적용된 2014.6.10.자 대출약정서에 의한 파생 된 사정으로 당연히 민원처리하여야 한다.)기한이익상실처리로,\\\\n채권자는 채무자 신축 새 건물에 악의와고의적으로 소유권 보존등기 목적의 가압류 결정 촉탁 기입에 의한 소유권 보존 행위로,     타 은행에서 담보가 충분함알고있는 채권자는 악의과고의적으로 도산 시킬 목적으로 대출 실행을 받을 수 없도록하였고,\\\\n도산당할 수밖에 없도록 한 신한은행의 불법행위등을 국가(금융감독원 2015.3.27.자 민원청구 또한 공무원 금융위원회 은행과 민원청구 현재까지 조치가 없다.)는 법에 의한 약자 국민주권자의 자산을 보호치 않는다.\\\\n-2014.12.31.자 건축물대장으로 소유권보존 가압류 촉탁 기입 법원   결정시 피 보전 채권 채권이 없다(책13.13-1쪽 ).\\\\n-2014.12.31.자 위 가압류촉탁기입법원결정시 기 채권자가 설정한 담보가 있었다(책62쪽, 책28쪽).\\\\n중진공배정(책64쪽-2014.4.8자 중진공배정 16.000백원중 신축공장650백만원의 담보는 신용보증서 담보로 특정됨)신용보증서 담보(책17쪽)로 약정(책6쪽),\\\\n-2014.12.31.자 채권이 변제기에 있거나, 연체사실등이 없고, 채권   자는 채무자에게 대출 약정(2014.6.10.자 약정금550백만원이 일체 임) 이행 중의 금   원 이었다. 고로 2014.12.31.자 가압류 신청이유허위내용조작(전자문서인 사문서 허위 내용 조작 책17족과 책8~13쪽, 책22쪽 내용 비교 조작 사실 확인) 내용의 기한 이익 상실 사유로 한 압류2건은 불법행위등이 명백(책2-⑥쪽,책자-뒷쪽)하다.\\\\n진웅섭개인 앞으로 제기 민원내용에 의한 3회신내용이 조롱할뿐, 없었다. 확인요망, 약자는 민원 없다.\\\\n-썩어빠진 말뿐인 정부는, 약자의 고통을 법에 의한 해결할 의지가   없지만, 그래도 법은 공정하다고 믿고 싶다.\\\\n-신한은행은 법을 경시하며 법원을 조롱하고, 은행의 법에 의한 거   짓이 사실이 확인 될 것 갖자 법원출석기피, 끝까지 거짓말이고,   은행감독기관-금감원은 괴변으로 은행을 돕고, 공무원 금융위원회   은행과는, 국민주권자의 민원을 법에 의한 처리치 않고, 2년동안   민원인 약자 조롱, 법에의한 처리가 아니라 장난치고 있다.\\\\n-대출원장의 대출실행내역을 변조(책8쪽)하여, 이자계산조회표조작(책22    쪽)하여 법원(판사님4명기망)상대 은행장의 고의와악의적인 신청내   용 허위 내용 조작은, 사회정의에 정말로 심각하다. 이것이적폐다.\\\\n농촌소농민 도시서민의 청년창업자 부양 목적(30억투입) 창업자는 3년간 신한은행의 불법행위등과 법에의한 설치된 금감원장,\\\\n공무원금융위원회 은행과 직원의 무능 또는 직무기피로,\\\\n어려운 청년창업자 30명의 인터넷 농수산물 판매 3년간 부양 독립시키는 사업계획을 2014.4.28.자 금감원 중소기업애로센타,신한은행, 중소기업진흥공단, 신용보증기금 아산, 동대문지점등에 제시,\\\\n약자(어려운 청년 창업시켜 3년간 부양)의 공동•협동화 더불어 함께 어려운 청년 창업 공동 체 충남 당진시 물류• 포장• 농산물 가공 공장•\\\\n30억 투자에 신한은행 놈들 중진공배정자금금 550백만원 대출약정 이행 중 불법행위등으로 중단시키고 담보가 충분한데, 타 은행에서 대출실행도 못 받게 하는 것 스스로 확인(책6쪽,책6-①~②쪽,)하고도,\\\\n타 은행에서 대출 못받고 도산시킬 목적 계속 법원(판사님1명-서산경매법원)상대 은행장이 법원상대 사기치는 국가, 이런 국가 가 정상적인 국가 인가? 공무원 -금융위원회 은행과장 ***, ***사무관 예끼 나뿐 사람, 어렵지만 도산당하지 않고, 신한은행의 불법 행위 등으로 3년동안 혼신의 힘을 다해 동작구에 어여운 청년 농수산물 온라인 공동판매센타 건물을 준공하고, 당진시의 공동•협동화 사업장이 건축물 관리대장에 의한 건물보존등기로 타은행에서 대출 전환받지 못할 뿐 만 아니라, 고의와 악의적인 신한은행의 계속되는 불법행위등으로 청년창업자가 가동을 하지 못하고 있고.\\\\n새로운 정부에 민원청구하여도, 민원처리 결과 한번받은 바가 없습니다.\\\\n(본문의 내용중 타인의 명의 등 개인정보가 무분별하게 노출되어 해당 내용은 홈페이지 관리자에 의해 \\'숨김\\' 처리 되었습니다.)40년 동동안 거주한 주택의 안방 창호의 2m 미만의 근접한 거리에\\\\n옆집 신축 중인 8층 건물의 보일러 연통이 1층에 5개씩 6개층이 설치 되면서도\\\\n건축법 상 아무 하자가 없어 준공을 제지 할 길이 없다 합니다\\\\n신축 중인 이웃집(서울 금천의 독산1동 150-17)의 8층 건물 보일러 연통이\\\\n본인의 집(독산1동 150-16) 안방의 창호와 불과 2m 미만의 근접한 거리에\\\\n5개씩 2층 10개가 설치되고 그 위로도 4층 20개가 한꺼번에 설치 되어\\\\n본인의 집에 막대한 피해가 우려 되는바\\\\n공사중지와 시정을 요구하는 방안으로\\\\n서울시의 다산 콜 센터 불편신고 앱을 통해 민원을 제기 했더니\\\\n민원을 이관 받으신 관할 구청인 금천구청의 건축과 직원께서\\\\n건축법 상 하자 없는 설계라 건축허가가 난 것이고\\\\n민원을 제기 하더라고 준공을 허가 할 수 밖에 없다며\\\\n건축주의 일방적인 말만 청취하고\\\\n제가 동의 하지 않은 건축주의 구제 방안에 합의 한 걸로 간주 하고\\\\n담당 직원은 중재의 역할을 다하였기에\\\\n민원을 종결 시킨다 하였습니다\\\\n도저히 납득할 수 없어 다시 국민고퉁위원회의 신문고를 통하여\\\\n억울함을 호소 드렸더니\\\\n같은 구청의 같은 부서 같은 직원에게\\\\n민원이 이관되어 똑같은 답변을 들을 수 밖에 없었습니다\\\\n분명 주민의 피해가 유발될 사인이 존재 함에도 불구하고\\\\n설계 상 하자가 없다 하여 건축허가를 내고\\\\n그로 인한 손실을 방지하겠다는 민원제기 조차 묵살되고\\\\n준공 허가를 내 주겠다는 것은\\\\n일반 시민의 입장을 납득할 수 없는 억울함이 아닐수 없습니다\\\\n본인의 뇌성마비라는 장애를 갖고\\\\n부모님의 유산으로 물려받아 근근이 살며 출입에 자유롭지 못한 상황에서\\\\n일방적인 공사 진행을 해 놓고\\\\n정 수용 못하겠으면 법원에 소송을 걸라 하는데\\\\n소시민으로써는 그 또한 만만치 않은 일인지라\\\\n정말로 민원조차 제기 할 수 없는 사안인지\\\\n저의 피해를 막을 다른 구제 방법은 없는 건지\\\\n마지막으로 청와대와 대통령님께 도움을 요청합니다안녕하세요. 저는 고3입니다.\\\\n학교에서 빈곤과 법에 대해 배우게 되면서 저는 노숙인들에게 관심을 가지게 되었습니다.\\\\n노숙인들과 관련된 정책, 논문 등을 살펴보면서 왜 아직도 그들이 노숙인 생활을 해야 하는지에 대해 의문이 생기게 되었습니다.\\\\n그들도 인간다운 삶을 살 권리가 있습니다. 국가에서는 그들이 인간다운 삶을 살 수 있도록 지원해주어야 한다고 생각합니다.\\\\n먼저, 소외된 여성 노숙인들에게 관심을 가져 주시기 바랍니다.\\\\n오늘날의 복지 정책은 남성 위주로 이루어져 있습니다. 여성 노숙인들은 성폭력의 위험에도 크게 노출되어 있기 때문에 여성 노숙인들을 위한 시설과 특히, 여성용 위생용품을 지원하는 방안들을 마련해 주시기 바랍니다.\\\\n둘째, 노숙인들의 집계방식을 검토해 주시기 바랍니다.\\\\n2016년 서울시에서 발표한 거리 노숙인은 321명으로 집계되었습니다.\\\\n하지만 서울역에만 나가 조금만 둘러봐도 최소. 몇백 명의 노숙인을 볼 수 있습니다.\\\\n일시적인 집계 방식보다는 정기적이고 전국적인 집계방식을 도입해 주시기 바랍니다.\\\\n미국 같은 경우에는 PIT라는 조사 방식을 도입하고 있다고 합니다.\\\\n노숙인 머물 가능성이 크다고 확인된 지역에 조사원을 투입해 정기적인 집계를 도입한다고 합니다.\\\\n또한, 거리노숙인과 시설 노숙인 뿐만 아니라 사림이 거주하기에 적합하지 않은 시설에 거주하고 있는 노숙인들까지도 집계한다고 합니다. 또한, 단신, 가족, 아동 및 청소년과 같이 유형별로 집계를 하고 있다고 합니다.\\\\n하지만 우리나라의 노숙인 등의 복지 및 자립지원에 관한 법률 일부개정법률안을 살펴보면 이렇게 적혀있습니다.\\\\n\" 나. 현재 5년마다 실시하는 홈리스 현황 및 지원상황에 대한 실태조사를 매년 실시하도록 함. *홈리스는 노숙인을 뜻합니다\"\\\\n실태조사를 PIT 방법과 같은 방식으로 도입해 주셨으면 합니다. 지역별과 유형별로 노숙인들을 분류하게 되면 그들에게 맞는 맞춤형 법률을 지원할 수 있을 거라고 기대됩니다.\\\\n고3의 두서없는 글을 읽어주셔서 감사합니다.\\\\n소외된 노숙인들에게 관심을 가져주시고 그들이 인간다운 삶을 살 수 있도록 지원해 주시기를 다시 한번 부탁드립니다.SK스카이뷰 청원\\\\n존경하는 우리 문재인 대통령님께.\\\\n대통령님, 안녕하세요?\\\\n저는 경기도 수원시 장안구에 거주하는 평범한 40대 직장인입니다\\\\n저희 아파트 50M 거리에 SKC(주)화학공장이 있습니다\\\\nSKC화학공장은 40년전에 이 지역이 논과 밭일 당시 지어진 공장으로 필름을 생산하는 업체로 알고 있습니다\\\\n제가 살고있는 아파트는 SK케미컬(주)였는데, 이곳은 충북 진천으로 이전을 하고 그 자리에 아파트를 지었습니다\\\\n수원 SKC공장을 연구소로 전환한다하고 부지의 절반을 SK아파트로 팔아 수익냈으면 약속대로 남은 부지 공장은 수원산단으로 공장이전하고 연구소로 조성해야 하는 것 아닌가요? 수원시장님과 약속한 지 7년이 지나고 있습니다\\\\n이로써 현재 사방이 아파트 밀집 주거지역에 공장소음과 연기뿜어내는 SKC화학공장과 주거지인 저희 아파트가 가장 가까운 동은 50M 거리에 일면으로 공존하고 있습니다\\\\nSKC는 24시간 365일, 단 1초도 쉬지않고 가동하는데, 악취와 미세먼지도 심각하지만 공장에서 발생시키는 소음이 60데시빌에 육박합니다\\\\n주거지역 소음 제한 수치는 야간 45데시빌로 알고 있는데, 저희는 소음 발생원인 SKC화학공장 기준인 60데시빌 소음을 적용받고 있는 불합리한 상황입니다\\\\n며칠 전, 수원 라마다호텔에서 한.중.일 환경부장관 회의가 있다는 소식을 듣고, 환경부장관님께 이러한 사실을 호소하고 싶어서 찾아갔습니다\\\\n환경부 담당주무관님을 통해 내용을 말씀드리고 5분만이라도 시간을 내어 우리 이야기를 들어주십사 부탁드렸습니다\\\\n그러나 행사중인 호텔 앞에서 이틀동안 기다렸지만 결국 만나 주시질 않으셨습니다\\\\n그래서 이렇게 절박한 심정으로 존경하는 문재인 대통령님께 간곡히 부탁드립니다\\\\nSKC공장소음 때문에 너무 괴롭습니다\\\\n무더운 여름에도 창문을 열고 살지를 못합니다\\\\n이곳에 와 보시면 알겠지만 SKC화학공장을 아파트들이 병풍처럼 빙 둘러싼 채, 24시간 365일 60데시빌 소음에 시달리고 있습니다\\\\n덧붙혀 이 화학공장 내에서 수년 전, 화재사고도 있었고, 폭발사고도 있었던 터라 주민들은 안전에 위협을 받는 상황입니다\\\\n우리나라에서 손꼽히는 대기업인 SK그룹, 그 계열사인 SKC(주)화학공장이 이렇게 지역주민의 환경권을 침해하고 있으니 이에 대한 해법을 마련 해 주시기를 간곡히 부탁드립니다\\\\n그리고 한가지 더 당부드립니다\\\\nSKC(주)화학공장과 SK케미컬(주) 두 회사가 있는 상황에서 SK케미컬(주)가 이전하면서 그 땅이 주거지로 용도변경되고 그 곳(SKC화학공장 50M거리)에 지금의 3498세대 대단지 아파트가 건축허가가 난 상황이 적법한지 살펴 봐 주시기를 부탁드립니다\\\\n계절이 바뀌고 있는 시기에 늘 건강 유의하시고 대통령님이 꿈꾸시는 나라다운 나라가 임기 내에 꼭 이루어지기를 국민의 한사람으로서 함께 응원하고 함께 소망합니다.가정어린이집  교사의 인건비가 턱없이 부족합니다\\\\n보육료를 인상해주셔야  아이들을  부담없이 보낼수 있답니다\\\\n우리선생님의   인건비를  제대로 챙겨주려면 보육료인상이  꼭 꼭 !!!  필수랍니다  하루종일 아기들돌보고 보육하시는 선생님들의 일자리를 지켜주시고  편안한보육환경 , 일자리가 되도록  도와주세요. 최저시급은 오르는데 보육료지원은 제자리로  있는것은 형평성에 맞지않고  노력한 만큼 받아야되지않을까요   보육료인상이  답이라고 생각합니다  항상 동결이었고 제자리걸음인 보육료인상보육료인상이 되도록 도와주세요 부탁드립니다  정부의  보육료인상을기대합니다안녕하십니까.\\\\n대통령님께 이 내용이 전달되기를 바라는 간절한 마음으로 글을 적습니다.\\\\n저는 충청남도 아산시에 거주하고 있는 30대 남자입니다.\\\\n저는 2년 전,  충청남도 아산시 풍기동에 새로 들어설 예정인 <이지더원> 이라는 아파트 29평형을 2억 3천 3백만원에 계약했습니다. 초등학교를 품은 아파트, 아산의 강남, 차 없는 단지 등 메리트가 확실해 보이는 아파트였기에 넉넉하지 않은 형편에도 무리를 무릅쓰고 계약을 했었습니다.\\\\n분양이 마감된 이후부터, 공사가 조금씩 진전되는 것이 보였습니다. 터를 닦아내고, 중장비들이 들어서고, 소음이며 분진에 대한 주변 민원이 발생하였습니다. 어찌됐든 공사는 진행이 되고 있었고, 저를 포함한 많은 계약자들은 그 현장을 예의주시 하고 있었습니다.\\\\n한동안은 공사가 멈춰있는 듯한 모습도 보였습니다. 나중에 알고보니 레미콘 파업으로 인해 실제로 공사가 중단된 기간이 있었다고 합니다.\\\\n그런데 날이 갈수록, 처음에는 그저 희망에 찬 마음으로 지켜보게 되던 것이 점점 걱정스러워졌습니다.\\\\n\\'아직도 저것 밖에 안지어졌나, 저래가지고 제때 입주는 가능할까...\\' 하는 등등의 걱정이었고, 입주를 목전에 두었을 때 그 걱정은 현실이 되었습니다.\\\\n입주 예정일자가 한달도 채 남지 않은 상황에서 급하게 사전점검이 이루어졌고, 급기야는 입주예정 4일 전에 입주지연에 대한 공지가 있었습니다.\\\\n공사가 마무리 되지 못한 부분들이 너무도 많았기 때문에 준공 승인이 나지 않은 것이었습니다. 공용부분은 물론이고 각 세대의 공사도 마무리 되지 않은 곳이 대다수였습니다. 그러니 3일간 주어졌던 하자점검 기간에 제대로 된 점검도 당연히 할 수 없었습니다.\\\\n입주일자에 맞춰서 계획을 세웠던 많은 계약자들은 큰 혼란에 빠졌습니다. 이삿짐 센터에 짐을 맡기고 단기 월세나 친정, 지인의 집 등 임시거처로 뿔뿔이 흩어지는 일은 부지기수고, 당장 기존 주택 거래나 이사에 대한 일정을 잡는 것도 불가능했습니다.\\\\n일이 이쯤 되자 예비 입주민들은 카페로 모였습니다. 대책 위원회를 만들고 서로 의견을 나누며 행동하기 시작했습니다. 건설사와의 미팅도 여러번 있었고, 시청에 민원을 제기하기도 했습니다. 하지만 돌아오는 것은 실속없는 내용들 뿐이었습니다.\\\\n저희는 많은 것을 바라는 게 아닙니다. 그저 계약 당시에 저희에게 설명했던 것처럼 높은 가치가 있는 집에서 마음 편하게 살게 해달라는 것 뿐입니다.\\\\n비가 오면 건물 곳곳에서 물이 새고, 지하주차장은 물바다가 됩니다. 아직 입주도 하지 않은 집 벽과 천장에 곰팡이가 피어있고, 에버랜드 조경을 담당했던 업체가 맡아서 한다던 조경은 초라하기 그지 없습니다.\\\\n이 동 저 동에서 엘리베이터가 멈춰서 안에 갇혔다는 소식은 하루도 안 빠지고 들려옵니다.\\\\n비상 계단의 난간에는 어떤 이유에선지 볼트를 하나씩 밖에 체결하지 않아 불안하게 흔들리고 있고, 사용하기도 전부터 이미 깨져버린 계단의 잔해들이 위에서 떨어지지는 않을까 불안하기 그지 없습니다.\\\\n이런 아파트에서 어떻게 살겠느냐... 우리 입주민들은 임시사용승인을 납득할 수가 없다, 이런 위험요소들이 해결되고 난 뒤에 준공이든 임시사용승인이든 내달라 라는 의견을 아산시청에 제기하였고, 사태가 심각함에 따라 아산시장과의 회담 자리도 있었습니다.\\\\n하지만 그 자리에서 아산시장은 입주민들이 토로하는 말에 대해 조금의 수용도 하지 않으려는 완강한 태도를 보였습니다.\\\\n\\'도지사 안 뽑아줘도 된다, 그런 얘기는 여러분들끼리 하시라, 지금 상황에 제가 할 수 있는 일도 없고 권한도 없다\\' (실제로 아산시장이 직접 한 말입니다. 동영상 링크 첨부합니다.)\\\\n라는 말만 되풀이 하고는 떠났습니다.\\\\n현재 저희 입주민들은 여러가지 방법을 모색중입니다.\\\\n신규로 분양하는 이지더원 모델하우스 앞에 가서 집회를 할 예정이고, sns와 지역 언론을 통해 이 문제를 전국적으로 알릴 것입니다.\\\\n정부에 요청드립니다.\\\\n어떻게 된 게 이 나라는 아직 지어지지도 않은 집을 너무도 당당하게 팔아 넘기고, 또 국민들은 적지 않은 돈을 들여 있지도 않은 집을 삽니다. 국민들이 범의 아가리에 머리를 디밀 정도로 멍청해서가 아닙니다. 구조적으로 그럴 수 밖에 없기 때문에 울며 겨자먹기로 그런 거래들이 공공연히 이뤄지고 있는 것입니다. 그렇다면,  여기에 있어서 가장 중요한 것은 계약 내용이고 그것의 이행이지 않겠습니까?\\\\n어느 누구도 2억이 넘는 돈을 쓰는데 있어 망설이지 않을 수 없습니다. 또한, 수중에 2억이 넘는 현금이 있어서 아파트를 사는 사람도 극히 드뭅니다.\\\\n다 넉넉하지 않은 형편 속에 조금씩 쪼개서 모으고, 빚 얻고 해서 어렵게 산 아파트입니다.\\\\n저희 입주민들은 많은 것을 바라지 않습니다. 그저 내가 내 집을 믿고, 그 안에서 사랑하는 가족들과 함께 살 수 있도록 조치를 해달라는 것 뿐입니다.\\\\n심각한 하자가 있다면 정확한 진단을 통해 보수를 하고, 약속했던 날짜에 입주가 진행되지 못함에 따라 발생한 손해에 대해 보상을 해주면 되는 것입니다. 건설사와 계약자간에 있었던 약속, 그것만 제대로 지켜달라는 것입니다.\\\\n아산시민의 눈물 섞인 목소리를 듣지 않으려는 복기왕 시장에게 상처받은 저희 입주민들이 도움을 요청할 곳은 이제 이 곳 뿐이라는 생각이 듭니다. 저희는 내일도, 모레도 어쩌면 계란으로 바위를 치는 것에 불과할지 모르는 미약한 움직임을 계속해서 이어 나갈 것입니다.\\\\n대통령님, 부디 국민의 재산권과 행복추구권을 지켜주십시오.무면허 실내건축 업자의 불법 시공으로 인해 고통 받고 있는 시민입니다.\\\\n제가 이 청원을 올리는 이유는 자격 없는 무면허 업자의 시공으로 인해 저와 같은 피해자가 다시는 나오는 일이 없었으면 하는 마음에서입니다.\\\\n1500만 원 이상의 공사를 시행하는 실내건축 업자는 건설산업기본법 시행령 제8조에 의해 ‘건설업 면허’를 소지해야만 합니다. 그러나 대다수는 면허 없이 시공을 하고 있습니다. 무면허자의 불법 시공으로 인해 하자가 발생하여도 대부분은 제대로 된 하자 보수를 받지도 못하고 있습니다. 이로 인해 인테리어 하자 분쟁이 끊이지 않고 있는 실정입니다. 그러나 1500만 원 미만의 공사는 처벌 규정도 제대로 없기 때문에 소액 공사의 경우 구제 받을 길이 더더욱 없습니다.\\\\n실내건축 하자는 보통의 민사소송과는 다르게 하자 평가를 받아야 하기 때문에 감정평가사들의 하자 감정이 필수입니다. 비용 문제로 하자 감정을 받지 못하면 원고 패소로 재판은 끝납니다. 평가비가 없어 원고 패소로 소송을 끝내시는 분들도 계시다고 합니다. 평가 비용은 대략 400~600만 원 상당이고 변호사 비용까지 더해지면 섣불리 소송에 나서기가 힘든 것이 현실입니다.\\\\n심각한 인테리어 하자로 인한 물적, 심적 피해로도 힘든데 상황을 더욱 절망으로 이끄는 것은 다름 아닌 소송을 하기 위해서는 천 만원 상당의 큰 금액이 필요하다는 것입니다. 금액뿐만이 아니라 소송을 함으로써 소요되는 1년 이라는 시간비용과 기회비용 또한 무시할 수 없고 승소를 하더라도 모든 금액을 돌려 받을 수 있을지 의문이기 때문에 대부분의 피해자들은 소송을 포기하고 소송을 수행할 비용으로 하자 보수를 선택합니다.\\\\n증거가 확실한 업자의 반복된 거짓과 공사도 하지 않은 금액 청구 등 사기가 명백함에도 불구하고 형사 고소는 시도도 할 수 없습니다. 인테리어 하자가 심각해도 쉽사리 고소나 소송을 할 수 없다는 맹점을 악용해 악덕 인테리어 업자들은 하자 보수 요청을 무시하기 일쑤입니다. 이로 인해 저 같은 서민들이 피해를 고스란히 입고 있습니다.\\\\n이에 실내건축업 종사자들의 자격 요건 강화와 1500만 원 미만의 실내 건축 공사에 대해서도 처벌 규정을 신설해 주실 것과 인테리어 하자 감정 평가비는 원고 부담이 아닌, 국고 보조 후 패소한 이에게 국가가 청구 및 보전을 해주실 것을 건의 드립니다.택배기사들도 대한민국 국민임을 확인시켜 주세요.\\\\n전국 5만여명의 택배기사들은 “특수고용노동자”라는 굴레에 갇혀 아무런 권리도 행사하지 못한 채, 온갖 의무만 잔뜩 짊어지고 하루 14시간 이상의 중노동에 시달리고 있습니다.\\\\n택배업은 매년 10% 이상 발전하고 있지만, 정작 택배기사들은 갈수록 낮아지는 택배 운임에 해가 가면 갈수록 일을 더해야만 살아갈 수 있습니다.\\\\n상시적으로 시달리는 계약해지 위협과 한 여름에 선풍기 하나없이 섭씨 40°가 넘는 현장에서 매일 4~6시간씩 무임금 분류작업을 해야 하고 배송이나 집화에서 발생하는 사고도 모두 택배기사들의 몫으로 돌아옵니다.\\\\n택배기사도 대한민국의 국민이 맞다면 우리들 스스로 잘못된 관행과 적폐로 얼룩진 현장을 바로 잡아 갈 수 있게 해 주십시오.\\\\n우리 5만여 택배 기사들이 절실히 진정으로 원하는 것은 “노동조합”입니다.\\\\n택배기사도 대한민국 국민임을 자랑스럽게 생각할 수 있도록 도와주세요.\\\\n택배기사들도 노동조합 설립필증이 필요합니다.러시안룰렛\\\\n/\\\\n과로사가 좋겠다\\\\n자살이 좋겠다\\\\n분신은 아무래도 고통스럽겠지\\\\n분노가 폭발 도와달라고 했던거야\\\\n교통사고가 무난해\\\\n지난 금요일 동작우체국 교통사고사\\\\n어제 구로우체국 상시집배원 자살\\\\n오늘은 또 누구 차례이고\\\\n내일은 무슨 명목으로 죽어야 하나\\\\n지옥 탈출에 성공한 열네분\\\\n8월까지 초과실적 달성\\\\n자본주의로 무장한 정부기업\\\\n지옥 노동자\\\\n우체국이니까     우체국이니까  우체국이니까 우체국이니까 우체국이니까 우체국이니까 우체국이니까 우체국이니까 우체국이니까 우체국이니까 우체국이니까 우체국이니까 우체국이니까 우체국이니까 우체국이니까서울시는 pimac      민자사업이라하여  민간용역으로  주경기장외에는전부민자사업이라하여  새로증축을발표를햇습니다\\\\n민자사업이라하여   무조건새로공사하라면  안되는것입니다\\\\n민자는  돈이아닙니까    지방공단유수의공장들이  h빔으로 뼈대를만들고   벽면을 스레트로만든공장이  50년  꺼덕업이  가동을합니다    지금은  스레트대신  센트위치판넬로  만들어도\\\\n40년-50년  꺼떡업이  잘가동됩니다\\\\n잠실운동장은 h빔에  철골구조로  더욱단단 하게만들어졋습니다\\\\n그러면  사용 방법에맞게  리모델링만하면되는데  새것만찻느라고  왜   전부  철거하려합니까   민자사업으로    야구장은   돔으로할것도업이  h빔  보강공사로하고   컨벤션센타는  3개의  학생체육관과 2개의수영장    골프장으로  리모델링하면됩니다\\\\n그한강방향  실내  체육관과  지하아케이드를  합쳐서  컨벤션센타로리모델링하고\\\\n커다란2개의  컨벤션센타를  공중에서  사람이왕래할수잇게  연결하면  근사한대형건물이  완성됩니다   민자로  lg  나 gs 로   하여금공사케합시다\\\\n남은돈으로       서울에서제일못사는동네  난곡야산에   보라매병원을  크게만들어\\\\n서민들  치료하는데사용합시다     민자는    도로가막히는 제3경인고속도로  목감에서\\\\n안양천을  따라  가다가 백운저수지 남쪽에서  분당고기도로를타고가다  북쪽으로하여\\\\n구미동사무소나   대광사절옆에  터널을만들어   오포에서 경부2고속도로와만나며\\\\n영동2고속도로로연결하는공사를맏깁시다\\\\n민자로할공사가많은데  민자를여기에  전부 탕진할필요는업습니다\\\\n민자라하여  남의돈이라하여   방관하는자세는안됩니다\\\\n민자공사는  할일이많은곳에사용하고   88올림픽의  역사가서려잇는  야구장과    시설을  그대로  리모델링하여  남깁시다    사용용도만바꾸면됩니다   서울시공무원들은 무조건민자로  부수려하고잇습니다\\\\n말로만  민자에게   맡긴다하며   돔경기장을만들자하여    lg나gs  로 밀어붇힙니다  돔경기장을만들려면    잠실야구장을 h빔 보강공사와 리모델링하여    돔경기장을만들면  경제적입니다   야구장옴기는  돈이면   난곡에  보라매병원을  대형으로   만듭니다   후자가  더욱  좋습니다  잠실종합경기장은  전부  리모델링하면  경제적인데 서울시공무원들은   부자인지  몰라도  무조건  부수려  합니다\\\\n더튼튼한건물로  탄생할것입니다북핵  관련 사드 배치 필요성에 대해서는 국민 대다수가 공감하고 있으나, 배치 지역 주민들은 전자파 위험 우려와 불안으로 반대를 하고 있는 상황입니다\\\\n이러한 지역 주민들의 불안 해소를 위해 아래와 같은 제안을 합니다\\\\n1. 전자파 측정소, 또는 측정기를 사드 배치 주변지역(성주 및 김천혁신도시 등)에 설치하여 전자파 수준을 상시 모니터링하고,\\\\n2. 혹여, 기준치 이상으로 측정될 경우 재난 문자와 같이 지역주민들에게 문자로 통보될 수 있는 시스템을 구축한다면 지역주민들의 전자파 관련 불안을 해소할 수 있을 것으로 보입니다\\\\n수고하십시요안녕하십니까??저는 50평생 진보였습니다 지난 겨울 엄동설한에 촛불들며 적폐청산을 외쳤고 누구보다 문재인대통령을 지지했습니다.\\\\n그러나 느닷없는 8.2대책으로 저의 3식구의 계획이 엉망이 되었습니다.2015년 아현2구역 조합원 지분을 매수하였고 저희는 현제 월세로 살고있습니다.\\\\n아현2구역에서 25평이 되었음 너무나 좋았을텐데 34평이 되었습니다 조합원 분양가가 6억5천이 넘어서 저희는 입주를 할수가 없습니다. 전매를 해서 소형 아파트로 이사하는 소박한꿈이 있었는데 이게 웬 닐벼락인지요\\\\n저희도 국민입니다 누구보다 열씸히 세금내고 법없이도 살 사람들입니다 8.2 대책전 계약껀은 소급 적용하지 말아주셔야 합니다\\\\n정부를 믿고 계획을 세운 수많은 사람들이 적폐입니까?? 정권은 영원하지 않습니다 저희들의 목소리도 귀기울여 주셔야 저희도 정부를 믿습니다\\\\n꼭좀 해결해 주십시요 하루하루가 힘듭키다111111111111111111111111111111111111111111111111111111111111111111111111111111111111111111111111111111111111111111111111111111111111111111111111111111111111111111111111111111111111111111111111111111111111111\\\\n1111111111111111111111111111111\\\\n1111111111111111111111111111111111111111111111111111111111111111111111111111111111111111111111111111111111111111111111111111111111111111111111111111111111111111111111111111111111111111111111111111111111111111111111111111111111111111111111안녕하세요? 문재인 대통령님\\\\n정말 요즘 대한민국이 제대로 나라다운 나라로 변하고 있다는 것에 감사하며, 국민의로써 행복을 느끼는 29살 청년입니다.\\\\n바쁘신 일정과 함께 항상 국민을 생각해주시는 마음 정말 감사하다고 먼저 말씀드리고 싶습니다.\\\\n제가 부탁아닌 부탁을 드리고싶어서 이렇게 글을 쓰게되었습니다.\\\\n1. 20대 군대를 다녀오고 난 후 취업에 어렵게 성공하였지만 결혼할수없는 환경에 너무 답답한 요즘입니다.\\\\n서울 집값도 비싸고, 스스로 열심히 살아서 지금 29살인 회사원이지만 결혼을 하고싶어도 너무 비싼 집값에 미래가 보이지 않네요. 대한민국의 미래가 젊은 사람들이라는데. 애 한명 낳고 살 수 없고(가난한사람은) 결혼은 생각도 못하는 현실입니다. 하루빨리 도와주시면 좋겠습니다. 신혼부부 정책 꼭 필요한 사람에게 주어지는 정책을 기대할께요 글을 서두없이 써서 죄송합니다.\\\\n2. 정시퇴근, 대통령님께서도 대선 토론때도 말씀하셨던과 같이 칼퇴근 이라고 말씀하셨는데요 제가 보기엔 칼퇴근보다는 정시퇴근이라는 단어가 맞다고 생각합니다. 칼퇴근은 뭔가 직장인의 입장에서 회사에 일방적 요구인거 같습니다.\\\\n회사원은 아침 8시부터 대부분 출근하는데요 밤 9시 ~ 10시까지하다 보면 지치기도하고, 정말 힘든 삶을 살고있는거같습니다. 가족과 함께하는 삶 또한 친구들과 스트레스 풀며, 진정한 \"행복\"있는 삶을 기대합니다.\\\\n내부 경제가 살아나려면 돈이 돌고 돌아야하는데 야근에 돈쓸시간도 없는 직장인들의 마음입니다.\\\\n하루빨리 정시퇴근을 법으로 정하여, 일자리 창출과, 내수경제의 활성화를 도와 더욱 발전되는 대한민국이 되었으면 좋겠습니다.\\\\n항상 감사드리고 , 국민들로 하여금 존경심을 끌어내주신 문재인 대통령님 국민이 응원하고 한편이라는 것을 잊지마시고\\\\n지금처럼 결단력있게 행복한 대한민국의 아버지가 되어주세요\\\\n제 글이 꼭 대통령님의 마음에 전달되었으면 좋겠습니다.(안될가능성이 많지만..)\\\\n꼭 전달되길 바랍니다.피곤하다며 매일 일찍 잠자리에 드는 우리 아내가 요즘은 밤잠을 설칩니다. 내년도 최저임금이 오른다고 좋아할 때는 언제고 보육교사 일을 그만둬야 할 수도 있다고 걱정을 하며 하루하루 한숨입니다. 제가 옆에서 도와주지도 못하고 참 가슴이 아프네요... 전업주부로 있다가 보육교사 일을 시작하며 더욱더 젊어지고 행복해하는 아내가 이제 더 이상 보육교사 일을 하지 못할 수도 있다는 생각을 하니 어떻게 위로를 해줘야 할지.... 옆에서 제가 할 수 있는 일이라곤 이렇게 몇 글자 적는 것 밖에 없네요... 현실에 맞게 내년도 보육료를 인상해 주세요.. 원운영 걱정 하지 않고 사랑하는 아이들만 돌 볼 수 있도록 있도록 도와주세요.15년동안 아이들만 바라보고 어린이집에서 근무하는 가정어린이집 교사입니다.\\\\n아이들이 예뻐서 아이들과 함께하는 것이 즐거워 항상 웃던 저이지만 2월만 되면 새학기 걱정에 조마조마 하답니다. 원아가 정원에 미달된 어린이집에 저같은 경력자 교사는 매년 느끼는 감정이지요.  괜찮다고는 하시지만 원장님께도 죄송하고 송구한 마음에 괜시리 눈치만 늘어갑니다.\\\\n감히 청원합니다!!\\\\n반별 인건비를 지원해 주세요. 경제적 부담감으로 눈치 보는 시간에 아이들만 바라볼 수 있도록  제발 부탁드립니다!!\\\\n나라를 위해 수고하시는 분들 감기조심하세요~~가정보육시설 운영하는 초보 원장입니다.  오랜 시간  보육현장을 떠나있다  다시 와서 놀란것은  보육료가 너무 낮다는 것입니다.   최저임금  인상으로  교사채용에 대한  부담도 가중되어   원아를   더 받는댜하더라도  사용자 입장에서는  교사  채용이  어려운 형편입니다.\\\\n개인적으로  소득에 상관없이  무상보육료 지원은  바람직하지않다  생각하고  있으며  부모가   일부 부담하더라도   현실적으로 보육료는 인상되어야 한다 생각합니다.\\\\n주로  0 세에서  만 2세의  영아들을 주로 돌보는 가정보육시설의  특성상  반별  교사 인건비도  지원되었음 합니다.육아휴직으로 아기를 키우고 있는 서울 고등학교 교사입니다. 이제 복직을 5개월 앞두고 있는데 어린이집 등원만 생각하면 마음이 답답합니다. 저의 출근시간 때문입니다.\\\\n고등학교는 8시에 조회가 시작됩니다. 담임은 7시 40분까지는 가서 조회 준비를 해야 교실에 입실할 수 있습니다. 그렇다면 저는 아이를 학교 주변 어린이집에는 7시 20분까지, 집 근처라면 7시까지 데려다주어야합니다. 그러면 집에서는 6시 50분엔 출발해야하고요. 출발 시간은 그렇다해도... 너무 이른 아침이라 아이를 맡아주는 곳이 없습니다. 제 주변 선생님들은 어쩔 수 없이 등하원 도우미를 구하거나 양가 부모님의 도움을 받을 수 밖에는 없다고 말합니다.\\\\n중앙청사나 구청에 있는 직장 어린이집을 볼 때마다 부러운 마음 뿐입니다. 물론 학교마다 한개씩 아린이집을 만드는 것은 현실적으로 가능하지 않다는 것을 알고 있습니다. 그렇다면 5-6학교를 권역으로 묶어 만드는 것은 어떨까요? 가령 제가 사는 부암동 근처 학교는 상명부중, 부여고, 세검정초, 청운중, 경복고, 겅기상고 입니다. 이렇게 6개 학교를 묶어 유휴교실에 어린이집을 만들면 좋을 것 같습니다. 남는 자리는\\\\n지역 어린이들에게 오픈하고요. 꼭 고려바랍니다. 감사합니다.안녕하세요?\\\\n보육교사로 근무하고있는 교사입니다.\\\\n보육교사 근무시간이 7시30분부터 저녁 7시30분까지 12시간을 근무하게되는데..\\\\n법적으로 정해진 노동시간에 비해서도 많은편인데도 불구하고 최저시급으로 책정되어 받고있는게 현실입니다.\\\\n보육의질은 높히겠다고 하시면서..\\\\n정작 그속에서 근무하고있는 보육교사에 질은 예전이나 지금이나 큰 변화가  없다고봅니다.\\\\n보육교사에 인건비만이라도 나라에서 책임져주시는게 보육의질을 한단계 높힐수있는  최소한에 국가책임이라고 보여집니다\\\\n국가적 여러정책들이 많아 힘드시겠지만..\\\\n보육교사  근무조건이나 환경도 한번은 관심을 가져주셨음 합니다안정된 보육과 교사의 고용안전을 위해 청원합니다. 현재 국공립이 아닌 일반 소규모가정어린이집은 노동법과 영유아보육법이 부딪히는 상황으로 고용과 보육면에서 어려움이 많습니다. 어린이집 정원이 차지 않았을 때 교사들에게까지 압박이 이루어지고 내년 예산안 때문에 카톡과 전화 문자 연락이 수시로 오며 어디어디에 글을 올리라고 압박을 해요. 그래서 지금도 이렇게 한밤중에 글을 쓷고 있습니다. 월급으로 교사들에게 협박과 압력을 주지 않도록 반별인건비 지원을 해주세요. 가뜩이나 스트레스가 많은 직업인데 이런 것에서라도 스트레스를 덜 받고 싶습니다. 부탁드립니다.안녕하세요 어린이집에 근무하고 있는 교사입니다. 제가 현장에서 느끼는 바를 말씀드리고 싶습니다. 어린이집에 대한 비용적 지원을 늘려주셨으면 합니다. 그래야만 진정한 유아교육이 실현될 수 있습니다.안녕하세요 어린이집에 근무하고 있는 교사입니다. 제가 현장에서 느끼는 바를 말씀드리고 싶습니다. 어린이집에 대한 비용적 지원을 늘려주셨으면 합니다. 그래야만 진정한 유아교육이 실현될 수 있습니다.안녕하세요 어린이집에 근무하고 있는 교사입니다. 제가 현장에서 느끼는 바를 말씀드리고 싶습니다. 어린이집에 대한 비용적 지원을 늘려주셨으면 합니다. 그래야만 진정한 유아교육이 실현될 수 있습니다.안녕하세요 어린이집에 근무하고 있는 교사입니다. 제가 현장에서 느끼는 바를 말씀드리고 싶습니다. 어린이집에 대한 비용적 지원을 늘려주셨으면 합니다. 그래야만 진정한 유아교육이 실현될 수 있습니다.안녕하세요 어린이집에 근무하고 있는 교사입니다. 제가 현장에서 느끼는 바를 말씀드리고 싶습니다. 어린이집에 대한 비용적 지원을 늘려주셨으면 합니다. 그래야만 진정한 유아교육이 실현될 수 있습니다.안녕하세요 어린이집에 근무하고 있는 교사입니다. 제가 현장에서 느끼는 바를 말씀드리고 싶습니다. 어린이집에 대한 비용적 지원을 늘려주셨으면 합니다. 그래야만 진정한 유아교육이 실현될 수 있습니다.안녕하세요 어린이집에 근무하고 있는 교사입니다. 제가 현장에서 느끼는 바를 말씀드리고 싶습니다. 어린이집에 대한 비용적 지원을 늘려주셨으면 합니다. 그래야만 진정한 유아교육이 실현될 수 있습니다.안녕하세요 어린이집에 근무하고 있는 교사입니다. 제가 현장에서 느끼는 바를 말씀드리고 싶습니다. 어린이집에 대한 비용적 지원을 늘려주셨으면 합니다. 그래야만 진정한 유아교육이 실현될 수 있습니다.안녕하세요 어린이집에 근무하고 있는 교사입니다. 제가 현장에서 느끼는 바를 말씀드리고 싶습니다. 어린이집에 대한 비용적 지원을 늘려주셨으면 합니다. 그래야만 진정한 유아교육이 실현될 수 있습니다.안녕하세요 어린이집에 근무하고 있는 교사입니다. 제가 현장에서 느끼는 바를 말씀드리고 싶습니다. 어린이집에 대한 비용적 지원을 늘려주셨으면 합니다. 그래야만 진정한 유아교육이 실현될 수 있습니다.안녕하세요 어린이집에 근무하고 있는 교사입니다. 제가 현장에서 느끼는 바를 말씀드리고 싶습니다. 어린이집에 대한 비용적 지원을 늘려주셨으면 합니다. 그래야만 진정한 유아교육이 실현될 수 있습니다.똑같이 목숨을 바쳤는데..\" 한국전쟁 보상금 차별 논란-차정윤 입력 2017.06.25. 05:16 댓글 563개\\\\n[앵커] 오늘은 한국전쟁이 일어난 지 꼭 67년 되는 날입니다.\\\\n나라를 지키던 아버지를 잃은 유족들은 여전히 아픈 상처를 가지고 살아가고 있지만, 국가로부터 받는 보상은 턱없이 부족합니다.\\\\n더욱이 이 얼마 되지도 않는 보상금을 놓고 정부가 차별 대우까지 하면서 논란이 끊이질 않고 있습니다.\\\\n차정윤 기자가 보도합니다.\\\\n[기자] 3살 때 전쟁터에 나간 아버지를 잃은 이강현 씨는 해마다 6월 25일이 돌아오면 무거운 발걸음으로 현충원을 찾습니다.\\\\n\"어머니 아버지. 아들 왔어요.\"\\\\n12살부터 고된 일을 하며 가장을 대신해 온 이 씨는 지난 2002년 어머니가 돌아가시고 난 뒤 국가로부터 받던 미망인 지원금마저 끊겼습니다.\\\\n1년 전부터 유자녀들을 위한 보상금을 받기 시작했지만, 한 달에 고작 11만 원 남짓이 전부입니다.\\\\n[이강현 / 6·25 전몰군경 유자녀 : 아버지 목숨값이 11만4천 원이 뭐에요. 목숨값이 그것밖에 안 됩니까. 우리 나이가 70이 넘었는데 살면 얼마나 삽니까.]\\\\n국가보훈처는 지난 1998년 수당 제도를 마련할 당시 1997년 말까지 미망인이 숨진 유자녀만을 지원했습니다.\\\\n부당한 차별이라는 비판이 이어지면서 지난해 7월부터 뒤늦게 어머니가 돌아가신 유가족에게도 보조금이 지급됐지만 기존의 1/10도 못 미치는 수준입니다.\\\\n이처럼 부당한 대우를 받는 전몰군경 유자녀 만 2천여 명은 평균나이 일흔이 넘은 나이에도 1인 시위로, 때로는 천막 농성으로 목소리를 높이고 있습니다.\\\\n[김화룡 / 6·25 미수당 유자녀회 회장 : 형평성에 맞는 법의 취지에 맞게 저희를 대접해 달라는 게 아닙니다. 우리 아버님들에 대한 명예, 우리가 그 명예를 회복시켜달라는 그 얘깁니다.]\\\\n국회에서도 유자녀들의 수당을 66만 원까지 올리도록 법률 개정안이 발의됐지만, 1년 가까이 표류 중입니다.\\\\n보훈처 역시 개선 방안을 검토하고 있다는 말만 되풀이할 뿐 큰 진전은 없습니다.\\\\n[국가보훈처 관계자 : 작년에 처음 시작되다 보니깐 바로 올리긴 어렵고, 점차 그분들 수준을 적정수준으로 추가 인상하려고 하는 거죠.]\\\\n근거 없는 기준으로 인한 보상금 차별이 전쟁으로 상처받은 유자녀들을 두 번 울리고 있습니다.\\\\nYTN 차정윤[jycha@ytn.co.kr]입니다.\\\\n관련 태그 이슈 · 6·25 한국전쟁 67주년#차별#한국전쟁#전몰군경제주시청 공동주택과 허진계장의 직권남용을 고발합니다.\\\\n애월에서 처음에 연립주택으로 허가를 받았다가 현행법상으로는 분양하는 건물은\\\\n토지사용승낙으로 허가를 받을수 없기에 연립주택을 다가구주택으로 변경하여\\\\n허가를 받았습니다. 그런 후 허가를 다시 받아서 연립주택과 다세대 주택으로 공동\\\\n주택을 지으려고 했는데, 제주시청의 인력 부족으로 인하여 인허가 과정에서 딜레이\\\\n가 되면서, 자금 압박을 받기 시작하였고, 어쩔수 없이 다가구 주택 공사를 처음 허가\\\\n가 받은 연립주택으로 시공을 하게 되었는데, 시청에서 사람이 나와서 불법 건축물\\\\n로 이행강제금을 내게 되었으며, 변경될 도면대로 시공이 되었기에 사후 추인으로\\\\n인허가를 받게 되었습니다. 이때 이행강제금액이 약 7천만원 가량 나왔는데, 인허가\\\\n를 받으려면 이행강제금을 내야지 허가를 낼수 있다고 하여 이행강제금을 냈습니다.\\\\n하지만 금액이 과하다 생각되어, 금액을 혹여나 감액 할수 있을지 싶어서 행정 심판\\\\n을 청구하게 되었고 행정심판에서 이겨서 전액 돌려받기로 하였습니다.\\\\n하지만 제주시청 공동주택과 허진계장은 회사에 앙심을 품고 \\'을\\'의 피를 말리고\\\\n있습니다. 7월25일경 행정심판 결과가 나온 후 8월 6일~7일경 도청에서 시청으로\\\\n서류를 보냈는데 여기에 대해서 말 하지 않고 있다가, 저희가 건물이 완공 되는 시\\\\n점이 되어 서류를 접수하려고 하니깐, 준공(사용승인)을 못 내주겠다고 합니다.\\\\n그러면 이유가 무었이냐고 물으니, 행정심판에 불복하고 이행강제금을 다시 내게\\\\n만들겠다고 합니다. -> 시간이 약자인 저희로서는 울며 겨자먹기로 저희가 이겼지\\\\n만 돈을 돌려 받지 않고 이행강제금을 그대로 납부하겠다고 하였는대도 불구하고\\\\n처음부터 다시 3개월정도의 시간을 두고..1차계고,,2차경고등...3차 이행강제금 부과\\\\n를 원칙대로 하겠다고 하였습니다.\\\\n다음날 도청 행정심판부서의 변호사에게 이러한 사실에 대해서 문의 하니, 사후 추\\\\n인이 일어났기에 현재 시점에서 불법건축물이 아니기에 이행강제금을 내게 할수\\\\n있는 법적인 근거가 없다고 하여, 이 사실에 대해서 허진계장에게 안내를 해달라고\\\\n하였습니다. 도청 행정심판 변호사가 허진계장에게 전화하여, 법적인 문제가 전혀\\\\n없으니, 이행강제금을 내게 할 근거가 없다. 라고 이야기 하였으나, 허진계장은\\\\n법적으로는 알고 있지만, 마음으로 이해가 되지 않으니 이행강제금을 물리겠다고\\\\n합니다.\\\\n대한민국은 엄연한 법치국가인데, 공무원 개인의 마음대로 법에도 없는데도 \\'을\\'을\\\\n괴롭힐수가 있나요?\\\\n또한 전날 허진계장과 만나서 면담을 할때, 법적인 문제가 없다는것을 알고 있었음\\\\n에도 불구하고 법적인 문제를 들먹이면서 이행강제금을 내게 하겠다고 협박\\\\n하였습니다. 또한 저희가 그러면 이행강제금 부과하는것은 좋으니, 준공(사용승인)\\\\n에 법적인 문제가 없으면 해결해달라고 하니, 이행강제금 문제가 남아 있기에\\\\n사용승인을 내줄수가 없다고 했습니다. 여기에 대해서 법적인 근거가 있냐고 하니\\\\n허진계장은 민원인인 \\'을\\'을 상대로 큰소리로 본인에게 지금 따지냐고 ? 겁박을\\\\n하였으며, 있지도 않은 법을 거짓말로 하였습니다.\\\\n(사용승인이 나게 되면 이행강제금을 물릴수가 없고 소멸 된다. 라고 말함)\\\\n그런 법이 어디있냐고? 법을 어겼으면, 공사가 완료 되었더라도 이행강제금을\\\\n내야하는것 아니냐고 물으니 자꾸 위에 말만 반복하였습니다. 소멸된다고..\\\\n하지만 오늘 도청의 행정심판 변호사와 상담해보니 그런 법규는 없으며, 앞서\\\\n말했듯이 \\'사후추인\\' 으로 인하여 허가가 정당하게 났으며, 현재 불법건축물이\\\\n아니기 때문에 이행강제금을 부과 할수 없다는 답변을 받았습니다.\\\\n-> 허진계장은 이렇게 이행강제금을 부과할수 없다는 법을 알기에 말도 안되는\\\\n거짓말로 무지한 민원인 \\'을\\'을 겁박하며 직권 남용을 하였습니다.\\\\n또한 금일 너무 억울하여 제주시청 도시국장님께 어려움을 청하고자 만나러 갔는데\\\\n거기서 우연히 만나게 되어서 여기에 대한 이야기를 하니, 그러던 말던 본인은\\\\n마음대로 하라고, 준공을 못내주겠다고 합니다.\\\\n세상에 대한민국 법치국가에서 이런 \\'갑\\'의 횡포가 어디 있습니까?\\\\n요즘 사기업에서도 \\'갑\\'질 논란이 점화되면 문제가 심각해지는 상황인데..\\\\n나라의 녹을 먹는 공무원이 민원인을 상대로 직권남용에 \\'갑\\'질이라니요....\\\\n저희는 하루 이자가 1천만원씩 나가게 됩니다. 이런 점을 알고서\\\\n허진계장은 악용하여 시간이 약자인 저에게 없는 원칙을 가지고 원칙대로 하겠다고\\\\n이야기만 하며, 그럼 빨리 부과 해달라고 이야기 하여도, 확실하게 할거니깐\\\\n기다려라고 계속 시간만 끌고 있는 상태입니다.\\\\n문재인 대통령 정부에서는 중소기업을 육성 하는 정책을 피우고 있는데,\\\\n이와 반하는 \\'갑\\'질로 중소기업을 죽여나가고 있습니다.\\\\n이렇게 직권남용을 하는 공무원들을 바로 잡는 적폐청산을 해주었으면 좋겠고,\\\\n왜 법에도 없는 법을 들먹이면서 무지한 민원인의 피를 말리는지 모르겠습니다.\\\\n부디 확인 하시어 올바른 행정이 이루어지도록 처리해주셨으면 감사합니다.\\\\n몇날몇일 제주시청 공동주택과 허진계장의 직권남용으로 잠을 이루지도 못하고 답\\\\n답한 마음에 글을 남깁니다.안녕하세요\\\\n남들은 어린이집 원장이라 돈많이 벌겠다고 하지만 원걸 5억에 가까운 아파트1층  투자해두고  임대료도 못받고 매달  교사월급정도 받고 있는 가정 어린이집 원장입니다  그래도 응원해주신 학부모님 힘들지만 열심히 노력해준 선생님들  예쁜아가들을 볼때 힘이되곤 합니다\\\\n가정어린이집 아가들은 이나라에 미례라 생각합니다  좋은거 먹이고 싶고 풍족하게 놀잇감도 사주고 싶지만 어린이집 운영이 쉽지가 않습니다 내년에는 우리 새정부가 가정어린이집에 숨을 쉴수 있도록 부탁드립니다\\\\n교사도 행복하고 아이들도 행복하고 부모님들도 만족할수 있는 알짠교육을 할수있도록 내년 예산에 반영해주시기 바랍니다\"나라에 서운합니다\"\\\\n한수연 기자 입력 2017.06.28. 10:35 댓글 3개\\\\nSNS 공유하기\\\\n•페이스북\\\\n•카카오스토리\\\\n•트위터\\\\n•메일\\\\n•내 블로그\\\\n•내 카페\\\\n/**/ /**/\\\\n음성 기사 듣기\\\\n글자 크기 조절 레이어 • 가나다라마바사\\\\n• 가나다라마바사\\\\n• 가나다라마바사\\\\n• 가나다라마바사\\\\n• 가나다라마바사\\\\n국가를 위해 한국전쟁에 참전했다가 숨진 군인과 경찰들입니다.\\\\n국가보훈처는 1998년부터 6·25 전몰군경 유자녀들에게 보훈 급여를 지급하고 있습니다.\\\\n그런데 유자녀에게 지급하는 보훈 급여가 어머니의 사망 시점에 따라 최대 10배까지 차이가 나 유가족들이 분통을 터뜨리고 있습니다.\\\\n이들은 국가보훈처의 유자녀 분류 기준이 비합리적이며 임의적이라 차별을 받고 있다는 입장입니다.\\\\n6·25를 맞아 전몰군경 유자녀 처우의 실태와 문제점을 따져봅니다.\\\\n--------------------------------------\\\\n지난 19일.\\\\n정부종합청사 앞.\\\\n한복을 입은 외국인 관광객들 사이, 상복 차림의 노인들이 눈에 띕니다.\\\\n침묵시위 중인 이들은, 6·25 전쟁에서 전사한 군인과 순직 경찰의 자녀들입니다.\\\\n정부가 유가족 수당 액수에서 부당한 차별을 방치하고 있다고 주장합니다.\\\\n[서승교/6·25 전몰군경 유자녀] \"다 같은 6·25 사변 때 돌아가신 아버지 자식들인데 너무나 10배나 차이 나기 때문에 그걸 수정해 달라고 시위를 하고 있습니다.\"\\\\n정부는 지난 2001년부터 6·25 전쟁 때 사망한 군인과 경찰의 자녀들에게 수당을 지급하고 있습니다.\\\\n아버지를 여의고 어린 시절을 힘들게 보내야 했던 유자녀들에 대한 예우 차원입니다.\\\\n하지만, 지급액을 정하는 규정이 합리적이지 못해 유자녀들은 국가에 많은 섭섭함을 느낀다고 말합니다.\\\\n그동안 국회에서, 그리고 언론 보도에서 지적도 돼 왔지만, 6월 보훈의 달이 지나가면 또다시 잊혀지는 이슈였습니다.\\\\n서울 중앙보훈병원에서 20년째 봉사활동 중인 김자야 씨, 1950년 네 살 때, 아버지는 낙동강 전투에서 전사했습니다.\\\\n김씨는 아버지께 못한 효도를 한다는 심정으로 국가유공자 노인들의 병원 검진을 돕고 있습니다.\\\\n전쟁터에서 남편을 잃은 어머니는 막노동으로 자신을 키웠다고 합니다.\\\\n[김자야/6·25전몰군경 유자녀] \"미망인이고 우리 유자녀들이고 애비 없는 자식으로서 굉장히 멸시를 받았어요. 멸시를 받다 보니까 그런 걸 (아버지 참전 사실을) 내색도 못했고. 우리를 국가에서도 누가 뭐 어떻게 보살펴 주지 않았어요.\"\\\\n2001년, 김씨에게 자녀 수당이 지급됐습니다.\\\\n올해 기준, 월 100만 4천 원, 적지않은 도움이 된다고 합니다.\\\\n[김자야/6·25 전몰군경 유자녀] \"그게 많이. 그걸로 사는 거죠. 그걸로 살고 있어요. 초등학교도 못 나오고 배우지 못하고 또 가진 것도 없잖아요. 누가 도와주는 사람도 없고, 참 고아나 다름없이 자란 애들이 너무 많아요.\"\\\\n아버지 묘소를 찾은 또 다른 유자녀 조성길 씨입니다.\\\\n아버지는 1952년 고성전투에서 전사했습니다.\\\\n7살 때 아버지의 사망 통지를 받은 조씨는\\\\n홀로 남은 어머니를 위해 초등학교 졸업 후 곧바로 생계 전선에 뛰어들었다고 합니다.\\\\n[조성길/6·25 전몰군경 유자녀] \"시골에 땅도 없고 물려받은 땅도 없고 하니까 장사를 했어요, 계란장사. 남산 야외음악당에서 노숙했어요. 그리고 밥은 남대문시장 가면 수제비 있어요. 밀가루 반죽해 떼놓은 수제비, 그게 제일 쌌으니까 그거 사먹고.\"\\\\n중장비 기사로 일하다 회사를 퇴직한 뒤 현재는 일용직 기사로 살고 있는 조씨에겐 유자녀 수당으로 11만 8천 원이 지급됩니다.\\\\n앞서 김자야 씨와 비교해 보면, 아버지가 6·25 전쟁에서 전사했고.\\\\n홀어머니 밑에서 어린 시절을 힘겹게 보낸 점 등이 유사합니다.\\\\n하지만, 보상금의 액수는 10배 가까이 차이가 나는 것입니다.\\\\n국가 유공자의 자녀라는 자부심으로 살아오고 있지만, 아버지 목숨의 대가는 무공훈장뿐이란 생각에 허망함도 느낀다고 합니다.\\\\n[조성길/6·25 전몰군경 유자녀] \"이건 형평성에서 진짜 너무 문제가 많다고 생각해요. 법에는 평등하다고 되어 있는데 시행에서는 평등치 못하니까 항의를 할 수밖에 없죠.\"\\\\n이렇게 유자녀 수당액수가 크게 차이가 나는 것은 정부의 분류 방식 때문입니다.\\\\n정부는 6·25 전몰군경 자녀 수당을 책정하면서, 자녀들을 세 등급으로 나눴습니다.\\\\n아버지 사망 후 어머니가 재혼해 떠나버려 사실상 고아가 된 경우는 \\'제적 유자녀\\'로 정해, 월 120여만 원을, 홀어머니와 함께 산 자녀들의 경우, 1998년 1월 1일 이전에 어머니가 사망했다면 \\'승계 유자녀\\'로 지정해 100만 4천 원을, 그런데 98년 1월 이후 사망한 경우, \\'미수당 유자녀\\'로 규정해, 그 자식들에겐 수당을 11만 8천 원만 주기로 했습니다.\\\\n기준이 된 법 개정 시점 98년 1월에서 하루 앞서 97년 12월 31일 어머니가 돌아가셨을 경우, 한 달에 1백만 원씩 받게 되지만, 바로 다음날인 98년 1월1일에 돌아가셨다면, 11만 8천 원의 보상금만 받게 됩니다.\\\\n제도 시행 초기엔 11만 8천 원마저도 지급되지 않다가, 강력한 항의가 이어지자, 지난해 7월부터 지급되기 시작했습니다.\\\\n[김화룡/6·25 전몰군경 미수당 유자녀] \"저희 어머니가 조금 오래 사셨다는 그 핑계 하나로 우리 유자녀들을 미수당 유자녀라고 국가보훈처에서 이름을 지어놓고, 자그마치 17년 동안 정부에서 단, 돈 1원짜리는커녕 어떠한 프로그램 하나 없었습니다.\"\\\\n1백만 원대가 아닌 11만 8천 원을 받는 유자녀들은 현재 1만 3천여 명.\\\\n[김연옥/6·25 전몰군경 미수당 유자녀] \"그날이 딱 저희 아버님 제삿날이었습니다. 그래서 11만 4천 원을 상에 올려놓고 한없이 울었습니다.\"\\\\n[이광윤 교수/성균관대학교 법학전문대학원] \"유가족의 사망 시점에 따라서 차별을 하고 있잖아요. 그것도 또 지급액이 10배나 차이가 난다고 하니까 이것은 명백히 평등의 원칙에 어긋나는 시행령의 내용이죠.\"\\\\n국가보훈처는 \"재정 당국과 협의해 수당을 지속적으로 인상해 나가겠다\"는 입장입니다.\\\\n[김화룡/6·25전몰군경 미수당 유자녀] \"지금이나 예나 똑같은 얘기입니다. 대한민국이 좀 더 부강하고 돈이 많으면 점차적으로 수당을 늘려주겠다, 그게 말이 되는 얘기입니까?\"\\\\n여야 정치권도 대체적으로 문제점을 인정합니다.\\\\n그래서 11만 8천 원의 여섯 배인 월 70만 원으로 올리자는 법률 개정안도 발의돼 있습니다.\\\\n[민홍철/국회의원 국가유공자예우법 개정안 발의] \"시간이 문제거든요. 현재 6·25 참전 전몰군경 유자녀 분들이 거의 65세 이상입니다. 그러니까 이분들한테 빨리 수당으로라도 예우를 해드려야 되는데 국가가 예산이 없다는 이유는 이제는 변명의 여지가 없는 거죠.\"\\\\n6·25 전쟁에 참전했던 유공자는 물론 그런 부모님을 모시고 있거나 모셨던 자녀들도, 국가를 향해 서운한 마음을 갖고 있는 경우가 크다고 합니다.\\\\n금전적 지원을 받는다 해도 희생에 비해 그 액수가 너무 적거나, 아예 없었기 때문이라고 말합니다.\\\\n경기도의 한 요양원.\\\\n조영화 씨는 1950년 안강 전투에 간호원으로 참전했습니다.\\\\n[조영화/6·25 참전유공자] \"환자가 있을 때 그때 뭐 일이 바쁘지. 전쟁이 치열하게 하고 나니까 맨 환자뿐이야. 그걸 모두 다 치료하느라 밤에 잠도 못 자고 그랬지.\"\\\\n10년 전 발병한 치매의 진행 속도가 최근 들어 빨라져 요양원에 입원했습니다.\\\\n군번도, 기록도 남아 있지 않았던 조 씨는 지난 2004년에야 참전 유공자로 인정받았습니다.\\\\n그런데 매월 받는 참전 명예 수당은 22만 원 정도.\\\\n내년부터 인상될 예정인 이등병 월급(30만 6,130원)에도 못 미치는 액수입니다.\\\\n한 달 약값도 안되는 지원금 대신, 의료 혜택만이라도 제대로 받을 수 있기를 자식들은 바라고 있습니다.\\\\n지정 병원을 가면 진료비가 감면되긴 하는데 할인 혜택은 턱없이 부족한 수준이라고 합니다.\\\\n[원미희/6·25 참전유공자 자녀] \"치매 검사를 했는데 그때 MRI 같은 비용이 130만 원 이래서, 한 열흘 입원하셨는데 150만 원 넘게 비용이 나왔어요. 위탁병원이라 할지라도 혜택이 별로 없다, 이런 생각이 들더라고요.\"\\\\n어느새 여든이 넘어버린, 생존 유공자들에 대한 장기 요양 혜택도 미미하다고 합니다.\\\\n[원미희/6·25 참전유공자 자녀] \"(6·25 참전 유공자가) 9만 9천 명 남았으면 한 5,6년 안에 거의 돌아가신다고 보이거든요. 그렇다면, 그 어른들 살아생전에 의료비라도 지원을 해드리고 또 요양원에 편히 계실 수 있도록 그건 국가가 해야 되는 게 아닌가.\"\\\\n1951년 오산 전투에서 지뢰 폭발로 전신에 파편상을 입고 전역한 고 배효원 씨, 온몸에 박힌 파편들로 인한 고통과 불편한 몸 상태 때문에 제대로 된 직업을 갖기가 쉽지 않았다고 합니다.\\\\n[배금선/6·25 참전유공자 자녀] \"육군병원에서 수술 두 번 하고 큰 파편들은 대충 제거를 했는데 그 흉터가 많이 몸에 남아있었어요. 다리 이렇게 만지면 파편이 다리에도 있고 막 이런 데 가슴에도 있고.\"\\\\n그러다 아버지는 95년 세상을 떠났습니다.\\\\n사망 전까지 유공자로 인정받지 못해, 살아생전 보훈 혜택을 받지 못했습니다.\\\\n[배금선/6·25 참전유공자 자녀] \"6·25 참전 유공자도 아니라는 거예요. 국방부에 분명히 병적증명서 있고 다 남아있는데 왜 유공자가 아니냐, 유공자가 맞잖아요.\"\\\\n그러다 올해 6·25 참전 유공자로 인정받긴 했지만, 금전적 지원은 아무것도 없습니다.\\\\n가족들은 아버지에게 상이 등급이 인정돼, 몸이 불편한 남편을 챙겼던 어머니라도 병원비 지원 혜택을 받게 되길 원합니다.\\\\n[배금선/6·25 참전유공자 자녀] \"엄마가 얼마나 살아 계실지는 모르지만 살아계시는 동안에 한 달 병원비라도 받아봤으면 좋겠어요. 진짜. 제가 진짜 간절한 심정이에요.\"\\\\n하지만, 파편 부상 \\'상이 7등급\\'이 2000년에 생겼기 때문에, 이미 95년 사망한 아버지에게 소급 적용되기는 어렵다고 합니다.\\\\n[국민권익위원회 관계자] \"당시에는 1에서 6등급밖에 없다 보니까 팔, 다리가 절단되고 이러지 않으면 이게 등급 받기가 좀 어려웠고, 김대중 정부가 들어서서 7등급이라는 등급을 별도로 추가로 만들어서 파편창 분들이 대부분 7등급이 됐다는 거예요.\"\\\\n6·25 참전 용사의 유가족들은, 전쟁에 나가 숨지거나 부상당한 사람만 억울할 뿐이라는 생각을 지울 수 없다고 말합니다.\\\\n왜 국가가 먼저 나서서 권리를 찾아주지 않느냐는 불만도 얘기합니다.\\\\n[조성길/6·25 참전유공자 자녀] \"공무원들이요. 찾아주는 것이 없어요. 이런 제도가 있으니 이렇게 이용을 하라는 얘기가 여태까지 지금도 안 하고 있어요. 자기가 자기 몫을 못 찾아 먹으면 그걸로 끝나지 절대 찾아주는 법이 없어요.\"\\\\n국가를 위해 희생한 유공자들에 대한 지속적 복지의 중요성을 전문가들은 강조합니다.\\\\n[조흥식/서울대 사회복지학과 교수] \"미국 같은 데서는 일종의 생애주기별 서비스, 그리고 또 소득 보장을 아주 체계적으로 합니다. 중장년 시대 때 여러 가지 어떤 보상이라든가 그다음에 노년층에 있어서의 보상이 받고자 하는 욕구가 좀 다를 거 아니겠습니까.\"\\\\n문재인 대통령은 국가유공자와 보훈 가족이 대접받는 사회를 강조했습니다.\\\\n[제62회 현충일 추념식/지난 6일] \"전장의 부상을 장애로 안고, 전우의 희생을 씻기지 않는 상처로 안은 채 살아가는 용사들, 그분들이 바로 조국의 아버지들입니다. 반드시 명예를 지켜드리겠습니다.\"\\\\n국가를 위해 목숨을 바쳤고, 부상을 당한 참전 용사들의 피와 땀이 그 후손들의 삶을 통해 원망으로 돌아와선 안 될 것입니다.\\\\n관련 태그 #6·25#참전유공자#수당\\\\n연재시사매거진 2580\\\\n•어느날 유포된 동영상..\\\\n•\"나라에 서운합니다\"\\\\n•\\'탈원전\\' 첨예한 쟁점들얼마전 장기금융채무자들의 채무를 다 면제 소멸시켜 신용을 회복해 준다는 기사를 보게 되었습니다.\\\\n좀 불공평하다는 생각이 들었습니다.\\\\n어떤 사람들은 개인회생으로 다른방법으로 최선을 다해서 갚고 있는데..\\\\n어떤 사람들은 그냥 버티다가 면제받고...\\\\n저도 예전에 연대보증 때문에 힘들어서 개인회생을 경험했던 때가 있어서 그런지\\\\n현재 개인회생 납부자들의 마음을 조금은 알 것도 같고..\\\\n또 가까운 분 중에 개인회생을 현재 납부하고 계신 분이 있어 안타까운 마음에 청원을 해봅니다.\\\\n현재 우리나라 개인회생 납부 금액이 현실과 너무 동떨어지게 책정되고 있습니다.\\\\n개인회생으로 마음의 짐을 좀 들고 정상적인 금융생활을 하고자 원하나\\\\n개인회생으로 인해 다시 파산으로 갈 수밖에 없는 사람들이 너무 많은 것 같습니다.\\\\n현재 보증으로 인해 개인회생 납부중인 제 주변 분을 예를 들면\\\\n그분은 6인 가족입니다. 2017년 개인회생 6인 최저생계비는 3,672,187원입니다.\\\\n개인회생은 급여에서 최저생계비를 제외하고 나머지 금액을 내는걸로 알고있습니다.\\\\n그런데 현실은 그렇지 않습니다.\\\\n그분은 명절이나 기타상여금을 제외하고,\\\\n매달 상여금을 포함해서 세금을 제외한 금액 2,700,000~2,800,000원 정도를 받는다고 합니다.\\\\n이것조차도 최저생계비가 되지 않는데..\\\\n이분이 매달 납부해야될 개인회생 금액은 1,100,000원 정도가 된다고 합니다.\\\\n그럼 한달 고정 수입이 1,600,000~1,700,000원 정도 된다고 하셨습니다.\\\\n6명이 고정수입 1,700,000원으로 월세까지 내가며 살아가십니다.\\\\n특별상여금이나 부인의 소득이 있을때도 있지만 조금의 도움밖에 되지 않습니다.\\\\n현상태는 부인의 카드로 생계비를 대체하다보니 이제 파산직전까지 갔다고 합니다.\\\\n당시 법원에서 개인회생 금액을 책정할 때\\\\n부인이 직업이 있었고, 대학생 자녀가 1명 있어 성인은 부양가족이 아니라며 2명을 부양가족에서 제외시켰다고 합니다. 또한 부인의 소득도 참고하신 것 같습니다.\\\\n1. 현실적으로 볼 때 대학생 자녀는 몸만 성인이지, 그냥 돈이 제일 많이 들어가는 자녀일뿐입니다.\\\\n그런데 성인이라며 부양의 의무가 없다로 판단해서 부양가족이 아니다??\\\\n2. 또한 이분의 부인은 지금 직업이 없는 상태입니다. 경력단절된 아줌마들의 직업이란게 선택의 여지도 별로 없고, 있다 없다를 반복할 수밖에 없는 상황입니다.\\\\n3. 또 책정이 잘못되는 것 중에 하나가...\\\\n왜 급여총액으로 계산을 하는 겁니까? 4대보험, 세금을 제외한 실수령액으로 해야죠.\\\\n우리나라 급여소득자들 4대보험, 세금 정말 많이 땝니다.\\\\n그래서 부탁드립니다.\\\\n현재 이분뿐만 아니라 아마도 개인회생 납부자들중 과다 책정되어 무리하게 빚을 갚아나가고 있는 분들이 많을겁니다.\\\\n1. 이분들 전체적으로 납부하는 금액을 현실에 맞게 낮춰주시고\\\\n2. 앞으로 개인회생을 신청하시는 분들 현실에 맞게끔 금액을 책정해주셨으면 합니다.\\\\n물론, 채무자가 채무변제의 의무가 있다하나\\\\n이왕에 국가에서 구제해주고자 개인회생이란 제도를 만드셨다면\\\\n파산으로 가지 않게끔 적당한 금액을 책정해서 끝까지 성실히 잘 납부해서 신용회복이 될수있도록 도와주셨으면 합니다.및 제안\\\\n> 청원 목록\\\\n청원 소개 및 참여\\\\n청원 목록\\\\n베스트 청원\\\\n청원등록\\\\n청원시작\\\\n청원종료\\\\n브리핑\\\\n[청원진행중]  박성진 중기벤쳐부 장관 후보자 임명동의 철회 부탁드립니다. 대통령 각하께\\\\n카테고리\\\\n일자리\\\\n청원인\\\\nfacebook-1511002182291897\\\\n청원시작\\\\n2017-08-30\\\\n청원마감\\\\n2017-09-29\\\\n29일 남음\\\\nSNS 공유하기  Facebook\\\\nTwitter\\\\nKakao Story\\\\nTelegram\\\\n청원 참여 1 명\\\\n청원개요\\\\n29일 경향신문 취재 결과 포항공대 기계공학과 교수인 박 후보자는 2015년 2월27일 이런 내용을 담은 ‘미래를 위한 새로운 대학교 연구 및 교육 Model(모델) 창출’이라는 연구보고서를 학교에 제출했다. 보고서를 낸 시점은 박근혜 정부에서 8월15일 건국절 제정과 친일·독재를 미화한 교학사 역사교과서 논란이 한창 커질 때였다.\\\\n박 후보자는 강의안 형태로 된 보고서 ‘제2장 대한민국의 역사’에서 이 전 대통령의 정신세계를 “자유민주주의 나라 건설에 대한 열망”으로 평가하면서 “김구와 비교(분단 반대와 대한민국 건국)”라고 적었다.\\\\n보수진영 일각에서는 건국 시기를 해방 후 대한민국 정부가 수립된 1948년 8월15일로 보지만, 현행 헌법은 김구 선생이 주도한 상해 임시정부가 수립된 1919년 4월13일로 간주한다. 건국절 주장은 대한민국의 역사적 정통성을 ‘이승만-건국 대통령’에서 ‘박정희-산업화 대통령’으로 이어지는 체제에서 찾으려는 시도로 해석된다.\\\\n-------------------------------------------------------\\\\n존경하는 대통령 그리고 비서실장님께\\\\n중소기업벤쳐부 장관 국무위원 후보자인 박성진 후보자에 대해 임명철회를 구하고자 합니다.\\\\n물론 저는 박성진 후보자와 신앙이 같은 개신교인임을 밝힙니다.\\\\n따라서 창조과학을 지지하는 박성진 후보자를 이해하며 일면 동의도 합니다.\\\\n그런데 한 부처의 장관이라함은 개신교 천주교 이외 다른 이웃 종교의 국민들도 만나야 하고\\\\n민원을 공평무사하게 처리해야 하는 의무도 가지고 있습니다.\\\\n정부의 제 1국정과제인 일자리 창출의 주무부처이기도 한데\\\\n균형을 잡지 못하고 종교 편향 우려를 전임 총리 황교안처럼 불러 올 가능성도 있습니다.\\\\n위에 택스트로 쓰인 기사처럼 정부와 대통령각하의 국정철학의 방향과 부적절하다면\\\\n인사청문회에서도 문제될 수 있고 쓸데없는 정쟁을 야기할 수 있습니다\\\\n따라서 박성진 국무위원 후보에 대해 임명철회 해 주실 것을 구하옵니다,\\\\n더불어민주당 강남 갑 지역위원회 권리당원\\\\n일반 국민 장 기 영 드림2017.08.30.\\\\n수신 종로구 청운효자동 청와대로 1 대한민국 청와대 여민관\\\\n수신처 1: 문재인 대통령  귀하\\\\n수신처 2: 임종석 비서실장  귀하안녕하십니까?\\\\n청원자는 서울시 종로구 종로 183(인의동) 에 소재한 효성주얼리시티라는 상가의 관리단 실장입니다.\\\\n다름이 아니고 저희 상가는 현재 상가관리권의 지위 문제로 종로구청을 상대로 행정소송중에 있으며 이로 인해 상인들은 관리비 고지서가 두 단체(상가관리단, 대규모점포관리자)에서 부과되는 문제로 민법 제 487조 후단을 적용하여 관리비 변제 공탁을 하고 있는 실정입니다.\\\\n- 입점상인들은 관리단(집합건물법)과 대규모점포관리자(유통산업발전법) 두단체에서 배부하는 고지서 금액 중 큰 금액을  공탁하고 있습니다.\\\\n그러나, 대규모점포관리자는 공탁상인에 대해서 단전,단수 하지 않겠다고 이야기 했다가 태도를 바꿔 공탁상인에게도 단전조치를 하겠다고 단전예고장을 배부한 뒤 2017. 8. 18. 오전 08:00경에 단전을 시행하여 2017. 8. 19. 당 상가 로비에서 입점상인들의 항의에 이달 말일까지 단전을 유보하고 입점상인들의 찬,반 의견을 물어 단전을 하겠다고 합니다.\\\\n\"서울중앙지방법원 2013노2991 업무방해\" 사건의 업무방해죄가 인정된 사례가 있습니다.\\\\n- 단전,단수를 할 만한 정당한 이유가 없었다면 관리비를 체납하였다는 이유만으로 단전,단수 하는 것은 업무방해죄에 해당한다.\\\\n- 전기공급은 현대사회에서 일상생활에 필수적이고 생존에 직접 연관되는 것으로 집합건물에서 발생 할 수 있는 관리비 미납의 문제를 소송 등 법적인 수단 및 집행의 방법을 통하지 않고 전기공급 중단이라는 법외의 수단으로 해결하기 위해서는, 집합건물의 권리관계를 규율하는 관리규약, 즉 구분소유자의 3/4 이상 및 의결권의 3/4이상의 찬성에 의하여 정해지도록 집합건물법에서 규정하고 있는 관리규약에 의하여 이를 명시하여 그 집합 건물 소유자의 3/4이상의 의사를 반영하라는 취지로 보이는데, 이를 \\'관례\\'라는 이름의 관리규약으로 단전조치의 가능성을 열어 둘 수는 없다.\\\\n위와 같이 단전은 상인들의 생존권이 걸려있는 문제이니 만큼 효성주얼리시티상가 입점상인들의 분노가 극에 달해 있습니다.\\\\n관리단에서는 대규모점포관리자에게 법원의 판결이 나올 때 까지 단전 등의 조치를 하지 않을 것을 권유했지만 아무 소용이 없는 상황이며 입점상인들의 단전을 시행 하겠다고 으름장을 놓고 있습니다.\\\\n상가의 관리자는 입점상인들의 안전을 책임지고 생업에 전념 할 수 있도록 하는 것이 관리자의 자세입니다.\\\\n효성주얼리시티상가 입점상인들이 너무도 많은 고통을 받고 있습니다.\\\\n112신고를 받고 출동한 경찰들도 해줄 수 있는 것이 없다고 합니다.\\\\n부디 청원서를 접수 받으시면 고통 받고 있는 효성주얼리시티상가 입점상인들을 불쌍히 여기시고 조속한 시일 내에 관리자의 횡포를 중단 할 수 있게끔 조치해 주시기를 희망합니다.\\\\n긴 글 읽어 주심에 깊은 감사드립니다.\\\\n효성주얼리시티상가관리단 실장 김진영\\\\n02) 6744-4222~4\\\\nfax : 02) 6744-4225\\\\n@ 관련링크 2017. 8. 28. 월요일 종로타임즈 기사 참조저뿐 아니라 이 땅의 모든 영아교사들이 이맛에 아마도 영아보육을 포기하지 않는 이유일지도 모릅니다. 서툰 몸짓의 아이를 기관에 맡길 수 밖에 없는 직장맘들한테는 백퍼센트 국가가 운영하지 않는 한 국공립이던, 서울형이던, 일반형이던 선택의 여지가 없습니다. 그런데 모든 아이들은 차별받지 않고 질높은 보육서비스를 받을 권리가 있고, 어머님들 또한 불안해 하지 않으면서 집 가까운 기관을 찾을 수 있어야 합니다. 그러기 위해서는 사명감 있고 유능한 보육교사가 필요한데 그에 합당한 대우가 주어질 때 가능하다고 생각합니다. 이에 기관 형태와 상관없이 똑같은 업무를 수행하는 영아 교사들에게 반별 인건비 지원을 해주셔서 생애 첫 교사라는 자부심으로 후대에 물려주고 싶은 직업이 되기를 소망합니다.안녕하세요 문재인 대통령님. 더이상 가만히 있다가는 나까지 끔찍한 사건을 당할까봐 두려워서 글 올려봅니다.\\\\n전 현재 중학교 3학년 학생이고요, 이번 인천초등생살인사건을 보고 너무 크나큰 충격을 받았습니다. 고작 청소년 이라는 이유로 20년 이라니요? 게다가 얌전히만 있으면 5년 석방이라고요? 전 기사를 읽고 제 눈을 의심하였습니다. 그리고 이때까지 조두순을 포함한 모든 끔찍한 살인범, 성범죄자들에게 일명 \\'솜방망이 처벌\\'을 내린것이 생각이 났고 정말로 범죄자만 살기좋고 피해자들이 두려움에 떨어야하는 최악의 사태가 벌어진것입니다. 저는 대한민국의 교육과정 그리고 몇가지가 더 불편하긴 하지만 그런데 이 일은 저의 목숨과도 관련된 일이라 넋놓고 볼수만은 없었습니다. 항상 눈살이 찌푸려지는 끔찍한 범죄사건에도 \\'솜방망이 처벌\\'을 해서 나날이 갈수록 범죄도 늘어가는것 같고 국민들은 항상 불안에 떨어야합니다. 문재인 대통령님을 저희 가족이 굳건히 믿고 투표한 만큼 대통령님도 올바른 선택, 올바른 처벌을 하실거라 믿습니다. 그런 흉악한 범죄자들은 무기징역이나 사형을 받아야 마땅하다고 생각합니다. 제 동지들 그리고 제 주변의 사람들까지 언제 어디에서 살해를 당하고 성폭행을 당할수도 있으니 피해자를 위한 엄중하고 강력한 법이 생기면 가해자들은 마땅한 벌을 받고 피해자들은 더욱 안심하며 살 수 있을것 입니다. 지금 고칠것이 많은 대한민국이라도, 든든하고 믿음직한 문재인 대통령님이 있으시기에 저도 드디어 제 의견을 말해봅니다. 지금까지 저의 의견을 들어주셔서 정말 감사합니다. 이루어질것이라 꼭 굳건히 믿겠습니다. 감사합니다.29일 경향신문 취재 결과 포항공대 기계공학과 교수인 박 후보자는 2015년 2월27일 이런 내용을 담은 ‘미래를 위한 새로운 대학교 연구 및 교육 Model(모델) 창출’이라는 연구보고서를 학교에 제출했다. 보고서를 낸 시점은 박근혜 정부에서 8월15일 건국절 제정과 친일·독재를 미화한 교학사 역사교과서 논란이 한창 커질 때였다.\\\\n박 후보자는 강의안 형태로 된 보고서 ‘제2장 대한민국의 역사’에서 이 전 대통령의 정신세계를 “자유민주주의 나라 건설에 대한 열망”으로 평가하면서 “김구와 비교(분단 반대와 대한민국 건국)”라고 적었다.\\\\n보수진영 일각에서는 건국 시기를 해방 후 대한민국 정부가 수립된 1948년 8월15일로 보지만, 현행 헌법은 김구 선생이 주도한 상해 임시정부가 수립된 1919년 4월13일로 간주한다. 건국절 주장은 대한민국의 역사적 정통성을 ‘이승만-건국 대통령’에서 ‘박정희-산업화 대통령’으로 이어지는 체제에서 찾으려는 시도로 해석된다.\\\\n-------------------------------------------------------\\\\n존경하는 대통령 각하 그리고 비서실장님께\\\\n중소기업벤쳐부 장관 국무위원 후보자인 박성진 후보자에 대해 임명철회를 구하고자 합니다.\\\\n물론 저는 박성진 후보자와 신앙이 같은 개신교인임을 밝힙니다.\\\\n따라서 창조과학을 지지하는 박성진 후보자를 이해하며 일면 동의도 합니다.\\\\n그런데 한 부처의 장관이라함은 개신교 천주교 이외 다른 이웃 종교의 국민들도 만나야 하고\\\\n민원을 공평무사하게 처리해야 하는 의무도 가지고 있습니다.\\\\n정부의 제 1국정과제인 일자리 창출의 주무부처이기도 한데\\\\n균형을 잡지 못하고 종교 편향 우려를 전임 총리 황교안처럼 불러 올 가능성도 있습니다.\\\\n위에 택스트로 쓰인 기사처럼 정부와 대통령각하의 국정철학의 방향과 부적절하다면\\\\n인사청문회에서도 문제될 수 있고 쓸데없는 정쟁을 야기할 수 있습니다\\\\n따라서 박성진 국무위원 후보에 대해 임명철회 해 주실 것을 구하옵니다,\\\\n더불어민주당 강남 갑 지역위원회 권리당원\\\\n일반 국민 장 기 영 드림2017.08.30.\\\\n수신 종로구 청운효자동 청와대로 1  대한민국 청와대 여민관\\\\n수신처 1: 문재인 대통령 각하 귀하\\\\n수신처 2: 임종석 비서실장 각하 귀하광화문1번가에 제출한 침구 관련 정책제안의 연장선에서 다음과 같은 제안을 드립니다.\\\\n곧 보건복지부 업무보고도 있다고 하여 우선 거칠게나마 의견을 올립니다.\\\\n----------------------------------------------------------------------------------------------------------------\\\\n현 시기 양한방 간 의료제도문제를 해결하는 상생의 방안\\\\n- 의료기기 사용문제 양한방 갈등 등 한꺼번에 해결할 수 있는 1석5조 정책제안 -\\\\n한의사단체는 양방의료기사용을 집중적으로 요구하고 있고, 의사단체는 단호하게 반대하고 있습니다.\\\\n현하 의료기기사용문제 등 양한방 사이의 갈등 등의 여러 가지 현안을 해결하기 위해서 침구사를 양성해 모든 보건의료현장에서 널리 쓰이도록 하는 방안을 제안합니다.\\\\n침구사를 양성하여 양방병원에서도 쓰도록 하면 의료일원화문제는 저절로 해결됩니다. 한방에 양방의료기기 쓸 수 있도록 하는 것도 명분이 생기게 됩니다. 한의사의 침구독점을 타파하고, 침구사를 양성하여 양한방의 모든 의료현장에서 침구술을 쓸 수 있도록 하면 양항반 이원화로 인한 보건의료제도의 여러 가지 문제는 한꺼번에 해결할 수 있습니다.\\\\n양방 의료기기를 한의사들이 쓸 수 있도록 해야 하고 동시에 의사들도 침술을 쓸 수 있도록 해야 합니다. 이미 유럽이나 미국 등 여러 현대의료의 선진국에서도 침술을 현대의료현장에서 광범위 하게 활용하고 있습니다.\\\\n하지만 한국에서는 의사들이 침술을 직접 쓰려고 하는 사람은 많지 않을 수 있습니다. 그동안 우리나라는 남북분단처럼 현대의료와 전통의료 사이의 제도적 장벽으로 현대의료인들이 전통의학에 대한 이해가 부족하여 일부 의사들만이 선호하는 것으로 알고 있습니다. 따라서 양방 의료인들이 직접 침술을 배워서 활용하도록 하는 것은 쉽게 동의하지 않을 수 있습니다.\\\\n이 문제를 해결하는 방법은 침구사를 양성하여 양방에서도 고용해서 활용하도록 하는 것입니다.\\\\n한의사집단에서 또 반대를 하지 않겠는가 하는 문제가 있습니다. 하지만 한의사의 침구독점은 법률적으로도 문제가 있습니다.\\\\n이에 대해서는 사단법인 허임기념사업회 이름으로 국민인수위 광화문1번가에 제출한 [보건의료분야 정책제안]을 참고해 주시기 바랍니다.\\\\n한의사의 침구독점은 공정거래에 관한 법률위반입니다. 특정 이익집단만이 침구를 독점하도록 하는 것은 공정거래법상으로도 위배됩니다.\\\\n독점규제 및 공정거래에 관한 법률 (약칭: 공정거래법) 제3조의2(시장지배적지위의 남용금지)에는 ‘다른 사업자의 사업활동을 부당하게 방해하는 행위’와 ‘새로운 경쟁사업자의 참가를 부당하게 방해하는 행위’ ‘부당하게 경쟁사업자를 배제하기 위하여 거래하거나 소비자의 이익을 현저히 저해할 우려가 있는 행위’ 등을 하지 못하도록 규정하고 있습니다.\\\\n그런데 그동안 한의사집단은 침구사라는 직역이 제도권에서 자리 잡는 것 자체를 집요하게 방해해 왔습니다. 그리고 의사들의 침구시술에 대해서도 무면허의료라며 수시로 고발을 하여 왔습니다.\\\\n한의사의 침구독점을 위한 ‘위법적 행위’는 정책적 혹은 정치적으로 필요하다면 별도로 조사를 하여야 할 것입니다.\\\\n그리고 의사들의 침술사용에 대한 한의사들의 고발과 반대활동도 결국 침구독점을 위한 ‘명분 없는 행위’에 불과합니다. 의사들의 침술사용에 대한 국내외 실태에 대해서도 이미 조사 연구된 사항이 있을 것입니다.\\\\n이 제안은 한의사와 의사가 모두 상생하도록 하는 안이고, 국민의료의 관점에서 의료문제를 해결하는 지혜라고 생각합니다.\\\\n동시에 침구사를 양성하여 모든 보건의료 현장에 배치하면 그만큼 소비자에게 이득이 됩니다.\\\\n특히 보건의료 서비스 분야의 일자리가 대폭 확충됩니다. 관련 자료는 이미 여러 차례 정부용역보고가 있었습니다.\\\\n자세한 내용은 첨부한 자료를 참고해 주시거나, 추가 자료를 요청하시면 가능한대로 찾아 협조해 드리겠습니다.\\\\n필요하면 찾아뵙고 의논드릴 수 있기를 바랍니다.\\\\n감사합니다.안녕하세요..저는 보육교사로 13년 근무 후 가정어린이집 원장으로 7년을 운영하고 있는 원장입니다.\\\\n해마다 인상되는 최저임금으로 인한 어려움이 따르는데 반해, 보육료는 그에 상응하게 인상되지 못하고 있는 것이 현실입니다. 소규모의 가정어린이집은 보육료에 100프로 의존하며 원을 운영합니다. 국공립 어린이집을 확충한다는 이야기도 많지만, 그 조건에 해당되지 못하는 어린이집도 많습니다. 해마다 출산률은 내려가고, 최저인건비는 올라가고, 보육료는 표준보육료에 미치지 못하는 현실에서,,,우리나라의 꿈나무들이 부모님을 떠나 처음 시작하는 사회인 가정어린이집이 쾌적하고 따뜻한 공간으로 살아남기란 너무도 어려운 현실입니다..\\\\n누군가는 이렇게 이야기 합니다. 그럼 어린이집을 그만두라고 합니다...\\\\n과연 그만두는 것만이 최선일까요?\\\\n반별인건비지원이 이루어지는 것만이 영유아를 보육하는 가정어린이집이 함께 나갈 수 있는 길이라고 생각합니다.\\\\n반별인건비를 지원해주신다면, 어린이집을 운영하는 운영자로서 보다 안정된 원을 운영하며 아이들과 웃음이 넘치는 공간으로 만들어갈 자신있습니다..\\\\n꼭 반영해 주시기 바랍니다.\\\\n감사합니다.이번 최저임금 인상으로 어린이집 운영이 어려워짐에 따라 이렇거 글을 올립니다\\\\n근무하는 선생님들에게 더나은 근무환경과 처우를 해주어 의욕을 높이는것은 좋으나 보육료가 오르지 않은 상황에서 최저임금을 올리게되면 당장 원 운영이 심각하게 어려워 집니다 . 영아전문가인 보육교사가 대한민국 미래의 초석을 세운다는 신념을 갖고 우리 아이들과 행복하게 보내기에 전념을 해야하는 시기에 이렇게 운영의 어려움에 대한 걱정으로 중요한 시간을 놓치고있습니다\\\\n보육환경과 보육교사 처우를 위해 보육료 현실화 또는 반별이 인건비 지원을 부탁드립니다. 감사합니다안녕하세요 대통령님! 이글을 제가 쓴다고 해서 대통령님께서 볼수있을지 없을지는 모르지만 그래도 혹시나 하는마음에 희망을 갖고 한번 써봅니다,,다름이 아니라 저는 아버지가 교통사고때문에 다리를 다쳐서 장애 판정을 받앗고 제 친오빠가 태어날때부터 앓던 병이 있어 장애판정을 받았습니다 어디가서 말하기는 조금 부끄럽지만 저희집은 많이 가난합니다 그래도 아버지도 아픈신 몸으로 가정을 위해 일하시고 어머니도 일하시고 가난해도 열심히 살아왔습니다 열심히 버신돈으로 창녕 남지라는 촌동네에 낡은 아파트를 사서 계약하고 이사온지 5년?이 되었습니다 그런데 불과 몇일 전에 집으로 법원에서 소송장이 날라왔습니다 내용은 저희아파트를 지은 건설회사가 있는데 그밑에 부하직원들 3명이서 문서위조,사무실위조하여 아파트 2동 중에서 13채의 집을 팔아 그세명에게서 서**라는 분이 사고 서**라는 분이 김**라는 분께 집을 팔고 아무것도 모르고 김**라는분에게 집을 산 저희집을 포함한 13분이 집을 계약했습니다그래서 건설회사가 부하직원 3명에게 소송을 걸엇고 대법원 판결이 났는데 그 계약은 모두 무효화 하라, 다시 건설회사의 소유권으로 돌려놔라 라는 판결이났습니다 알고보니 김**와 서**와 부하직원 3명이 같이 사기를 친것이였습니다그래서 어머니와 아버지는 세상을 다잃은 심정으로 법무사를 찾아갔지만 법무사에서는 해결이 안된다고 변호사 사무실을 찾아가라하셔서 변호사 사무실을 찾아갔지만 사기당한 아파트 사람들끼리 뭉쳐서 김**와 서**에게 소송을 걸라고했지만  김**는 이미 재산을 다 빼돌린 상태였고 소송을 건다해도 이길확률은 낮다고 말하셨습니다 그일이 일어난지 아직 1주일도 되지 않았습니다 가진돈 한푼없고, 가진건 집밖에 없었는데 그집마저 억울하게 빼앗기게 생겨 어머니 아버지는 큰충격으로 병원을 다니십니다 진짜 오빠도 몸이 불편하고 아버지도 불편하고 어머니도 신장 결석으로 인해 10년전에 콩팥한쪽을 떼어낸 상태입니다 진짜 제 입장으로써는 할수있는게 없어 너무 답답하고 사기친사람들은벌금300만원으로 끝나는게 너무 이해가 안되고 그럼 하루아침에 13집의 가정이 길바닥으로 내앉게 생겼습니다 진짜 이런 나라에서 살아가기 너무 힘들고 살아갈 의욕도 용기도 자신 없습니다제발 이글을 읽어보시고 한번만 도와주세요 한나라의 국민을 살린다 생각해주시고 한번만 도와주세요 정말 부탁드립니다부탁드립니다 진짜 제나이 이제 21살입니다 어린나이에 모든걸 잃고 ,의욕,꿈도 없이 살아가고 싶지 않습니다 한번만 도와주십시오\\\\n(본문의 내용중 타인의 명의 등 개인정보가 무분별하게 노출되어 해당 내용은 홈페이지 관리자에 의해 \\'숨김\\' 처리 되었습니다.)존경하는 대통령님\\\\n대통령님의 높은 지지율에 한몫하고 있는 평범한 20대 임용고사 준비생입니다.\\\\n앞선 대통령들과 다르게 국민과 소통하는 모습, 적폐를 척결하려는 굳은 의지가 국민들로 하여금 새로운 매일 그리고 더 나은 내일을 기대하게 만들어주시고 있어 항상 감사하고 기쁩니다. 대통령님의 멋진 행보와 정이 넘치는 언행을 보노라면 지금 이렇게 따뜻하려고 지난 겨울 광화문에서 촛불을 들었던 몸이 그리도 시렸나 하는 생각을 하게 됩니다. 감사합니다.\\\\n다만, 대통령님의 강한 지지자로서 한 가지 의문스러운 점이 있어 이렇게 글을 남기게 되었습니다.\\\\n그것은 바로, 영양교사 로비에 관한 것인데요.\\\\n소문에 의하면, 영양사협회에서 예전 열린우리당 시절부터 지속적으로 로비를 해온 결과? 영양사가 영양교사가 되었고, 급기야 사교육을 획기적으로 절감시키겠다는 정부의 굳은 의지가 돋보이는 지금 이 상황에서 주요과목 교사의 정원은 급감할 때 영양교사의 정원은 급격히 증가하였습니다.\\\\n저는 이 사실을 믿지 않았습니다.\\\\n이 소문이 사실이라면 대통령님께서 대선 후보시절부터 강력히 주장하시던 적폐 청산, 기회는 평등하고 과정은 공정하고 결과는 정의로울 것이라는 슬로건과 완벽하게 상충하기 때문입니다.\\\\n하지만,\\\\n인터넷 검색을 잠시 해 본 결과, 대통령님께서 대선후보셨던 4월, 영양사학회에 참석하여 방명록에 남기신 짤막한 글을 발견하게 되었습니다. 그 글을 읽고 깜짝 놀랐습니다.\\\\n방명록에는 임용고사를 준비하는 수험생이라면 꿈과도 같은, 정원 확충을 책임지고 해내겠다는 글이 적혀 있었기 때문입니다. 하지만 그 글을 읽은 저는 기뻐할 수 없었습니다. 영양교사를 준비하는 수험생이 아니었기 때문입니다.\\\\n같은 임용고사를 준비하는 수험생으로서 교사의 정원이 확대된다는 것은 당연히 기뻐해야할 일입니다.\\\\n하지만, 저는 원론적인 문제에 빠지게됐습니다.\\\\n\\'왜 영양교사가 교사지?\\'\\\\n담임업무를 하지도 않고, 연 34회(1년 간 한 반에 1회 수업하는 꼴)밖에 수업시수도 정해져 있지 않고, 학교의 공무도 처리하지 않는데? 단지 학생의 식사가 중요하다는 것 하나 때문인가?\\\\n그렇다면 학교를 안전하게 지키는 일도 중요하니 학교 안전 지킴이도 안전교사가 되어야 하고, 학교 시설 또한 중요하니 학교시설 관리자도 시설교사가 되어야 하며, 무엇보다 밥을 직접 조리해주시는 조리원분들도 조리교사가 되어야함이 마땅한 일 아닌가? 하는 생각이 들었습니다.\\\\n저의 짧고 모자란 생각으로는 도무지 해결할 방법이 없어 이렇게 여기에 글을 남겼습니다.\\\\n왜 영양사가 교사가 되어야 하며, 학생 수가 줄어드니 교사도 줄어들어야 하는데 무슨 정원 확대냐고 내 세금 아깝다고 수많은 눈을 흘기는 이 시점에서 영양교사가 왜 늘어야 하는 건지,\\\\n그리고 인터넷, 백과사전, 그 어디에서도 명쾌하게 해결할 수 없었던 영양교사 로비문제에 대해 떠돌고 있는 소문에 대해 진실을 밝혀주십시오.\\\\n다시 한 번 말씀드리지만, 영양교사 로비야말로 적폐라고 생각합니다.\\\\n지난날, 기회는 평등하고 과정은 공정하고 결과는 정의로울 수 있는 길을 만들어달라는 의미에서 국민신문고에 기간제교사의 정규직 및 무기계약직 반대를 간곡히 청원했을 때는 반응이 없던 국민신문고가 취임 100일기념 우표를 더 생산해달라는 청원에는 즉시 반응을 보인 것에 상당히 실망했습니다. 대통령께서 강조하시는 소통의 모습을 여기서나마 기대해봅니다.\\\\n간절히 청원합니다.\\\\n혹, 읽는 중에 기분 나쁘셨던 부분이 있다면 사과드립니다. 그만큼 간절하고 속상했다는 의미로 받아주시면 감사하겠습니다.\\\\n감정에 사로잡혀 두서 없이 적어내린 긴 글을 읽어주신 모든 분께 감사드리고, 저의 보잘것 없는 노력이 헛수고로 돌아가지 않기를 진심으로 기원하며 이만 줄이겠습니다.\\\\n지금처럼 대통령님을 계속 존경하고 싶습니다.안녕하세요?\\\\n영유아들을 보육하는 보육교사입니다.\\\\n영유아들을 편안하고 안정되게 보육할 수 있도록\\\\n보육를 인상해주시기를  바랍니다.\\\\n우리나라의 미래를 밝혀줄 영유아들이\\\\n건강해야 우리나라의 미래가 밝습니다.\\\\n보육교사들이 마음놓고 영유아들을\\\\n돌볼 수 있도록 보육료를 인상해 주시기를\\\\n간곡히 부탁드립니다.\\\\n반드시 보육료 인상해주십시요~~!!!용기를 내어 작은 마음의 소리를 몇자 적어봅니다.\\\\n9년 동안 담임을 하며 기간제 교사로 일을 하고 있습니다. 무엇을 써야할지 생각하니 조금은 가슴이 먹먹하네요. 그래도 감사한 것은 9년 동안 게으름 피우지 않고 성실하게 기간제 교사로 살고 있다는 것. 내게 주어진 수업과 업무에 최선을 다하고 있다는 것. 작은 마음이지만 이렇게 쓸 수 있는 시대가 되었다는 것. 누군가들이 말하는 그 무엇이 무엇인지 안다면 ...현장에 있다보면 알게 되는 일인데 하는 아쉬움이 있다는 것. 오늘도 열심히 일하는 모든 분들을 응원합니다.대통령님  정말 오래된 이야기인데요\\\\n이전에 MBC에서 방영한 전원일기드라마중에 유월의 편지편이 있어요\\\\n단순히 드라마보다 저를 느끼게하는무언가 있었어요 꼭 보셨음 좋겠습니다\\\\n그리고 정말감사드립니다 저희 대통령님이셔서 좋구요 늘 곁에 있다는 느낌이 있어 좋아요\\\\n건강하세요안녕하세요. 저는 자랑스런 대한민국 국민의 한사람으로서 이렇게 글을 올립니다.\\\\n특히, 지난밤에 대통령님과 다른분, 그리고 저와 셋이 군대용 차트를 놓고 검토하시더니 3군데를 수정하시는 꿈을 꾸었습니다. 난생 처음인지라 곰곰히 생각하다 평소의 저의 생각을 제안하고자 합니다.\\\\n지금보니 국정과제에 해당되기도 하더군요. 그럼 다음 대화로 시작하겠습니다.\\\\n아들: 아빠 오늘 놀이동산가면 안돼?\\\\n아빠: 아빠는 오늘 일하러 가야돼\\\\n아들: 오늘 토요일인데 내 친구는 아빠하고 여행 간다는데.\\\\n아빠: 아빠는 돈을 벌어서 맛있는거 사가지고 오께\\\\n아들: (아들은 아빠를 돈버는 기계로 인식하기 시작한다), 엄마! 아빠 왜 아직 안오셔?\\\\n그 이후 아빠는 돌아오지 않았다....\\\\n이건 지극히 사실적이고 현실적인 내용입니다.\\\\n건설현장은 마치 전쟁터와 같습니다. 주변이 온갖 위험한 장비에 흉기 같은 각종 자재가 생명을 도사리고 있지요.\\\\n결론부터 말씀드리면 공휴일을 보장하자는 청원입니다. 충분한 휴식과 충전만이 양질의 품질확보와 안전한 환경을 만들 수 있는 일터가 되기 때문입니다.\\\\n금년 대형건설사고의 예를 들면, 평택교량붕괴는 토, 일요일 공사 후 다음날인 월요일 발생되었죠,  거제 조선소 대형참사(근로자의 날), 창원 STX조선 참사(일요일). 포항 비계붕괴참사(토요일) 등이 이를 증명하고 있습니다. 또한 평일일지라도 휴일의 공사가 원인이 될 수 있는 것을 감안하면 쉽게 간과해서는 안되는 중대한 사안이라고 생각합니다.\\\\n그 이유는 다음과 같이 추정됩니다. 첫째, 평일보다 외부간섭이 적으므로 공사를 급속히 진행할 수 있기 때문이죠. 둘째, 일하는 근로자는 평일보다는 느슨해지고 안이 해질 수 있지요. 셋째는 소통의 부재 즉, 기술적, 관리적, 법리적 검토를 요청할 수 있는 외부기관이나 업체는 휴일이므로 부실로 이어질 수가 있는 것이지요. 또한 휴일 공사로 인한 소음, 진동 등 주변 환경피해와 분쟁을 예방할 수 있습니다.\\\\n이와같이 부실시공의 직접원인이 휴일에 공사라고 명확한 근거는 제시할 수 없지만 충분한 공사기간의 확보와 근로자의 안정을 최우선으로 확보해 주는 것이 진정으로 근본적인 부실시공과 안전사고의 예방이 아닌가하는 진언으로 받아주셨으면 합니다.\\\\n물론 이것은 기업들의 협조가 필요한 사항이겠지만 일찍이 부터 다수의 미주, 유럽과 동남아권에서는 이미 정착이 되어 있다고 알고 있기에 품격있는 건설현장과 근로자의 목숨을 위해서 이번 정부차원에서 논의되어야 한다고 판단하기에 오늘 난생처음 대통령님의 꿈을 빌어 간절한 염원을 담아 청원드립니다. 감사합니다.안녕히세요 저는 외국에서 유학온지 2년이 된 고3학생입니다 외국인 노동자인 부모님을 따라 무작정 따라 왔다가 한국이 좋아져서 독학으로 검정고시를 따고 대학에 가려고 준비중입니다 가난에서 벗어나는 유일한 길이 공부라고 생각하여 간절하게 공부가 하고 싶었지만 정작 눈앞에 놓인 현실에 부딪혀 잠시 좌절하였습니다 하지만 정말 간절하게 대학이 가고 싶었기에 지금 저는 아르바이트를 하면서 공부중입니다 특기자로 대학에 가려면 월백 가까이 되는 사교육비와 대학 원서접수료까지 감당해야 합니다 그래서 고3임에도 불구하고 아르바이트는 어쩔수 없는 선택입니다\\\\n하루 6시간을 일하고 1만5000원을 받습니다 단지 독서실 아르바이트는 가벼운 노동이라는 이유에서요..아침 6시에 일어나서 출근하고 학원이 끝나 밤 11시에 집에 들어옵니다 5시간밖에 못자고 공부를 해도 좋습니다 부모님을 원망하고 싶지도 않습니다 다만 간절하게 공부가 하고 싶고,다른 평범한 고3학생들처럼 오로지 공부에 집중하고 싶지만 저의 형편으론 불가능하기에 서러워서 청원을 드립니다\\\\n사교육비,원서접수료,대학 입학금,대학 등록금...대학이라는 문턱에 들어서기전부터 이렇게 많은 걸림돌들이 저의 발목을 잡습니다 지금 대한민국에는 돈때문에 대학을 포기하는 학생들이 수두룩할것입니다 저도 대학을 포기할가 생각도 해봤지만 그러기엔 꿈이 너무 간절하고 대학이 너무나도 간절합니다 그래서 알바하는 고3이 되었습니다 대통령님이 이 글을 보실지 모르겠지만 그 아무도 못볼수도 있지만 그래도 아렇게 청원을 할수 있다는것애 감사드립니다 청소년들은 대한민국의 미래입니다 청소년들이 겪는 사회문제를 해결해주세요 부탁드립니다 감사합니다기간제교사는 애초에 정교사가 휴직 등으로 자리를 비운 상태에서 빈 자리를 대체하기 위한 인력입니다.\\\\n따라서 그 자리가 일정 기간만 유지되는것은 매우 분명하고 본인들도 그점 알고 기간제교사 일을 시작한것으로 알고있습니다.\\\\n그들은 이를 들어 자신들의 고용불안정으로 인해 학생들에게 피해가 고스란히 전해진다고 얘기합니다.\\\\n일부 기간제교사들은 현재 임용 준비에는 전혀 뜻이없고 기간제교사생활만 지속해오고있는 경우가 많습니다.\\\\n이 말은 즉 임용시험은 어렵고 준비하기 힘드니 하지않고있다가  노력을 하지않고 정교사가 될수있는 기회를 잡았으니 어디한번 목소리를 내볼까 라는 생각으로밖에 해석이 되지 않습니다.\\\\n또한 무한경쟁체제 조장이라는 말을 들어 학생들에게 공존이아닌 경쟁만이 살길이라는 가르침을 줄 것이냐 라는 근거를 들어 본인들의 정규직화를 주장합니다.\\\\n기간제교사는 인맥으로 빽으로 들어가는 경우가 부지기수입니다.\\\\n그렇다면 본인들은 학생들에게 세상은 인맥과 빽만 있으면 뭐든 원하는것을 이룰수있다고 가르칠것인지 의구심이 듭니다.\\\\n지금 현재로서는 가장 공정하고 최선인 교사임용제도는 임용시험입니다.\\\\n기간제교사들이 약자인척 피해자인척 하면서 감정에 호소하며 차별철폐를 외치고있지만 이는 결국 다른 차별을 낳을 뿐입니다.국민의 안녕과 행복을 위해 매일 수고하심에 깊은 감사를 드립니다.\\\\n저는 두아이의 엄마이자 가정어린이집을 운영하고 4년 동안 보육원 봉사를 하고 있는 40대 대한민국 여성입니다.\\\\n저는 현재 사적.공적으로 출산과 육아 및 교육에 대해 다양한 경험과 현실을 마주하고 있읍니다.\\\\n저출산과 고령화로 인한 심각한 양극화로 자녀들의 미래와 저의 노후문제 국가적 위기에 대한 심각성을 느낌니다. 저는 꼭 부탁하고 싶습니다.\\\\n자녀는 돈이 없으면 잘 키울수 없다는 편견!고등교육을 받고 전문직이 아니면 삶이 불행하다는 편견!맞벌이 부부가 직접 육아를 못하고 보육시설에 맞기면 아이가 학대 받거나 불쌍하다는 편견!\\\\n지금 대한민국 정부가 국민들에게 뿌리 깊게 심어준 자녀출산에 대한 편견입니다.\\\\n무엇이든 양면성은 있습니다.\\\\n다 좋을수도 다 나쁠수도 없지요!!\\\\n사람은 희망이 있어야 삶에  대한 도전과 노력을 합니다. 무상보육 이후 막대한 예산을 투입하고 양육수당.아동수당 등 어마어마한 돈을 투자해도 저출산 문제를 해결 못하는 것은 \"희망\" 이 없어서가 아니까요?  긍정의 힘은 희망을 만들고 고난도 이겨내는 에너지를 줍니다.\\\\n출산에 대한 부정적인 뉴스와 메스컴들이 지금의 저출산을 부추기고 있습니다.\\\\n정부에서 지원하는 20만원.10만원 때문에 아이를 낳는 무지한 부모는 없습니다\\\\n아이를 낳아 육아로 인한 육체적 금전적 힘듬에 대해 부각시키지 말고 자녀를 키움으로 더큰 행복을 느낄수 있고 그로인한 인간으로써 삶의 가치가 올라감을 국민들에게 인식시켜주시길 간곡히 부탁드립니다.제목:영아보육 담임교사 고용만큼은 안정시켜주셔야 합니다.\\\\n현재 보육은 전계층 무상보육입니다.\\\\n그런데 그 안을 들여다보면 설립의 주체가 누구냐에 따라 국가지원이 차등입니다.  즉, 민간이 운영하는 곳에는 최소한의 비용만 지원하다보니 적정인건비를 지급할 수 없습니다.\\\\n저희들처럼 영아(출생에서 만 2세 미만아)를 보육하는 가정어린이집은 영아의 교사의존도가 높습니다.\\\\n그런데 아이 머릿수에 따른 보육료지원방식으로는 매순간 교사가 고용을 위협받는 구조입니다.\\\\n저 출산의 위기 앞에 국가가 양육의 책임을 대신하겠다고 나선이상 현재의 불합리한 점을 개선하고 보완하는 것은 시급하다고 할 것입니다.\\\\n강조해서 말씀드리자면, 보육에 대한 국가책임은 대한민국 모든 아이가 어떤 어린이집을 이용하더라도 동일한 보육서비스를 받을 수 있도록 해주셔야합니다.\\\\n특히 어린 영아보육에서는 그 소중한 시기를 담당하는 교사에 대한 유형간 차별을 해소하지 않고서는 결코 안심보육을 기대할 수 없다는 것이  일치된 주장입니다.\\\\n최 우선 사항이 영아 담임 교사 인건비지원으로 고용안정과  저 출산위기를 함께 극복할수있는 문재인 정부가 되기를 기대합니다.\\\\n그리고 힘찬 응원을 보냅니다.군인들도 중요하지만 국가 보훈대상자의 복지도 나아져야한다 생각합니다. 최소한 교통과 취업, 교육적인 면에서라도 처우가 좋아져야 한다 생각듭니다. 복지혜택이 너무나 허접한게 사실이고 보훈급여가 올라가면 기본적으로 좋은점도 있겠지만 보훈급여보다도 기타 복지가 가장 중요하다 생각합니다. 또는 보훈 신분증을 보여주면 식사가 할인되거나 핸드폰 요긍이 할인되거나 자동차세가 할인되거나 등등 각 분야에서 적용시키는 것만으로도 크게 변화가 생길것이라 봅니다. 또한 대통령님의 이미지에도 크게 도움이 되실거보 체택만 된다면 더 많은 지지층이 생길것이라봅니다. 국민들도 알듯이 보훈 대상자의 혜택이 퇴보하고 있고 보훈급여도 물가 상승률에 비해 작다고 들었습닏ㄱㆍ.당연히 부당한 해고는 안되지만\\\\n노동이 유연하게 되어 취업이 잘되는 사회가 되어야한다고 생각합니다. 호봉제가 아닌 일하는 만큼 월급을 주는 성과제를 도입하여 일을 하지않는 사람 특히 농땡이 피우는 사람은 적게 주어야합니다. 모두 공평한사회는 북한입니다. 하는만큼 노력하여 받아갈수 있게 해야합니다. 기업을 죽이면 안됩니다. 기업을 죽이기보다 기업이 사유화되는 것을 막아야합니다. 가족이 오너가 되고 대대로 먹고사는 세상은 한명의 바보같은 오너가 나올시 기업은 한순간에 망하게 되어있습니다.지역주택조합원 자격요건을  이미 추진되고있는조합은  유예해 주세요\\\\n8,2부동산대책으로  자격요건이 바뀌어\\\\n많은 조합원들이 피해를 보게되었어요\\\\n최초주택구입에 부픈마음으로 조합에\\\\n가입했으나 이번대책으로  자격박탈될거같아요\\\\n어떻해야될지  난감합니다  빚내어 계약금중도금까지\\\\n지불했는데  이제와서 탈퇴할수밖에  없다는\\\\n대행사공문에 억장이 무너집니다\\\\n갑자기 정부가 발표한 대책으로\\\\n힘없는 서민들  죽습니다가정어린이집에  다니고 있는  보육교사  입니다  최저 임금이 인상된다는  것이  기뻤으나 기쁨도잠시  뿐인것  같았요  입사한지  3개월이  되어가는데  나이도  많아  어느곳에  받아줄지  걱정입니다  원장님도  너무  좋으시고  오래  근무을  하고싶어요  보육료 현실화의  반별인건비   지원을  요청합니다'"
      ]
     },
     "execution_count": 129,
     "metadata": {},
     "output_type": "execute_result"
    }
   ],
   "source": [
    "pet_by_mon[0]"
   ]
  },
  {
   "cell_type": "code",
   "execution_count": null,
   "id": "158f312e",
   "metadata": {},
   "outputs": [],
   "source": []
  },
  {
   "cell_type": "code",
   "execution_count": 131,
   "id": "bab80330",
   "metadata": {
    "collapsed": true
   },
   "outputs": [
    {
     "ename": "ModuleNotFoundError",
     "evalue": "No module named '_jpype'",
     "output_type": "error",
     "traceback": [
      "\u001b[1;31m---------------------------------------------------------------------------\u001b[0m",
      "\u001b[1;31mModuleNotFoundError\u001b[0m                       Traceback (most recent call last)",
      "\u001b[1;32m~\\AppData\\Local\\Temp/ipykernel_11692/308101598.py\u001b[0m in \u001b[0;36m<module>\u001b[1;34m\u001b[0m\n\u001b[1;32m----> 1\u001b[1;33m \u001b[1;32mfrom\u001b[0m \u001b[0mkonlpy\u001b[0m\u001b[1;33m.\u001b[0m\u001b[0mtag\u001b[0m \u001b[1;32mimport\u001b[0m \u001b[0mKkma\u001b[0m\u001b[1;33m,\u001b[0m \u001b[0mKomoran\u001b[0m\u001b[1;33m,\u001b[0m \u001b[0mHannanum\u001b[0m\u001b[1;33m,\u001b[0m \u001b[0mOkt\u001b[0m\u001b[1;33m\u001b[0m\u001b[1;33m\u001b[0m\u001b[0m\n\u001b[0m\u001b[0;32m      2\u001b[0m \u001b[0mkom\u001b[0m \u001b[1;33m=\u001b[0m \u001b[0mKomoran\u001b[0m\u001b[1;33m(\u001b[0m\u001b[1;33m)\u001b[0m\u001b[1;33m\u001b[0m\u001b[1;33m\u001b[0m\u001b[0m\n",
      "\u001b[1;32m~\\anaconda3\\lib\\site-packages\\konlpy\\__init__.py\u001b[0m in \u001b[0;36m<module>\u001b[1;34m\u001b[0m\n\u001b[0;32m     10\u001b[0m \u001b[1;33m\u001b[0m\u001b[0m\n\u001b[0;32m     11\u001b[0m \u001b[1;32mfrom\u001b[0m \u001b[0mkonlpy\u001b[0m\u001b[1;33m.\u001b[0m\u001b[0mjvm\u001b[0m \u001b[1;32mimport\u001b[0m \u001b[0minit_jvm\u001b[0m\u001b[1;33m\u001b[0m\u001b[1;33m\u001b[0m\u001b[0m\n\u001b[1;32m---> 12\u001b[1;33m from konlpy import (\n\u001b[0m\u001b[0;32m     13\u001b[0m     \u001b[0mcorpus\u001b[0m\u001b[1;33m,\u001b[0m\u001b[1;33m\u001b[0m\u001b[1;33m\u001b[0m\u001b[0m\n\u001b[0;32m     14\u001b[0m     \u001b[0mdata\u001b[0m\u001b[1;33m,\u001b[0m\u001b[1;33m\u001b[0m\u001b[1;33m\u001b[0m\u001b[0m\n",
      "\u001b[1;32m~\\anaconda3\\lib\\site-packages\\konlpy\\tag\\__init__.py\u001b[0m in \u001b[0;36m<module>\u001b[1;34m\u001b[0m\n\u001b[0;32m      4\u001b[0m \u001b[1;32mimport\u001b[0m \u001b[0mwarnings\u001b[0m\u001b[1;33m\u001b[0m\u001b[1;33m\u001b[0m\u001b[0m\n\u001b[0;32m      5\u001b[0m \u001b[1;33m\u001b[0m\u001b[0m\n\u001b[1;32m----> 6\u001b[1;33m \u001b[1;32mfrom\u001b[0m \u001b[0mkonlpy\u001b[0m\u001b[1;33m.\u001b[0m\u001b[0mtag\u001b[0m\u001b[1;33m.\u001b[0m\u001b[0m_hannanum\u001b[0m \u001b[1;32mimport\u001b[0m \u001b[0mHannanum\u001b[0m\u001b[1;33m\u001b[0m\u001b[1;33m\u001b[0m\u001b[0m\n\u001b[0m\u001b[0;32m      7\u001b[0m \u001b[1;32mfrom\u001b[0m \u001b[0mkonlpy\u001b[0m\u001b[1;33m.\u001b[0m\u001b[0mtag\u001b[0m\u001b[1;33m.\u001b[0m\u001b[0m_kkma\u001b[0m \u001b[1;32mimport\u001b[0m \u001b[0mKkma\u001b[0m\u001b[1;33m\u001b[0m\u001b[1;33m\u001b[0m\u001b[0m\n\u001b[0;32m      8\u001b[0m \u001b[1;32mfrom\u001b[0m \u001b[0mkonlpy\u001b[0m\u001b[1;33m.\u001b[0m\u001b[0mtag\u001b[0m\u001b[1;33m.\u001b[0m\u001b[0m_komoran\u001b[0m \u001b[1;32mimport\u001b[0m \u001b[0mKomoran\u001b[0m\u001b[1;33m\u001b[0m\u001b[1;33m\u001b[0m\u001b[0m\n",
      "\u001b[1;32m~\\anaconda3\\lib\\site-packages\\konlpy\\tag\\_hannanum.py\u001b[0m in \u001b[0;36m<module>\u001b[1;34m\u001b[0m\n\u001b[0;32m      5\u001b[0m \u001b[1;32mimport\u001b[0m \u001b[0mre\u001b[0m\u001b[1;33m\u001b[0m\u001b[1;33m\u001b[0m\u001b[0m\n\u001b[0;32m      6\u001b[0m \u001b[1;33m\u001b[0m\u001b[0m\n\u001b[1;32m----> 7\u001b[1;33m \u001b[1;32mimport\u001b[0m \u001b[0mjpype\u001b[0m\u001b[1;33m\u001b[0m\u001b[1;33m\u001b[0m\u001b[0m\n\u001b[0m\u001b[0;32m      8\u001b[0m \u001b[1;33m\u001b[0m\u001b[0m\n\u001b[0;32m      9\u001b[0m \u001b[1;32mfrom\u001b[0m \u001b[0mkonlpy\u001b[0m \u001b[1;32mimport\u001b[0m \u001b[0mjvm\u001b[0m\u001b[1;33m,\u001b[0m \u001b[0mutils\u001b[0m\u001b[1;33m\u001b[0m\u001b[1;33m\u001b[0m\u001b[0m\n",
      "\u001b[1;32m~\\anaconda3\\lib\\site-packages\\jpype\\__init__.py\u001b[0m in \u001b[0;36m<module>\u001b[1;34m\u001b[0m\n\u001b[0;32m     16\u001b[0m \u001b[1;31m#\u001b[0m\u001b[1;33m\u001b[0m\u001b[1;33m\u001b[0m\u001b[1;33m\u001b[0m\u001b[0m\n\u001b[0;32m     17\u001b[0m \u001b[1;31m# *****************************************************************************\u001b[0m\u001b[1;33m\u001b[0m\u001b[1;33m\u001b[0m\u001b[1;33m\u001b[0m\u001b[0m\n\u001b[1;32m---> 18\u001b[1;33m \u001b[1;32mimport\u001b[0m \u001b[0m_jpype\u001b[0m\u001b[1;33m\u001b[0m\u001b[1;33m\u001b[0m\u001b[0m\n\u001b[0m\u001b[0;32m     19\u001b[0m \u001b[1;32mfrom\u001b[0m \u001b[1;33m.\u001b[0m\u001b[0m_jinit\u001b[0m \u001b[1;32mimport\u001b[0m \u001b[1;33m*\u001b[0m\u001b[1;33m\u001b[0m\u001b[1;33m\u001b[0m\u001b[0m\n\u001b[0;32m     20\u001b[0m \u001b[1;32mfrom\u001b[0m \u001b[1;33m.\u001b[0m\u001b[0m_jpackage\u001b[0m \u001b[1;32mimport\u001b[0m \u001b[1;33m*\u001b[0m\u001b[1;33m\u001b[0m\u001b[1;33m\u001b[0m\u001b[0m\n",
      "\u001b[1;31mModuleNotFoundError\u001b[0m: No module named '_jpype'"
     ]
    }
   ],
   "source": [
    "from konlpy.tag import Kkma, Komoran, Hannanum, Okt\n",
    "kom = Komoran()"
   ]
  },
  {
   "cell_type": "code",
   "execution_count": null,
   "id": "135fe39b",
   "metadata": {},
   "outputs": [],
   "source": []
  },
  {
   "cell_type": "code",
   "execution_count": null,
   "id": "cac6a1c2",
   "metadata": {},
   "outputs": [],
   "source": []
  },
  {
   "cell_type": "code",
   "execution_count": null,
   "id": "56c3ba77",
   "metadata": {},
   "outputs": [],
   "source": []
  },
  {
   "cell_type": "code",
   "execution_count": null,
   "id": "5a6b650c",
   "metadata": {},
   "outputs": [],
   "source": []
  },
  {
   "cell_type": "code",
   "execution_count": null,
   "id": "d31b4a2f",
   "metadata": {},
   "outputs": [],
   "source": []
  },
  {
   "cell_type": "code",
   "execution_count": null,
   "id": "dd178a2a",
   "metadata": {},
   "outputs": [],
   "source": []
  }
 ],
 "metadata": {
  "kernelspec": {
   "display_name": "Python 3 (ipykernel)",
   "language": "python",
   "name": "python3"
  },
  "language_info": {
   "codemirror_mode": {
    "name": "ipython",
    "version": 3
   },
   "file_extension": ".py",
   "mimetype": "text/x-python",
   "name": "python",
   "nbconvert_exporter": "python",
   "pygments_lexer": "ipython3",
   "version": "3.7.11"
  }
 },
 "nbformat": 4,
 "nbformat_minor": 5
}
