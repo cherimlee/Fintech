{
 "cells": [
  {
   "cell_type": "code",
   "execution_count": null,
   "id": "e090a839",
   "metadata": {},
   "outputs": [],
   "source": [
    "def is_lucky(num):\n",
    "    num = str(num).replace('5','')\n",
    "    num = str(num).replace('8','')\n",
    "    return True if len(num) == 0 else False\n",
    "\n",
    "def get_lucky_num(target_idx):\n",
    "    num = 0\n",
    "    idx = 0\n",
    "    while True:\n",
    "        num+=1\n",
    "        if is_lucky(num):\n",
    "            lucky_num = num\n",
    "            idx += 1\n",
    "        if idx == target_idx:\n",
    "            print(f\"{target_idx}th lucky number is {lucky_num} with {len(str(lucky_num))} digits\")\n",
    "            break\n",
    "\n",
    "get_lucky_num(100)"
   ]
  },
  {
   "cell_type": "code",
   "execution_count": null,
   "id": "60d4eafb",
   "metadata": {},
   "outputs": [],
   "source": [
    "n = 0\n",
    "i = 1\n",
    "while(n < 3456712):\n",
    "  n += 2 ** i\n",
    "  i += 1\n",
    "print(i - 1)"
   ]
  },
  {
   "cell_type": "code",
   "execution_count": null,
   "id": "57d01801",
   "metadata": {},
   "outputs": [],
   "source": [
    "def is_prime(num):\n",
    "    if num == 1:\n",
    "        return False\n",
    "    for i in range(2,num):\n",
    "        if num % i == 0:\n",
    "            return False\n",
    "    return True\n",
    "\n",
    "def get_prime_sum(upper_bound):\n",
    "    ans = 0\n",
    "    for item in range(2,upper_bound+1):\n",
    "        if is_prime(item):\n",
    "            ans += item\n",
    "\n",
    "    print(ans)\n",
    "\n",
    "get_prime_sum(99999)"
   ]
  },
  {
   "cell_type": "code",
   "execution_count": null,
   "id": "ef0b826f",
   "metadata": {},
   "outputs": [],
   "source": [
    "import math\n",
    "\n",
    "n = 99999 # 2부터 n까지의 모든 수에 대하여 소수 판별\n",
    "array = [True for i in range(n + 1)] # 처음엔 모든 수가 소수(True)인 것으로 초기화\n",
    "\n",
    "# 에라토스테네스의 체 알고리즘 \n",
    "for i in range(2, int(math.sqrt(n)) + 1): # 2부터 n의 제곱근까지의 모든 수를 확인하며\n",
    "    if array[i] == True: # i가 소수인 경우 (남은 수인 경우)\n",
    "        # i를 제외한 i의 모든 배수를 지우기\n",
    "        j = 2 \n",
    "        while i * j <= n:\n",
    "            array[i * j] = False\n",
    "            j += 1\n",
    "\n",
    "sum = 0\n",
    "# 모든 소수 합\n",
    "for i in range(2, n + 1):\n",
    "    if array[i]:\n",
    "        sum += i\n",
    "print(sum)"
   ]
  },
  {
   "cell_type": "code",
   "execution_count": null,
   "id": "2ae0901c",
   "metadata": {},
   "outputs": [],
   "source": []
  }
 ],
 "metadata": {
  "kernelspec": {
   "display_name": "Python 3 (ipykernel)",
   "language": "python",
   "name": "python3"
  },
  "language_info": {
   "codemirror_mode": {
    "name": "ipython",
    "version": 3
   },
   "file_extension": ".py",
   "mimetype": "text/x-python",
   "name": "python",
   "nbconvert_exporter": "python",
   "pygments_lexer": "ipython3",
   "version": "3.9.7"
  }
 },
 "nbformat": 4,
 "nbformat_minor": 5
}
