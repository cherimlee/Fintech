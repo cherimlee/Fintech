{
 "cells": [
  {
   "cell_type": "code",
   "execution_count": null,
   "id": "40c5b5e3",
   "metadata": {},
   "outputs": [],
   "source": [
    "import easyocr\n",
    "reader = easyocr.Reader(['ko', 'en'])"
   ]
  },
  {
   "cell_type": "code",
   "execution_count": null,
   "id": "ea6b6037",
   "metadata": {},
   "outputs": [],
   "source": [
    "from easyocr.easyocr import *\n",
    "\n",
    "def get_files(path):\n",
    "    file_list = []\n",
    "    files = [f for f in os.listdir(path) if not f.startswith('.')] \n",
    "    files.sort()\n",
    "    abspath = os.path.abspath(path)\n",
    "    for file in files:\n",
    "        file_path = os.path.join(abspath, file)\n",
    "        file_list.append(file_path)\n",
    "\n",
    "    return file_list, len(file_list)\n",
    "\n",
    "if __name__ == '__main__':\n",
    "\n",
    "    reader = Reader(['ko'], gpu=True,\n",
    "                    model_storage_directory='./workspace/user_network_dir',\n",
    "                    user_network_directory='./workspace/user_network_dir',\n",
    "                    recog_network='custom')\n",
    "\n",
    "    files, count = get_files('./demo_image')\n",
    "\n",
    "    for idx, file in enumerate(files):\n",
    "        filename = os.path.basename(file)\n",
    "        result = reader.readtext(file)\n",
    "             for (bbox, string, confidence) in result:\n",
    "            print(\"filename: '%s', confidence: %.4f, string: '%s'\" % (filename, confidence, string))"
   ]
  }
 ],
 "metadata": {
  "kernelspec": {
   "display_name": "Python 3 (ipykernel)",
   "language": "python",
   "name": "python3"
  },
  "language_info": {
   "codemirror_mode": {
    "name": "ipython",
    "version": 3
   },
   "file_extension": ".py",
   "mimetype": "text/x-python",
   "name": "python",
   "nbconvert_exporter": "python",
   "pygments_lexer": "ipython3",
   "version": "3.9.7"
  }
 },
 "nbformat": 4,
 "nbformat_minor": 5
}
