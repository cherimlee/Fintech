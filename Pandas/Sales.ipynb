{
 "cells": [
  {
   "cell_type": "code",
   "execution_count": 1,
   "id": "549a1bad",
   "metadata": {},
   "outputs": [],
   "source": [
    "import pandas as pd\n",
    "import numpy as np"
   ]
  },
  {
   "cell_type": "code",
   "execution_count": null,
   "id": "c45ac547",
   "metadata": {},
   "outputs": [],
   "source": [
    "# Sales1.csv파일을 dataframe으로 읽으시오 \n",
    "# BasePay의 평균은 얼마인가?\n",
    "# OverTimepay의 최대값은?\n",
    "# 'JOSEPH DRISQLL'의 JOB TITLE은?\n",
    "# TotalPayBenefit의 최고금액을 수령하는 사람의 이름은 ?"
   ]
  },
  {
   "cell_type": "code",
   "execution_count": 19,
   "id": "5e0e679f",
   "metadata": {},
   "outputs": [
    {
     "data": {
      "text/html": [
       "<div>\n",
       "<style scoped>\n",
       "    .dataframe tbody tr th:only-of-type {\n",
       "        vertical-align: middle;\n",
       "    }\n",
       "\n",
       "    .dataframe tbody tr th {\n",
       "        vertical-align: top;\n",
       "    }\n",
       "\n",
       "    .dataframe thead th {\n",
       "        text-align: right;\n",
       "    }\n",
       "</style>\n",
       "<table border=\"1\" class=\"dataframe\">\n",
       "  <thead>\n",
       "    <tr style=\"text-align: right;\">\n",
       "      <th></th>\n",
       "      <th>Unnamed: 0</th>\n",
       "      <th>Id</th>\n",
       "      <th>EmployeeName</th>\n",
       "      <th>JobTitle</th>\n",
       "      <th>BasePay</th>\n",
       "      <th>OvertimePay</th>\n",
       "      <th>OtherPay</th>\n",
       "      <th>Benefits</th>\n",
       "      <th>TotalPay</th>\n",
       "      <th>TotalPayBenefits</th>\n",
       "      <th>Year</th>\n",
       "      <th>Notes</th>\n",
       "      <th>Agency</th>\n",
       "      <th>Status</th>\n",
       "    </tr>\n",
       "  </thead>\n",
       "  <tbody>\n",
       "    <tr>\n",
       "      <th>0</th>\n",
       "      <td>0</td>\n",
       "      <td>1</td>\n",
       "      <td>NATHANIEL FORD</td>\n",
       "      <td>GENERAL MANAGER-METROPOLITAN TRANSIT AUTHORITY</td>\n",
       "      <td>167411.18</td>\n",
       "      <td>0.00</td>\n",
       "      <td>400184.25</td>\n",
       "      <td>NaN</td>\n",
       "      <td>567595.43</td>\n",
       "      <td>567595.43</td>\n",
       "      <td>2011</td>\n",
       "      <td>NaN</td>\n",
       "      <td>San Francisco</td>\n",
       "      <td>NaN</td>\n",
       "    </tr>\n",
       "    <tr>\n",
       "      <th>1</th>\n",
       "      <td>1</td>\n",
       "      <td>2</td>\n",
       "      <td>GARY JIMENEZ</td>\n",
       "      <td>CAPTAIN III (POLICE DEPARTMENT)</td>\n",
       "      <td>155966.02</td>\n",
       "      <td>245131.88</td>\n",
       "      <td>137811.38</td>\n",
       "      <td>NaN</td>\n",
       "      <td>538909.28</td>\n",
       "      <td>538909.28</td>\n",
       "      <td>2011</td>\n",
       "      <td>NaN</td>\n",
       "      <td>San Francisco</td>\n",
       "      <td>NaN</td>\n",
       "    </tr>\n",
       "    <tr>\n",
       "      <th>2</th>\n",
       "      <td>2</td>\n",
       "      <td>3</td>\n",
       "      <td>ALBERT PARDINI</td>\n",
       "      <td>CAPTAIN III (POLICE DEPARTMENT)</td>\n",
       "      <td>212739.13</td>\n",
       "      <td>106088.18</td>\n",
       "      <td>16452.60</td>\n",
       "      <td>NaN</td>\n",
       "      <td>335279.91</td>\n",
       "      <td>335279.91</td>\n",
       "      <td>2011</td>\n",
       "      <td>NaN</td>\n",
       "      <td>San Francisco</td>\n",
       "      <td>NaN</td>\n",
       "    </tr>\n",
       "    <tr>\n",
       "      <th>3</th>\n",
       "      <td>3</td>\n",
       "      <td>4</td>\n",
       "      <td>CHRISTOPHER CHONG</td>\n",
       "      <td>WIRE ROPE CABLE MAINTENANCE MECHANIC</td>\n",
       "      <td>77916.00</td>\n",
       "      <td>56120.71</td>\n",
       "      <td>198306.90</td>\n",
       "      <td>NaN</td>\n",
       "      <td>332343.61</td>\n",
       "      <td>332343.61</td>\n",
       "      <td>2011</td>\n",
       "      <td>NaN</td>\n",
       "      <td>San Francisco</td>\n",
       "      <td>NaN</td>\n",
       "    </tr>\n",
       "    <tr>\n",
       "      <th>4</th>\n",
       "      <td>4</td>\n",
       "      <td>5</td>\n",
       "      <td>PATRICK GARDNER</td>\n",
       "      <td>DEPUTY CHIEF OF DEPARTMENT,(FIRE DEPARTMENT)</td>\n",
       "      <td>134401.60</td>\n",
       "      <td>9737.00</td>\n",
       "      <td>182234.59</td>\n",
       "      <td>NaN</td>\n",
       "      <td>326373.19</td>\n",
       "      <td>326373.19</td>\n",
       "      <td>2011</td>\n",
       "      <td>NaN</td>\n",
       "      <td>San Francisco</td>\n",
       "      <td>NaN</td>\n",
       "    </tr>\n",
       "    <tr>\n",
       "      <th>...</th>\n",
       "      <td>...</td>\n",
       "      <td>...</td>\n",
       "      <td>...</td>\n",
       "      <td>...</td>\n",
       "      <td>...</td>\n",
       "      <td>...</td>\n",
       "      <td>...</td>\n",
       "      <td>...</td>\n",
       "      <td>...</td>\n",
       "      <td>...</td>\n",
       "      <td>...</td>\n",
       "      <td>...</td>\n",
       "      <td>...</td>\n",
       "      <td>...</td>\n",
       "    </tr>\n",
       "    <tr>\n",
       "      <th>49995</th>\n",
       "      <td>49995</td>\n",
       "      <td>49996</td>\n",
       "      <td>Carl Jacobs Sr</td>\n",
       "      <td>Transit Operator</td>\n",
       "      <td>65612.03</td>\n",
       "      <td>15604.45</td>\n",
       "      <td>733.84</td>\n",
       "      <td>37250.65</td>\n",
       "      <td>81950.32</td>\n",
       "      <td>119200.97</td>\n",
       "      <td>2012</td>\n",
       "      <td>NaN</td>\n",
       "      <td>San Francisco</td>\n",
       "      <td>NaN</td>\n",
       "    </tr>\n",
       "    <tr>\n",
       "      <th>49996</th>\n",
       "      <td>49996</td>\n",
       "      <td>49997</td>\n",
       "      <td>Yee Lam</td>\n",
       "      <td>Social Work Supervisor</td>\n",
       "      <td>81284.05</td>\n",
       "      <td>0.00</td>\n",
       "      <td>2084.00</td>\n",
       "      <td>35831.69</td>\n",
       "      <td>83368.05</td>\n",
       "      <td>119199.74</td>\n",
       "      <td>2012</td>\n",
       "      <td>NaN</td>\n",
       "      <td>San Francisco</td>\n",
       "      <td>NaN</td>\n",
       "    </tr>\n",
       "    <tr>\n",
       "      <th>49997</th>\n",
       "      <td>49997</td>\n",
       "      <td>49998</td>\n",
       "      <td>Fe V Foronda</td>\n",
       "      <td>Licensed Vocational Nurse</td>\n",
       "      <td>68857.08</td>\n",
       "      <td>16740.17</td>\n",
       "      <td>873.92</td>\n",
       "      <td>32725.45</td>\n",
       "      <td>86471.17</td>\n",
       "      <td>119196.62</td>\n",
       "      <td>2012</td>\n",
       "      <td>NaN</td>\n",
       "      <td>San Francisco</td>\n",
       "      <td>NaN</td>\n",
       "    </tr>\n",
       "    <tr>\n",
       "      <th>49998</th>\n",
       "      <td>49998</td>\n",
       "      <td>49999</td>\n",
       "      <td>Alison Schlageter</td>\n",
       "      <td>Administrative Analyst</td>\n",
       "      <td>83710.58</td>\n",
       "      <td>0.00</td>\n",
       "      <td>0.00</td>\n",
       "      <td>35478.91</td>\n",
       "      <td>83710.58</td>\n",
       "      <td>119189.49</td>\n",
       "      <td>2012</td>\n",
       "      <td>NaN</td>\n",
       "      <td>San Francisco</td>\n",
       "      <td>NaN</td>\n",
       "    </tr>\n",
       "    <tr>\n",
       "      <th>49999</th>\n",
       "      <td>49999</td>\n",
       "      <td>50000</td>\n",
       "      <td>Nicholas Hancock</td>\n",
       "      <td>Senior Administrative Analyst</td>\n",
       "      <td>83785.84</td>\n",
       "      <td>0.00</td>\n",
       "      <td>0.00</td>\n",
       "      <td>35400.78</td>\n",
       "      <td>83785.84</td>\n",
       "      <td>119186.62</td>\n",
       "      <td>2012</td>\n",
       "      <td>NaN</td>\n",
       "      <td>San Francisco</td>\n",
       "      <td>NaN</td>\n",
       "    </tr>\n",
       "  </tbody>\n",
       "</table>\n",
       "<p>50000 rows × 14 columns</p>\n",
       "</div>"
      ],
      "text/plain": [
       "       Unnamed: 0     Id       EmployeeName  \\\n",
       "0               0      1     NATHANIEL FORD   \n",
       "1               1      2       GARY JIMENEZ   \n",
       "2               2      3     ALBERT PARDINI   \n",
       "3               3      4  CHRISTOPHER CHONG   \n",
       "4               4      5    PATRICK GARDNER   \n",
       "...           ...    ...                ...   \n",
       "49995       49995  49996     Carl Jacobs Sr   \n",
       "49996       49996  49997            Yee Lam   \n",
       "49997       49997  49998       Fe V Foronda   \n",
       "49998       49998  49999  Alison Schlageter   \n",
       "49999       49999  50000   Nicholas Hancock   \n",
       "\n",
       "                                             JobTitle    BasePay  OvertimePay  \\\n",
       "0      GENERAL MANAGER-METROPOLITAN TRANSIT AUTHORITY  167411.18         0.00   \n",
       "1                     CAPTAIN III (POLICE DEPARTMENT)  155966.02    245131.88   \n",
       "2                     CAPTAIN III (POLICE DEPARTMENT)  212739.13    106088.18   \n",
       "3                WIRE ROPE CABLE MAINTENANCE MECHANIC   77916.00     56120.71   \n",
       "4        DEPUTY CHIEF OF DEPARTMENT,(FIRE DEPARTMENT)  134401.60      9737.00   \n",
       "...                                               ...        ...          ...   \n",
       "49995                                Transit Operator   65612.03     15604.45   \n",
       "49996                          Social Work Supervisor   81284.05         0.00   \n",
       "49997                       Licensed Vocational Nurse   68857.08     16740.17   \n",
       "49998                          Administrative Analyst   83710.58         0.00   \n",
       "49999                   Senior Administrative Analyst   83785.84         0.00   \n",
       "\n",
       "        OtherPay  Benefits   TotalPay  TotalPayBenefits  Year  Notes  \\\n",
       "0      400184.25       NaN  567595.43         567595.43  2011    NaN   \n",
       "1      137811.38       NaN  538909.28         538909.28  2011    NaN   \n",
       "2       16452.60       NaN  335279.91         335279.91  2011    NaN   \n",
       "3      198306.90       NaN  332343.61         332343.61  2011    NaN   \n",
       "4      182234.59       NaN  326373.19         326373.19  2011    NaN   \n",
       "...          ...       ...        ...               ...   ...    ...   \n",
       "49995     733.84  37250.65   81950.32         119200.97  2012    NaN   \n",
       "49996    2084.00  35831.69   83368.05         119199.74  2012    NaN   \n",
       "49997     873.92  32725.45   86471.17         119196.62  2012    NaN   \n",
       "49998       0.00  35478.91   83710.58         119189.49  2012    NaN   \n",
       "49999       0.00  35400.78   83785.84         119186.62  2012    NaN   \n",
       "\n",
       "              Agency  Status  \n",
       "0      San Francisco     NaN  \n",
       "1      San Francisco     NaN  \n",
       "2      San Francisco     NaN  \n",
       "3      San Francisco     NaN  \n",
       "4      San Francisco     NaN  \n",
       "...              ...     ...  \n",
       "49995  San Francisco     NaN  \n",
       "49996  San Francisco     NaN  \n",
       "49997  San Francisco     NaN  \n",
       "49998  San Francisco     NaN  \n",
       "49999  San Francisco     NaN  \n",
       "\n",
       "[50000 rows x 14 columns]"
      ]
     },
     "execution_count": 19,
     "metadata": {},
     "output_type": "execute_result"
    }
   ],
   "source": [
    "df = pd.read_csv(\"./data/Salaries1.csv\")\n",
    "df"
   ]
  },
  {
   "cell_type": "code",
   "execution_count": 22,
   "id": "a0b981a0",
   "metadata": {},
   "outputs": [
    {
     "data": {
      "text/html": [
       "<div>\n",
       "<style scoped>\n",
       "    .dataframe tbody tr th:only-of-type {\n",
       "        vertical-align: middle;\n",
       "    }\n",
       "\n",
       "    .dataframe tbody tr th {\n",
       "        vertical-align: top;\n",
       "    }\n",
       "\n",
       "    .dataframe thead th {\n",
       "        text-align: right;\n",
       "    }\n",
       "</style>\n",
       "<table border=\"1\" class=\"dataframe\">\n",
       "  <thead>\n",
       "    <tr style=\"text-align: right;\">\n",
       "      <th></th>\n",
       "      <th>Unnamed: 0</th>\n",
       "      <th>Id</th>\n",
       "      <th>OvertimePay</th>\n",
       "      <th>OtherPay</th>\n",
       "      <th>Benefits</th>\n",
       "      <th>TotalPay</th>\n",
       "      <th>TotalPayBenefits</th>\n",
       "      <th>Year</th>\n",
       "      <th>Notes</th>\n",
       "      <th>Status</th>\n",
       "    </tr>\n",
       "    <tr>\n",
       "      <th>BasePay</th>\n",
       "      <th></th>\n",
       "      <th></th>\n",
       "      <th></th>\n",
       "      <th></th>\n",
       "      <th></th>\n",
       "      <th></th>\n",
       "      <th></th>\n",
       "      <th></th>\n",
       "      <th></th>\n",
       "      <th></th>\n",
       "    </tr>\n",
       "  </thead>\n",
       "  <tbody>\n",
       "    <tr>\n",
       "      <th>0.00</th>\n",
       "      <td>34297.703297</td>\n",
       "      <td>34298.703297</td>\n",
       "      <td>291.958549</td>\n",
       "      <td>5256.096176</td>\n",
       "      <td>830.10</td>\n",
       "      <td>5548.054725</td>\n",
       "      <td>5553.527912</td>\n",
       "      <td>2011.006593</td>\n",
       "      <td>NaN</td>\n",
       "      <td>NaN</td>\n",
       "    </tr>\n",
       "    <tr>\n",
       "      <th>14.25</th>\n",
       "      <td>36087.000000</td>\n",
       "      <td>36088.000000</td>\n",
       "      <td>0.000000</td>\n",
       "      <td>56.140000</td>\n",
       "      <td>NaN</td>\n",
       "      <td>70.390000</td>\n",
       "      <td>70.390000</td>\n",
       "      <td>2011.000000</td>\n",
       "      <td>NaN</td>\n",
       "      <td>NaN</td>\n",
       "    </tr>\n",
       "    <tr>\n",
       "      <th>17.48</th>\n",
       "      <td>36150.000000</td>\n",
       "      <td>36151.000000</td>\n",
       "      <td>0.000000</td>\n",
       "      <td>0.300000</td>\n",
       "      <td>NaN</td>\n",
       "      <td>17.780000</td>\n",
       "      <td>17.780000</td>\n",
       "      <td>2011.000000</td>\n",
       "      <td>NaN</td>\n",
       "      <td>NaN</td>\n",
       "    </tr>\n",
       "    <tr>\n",
       "      <th>27.28</th>\n",
       "      <td>36142.500000</td>\n",
       "      <td>36143.500000</td>\n",
       "      <td>0.000000</td>\n",
       "      <td>0.000000</td>\n",
       "      <td>NaN</td>\n",
       "      <td>27.280000</td>\n",
       "      <td>27.280000</td>\n",
       "      <td>2011.000000</td>\n",
       "      <td>NaN</td>\n",
       "      <td>NaN</td>\n",
       "    </tr>\n",
       "    <tr>\n",
       "      <th>27.63</th>\n",
       "      <td>36138.000000</td>\n",
       "      <td>36139.000000</td>\n",
       "      <td>0.000000</td>\n",
       "      <td>0.000000</td>\n",
       "      <td>NaN</td>\n",
       "      <td>27.630000</td>\n",
       "      <td>27.630000</td>\n",
       "      <td>2011.000000</td>\n",
       "      <td>NaN</td>\n",
       "      <td>NaN</td>\n",
       "    </tr>\n",
       "    <tr>\n",
       "      <th>...</th>\n",
       "      <td>...</td>\n",
       "      <td>...</td>\n",
       "      <td>...</td>\n",
       "      <td>...</td>\n",
       "      <td>...</td>\n",
       "      <td>...</td>\n",
       "      <td>...</td>\n",
       "      <td>...</td>\n",
       "      <td>...</td>\n",
       "      <td>...</td>\n",
       "    </tr>\n",
       "    <tr>\n",
       "      <th>287747.89</th>\n",
       "      <td>36166.000000</td>\n",
       "      <td>36167.000000</td>\n",
       "      <td>0.000000</td>\n",
       "      <td>5274.570000</td>\n",
       "      <td>81824.37</td>\n",
       "      <td>293022.460000</td>\n",
       "      <td>374846.830000</td>\n",
       "      <td>2012.000000</td>\n",
       "      <td>NaN</td>\n",
       "      <td>NaN</td>\n",
       "    </tr>\n",
       "    <tr>\n",
       "      <th>294000.17</th>\n",
       "      <td>36165.000000</td>\n",
       "      <td>36166.000000</td>\n",
       "      <td>0.000000</td>\n",
       "      <td>0.000000</td>\n",
       "      <td>82001.94</td>\n",
       "      <td>294000.170000</td>\n",
       "      <td>376002.110000</td>\n",
       "      <td>2012.000000</td>\n",
       "      <td>NaN</td>\n",
       "      <td>NaN</td>\n",
       "    </tr>\n",
       "    <tr>\n",
       "      <th>294580.02</th>\n",
       "      <td>12.000000</td>\n",
       "      <td>13.000000</td>\n",
       "      <td>0.000000</td>\n",
       "      <td>0.000000</td>\n",
       "      <td>NaN</td>\n",
       "      <td>294580.020000</td>\n",
       "      <td>294580.020000</td>\n",
       "      <td>2011.000000</td>\n",
       "      <td>NaN</td>\n",
       "      <td>NaN</td>\n",
       "    </tr>\n",
       "    <tr>\n",
       "      <th>296943.01</th>\n",
       "      <td>36162.000000</td>\n",
       "      <td>36163.000000</td>\n",
       "      <td>0.000000</td>\n",
       "      <td>17816.590000</td>\n",
       "      <td>72047.88</td>\n",
       "      <td>314759.600000</td>\n",
       "      <td>386807.480000</td>\n",
       "      <td>2012.000000</td>\n",
       "      <td>NaN</td>\n",
       "      <td>NaN</td>\n",
       "    </tr>\n",
       "    <tr>\n",
       "      <th>302578.00</th>\n",
       "      <td>36160.000000</td>\n",
       "      <td>36161.000000</td>\n",
       "      <td>0.000000</td>\n",
       "      <td>18974.110000</td>\n",
       "      <td>69810.19</td>\n",
       "      <td>321552.110000</td>\n",
       "      <td>391362.300000</td>\n",
       "      <td>2012.000000</td>\n",
       "      <td>NaN</td>\n",
       "      <td>NaN</td>\n",
       "    </tr>\n",
       "  </tbody>\n",
       "</table>\n",
       "<p>36464 rows × 10 columns</p>\n",
       "</div>"
      ],
      "text/plain": [
       "             Unnamed: 0            Id  OvertimePay      OtherPay  Benefits  \\\n",
       "BasePay                                                                      \n",
       "0.00       34297.703297  34298.703297   291.958549   5256.096176    830.10   \n",
       "14.25      36087.000000  36088.000000     0.000000     56.140000       NaN   \n",
       "17.48      36150.000000  36151.000000     0.000000      0.300000       NaN   \n",
       "27.28      36142.500000  36143.500000     0.000000      0.000000       NaN   \n",
       "27.63      36138.000000  36139.000000     0.000000      0.000000       NaN   \n",
       "...                 ...           ...          ...           ...       ...   \n",
       "287747.89  36166.000000  36167.000000     0.000000   5274.570000  81824.37   \n",
       "294000.17  36165.000000  36166.000000     0.000000      0.000000  82001.94   \n",
       "294580.02     12.000000     13.000000     0.000000      0.000000       NaN   \n",
       "296943.01  36162.000000  36163.000000     0.000000  17816.590000  72047.88   \n",
       "302578.00  36160.000000  36161.000000     0.000000  18974.110000  69810.19   \n",
       "\n",
       "                TotalPay  TotalPayBenefits         Year  Notes  Status  \n",
       "BasePay                                                                 \n",
       "0.00         5548.054725       5553.527912  2011.006593    NaN     NaN  \n",
       "14.25          70.390000         70.390000  2011.000000    NaN     NaN  \n",
       "17.48          17.780000         17.780000  2011.000000    NaN     NaN  \n",
       "27.28          27.280000         27.280000  2011.000000    NaN     NaN  \n",
       "27.63          27.630000         27.630000  2011.000000    NaN     NaN  \n",
       "...                  ...               ...          ...    ...     ...  \n",
       "287747.89  293022.460000     374846.830000  2012.000000    NaN     NaN  \n",
       "294000.17  294000.170000     376002.110000  2012.000000    NaN     NaN  \n",
       "294580.02  294580.020000     294580.020000  2011.000000    NaN     NaN  \n",
       "296943.01  314759.600000     386807.480000  2012.000000    NaN     NaN  \n",
       "302578.00  321552.110000     391362.300000  2012.000000    NaN     NaN  \n",
       "\n",
       "[36464 rows x 10 columns]"
      ]
     },
     "execution_count": 22,
     "metadata": {},
     "output_type": "execute_result"
    }
   ],
   "source": [
    "df.groupby([\"BasePay\"]).mean()"
   ]
  },
  {
   "cell_type": "code",
   "execution_count": 23,
   "id": "9030089a",
   "metadata": {
    "collapsed": true
   },
   "outputs": [
    {
     "ename": "SyntaxError",
     "evalue": "invalid syntax (Temp/ipykernel_8496/1316198767.py, line 1)",
     "output_type": "error",
     "traceback": [
      "\u001b[1;36m  File \u001b[1;32m\"C:\\Users\\bitcamp\\AppData\\Local\\Temp/ipykernel_8496/1316198767.py\"\u001b[1;36m, line \u001b[1;32m1\u001b[0m\n\u001b[1;33m    df.[\"OvertimePay\"].max()\u001b[0m\n\u001b[1;37m       ^\u001b[0m\n\u001b[1;31mSyntaxError\u001b[0m\u001b[1;31m:\u001b[0m invalid syntax\n"
     ]
    }
   ],
   "source": [
    "df.[\"OvertimePay\"].max()"
   ]
  },
  {
   "cell_type": "code",
   "execution_count": 17,
   "id": "7c2b302e",
   "metadata": {
    "collapsed": true
   },
   "outputs": [
    {
     "name": "stderr",
     "output_type": "stream",
     "text": [
      "<>:1: SyntaxWarning: list indices must be integers or slices, not str; perhaps you missed a comma?\n",
      "<>:1: SyntaxWarning: list indices must be integers or slices, not str; perhaps you missed a comma?\n",
      "C:\\Users\\bitcamp\\AppData\\Local\\Temp/ipykernel_8496/3485195279.py:1: SyntaxWarning: list indices must be integers or slices, not str; perhaps you missed a comma?\n",
      "  df[[\"JOSEPH DRISQLL\"][\"JOB TITLE\"]]\n"
     ]
    },
    {
     "ename": "TypeError",
     "evalue": "list indices must be integers or slices, not str",
     "output_type": "error",
     "traceback": [
      "\u001b[1;31m---------------------------------------------------------------------------\u001b[0m",
      "\u001b[1;31mTypeError\u001b[0m                                 Traceback (most recent call last)",
      "\u001b[1;32m~\\AppData\\Local\\Temp/ipykernel_8496/3485195279.py\u001b[0m in \u001b[0;36m<module>\u001b[1;34m\u001b[0m\n\u001b[1;32m----> 1\u001b[1;33m \u001b[0mdf\u001b[0m\u001b[1;33m[\u001b[0m\u001b[1;33m[\u001b[0m\u001b[1;34m\"JOSEPH DRISQLL\"\u001b[0m\u001b[1;33m]\u001b[0m\u001b[1;33m[\u001b[0m\u001b[1;34m\"JOB TITLE\"\u001b[0m\u001b[1;33m]\u001b[0m\u001b[1;33m]\u001b[0m\u001b[1;33m\u001b[0m\u001b[1;33m\u001b[0m\u001b[0m\n\u001b[0m",
      "\u001b[1;31mTypeError\u001b[0m: list indices must be integers or slices, not str"
     ]
    }
   ],
   "source": [
    "df[[\"JOSEPH DRISQLL\"][\"JOB TITLE\"]]"
   ]
  },
  {
   "cell_type": "code",
   "execution_count": 25,
   "id": "800fe289",
   "metadata": {
    "collapsed": true
   },
   "outputs": [
    {
     "ename": "SyntaxError",
     "evalue": "invalid syntax (Temp/ipykernel_8496/1316198767.py, line 1)",
     "output_type": "error",
     "traceback": [
      "\u001b[1;36m  File \u001b[1;32m\"C:\\Users\\bitcamp\\AppData\\Local\\Temp/ipykernel_8496/1316198767.py\"\u001b[1;36m, line \u001b[1;32m1\u001b[0m\n\u001b[1;33m    df.[\"OvertimePay\"].max()\u001b[0m\n\u001b[1;37m       ^\u001b[0m\n\u001b[1;31mSyntaxError\u001b[0m\u001b[1;31m:\u001b[0m invalid syntax\n"
     ]
    }
   ],
   "source": [
    "df.[\"OvertimePay\"].apply(max)           #element wise operation"
   ]
  },
  {
   "cell_type": "code",
   "execution_count": 24,
   "id": "944a6661",
   "metadata": {
    "collapsed": true
   },
   "outputs": [
    {
     "data": {
      "text/plain": [
       "Unnamed: 0                  49999\n",
       "Id                          50000\n",
       "EmployeeName           Zuri Jones\n",
       "JobTitle              ZOO CURATOR\n",
       "BasePay                  302578.0\n",
       "OvertimePay             245131.88\n",
       "OtherPay                400184.25\n",
       "Benefits                 84681.82\n",
       "TotalPay                567595.43\n",
       "TotalPayBenefits        567595.43\n",
       "Year                         2012\n",
       "Notes                         NaN\n",
       "Agency              San Francisco\n",
       "Status                        NaN\n",
       "dtype: object"
      ]
     },
     "execution_count": 24,
     "metadata": {},
     "output_type": "execute_result"
    }
   ],
   "source": [
    "df.max()"
   ]
  },
  {
   "cell_type": "code",
   "execution_count": 26,
   "id": "9a7e4b61",
   "metadata": {
    "collapsed": true
   },
   "outputs": [
    {
     "data": {
      "text/plain": [
       "Unnamed: 0                  49999\n",
       "Id                          50000\n",
       "EmployeeName           Zuri Jones\n",
       "JobTitle              ZOO CURATOR\n",
       "BasePay                  302578.0\n",
       "OvertimePay             245131.88\n",
       "OtherPay                400184.25\n",
       "Benefits                      NaN\n",
       "TotalPay                567595.43\n",
       "TotalPayBenefits        567595.43\n",
       "Year                         2012\n",
       "Notes                         NaN\n",
       "Agency              San Francisco\n",
       "Status                        NaN\n",
       "dtype: object"
      ]
     },
     "execution_count": 26,
     "metadata": {},
     "output_type": "execute_result"
    }
   ],
   "source": [
    "df.apply(max)"
   ]
  },
  {
   "cell_type": "code",
   "execution_count": null,
   "id": "01e13940",
   "metadata": {},
   "outputs": [],
   "source": [
    "df.[\"OvertimePay\"].max()"
   ]
  },
  {
   "cell_type": "code",
   "execution_count": 29,
   "id": "bae1b248",
   "metadata": {},
   "outputs": [
    {
     "data": {
      "text/plain": [
       "Series([], Name: JobTitle, dtype: object)"
      ]
     },
     "execution_count": 29,
     "metadata": {},
     "output_type": "execute_result"
    }
   ],
   "source": [
    "# 'JOSEPH DRISQLL'의 JOB TITLE은?\n",
    "df[df[\"EmployeeName\"] == 'JOSEPH DRISQLL'][\"JobTitle\"]"
   ]
  },
  {
   "cell_type": "code",
   "execution_count": 31,
   "id": "ff5cfed7",
   "metadata": {},
   "outputs": [
    {
     "data": {
      "text/plain": [
       "'NATHANIEL FORD'"
      ]
     },
     "execution_count": 31,
     "metadata": {},
     "output_type": "execute_result"
    }
   ],
   "source": [
    "df.sort_values(\"TotalPayBenefits\", ascending=False).iloc[0][\"EmployeeName\"]"
   ]
  },
  {
   "cell_type": "code",
   "execution_count": 32,
   "id": "f8f8201d",
   "metadata": {},
   "outputs": [
    {
     "data": {
      "text/plain": [
       "Year\n",
       "2011     63595.956517\n",
       "2012    106964.140280\n",
       "Name: BasePay, dtype: float64"
      ]
     },
     "execution_count": 32,
     "metadata": {},
     "output_type": "execute_result"
    }
   ],
   "source": [
    "df.groupby(\"Year\")[\"BasePay\"].mean()"
   ]
  },
  {
   "cell_type": "code",
   "execution_count": 37,
   "id": "248a47b5",
   "metadata": {
    "collapsed": true
   },
   "outputs": [
    {
     "data": {
      "text/plain": [
       "TRANSIT OPERATOR    2388\n",
       "SPECIAL NURSE       1402\n",
       "REGISTERED NURSE    1219\n",
       "Registered Nurse    1003\n",
       "CUSTODIAN            796\n",
       "Name: JobTitle, dtype: int64"
      ]
     },
     "execution_count": 37,
     "metadata": {},
     "output_type": "execute_result"
    }
   ],
   "source": [
    "df[\"JobTitle\"].value_counts().iloc[:5]"
   ]
  },
  {
   "cell_type": "code",
   "execution_count": 36,
   "id": "95d69972",
   "metadata": {
    "scrolled": true
   },
   "outputs": [
    {
     "data": {
      "text/plain": [
       "200"
      ]
     },
     "execution_count": 36,
     "metadata": {},
     "output_type": "execute_result"
    }
   ],
   "source": [
    "sum(df[df[\"Year\"] == 2011]['JobTitle'].value_counts() == 1)"
   ]
  },
  {
   "cell_type": "code",
   "execution_count": 48,
   "id": "65c79e55",
   "metadata": {},
   "outputs": [
    {
     "data": {
      "text/plain": [
       "318"
      ]
     },
     "execution_count": 48,
     "metadata": {},
     "output_type": "execute_result"
    }
   ],
   "source": [
    "jobtitle = df[\"JobTitle\"].apply(lambda x : x.lower())\n",
    "jobtitle\n",
    "\n",
    "total = 0\n",
    "for t in jobtitle:\n",
    "    if 'chief' in t :\n",
    "        total += 1\n",
    "        \n",
    "total"
   ]
  },
  {
   "cell_type": "code",
   "execution_count": 49,
   "id": "a2255409",
   "metadata": {},
   "outputs": [
    {
     "data": {
      "text/plain": [
       "318"
      ]
     },
     "execution_count": 49,
     "metadata": {},
     "output_type": "execute_result"
    }
   ],
   "source": [
    "sum(df[\"JobTitle\"].apply(lambda x : x.lower()).str.contains(\"chief\"))"
   ]
  },
  {
   "cell_type": "code",
   "execution_count": null,
   "id": "94a778af",
   "metadata": {},
   "outputs": [],
   "source": []
  },
  {
   "cell_type": "code",
   "execution_count": null,
   "id": "54d23d18",
   "metadata": {},
   "outputs": [],
   "source": []
  },
  {
   "cell_type": "code",
   "execution_count": null,
   "id": "1f9b5ce3",
   "metadata": {},
   "outputs": [],
   "source": []
  },
  {
   "cell_type": "code",
   "execution_count": null,
   "id": "a5a918d2",
   "metadata": {},
   "outputs": [],
   "source": []
  },
  {
   "cell_type": "code",
   "execution_count": null,
   "id": "d8a0fa89",
   "metadata": {},
   "outputs": [],
   "source": []
  }
 ],
 "metadata": {
  "kernelspec": {
   "display_name": "Python 3 (ipykernel)",
   "language": "python",
   "name": "python3"
  },
  "language_info": {
   "codemirror_mode": {
    "name": "ipython",
    "version": 3
   },
   "file_extension": ".py",
   "mimetype": "text/x-python",
   "name": "python",
   "nbconvert_exporter": "python",
   "pygments_lexer": "ipython3",
   "version": "3.9.7"
  }
 },
 "nbformat": 4,
 "nbformat_minor": 5
}
