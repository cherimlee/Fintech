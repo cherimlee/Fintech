{
 "cells": [
  {
   "cell_type": "code",
   "execution_count": 1,
   "id": "dd22d7b4",
   "metadata": {},
   "outputs": [],
   "source": [
    "import pandas as pd\n",
    "import numpy as np\n",
    "import matplotlib.pyplot as plt"
   ]
  },
  {
   "cell_type": "code",
   "execution_count": 17,
   "id": "84ff1692",
   "metadata": {},
   "outputs": [],
   "source": [
    "from tensorflow.keras.utils import to_categorical\n",
    "\n",
    "from tensorflow.keras.models import Sequential\n",
    "from tensorflow.keras.layers import Dense, Conv2D, MaxPooling2D, Flatten, Dropout\n",
    "\n",
    "from tensorflow.keras.datasets import cifar100"
   ]
  },
  {
   "cell_type": "code",
   "execution_count": 3,
   "id": "db712484",
   "metadata": {
    "collapsed": true
   },
   "outputs": [
    {
     "name": "stdout",
     "output_type": "stream",
     "text": [
      "Downloading data from https://www.cs.toronto.edu/~kriz/cifar-100-python.tar.gz\n",
      "169009152/169001437 [==============================] - 12s 0us/step\n",
      "169017344/169001437 [==============================] - 12s 0us/step\n"
     ]
    }
   ],
   "source": [
    "(x_train, y_train), (x_test, y_test) = cifar100.load_data()"
   ]
  },
  {
   "cell_type": "code",
   "execution_count": 4,
   "id": "14b24e58",
   "metadata": {},
   "outputs": [
    {
     "name": "stdout",
     "output_type": "stream",
     "text": [
      "(50000, 32, 32, 3) (10000, 32, 32, 3)\n"
     ]
    }
   ],
   "source": [
    "print(x_train.shape, x_test.shape)"
   ]
  },
  {
   "cell_type": "code",
   "execution_count": 5,
   "id": "e28f0a03",
   "metadata": {
    "collapsed": true
   },
   "outputs": [
    {
     "data": {
      "text/plain": [
       "(50000, 1)"
      ]
     },
     "execution_count": 5,
     "metadata": {},
     "output_type": "execute_result"
    }
   ],
   "source": [
    "y_train.shape"
   ]
  },
  {
   "cell_type": "code",
   "execution_count": 23,
   "id": "139ddac5",
   "metadata": {
    "collapsed": true
   },
   "outputs": [
    {
     "data": {
      "text/plain": [
       "array([ 0,  1,  2,  3,  4,  5,  6,  7,  8,  9, 10, 11, 12, 13, 14, 15, 16,\n",
       "       17, 18, 19, 20, 21, 22, 23, 24, 25, 26, 27, 28, 29, 30, 31, 32, 33,\n",
       "       34, 35, 36, 37, 38, 39, 40, 41, 42, 43, 44, 45, 46, 47, 48, 49, 50,\n",
       "       51, 52, 53, 54, 55, 56, 57, 58, 59, 60, 61, 62, 63, 64, 65, 66, 67,\n",
       "       68, 69, 70, 71, 72, 73, 74, 75, 76, 77, 78, 79, 80, 81, 82, 83, 84,\n",
       "       85, 86, 87, 88, 89, 90, 91, 92, 93, 94, 95, 96, 97, 98, 99])"
      ]
     },
     "execution_count": 23,
     "metadata": {},
     "output_type": "execute_result"
    }
   ],
   "source": [
    "np.unique([i[0] for i in y_train])"
   ]
  },
  {
   "cell_type": "code",
   "execution_count": null,
   "id": "4432f5f9",
   "metadata": {},
   "outputs": [],
   "source": []
  },
  {
   "cell_type": "code",
   "execution_count": 9,
   "id": "a025ed29",
   "metadata": {},
   "outputs": [],
   "source": [
    "x_train = x_train.astype('float32')/255.0\n",
    "x_test = x_test.astype('float32')/255.0"
   ]
  },
  {
   "cell_type": "code",
   "execution_count": null,
   "id": "c4faad6b",
   "metadata": {},
   "outputs": [],
   "source": []
  },
  {
   "cell_type": "code",
   "execution_count": 10,
   "id": "217dea9c",
   "metadata": {},
   "outputs": [],
   "source": [
    "y_train_oh = to_categorical(y_train, 100)\n",
    "y_test_oh = to_categorical(y_test, 100)"
   ]
  },
  {
   "cell_type": "code",
   "execution_count": null,
   "id": "d3b8c97a",
   "metadata": {},
   "outputs": [],
   "source": []
  },
  {
   "cell_type": "code",
   "execution_count": 18,
   "id": "4be6a485",
   "metadata": {
    "collapsed": true
   },
   "outputs": [
    {
     "name": "stdout",
     "output_type": "stream",
     "text": [
      "Model: \"sequential_2\"\n",
      "_________________________________________________________________\n",
      " Layer (type)                Output Shape              Param #   \n",
      "=================================================================\n",
      " conv2d_3 (Conv2D)           (None, 30, 30, 32)        896       \n",
      "                                                                 \n",
      " max_pooling2d_3 (MaxPooling  (None, 15, 15, 32)       0         \n",
      " 2D)                                                             \n",
      "                                                                 \n",
      " dropout (Dropout)           (None, 15, 15, 32)        0         \n",
      "                                                                 \n",
      " conv2d_4 (Conv2D)           (None, 13, 13, 64)        18496     \n",
      "                                                                 \n",
      " max_pooling2d_4 (MaxPooling  (None, 6, 6, 64)         0         \n",
      " 2D)                                                             \n",
      "                                                                 \n",
      " dropout_1 (Dropout)         (None, 6, 6, 64)          0         \n",
      "                                                                 \n",
      " flatten_1 (Flatten)         (None, 2304)              0         \n",
      "                                                                 \n",
      " dense_2 (Dense)             (None, 500)               1152500   \n",
      "                                                                 \n",
      " dropout_2 (Dropout)         (None, 500)               0         \n",
      "                                                                 \n",
      " dense_3 (Dense)             (None, 250)               125250    \n",
      "                                                                 \n",
      " dropout_3 (Dropout)         (None, 250)               0         \n",
      "                                                                 \n",
      " dense_4 (Dense)             (None, 100)               25100     \n",
      "                                                                 \n",
      "=================================================================\n",
      "Total params: 1,322,242\n",
      "Trainable params: 1,322,242\n",
      "Non-trainable params: 0\n",
      "_________________________________________________________________\n"
     ]
    }
   ],
   "source": [
    "model = Sequential()\n",
    "\n",
    "model.add(Conv2D(32, (3,3), activation='relu', input_shape=(32, 32, 3)))\n",
    "model.add(MaxPooling2D(pool_size=(2,2)))\n",
    "model.add(Dropout(0.3))\n",
    "\n",
    "model.add(Conv2D(64, (3,3), activation='relu'))\n",
    "model.add(MaxPooling2D(pool_size=(2,2)))\n",
    "model.add(Dropout(0.3))\n",
    "\n",
    "model.add(Flatten())\n",
    "\n",
    "model.add(Dense(500, activation='relu'))\n",
    "model.add(Dropout(0.5))\n",
    "model.add(Dense(250, activation='relu'))\n",
    "model.add(Dropout(0.5))\n",
    "model.add(Dense(100, activation='softmax'))\n",
    "\n",
    "model.summary()"
   ]
  },
  {
   "cell_type": "code",
   "execution_count": null,
   "id": "7aa5826d",
   "metadata": {},
   "outputs": [],
   "source": []
  },
  {
   "cell_type": "code",
   "execution_count": 19,
   "id": "836928f6",
   "metadata": {},
   "outputs": [],
   "source": [
    "model.compile(loss='categorical_crossentropy', metrics=['accuracy'], optimizer='adam')"
   ]
  },
  {
   "cell_type": "code",
   "execution_count": 24,
   "id": "5a44f7b1",
   "metadata": {},
   "outputs": [
    {
     "name": "stdout",
     "output_type": "stream",
     "text": [
      "Epoch 1/30\n",
      "2000/2000 [==============================] - 24s 12ms/step - loss: 3.1554 - accuracy: 0.2304 - val_loss: 3.0670 - val_accuracy: 0.2539\n",
      "Epoch 2/30\n",
      "2000/2000 [==============================] - 24s 12ms/step - loss: 3.1356 - accuracy: 0.2318 - val_loss: 3.0691 - val_accuracy: 0.2597\n",
      "Epoch 3/30\n",
      "2000/2000 [==============================] - 24s 12ms/step - loss: 3.1070 - accuracy: 0.2389 - val_loss: 3.0634 - val_accuracy: 0.2528\n",
      "Epoch 4/30\n",
      "2000/2000 [==============================] - 24s 12ms/step - loss: 3.0961 - accuracy: 0.2403 - val_loss: 3.2237 - val_accuracy: 0.2291\n",
      "Epoch 5/30\n",
      "2000/2000 [==============================] - 23s 12ms/step - loss: 3.0855 - accuracy: 0.2433 - val_loss: 2.9815 - val_accuracy: 0.2748\n",
      "Epoch 6/30\n",
      "2000/2000 [==============================] - 23s 12ms/step - loss: 3.0530 - accuracy: 0.2483 - val_loss: 3.0329 - val_accuracy: 0.2700\n",
      "Epoch 7/30\n",
      "2000/2000 [==============================] - 23s 12ms/step - loss: 3.0488 - accuracy: 0.2504 - val_loss: 3.0715 - val_accuracy: 0.2583\n",
      "Epoch 8/30\n",
      "2000/2000 [==============================] - 23s 12ms/step - loss: 3.0299 - accuracy: 0.2522 - val_loss: 3.0328 - val_accuracy: 0.2631\n",
      "Epoch 9/30\n",
      "2000/2000 [==============================] - 23s 12ms/step - loss: 3.0253 - accuracy: 0.2556 - val_loss: 3.1084 - val_accuracy: 0.2478\n",
      "Epoch 10/30\n",
      "2000/2000 [==============================] - 23s 12ms/step - loss: 3.0028 - accuracy: 0.2603 - val_loss: 2.9826 - val_accuracy: 0.2720\n",
      "Epoch 11/30\n",
      "2000/2000 [==============================] - 23s 12ms/step - loss: 2.9973 - accuracy: 0.2611 - val_loss: 2.9565 - val_accuracy: 0.2841\n",
      "Epoch 12/30\n",
      "2000/2000 [==============================] - 23s 12ms/step - loss: 2.9869 - accuracy: 0.2639 - val_loss: 2.9886 - val_accuracy: 0.2731\n",
      "Epoch 13/30\n",
      "2000/2000 [==============================] - 23s 12ms/step - loss: 2.9668 - accuracy: 0.2655 - val_loss: 3.0329 - val_accuracy: 0.2687\n",
      "Epoch 14/30\n",
      "2000/2000 [==============================] - 23s 12ms/step - loss: 2.9754 - accuracy: 0.2661 - val_loss: 2.9966 - val_accuracy: 0.2750\n",
      "Epoch 15/30\n",
      "2000/2000 [==============================] - 23s 12ms/step - loss: 2.9594 - accuracy: 0.2666 - val_loss: 2.9489 - val_accuracy: 0.2813\n",
      "Epoch 16/30\n",
      "2000/2000 [==============================] - 23s 12ms/step - loss: 2.9506 - accuracy: 0.2695 - val_loss: 2.9696 - val_accuracy: 0.2739\n",
      "Epoch 17/30\n",
      "2000/2000 [==============================] - 23s 12ms/step - loss: 2.9471 - accuracy: 0.2699 - val_loss: 3.0029 - val_accuracy: 0.2720\n",
      "Epoch 18/30\n",
      "2000/2000 [==============================] - 23s 12ms/step - loss: 2.9308 - accuracy: 0.2756 - val_loss: 2.9513 - val_accuracy: 0.2782\n",
      "Epoch 19/30\n",
      "2000/2000 [==============================] - 23s 12ms/step - loss: 2.9081 - accuracy: 0.2792 - val_loss: 3.0150 - val_accuracy: 0.2701\n",
      "Epoch 20/30\n",
      "2000/2000 [==============================] - 23s 12ms/step - loss: 2.9215 - accuracy: 0.2774 - val_loss: 3.1828 - val_accuracy: 0.2412\n",
      "Epoch 21/30\n",
      "2000/2000 [==============================] - 23s 12ms/step - loss: 2.9109 - accuracy: 0.2784 - val_loss: 3.0822 - val_accuracy: 0.2567\n",
      "Epoch 22/30\n",
      "2000/2000 [==============================] - 23s 12ms/step - loss: 2.9038 - accuracy: 0.2838 - val_loss: 2.9423 - val_accuracy: 0.2839\n",
      "Epoch 23/30\n",
      "2000/2000 [==============================] - 23s 12ms/step - loss: 2.9028 - accuracy: 0.2819 - val_loss: 2.9073 - val_accuracy: 0.2898\n",
      "Epoch 24/30\n",
      "2000/2000 [==============================] - 23s 12ms/step - loss: 2.8958 - accuracy: 0.2852 - val_loss: 2.9673 - val_accuracy: 0.2775\n",
      "Epoch 25/30\n",
      "2000/2000 [==============================] - 23s 12ms/step - loss: 2.8865 - accuracy: 0.2857 - val_loss: 3.0142 - val_accuracy: 0.2733\n",
      "Epoch 26/30\n",
      "2000/2000 [==============================] - 23s 12ms/step - loss: 2.8640 - accuracy: 0.2900 - val_loss: 2.9949 - val_accuracy: 0.2809\n",
      "Epoch 27/30\n",
      "2000/2000 [==============================] - 24s 12ms/step - loss: 2.8721 - accuracy: 0.2919 - val_loss: 3.0111 - val_accuracy: 0.2690\n",
      "Epoch 28/30\n",
      "2000/2000 [==============================] - 23s 12ms/step - loss: 2.8747 - accuracy: 0.2886 - val_loss: 2.9356 - val_accuracy: 0.2856\n",
      "Epoch 29/30\n",
      "2000/2000 [==============================] - 24s 12ms/step - loss: 2.8434 - accuracy: 0.2954 - val_loss: 2.9971 - val_accuracy: 0.2755\n",
      "Epoch 30/30\n",
      "2000/2000 [==============================] - 24s 12ms/step - loss: 2.8649 - accuracy: 0.2922 - val_loss: 2.9979 - val_accuracy: 0.2785\n"
     ]
    }
   ],
   "source": [
    "hist = model.fit(x_train, y_train_oh, epochs=30, batch_size=20, validation_split=0.2)"
   ]
  },
  {
   "cell_type": "code",
   "execution_count": null,
   "id": "b3c62e52",
   "metadata": {},
   "outputs": [],
   "source": []
  },
  {
   "cell_type": "code",
   "execution_count": 25,
   "id": "021f226a",
   "metadata": {},
   "outputs": [
    {
     "name": "stdout",
     "output_type": "stream",
     "text": [
      "313/313 [==============================] - 1s 4ms/step - loss: 2.9694 - accuracy: 0.2812\n"
     ]
    },
    {
     "data": {
      "text/plain": [
       "[2.969404697418213, 0.28119999170303345]"
      ]
     },
     "execution_count": 25,
     "metadata": {},
     "output_type": "execute_result"
    }
   ],
   "source": [
    "model.evaluate(x_test, y_test_oh)"
   ]
  },
  {
   "cell_type": "code",
   "execution_count": null,
   "id": "c566d6dc",
   "metadata": {},
   "outputs": [],
   "source": []
  },
  {
   "cell_type": "code",
   "execution_count": null,
   "id": "9be8b7b6",
   "metadata": {},
   "outputs": [],
   "source": []
  },
  {
   "cell_type": "code",
   "execution_count": null,
   "id": "5d2d3323",
   "metadata": {},
   "outputs": [],
   "source": []
  },
  {
   "cell_type": "code",
   "execution_count": null,
   "id": "c98b4cb5",
   "metadata": {},
   "outputs": [],
   "source": []
  },
  {
   "cell_type": "code",
   "execution_count": null,
   "id": "00051f9c",
   "metadata": {},
   "outputs": [],
   "source": []
  }
 ],
 "metadata": {
  "kernelspec": {
   "display_name": "Python 3 (ipykernel)",
   "language": "python",
   "name": "python3"
  },
  "language_info": {
   "codemirror_mode": {
    "name": "ipython",
    "version": 3
   },
   "file_extension": ".py",
   "mimetype": "text/x-python",
   "name": "python",
   "nbconvert_exporter": "python",
   "pygments_lexer": "ipython3",
   "version": "3.9.7"
  }
 },
 "nbformat": 4,
 "nbformat_minor": 5
}
