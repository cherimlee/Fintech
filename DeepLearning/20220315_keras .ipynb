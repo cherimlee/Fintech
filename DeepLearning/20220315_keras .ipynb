{
 "cells": [
  {
   "cell_type": "code",
   "execution_count": 2,
   "id": "8cca8bd6",
   "metadata": {
    "ExecuteTime": {
     "end_time": "2022-03-15T06:48:34.069441Z",
     "start_time": "2022-03-15T06:48:34.065452Z"
    }
   },
   "outputs": [],
   "source": [
    "import tensorflow as tf"
   ]
  },
  {
   "cell_type": "code",
   "execution_count": 3,
   "id": "b4765dbc",
   "metadata": {
    "ExecuteTime": {
     "end_time": "2022-03-15T06:48:40.302669Z",
     "start_time": "2022-03-15T06:48:40.289704Z"
    }
   },
   "outputs": [
    {
     "data": {
      "text/plain": [
       "'2.7.0'"
      ]
     },
     "execution_count": 3,
     "metadata": {},
     "output_type": "execute_result"
    }
   ],
   "source": [
    "tf.__version__"
   ]
  },
  {
   "cell_type": "code",
   "execution_count": 4,
   "id": "edc4e4bf",
   "metadata": {
    "ExecuteTime": {
     "end_time": "2022-03-15T06:53:06.942065Z",
     "start_time": "2022-03-15T06:53:06.924121Z"
    }
   },
   "outputs": [],
   "source": [
    "from tensorflow.keras.models import Sequential\n",
    "from tensorflow.keras.layers import Dense"
   ]
  },
  {
   "cell_type": "code",
   "execution_count": 5,
   "id": "566c39c7",
   "metadata": {
    "ExecuteTime": {
     "end_time": "2022-03-15T06:54:46.735704Z",
     "start_time": "2022-03-15T06:54:46.723737Z"
    }
   },
   "outputs": [],
   "source": [
    "import numpy as np\n",
    "import pandas as pd"
   ]
  },
  {
   "cell_type": "code",
   "execution_count": 9,
   "id": "f6bf2217",
   "metadata": {
    "ExecuteTime": {
     "end_time": "2022-03-15T07:02:14.497747Z",
     "start_time": "2022-03-15T07:02:14.487804Z"
    }
   },
   "outputs": [],
   "source": [
    "dataset = np.loadtxt('data/ThoraricSurgery.csv', delimiter=',')"
   ]
  },
  {
   "cell_type": "code",
   "execution_count": 11,
   "id": "3cce1114",
   "metadata": {
    "ExecuteTime": {
     "end_time": "2022-03-15T07:02:36.872793Z",
     "start_time": "2022-03-15T07:02:36.855034Z"
    }
   },
   "outputs": [],
   "source": [
    "x = dataset[:,0:17]\n",
    "y = dataset[:,17]"
   ]
  },
  {
   "cell_type": "code",
   "execution_count": 59,
   "id": "0c30d182",
   "metadata": {
    "ExecuteTime": {
     "end_time": "2022-03-15T08:08:01.323825Z",
     "start_time": "2022-03-15T08:08:01.313881Z"
    }
   },
   "outputs": [],
   "source": [
    "from sklearn.model_selection import train_test_split\n",
    "x_train, x_test, y_train, y_test = train_test_split(x,y,test_size=0.2,stratify=y, random_state=11)\n",
    "x_train, x_val, y_train, y_val = train_test_split(x_train,y_train,test_size=0.25,stratify=y_train, random_state=11)"
   ]
  },
  {
   "cell_type": "code",
   "execution_count": 60,
   "id": "253e6953",
   "metadata": {
    "ExecuteTime": {
     "end_time": "2022-03-15T08:08:01.603119Z",
     "start_time": "2022-03-15T08:08:01.561839Z"
    }
   },
   "outputs": [
    {
     "name": "stdout",
     "output_type": "stream",
     "text": [
      "Model: \"sequential_8\"\n",
      "_________________________________________________________________\n",
      " Layer (type)                Output Shape              Param #   \n",
      "=================================================================\n",
      " dense_30 (Dense)            (None, 300)               5400      \n",
      "                                                                 \n",
      " dense_31 (Dense)            (None, 500)               150500    \n",
      "                                                                 \n",
      " dense_32 (Dense)            (None, 300)               150300    \n",
      "                                                                 \n",
      " dense_33 (Dense)            (None, 100)               30100     \n",
      "                                                                 \n",
      " dense_34 (Dense)            (None, 1)                 101       \n",
      "                                                                 \n",
      "=================================================================\n",
      "Total params: 336,401\n",
      "Trainable params: 336,401\n",
      "Non-trainable params: 0\n",
      "_________________________________________________________________\n"
     ]
    }
   ],
   "source": [
    "with tf.device('/GPU:0'):\n",
    "    model = Sequential()\n",
    "    model.add(Dense(300,input_dim = 17, activation = 'relu'))\n",
    "    model.add(Dense(500,activation='relu'))\n",
    "    model.add(Dense(300,activation='relu'))\n",
    "    model.add(Dense(100,activation='relu'))\n",
    "    model.add(Dense(1,activation='sigmoid'))\n",
    "    \n",
    "    model.compile(loss='binary_crossentropy', optimizer = 'adam', metrics=['accuracy'])\n",
    "    model.summary()"
   ]
  },
  {
   "cell_type": "code",
   "execution_count": 61,
   "id": "5f984db3",
   "metadata": {
    "ExecuteTime": {
     "end_time": "2022-03-15T08:08:06.052523Z",
     "start_time": "2022-03-15T08:08:02.226222Z"
    }
   },
   "outputs": [
    {
     "name": "stdout",
     "output_type": "stream",
     "text": [
      "Epoch 1/100\n",
      "9/9 [==============================] - 0s 14ms/step - loss: 6.2220 - accuracy: 0.6879 - val_loss: 2.2536 - val_accuracy: 0.8404\n",
      "Epoch 2/100\n",
      "9/9 [==============================] - 0s 4ms/step - loss: 1.0187 - accuracy: 0.7340 - val_loss: 0.5051 - val_accuracy: 0.8511\n",
      "Epoch 3/100\n",
      "9/9 [==============================] - 0s 4ms/step - loss: 0.7905 - accuracy: 0.7801 - val_loss: 0.4045 - val_accuracy: 0.8511\n",
      "Epoch 4/100\n",
      "9/9 [==============================] - 0s 4ms/step - loss: 0.5316 - accuracy: 0.8085 - val_loss: 0.4437 - val_accuracy: 0.8511\n",
      "Epoch 5/100\n",
      "9/9 [==============================] - 0s 4ms/step - loss: 0.5322 - accuracy: 0.8262 - val_loss: 0.4564 - val_accuracy: 0.8511\n",
      "Epoch 6/100\n",
      "9/9 [==============================] - 0s 4ms/step - loss: 0.5716 - accuracy: 0.7979 - val_loss: 0.5485 - val_accuracy: 0.8511\n",
      "Epoch 7/100\n",
      "9/9 [==============================] - 0s 4ms/step - loss: 0.5763 - accuracy: 0.8121 - val_loss: 0.7237 - val_accuracy: 0.8511\n",
      "Epoch 8/100\n",
      "9/9 [==============================] - 0s 4ms/step - loss: 0.4859 - accuracy: 0.8050 - val_loss: 0.6693 - val_accuracy: 0.8511\n",
      "Epoch 9/100\n",
      "9/9 [==============================] - 0s 4ms/step - loss: 0.5623 - accuracy: 0.7943 - val_loss: 0.6029 - val_accuracy: 0.8511\n",
      "Epoch 10/100\n",
      "9/9 [==============================] - 0s 4ms/step - loss: 0.5743 - accuracy: 0.8121 - val_loss: 0.9248 - val_accuracy: 0.8511\n",
      "Epoch 11/100\n",
      "9/9 [==============================] - 0s 4ms/step - loss: 0.5523 - accuracy: 0.7908 - val_loss: 0.4973 - val_accuracy: 0.8404\n",
      "Epoch 12/100\n",
      "9/9 [==============================] - 0s 4ms/step - loss: 0.4491 - accuracy: 0.8511 - val_loss: 0.5484 - val_accuracy: 0.8511\n",
      "Epoch 13/100\n",
      "9/9 [==============================] - 0s 4ms/step - loss: 0.4877 - accuracy: 0.8156 - val_loss: 0.6349 - val_accuracy: 0.8511\n",
      "Epoch 14/100\n",
      "9/9 [==============================] - 0s 4ms/step - loss: 0.6060 - accuracy: 0.8050 - val_loss: 0.6415 - val_accuracy: 0.8511\n",
      "Epoch 15/100\n",
      "9/9 [==============================] - 0s 4ms/step - loss: 0.5088 - accuracy: 0.8262 - val_loss: 0.5733 - val_accuracy: 0.8511\n",
      "Epoch 16/100\n",
      "9/9 [==============================] - 0s 4ms/step - loss: 0.5253 - accuracy: 0.8511 - val_loss: 0.5051 - val_accuracy: 0.8511\n",
      "Epoch 17/100\n",
      "9/9 [==============================] - 0s 4ms/step - loss: 0.4357 - accuracy: 0.8511 - val_loss: 0.4242 - val_accuracy: 0.8511\n",
      "Epoch 18/100\n",
      "9/9 [==============================] - 0s 4ms/step - loss: 0.4091 - accuracy: 0.8511 - val_loss: 0.4288 - val_accuracy: 0.8511\n",
      "Epoch 19/100\n",
      "9/9 [==============================] - 0s 4ms/step - loss: 0.4963 - accuracy: 0.7943 - val_loss: 0.4698 - val_accuracy: 0.8511\n",
      "Epoch 20/100\n",
      "9/9 [==============================] - 0s 4ms/step - loss: 0.5233 - accuracy: 0.8191 - val_loss: 0.4399 - val_accuracy: 0.8511\n",
      "Epoch 21/100\n",
      "9/9 [==============================] - 0s 4ms/step - loss: 0.5355 - accuracy: 0.8511 - val_loss: 0.4535 - val_accuracy: 0.8511\n",
      "Epoch 22/100\n",
      "9/9 [==============================] - 0s 4ms/step - loss: 0.4675 - accuracy: 0.8546 - val_loss: 0.5087 - val_accuracy: 0.8511\n",
      "Epoch 23/100\n",
      "9/9 [==============================] - 0s 4ms/step - loss: 0.4612 - accuracy: 0.8511 - val_loss: 0.4187 - val_accuracy: 0.8511\n",
      "Epoch 24/100\n",
      "9/9 [==============================] - 0s 4ms/step - loss: 0.4554 - accuracy: 0.8511 - val_loss: 0.5224 - val_accuracy: 0.8511\n",
      "Epoch 25/100\n",
      "9/9 [==============================] - 0s 3ms/step - loss: 0.4199 - accuracy: 0.8511 - val_loss: 0.4216 - val_accuracy: 0.8511\n",
      "Epoch 26/100\n",
      "9/9 [==============================] - 0s 4ms/step - loss: 0.4131 - accuracy: 0.8511 - val_loss: 0.5091 - val_accuracy: 0.8404\n",
      "Epoch 27/100\n",
      "9/9 [==============================] - 0s 4ms/step - loss: 0.4490 - accuracy: 0.8440 - val_loss: 0.4205 - val_accuracy: 0.8511\n",
      "Epoch 28/100\n",
      "9/9 [==============================] - 0s 4ms/step - loss: 0.4133 - accuracy: 0.8546 - val_loss: 0.4734 - val_accuracy: 0.8511\n",
      "Epoch 29/100\n",
      "9/9 [==============================] - 0s 4ms/step - loss: 0.4341 - accuracy: 0.8546 - val_loss: 0.4466 - val_accuracy: 0.8511\n",
      "Epoch 30/100\n",
      "9/9 [==============================] - 0s 4ms/step - loss: 0.4547 - accuracy: 0.8511 - val_loss: 0.4599 - val_accuracy: 0.8511\n",
      "Epoch 31/100\n",
      "9/9 [==============================] - 0s 4ms/step - loss: 0.4131 - accuracy: 0.8546 - val_loss: 0.4250 - val_accuracy: 0.8511\n",
      "Epoch 32/100\n",
      "9/9 [==============================] - 0s 4ms/step - loss: 0.4242 - accuracy: 0.8546 - val_loss: 0.4228 - val_accuracy: 0.8511\n",
      "Epoch 33/100\n",
      "9/9 [==============================] - 0s 4ms/step - loss: 0.4500 - accuracy: 0.8511 - val_loss: 0.4225 - val_accuracy: 0.8511\n",
      "Epoch 34/100\n",
      "9/9 [==============================] - 0s 4ms/step - loss: 0.5121 - accuracy: 0.8475 - val_loss: 0.5084 - val_accuracy: 0.8404\n",
      "Epoch 35/100\n",
      "9/9 [==============================] - 0s 4ms/step - loss: 0.4769 - accuracy: 0.8156 - val_loss: 0.6226 - val_accuracy: 0.8511\n",
      "Epoch 36/100\n",
      "9/9 [==============================] - 0s 4ms/step - loss: 0.4932 - accuracy: 0.8511 - val_loss: 0.4294 - val_accuracy: 0.8511\n",
      "Epoch 37/100\n",
      "9/9 [==============================] - 0s 4ms/step - loss: 0.4300 - accuracy: 0.8440 - val_loss: 0.4568 - val_accuracy: 0.8404\n",
      "Epoch 38/100\n",
      "9/9 [==============================] - 0s 4ms/step - loss: 0.4126 - accuracy: 0.8546 - val_loss: 0.4222 - val_accuracy: 0.8511\n",
      "Epoch 39/100\n",
      "9/9 [==============================] - 0s 4ms/step - loss: 0.4139 - accuracy: 0.8511 - val_loss: 0.4647 - val_accuracy: 0.8511\n",
      "Epoch 40/100\n",
      "9/9 [==============================] - 0s 4ms/step - loss: 0.4309 - accuracy: 0.8475 - val_loss: 0.4721 - val_accuracy: 0.8511\n",
      "Epoch 41/100\n",
      "9/9 [==============================] - 0s 4ms/step - loss: 0.4164 - accuracy: 0.8511 - val_loss: 0.4176 - val_accuracy: 0.8511\n",
      "Epoch 42/100\n",
      "9/9 [==============================] - 0s 4ms/step - loss: 0.4046 - accuracy: 0.8511 - val_loss: 0.4325 - val_accuracy: 0.8511\n",
      "Epoch 43/100\n",
      "9/9 [==============================] - 0s 4ms/step - loss: 0.4165 - accuracy: 0.8440 - val_loss: 0.4325 - val_accuracy: 0.8404\n",
      "Epoch 44/100\n",
      "9/9 [==============================] - 0s 4ms/step - loss: 0.4178 - accuracy: 0.8582 - val_loss: 0.4166 - val_accuracy: 0.8511\n",
      "Epoch 45/100\n",
      "9/9 [==============================] - 0s 4ms/step - loss: 0.4058 - accuracy: 0.8511 - val_loss: 0.4230 - val_accuracy: 0.8511\n",
      "Epoch 46/100\n",
      "9/9 [==============================] - 0s 4ms/step - loss: 0.4071 - accuracy: 0.8617 - val_loss: 0.4244 - val_accuracy: 0.8511\n",
      "Epoch 47/100\n",
      "9/9 [==============================] - 0s 4ms/step - loss: 0.4186 - accuracy: 0.8617 - val_loss: 0.4636 - val_accuracy: 0.8511\n",
      "Epoch 48/100\n",
      "9/9 [==============================] - 0s 4ms/step - loss: 0.4181 - accuracy: 0.8582 - val_loss: 0.4191 - val_accuracy: 0.8511\n",
      "Epoch 49/100\n",
      "9/9 [==============================] - 0s 4ms/step - loss: 0.4039 - accuracy: 0.8582 - val_loss: 0.4419 - val_accuracy: 0.8511\n",
      "Epoch 50/100\n",
      "9/9 [==============================] - 0s 4ms/step - loss: 0.4252 - accuracy: 0.8582 - val_loss: 0.4201 - val_accuracy: 0.8511\n",
      "Epoch 51/100\n",
      "9/9 [==============================] - 0s 4ms/step - loss: 0.4073 - accuracy: 0.8582 - val_loss: 0.4706 - val_accuracy: 0.8511\n",
      "Epoch 52/100\n",
      "9/9 [==============================] - 0s 4ms/step - loss: 0.4151 - accuracy: 0.8617 - val_loss: 0.4406 - val_accuracy: 0.8511\n",
      "Epoch 53/100\n",
      "9/9 [==============================] - 0s 4ms/step - loss: 0.4113 - accuracy: 0.8546 - val_loss: 0.4347 - val_accuracy: 0.8511\n",
      "Epoch 54/100\n",
      "9/9 [==============================] - 0s 4ms/step - loss: 0.4048 - accuracy: 0.8546 - val_loss: 0.4231 - val_accuracy: 0.8511\n",
      "Epoch 55/100\n",
      "9/9 [==============================] - 0s 4ms/step - loss: 0.3936 - accuracy: 0.8582 - val_loss: 0.4235 - val_accuracy: 0.8404\n",
      "Epoch 56/100\n",
      "9/9 [==============================] - 0s 4ms/step - loss: 0.3990 - accuracy: 0.8546 - val_loss: 0.4264 - val_accuracy: 0.8511\n",
      "Epoch 57/100\n",
      "9/9 [==============================] - 0s 4ms/step - loss: 0.3984 - accuracy: 0.8582 - val_loss: 0.4445 - val_accuracy: 0.8404\n",
      "Epoch 58/100\n",
      "9/9 [==============================] - 0s 4ms/step - loss: 0.3903 - accuracy: 0.8582 - val_loss: 0.4505 - val_accuracy: 0.8511\n",
      "Epoch 59/100\n",
      "9/9 [==============================] - 0s 4ms/step - loss: 0.4020 - accuracy: 0.8582 - val_loss: 0.4481 - val_accuracy: 0.8511\n",
      "Epoch 60/100\n",
      "9/9 [==============================] - 0s 4ms/step - loss: 0.3848 - accuracy: 0.8582 - val_loss: 0.4488 - val_accuracy: 0.8511\n",
      "Epoch 61/100\n",
      "9/9 [==============================] - 0s 4ms/step - loss: 0.4138 - accuracy: 0.8582 - val_loss: 0.4516 - val_accuracy: 0.8511\n",
      "Epoch 62/100\n",
      "9/9 [==============================] - 0s 4ms/step - loss: 0.4045 - accuracy: 0.8617 - val_loss: 0.4378 - val_accuracy: 0.8511\n",
      "Epoch 63/100\n",
      "9/9 [==============================] - 0s 4ms/step - loss: 0.4110 - accuracy: 0.8546 - val_loss: 0.4304 - val_accuracy: 0.8511\n",
      "Epoch 64/100\n",
      "9/9 [==============================] - 0s 4ms/step - loss: 0.3949 - accuracy: 0.8652 - val_loss: 0.4246 - val_accuracy: 0.8511\n",
      "Epoch 65/100\n",
      "9/9 [==============================] - 0s 4ms/step - loss: 0.4046 - accuracy: 0.8617 - val_loss: 0.4268 - val_accuracy: 0.8511\n",
      "Epoch 66/100\n",
      "9/9 [==============================] - 0s 4ms/step - loss: 0.4044 - accuracy: 0.8582 - val_loss: 0.4226 - val_accuracy: 0.8511\n",
      "Epoch 67/100\n",
      "9/9 [==============================] - 0s 4ms/step - loss: 0.3854 - accuracy: 0.8617 - val_loss: 0.4460 - val_accuracy: 0.8511\n",
      "Epoch 68/100\n",
      "9/9 [==============================] - 0s 4ms/step - loss: 0.3839 - accuracy: 0.8652 - val_loss: 0.4242 - val_accuracy: 0.8511\n",
      "Epoch 69/100\n",
      "9/9 [==============================] - 0s 4ms/step - loss: 0.3972 - accuracy: 0.8617 - val_loss: 0.4330 - val_accuracy: 0.8511\n",
      "Epoch 70/100\n",
      "9/9 [==============================] - 0s 4ms/step - loss: 0.4089 - accuracy: 0.8617 - val_loss: 0.4179 - val_accuracy: 0.8511\n",
      "Epoch 71/100\n",
      "9/9 [==============================] - 0s 4ms/step - loss: 0.3873 - accuracy: 0.8582 - val_loss: 0.4349 - val_accuracy: 0.8511\n",
      "Epoch 72/100\n",
      "9/9 [==============================] - 0s 4ms/step - loss: 0.4673 - accuracy: 0.8546 - val_loss: 0.4411 - val_accuracy: 0.8511\n",
      "Epoch 73/100\n",
      "9/9 [==============================] - 0s 4ms/step - loss: 0.4108 - accuracy: 0.8546 - val_loss: 0.4124 - val_accuracy: 0.8511\n",
      "Epoch 74/100\n",
      "9/9 [==============================] - 0s 4ms/step - loss: 0.4238 - accuracy: 0.8546 - val_loss: 0.4109 - val_accuracy: 0.8511\n",
      "Epoch 75/100\n",
      "9/9 [==============================] - 0s 4ms/step - loss: 0.4083 - accuracy: 0.8582 - val_loss: 0.4177 - val_accuracy: 0.8404\n",
      "Epoch 76/100\n",
      "9/9 [==============================] - 0s 4ms/step - loss: 0.4174 - accuracy: 0.8546 - val_loss: 0.5219 - val_accuracy: 0.8511\n",
      "Epoch 77/100\n",
      "9/9 [==============================] - 0s 4ms/step - loss: 0.4541 - accuracy: 0.8582 - val_loss: 0.4592 - val_accuracy: 0.8511\n",
      "Epoch 78/100\n",
      "9/9 [==============================] - 0s 4ms/step - loss: 0.3796 - accuracy: 0.8475 - val_loss: 0.4528 - val_accuracy: 0.8404\n",
      "Epoch 79/100\n",
      "9/9 [==============================] - 0s 4ms/step - loss: 0.3997 - accuracy: 0.8617 - val_loss: 0.4260 - val_accuracy: 0.8511\n",
      "Epoch 80/100\n",
      "9/9 [==============================] - 0s 4ms/step - loss: 0.3931 - accuracy: 0.8617 - val_loss: 0.4125 - val_accuracy: 0.8511\n",
      "Epoch 81/100\n",
      "9/9 [==============================] - 0s 4ms/step - loss: 0.3938 - accuracy: 0.8617 - val_loss: 0.4365 - val_accuracy: 0.8511\n",
      "Epoch 82/100\n",
      "9/9 [==============================] - 0s 4ms/step - loss: 0.3941 - accuracy: 0.8582 - val_loss: 0.4162 - val_accuracy: 0.8511\n",
      "Epoch 83/100\n",
      "9/9 [==============================] - 0s 4ms/step - loss: 0.3942 - accuracy: 0.8652 - val_loss: 0.4220 - val_accuracy: 0.8511\n",
      "Epoch 84/100\n",
      "9/9 [==============================] - 0s 4ms/step - loss: 0.3834 - accuracy: 0.8582 - val_loss: 0.4133 - val_accuracy: 0.8511\n",
      "Epoch 85/100\n",
      "9/9 [==============================] - 0s 4ms/step - loss: 0.3774 - accuracy: 0.8617 - val_loss: 0.4158 - val_accuracy: 0.8511\n",
      "Epoch 86/100\n",
      "9/9 [==============================] - 0s 4ms/step - loss: 0.3746 - accuracy: 0.8617 - val_loss: 0.4149 - val_accuracy: 0.8511\n",
      "Epoch 87/100\n",
      "9/9 [==============================] - 0s 4ms/step - loss: 0.3815 - accuracy: 0.8688 - val_loss: 0.4253 - val_accuracy: 0.8511\n",
      "Epoch 88/100\n",
      "9/9 [==============================] - 0s 4ms/step - loss: 0.3702 - accuracy: 0.8582 - val_loss: 0.4063 - val_accuracy: 0.8511\n",
      "Epoch 89/100\n",
      "9/9 [==============================] - 0s 4ms/step - loss: 0.3889 - accuracy: 0.8688 - val_loss: 0.4319 - val_accuracy: 0.8511\n",
      "Epoch 90/100\n",
      "9/9 [==============================] - 0s 4ms/step - loss: 0.3789 - accuracy: 0.8652 - val_loss: 0.4192 - val_accuracy: 0.8511\n",
      "Epoch 91/100\n",
      "9/9 [==============================] - 0s 4ms/step - loss: 0.3948 - accuracy: 0.8511 - val_loss: 0.4728 - val_accuracy: 0.8511\n",
      "Epoch 92/100\n",
      "9/9 [==============================] - 0s 4ms/step - loss: 0.4203 - accuracy: 0.8582 - val_loss: 0.4071 - val_accuracy: 0.8511\n",
      "Epoch 93/100\n",
      "9/9 [==============================] - 0s 4ms/step - loss: 0.3941 - accuracy: 0.8617 - val_loss: 0.4076 - val_accuracy: 0.8511\n",
      "Epoch 94/100\n",
      "9/9 [==============================] - 0s 4ms/step - loss: 0.3755 - accuracy: 0.8652 - val_loss: 0.4488 - val_accuracy: 0.8511\n",
      "Epoch 95/100\n",
      "9/9 [==============================] - 0s 4ms/step - loss: 0.4036 - accuracy: 0.8688 - val_loss: 0.4226 - val_accuracy: 0.8511\n",
      "Epoch 96/100\n",
      "9/9 [==============================] - 0s 4ms/step - loss: 0.3744 - accuracy: 0.8688 - val_loss: 0.4439 - val_accuracy: 0.8511\n",
      "Epoch 97/100\n",
      "9/9 [==============================] - 0s 4ms/step - loss: 0.3869 - accuracy: 0.8723 - val_loss: 0.4170 - val_accuracy: 0.8511\n",
      "Epoch 98/100\n",
      "9/9 [==============================] - 0s 4ms/step - loss: 0.3799 - accuracy: 0.8617 - val_loss: 0.4069 - val_accuracy: 0.8511\n",
      "Epoch 99/100\n",
      "9/9 [==============================] - 0s 4ms/step - loss: 0.3693 - accuracy: 0.8723 - val_loss: 0.4262 - val_accuracy: 0.8511\n",
      "Epoch 100/100\n",
      "9/9 [==============================] - 0s 4ms/step - loss: 0.3651 - accuracy: 0.8688 - val_loss: 0.4109 - val_accuracy: 0.8511\n"
     ]
    }
   ],
   "source": [
    "history = model.fit(x_train,y_train,validation_data=[x_val, y_val], batch_size=32, epochs=100,verbose=1)"
   ]
  },
  {
   "cell_type": "code",
   "execution_count": 62,
   "id": "6d188746",
   "metadata": {
    "ExecuteTime": {
     "end_time": "2022-03-15T08:08:06.241556Z",
     "start_time": "2022-03-15T08:08:06.119648Z"
    }
   },
   "outputs": [
    {
     "name": "stdout",
     "output_type": "stream",
     "text": [
      "3/3 [==============================] - 0s 2ms/step - loss: 0.4653 - accuracy: 0.8404\n"
     ]
    },
    {
     "data": {
      "text/plain": [
       "[0.46534091234207153, 0.8404255509376526]"
      ]
     },
     "execution_count": 62,
     "metadata": {},
     "output_type": "execute_result"
    }
   ],
   "source": [
    "pred = model.predict(x)\n",
    "model.evaluate(x_test,y_test) # loss, accuracy"
   ]
  },
  {
   "cell_type": "code",
   "execution_count": 63,
   "id": "771423ab",
   "metadata": {
    "ExecuteTime": {
     "end_time": "2022-03-15T08:08:06.426875Z",
     "start_time": "2022-03-15T08:08:06.336874Z"
    }
   },
   "outputs": [
    {
     "data": {
      "text/plain": [
       "[<matplotlib.lines.Line2D at 0x2476a97b730>]"
      ]
     },
     "execution_count": 63,
     "metadata": {},
     "output_type": "execute_result"
    },
    {
     "data": {
      "image/png": "[encoded data removed]",
      "text/plain": [
       "<Figure size 432x288 with 1 Axes>"
      ]
     },
     "metadata": {
      "needs_background": "light"
     },
     "output_type": "display_data"
    }
   ],
   "source": [
    "import matplotlib.pyplot as plt\n",
    "plt.plot(history.history['loss'])\n",
    "plt.plot(history.history['val_loss'])"
   ]
  },
  {
   "cell_type": "code",
   "execution_count": 55,
   "id": "11ee6991",
   "metadata": {
    "ExecuteTime": {
     "end_time": "2022-03-15T08:07:52.458959Z",
     "start_time": "2022-03-15T08:07:52.449984Z"
    }
   },
   "outputs": [
    {
     "data": {
      "text/plain": [
       "[0.4050891101360321,\n",
       " 0.4034000635147095,\n",
       " 0.4028485119342804,\n",
       " 0.40654999017715454,\n",
       " 0.409537136554718,\n",
       " 0.3986937701702118,\n",
       " 0.416614830493927,\n",
       " 0.3965643644332886,\n",
       " 0.4289083182811737,\n",
       " 0.398739755153656,\n",
       " 0.4055376946926117,\n",
       " 0.4055323898792267,\n",
       " 0.4053894281387329,\n",
       " 0.41029950976371765,\n",
       " 0.4086669087409973,\n",
       " 0.40324118733406067,\n",
       " 0.40313559770584106,\n",
       " 0.39096394181251526,\n",
       " 0.39237484335899353,\n",
       " 0.4062623381614685,\n",
       " 0.4165371358394623,\n",
       " 0.3883301317691803,\n",
       " 0.4239402115345001,\n",
       " 0.39297813177108765,\n",
       " 0.40637916326522827,\n",
       " 0.43098554015159607,\n",
       " 0.38888901472091675,\n",
       " 0.4297924339771271,\n",
       " 0.3874342441558838,\n",
       " 0.3886007070541382,\n",
       " 0.3955952227115631,\n",
       " 0.42971307039260864,\n",
       " 0.415296345949173,\n",
       " 0.3936159610748291,\n",
       " 0.4189806580543518,\n",
       " 0.38186103105545044,\n",
       " 0.39662235975265503,\n",
       " 0.3935003876686096,\n",
       " 0.4145257771015167,\n",
       " 0.3964122533798218,\n",
       " 0.4125485122203827,\n",
       " 0.3861866295337677,\n",
       " 0.4034576117992401,\n",
       " 0.38355860114097595,\n",
       " 0.37817901372909546,\n",
       " 0.4011683464050293,\n",
       " 0.38297727704048157,\n",
       " 0.3744719624519348,\n",
       " 0.4127759039402008,\n",
       " 0.4086630046367645,\n",
       " 0.3807457387447357,\n",
       " 0.4231383204460144,\n",
       " 0.3868783712387085,\n",
       " 0.38321202993392944,\n",
       " 0.3832349181175232,\n",
       " 0.4383440911769867,\n",
       " 0.42733699083328247,\n",
       " 0.3950071632862091,\n",
       " 0.39791545271873474,\n",
       " 0.4449332654476166,\n",
       " 0.3976632356643677,\n",
       " 0.40466585755348206,\n",
       " 0.4024960994720459,\n",
       " 0.41283348202705383,\n",
       " 0.3854683041572571,\n",
       " 0.39617279171943665,\n",
       " 0.41785281896591187,\n",
       " 0.41170549392700195,\n",
       " 0.4114106297492981,\n",
       " 0.39621052145957947,\n",
       " 0.3992595374584198,\n",
       " 0.3808478116989136,\n",
       " 0.4037743806838989,\n",
       " 0.426215261220932,\n",
       " 0.38932159543037415,\n",
       " 0.3894788324832916,\n",
       " 0.38287609815597534,\n",
       " 0.43498390913009644,\n",
       " 0.4149048626422882,\n",
       " 0.38348138332366943,\n",
       " 0.37191760540008545,\n",
       " 0.39286088943481445,\n",
       " 0.4131535589694977,\n",
       " 0.39674121141433716,\n",
       " 0.38309600949287415,\n",
       " 0.3639910817146301,\n",
       " 0.3887878954410553,\n",
       " 0.37615954875946045,\n",
       " 0.37509703636169434,\n",
       " 0.3807377815246582,\n",
       " 0.38141119480133057,\n",
       " 0.36688554286956787,\n",
       " 0.3977159857749939,\n",
       " 0.42342227697372437,\n",
       " 0.4115537703037262,\n",
       " 0.3817541301250458,\n",
       " 0.3902992010116577,\n",
       " 0.42088958621025085,\n",
       " 0.39233845472335815,\n",
       " 0.36658599972724915]"
      ]
     },
     "execution_count": 55,
     "metadata": {},
     "output_type": "execute_result"
    }
   ],
   "source": [
    "history.history['val_loss']"
   ]
  },
  {
   "cell_type": "code",
   "execution_count": null,
   "id": "453df61f",
   "metadata": {},
   "outputs": [],
   "source": []
  }
 ],
 "metadata": {
  "kernelspec": {
   "display_name": "Python 3 (ipykernel)",
   "language": "python",
   "name": "python3"
  },
  "language_info": {
   "codemirror_mode": {
    "name": "ipython",
    "version": 3
   },
   "file_extension": ".py",
   "mimetype": "text/x-python",
   "name": "python",
   "nbconvert_exporter": "python",
   "pygments_lexer": "ipython3",
   "version": "3.9.7"
  },
  "toc": {
   "base_numbering": 1,
   "nav_menu": {},
   "number_sections": true,
   "sideBar": true,
   "skip_h1_title": false,
   "title_cell": "Table of Contents",
   "title_sidebar": "Contents",
   "toc_cell": false,
   "toc_position": {},
   "toc_section_display": true,
   "toc_window_display": false
  },
  "varInspector": {
   "cols": {
    "lenName": 16,
    "lenType": 16,
    "lenVar": 40
   },
   "kernels_config": {
    "python": {
     "delete_cmd_postfix": "",
     "delete_cmd_prefix": "del ",
     "library": "var_list.py",
     "varRefreshCmd": "print(var_dic_list())"
    },
    "r": {
     "delete_cmd_postfix": ") ",
     "delete_cmd_prefix": "rm(",
     "library": "var_list.r",
     "varRefreshCmd": "cat(var_dic_list()) "
    }
   },
   "types_to_exclude": [
    "module",
    "function",
    "builtin_function_or_method",
    "instance",
    "_Feature"
   ],
   "window_display": true
  }
 },
 "nbformat": 4,
 "nbformat_minor": 5
}
