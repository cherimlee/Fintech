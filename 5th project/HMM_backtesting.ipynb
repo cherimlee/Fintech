{
 "cells": [
  {
   "cell_type": "code",
   "execution_count": 1,
   "id": "1ab90a3a",
   "metadata": {},
   "outputs": [],
   "source": [
    "import pandas as pd\n",
    "import numpy as np\n",
    "import matplotlib.pyplot as plt\n",
    "import seaborn as sns"
   ]
  },
  {
   "cell_type": "code",
   "execution_count": 2,
   "id": "fa86c6d5",
   "metadata": {},
   "outputs": [],
   "source": [
    "import FinanceDataReader as fdr"
   ]
  },
  {
   "cell_type": "code",
   "execution_count": 3,
   "id": "d6e43912",
   "metadata": {},
   "outputs": [],
   "source": [
    "import plotly.express as px\n",
    "import plotly.graph_objects as go"
   ]
  },
  {
   "cell_type": "code",
   "execution_count": 16,
   "id": "011fe132",
   "metadata": {},
   "outputs": [],
   "source": [
    "def get_returns_df(df, N=1, log=False):\n",
    "    if log:\n",
    "        return np.log(df/df.shift(N)).iloc[N-1:].fillna(0)\n",
    "    else:\n",
    "        return df.pct_change(N, fill_method=None).iloc[N-1:].fillna(0)\n",
    "    \n",
    "def get_cum_returns_df(return_df, log=False):\n",
    "    if log:\n",
    "        return np.exp(return_df.cumsum())\n",
    "    else:\n",
    "        return (1 + return_df).cumprod()"
   ]
  },
  {
   "cell_type": "markdown",
   "id": "a9e3f6c6",
   "metadata": {},
   "source": [
    "### 연단위 "
   ]
  },
  {
   "cell_type": "code",
   "execution_count": 17,
   "id": "ff33c040",
   "metadata": {},
   "outputs": [],
   "source": [
    "def get_annualized_returns_series(log_return_df, num_day_in_year=250):\n",
    "    return (log_return_df.mean() * num_day_in_year).round(2)\n",
    "\n",
    "def get_annualized_std_series(log_return_df, num_day_in_year=250):\n",
    "    return (log_return_df.std() * (num_day_in_year ** 0.5)).round(2)"
   ]
  },
  {
   "cell_type": "code",
   "execution_count": 18,
   "id": "5a6b96e1",
   "metadata": {},
   "outputs": [],
   "source": [
    "def get_cagr_series(cum_rtn_df, num_day_in_year = 250):\n",
    "    cagr_series = cum_rtn_df.iloc[-1]**(num_day_in_year/(len(cum_rtn_df))) - 1\n",
    "    return cagr_series"
   ]
  },
  {
   "cell_type": "code",
   "execution_count": 19,
   "id": "ee389049",
   "metadata": {},
   "outputs": [],
   "source": [
    "def get_sharpe_ratio(log_rtn_df, yearly_rfr = 0.025):\n",
    "    excess_rtns = log_rtn_df.mean()*252 - yearly_rfr\n",
    "    return excess_rtns / (log_rtn_df.std() * np.sqrt(252))"
   ]
  },
  {
   "cell_type": "code",
   "execution_count": 20,
   "id": "6b2e26ec",
   "metadata": {},
   "outputs": [],
   "source": [
    "def get_drawdown_infos(cum_returns_df):\n",
    "    cummax_df = cum_returns_df.cummax()\n",
    "    dd_df = cum_returns_df / cummax_df -1\n",
    "    \n",
    "    mdd_series = dd_df.min()\n",
    "    \n",
    "    max_point_df = dd_df[dd_df == 0]\n",
    "    \n",
    "    first_df = max_point_df.index[:-1]\n",
    "    second_df = max_point_df.index[1:]\n",
    "    \n",
    "    period = first_df - second_df\n",
    "    \n",
    "    longest_dd_period = period.min().days\n",
    "    \n",
    "    ldd_st = first_df[period.argmin()]\n",
    "    ldd_ed = second_df[period.argmin()]\n",
    "    \n",
    "    return mdd_series, longest_dd_period, ldd_st, ldd_ed"
   ]
  },
  {
   "cell_type": "code",
   "execution_count": null,
   "id": "e10dd3e3",
   "metadata": {},
   "outputs": [],
   "source": []
  },
  {
   "cell_type": "markdown",
   "id": "ba9c25b8",
   "metadata": {},
   "source": [
    "## 이동평균선"
   ]
  },
  {
   "cell_type": "code",
   "execution_count": 58,
   "id": "5c82759a",
   "metadata": {},
   "outputs": [],
   "source": [
    "df = fdr.DataReader('011200', '2020')"
   ]
  },
  {
   "cell_type": "code",
   "execution_count": 59,
   "id": "e8f9203c",
   "metadata": {},
   "outputs": [
    {
     "data": {
      "text/html": [
       "<div>\n",
       "<style scoped>\n",
       "    .dataframe tbody tr th:only-of-type {\n",
       "        vertical-align: middle;\n",
       "    }\n",
       "\n",
       "    .dataframe tbody tr th {\n",
       "        vertical-align: top;\n",
       "    }\n",
       "\n",
       "    .dataframe thead th {\n",
       "        text-align: right;\n",
       "    }\n",
       "</style>\n",
       "<table border=\"1\" class=\"dataframe\">\n",
       "  <thead>\n",
       "    <tr style=\"text-align: right;\">\n",
       "      <th></th>\n",
       "      <th>Open</th>\n",
       "      <th>High</th>\n",
       "      <th>Low</th>\n",
       "      <th>Close</th>\n",
       "      <th>Volume</th>\n",
       "      <th>Change</th>\n",
       "      <th>sma</th>\n",
       "      <th>lma</th>\n",
       "    </tr>\n",
       "    <tr>\n",
       "      <th>Date</th>\n",
       "      <th></th>\n",
       "      <th></th>\n",
       "      <th></th>\n",
       "      <th></th>\n",
       "      <th></th>\n",
       "      <th></th>\n",
       "      <th></th>\n",
       "      <th></th>\n",
       "    </tr>\n",
       "  </thead>\n",
       "  <tbody>\n",
       "    <tr>\n",
       "      <th>2020-01-02</th>\n",
       "      <td>3555</td>\n",
       "      <td>3770</td>\n",
       "      <td>3555</td>\n",
       "      <td>3750</td>\n",
       "      <td>1799891</td>\n",
       "      <td>0.056338</td>\n",
       "      <td>NaN</td>\n",
       "      <td>NaN</td>\n",
       "    </tr>\n",
       "    <tr>\n",
       "      <th>2020-01-03</th>\n",
       "      <td>3765</td>\n",
       "      <td>3865</td>\n",
       "      <td>3745</td>\n",
       "      <td>3775</td>\n",
       "      <td>1567072</td>\n",
       "      <td>0.006667</td>\n",
       "      <td>NaN</td>\n",
       "      <td>NaN</td>\n",
       "    </tr>\n",
       "    <tr>\n",
       "      <th>2020-01-06</th>\n",
       "      <td>3725</td>\n",
       "      <td>3840</td>\n",
       "      <td>3660</td>\n",
       "      <td>3835</td>\n",
       "      <td>1312388</td>\n",
       "      <td>0.015894</td>\n",
       "      <td>NaN</td>\n",
       "      <td>NaN</td>\n",
       "    </tr>\n",
       "    <tr>\n",
       "      <th>2020-01-07</th>\n",
       "      <td>3840</td>\n",
       "      <td>3920</td>\n",
       "      <td>3810</td>\n",
       "      <td>3900</td>\n",
       "      <td>1300247</td>\n",
       "      <td>0.016949</td>\n",
       "      <td>NaN</td>\n",
       "      <td>NaN</td>\n",
       "    </tr>\n",
       "    <tr>\n",
       "      <th>2020-01-08</th>\n",
       "      <td>3845</td>\n",
       "      <td>3960</td>\n",
       "      <td>3740</td>\n",
       "      <td>3765</td>\n",
       "      <td>1745074</td>\n",
       "      <td>-0.034615</td>\n",
       "      <td>3805.0</td>\n",
       "      <td>NaN</td>\n",
       "    </tr>\n",
       "  </tbody>\n",
       "</table>\n",
       "</div>"
      ],
      "text/plain": [
       "            Open  High   Low  Close   Volume    Change     sma  lma\n",
       "Date                                                               \n",
       "2020-01-02  3555  3770  3555   3750  1799891  0.056338     NaN  NaN\n",
       "2020-01-03  3765  3865  3745   3775  1567072  0.006667     NaN  NaN\n",
       "2020-01-06  3725  3840  3660   3835  1312388  0.015894     NaN  NaN\n",
       "2020-01-07  3840  3920  3810   3900  1300247  0.016949     NaN  NaN\n",
       "2020-01-08  3845  3960  3740   3765  1745074 -0.034615  3805.0  NaN"
      ]
     },
     "execution_count": 59,
     "metadata": {},
     "output_type": "execute_result"
    }
   ],
   "source": [
    "df['sma'] = df['Close'].rolling(5).mean()\n",
    "df['lma'] = df['Close'].rolling(20).mean()\n",
    "df.head()"
   ]
  },
  {
   "cell_type": "code",
   "execution_count": 60,
   "id": "6ee1df12",
   "metadata": {},
   "outputs": [],
   "source": [
    "df.dropna(inplace=True)"
   ]
  },
  {
   "cell_type": "code",
   "execution_count": 61,
   "id": "65f0fd2a",
   "metadata": {},
   "outputs": [],
   "source": [
    "df['position'] = np.where(df['sma'] >= df['lma'], 1, 0)"
   ]
  },
  {
   "cell_type": "code",
   "execution_count": 62,
   "id": "ac521622",
   "metadata": {},
   "outputs": [],
   "source": [
    "long_index = df[(df['position'] - df['position'].shift(1)) == 1].index\n",
    "exit_index = df[(df['position'] - df['position'].shift(1)) == -1].index"
   ]
  },
  {
   "cell_type": "code",
   "execution_count": 63,
   "id": "63d8c5e2",
   "metadata": {},
   "outputs": [
    {
     "data": {
      "text/plain": [
       "<AxesSubplot:xlabel='Date'>"
      ]
     },
     "execution_count": 63,
     "metadata": {},
     "output_type": "execute_result"
    },
    {
     "data": {
      "image/png": "[encoded data removed]",
      "text/plain": [
       "<Figure size 1080x360 with 1 Axes>"
      ]
     },
     "metadata": {
      "needs_background": "light"
     },
     "output_type": "display_data"
    }
   ],
   "source": [
    "df[['sma','lma']].plot(figsize=(15,5))\n",
    "df.loc[long_index, 'sma'].plot(marker='o', color='red', linestyle='none', markersize=5)\n",
    "df.loc[exit_index, 'sma'].plot(marker='o', color='blue', linestyle='none', markersize=5)"
   ]
  },
  {
   "cell_type": "code",
   "execution_count": 64,
   "id": "0ff94f34",
   "metadata": {
    "collapsed": true
   },
   "outputs": [
    {
     "data": {
      "text/html": [
       "<div>\n",
       "<style scoped>\n",
       "    .dataframe tbody tr th:only-of-type {\n",
       "        vertical-align: middle;\n",
       "    }\n",
       "\n",
       "    .dataframe tbody tr th {\n",
       "        vertical-align: top;\n",
       "    }\n",
       "\n",
       "    .dataframe thead th {\n",
       "        text-align: right;\n",
       "    }\n",
       "</style>\n",
       "<table border=\"1\" class=\"dataframe\">\n",
       "  <thead>\n",
       "    <tr style=\"text-align: right;\">\n",
       "      <th></th>\n",
       "      <th>Open</th>\n",
       "      <th>High</th>\n",
       "      <th>Low</th>\n",
       "      <th>Close</th>\n",
       "      <th>Volume</th>\n",
       "      <th>Change</th>\n",
       "      <th>sma</th>\n",
       "      <th>lma</th>\n",
       "      <th>position</th>\n",
       "      <th>rtn</th>\n",
       "    </tr>\n",
       "    <tr>\n",
       "      <th>Date</th>\n",
       "      <th></th>\n",
       "      <th></th>\n",
       "      <th></th>\n",
       "      <th></th>\n",
       "      <th></th>\n",
       "      <th></th>\n",
       "      <th></th>\n",
       "      <th></th>\n",
       "      <th></th>\n",
       "      <th></th>\n",
       "    </tr>\n",
       "  </thead>\n",
       "  <tbody>\n",
       "    <tr>\n",
       "      <th>2020-01-31</th>\n",
       "      <td>3455</td>\n",
       "      <td>3525</td>\n",
       "      <td>3455</td>\n",
       "      <td>3475</td>\n",
       "      <td>639462</td>\n",
       "      <td>-0.007143</td>\n",
       "      <td>3517.0</td>\n",
       "      <td>3695.75</td>\n",
       "      <td>0</td>\n",
       "      <td>0.000000</td>\n",
       "    </tr>\n",
       "    <tr>\n",
       "      <th>2020-02-03</th>\n",
       "      <td>3435</td>\n",
       "      <td>3435</td>\n",
       "      <td>3340</td>\n",
       "      <td>3400</td>\n",
       "      <td>1032561</td>\n",
       "      <td>-0.021583</td>\n",
       "      <td>3470.0</td>\n",
       "      <td>3678.25</td>\n",
       "      <td>0</td>\n",
       "      <td>-0.021819</td>\n",
       "    </tr>\n",
       "    <tr>\n",
       "      <th>2020-02-04</th>\n",
       "      <td>3400</td>\n",
       "      <td>3530</td>\n",
       "      <td>3400</td>\n",
       "      <td>3475</td>\n",
       "      <td>574954</td>\n",
       "      <td>0.022059</td>\n",
       "      <td>3470.0</td>\n",
       "      <td>3663.25</td>\n",
       "      <td>0</td>\n",
       "      <td>0.021819</td>\n",
       "    </tr>\n",
       "    <tr>\n",
       "      <th>2020-02-05</th>\n",
       "      <td>3530</td>\n",
       "      <td>3545</td>\n",
       "      <td>3490</td>\n",
       "      <td>3520</td>\n",
       "      <td>396345</td>\n",
       "      <td>0.012950</td>\n",
       "      <td>3474.0</td>\n",
       "      <td>3647.50</td>\n",
       "      <td>0</td>\n",
       "      <td>0.012867</td>\n",
       "    </tr>\n",
       "    <tr>\n",
       "      <th>2020-02-06</th>\n",
       "      <td>3520</td>\n",
       "      <td>3580</td>\n",
       "      <td>3520</td>\n",
       "      <td>3530</td>\n",
       "      <td>582315</td>\n",
       "      <td>0.002841</td>\n",
       "      <td>3480.0</td>\n",
       "      <td>3629.00</td>\n",
       "      <td>0</td>\n",
       "      <td>0.002837</td>\n",
       "    </tr>\n",
       "    <tr>\n",
       "      <th>...</th>\n",
       "      <td>...</td>\n",
       "      <td>...</td>\n",
       "      <td>...</td>\n",
       "      <td>...</td>\n",
       "      <td>...</td>\n",
       "      <td>...</td>\n",
       "      <td>...</td>\n",
       "      <td>...</td>\n",
       "      <td>...</td>\n",
       "      <td>...</td>\n",
       "    </tr>\n",
       "    <tr>\n",
       "      <th>2022-05-04</th>\n",
       "      <td>29350</td>\n",
       "      <td>29400</td>\n",
       "      <td>28300</td>\n",
       "      <td>29200</td>\n",
       "      <td>2661654</td>\n",
       "      <td>0.010381</td>\n",
       "      <td>28790.0</td>\n",
       "      <td>27335.00</td>\n",
       "      <td>1</td>\n",
       "      <td>0.010327</td>\n",
       "    </tr>\n",
       "    <tr>\n",
       "      <th>2022-05-06</th>\n",
       "      <td>28750</td>\n",
       "      <td>29600</td>\n",
       "      <td>28550</td>\n",
       "      <td>29450</td>\n",
       "      <td>3151619</td>\n",
       "      <td>0.008562</td>\n",
       "      <td>28980.0</td>\n",
       "      <td>27517.50</td>\n",
       "      <td>1</td>\n",
       "      <td>0.008525</td>\n",
       "    </tr>\n",
       "    <tr>\n",
       "      <th>2022-05-09</th>\n",
       "      <td>29250</td>\n",
       "      <td>29400</td>\n",
       "      <td>28750</td>\n",
       "      <td>29400</td>\n",
       "      <td>2438194</td>\n",
       "      <td>-0.001698</td>\n",
       "      <td>29180.0</td>\n",
       "      <td>27690.00</td>\n",
       "      <td>1</td>\n",
       "      <td>-0.001699</td>\n",
       "    </tr>\n",
       "    <tr>\n",
       "      <th>2022-05-10</th>\n",
       "      <td>28650</td>\n",
       "      <td>29050</td>\n",
       "      <td>28450</td>\n",
       "      <td>28650</td>\n",
       "      <td>3250120</td>\n",
       "      <td>-0.025510</td>\n",
       "      <td>29120.0</td>\n",
       "      <td>27795.00</td>\n",
       "      <td>1</td>\n",
       "      <td>-0.025841</td>\n",
       "    </tr>\n",
       "    <tr>\n",
       "      <th>2022-05-11</th>\n",
       "      <td>28650</td>\n",
       "      <td>29850</td>\n",
       "      <td>28400</td>\n",
       "      <td>29500</td>\n",
       "      <td>4068556</td>\n",
       "      <td>0.029668</td>\n",
       "      <td>29240.0</td>\n",
       "      <td>27940.00</td>\n",
       "      <td>1</td>\n",
       "      <td>0.029237</td>\n",
       "    </tr>\n",
       "  </tbody>\n",
       "</table>\n",
       "<p>564 rows × 10 columns</p>\n",
       "</div>"
      ],
      "text/plain": [
       "             Open   High    Low  Close   Volume    Change      sma       lma  \\\n",
       "Date                                                                           \n",
       "2020-01-31   3455   3525   3455   3475   639462 -0.007143   3517.0   3695.75   \n",
       "2020-02-03   3435   3435   3340   3400  1032561 -0.021583   3470.0   3678.25   \n",
       "2020-02-04   3400   3530   3400   3475   574954  0.022059   3470.0   3663.25   \n",
       "2020-02-05   3530   3545   3490   3520   396345  0.012950   3474.0   3647.50   \n",
       "2020-02-06   3520   3580   3520   3530   582315  0.002841   3480.0   3629.00   \n",
       "...           ...    ...    ...    ...      ...       ...      ...       ...   \n",
       "2022-05-04  29350  29400  28300  29200  2661654  0.010381  28790.0  27335.00   \n",
       "2022-05-06  28750  29600  28550  29450  3151619  0.008562  28980.0  27517.50   \n",
       "2022-05-09  29250  29400  28750  29400  2438194 -0.001698  29180.0  27690.00   \n",
       "2022-05-10  28650  29050  28450  28650  3250120 -0.025510  29120.0  27795.00   \n",
       "2022-05-11  28650  29850  28400  29500  4068556  0.029668  29240.0  27940.00   \n",
       "\n",
       "            position       rtn  \n",
       "Date                            \n",
       "2020-01-31         0  0.000000  \n",
       "2020-02-03         0 -0.021819  \n",
       "2020-02-04         0  0.021819  \n",
       "2020-02-05         0  0.012867  \n",
       "2020-02-06         0  0.002837  \n",
       "...              ...       ...  \n",
       "2022-05-04         1  0.010327  \n",
       "2022-05-06         1  0.008525  \n",
       "2022-05-09         1 -0.001699  \n",
       "2022-05-10         1 -0.025841  \n",
       "2022-05-11         1  0.029237  \n",
       "\n",
       "[564 rows x 10 columns]"
      ]
     },
     "execution_count": 64,
     "metadata": {},
     "output_type": "execute_result"
    }
   ],
   "source": [
    "df.loc[:, 'rtn'] = get_returns_df(df['Close'], N=1, log=True)\n",
    "df"
   ]
  },
  {
   "cell_type": "code",
   "execution_count": 65,
   "id": "8504d453",
   "metadata": {},
   "outputs": [],
   "source": [
    "df.loc[:, 'str_rtn'] = (df['position'].shift(1) * df['rtn']).fillna(0)"
   ]
  },
  {
   "cell_type": "code",
   "execution_count": 66,
   "id": "db4eefff",
   "metadata": {
    "collapsed": true
   },
   "outputs": [
    {
     "data": {
      "text/html": [
       "<div>\n",
       "<style scoped>\n",
       "    .dataframe tbody tr th:only-of-type {\n",
       "        vertical-align: middle;\n",
       "    }\n",
       "\n",
       "    .dataframe tbody tr th {\n",
       "        vertical-align: top;\n",
       "    }\n",
       "\n",
       "    .dataframe thead th {\n",
       "        text-align: right;\n",
       "    }\n",
       "</style>\n",
       "<table border=\"1\" class=\"dataframe\">\n",
       "  <thead>\n",
       "    <tr style=\"text-align: right;\">\n",
       "      <th></th>\n",
       "      <th>Open</th>\n",
       "      <th>High</th>\n",
       "      <th>Low</th>\n",
       "      <th>Close</th>\n",
       "      <th>Volume</th>\n",
       "      <th>Change</th>\n",
       "      <th>sma</th>\n",
       "      <th>lma</th>\n",
       "      <th>position</th>\n",
       "      <th>rtn</th>\n",
       "      <th>str_rtn</th>\n",
       "      <th>cum_str_rtn</th>\n",
       "    </tr>\n",
       "    <tr>\n",
       "      <th>Date</th>\n",
       "      <th></th>\n",
       "      <th></th>\n",
       "      <th></th>\n",
       "      <th></th>\n",
       "      <th></th>\n",
       "      <th></th>\n",
       "      <th></th>\n",
       "      <th></th>\n",
       "      <th></th>\n",
       "      <th></th>\n",
       "      <th></th>\n",
       "      <th></th>\n",
       "    </tr>\n",
       "  </thead>\n",
       "  <tbody>\n",
       "    <tr>\n",
       "      <th>2020-01-31</th>\n",
       "      <td>3455</td>\n",
       "      <td>3525</td>\n",
       "      <td>3455</td>\n",
       "      <td>3475</td>\n",
       "      <td>639462</td>\n",
       "      <td>-0.007143</td>\n",
       "      <td>3517.0</td>\n",
       "      <td>3695.75</td>\n",
       "      <td>0</td>\n",
       "      <td>0.000000</td>\n",
       "      <td>0.000000</td>\n",
       "      <td>1.000000</td>\n",
       "    </tr>\n",
       "    <tr>\n",
       "      <th>2020-02-03</th>\n",
       "      <td>3435</td>\n",
       "      <td>3435</td>\n",
       "      <td>3340</td>\n",
       "      <td>3400</td>\n",
       "      <td>1032561</td>\n",
       "      <td>-0.021583</td>\n",
       "      <td>3470.0</td>\n",
       "      <td>3678.25</td>\n",
       "      <td>0</td>\n",
       "      <td>-0.021819</td>\n",
       "      <td>-0.000000</td>\n",
       "      <td>1.000000</td>\n",
       "    </tr>\n",
       "    <tr>\n",
       "      <th>2020-02-04</th>\n",
       "      <td>3400</td>\n",
       "      <td>3530</td>\n",
       "      <td>3400</td>\n",
       "      <td>3475</td>\n",
       "      <td>574954</td>\n",
       "      <td>0.022059</td>\n",
       "      <td>3470.0</td>\n",
       "      <td>3663.25</td>\n",
       "      <td>0</td>\n",
       "      <td>0.021819</td>\n",
       "      <td>0.000000</td>\n",
       "      <td>1.000000</td>\n",
       "    </tr>\n",
       "    <tr>\n",
       "      <th>2020-02-05</th>\n",
       "      <td>3530</td>\n",
       "      <td>3545</td>\n",
       "      <td>3490</td>\n",
       "      <td>3520</td>\n",
       "      <td>396345</td>\n",
       "      <td>0.012950</td>\n",
       "      <td>3474.0</td>\n",
       "      <td>3647.50</td>\n",
       "      <td>0</td>\n",
       "      <td>0.012867</td>\n",
       "      <td>0.000000</td>\n",
       "      <td>1.000000</td>\n",
       "    </tr>\n",
       "    <tr>\n",
       "      <th>2020-02-06</th>\n",
       "      <td>3520</td>\n",
       "      <td>3580</td>\n",
       "      <td>3520</td>\n",
       "      <td>3530</td>\n",
       "      <td>582315</td>\n",
       "      <td>0.002841</td>\n",
       "      <td>3480.0</td>\n",
       "      <td>3629.00</td>\n",
       "      <td>0</td>\n",
       "      <td>0.002837</td>\n",
       "      <td>0.000000</td>\n",
       "      <td>1.000000</td>\n",
       "    </tr>\n",
       "    <tr>\n",
       "      <th>...</th>\n",
       "      <td>...</td>\n",
       "      <td>...</td>\n",
       "      <td>...</td>\n",
       "      <td>...</td>\n",
       "      <td>...</td>\n",
       "      <td>...</td>\n",
       "      <td>...</td>\n",
       "      <td>...</td>\n",
       "      <td>...</td>\n",
       "      <td>...</td>\n",
       "      <td>...</td>\n",
       "      <td>...</td>\n",
       "    </tr>\n",
       "    <tr>\n",
       "      <th>2022-05-04</th>\n",
       "      <td>29350</td>\n",
       "      <td>29400</td>\n",
       "      <td>28300</td>\n",
       "      <td>29200</td>\n",
       "      <td>2661654</td>\n",
       "      <td>0.010381</td>\n",
       "      <td>28790.0</td>\n",
       "      <td>27335.00</td>\n",
       "      <td>1</td>\n",
       "      <td>0.010327</td>\n",
       "      <td>0.010327</td>\n",
       "      <td>6.233465</td>\n",
       "    </tr>\n",
       "    <tr>\n",
       "      <th>2022-05-06</th>\n",
       "      <td>28750</td>\n",
       "      <td>29600</td>\n",
       "      <td>28550</td>\n",
       "      <td>29450</td>\n",
       "      <td>3151619</td>\n",
       "      <td>0.008562</td>\n",
       "      <td>28980.0</td>\n",
       "      <td>27517.50</td>\n",
       "      <td>1</td>\n",
       "      <td>0.008525</td>\n",
       "      <td>0.008525</td>\n",
       "      <td>6.286833</td>\n",
       "    </tr>\n",
       "    <tr>\n",
       "      <th>2022-05-09</th>\n",
       "      <td>29250</td>\n",
       "      <td>29400</td>\n",
       "      <td>28750</td>\n",
       "      <td>29400</td>\n",
       "      <td>2438194</td>\n",
       "      <td>-0.001698</td>\n",
       "      <td>29180.0</td>\n",
       "      <td>27690.00</td>\n",
       "      <td>1</td>\n",
       "      <td>-0.001699</td>\n",
       "      <td>-0.001699</td>\n",
       "      <td>6.276160</td>\n",
       "    </tr>\n",
       "    <tr>\n",
       "      <th>2022-05-10</th>\n",
       "      <td>28650</td>\n",
       "      <td>29050</td>\n",
       "      <td>28450</td>\n",
       "      <td>28650</td>\n",
       "      <td>3250120</td>\n",
       "      <td>-0.025510</td>\n",
       "      <td>29120.0</td>\n",
       "      <td>27795.00</td>\n",
       "      <td>1</td>\n",
       "      <td>-0.025841</td>\n",
       "      <td>-0.025841</td>\n",
       "      <td>6.116054</td>\n",
       "    </tr>\n",
       "    <tr>\n",
       "      <th>2022-05-11</th>\n",
       "      <td>28650</td>\n",
       "      <td>29850</td>\n",
       "      <td>28400</td>\n",
       "      <td>29500</td>\n",
       "      <td>4068556</td>\n",
       "      <td>0.029668</td>\n",
       "      <td>29240.0</td>\n",
       "      <td>27940.00</td>\n",
       "      <td>1</td>\n",
       "      <td>0.029237</td>\n",
       "      <td>0.029237</td>\n",
       "      <td>6.297507</td>\n",
       "    </tr>\n",
       "  </tbody>\n",
       "</table>\n",
       "<p>564 rows × 12 columns</p>\n",
       "</div>"
      ],
      "text/plain": [
       "             Open   High    Low  Close   Volume    Change      sma       lma  \\\n",
       "Date                                                                           \n",
       "2020-01-31   3455   3525   3455   3475   639462 -0.007143   3517.0   3695.75   \n",
       "2020-02-03   3435   3435   3340   3400  1032561 -0.021583   3470.0   3678.25   \n",
       "2020-02-04   3400   3530   3400   3475   574954  0.022059   3470.0   3663.25   \n",
       "2020-02-05   3530   3545   3490   3520   396345  0.012950   3474.0   3647.50   \n",
       "2020-02-06   3520   3580   3520   3530   582315  0.002841   3480.0   3629.00   \n",
       "...           ...    ...    ...    ...      ...       ...      ...       ...   \n",
       "2022-05-04  29350  29400  28300  29200  2661654  0.010381  28790.0  27335.00   \n",
       "2022-05-06  28750  29600  28550  29450  3151619  0.008562  28980.0  27517.50   \n",
       "2022-05-09  29250  29400  28750  29400  2438194 -0.001698  29180.0  27690.00   \n",
       "2022-05-10  28650  29050  28450  28650  3250120 -0.025510  29120.0  27795.00   \n",
       "2022-05-11  28650  29850  28400  29500  4068556  0.029668  29240.0  27940.00   \n",
       "\n",
       "            position       rtn   str_rtn  cum_str_rtn  \n",
       "Date                                                   \n",
       "2020-01-31         0  0.000000  0.000000     1.000000  \n",
       "2020-02-03         0 -0.021819 -0.000000     1.000000  \n",
       "2020-02-04         0  0.021819  0.000000     1.000000  \n",
       "2020-02-05         0  0.012867  0.000000     1.000000  \n",
       "2020-02-06         0  0.002837  0.000000     1.000000  \n",
       "...              ...       ...       ...          ...  \n",
       "2022-05-04         1  0.010327  0.010327     6.233465  \n",
       "2022-05-06         1  0.008525  0.008525     6.286833  \n",
       "2022-05-09         1 -0.001699 -0.001699     6.276160  \n",
       "2022-05-10         1 -0.025841 -0.025841     6.116054  \n",
       "2022-05-11         1  0.029237  0.029237     6.297507  \n",
       "\n",
       "[564 rows x 12 columns]"
      ]
     },
     "execution_count": 66,
     "metadata": {},
     "output_type": "execute_result"
    }
   ],
   "source": [
    "df.loc[:, 'cum_str_rtn'] = get_cum_returns_df(df['str_rtn'], log=True)\n",
    "df"
   ]
  },
  {
   "cell_type": "code",
   "execution_count": 70,
   "id": "556bd0ce",
   "metadata": {},
   "outputs": [],
   "source": [
    "cagr = get_cagr_series(df['cum_str_rtn'], num_day_in_year = 250)\n",
    "sharp_ratio = get_sharpe_ratio(df['str_rtn'], yearly_rfr = 0.025)\n",
    "mdd, ldd_period, ldd_st, ldd_ed = get_drawdown_infos(df['cum_str_rtn'])"
   ]
  },
  {
   "cell_type": "code",
   "execution_count": 72,
   "id": "89877cd9",
   "metadata": {},
   "outputs": [
    {
     "name": "stdout",
     "output_type": "stream",
     "text": [
      "cagr : 1.2606921683016856\n",
      "sharp_ratio : 1.716825821168096\n",
      "Max_drawdown : -0.3247804833107112\n",
      "Longest_dd_period : -281\n",
      "Longest_dd_st_date : 2021-05-27 00:00:00\n",
      "Longest_dd_ed_date : 2022-03-04 00:00:00\n"
     ]
    }
   ],
   "source": [
    "print('cagr :', cagr)\n",
    "print('sharp_ratio :', sharp_ratio)\n",
    "print('Max_drawdown :', mdd)\n",
    "print('Longest_dd_period :', ldd_period)\n",
    "print('Longest_dd_st_date :', ldd_st)\n",
    "print('Longest_dd_ed_date :', ldd_ed)"
   ]
  },
  {
   "cell_type": "code",
   "execution_count": 69,
   "id": "e0aac02f",
   "metadata": {},
   "outputs": [
    {
     "data": {
      "text/plain": [
       "<AxesSubplot:xlabel='Date'>"
      ]
     },
     "execution_count": 69,
     "metadata": {},
     "output_type": "execute_result"
    },
    {
     "data": {
      "image/png": "[encoded data removed]",
      "text/plain": [
       "<Figure size 1080x360 with 1 Axes>"
      ]
     },
     "metadata": {
      "needs_background": "light"
     },
     "output_type": "display_data"
    }
   ],
   "source": [
    "df.loc[:, 'cum_str_rtn'].plot(figsize=(15,5))"
   ]
  },
  {
   "cell_type": "code",
   "execution_count": null,
   "id": "cadb6833",
   "metadata": {},
   "outputs": [],
   "source": []
  },
  {
   "cell_type": "markdown",
   "id": "8e81fdaf",
   "metadata": {},
   "source": [
    "# Momentum"
   ]
  },
  {
   "cell_type": "code",
   "execution_count": 73,
   "id": "925be81f",
   "metadata": {},
   "outputs": [],
   "source": [
    "df = fdr.DataReader('011200', '2020')"
   ]
  },
  {
   "cell_type": "code",
   "execution_count": 74,
   "id": "27dff90c",
   "metadata": {},
   "outputs": [],
   "source": [
    "momentum_window=20*3"
   ]
  },
  {
   "cell_type": "code",
   "execution_count": 75,
   "id": "6cddd2d8",
   "metadata": {
    "collapsed": true
   },
   "outputs": [
    {
     "data": {
      "text/plain": [
       "Date\n",
       "2020-03-27    0.000000\n",
       "2020-03-30   -0.252000\n",
       "2020-03-31   -0.178808\n",
       "2020-04-01   -0.178618\n",
       "2020-04-02   -0.161538\n",
       "                ...   \n",
       "2022-05-04    0.258621\n",
       "2022-05-06    0.206967\n",
       "2022-05-09    0.202454\n",
       "2022-05-10    0.162272\n",
       "2022-05-11    0.207392\n",
       "Name: Close, Length: 524, dtype: float64"
      ]
     },
     "execution_count": 75,
     "metadata": {},
     "output_type": "execute_result"
    }
   ],
   "source": [
    "get_returns_df(df['Close'], N=momentum_window)"
   ]
  },
  {
   "cell_type": "code",
   "execution_count": 76,
   "id": "bedcfd7d",
   "metadata": {},
   "outputs": [
    {
     "data": {
      "text/plain": [
       "Date\n",
       "2020-03-27    0.0\n",
       "2020-03-30   -1.0\n",
       "2020-03-31   -1.0\n",
       "2020-04-01   -1.0\n",
       "2020-04-02   -1.0\n",
       "Name: Close, dtype: float64"
      ]
     },
     "execution_count": 76,
     "metadata": {},
     "output_type": "execute_result"
    }
   ],
   "source": [
    "position = np.sign(get_returns_df(df['Close'], N=momentum_window))\n",
    "position.head()"
   ]
  },
  {
   "cell_type": "code",
   "execution_count": 77,
   "id": "0271c8d9",
   "metadata": {},
   "outputs": [
    {
     "data": {
      "text/plain": [
       " 1.0    366\n",
       "-1.0    156\n",
       " 0.0      2\n",
       "Name: Close, dtype: int64"
      ]
     },
     "execution_count": 77,
     "metadata": {},
     "output_type": "execute_result"
    }
   ],
   "source": [
    "position.value_counts()"
   ]
  },
  {
   "cell_type": "code",
   "execution_count": 78,
   "id": "0425bc92",
   "metadata": {},
   "outputs": [],
   "source": [
    "position[position == -1] = 0"
   ]
  },
  {
   "cell_type": "code",
   "execution_count": 79,
   "id": "7f810ce7",
   "metadata": {},
   "outputs": [
    {
     "data": {
      "text/plain": [
       "1.0    366\n",
       "0.0    158\n",
       "Name: Close, dtype: int64"
      ]
     },
     "execution_count": 79,
     "metadata": {},
     "output_type": "execute_result"
    }
   ],
   "source": [
    "position.value_counts()"
   ]
  },
  {
   "cell_type": "code",
   "execution_count": 80,
   "id": "0314643d",
   "metadata": {},
   "outputs": [],
   "source": [
    "df.loc[:, 'position'] = position"
   ]
  },
  {
   "cell_type": "code",
   "execution_count": 81,
   "id": "d5fd1450",
   "metadata": {},
   "outputs": [],
   "source": [
    "df.dropna(inplace=True)"
   ]
  },
  {
   "cell_type": "code",
   "execution_count": 82,
   "id": "cfa0ebfb",
   "metadata": {},
   "outputs": [],
   "source": [
    "long_index = df[(df['position'] - df['position'].shift(1)) == 1].index\n",
    "exit_index = df[(df['position'] - df['position'].shift(1)) == -1].index"
   ]
  },
  {
   "cell_type": "code",
   "execution_count": 83,
   "id": "26f3477d",
   "metadata": {},
   "outputs": [
    {
     "data": {
      "text/plain": [
       "<AxesSubplot:xlabel='Date'>"
      ]
     },
     "execution_count": 83,
     "metadata": {},
     "output_type": "execute_result"
    },
    {
     "data": {
      "image/png": "[encoded data removed]",
      "text/plain": [
       "<Figure size 1080x360 with 1 Axes>"
      ]
     },
     "metadata": {
      "needs_background": "light"
     },
     "output_type": "display_data"
    }
   ],
   "source": [
    "ax = df.loc[:, 'Close'].loc['2018-01-01':].plot(figsize=(15,5))\n",
    "\n",
    "df.loc[long_index, 'Close'].plot(ax=ax, marker='o', color='red', linestyle='none', markersize=5)\n",
    "df.loc[exit_index, 'Close'].plot(ax=ax, marker='o', color='blue', linestyle='none', markersize=5)"
   ]
  },
  {
   "cell_type": "code",
   "execution_count": 84,
   "id": "dcd42475",
   "metadata": {},
   "outputs": [],
   "source": [
    "df.loc[:, 'rtn'] = get_returns_df(df['Close'], N=1, log=True)\n",
    "df.loc[:, 'str_rtn'] = (df['position'].shift(1) * df['rtn']).fillna(0)\n",
    "\n",
    "df.loc[:, 'cum_str_rtn'] = get_cum_returns_df(df['str_rtn'], log=True)"
   ]
  },
  {
   "cell_type": "code",
   "execution_count": 85,
   "id": "8d20cb3b",
   "metadata": {},
   "outputs": [],
   "source": [
    "cagr = get_cagr_series(df['cum_str_rtn'], num_day_in_year = 250)\n",
    "sharp_ratio = get_sharpe_ratio(df['str_rtn'], yearly_rfr = 0.025)\n",
    "mdd, ldd_period, ldd_st, ldd_ed = get_drawdown_infos(df['cum_str_rtn'])"
   ]
  },
  {
   "cell_type": "code",
   "execution_count": 86,
   "id": "c78e4d3c",
   "metadata": {},
   "outputs": [
    {
     "name": "stdout",
     "output_type": "stream",
     "text": [
      "cagr : 1.9867024926163044\n",
      "sharp_ratio : 2.1057726068209486\n",
      "Max_drawdown : -0.2951230761890118\n",
      "Longest_dd_period : -52\n",
      "Longest_dd_st_date : 2020-11-13 00:00:00\n",
      "Longest_dd_ed_date : 2021-01-04 00:00:00\n"
     ]
    }
   ],
   "source": [
    "print('cagr :', cagr)\n",
    "print('sharp_ratio :', sharp_ratio)\n",
    "print('Max_drawdown :', mdd)\n",
    "print('Longest_dd_period :', ldd_period)\n",
    "print('Longest_dd_st_date :', ldd_st)\n",
    "print('Longest_dd_ed_date :', ldd_ed)"
   ]
  },
  {
   "cell_type": "code",
   "execution_count": 87,
   "id": "feba5ed5",
   "metadata": {},
   "outputs": [
    {
     "data": {
      "text/plain": [
       "<AxesSubplot:xlabel='Date'>"
      ]
     },
     "execution_count": 87,
     "metadata": {},
     "output_type": "execute_result"
    },
    {
     "data": {
      "image/png": "[encoded data removed]",
      "text/plain": [
       "<Figure size 1080x360 with 1 Axes>"
      ]
     },
     "metadata": {
      "needs_background": "light"
     },
     "output_type": "display_data"
    }
   ],
   "source": [
    "df.loc[:, 'cum_str_rtn'].plot(figsize=(15,5))"
   ]
  },
  {
   "cell_type": "code",
   "execution_count": 89,
   "id": "e8d4bce9",
   "metadata": {},
   "outputs": [],
   "source": [
    "# 모멘텀 전략 함수 \n",
    "\n",
    "def momentum(df, mw):\n",
    "    \n",
    "    momentum_window=mw\n",
    "    \n",
    "    position = np.sign(get_returns_df(df['Close'], N=momentum_window))\n",
    "    position[position == -1] = 0\n",
    "    \n",
    "    df.loc[:, 'position'] = position\n",
    "    df.dropna(inplace=True)\n",
    "    \n",
    "    df.loc[:, 'rtn'] = get_returns_df(df['Close'], N=1, log=True)\n",
    "    df.loc[:, 'str_rtn'] = (df['position'].shift(1) * df['rtn']).fillna(0)\n",
    "\n",
    "    df.loc[:, 'cum_str_rtn'] = get_cum_returns_df(df['str_rtn'], log=True)\n",
    "    \n",
    "    cagr = get_cagr_series(df['cum_str_rtn'], num_day_in_year = 250)\n",
    "    sharp_ratio = get_sharpe_ratio(df['str_rtn'], yearly_rfr = 0.025)\n",
    "    mdd, ldd_period, ldd_st, ldd_ed = get_drawdown_infos(df['cum_str_rtn'])\n",
    "    \n",
    "    print('cagr :', cagr)\n",
    "    print('sharp_ratio :', sharp_ratio)\n",
    "    print('Max_drawdown :', mdd)\n",
    "    print('Longest_dd_period :', ldd_period)\n",
    "    print('Longest_dd_st_date :', ldd_st)\n",
    "    print('Longest_dd_ed_date :', ldd_ed)\n",
    "    \n",
    "    df.loc[:, 'cum_str_rtn'].plot(figsize=(15,5))"
   ]
  },
  {
   "cell_type": "code",
   "execution_count": 90,
   "id": "39832d3d",
   "metadata": {
    "collapsed": true
   },
   "outputs": [
    {
     "name": "stdout",
     "output_type": "stream",
     "text": [
      "cagr : 1.9867024926163044\n",
      "sharp_ratio : 2.1057726068209486\n",
      "Max_drawdown : -0.2951230761890118\n",
      "Longest_dd_period : -52\n",
      "Longest_dd_st_date : 2020-11-13 00:00:00\n",
      "Longest_dd_ed_date : 2021-01-04 00:00:00\n"
     ]
    },
    {
     "data": {
      "image/png": "[encoded data removed]",
      "text/plain": [
       "<Figure size 1080x360 with 1 Axes>"
      ]
     },
     "metadata": {
      "needs_background": "light"
     },
     "output_type": "display_data"
    }
   ],
   "source": [
    "df = fdr.DataReader('011200', '2020')\n",
    "mw = 60\n",
    "\n",
    "momentum(df, mw)"
   ]
  },
  {
   "cell_type": "code",
   "execution_count": null,
   "id": "5f410847",
   "metadata": {},
   "outputs": [],
   "source": []
  },
  {
   "cell_type": "markdown",
   "id": "d1e4202f",
   "metadata": {},
   "source": [
    "# Mean-Reversion"
   ]
  },
  {
   "cell_type": "code",
   "execution_count": 91,
   "id": "33a2a9ae",
   "metadata": {},
   "outputs": [
    {
     "data": {
      "text/html": [
       "<div>\n",
       "<style scoped>\n",
       "    .dataframe tbody tr th:only-of-type {\n",
       "        vertical-align: middle;\n",
       "    }\n",
       "\n",
       "    .dataframe tbody tr th {\n",
       "        vertical-align: top;\n",
       "    }\n",
       "\n",
       "    .dataframe thead th {\n",
       "        text-align: right;\n",
       "    }\n",
       "</style>\n",
       "<table border=\"1\" class=\"dataframe\">\n",
       "  <thead>\n",
       "    <tr style=\"text-align: right;\">\n",
       "      <th></th>\n",
       "      <th>Open</th>\n",
       "      <th>High</th>\n",
       "      <th>Low</th>\n",
       "      <th>Close</th>\n",
       "      <th>Volume</th>\n",
       "      <th>Change</th>\n",
       "    </tr>\n",
       "    <tr>\n",
       "      <th>Date</th>\n",
       "      <th></th>\n",
       "      <th></th>\n",
       "      <th></th>\n",
       "      <th></th>\n",
       "      <th></th>\n",
       "      <th></th>\n",
       "    </tr>\n",
       "  </thead>\n",
       "  <tbody>\n",
       "    <tr>\n",
       "      <th>2020-01-02</th>\n",
       "      <td>3555</td>\n",
       "      <td>3770</td>\n",
       "      <td>3555</td>\n",
       "      <td>3750</td>\n",
       "      <td>1799891</td>\n",
       "      <td>0.056338</td>\n",
       "    </tr>\n",
       "    <tr>\n",
       "      <th>2020-01-03</th>\n",
       "      <td>3765</td>\n",
       "      <td>3865</td>\n",
       "      <td>3745</td>\n",
       "      <td>3775</td>\n",
       "      <td>1567072</td>\n",
       "      <td>0.006667</td>\n",
       "    </tr>\n",
       "    <tr>\n",
       "      <th>2020-01-06</th>\n",
       "      <td>3725</td>\n",
       "      <td>3840</td>\n",
       "      <td>3660</td>\n",
       "      <td>3835</td>\n",
       "      <td>1312388</td>\n",
       "      <td>0.015894</td>\n",
       "    </tr>\n",
       "    <tr>\n",
       "      <th>2020-01-07</th>\n",
       "      <td>3840</td>\n",
       "      <td>3920</td>\n",
       "      <td>3810</td>\n",
       "      <td>3900</td>\n",
       "      <td>1300247</td>\n",
       "      <td>0.016949</td>\n",
       "    </tr>\n",
       "    <tr>\n",
       "      <th>2020-01-08</th>\n",
       "      <td>3845</td>\n",
       "      <td>3960</td>\n",
       "      <td>3740</td>\n",
       "      <td>3765</td>\n",
       "      <td>1745074</td>\n",
       "      <td>-0.034615</td>\n",
       "    </tr>\n",
       "  </tbody>\n",
       "</table>\n",
       "</div>"
      ],
      "text/plain": [
       "            Open  High   Low  Close   Volume    Change\n",
       "Date                                                  \n",
       "2020-01-02  3555  3770  3555   3750  1799891  0.056338\n",
       "2020-01-03  3765  3865  3745   3775  1567072  0.006667\n",
       "2020-01-06  3725  3840  3660   3835  1312388  0.015894\n",
       "2020-01-07  3840  3920  3810   3900  1300247  0.016949\n",
       "2020-01-08  3845  3960  3740   3765  1745074 -0.034615"
      ]
     },
     "execution_count": 91,
     "metadata": {},
     "output_type": "execute_result"
    }
   ],
   "source": [
    "df = fdr.DataReader('011200', '2020')\n",
    "df.head()"
   ]
  },
  {
   "cell_type": "code",
   "execution_count": 92,
   "id": "599f5ea5",
   "metadata": {
    "collapsed": true
   },
   "outputs": [
    {
     "data": {
      "text/html": [
       "<div>\n",
       "<style scoped>\n",
       "    .dataframe tbody tr th:only-of-type {\n",
       "        vertical-align: middle;\n",
       "    }\n",
       "\n",
       "    .dataframe tbody tr th {\n",
       "        vertical-align: top;\n",
       "    }\n",
       "\n",
       "    .dataframe thead th {\n",
       "        text-align: right;\n",
       "    }\n",
       "</style>\n",
       "<table border=\"1\" class=\"dataframe\">\n",
       "  <thead>\n",
       "    <tr style=\"text-align: right;\">\n",
       "      <th></th>\n",
       "      <th>Close</th>\n",
       "    </tr>\n",
       "    <tr>\n",
       "      <th>Date</th>\n",
       "      <th></th>\n",
       "    </tr>\n",
       "  </thead>\n",
       "  <tbody>\n",
       "    <tr>\n",
       "      <th>2020-01-02</th>\n",
       "      <td>3750</td>\n",
       "    </tr>\n",
       "    <tr>\n",
       "      <th>2020-01-03</th>\n",
       "      <td>3775</td>\n",
       "    </tr>\n",
       "    <tr>\n",
       "      <th>2020-01-06</th>\n",
       "      <td>3835</td>\n",
       "    </tr>\n",
       "    <tr>\n",
       "      <th>2020-01-07</th>\n",
       "      <td>3900</td>\n",
       "    </tr>\n",
       "    <tr>\n",
       "      <th>2020-01-08</th>\n",
       "      <td>3765</td>\n",
       "    </tr>\n",
       "    <tr>\n",
       "      <th>...</th>\n",
       "      <td>...</td>\n",
       "    </tr>\n",
       "    <tr>\n",
       "      <th>2022-05-04</th>\n",
       "      <td>29200</td>\n",
       "    </tr>\n",
       "    <tr>\n",
       "      <th>2022-05-06</th>\n",
       "      <td>29450</td>\n",
       "    </tr>\n",
       "    <tr>\n",
       "      <th>2022-05-09</th>\n",
       "      <td>29400</td>\n",
       "    </tr>\n",
       "    <tr>\n",
       "      <th>2022-05-10</th>\n",
       "      <td>28650</td>\n",
       "    </tr>\n",
       "    <tr>\n",
       "      <th>2022-05-11</th>\n",
       "      <td>29400</td>\n",
       "    </tr>\n",
       "  </tbody>\n",
       "</table>\n",
       "<p>583 rows × 1 columns</p>\n",
       "</div>"
      ],
      "text/plain": [
       "            Close\n",
       "Date             \n",
       "2020-01-02   3750\n",
       "2020-01-03   3775\n",
       "2020-01-06   3835\n",
       "2020-01-07   3900\n",
       "2020-01-08   3765\n",
       "...           ...\n",
       "2022-05-04  29200\n",
       "2022-05-06  29450\n",
       "2022-05-09  29400\n",
       "2022-05-10  28650\n",
       "2022-05-11  29400\n",
       "\n",
       "[583 rows x 1 columns]"
      ]
     },
     "execution_count": 92,
     "metadata": {},
     "output_type": "execute_result"
    }
   ],
   "source": [
    "df = df[['Close']]\n",
    "df"
   ]
  },
  {
   "cell_type": "code",
   "execution_count": 93,
   "id": "d18d5ddf",
   "metadata": {},
   "outputs": [],
   "source": [
    "window = 20\n",
    "df.loc[:, 'sma'] = df['Close'].rolling(window).mean()"
   ]
  },
  {
   "cell_type": "code",
   "execution_count": 94,
   "id": "7f469b41",
   "metadata": {},
   "outputs": [],
   "source": [
    "rolling_std = df['Close'].rolling(window).std()"
   ]
  },
  {
   "cell_type": "code",
   "execution_count": 95,
   "id": "29054303",
   "metadata": {},
   "outputs": [],
   "source": [
    "df.dropna(inplace=True)"
   ]
  },
  {
   "cell_type": "code",
   "execution_count": 97,
   "id": "cf65015c",
   "metadata": {},
   "outputs": [],
   "source": [
    "df['+threshold'] = df['sma'] + 2*rolling_std\n",
    "df['-threshold'] = df['sma'] - 2*rolling_std"
   ]
  },
  {
   "cell_type": "code",
   "execution_count": 98,
   "id": "401cc614",
   "metadata": {},
   "outputs": [
    {
     "data": {
      "text/plain": [
       "<AxesSubplot:xlabel='Date'>"
      ]
     },
     "execution_count": 98,
     "metadata": {},
     "output_type": "execute_result"
    },
    {
     "data": {
      "image/png": "[encoded data removed]",
      "text/plain": [
       "<Figure size 1080x360 with 1 Axes>"
      ]
     },
     "metadata": {
      "needs_background": "light"
     },
     "output_type": "display_data"
    }
   ],
   "source": [
    "df[['Close', 'sma', '+threshold', '-threshold']].iloc[-300:].plot(figsize=(15,5))"
   ]
  },
  {
   "cell_type": "code",
   "execution_count": 99,
   "id": "7ae5fe0d",
   "metadata": {},
   "outputs": [],
   "source": [
    "pos1 = np.where(df['Close'] <= df['-threshold'], 1, 0)\n",
    "pos2 = np.where(df['Close'] >= df['+threshold'], -1, 0)\n",
    "\n",
    "df.loc[:, 'position'] = pos1 + pos2"
   ]
  },
  {
   "cell_type": "code",
   "execution_count": 100,
   "id": "5f37e5f4",
   "metadata": {
    "collapsed": true
   },
   "outputs": [
    {
     "data": {
      "text/plain": [
       "DatetimeIndex(['2020-02-17', '2020-05-22', '2020-06-04', '2020-07-29',\n",
       "               '2020-08-06', '2020-09-10', '2020-10-23', '2020-11-09',\n",
       "               '2020-12-17', '2021-01-04', '2021-02-15', '2021-02-17',\n",
       "               '2021-02-25', '2021-03-03', '2021-03-05', '2021-03-22',\n",
       "               '2021-04-19', '2021-04-26', '2021-05-10', '2021-05-12',\n",
       "               '2021-07-05', '2022-02-17', '2022-03-04'],\n",
       "              dtype='datetime64[ns]', name='Date', freq=None)"
      ]
     },
     "execution_count": 100,
     "metadata": {},
     "output_type": "execute_result"
    }
   ],
   "source": [
    "short_index = df[\n",
    "    ((df['position'] - df['position'].shift()) == -1) & (df['position'] == -1)\n",
    "].index\n",
    "\n",
    "short_index"
   ]
  },
  {
   "cell_type": "code",
   "execution_count": 101,
   "id": "f68dd46b",
   "metadata": {
    "collapsed": true
   },
   "outputs": [
    {
     "data": {
      "text/plain": [
       "DatetimeIndex(['2020-03-16', '2020-03-18', '2021-08-03', '2021-09-30',\n",
       "               '2021-11-23', '2021-11-30', '2022-01-25', '2022-01-27',\n",
       "               '2022-04-07'],\n",
       "              dtype='datetime64[ns]', name='Date', freq=None)"
      ]
     },
     "execution_count": 101,
     "metadata": {},
     "output_type": "execute_result"
    }
   ],
   "source": [
    "long_index = df[\n",
    "    ((df['position'] - df['position'].shift()) ==1) & (df['position'] == 1)\n",
    "].index\n",
    "\n",
    "long_index"
   ]
  },
  {
   "cell_type": "code",
   "execution_count": 102,
   "id": "fa89b59b",
   "metadata": {},
   "outputs": [
    {
     "data": {
      "text/plain": [
       "<AxesSubplot:xlabel='Date'>"
      ]
     },
     "execution_count": 102,
     "metadata": {},
     "output_type": "execute_result"
    },
    {
     "data": {
      "image/png": "[encoded data removed]",
      "text/plain": [
       "<Figure size 1080x360 with 1 Axes>"
      ]
     },
     "metadata": {
      "needs_background": "light"
     },
     "output_type": "display_data"
    }
   ],
   "source": [
    "ax = df[['Close', 'sma', '+threshold', '-threshold']].plot(figsize=(15,5))\n",
    "df.loc[short_index, 'Close'].plot(ax=ax, marker='o', markersize=5, linestyle='none', color='blue')\n",
    "df.loc[long_index, 'Close'].plot(ax=ax, marker='o', markersize=5, linestyle='none', color='red')"
   ]
  },
  {
   "cell_type": "code",
   "execution_count": 103,
   "id": "9cce602c",
   "metadata": {},
   "outputs": [],
   "source": [
    "df['rtn'] = get_returns_df(df['Close'], log=True)\n",
    "df['str_rtn'] = (df['position'].shift() * df['rtn']).fillna(0)"
   ]
  },
  {
   "cell_type": "code",
   "execution_count": 104,
   "id": "d0c37114",
   "metadata": {},
   "outputs": [],
   "source": [
    "df.loc[:, 'cum_rtn'] = get_cum_returns_df(df['rtn'], log=True)\n",
    "df.loc[:, 'str_cum_rtn'] = get_cum_returns_df(df['str_rtn'], log=True)"
   ]
  },
  {
   "cell_type": "code",
   "execution_count": 105,
   "id": "6ad00474",
   "metadata": {
    "collapsed": true
   },
   "outputs": [
    {
     "data": {
      "text/plain": [
       "<AxesSubplot:xlabel='Date'>"
      ]
     },
     "execution_count": 105,
     "metadata": {},
     "output_type": "execute_result"
    },
    {
     "data": {
      "image/png": "[encoded data removed]",
      "text/plain": [
       "<Figure size 1080x360 with 1 Axes>"
      ]
     },
     "metadata": {
      "needs_background": "light"
     },
     "output_type": "display_data"
    }
   ],
   "source": [
    "df['str_cum_rtn'].plot(figsize=(15,5))"
   ]
  },
  {
   "cell_type": "code",
   "execution_count": 106,
   "id": "405410d6",
   "metadata": {},
   "outputs": [],
   "source": [
    "def backtest_eval(scr, sr):\n",
    "\n",
    "    cagr = get_cagr_series(df[scr], num_day_in_year = 250)\n",
    "    sharp_ratio = get_sharpe_ratio(df[sr], yearly_rfr = 0.025)\n",
    "    mdd, ldd_period, ldd_st, ldd_ed = get_drawdown_infos(df[scr])\n",
    "\n",
    "    print('cagr :', cagr)\n",
    "    print('sharp_ratio :', sharp_ratio)\n",
    "    print('Max_drawdown :', mdd)\n",
    "    print('Longest_dd_period :', ldd_period)\n",
    "    print('Longest_dd_st_date :', ldd_st)\n",
    "    print('Longest_dd_ed_date :', ldd_ed)"
   ]
  },
  {
   "cell_type": "code",
   "execution_count": 107,
   "id": "3db33ef7",
   "metadata": {},
   "outputs": [
    {
     "name": "stdout",
     "output_type": "stream",
     "text": [
      "cagr : -0.32445568660168045\n",
      "sharp_ratio : -1.449308563649617\n",
      "Max_drawdown : -0.6404857386272115\n",
      "Longest_dd_period : -3\n",
      "Longest_dd_st_date : 2020-01-31 00:00:00\n",
      "Longest_dd_ed_date : 2020-02-03 00:00:00\n"
     ]
    }
   ],
   "source": [
    "cr = 'str_cum_rtn'\n",
    "sr = 'str_rtn'\n",
    "\n",
    "backtest_eval(cr, sr)"
   ]
  },
  {
   "cell_type": "code",
   "execution_count": null,
   "id": "7e394f0e",
   "metadata": {},
   "outputs": [],
   "source": []
  },
  {
   "cell_type": "code",
   "execution_count": null,
   "id": "ad740731",
   "metadata": {},
   "outputs": [],
   "source": []
  },
  {
   "cell_type": "markdown",
   "id": "5be92b98",
   "metadata": {},
   "source": [
    "## 변동성 돌파 전략"
   ]
  },
  {
   "cell_type": "code",
   "execution_count": 108,
   "id": "ad6e4cd3",
   "metadata": {},
   "outputs": [
    {
     "data": {
      "text/html": [
       "<div>\n",
       "<style scoped>\n",
       "    .dataframe tbody tr th:only-of-type {\n",
       "        vertical-align: middle;\n",
       "    }\n",
       "\n",
       "    .dataframe tbody tr th {\n",
       "        vertical-align: top;\n",
       "    }\n",
       "\n",
       "    .dataframe thead th {\n",
       "        text-align: right;\n",
       "    }\n",
       "</style>\n",
       "<table border=\"1\" class=\"dataframe\">\n",
       "  <thead>\n",
       "    <tr style=\"text-align: right;\">\n",
       "      <th></th>\n",
       "      <th>Open</th>\n",
       "      <th>High</th>\n",
       "      <th>Low</th>\n",
       "      <th>Close</th>\n",
       "      <th>Volume</th>\n",
       "      <th>Change</th>\n",
       "    </tr>\n",
       "    <tr>\n",
       "      <th>Date</th>\n",
       "      <th></th>\n",
       "      <th></th>\n",
       "      <th></th>\n",
       "      <th></th>\n",
       "      <th></th>\n",
       "      <th></th>\n",
       "    </tr>\n",
       "  </thead>\n",
       "  <tbody>\n",
       "    <tr>\n",
       "      <th>2020-01-02</th>\n",
       "      <td>3555</td>\n",
       "      <td>3770</td>\n",
       "      <td>3555</td>\n",
       "      <td>3750</td>\n",
       "      <td>1799891</td>\n",
       "      <td>0.056338</td>\n",
       "    </tr>\n",
       "    <tr>\n",
       "      <th>2020-01-03</th>\n",
       "      <td>3765</td>\n",
       "      <td>3865</td>\n",
       "      <td>3745</td>\n",
       "      <td>3775</td>\n",
       "      <td>1567072</td>\n",
       "      <td>0.006667</td>\n",
       "    </tr>\n",
       "    <tr>\n",
       "      <th>2020-01-06</th>\n",
       "      <td>3725</td>\n",
       "      <td>3840</td>\n",
       "      <td>3660</td>\n",
       "      <td>3835</td>\n",
       "      <td>1312388</td>\n",
       "      <td>0.015894</td>\n",
       "    </tr>\n",
       "    <tr>\n",
       "      <th>2020-01-07</th>\n",
       "      <td>3840</td>\n",
       "      <td>3920</td>\n",
       "      <td>3810</td>\n",
       "      <td>3900</td>\n",
       "      <td>1300247</td>\n",
       "      <td>0.016949</td>\n",
       "    </tr>\n",
       "    <tr>\n",
       "      <th>2020-01-08</th>\n",
       "      <td>3845</td>\n",
       "      <td>3960</td>\n",
       "      <td>3740</td>\n",
       "      <td>3765</td>\n",
       "      <td>1745074</td>\n",
       "      <td>-0.034615</td>\n",
       "    </tr>\n",
       "  </tbody>\n",
       "</table>\n",
       "</div>"
      ],
      "text/plain": [
       "            Open  High   Low  Close   Volume    Change\n",
       "Date                                                  \n",
       "2020-01-02  3555  3770  3555   3750  1799891  0.056338\n",
       "2020-01-03  3765  3865  3745   3775  1567072  0.006667\n",
       "2020-01-06  3725  3840  3660   3835  1312388  0.015894\n",
       "2020-01-07  3840  3920  3810   3900  1300247  0.016949\n",
       "2020-01-08  3845  3960  3740   3765  1745074 -0.034615"
      ]
     },
     "execution_count": 108,
     "metadata": {},
     "output_type": "execute_result"
    }
   ],
   "source": [
    "df = fdr.DataReader('011200', '2020')\n",
    "df.head()"
   ]
  },
  {
   "cell_type": "code",
   "execution_count": 109,
   "id": "8a204597",
   "metadata": {},
   "outputs": [],
   "source": [
    "df = df[['Open', 'High', 'Close', 'Low']]"
   ]
  },
  {
   "cell_type": "code",
   "execution_count": 110,
   "id": "4067b3a0",
   "metadata": {},
   "outputs": [
    {
     "data": {
      "text/html": [
       "<div>\n",
       "<style scoped>\n",
       "    .dataframe tbody tr th:only-of-type {\n",
       "        vertical-align: middle;\n",
       "    }\n",
       "\n",
       "    .dataframe tbody tr th {\n",
       "        vertical-align: top;\n",
       "    }\n",
       "\n",
       "    .dataframe thead th {\n",
       "        text-align: right;\n",
       "    }\n",
       "</style>\n",
       "<table border=\"1\" class=\"dataframe\">\n",
       "  <thead>\n",
       "    <tr style=\"text-align: right;\">\n",
       "      <th></th>\n",
       "      <th>Open</th>\n",
       "      <th>High</th>\n",
       "      <th>Close</th>\n",
       "      <th>Low</th>\n",
       "      <th>range</th>\n",
       "      <th>threshold</th>\n",
       "    </tr>\n",
       "    <tr>\n",
       "      <th>Date</th>\n",
       "      <th></th>\n",
       "      <th></th>\n",
       "      <th></th>\n",
       "      <th></th>\n",
       "      <th></th>\n",
       "      <th></th>\n",
       "    </tr>\n",
       "  </thead>\n",
       "  <tbody>\n",
       "    <tr>\n",
       "      <th>2020-01-02</th>\n",
       "      <td>3555</td>\n",
       "      <td>3770</td>\n",
       "      <td>3750</td>\n",
       "      <td>3555</td>\n",
       "      <td>215</td>\n",
       "      <td>NaN</td>\n",
       "    </tr>\n",
       "    <tr>\n",
       "      <th>2020-01-03</th>\n",
       "      <td>3765</td>\n",
       "      <td>3865</td>\n",
       "      <td>3775</td>\n",
       "      <td>3745</td>\n",
       "      <td>120</td>\n",
       "      <td>3894.0</td>\n",
       "    </tr>\n",
       "    <tr>\n",
       "      <th>2020-01-06</th>\n",
       "      <td>3725</td>\n",
       "      <td>3840</td>\n",
       "      <td>3835</td>\n",
       "      <td>3660</td>\n",
       "      <td>180</td>\n",
       "      <td>3797.0</td>\n",
       "    </tr>\n",
       "    <tr>\n",
       "      <th>2020-01-07</th>\n",
       "      <td>3840</td>\n",
       "      <td>3920</td>\n",
       "      <td>3900</td>\n",
       "      <td>3810</td>\n",
       "      <td>110</td>\n",
       "      <td>3948.0</td>\n",
       "    </tr>\n",
       "    <tr>\n",
       "      <th>2020-01-08</th>\n",
       "      <td>3845</td>\n",
       "      <td>3960</td>\n",
       "      <td>3765</td>\n",
       "      <td>3740</td>\n",
       "      <td>220</td>\n",
       "      <td>3911.0</td>\n",
       "    </tr>\n",
       "  </tbody>\n",
       "</table>\n",
       "</div>"
      ],
      "text/plain": [
       "            Open  High  Close   Low  range  threshold\n",
       "Date                                                 \n",
       "2020-01-02  3555  3770   3750  3555    215        NaN\n",
       "2020-01-03  3765  3865   3775  3745    120     3894.0\n",
       "2020-01-06  3725  3840   3835  3660    180     3797.0\n",
       "2020-01-07  3840  3920   3900  3810    110     3948.0\n",
       "2020-01-08  3845  3960   3765  3740    220     3911.0"
      ]
     },
     "execution_count": 110,
     "metadata": {},
     "output_type": "execute_result"
    }
   ],
   "source": [
    "df['range'] = df['High'] - df['Low']\n",
    "df['threshold'] = df['Open'] + df['range'].shift()*0.6\n",
    "df.head()"
   ]
  },
  {
   "cell_type": "code",
   "execution_count": 111,
   "id": "47ddf0f4",
   "metadata": {},
   "outputs": [],
   "source": [
    "df.dropna(inplace=True)"
   ]
  },
  {
   "cell_type": "code",
   "execution_count": 112,
   "id": "a98d0c0d",
   "metadata": {},
   "outputs": [],
   "source": [
    "cond = df['threshold'] <= df['High']\n",
    "df['position'] = cond.astype(int)"
   ]
  },
  {
   "cell_type": "code",
   "execution_count": 113,
   "id": "d8f1f1af",
   "metadata": {},
   "outputs": [
    {
     "data": {
      "text/html": [
       "<div>\n",
       "<style scoped>\n",
       "    .dataframe tbody tr th:only-of-type {\n",
       "        vertical-align: middle;\n",
       "    }\n",
       "\n",
       "    .dataframe tbody tr th {\n",
       "        vertical-align: top;\n",
       "    }\n",
       "\n",
       "    .dataframe thead th {\n",
       "        text-align: right;\n",
       "    }\n",
       "</style>\n",
       "<table border=\"1\" class=\"dataframe\">\n",
       "  <thead>\n",
       "    <tr style=\"text-align: right;\">\n",
       "      <th></th>\n",
       "      <th>Open</th>\n",
       "      <th>High</th>\n",
       "      <th>Close</th>\n",
       "      <th>Low</th>\n",
       "      <th>range</th>\n",
       "      <th>threshold</th>\n",
       "      <th>position</th>\n",
       "    </tr>\n",
       "    <tr>\n",
       "      <th>Date</th>\n",
       "      <th></th>\n",
       "      <th></th>\n",
       "      <th></th>\n",
       "      <th></th>\n",
       "      <th></th>\n",
       "      <th></th>\n",
       "      <th></th>\n",
       "    </tr>\n",
       "  </thead>\n",
       "  <tbody>\n",
       "    <tr>\n",
       "      <th>2020-01-03</th>\n",
       "      <td>3765</td>\n",
       "      <td>3865</td>\n",
       "      <td>3775</td>\n",
       "      <td>3745</td>\n",
       "      <td>120</td>\n",
       "      <td>3894.0</td>\n",
       "      <td>0</td>\n",
       "    </tr>\n",
       "    <tr>\n",
       "      <th>2020-01-06</th>\n",
       "      <td>3725</td>\n",
       "      <td>3840</td>\n",
       "      <td>3835</td>\n",
       "      <td>3660</td>\n",
       "      <td>180</td>\n",
       "      <td>3797.0</td>\n",
       "      <td>1</td>\n",
       "    </tr>\n",
       "    <tr>\n",
       "      <th>2020-01-07</th>\n",
       "      <td>3840</td>\n",
       "      <td>3920</td>\n",
       "      <td>3900</td>\n",
       "      <td>3810</td>\n",
       "      <td>110</td>\n",
       "      <td>3948.0</td>\n",
       "      <td>0</td>\n",
       "    </tr>\n",
       "    <tr>\n",
       "      <th>2020-01-08</th>\n",
       "      <td>3845</td>\n",
       "      <td>3960</td>\n",
       "      <td>3765</td>\n",
       "      <td>3740</td>\n",
       "      <td>220</td>\n",
       "      <td>3911.0</td>\n",
       "      <td>1</td>\n",
       "    </tr>\n",
       "    <tr>\n",
       "      <th>2020-01-09</th>\n",
       "      <td>3900</td>\n",
       "      <td>3910</td>\n",
       "      <td>3850</td>\n",
       "      <td>3800</td>\n",
       "      <td>110</td>\n",
       "      <td>4032.0</td>\n",
       "      <td>0</td>\n",
       "    </tr>\n",
       "    <tr>\n",
       "      <th>...</th>\n",
       "      <td>...</td>\n",
       "      <td>...</td>\n",
       "      <td>...</td>\n",
       "      <td>...</td>\n",
       "      <td>...</td>\n",
       "      <td>...</td>\n",
       "      <td>...</td>\n",
       "    </tr>\n",
       "    <tr>\n",
       "      <th>2022-05-04</th>\n",
       "      <td>29350</td>\n",
       "      <td>29400</td>\n",
       "      <td>29200</td>\n",
       "      <td>28300</td>\n",
       "      <td>1100</td>\n",
       "      <td>29710.0</td>\n",
       "      <td>0</td>\n",
       "    </tr>\n",
       "    <tr>\n",
       "      <th>2022-05-06</th>\n",
       "      <td>28750</td>\n",
       "      <td>29600</td>\n",
       "      <td>29450</td>\n",
       "      <td>28550</td>\n",
       "      <td>1050</td>\n",
       "      <td>29410.0</td>\n",
       "      <td>1</td>\n",
       "    </tr>\n",
       "    <tr>\n",
       "      <th>2022-05-09</th>\n",
       "      <td>29250</td>\n",
       "      <td>29400</td>\n",
       "      <td>29400</td>\n",
       "      <td>28750</td>\n",
       "      <td>650</td>\n",
       "      <td>29880.0</td>\n",
       "      <td>0</td>\n",
       "    </tr>\n",
       "    <tr>\n",
       "      <th>2022-05-10</th>\n",
       "      <td>28650</td>\n",
       "      <td>29050</td>\n",
       "      <td>28650</td>\n",
       "      <td>28450</td>\n",
       "      <td>600</td>\n",
       "      <td>29040.0</td>\n",
       "      <td>1</td>\n",
       "    </tr>\n",
       "    <tr>\n",
       "      <th>2022-05-11</th>\n",
       "      <td>28650</td>\n",
       "      <td>29850</td>\n",
       "      <td>29450</td>\n",
       "      <td>28400</td>\n",
       "      <td>1450</td>\n",
       "      <td>29010.0</td>\n",
       "      <td>1</td>\n",
       "    </tr>\n",
       "  </tbody>\n",
       "</table>\n",
       "<p>582 rows × 7 columns</p>\n",
       "</div>"
      ],
      "text/plain": [
       "             Open   High  Close    Low  range  threshold  position\n",
       "Date                                                              \n",
       "2020-01-03   3765   3865   3775   3745    120     3894.0         0\n",
       "2020-01-06   3725   3840   3835   3660    180     3797.0         1\n",
       "2020-01-07   3840   3920   3900   3810    110     3948.0         0\n",
       "2020-01-08   3845   3960   3765   3740    220     3911.0         1\n",
       "2020-01-09   3900   3910   3850   3800    110     4032.0         0\n",
       "...           ...    ...    ...    ...    ...        ...       ...\n",
       "2022-05-04  29350  29400  29200  28300   1100    29710.0         0\n",
       "2022-05-06  28750  29600  29450  28550   1050    29410.0         1\n",
       "2022-05-09  29250  29400  29400  28750    650    29880.0         0\n",
       "2022-05-10  28650  29050  28650  28450    600    29040.0         1\n",
       "2022-05-11  28650  29850  29450  28400   1450    29010.0         1\n",
       "\n",
       "[582 rows x 7 columns]"
      ]
     },
     "execution_count": 113,
     "metadata": {},
     "output_type": "execute_result"
    }
   ],
   "source": [
    "df"
   ]
  },
  {
   "cell_type": "code",
   "execution_count": 114,
   "id": "67168fad",
   "metadata": {},
   "outputs": [],
   "source": [
    "p_current = df['Open']\n",
    "p_prev = df['threshold'].shift()\n",
    "df['rtn'] = p_current/ p_prev -1"
   ]
  },
  {
   "cell_type": "code",
   "execution_count": 115,
   "id": "9060a653",
   "metadata": {
    "collapsed": true
   },
   "outputs": [
    {
     "data": {
      "text/html": [
       "<div>\n",
       "<style scoped>\n",
       "    .dataframe tbody tr th:only-of-type {\n",
       "        vertical-align: middle;\n",
       "    }\n",
       "\n",
       "    .dataframe tbody tr th {\n",
       "        vertical-align: top;\n",
       "    }\n",
       "\n",
       "    .dataframe thead th {\n",
       "        text-align: right;\n",
       "    }\n",
       "</style>\n",
       "<table border=\"1\" class=\"dataframe\">\n",
       "  <thead>\n",
       "    <tr style=\"text-align: right;\">\n",
       "      <th></th>\n",
       "      <th>Open</th>\n",
       "      <th>High</th>\n",
       "      <th>Close</th>\n",
       "      <th>Low</th>\n",
       "      <th>range</th>\n",
       "      <th>threshold</th>\n",
       "      <th>position</th>\n",
       "      <th>rtn</th>\n",
       "    </tr>\n",
       "    <tr>\n",
       "      <th>Date</th>\n",
       "      <th></th>\n",
       "      <th></th>\n",
       "      <th></th>\n",
       "      <th></th>\n",
       "      <th></th>\n",
       "      <th></th>\n",
       "      <th></th>\n",
       "      <th></th>\n",
       "    </tr>\n",
       "  </thead>\n",
       "  <tbody>\n",
       "    <tr>\n",
       "      <th>2020-01-03</th>\n",
       "      <td>3765</td>\n",
       "      <td>3865</td>\n",
       "      <td>3775</td>\n",
       "      <td>3745</td>\n",
       "      <td>120</td>\n",
       "      <td>3894.0</td>\n",
       "      <td>0</td>\n",
       "      <td>NaN</td>\n",
       "    </tr>\n",
       "    <tr>\n",
       "      <th>2020-01-06</th>\n",
       "      <td>3725</td>\n",
       "      <td>3840</td>\n",
       "      <td>3835</td>\n",
       "      <td>3660</td>\n",
       "      <td>180</td>\n",
       "      <td>3797.0</td>\n",
       "      <td>1</td>\n",
       "      <td>-0.043400</td>\n",
       "    </tr>\n",
       "    <tr>\n",
       "      <th>2020-01-07</th>\n",
       "      <td>3840</td>\n",
       "      <td>3920</td>\n",
       "      <td>3900</td>\n",
       "      <td>3810</td>\n",
       "      <td>110</td>\n",
       "      <td>3948.0</td>\n",
       "      <td>0</td>\n",
       "      <td>0.011325</td>\n",
       "    </tr>\n",
       "    <tr>\n",
       "      <th>2020-01-08</th>\n",
       "      <td>3845</td>\n",
       "      <td>3960</td>\n",
       "      <td>3765</td>\n",
       "      <td>3740</td>\n",
       "      <td>220</td>\n",
       "      <td>3911.0</td>\n",
       "      <td>1</td>\n",
       "      <td>-0.026089</td>\n",
       "    </tr>\n",
       "    <tr>\n",
       "      <th>2020-01-09</th>\n",
       "      <td>3900</td>\n",
       "      <td>3910</td>\n",
       "      <td>3850</td>\n",
       "      <td>3800</td>\n",
       "      <td>110</td>\n",
       "      <td>4032.0</td>\n",
       "      <td>0</td>\n",
       "      <td>-0.002813</td>\n",
       "    </tr>\n",
       "    <tr>\n",
       "      <th>...</th>\n",
       "      <td>...</td>\n",
       "      <td>...</td>\n",
       "      <td>...</td>\n",
       "      <td>...</td>\n",
       "      <td>...</td>\n",
       "      <td>...</td>\n",
       "      <td>...</td>\n",
       "      <td>...</td>\n",
       "    </tr>\n",
       "    <tr>\n",
       "      <th>2022-05-04</th>\n",
       "      <td>29350</td>\n",
       "      <td>29400</td>\n",
       "      <td>29200</td>\n",
       "      <td>28300</td>\n",
       "      <td>1100</td>\n",
       "      <td>29710.0</td>\n",
       "      <td>0</td>\n",
       "      <td>-0.022644</td>\n",
       "    </tr>\n",
       "    <tr>\n",
       "      <th>2022-05-06</th>\n",
       "      <td>28750</td>\n",
       "      <td>29600</td>\n",
       "      <td>29450</td>\n",
       "      <td>28550</td>\n",
       "      <td>1050</td>\n",
       "      <td>29410.0</td>\n",
       "      <td>1</td>\n",
       "      <td>-0.032312</td>\n",
       "    </tr>\n",
       "    <tr>\n",
       "      <th>2022-05-09</th>\n",
       "      <td>29250</td>\n",
       "      <td>29400</td>\n",
       "      <td>29400</td>\n",
       "      <td>28750</td>\n",
       "      <td>650</td>\n",
       "      <td>29880.0</td>\n",
       "      <td>0</td>\n",
       "      <td>-0.005440</td>\n",
       "    </tr>\n",
       "    <tr>\n",
       "      <th>2022-05-10</th>\n",
       "      <td>28650</td>\n",
       "      <td>29050</td>\n",
       "      <td>28650</td>\n",
       "      <td>28450</td>\n",
       "      <td>600</td>\n",
       "      <td>29040.0</td>\n",
       "      <td>1</td>\n",
       "      <td>-0.041165</td>\n",
       "    </tr>\n",
       "    <tr>\n",
       "      <th>2022-05-11</th>\n",
       "      <td>28650</td>\n",
       "      <td>29850</td>\n",
       "      <td>29450</td>\n",
       "      <td>28400</td>\n",
       "      <td>1450</td>\n",
       "      <td>29010.0</td>\n",
       "      <td>1</td>\n",
       "      <td>-0.013430</td>\n",
       "    </tr>\n",
       "  </tbody>\n",
       "</table>\n",
       "<p>582 rows × 8 columns</p>\n",
       "</div>"
      ],
      "text/plain": [
       "             Open   High  Close    Low  range  threshold  position       rtn\n",
       "Date                                                                        \n",
       "2020-01-03   3765   3865   3775   3745    120     3894.0         0       NaN\n",
       "2020-01-06   3725   3840   3835   3660    180     3797.0         1 -0.043400\n",
       "2020-01-07   3840   3920   3900   3810    110     3948.0         0  0.011325\n",
       "2020-01-08   3845   3960   3765   3740    220     3911.0         1 -0.026089\n",
       "2020-01-09   3900   3910   3850   3800    110     4032.0         0 -0.002813\n",
       "...           ...    ...    ...    ...    ...        ...       ...       ...\n",
       "2022-05-04  29350  29400  29200  28300   1100    29710.0         0 -0.022644\n",
       "2022-05-06  28750  29600  29450  28550   1050    29410.0         1 -0.032312\n",
       "2022-05-09  29250  29400  29400  28750    650    29880.0         0 -0.005440\n",
       "2022-05-10  28650  29050  28650  28450    600    29040.0         1 -0.041165\n",
       "2022-05-11  28650  29850  29450  28400   1450    29010.0         1 -0.013430\n",
       "\n",
       "[582 rows x 8 columns]"
      ]
     },
     "execution_count": 115,
     "metadata": {},
     "output_type": "execute_result"
    }
   ],
   "source": [
    "df"
   ]
  },
  {
   "cell_type": "code",
   "execution_count": 116,
   "id": "941d7bee",
   "metadata": {},
   "outputs": [],
   "source": [
    "df['str_rtn'] = df['position'].shift() * df['rtn']\n",
    "df['str_rtn'] = df['str_rtn'].fillna(0)"
   ]
  },
  {
   "cell_type": "code",
   "execution_count": 117,
   "id": "2a367de3",
   "metadata": {},
   "outputs": [],
   "source": [
    "df.loc[:, 'str_cum_rtn'] = get_cum_returns_df(df['str_rtn'], log=False)"
   ]
  },
  {
   "cell_type": "code",
   "execution_count": 118,
   "id": "ea2630d0",
   "metadata": {},
   "outputs": [
    {
     "data": {
      "text/plain": [
       "<AxesSubplot:xlabel='Date'>"
      ]
     },
     "execution_count": 118,
     "metadata": {},
     "output_type": "execute_result"
    },
    {
     "data": {
      "image/png": "[encoded data removed]",
      "text/plain": [
       "<Figure size 1080x360 with 1 Axes>"
      ]
     },
     "metadata": {
      "needs_background": "light"
     },
     "output_type": "display_data"
    }
   ],
   "source": [
    "df['str_cum_rtn'].plot(figsize=(15,5))"
   ]
  },
  {
   "cell_type": "code",
   "execution_count": 119,
   "id": "a43977bf",
   "metadata": {},
   "outputs": [],
   "source": [
    "def backtest_eval(scr, sr):\n",
    "\n",
    "    cagr = get_cagr_series(df[scr], num_day_in_year = 250)\n",
    "    sharp_ratio = get_sharpe_ratio(df[sr], yearly_rfr = 0.025)\n",
    "    mdd, ldd_period, ldd_st, ldd_ed = get_drawdown_infos(df[scr])\n",
    "\n",
    "    print('cagr :', cagr)\n",
    "    print('sharp_ratio :', sharp_ratio)\n",
    "    print('Max_drawdown :', mdd)\n",
    "    print('Longest_dd_period :', ldd_period)\n",
    "    print('Longest_dd_st_date :', ldd_st)\n",
    "    print('Longest_dd_ed_date :', ldd_ed)"
   ]
  },
  {
   "cell_type": "code",
   "execution_count": 120,
   "id": "dd86e23f",
   "metadata": {},
   "outputs": [
    {
     "name": "stdout",
     "output_type": "stream",
     "text": [
      "cagr : 1.2864162766583433\n",
      "sharp_ratio : 2.6720473487010463\n",
      "Max_drawdown : -0.1626627753003409\n",
      "Longest_dd_period : -115\n",
      "Longest_dd_st_date : 2021-11-09 00:00:00\n",
      "Longest_dd_ed_date : 2022-03-04 00:00:00\n"
     ]
    }
   ],
   "source": [
    "cr = 'str_cum_rtn'\n",
    "sr = 'str_rtn'\n",
    "\n",
    "backtest_eval(cr, sr)"
   ]
  },
  {
   "cell_type": "code",
   "execution_count": null,
   "id": "918dc5c7",
   "metadata": {},
   "outputs": [],
   "source": []
  },
  {
   "cell_type": "code",
   "execution_count": null,
   "id": "752f5398",
   "metadata": {},
   "outputs": [],
   "source": []
  },
  {
   "cell_type": "code",
   "execution_count": null,
   "id": "7296bbc3",
   "metadata": {},
   "outputs": [],
   "source": []
  },
  {
   "cell_type": "code",
   "execution_count": null,
   "id": "3ce248cc",
   "metadata": {},
   "outputs": [],
   "source": []
  },
  {
   "cell_type": "code",
   "execution_count": null,
   "id": "17edffa6",
   "metadata": {},
   "outputs": [],
   "source": []
  },
  {
   "cell_type": "code",
   "execution_count": null,
   "id": "7cbf173d",
   "metadata": {},
   "outputs": [],
   "source": []
  },
  {
   "cell_type": "code",
   "execution_count": null,
   "id": "c5d20582",
   "metadata": {},
   "outputs": [],
   "source": []
  }
 ],
 "metadata": {
  "kernelspec": {
   "display_name": "Python 3 (ipykernel)",
   "language": "python",
   "name": "python3"
  },
  "language_info": {
   "codemirror_mode": {
    "name": "ipython",
    "version": 3
   },
   "file_extension": ".py",
   "mimetype": "text/x-python",
   "name": "python",
   "nbconvert_exporter": "python",
   "pygments_lexer": "ipython3",
   "version": "3.9.7"
  }
 },
 "nbformat": 4,
 "nbformat_minor": 5
}
