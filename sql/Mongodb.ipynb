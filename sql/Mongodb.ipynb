{
 "cells": [
  {
   "cell_type": "markdown",
   "id": "1725ac0b",
   "metadata": {},
   "source": [
    "### RDBMS(관계형 데이터베이스)\n",
    "- sql 언어를 사용\n",
    "- 규격이 엄격하고, 다양한 규격이 있으면 매번 수정해 주어야 한다\n",
    "- Mysql, Oracle, Postgresql, SQLIte...\n",
    "\n",
    "### NoSQL\n",
    "- sql을 사용하지 않음\n",
    "- 고정된 스키마가 없다\n",
    "- 정해진 규격이 엄격하지 않음 \n",
    "\n",
    "### Mongodb\n",
    "- json구조로 data(document)를 관리 \n",
    "- sql : database > table > data(row, column)\n",
    "- mongodb : database > collection > document"
   ]
  },
  {
   "cell_type": "code",
   "execution_count": 2,
   "id": "a4acf779",
   "metadata": {},
   "outputs": [
    {
     "name": "stdout",
     "output_type": "stream",
     "text": [
      "Collecting pymongo\n",
      "  Downloading pymongo-4.0.1-cp39-cp39-win_amd64.whl (354 kB)\n",
      "Installing collected packages: pymongo\n",
      "Successfully installed pymongo-4.0.1\n"
     ]
    }
   ],
   "source": [
    "!pip install pymongo"
   ]
  },
  {
   "cell_type": "code",
   "execution_count": 3,
   "id": "3eab03ad",
   "metadata": {},
   "outputs": [],
   "source": [
    "import pymongo"
   ]
  },
  {
   "cell_type": "code",
   "execution_count": 5,
   "id": "0c665178",
   "metadata": {},
   "outputs": [],
   "source": [
    "conn = pymongo.MongoClient()"
   ]
  },
  {
   "cell_type": "code",
   "execution_count": 6,
   "id": "dfe81a2a",
   "metadata": {},
   "outputs": [],
   "source": [
    "tdb = conn['testdb']"
   ]
  },
  {
   "cell_type": "code",
   "execution_count": 7,
   "id": "6b8c2689",
   "metadata": {},
   "outputs": [],
   "source": [
    "col_it = tdb['it']"
   ]
  },
  {
   "cell_type": "code",
   "execution_count": 10,
   "id": "7bc396c5",
   "metadata": {},
   "outputs": [
    {
     "data": {
      "text/plain": [
       "<pymongo.results.InsertOneResult at 0x24269929100>"
      ]
     },
     "execution_count": 10,
     "metadata": {},
     "output_type": "execute_result"
    }
   ],
   "source": [
    "post = {'author':'Mike', 'text': 'my first blog post', 'tags':['mongodb','python','pymongo']}\n",
    "col_it.insert_one(post)"
   ]
  },
  {
   "cell_type": "code",
   "execution_count": 11,
   "id": "1bdf77bb",
   "metadata": {},
   "outputs": [
    {
     "name": "stdout",
     "output_type": "stream",
     "text": [
      "{'_id': ObjectId('62034ee29554eee55a529394'), 'author': 'Mike', 'text': 'my first blog post', 'tags': ['mongodb', 'python', 'pymongo']}\n"
     ]
    }
   ],
   "source": [
    "results = col_it.find()\n",
    "for r in results:\n",
    "    print(r)"
   ]
  },
  {
   "cell_type": "code",
   "execution_count": 12,
   "id": "c7c221e0",
   "metadata": {},
   "outputs": [
    {
     "data": {
      "text/plain": [
       "<pymongo.results.InsertOneResult at 0x24269decc40>"
      ]
     },
     "execution_count": 12,
     "metadata": {},
     "output_type": "execute_result"
    }
   ],
   "source": [
    "col_it.insert_one({'author':'dave lee','age':45})"
   ]
  },
  {
   "cell_type": "code",
   "execution_count": 13,
   "id": "f7b5d42c",
   "metadata": {},
   "outputs": [
    {
     "name": "stdout",
     "output_type": "stream",
     "text": [
      "{'_id': ObjectId('62034ee29554eee55a529394'), 'author': 'Mike', 'text': 'my first blog post', 'tags': ['mongodb', 'python', 'pymongo']}\n",
      "{'_id': ObjectId('62034f1f9554eee55a529395'), 'author': 'dave lee', 'age': 45}\n"
     ]
    }
   ],
   "source": [
    "results = col_it.find()\n",
    "for r in results:\n",
    "    print(r)"
   ]
  },
  {
   "cell_type": "code",
   "execution_count": null,
   "id": "f6752726",
   "metadata": {},
   "outputs": [],
   "source": []
  },
  {
   "cell_type": "markdown",
   "id": "e15b0098",
   "metadata": {},
   "source": [
    "* insert_many()"
   ]
  },
  {
   "cell_type": "code",
   "execution_count": 14,
   "id": "961e1457",
   "metadata": {},
   "outputs": [
    {
     "data": {
      "text/plain": [
       "<pymongo.results.InsertManyResult at 0x24269e9fa80>"
      ]
     },
     "execution_count": 14,
     "metadata": {},
     "output_type": "execute_result"
    }
   ],
   "source": [
    "col_it.insert_many(\n",
    "    [\n",
    "        {'author':'dave ahn','age':25},\n",
    "        {'author':'dave', 'age':35}\n",
    "    ]\n",
    ")"
   ]
  },
  {
   "cell_type": "code",
   "execution_count": 15,
   "id": "0f9e29bc",
   "metadata": {},
   "outputs": [
    {
     "name": "stdout",
     "output_type": "stream",
     "text": [
      "{'_id': ObjectId('62034ee29554eee55a529394'), 'author': 'Mike', 'text': 'my first blog post', 'tags': ['mongodb', 'python', 'pymongo']}\n",
      "{'_id': ObjectId('62034f1f9554eee55a529395'), 'author': 'dave lee', 'age': 45}\n",
      "{'_id': ObjectId('62034f909554eee55a529396'), 'author': 'dave ahn', 'age': 25}\n",
      "{'_id': ObjectId('62034f909554eee55a529397'), 'author': 'dave', 'age': 35}\n"
     ]
    }
   ],
   "source": [
    "results = col_it.find()\n",
    "for r in results:\n",
    "    print(r)"
   ]
  },
  {
   "cell_type": "code",
   "execution_count": null,
   "id": "330abcd6",
   "metadata": {},
   "outputs": [],
   "source": []
  },
  {
   "cell_type": "markdown",
   "id": "e17e423b",
   "metadata": {},
   "source": [
    "* document insert하면서 id(primary key)를 확인하는 법"
   ]
  },
  {
   "cell_type": "markdown",
   "id": "029a86a9",
   "metadata": {},
   "source": [
    "post = {'author': 'dave', 'text':'my first blog post'}\n",
    "\n",
    "post_id = col_it.insert_one(post)\n",
    "post_id"
   ]
  },
  {
   "cell_type": "code",
   "execution_count": 18,
   "id": "54843ae3",
   "metadata": {},
   "outputs": [
    {
     "data": {
      "text/plain": [
       "ObjectId('620350339554eee55a529399')"
      ]
     },
     "execution_count": 18,
     "metadata": {},
     "output_type": "execute_result"
    }
   ],
   "source": [
    "post_id.inserted_id"
   ]
  },
  {
   "cell_type": "markdown",
   "id": "6af2e2a0",
   "metadata": {},
   "source": [
    "* document count"
   ]
  },
  {
   "cell_type": "code",
   "execution_count": 19,
   "id": "7c3348d6",
   "metadata": {},
   "outputs": [
    {
     "data": {
      "text/plain": [
       "6"
      ]
     },
     "execution_count": 19,
     "metadata": {},
     "output_type": "execute_result"
    }
   ],
   "source": [
    "col_it.count_documents({})"
   ]
  },
  {
   "cell_type": "code",
   "execution_count": null,
   "id": "ec245233",
   "metadata": {},
   "outputs": [],
   "source": []
  },
  {
   "cell_type": "markdown",
   "id": "f4ad49ec",
   "metadata": {},
   "source": [
    "* 입력 : {}, 리스트, 중첩 댁셔너리"
   ]
  },
  {
   "cell_type": "code",
   "execution_count": 20,
   "id": "38f964c0",
   "metadata": {},
   "outputs": [
    {
     "data": {
      "text/plain": [
       "<pymongo.results.InsertOneResult at 0x24269774b40>"
      ]
     },
     "execution_count": 20,
     "metadata": {},
     "output_type": "execute_result"
    }
   ],
   "source": [
    "col_it.insert_one({'title':'암살','castings':['이정재','전지현','하정우']})"
   ]
  },
  {
   "cell_type": "code",
   "execution_count": 21,
   "id": "de5dc5ea",
   "metadata": {},
   "outputs": [
    {
     "data": {
      "text/plain": [
       "<pymongo.results.InsertOneResult at 0x24269ebac80>"
      ]
     },
     "execution_count": 21,
     "metadata": {},
     "output_type": "execute_result"
    }
   ],
   "source": [
    "col_it.insert_one(\n",
    "    {\n",
    "        'title':'실미도',\n",
    "        'castings':['설경구','안성기'],\n",
    "        'datetime':\n",
    "        {\n",
    "            'year':'2003',\n",
    "            'month':3,\n",
    "            'val':\n",
    "            {\n",
    "                'a':\n",
    "                {\n",
    "                    \"b\":1\n",
    "                }\n",
    "            }\n",
    "        }\n",
    "    }\n",
    ")"
   ]
  },
  {
   "cell_type": "code",
   "execution_count": null,
   "id": "7f809d86",
   "metadata": {
    "collapsed": true
   },
   "outputs": [],
   "source": []
  },
  {
   "cell_type": "code",
   "execution_count": 24,
   "id": "f8285436",
   "metadata": {},
   "outputs": [
    {
     "data": {
      "text/plain": [
       "<pymongo.results.InsertManyResult at 0x24269e84240>"
      ]
     },
     "execution_count": 24,
     "metadata": {},
     "output_type": "execute_result"
    }
   ],
   "source": [
    "data = list()\n",
    "data.append({'name':'aaron','age':20})\n",
    "data.append({'name':'bob','age':30})\n",
    "data.append({'name':'cathy','age':25})\n",
    "data.append({'name':'david','age':27})\n",
    "data.append({'name':'erick','age':28})\n",
    "data.append({'name':'fox','age':32})\n",
    "data.append({'name':'hmm'})\n",
    "\n",
    "col_it.insert_many(data)"
   ]
  },
  {
   "cell_type": "code",
   "execution_count": 25,
   "id": "4e677cc8",
   "metadata": {},
   "outputs": [
    {
     "data": {
      "text/plain": [
       "15"
      ]
     },
     "execution_count": 25,
     "metadata": {},
     "output_type": "execute_result"
    }
   ],
   "source": [
    "col_it.count_documents({})"
   ]
  },
  {
   "cell_type": "code",
   "execution_count": null,
   "id": "2dd9f657",
   "metadata": {},
   "outputs": [],
   "source": []
  },
  {
   "cell_type": "markdown",
   "id": "b264c5ee",
   "metadata": {},
   "source": [
    "### document 검색하기"
   ]
  },
  {
   "cell_type": "markdown",
   "id": "710de7e9",
   "metadata": {},
   "source": [
    "* find_one()"
   ]
  },
  {
   "cell_type": "code",
   "execution_count": 28,
   "id": "1b81bbf3",
   "metadata": {},
   "outputs": [
    {
     "data": {
      "text/plain": [
       "{'_id': ObjectId('62034ee29554eee55a529394'),\n",
       " 'author': 'Mike',\n",
       " 'text': 'my first blog post',\n",
       " 'tags': ['mongodb', 'python', 'pymongo']}"
      ]
     },
     "execution_count": 28,
     "metadata": {},
     "output_type": "execute_result"
    }
   ],
   "source": [
    "col_it.find_one()   # 제일 앞에 있는 거 "
   ]
  },
  {
   "cell_type": "code",
   "execution_count": 29,
   "id": "8b7270a5",
   "metadata": {},
   "outputs": [
    {
     "data": {
      "text/plain": [
       "<pymongo.cursor.Cursor at 0x24269bd00d0>"
      ]
     },
     "execution_count": 29,
     "metadata": {},
     "output_type": "execute_result"
    }
   ],
   "source": [
    "col_it.find()    # 전체 "
   ]
  },
  {
   "cell_type": "code",
   "execution_count": null,
   "id": "aafe5c2d",
   "metadata": {},
   "outputs": [],
   "source": []
  },
  {
   "cell_type": "code",
   "execution_count": 30,
   "id": "5ab6212d",
   "metadata": {},
   "outputs": [
    {
     "data": {
      "text/plain": [
       "{'_id': ObjectId('62034f909554eee55a529397'), 'author': 'dave', 'age': 35}"
      ]
     },
     "execution_count": 30,
     "metadata": {},
     "output_type": "execute_result"
    }
   ],
   "source": [
    "results = col_it.find_one({'author':'dave'})\n",
    "\n",
    "for r in results:\n",
    "    print(r)"
   ]
  },
  {
   "cell_type": "code",
   "execution_count": 31,
   "id": "eca9bc59",
   "metadata": {},
   "outputs": [
    {
     "data": {
      "text/plain": [
       "3"
      ]
     },
     "execution_count": 31,
     "metadata": {},
     "output_type": "execute_result"
    }
   ],
   "source": [
    "col_it.count_documents({'author':'dave'})"
   ]
  },
  {
   "cell_type": "code",
   "execution_count": null,
   "id": "342e7d89",
   "metadata": {},
   "outputs": [],
   "source": []
  },
  {
   "cell_type": "code",
   "execution_count": 32,
   "id": "b014e86b",
   "metadata": {
    "collapsed": true
   },
   "outputs": [
    {
     "name": "stdout",
     "output_type": "stream",
     "text": [
      "{'_id': ObjectId('62034ee29554eee55a529394'), 'author': 'Mike', 'text': 'my first blog post', 'tags': ['mongodb', 'python', 'pymongo']}\n",
      "{'_id': ObjectId('620350119554eee55a529398'), 'author': 'dave', 'text': 'my first blog post'}\n",
      "{'_id': ObjectId('620350339554eee55a529399'), 'author': 'dave', 'text': 'my first blog post'}\n",
      "{'_id': ObjectId('6203510a9554eee55a52939a'), 'title': '암살', 'castings': ['이정재', '전지현', '하정우']}\n",
      "{'_id': ObjectId('6203517d9554eee55a52939b'), 'title': '실미도', 'castings': ['설경구', '안성기'], 'datetime': {'year': '2003', 'month': 3, 'val': {'a': {'b': 1}}}}\n",
      "{'_id': ObjectId('620352109554eee55a5293a2'), 'name': 'hmm'}\n",
      "{'_id': ObjectId('620352109554eee55a52939c'), 'name': 'aaron', 'age': 20}\n",
      "{'_id': ObjectId('62034f909554eee55a529396'), 'author': 'dave ahn', 'age': 25}\n",
      "{'_id': ObjectId('620352109554eee55a52939e'), 'name': 'cathy', 'age': 25}\n",
      "{'_id': ObjectId('620352109554eee55a52939f'), 'name': 'david', 'age': 27}\n",
      "{'_id': ObjectId('620352109554eee55a5293a0'), 'name': 'erick', 'age': 28}\n",
      "{'_id': ObjectId('620352109554eee55a52939d'), 'name': 'bob', 'age': 30}\n",
      "{'_id': ObjectId('620352109554eee55a5293a1'), 'name': 'fox', 'age': 32}\n",
      "{'_id': ObjectId('62034f909554eee55a529397'), 'author': 'dave', 'age': 35}\n",
      "{'_id': ObjectId('62034f1f9554eee55a529395'), 'author': 'dave lee', 'age': 45}\n"
     ]
    }
   ],
   "source": [
    "for r in col_it.find().sort('age'):\n",
    "    print(r)"
   ]
  },
  {
   "cell_type": "code",
   "execution_count": null,
   "id": "dba933d9",
   "metadata": {},
   "outputs": [],
   "source": []
  },
  {
   "cell_type": "markdown",
   "id": "246a67cb",
   "metadata": {},
   "source": [
    "### document update : update_one(), update_many()"
   ]
  },
  {
   "cell_type": "code",
   "execution_count": 33,
   "id": "33e63154",
   "metadata": {},
   "outputs": [
    {
     "data": {
      "text/plain": [
       "{'_id': ObjectId('62034f909554eee55a529397'), 'author': 'dave', 'age': 35}"
      ]
     },
     "execution_count": 33,
     "metadata": {},
     "output_type": "execute_result"
    }
   ],
   "source": [
    "col_it.find_one({'author':'dave'})"
   ]
  },
  {
   "cell_type": "code",
   "execution_count": 34,
   "id": "479a644d",
   "metadata": {},
   "outputs": [
    {
     "data": {
      "text/plain": [
       "<pymongo.results.UpdateResult at 0x24269ec0480>"
      ]
     },
     "execution_count": 34,
     "metadata": {},
     "output_type": "execute_result"
    }
   ],
   "source": [
    "col_it.update_one({'author':'dave'},\n",
    "                 {\"$set\":{\"text\":'hi dave'}})"
   ]
  },
  {
   "cell_type": "code",
   "execution_count": 36,
   "id": "5106c3f4",
   "metadata": {},
   "outputs": [
    {
     "name": "stdout",
     "output_type": "stream",
     "text": [
      "_id\n",
      "author\n",
      "age\n",
      "text\n"
     ]
    }
   ],
   "source": [
    "for d in col_it.find_one({'author':'dave'}):\n",
    "    print(d)"
   ]
  },
  {
   "cell_type": "code",
   "execution_count": null,
   "id": "a19f70e2",
   "metadata": {},
   "outputs": [],
   "source": []
  },
  {
   "cell_type": "code",
   "execution_count": null,
   "id": "b13658db",
   "metadata": {},
   "outputs": [],
   "source": []
  },
  {
   "cell_type": "code",
   "execution_count": null,
   "id": "399fd25f",
   "metadata": {},
   "outputs": [],
   "source": []
  },
  {
   "cell_type": "code",
   "execution_count": null,
   "id": "e2d82dd2",
   "metadata": {},
   "outputs": [],
   "source": []
  },
  {
   "cell_type": "code",
   "execution_count": null,
   "id": "754cd8d1",
   "metadata": {},
   "outputs": [],
   "source": []
  },
  {
   "cell_type": "code",
   "execution_count": null,
   "id": "af87c2d0",
   "metadata": {},
   "outputs": [],
   "source": []
  },
  {
   "cell_type": "code",
   "execution_count": null,
   "id": "4385ea9a",
   "metadata": {},
   "outputs": [],
   "source": []
  },
  {
   "cell_type": "code",
   "execution_count": null,
   "id": "87c82303",
   "metadata": {},
   "outputs": [],
   "source": []
  },
  {
   "cell_type": "code",
   "execution_count": null,
   "id": "659fa56c",
   "metadata": {},
   "outputs": [],
   "source": []
  },
  {
   "cell_type": "code",
   "execution_count": null,
   "id": "5143ccb3",
   "metadata": {},
   "outputs": [],
   "source": []
  },
  {
   "cell_type": "code",
   "execution_count": null,
   "id": "a4a5a3b0",
   "metadata": {},
   "outputs": [],
   "source": []
  },
  {
   "cell_type": "code",
   "execution_count": null,
   "id": "b424bc80",
   "metadata": {},
   "outputs": [],
   "source": []
  },
  {
   "cell_type": "code",
   "execution_count": null,
   "id": "959d028d",
   "metadata": {},
   "outputs": [],
   "source": []
  },
  {
   "cell_type": "code",
   "execution_count": 37,
   "id": "d0df071e",
   "metadata": {},
   "outputs": [
    {
     "data": {
      "text/plain": [
       "<pymongo.results.UpdateResult at 0x24269f15800>"
      ]
     },
     "execution_count": 37,
     "metadata": {},
     "output_type": "execute_result"
    }
   ],
   "source": [
    "col_it.update_one({'author':'dave'},\n",
    "                 {'$set':{'age':40}})"
   ]
  },
  {
   "cell_type": "code",
   "execution_count": 38,
   "id": "28cf9b67",
   "metadata": {},
   "outputs": [
    {
     "name": "stdout",
     "output_type": "stream",
     "text": [
      "_id\n",
      "author\n",
      "age\n",
      "text\n"
     ]
    }
   ],
   "source": [
    "for d in col_it.find_one({'author':'dave'}):\n",
    "    print(d)"
   ]
  },
  {
   "cell_type": "code",
   "execution_count": null,
   "id": "fe48d396",
   "metadata": {},
   "outputs": [],
   "source": []
  },
  {
   "cell_type": "code",
   "execution_count": 39,
   "id": "783383d0",
   "metadata": {},
   "outputs": [
    {
     "data": {
      "text/plain": [
       "<pymongo.results.UpdateResult at 0x24269e8d4c0>"
      ]
     },
     "execution_count": 39,
     "metadata": {},
     "output_type": "execute_result"
    }
   ],
   "source": [
    "col_it.update_many({'author':'dave'},\n",
    "                  {'$set': {'text':'hi dave'}})"
   ]
  },
  {
   "cell_type": "code",
   "execution_count": 40,
   "id": "1a0162d2",
   "metadata": {},
   "outputs": [
    {
     "name": "stdout",
     "output_type": "stream",
     "text": [
      "_id\n",
      "author\n",
      "age\n",
      "text\n"
     ]
    }
   ],
   "source": [
    "for d in col_it.find_one({'author':'dave'}):\n",
    "    print(d)"
   ]
  },
  {
   "cell_type": "code",
   "execution_count": 41,
   "id": "8f3a2b8b",
   "metadata": {},
   "outputs": [
    {
     "name": "stdout",
     "output_type": "stream",
     "text": [
      "_id\n",
      "author\n",
      "age\n"
     ]
    }
   ],
   "source": [
    "for d in col_it.find_one({'author':'dave lee'}):\n",
    "    print(d)"
   ]
  },
  {
   "cell_type": "code",
   "execution_count": null,
   "id": "5ba2f973",
   "metadata": {},
   "outputs": [],
   "source": []
  },
  {
   "cell_type": "markdown",
   "id": "84edc7fe",
   "metadata": {},
   "source": [
    "#### document delete : delete_one(), delete_many()"
   ]
  },
  {
   "cell_type": "code",
   "execution_count": null,
   "id": "a4e2f47c",
   "metadata": {},
   "outputs": [],
   "source": []
  },
  {
   "cell_type": "code",
   "execution_count": 43,
   "id": "694c8bdb",
   "metadata": {},
   "outputs": [
    {
     "data": {
      "text/plain": [
       "<pymongo.results.DeleteResult at 0x24267775f00>"
      ]
     },
     "execution_count": 43,
     "metadata": {},
     "output_type": "execute_result"
    }
   ],
   "source": [
    "col_it.delete_many({'author':'dave'})"
   ]
  },
  {
   "cell_type": "code",
   "execution_count": 46,
   "id": "a766cb0d",
   "metadata": {},
   "outputs": [],
   "source": [
    "data = list()\n",
    "for index in range(100):\n",
    "    data.append({'author':'dave lee','publisher':'bit_company','number':index})"
   ]
  },
  {
   "cell_type": "code",
   "execution_count": 47,
   "id": "24a43cf5",
   "metadata": {},
   "outputs": [],
   "source": [
    "boos = conn.books"
   ]
  },
  {
   "cell_type": "code",
   "execution_count": 48,
   "id": "5230ef3b",
   "metadata": {},
   "outputs": [],
   "source": [
    "it_book = boos.it_books"
   ]
  },
  {
   "cell_type": "code",
   "execution_count": 49,
   "id": "c31f98c7",
   "metadata": {
    "collapsed": true
   },
   "outputs": [
    {
     "data": {
      "text/plain": [
       "[{'author': 'dave lee', 'publisher': 'bit_company', 'number': 0},\n",
       " {'author': 'dave lee', 'publisher': 'bit_company', 'number': 1},\n",
       " {'author': 'dave lee', 'publisher': 'bit_company', 'number': 2},\n",
       " {'author': 'dave lee', 'publisher': 'bit_company', 'number': 3},\n",
       " {'author': 'dave lee', 'publisher': 'bit_company', 'number': 4},\n",
       " {'author': 'dave lee', 'publisher': 'bit_company', 'number': 5},\n",
       " {'author': 'dave lee', 'publisher': 'bit_company', 'number': 6},\n",
       " {'author': 'dave lee', 'publisher': 'bit_company', 'number': 7},\n",
       " {'author': 'dave lee', 'publisher': 'bit_company', 'number': 8},\n",
       " {'author': 'dave lee', 'publisher': 'bit_company', 'number': 9},\n",
       " {'author': 'dave lee', 'publisher': 'bit_company', 'number': 10},\n",
       " {'author': 'dave lee', 'publisher': 'bit_company', 'number': 11},\n",
       " {'author': 'dave lee', 'publisher': 'bit_company', 'number': 12},\n",
       " {'author': 'dave lee', 'publisher': 'bit_company', 'number': 13},\n",
       " {'author': 'dave lee', 'publisher': 'bit_company', 'number': 14},\n",
       " {'author': 'dave lee', 'publisher': 'bit_company', 'number': 15},\n",
       " {'author': 'dave lee', 'publisher': 'bit_company', 'number': 16},\n",
       " {'author': 'dave lee', 'publisher': 'bit_company', 'number': 17},\n",
       " {'author': 'dave lee', 'publisher': 'bit_company', 'number': 18},\n",
       " {'author': 'dave lee', 'publisher': 'bit_company', 'number': 19},\n",
       " {'author': 'dave lee', 'publisher': 'bit_company', 'number': 20},\n",
       " {'author': 'dave lee', 'publisher': 'bit_company', 'number': 21},\n",
       " {'author': 'dave lee', 'publisher': 'bit_company', 'number': 22},\n",
       " {'author': 'dave lee', 'publisher': 'bit_company', 'number': 23},\n",
       " {'author': 'dave lee', 'publisher': 'bit_company', 'number': 24},\n",
       " {'author': 'dave lee', 'publisher': 'bit_company', 'number': 25},\n",
       " {'author': 'dave lee', 'publisher': 'bit_company', 'number': 26},\n",
       " {'author': 'dave lee', 'publisher': 'bit_company', 'number': 27},\n",
       " {'author': 'dave lee', 'publisher': 'bit_company', 'number': 28},\n",
       " {'author': 'dave lee', 'publisher': 'bit_company', 'number': 29},\n",
       " {'author': 'dave lee', 'publisher': 'bit_company', 'number': 30},\n",
       " {'author': 'dave lee', 'publisher': 'bit_company', 'number': 31},\n",
       " {'author': 'dave lee', 'publisher': 'bit_company', 'number': 32},\n",
       " {'author': 'dave lee', 'publisher': 'bit_company', 'number': 33},\n",
       " {'author': 'dave lee', 'publisher': 'bit_company', 'number': 34},\n",
       " {'author': 'dave lee', 'publisher': 'bit_company', 'number': 35},\n",
       " {'author': 'dave lee', 'publisher': 'bit_company', 'number': 36},\n",
       " {'author': 'dave lee', 'publisher': 'bit_company', 'number': 37},\n",
       " {'author': 'dave lee', 'publisher': 'bit_company', 'number': 38},\n",
       " {'author': 'dave lee', 'publisher': 'bit_company', 'number': 39},\n",
       " {'author': 'dave lee', 'publisher': 'bit_company', 'number': 40},\n",
       " {'author': 'dave lee', 'publisher': 'bit_company', 'number': 41},\n",
       " {'author': 'dave lee', 'publisher': 'bit_company', 'number': 42},\n",
       " {'author': 'dave lee', 'publisher': 'bit_company', 'number': 43},\n",
       " {'author': 'dave lee', 'publisher': 'bit_company', 'number': 44},\n",
       " {'author': 'dave lee', 'publisher': 'bit_company', 'number': 45},\n",
       " {'author': 'dave lee', 'publisher': 'bit_company', 'number': 46},\n",
       " {'author': 'dave lee', 'publisher': 'bit_company', 'number': 47},\n",
       " {'author': 'dave lee', 'publisher': 'bit_company', 'number': 48},\n",
       " {'author': 'dave lee', 'publisher': 'bit_company', 'number': 49},\n",
       " {'author': 'dave lee', 'publisher': 'bit_company', 'number': 50},\n",
       " {'author': 'dave lee', 'publisher': 'bit_company', 'number': 51},\n",
       " {'author': 'dave lee', 'publisher': 'bit_company', 'number': 52},\n",
       " {'author': 'dave lee', 'publisher': 'bit_company', 'number': 53},\n",
       " {'author': 'dave lee', 'publisher': 'bit_company', 'number': 54},\n",
       " {'author': 'dave lee', 'publisher': 'bit_company', 'number': 55},\n",
       " {'author': 'dave lee', 'publisher': 'bit_company', 'number': 56},\n",
       " {'author': 'dave lee', 'publisher': 'bit_company', 'number': 57},\n",
       " {'author': 'dave lee', 'publisher': 'bit_company', 'number': 58},\n",
       " {'author': 'dave lee', 'publisher': 'bit_company', 'number': 59},\n",
       " {'author': 'dave lee', 'publisher': 'bit_company', 'number': 60},\n",
       " {'author': 'dave lee', 'publisher': 'bit_company', 'number': 61},\n",
       " {'author': 'dave lee', 'publisher': 'bit_company', 'number': 62},\n",
       " {'author': 'dave lee', 'publisher': 'bit_company', 'number': 63},\n",
       " {'author': 'dave lee', 'publisher': 'bit_company', 'number': 64},\n",
       " {'author': 'dave lee', 'publisher': 'bit_company', 'number': 65},\n",
       " {'author': 'dave lee', 'publisher': 'bit_company', 'number': 66},\n",
       " {'author': 'dave lee', 'publisher': 'bit_company', 'number': 67},\n",
       " {'author': 'dave lee', 'publisher': 'bit_company', 'number': 68},\n",
       " {'author': 'dave lee', 'publisher': 'bit_company', 'number': 69},\n",
       " {'author': 'dave lee', 'publisher': 'bit_company', 'number': 70},\n",
       " {'author': 'dave lee', 'publisher': 'bit_company', 'number': 71},\n",
       " {'author': 'dave lee', 'publisher': 'bit_company', 'number': 72},\n",
       " {'author': 'dave lee', 'publisher': 'bit_company', 'number': 73},\n",
       " {'author': 'dave lee', 'publisher': 'bit_company', 'number': 74},\n",
       " {'author': 'dave lee', 'publisher': 'bit_company', 'number': 75},\n",
       " {'author': 'dave lee', 'publisher': 'bit_company', 'number': 76},\n",
       " {'author': 'dave lee', 'publisher': 'bit_company', 'number': 77},\n",
       " {'author': 'dave lee', 'publisher': 'bit_company', 'number': 78},\n",
       " {'author': 'dave lee', 'publisher': 'bit_company', 'number': 79},\n",
       " {'author': 'dave lee', 'publisher': 'bit_company', 'number': 80},\n",
       " {'author': 'dave lee', 'publisher': 'bit_company', 'number': 81},\n",
       " {'author': 'dave lee', 'publisher': 'bit_company', 'number': 82},\n",
       " {'author': 'dave lee', 'publisher': 'bit_company', 'number': 83},\n",
       " {'author': 'dave lee', 'publisher': 'bit_company', 'number': 84},\n",
       " {'author': 'dave lee', 'publisher': 'bit_company', 'number': 85},\n",
       " {'author': 'dave lee', 'publisher': 'bit_company', 'number': 86},\n",
       " {'author': 'dave lee', 'publisher': 'bit_company', 'number': 87},\n",
       " {'author': 'dave lee', 'publisher': 'bit_company', 'number': 88},\n",
       " {'author': 'dave lee', 'publisher': 'bit_company', 'number': 89},\n",
       " {'author': 'dave lee', 'publisher': 'bit_company', 'number': 90},\n",
       " {'author': 'dave lee', 'publisher': 'bit_company', 'number': 91},\n",
       " {'author': 'dave lee', 'publisher': 'bit_company', 'number': 92},\n",
       " {'author': 'dave lee', 'publisher': 'bit_company', 'number': 93},\n",
       " {'author': 'dave lee', 'publisher': 'bit_company', 'number': 94},\n",
       " {'author': 'dave lee', 'publisher': 'bit_company', 'number': 95},\n",
       " {'author': 'dave lee', 'publisher': 'bit_company', 'number': 96},\n",
       " {'author': 'dave lee', 'publisher': 'bit_company', 'number': 97},\n",
       " {'author': 'dave lee', 'publisher': 'bit_company', 'number': 98},\n",
       " {'author': 'dave lee', 'publisher': 'bit_company', 'number': 99}]"
      ]
     },
     "execution_count": 49,
     "metadata": {},
     "output_type": "execute_result"
    }
   ],
   "source": [
    "data"
   ]
  },
  {
   "cell_type": "code",
   "execution_count": 51,
   "id": "8546855d",
   "metadata": {},
   "outputs": [
    {
     "data": {
      "text/plain": [
       "<pymongo.results.InsertManyResult at 0x2426a067980>"
      ]
     },
     "execution_count": 51,
     "metadata": {},
     "output_type": "execute_result"
    }
   ],
   "source": [
    "it_book.insert_many(data)"
   ]
  },
  {
   "cell_type": "code",
   "execution_count": null,
   "id": "e4c7105e",
   "metadata": {},
   "outputs": [],
   "source": []
  },
  {
   "cell_type": "code",
   "execution_count": 52,
   "id": "f037aee9",
   "metadata": {
    "collapsed": true
   },
   "outputs": [
    {
     "name": "stdout",
     "output_type": "stream",
     "text": [
      "{'_id': ObjectId('620356df9554eee55a5293a3'), 'author': 'dave lee', 'publisher': 'bit_company', 'number': 0}\n",
      "{'_id': ObjectId('620356df9554eee55a5293a4'), 'author': 'dave lee', 'publisher': 'bit_company', 'number': 1}\n",
      "{'_id': ObjectId('620356df9554eee55a5293a5'), 'author': 'dave lee', 'publisher': 'bit_company', 'number': 2}\n",
      "{'_id': ObjectId('620356df9554eee55a5293a6'), 'author': 'dave lee', 'publisher': 'bit_company', 'number': 3}\n",
      "{'_id': ObjectId('620356df9554eee55a5293a7'), 'author': 'dave lee', 'publisher': 'bit_company', 'number': 4}\n",
      "{'_id': ObjectId('620356df9554eee55a5293a8'), 'author': 'dave lee', 'publisher': 'bit_company', 'number': 5}\n",
      "{'_id': ObjectId('620356df9554eee55a5293a9'), 'author': 'dave lee', 'publisher': 'bit_company', 'number': 6}\n",
      "{'_id': ObjectId('620356df9554eee55a5293aa'), 'author': 'dave lee', 'publisher': 'bit_company', 'number': 7}\n",
      "{'_id': ObjectId('620356df9554eee55a5293ab'), 'author': 'dave lee', 'publisher': 'bit_company', 'number': 8}\n",
      "{'_id': ObjectId('620356df9554eee55a5293ac'), 'author': 'dave lee', 'publisher': 'bit_company', 'number': 9}\n",
      "{'_id': ObjectId('620356df9554eee55a5293ad'), 'author': 'dave lee', 'publisher': 'bit_company', 'number': 10}\n",
      "{'_id': ObjectId('620356df9554eee55a5293ae'), 'author': 'dave lee', 'publisher': 'bit_company', 'number': 11}\n",
      "{'_id': ObjectId('620356df9554eee55a5293af'), 'author': 'dave lee', 'publisher': 'bit_company', 'number': 12}\n",
      "{'_id': ObjectId('620356df9554eee55a5293b0'), 'author': 'dave lee', 'publisher': 'bit_company', 'number': 13}\n",
      "{'_id': ObjectId('620356df9554eee55a5293b1'), 'author': 'dave lee', 'publisher': 'bit_company', 'number': 14}\n",
      "{'_id': ObjectId('620356df9554eee55a5293b2'), 'author': 'dave lee', 'publisher': 'bit_company', 'number': 15}\n",
      "{'_id': ObjectId('620356df9554eee55a5293b3'), 'author': 'dave lee', 'publisher': 'bit_company', 'number': 16}\n",
      "{'_id': ObjectId('620356df9554eee55a5293b4'), 'author': 'dave lee', 'publisher': 'bit_company', 'number': 17}\n",
      "{'_id': ObjectId('620356df9554eee55a5293b5'), 'author': 'dave lee', 'publisher': 'bit_company', 'number': 18}\n",
      "{'_id': ObjectId('620356df9554eee55a5293b6'), 'author': 'dave lee', 'publisher': 'bit_company', 'number': 19}\n",
      "{'_id': ObjectId('620356df9554eee55a5293b7'), 'author': 'dave lee', 'publisher': 'bit_company', 'number': 20}\n",
      "{'_id': ObjectId('620356df9554eee55a5293b8'), 'author': 'dave lee', 'publisher': 'bit_company', 'number': 21}\n",
      "{'_id': ObjectId('620356df9554eee55a5293b9'), 'author': 'dave lee', 'publisher': 'bit_company', 'number': 22}\n",
      "{'_id': ObjectId('620356df9554eee55a5293ba'), 'author': 'dave lee', 'publisher': 'bit_company', 'number': 23}\n",
      "{'_id': ObjectId('620356df9554eee55a5293bb'), 'author': 'dave lee', 'publisher': 'bit_company', 'number': 24}\n",
      "{'_id': ObjectId('620356df9554eee55a5293bc'), 'author': 'dave lee', 'publisher': 'bit_company', 'number': 25}\n",
      "{'_id': ObjectId('620356df9554eee55a5293bd'), 'author': 'dave lee', 'publisher': 'bit_company', 'number': 26}\n",
      "{'_id': ObjectId('620356df9554eee55a5293be'), 'author': 'dave lee', 'publisher': 'bit_company', 'number': 27}\n",
      "{'_id': ObjectId('620356df9554eee55a5293bf'), 'author': 'dave lee', 'publisher': 'bit_company', 'number': 28}\n",
      "{'_id': ObjectId('620356df9554eee55a5293c0'), 'author': 'dave lee', 'publisher': 'bit_company', 'number': 29}\n",
      "{'_id': ObjectId('620356df9554eee55a5293c1'), 'author': 'dave lee', 'publisher': 'bit_company', 'number': 30}\n",
      "{'_id': ObjectId('620356df9554eee55a5293c2'), 'author': 'dave lee', 'publisher': 'bit_company', 'number': 31}\n",
      "{'_id': ObjectId('620356df9554eee55a5293c3'), 'author': 'dave lee', 'publisher': 'bit_company', 'number': 32}\n",
      "{'_id': ObjectId('620356df9554eee55a5293c4'), 'author': 'dave lee', 'publisher': 'bit_company', 'number': 33}\n",
      "{'_id': ObjectId('620356df9554eee55a5293c5'), 'author': 'dave lee', 'publisher': 'bit_company', 'number': 34}\n",
      "{'_id': ObjectId('620356df9554eee55a5293c6'), 'author': 'dave lee', 'publisher': 'bit_company', 'number': 35}\n",
      "{'_id': ObjectId('620356df9554eee55a5293c7'), 'author': 'dave lee', 'publisher': 'bit_company', 'number': 36}\n",
      "{'_id': ObjectId('620356df9554eee55a5293c8'), 'author': 'dave lee', 'publisher': 'bit_company', 'number': 37}\n",
      "{'_id': ObjectId('620356df9554eee55a5293c9'), 'author': 'dave lee', 'publisher': 'bit_company', 'number': 38}\n",
      "{'_id': ObjectId('620356df9554eee55a5293ca'), 'author': 'dave lee', 'publisher': 'bit_company', 'number': 39}\n",
      "{'_id': ObjectId('620356df9554eee55a5293cb'), 'author': 'dave lee', 'publisher': 'bit_company', 'number': 40}\n",
      "{'_id': ObjectId('620356df9554eee55a5293cc'), 'author': 'dave lee', 'publisher': 'bit_company', 'number': 41}\n",
      "{'_id': ObjectId('620356df9554eee55a5293cd'), 'author': 'dave lee', 'publisher': 'bit_company', 'number': 42}\n",
      "{'_id': ObjectId('620356df9554eee55a5293ce'), 'author': 'dave lee', 'publisher': 'bit_company', 'number': 43}\n",
      "{'_id': ObjectId('620356df9554eee55a5293cf'), 'author': 'dave lee', 'publisher': 'bit_company', 'number': 44}\n",
      "{'_id': ObjectId('620356df9554eee55a5293d0'), 'author': 'dave lee', 'publisher': 'bit_company', 'number': 45}\n",
      "{'_id': ObjectId('620356df9554eee55a5293d1'), 'author': 'dave lee', 'publisher': 'bit_company', 'number': 46}\n",
      "{'_id': ObjectId('620356df9554eee55a5293d2'), 'author': 'dave lee', 'publisher': 'bit_company', 'number': 47}\n",
      "{'_id': ObjectId('620356df9554eee55a5293d3'), 'author': 'dave lee', 'publisher': 'bit_company', 'number': 48}\n",
      "{'_id': ObjectId('620356df9554eee55a5293d4'), 'author': 'dave lee', 'publisher': 'bit_company', 'number': 49}\n",
      "{'_id': ObjectId('620356df9554eee55a5293d5'), 'author': 'dave lee', 'publisher': 'bit_company', 'number': 50}\n",
      "{'_id': ObjectId('620356df9554eee55a5293d6'), 'author': 'dave lee', 'publisher': 'bit_company', 'number': 51}\n",
      "{'_id': ObjectId('620356df9554eee55a5293d7'), 'author': 'dave lee', 'publisher': 'bit_company', 'number': 52}\n",
      "{'_id': ObjectId('620356df9554eee55a5293d8'), 'author': 'dave lee', 'publisher': 'bit_company', 'number': 53}\n",
      "{'_id': ObjectId('620356df9554eee55a5293d9'), 'author': 'dave lee', 'publisher': 'bit_company', 'number': 54}\n",
      "{'_id': ObjectId('620356df9554eee55a5293da'), 'author': 'dave lee', 'publisher': 'bit_company', 'number': 55}\n",
      "{'_id': ObjectId('620356df9554eee55a5293db'), 'author': 'dave lee', 'publisher': 'bit_company', 'number': 56}\n",
      "{'_id': ObjectId('620356df9554eee55a5293dc'), 'author': 'dave lee', 'publisher': 'bit_company', 'number': 57}\n",
      "{'_id': ObjectId('620356df9554eee55a5293dd'), 'author': 'dave lee', 'publisher': 'bit_company', 'number': 58}\n",
      "{'_id': ObjectId('620356df9554eee55a5293de'), 'author': 'dave lee', 'publisher': 'bit_company', 'number': 59}\n",
      "{'_id': ObjectId('620356df9554eee55a5293df'), 'author': 'dave lee', 'publisher': 'bit_company', 'number': 60}\n",
      "{'_id': ObjectId('620356df9554eee55a5293e0'), 'author': 'dave lee', 'publisher': 'bit_company', 'number': 61}\n",
      "{'_id': ObjectId('620356df9554eee55a5293e1'), 'author': 'dave lee', 'publisher': 'bit_company', 'number': 62}\n",
      "{'_id': ObjectId('620356df9554eee55a5293e2'), 'author': 'dave lee', 'publisher': 'bit_company', 'number': 63}\n",
      "{'_id': ObjectId('620356df9554eee55a5293e3'), 'author': 'dave lee', 'publisher': 'bit_company', 'number': 64}\n",
      "{'_id': ObjectId('620356df9554eee55a5293e4'), 'author': 'dave lee', 'publisher': 'bit_company', 'number': 65}\n",
      "{'_id': ObjectId('620356df9554eee55a5293e5'), 'author': 'dave lee', 'publisher': 'bit_company', 'number': 66}\n",
      "{'_id': ObjectId('620356df9554eee55a5293e6'), 'author': 'dave lee', 'publisher': 'bit_company', 'number': 67}\n",
      "{'_id': ObjectId('620356df9554eee55a5293e7'), 'author': 'dave lee', 'publisher': 'bit_company', 'number': 68}\n",
      "{'_id': ObjectId('620356df9554eee55a5293e8'), 'author': 'dave lee', 'publisher': 'bit_company', 'number': 69}\n",
      "{'_id': ObjectId('620356df9554eee55a5293e9'), 'author': 'dave lee', 'publisher': 'bit_company', 'number': 70}\n",
      "{'_id': ObjectId('620356df9554eee55a5293ea'), 'author': 'dave lee', 'publisher': 'bit_company', 'number': 71}\n",
      "{'_id': ObjectId('620356df9554eee55a5293eb'), 'author': 'dave lee', 'publisher': 'bit_company', 'number': 72}\n",
      "{'_id': ObjectId('620356df9554eee55a5293ec'), 'author': 'dave lee', 'publisher': 'bit_company', 'number': 73}\n",
      "{'_id': ObjectId('620356df9554eee55a5293ed'), 'author': 'dave lee', 'publisher': 'bit_company', 'number': 74}\n",
      "{'_id': ObjectId('620356df9554eee55a5293ee'), 'author': 'dave lee', 'publisher': 'bit_company', 'number': 75}\n",
      "{'_id': ObjectId('620356df9554eee55a5293ef'), 'author': 'dave lee', 'publisher': 'bit_company', 'number': 76}\n",
      "{'_id': ObjectId('620356df9554eee55a5293f0'), 'author': 'dave lee', 'publisher': 'bit_company', 'number': 77}\n",
      "{'_id': ObjectId('620356df9554eee55a5293f1'), 'author': 'dave lee', 'publisher': 'bit_company', 'number': 78}\n",
      "{'_id': ObjectId('620356df9554eee55a5293f2'), 'author': 'dave lee', 'publisher': 'bit_company', 'number': 79}\n",
      "{'_id': ObjectId('620356df9554eee55a5293f3'), 'author': 'dave lee', 'publisher': 'bit_company', 'number': 80}\n",
      "{'_id': ObjectId('620356df9554eee55a5293f4'), 'author': 'dave lee', 'publisher': 'bit_company', 'number': 81}\n",
      "{'_id': ObjectId('620356df9554eee55a5293f5'), 'author': 'dave lee', 'publisher': 'bit_company', 'number': 82}\n",
      "{'_id': ObjectId('620356df9554eee55a5293f6'), 'author': 'dave lee', 'publisher': 'bit_company', 'number': 83}\n",
      "{'_id': ObjectId('620356df9554eee55a5293f7'), 'author': 'dave lee', 'publisher': 'bit_company', 'number': 84}\n",
      "{'_id': ObjectId('620356df9554eee55a5293f8'), 'author': 'dave lee', 'publisher': 'bit_company', 'number': 85}\n",
      "{'_id': ObjectId('620356df9554eee55a5293f9'), 'author': 'dave lee', 'publisher': 'bit_company', 'number': 86}\n",
      "{'_id': ObjectId('620356df9554eee55a5293fa'), 'author': 'dave lee', 'publisher': 'bit_company', 'number': 87}\n",
      "{'_id': ObjectId('620356df9554eee55a5293fb'), 'author': 'dave lee', 'publisher': 'bit_company', 'number': 88}\n",
      "{'_id': ObjectId('620356df9554eee55a5293fc'), 'author': 'dave lee', 'publisher': 'bit_company', 'number': 89}\n",
      "{'_id': ObjectId('620356df9554eee55a5293fd'), 'author': 'dave lee', 'publisher': 'bit_company', 'number': 90}\n",
      "{'_id': ObjectId('620356df9554eee55a5293fe'), 'author': 'dave lee', 'publisher': 'bit_company', 'number': 91}\n",
      "{'_id': ObjectId('620356df9554eee55a5293ff'), 'author': 'dave lee', 'publisher': 'bit_company', 'number': 92}\n",
      "{'_id': ObjectId('620356df9554eee55a529400'), 'author': 'dave lee', 'publisher': 'bit_company', 'number': 93}\n",
      "{'_id': ObjectId('620356df9554eee55a529401'), 'author': 'dave lee', 'publisher': 'bit_company', 'number': 94}\n",
      "{'_id': ObjectId('620356df9554eee55a529402'), 'author': 'dave lee', 'publisher': 'bit_company', 'number': 95}\n",
      "{'_id': ObjectId('620356df9554eee55a529403'), 'author': 'dave lee', 'publisher': 'bit_company', 'number': 96}\n",
      "{'_id': ObjectId('620356df9554eee55a529404'), 'author': 'dave lee', 'publisher': 'bit_company', 'number': 97}\n",
      "{'_id': ObjectId('620356df9554eee55a529405'), 'author': 'dave lee', 'publisher': 'bit_company', 'number': 98}\n",
      "{'_id': ObjectId('620356df9554eee55a529406'), 'author': 'dave lee', 'publisher': 'bit_company', 'number': 99}\n"
     ]
    }
   ],
   "source": [
    "docs = it_book.find()\n",
    "for doc in docs:\n",
    "    print(doc)"
   ]
  },
  {
   "cell_type": "code",
   "execution_count": null,
   "id": "4b095319",
   "metadata": {},
   "outputs": [],
   "source": []
  },
  {
   "cell_type": "code",
   "execution_count": 53,
   "id": "9e80525e",
   "metadata": {},
   "outputs": [
    {
     "data": {
      "text/plain": [
       "<pymongo.results.UpdateResult at 0x2426a070800>"
      ]
     },
     "execution_count": 53,
     "metadata": {},
     "output_type": "execute_result"
    }
   ],
   "source": [
    "it_book.update_many({},{'$set': {\"publisher\":'bit_camp_pub'}})"
   ]
  },
  {
   "cell_type": "code",
   "execution_count": 55,
   "id": "7e50a9bf",
   "metadata": {},
   "outputs": [
    {
     "data": {
      "text/plain": [
       "<pymongo.results.DeleteResult at 0x2426a06c880>"
      ]
     },
     "execution_count": 55,
     "metadata": {},
     "output_type": "execute_result"
    }
   ],
   "source": [
    "it_book.delete_many({'number':{'$gte':6}})"
   ]
  },
  {
   "cell_type": "code",
   "execution_count": 56,
   "id": "3d3bf1a0",
   "metadata": {},
   "outputs": [
    {
     "name": "stdout",
     "output_type": "stream",
     "text": [
      "{'_id': ObjectId('620356df9554eee55a5293a3'), 'author': 'dave lee', 'publisher': 'bit_camp_pub', 'number': 0}\n",
      "{'_id': ObjectId('620356df9554eee55a5293a4'), 'author': 'dave lee', 'publisher': 'bit_camp_pub', 'number': 1}\n",
      "{'_id': ObjectId('620356df9554eee55a5293a5'), 'author': 'dave lee', 'publisher': 'bit_camp_pub', 'number': 2}\n",
      "{'_id': ObjectId('620356df9554eee55a5293a6'), 'author': 'dave lee', 'publisher': 'bit_camp_pub', 'number': 3}\n",
      "{'_id': ObjectId('620356df9554eee55a5293a7'), 'author': 'dave lee', 'publisher': 'bit_camp_pub', 'number': 4}\n",
      "{'_id': ObjectId('620356df9554eee55a5293a8'), 'author': 'dave lee', 'publisher': 'bit_camp_pub', 'number': 5}\n"
     ]
    }
   ],
   "source": [
    "docs = it_book.find()\n",
    "for doc in docs:\n",
    "    print(doc)"
   ]
  },
  {
   "cell_type": "code",
   "execution_count": null,
   "id": "615d82d1",
   "metadata": {},
   "outputs": [],
   "source": []
  },
  {
   "cell_type": "code",
   "execution_count": null,
   "id": "281361ac",
   "metadata": {},
   "outputs": [],
   "source": [
    "# crawling cine 21"
   ]
  },
  {
   "cell_type": "code",
   "execution_count": null,
   "id": "94126171",
   "metadata": {},
   "outputs": [],
   "source": []
  },
  {
   "cell_type": "code",
   "execution_count": 62,
   "id": "e7ca293d",
   "metadata": {},
   "outputs": [],
   "source": [
    "import requests\n",
    "from bs4 import BeautifulSoup"
   ]
  },
  {
   "cell_type": "code",
   "execution_count": 57,
   "id": "51b0228d",
   "metadata": {},
   "outputs": [],
   "source": [
    "url = 'http://www.cine21.com/rank/person'"
   ]
  },
  {
   "cell_type": "code",
   "execution_count": 63,
   "id": "a1fd7427",
   "metadata": {},
   "outputs": [
    {
     "data": {
      "text/plain": [
       "<!DOCTYPE html PUBLIC \"-//W3C//DTD XHTML 1.0 Transitional//EN\" \"http://www.w3.org/TR/xhtml1/DTD/xhtml1-transitional.dtd\">\n",
       "\n",
       "<html xmlns=\"http://www.w3.org/1999/xhtml\">\n",
       "<head>\n",
       "<meta content=\"1641311652800771\" property=\"fb:pages\"/>\n",
       "<meta content=\"vTM0gmeRzJwn1MIM1LMSp3cxP_SaBzch1ziRY255RHw\" name=\"google-site-verification\"/>\n",
       "<meta content=\"5yOe6b_e_3rr7vNDwgXJw_8wLZQGx4lJ_V48KNPrqkA\" name=\"google-site-verification\"/>\n",
       "<meta content=\"20defde86fc4464f2693891567a98905bd0a60d1\" name=\"naver-site-verification\"/>\n",
       "<meta content=\"dmds9ks357rhqvdnk\" name=\"dailymotion-domain-verification\"/>\n",
       "<meta content=\"text/html; charset=utf-8\" http-equiv=\"Content-Type\"/>\n",
       "<meta content=\"IE=edge\" http-equiv=\"X-UA-Compatible\"/>\n",
       "<title>씨네21</title>\n",
       "<link href=\"/inc/www/css/default1.css\" media=\"all\" rel=\"stylesheet\" type=\"text/css\"/>\n",
       "<link href=\"/inc/www/css/content1.css\" media=\"all\" rel=\"stylesheet\" type=\"text/css\"/>\n",
       "<script src=\"https://ajax.googleapis.com/ajax/libs/jquery/1.12.0/jquery.min.js\"></script>\n",
       "<meta content=\"씨네21, 영화, 전문가 평점 , 최신 영화 정보, 영화추천, 시사회, 영화제, 박스오피스, 개봉예정작, movie, 한국영화, 예매, 예스24, 잡지, 영화배우, 감독, 매거진, 리뷰, 별점, 이동진, 김혜리, 박평식, 영화순위\" name=\"keywords\"/>\n",
       "<meta content=\"159893937406354\" property=\"fb:pages\">\n",
       "<script src=\"//static.criteo.net/js/ld/publishertag.js\" type=\"text/javascript\"></script>\n",
       "<meta content=\"대한민국 최고 영화전문매체 씨네21은 최신영화 정보, 전문가 평점, 박스오피스 영화, 시사회 이벤트 정보 등 최다 영화 관련 기사와 정보를 제공합니다.\" property=\"description\">\n",
       "<meta content=\"website\" property=\"og:type\"/>\n",
       "<meta content=\"씨네21\" property=\"og:title\"/>\n",
       "<meta content=\"대한민국 최고 영화전문매체\" property=\"og:description\"/>\n",
       "<meta content=\"http://image.cine21.com/www1/common/cine21_logoicon.jpg\" property=\"og:image\"/>\n",
       "<meta content=\"http://www.cine21.com/rank/person\" property=\"og:url\"/>\n",
       "<link href=\"/inc/ext/jqueryui/jquery-ui.css\" rel=\"stylesheet\"/>\n",
       "<script src=\"/inc/ext/jqueryui/jquery-ui.js\" type=\"text/javascript\"></script>\n",
       "<script src=\"/inc/ext/placeholder/jquery.placeholder.js\"></script>\n",
       "<script src=\"/inc/www/js/common.js\"></script>\n",
       "<script src=\"/inc/www/js/search.js\"></script>\n",
       "<script>\n",
       "        var member_me = \"\";\n",
       "\t</script>\n",
       "</meta></meta></head>\n",
       "<body>\n",
       "<script>(function(){\n",
       "            return;\n",
       "            var qs_s = location.href.includes(\"/issue\") ? 18445 : 18252;\n",
       "            var d=!1,e=\"//www.mediacategory.com/servlet/iadbn?from=\"+escape(document.referrer)+\"&s=\"+qs_s+\"&psb=99\",c=function(){d=!0;var a=document.createElement(\"iframe\");a.src=e;a.width=\"0\";a.height=\"0\";a.frameBorder=0;a.marginWidth=0;a.marginHeight=0;a.scrolling=\"no\";a.async?a.async=!0:a.defer&&(a.defer=!0);if(document.body)document.body.appendChild(a);else{var b=document.getElementsByTagName(\"html\")[0],c=document.createElement(\"body\");b.appendChild(c);c.appendChild(a)}};try{var f=setTimeout(c,1E3),g=document.getElementsByTagName(\"head\").item(0),b=document.createElement(\"script\");b.src=\"//cdn.megadata.co.kr/js/media/1.1/MBSHandler.js\";b.type=\"text/javascript\";b.async?b.async=!0:b.defer=!0;b.onload=function(){!0!==d&&(clearTimeout(f),enlipleMBSHandler(enlipleMBSHandler.getProductTypeCode(\"ico\"),enlipleMBSHandler.getWebCode(),qs_s).appendICover(e))};g.appendChild(b)}catch(a){c()}}\n",
       "    )();</script>\n",
       "<div class=\"acce_nav\">\n",
       "<a href=\"#content\">컨텐츠 바로가기[Skip to contents]</a>\n",
       "</div>\n",
       "<!-- Wrap -->\n",
       "<div id=\"wrap\">\n",
       "<!-- Header -->\n",
       "<div id=\"header\">\n",
       "<div class=\"logo_area\">\n",
       "<!-- logo -->\n",
       "<h1 class=\"logo\"><a href=\"/\"><img alt=\"씨네21\" src=\"http://image.cine21.com/www1/common/logo.png\"/></a></h1>\n",
       "<!-- logo -->\n",
       "<!-- banner -->\n",
       "<div class=\"banner_header\">\n",
       "<script src=\"https://adservice.hani.co.kr/RealMedia/ads/adstream_jx.ads/www.cine21.com/main@x29\"></script>\n",
       "</div>\n",
       "<!-- //banner -->\n",
       "<!-- logout상태 -->\n",
       "<div class=\"login_area\">\n",
       "<!--\t\t\t\t<a href=\"https://member.hani.co.kr/login.php?url=http%3A%2F%2Fwww.cine21.com%2Fmember%2Fbridge%2Flogin_return%2F%3Fnext_url%3Dhttp%25253A%25252F%25252Fwww.cine21.com%25252Frank%25252Fperson\" class=\"btn_login\">로그인</a>-->\n",
       "<a class=\"btn_login\" href=\"https://member.hani.co.kr/login.php?url=http%3A%2F%2Fwww.cine21.com%2Frank%2Fperson\">로그인</a>\n",
       "<a class=\"btn_signup\" href=\"/member/bridge/join\">회원가입</a>\n",
       "</div>\n",
       "<!-- //logout상태 -->\n",
       "</div>\n",
       "<div class=\"gnb_area\">\n",
       "<div class=\"gnb_box\">\n",
       "<!-- gnb -->\n",
       "<ul id=\"gnb\">\n",
       "<li><a class=\"\" href=\"/news\"><span>기사</span></a></li>\n",
       "<li><a class=\"\" href=\"/news/issue/list\"><span>데일리뉴스</span></a></li>\n",
       "<li><a class=\"on\" href=\"/movie\"><span>영화</span></a></li>\n",
       "<li><a class=\"\" href=\"/rank\"><span>랭킹</span></a></li>\n",
       "<li><a class=\"\" href=\"/media\"><span>멀티미디어</span></a></li>\n",
       "<li><a class=\"\" href=\"/event\"><span>이벤트&amp;커뮤니티</span></a></li>\n",
       "<li><a class=\"\" href=\"/subscription\"><span>정기구독</span></a></li>\n",
       "<li><a class=\"\" href=\"/db\"><span>아카이브</span></a></li>\n",
       "</ul> <!--\n",
       "\t\t\t\t<ul id=\"gnb\">\n",
       "\t\t\t\t\t<li><a href=\"/news\" class=\"\"><span>기사</span></a></li>\n",
       "\t\t\t\t\t<li><a href=\"/movie\" class=\"\"><span>영화</span></a></li>\n",
       "\t\t\t\t\t<li><a href=\"/rank\" class=\"\"><span>랭킹</span></a></li>\n",
       "\t\t\t\t\t<li><a href=\"/media\" class=\"\"><span>멀티미디어</span></a></li>\n",
       "\t\t\t\t\t<li><a href=\"/event\" class=\"\"><span>이벤트&amp;커뮤니티</span></a></li>\n",
       "\t\t\t\t\t<li><a href=\"/subscription\" class=\"\"><span>구독</span></a></li>\t\t\t\t\t\n",
       "\t\t\t\t\t<li><a href=\"/news/issue\" class=\"\"><span>핫이슈</span></a></li>\t\t\t\t\t\n",
       "\t\t\t\t</ul>\n",
       "\t\t\t\t-->\n",
       "<!-- // gnb -->\n",
       "<ul class=\"gnb_special\" id=\"gnb_quick\">\n",
       "<li class=\"gnb_people\"><a class=\"\" href=\"/community/recruit/\"><span>영화인 리쿠르트</span></a></li>\n",
       "<!--\t\t\t\t\t<li class=\"gnb_db\"><a href=\"/db\" class=\"\"><span>아카이브</span></a></li>-->\n",
       "</ul>\n",
       "<!-- search form -->\n",
       "<div class=\"search_area\">\n",
       "<form action=\"/search/\" id=\"total_search_form\" method=\"get\">\n",
       "<fieldset>\n",
       "<legend>통합검색</legend>\n",
       "<input class=\"input_search\" id=\"search_q\" name=\"q\" placeholder=\"검색어를 입력해 주세요\" title=\"검색어 입력\" type=\"text\"/>\n",
       "<a class=\"btn_search\" href=\"javascript:;\" onclick=\"$('#total_search_form').submit()\"></a>검색\n",
       "<!--<input type=\"submit\" value=\"검색\" />-->\n",
       "</fieldset>\n",
       "</form>\n",
       "</div>\n",
       "<!-- // search form -->\n",
       "</div>\n",
       "</div>\n",
       "</div>\n",
       "<!-- // Header -->\n",
       "<div id=\"container\">\n",
       "<div class=\"lnb_area\">\n",
       "<p class=\"lnb_title\"></p>\n",
       "<ul id=\"lnb\">\n",
       "<li style=\"width:50%\">\n",
       "<a class=\"\" href=\"/movie/lists\">\n",
       "<span>영화정보</span>\n",
       "</a>\n",
       "</li>\n",
       "<li style=\"width:50%\">\n",
       "<a class=\"on\" href=\"/movie/point\">\n",
       "<span>영화별점</span>\n",
       "</a>\n",
       "</li>\n",
       "</ul>\n",
       "</div> <script>\n",
       "var section=\"actor\";\n",
       "var fetch_page = 1;\n",
       "var fetch_gender = \"all\";\n",
       "$(function(){\n",
       "\t$('.search_option a').click(function(e){\n",
       "\t\tif($(this).hasClass('.on')) return;\n",
       "\t\t$(this).parent().find('.on').removeClass('on');\n",
       "\t\t$(this).addClass('on');\n",
       "\t\tfetch_list(1);\n",
       "\t});\t\n",
       "\tresetFields();\n",
       "});\n",
       "\n",
       "   function resetFields(){\n",
       "        $('#li_gender a').eq(0).click();\n",
       "        $('#li_period a').eq(0).click();\n",
       "        fetch_list(1);\n",
       "    }\n",
       "\n",
       "    function get_postdata(){\n",
       "        var post_data = {};\n",
       "        post_data['section'] = section;\n",
       "        post_data['period_start'] = $('#li_period a.on').attr('data-r');\n",
       "        post_data['gender'] = $('#li_gender a.on').attr('data-r');\n",
       "        post_data['page'] = fetch_page;\n",
       "        return post_data;\n",
       "    }\n",
       "\n",
       "    function fetch_list(page){\n",
       "        var post_data = get_postdata();\n",
       "        post_data['page'] = page;\n",
       "\n",
       "        $.post('/rank/person/content', post_data, function(d){\n",
       "            fetch_page = page;\n",
       "            $('#rank_holder').html(d);\n",
       "            /*\n",
       "            $('#rank_holder .bx_n_graph').each(function(i){\n",
       "                //drawGraph($(this));\n",
       "            });\n",
       "        */\n",
       "        });\n",
       "    }\n",
       "\n",
       "    function fill_dateInput(subs, anchor){\n",
       "        $(\"input[name='period_start']\").datepicker(\"setDate\", '-'+subs);\n",
       "        $(\"input[name='period_end']\").datepicker(\"setDate\", '-1d');\n",
       "        $(\"#dd_period a.on\").removeClass(\"on\");\n",
       "        $(anchor).addClass(\"on\");\n",
       "    }\n",
       "\n",
       "    function setGender(gender, anchor){\n",
       "        fetch_gender = gender;\n",
       "        $('#dd_gender a.on').removeClass('on');\n",
       "        $(anchor).addClass('on');\n",
       "    }\n",
       "\n",
       "\n",
       "    function show_list(person_id, elem){\n",
       "\n",
       "        var post_data = get_postdata();\n",
       "        if(post_data==false) return;\n",
       "\n",
       "        post_data['person_id'] = person_id;\n",
       "        $.post(\"/movie/boxoffice/ranking_list\", post_data, function(d){\n",
       "            //alert(d);return;\n",
       "            $('#actor_list_popup').remove();\n",
       "            var $li = $('.bx_n_tbst_people li').has($(elem));\n",
       "            $(d).appendTo($li);\n",
       "            drawGraph($li.find('.bx_n_graph'));\n",
       "            \n",
       "        });\n",
       "    }\n",
       "    function drawGraph($div){\n",
       "        var d = $.parseJSON($div.html());\n",
       "        $div.empty();\n",
       "        $div.highcharts({\n",
       "            chart: {\n",
       "                type: 'line'\n",
       "            },\n",
       "            title: null,\n",
       "            subtitle: null,\n",
       "            xAxis: {\n",
       "                categories: d.categories\n",
       "            },\n",
       "            yAxis: {\n",
       "                title: null\n",
       "            },\n",
       "            plotOptions: {\n",
       "                line: {\n",
       "                    dataLabels: {\n",
       "                        enabled: false\n",
       "                    },\n",
       "                    enableMouseTracking: false\n",
       "                }\n",
       "            },\n",
       "            series: d.series\n",
       "        });\n",
       "\n",
       "    }\n",
       "\n",
       "\n",
       "\n",
       "\n",
       "</script>\n",
       "<div class=\"ranking people\" id=\"content\">\n",
       "<!-- SNB -->\n",
       "<ul id=\"snb_t\">\n",
       "<li style=\"width:50%\"><a class=\"on\" href=\"/rank/person//?s=actor\">배우<span class=\"ico\"></span></a></li>\n",
       "<li style=\"width:50%\"><a class=\"\" href=\"/rank/person//?s=director\">감독<span class=\"ico\"></span></a></li>\n",
       "</ul> <!-- //SNB -->\n",
       "<!-- 검색옵션 -->\n",
       "<div class=\"search_option_area\">\n",
       "<ul class=\"search_option\">\n",
       "<li id=\"li_gender\">\n",
       "<span class=\"tit\">성별</span>\n",
       "<a class=\"on\" data-r=\"all\" href=\"javascript:;\">전체</a><span class=\"bar\">|</span>\n",
       "<a data-r=\"m\" href=\"javascript:;\">남자</a><span class=\"bar\">|</span>\n",
       "<a data-r=\"f\" href=\"javascript:;\">여자</a>\n",
       "</li>\n",
       "<li id=\"li_period\">\n",
       "<span class=\"tit\">집계기간</span>\n",
       "<a class=\"on\" data-r=\"2022-01\" href=\"javascript:;\">1개월</a><span class=\"bar\">|</span>\n",
       "<a data-r=\"2021-08\" href=\"javascript:;\">6개월</a><span class=\"bar\">|</span>\n",
       "<a data-r=\"2021-02\" href=\"javascript:;\">1년</a><span class=\"bar\">|</span>\n",
       "<a data-r=\"2020-02\" href=\"javascript:;\">2년</a>\n",
       "</li>\n",
       "</ul>\n",
       "<div class=\"btnArea\">\n",
       "<a class=\"btn_red_s\" href=\"javascript:;\" onclick=\"fetch_list(1)\">조회</a> <a class=\"btn_gray_s\" href=\"javascript:;\" onclick=\"resetFields()\">설정초기화</a>\n",
       "</div>\n",
       "</div>\n",
       "<!-- //검색옵션 -->\n",
       "<div id=\"rank_holder\"></div>\n",
       "<div class=\"from_kobis\">\n",
       "<img alt=\"kobis\" src=\"http://image.cine21.com/www1/rank/from_kobis.jpg\"/> 본 서비스는 영화진흥위원회가 제공하는 영화관입장권통합전산망(kobis.or.kr)정보를 활용하였습니다.\n",
       "\t\t\t</div>\n",
       "</div>\n",
       "<!-- 배너:리얼클릭 왼쪽 160x600 -->\n",
       "<style>\n",
       "\t\t\t.real_ad_container {margin:0 auto}\n",
       "\t\t</style>\n",
       "<div class=\"banner_left\">\n",
       "<div class=\"realssp_dv\" data-mcode=\"Y2luZTIxMjEwMDAwMV8zMjQyOA==\" id=\"realssp_cine212100001_32428\" title=\"리얼클릭 배너광고\"></div><script async=\"\" src=\"//ssp.realclick.co.kr/realclickssp.js?v=1.0&amp;m=cine212100001_32428&amp;t=j\"></script>\n",
       "</div>\n",
       "<!-- //배너:리얼클릭 -->\n",
       "<!-- 배너:리얼클릭 오른쪽 160x600 -->\n",
       "<div class=\"banner_right\">\n",
       "<div class=\"realssp_dv\" data-mcode=\"Y2luZTIxMjEwMDAwMV8zMjQyOQ==\" id=\"realssp_cine212100001_32429\" title=\"리얼클릭 배너광고\"></div><script async=\"\" src=\"//ssp.realclick.co.kr/realclickssp.js?v=1.0&amp;m=cine212100001_32429&amp;t=j\"></script>\n",
       "</div>\n",
       "<!-- //배너:리얼클릭 -->\n",
       "</div>\n",
       "<!-- Footer -->\n",
       "<div id=\"footer\">\n",
       "<div class=\"ft_menu1_area\">\n",
       "<div class=\"ft_menu1_left\">\n",
       "<h2>cine21 잡지</h2>\n",
       "<div class=\"btnArea subscription\">\n",
       "<a class=\"highlight\" href=\"/subscription/apply\">구독신청</a>\n",
       "<a href=\"https://smartstore.naver.com/cine21\" target=\"_blank\">낱권구매</a>\n",
       "<a href=\"https://docs.google.com/forms/d/1stxITs9RPvVQLega4CFlgmPqx9PAkHJ4Q0XiVsBH2RI/viewform\" target=\"_blank\">무료 구독 이벤트</a>\n",
       "<!--a href=\"/community/post/\">독자엽서</a-->\n",
       "</div>\n",
       "<ul class=\"magazine\">\n",
       "<li>\n",
       "<a href=\"/db/mag/content/?ind_serial=1342\">\n",
       "<p class=\"thumbnail\"><img alt=\"\" src=\"https://image.cine21.com/resize/cine21/site/2022/0204/11_16_55__61fc8c9776d38[F190,238].jpg\"/></p>\n",
       "<p class=\"number\">1342호</p>\n",
       "</a>\n",
       "</li>\n",
       "<li>\n",
       "<a href=\"/db/mag/content/?ind_serial=1341\">\n",
       "<p class=\"thumbnail\"><img alt=\"\" src=\"https://image.cine21.com/resize/cine21/site/2022/0121/11_09_52__61ea15f0c486c[F190,238].jpg\"/></p>\n",
       "<p class=\"number\">1341호</p>\n",
       "</a>\n",
       "</li>\n",
       "<li>\n",
       "<a href=\"/db/mag/content/?ind_serial=1340\">\n",
       "<p class=\"thumbnail\"><img alt=\"\" src=\"https://image.cine21.com/resize/cine21/site/2022/0114/11_09_16__61e0db4c84b07[F190,238].jpg\"/></p>\n",
       "<p class=\"number\">1340호</p>\n",
       "</a>\n",
       "</li>\n",
       "</ul>\n",
       "</div>\n",
       "<div class=\"ft_menu1_right\">\n",
       "<!-- 공지사항 -->\n",
       "<div class=\"notice\">\n",
       "<h2>공지사항<a class=\"more\" href=\"/misc/cs/notice_list/\">더 보기</a></h2>\n",
       "<ul>\n",
       "<li><a href=\"/misc/cs/notice_view/?article_no=8311\">· 도서 &lt;후회하는 소녀와 축제의 밤&gt; 기대평 이벤트 당첨자 발표</a></li>\n",
       "<li><a href=\"/misc/cs/notice_view/?article_no=8310\">· 도서 &lt;윌: WILL&gt;  기대평 이벤트 당첨자 발표</a></li>\n",
       "<li><a href=\"/misc/cs/notice_view/?article_no=8309\">· 도서 &lt;일회용 아내&gt; 기대평 이벤트 당첨자 발표</a></li>\n",
       "<li><a href=\"/misc/cs/notice_view/?article_no=8308\">· 영화 &lt;만년이 지나도 변하지 않는 게 있어&gt; 시사회 초대 이벤트 당첨자 발표</a></li>\n",
       "<li><a href=\"/misc/cs/notice_view/?article_no=8307\">· 연극 &lt;옥탑방 고양이&gt; 초대 이벤트 당첨자 발표</a></li>\n",
       "</ul>\n",
       "</div>\n",
       "<!-- //공지사항 -->\n",
       "<!-- cine21 sns -->\n",
       "<div class=\"sns\">\n",
       "<h2>cine21 SNS</h2>\n",
       "<ul>\n",
       "<li><a href=\"https://www.facebook.com/cine21\" target=\"_blank\"><span class=\"menu_img ico1\"></span>페이스북</a></li>\n",
       "<li><a href=\"https://www.youtube.com/channel/UCz4vMhiedEWgICIF7NBYiYA\" target=\"_blank\"><span class=\"menu_img ico2\"></span>유튜브</a></li>\n",
       "<li><a href=\"https://www.instagram.com/cine_21\" target=\"_blank\"><span class=\"menu_img ico3\"></span>인스타그램</a></li>\n",
       "<li><a href=\"https://blog.naver.com/cine21yo\" target=\"_blank\"><span class=\"menu_img ico4\"></span>네이버 블로그</a></li>\n",
       "<li><a href=\"https://www.twitter.com/cine21_editor\" target=\"_blank\"><span class=\"menu_img ico5\"></span>트위터</a></li>\n",
       "<li><a href=\"https://m.post.naver.com/my.nhn?memberNo=15205863\" target=\"_blank\"><span class=\"menu_img ico6\"></span>네이버 포스트</a></li>\n",
       "</ul>\n",
       "</div>\n",
       "<!-- //cine21 sns -->\n",
       "<!-- 주목 -->\n",
       "<div class=\"family\">\n",
       "<h2>주목</h2>\n",
       "<ul>\n",
       "<li><a href=\"http://modumagazine.co.kr/\" target=\"_blank\"><span class=\"menu_img ico1\"></span>MODU</a></li>\n",
       "<li><a href=\"https://bridge.hani.co.kr/Hani/User?command=magazineform\" target=\"_blank\"><span class=\"menu_img ico2\"></span>뉴스레터 구독</a></li>\n",
       "</ul>\n",
       "</div>\n",
       "<!-- //주목 -->\n",
       "</div>\n",
       "</div>\n",
       "<div class=\"ft_menu2_area\">\n",
       "<ul class=\"ft_menu2\">\n",
       "<li><a href=\"/misc/company/\">회사소개</a></li>\n",
       "<li><a href=\"/misc/company/contact/\">부서별 전화번호</a></li>\n",
       "<li><a href=\"/misc/ad/\">광고 및 제휴 안내</a></li>\n",
       "<li><a href=\"/misc/cs/\">고객센터</a></li>\n",
       "<li><a href=\"/member/policy/privacy\">개인정보취급방침</a></li>\n",
       "<li><a href=\"/member/policy/email\">이메일주소무단수집거부</a></li>\n",
       "<li><a href=\"/member/policy/agreement\">이용약관</a></li>\n",
       "<li><a href=\"/misc/doc/sitemap\">사이트맵</a></li>\n",
       "</ul>\n",
       "</div>\n",
       "<div class=\"copyright_area\">\n",
       "<div class=\"copyright\">\n",
       "\t\t\t\t씨네이십일주식회사 / 서울시 영등포구 당산로 41길 11 SK V1센터 E동 1102호 / 대표전화 : 02-6377-0500 / 대표이사 : 한정택<br/>\n",
       "\t\t\t\t사업자등록번호 : 105-86-57632 / 통신판매업번호 : 제2015-서울영등포-0671호<br/>\n",
       "\t\t\t\t제호 : 씨네21 / 등록번호 : 서울,자00347 / 등록일자 : 2011년 07월 20일 / 발행인ㆍ편집인 : 한정택 / 청소년보호책임자 : 장영엽<br/>\n",
       "\t\t\t\tE-mail : webmaster@cine21.com / (c) CINE21 Co., LTD\n",
       "\t\t\t</div>\n",
       "</div>\n",
       "</div>\n",
       "<!-- // Footer -->\n",
       "</div>\n",
       "<script src=\"/modules/_INC/js/dm-ce.js\"></script>\n",
       "</body>\n",
       "<script async=\"\" src=\"https://www.googletagmanager.com/gtag/js?id=UA-56624682-7\"></script>\n",
       "<script>\n",
       "    window.dataLayer = window.dataLayer || [];\n",
       "    function gtag(){dataLayer.push(arguments);}\n",
       "\n",
       "    gtag('js', new Date());\n",
       "    gtag('config', 'UA-56624682-7');\n",
       "    if(member_me!=\"\"){\n",
       "        gtag('set', {'user_id': member_me});\n",
       "    }\n",
       "\n",
       "    $(function(){\n",
       "        $(\"a[glab]\").click(function(e){\n",
       "            var $anchor = $(this);\n",
       "            var glab = $(this).attr(\"glab\");\n",
       "            gtag('event', 'location', {\n",
       "                'event_category': 'anchor',\n",
       "                'event_label': glab,\n",
       "                'event_callback' : function(){\n",
       "                    var href = $anchor.attr(\"href\");\n",
       "                    if(!href || href==\"\") {\n",
       "                        return;\n",
       "                    }\n",
       "                    location.href = href;\n",
       "                }\n",
       "            });\n",
       "            return false;\n",
       "        });\n",
       "    });\n",
       "\n",
       "</script>\n",
       "<script type=\"application/ld+json\">\n",
       "\t{\n",
       "\t\t\"@context\": \"http://schema.org\",\n",
       "\t\t\"@type\": \"Organization\",\n",
       "\t\t\"url\": \"http://www.cine21.com\",\n",
       "\t\t\"name\": \"씨네이십일주식회사\",\n",
       "\t\t\"description\": \"대한민국 영화미디어의 표준, 씨네21\",\n",
       "\t\t\"contactPoint\": {\n",
       "\t\t\t\"@type\": \"ContactPoint\",\n",
       "\t\t\t\"telephone\": \"+82-02-6377-0500\",\n",
       "\t\t\t\"contactType\": \"Customer service\"\n",
       "\t\t},\n",
       "\t\t\"sameAs\" : [\n",
       "\t\t\t\"http://post.naver.com/my.nhn?memberNo=15205863\",\n",
       "\t\t\t\"https://www.facebook.com/cine21/\",\n",
       "\t\t\t\"https://www.instagram.com/cine_21/\",\n",
       "\t\t\t\"https://twitter.com/cine21_editor\",\n",
       "\t\t\t\"https://www.youtube.com/channel/UCz4vMhiedEWgICIF7NBYiYA\",\n",
       "\t\t\t\"https://blog.naver.com/cine21yo\"\n",
       "\t\t]\n",
       "\t}\n",
       "</script>\n",
       "<script src=\"http://wcs.naver.net/wcslog.js\" type=\"text/javascript\"></script> <script type=\"text/javascript\"> if(!wcs_add) var wcs_add = {}; wcs_add[\"wa\"] = \"13cb4df462cbbf0\"; wcs_do(); </script>\n",
       "<script src=\"//cdn.ads.tapzin.com/cine21/tdn_settings.js\"></script>\n",
       "</html>"
      ]
     },
     "execution_count": 63,
     "metadata": {},
     "output_type": "execute_result"
    }
   ],
   "source": [
    "res = requests.get(url)\n",
    "soup = BeautifulSoup(res.text, 'html.parser')\n",
    "soup"
   ]
  },
  {
   "cell_type": "code",
   "execution_count": 64,
   "id": "26c90fde",
   "metadata": {},
   "outputs": [
    {
     "data": {
      "text/plain": [
       "[<div id=\"rank_holder\"></div>]"
      ]
     },
     "execution_count": 64,
     "metadata": {},
     "output_type": "execute_result"
    }
   ],
   "source": [
    "soup.select('div#rank_holder')"
   ]
  },
  {
   "cell_type": "code",
   "execution_count": null,
   "id": "41aea79b",
   "metadata": {},
   "outputs": [],
   "source": []
  },
  {
   "cell_type": "code",
   "execution_count": null,
   "id": "b0192eee",
   "metadata": {},
   "outputs": [],
   "source": []
  },
  {
   "cell_type": "code",
   "execution_count": 74,
   "id": "4948cf3a",
   "metadata": {},
   "outputs": [],
   "source": [
    "url = 'http://www.cine21.com/rank/person'"
   ]
  },
  {
   "cell_type": "code",
   "execution_count": 75,
   "id": "9dedd659",
   "metadata": {},
   "outputs": [],
   "source": [
    "month = '2022-01'\n",
    "\n",
    "data = {'section':'actor',\n",
    "    'period_start':month,\n",
    "       'gender':'all',\n",
    "       'page':1}"
   ]
  },
  {
   "cell_type": "code",
   "execution_count": 76,
   "id": "68c2a1a8",
   "metadata": {
    "collapsed": true
   },
   "outputs": [
    {
     "data": {
      "text/plain": [
       "<!DOCTYPE html PUBLIC \"-//W3C//DTD XHTML 1.0 Transitional//EN\" \"http://www.w3.org/TR/xhtml1/DTD/xhtml1-transitional.dtd\">\n",
       "\n",
       "<html xmlns=\"http://www.w3.org/1999/xhtml\">\n",
       "<head>\n",
       "<meta content=\"1641311652800771\" property=\"fb:pages\"/>\n",
       "<meta content=\"vTM0gmeRzJwn1MIM1LMSp3cxP_SaBzch1ziRY255RHw\" name=\"google-site-verification\"/>\n",
       "<meta content=\"5yOe6b_e_3rr7vNDwgXJw_8wLZQGx4lJ_V48KNPrqkA\" name=\"google-site-verification\"/>\n",
       "<meta content=\"20defde86fc4464f2693891567a98905bd0a60d1\" name=\"naver-site-verification\"/>\n",
       "<meta content=\"dmds9ks357rhqvdnk\" name=\"dailymotion-domain-verification\"/>\n",
       "<meta content=\"text/html; charset=utf-8\" http-equiv=\"Content-Type\"/>\n",
       "<meta content=\"IE=edge\" http-equiv=\"X-UA-Compatible\"/>\n",
       "<title>씨네21</title>\n",
       "<link href=\"/inc/www/css/default1.css\" media=\"all\" rel=\"stylesheet\" type=\"text/css\"/>\n",
       "<link href=\"/inc/www/css/content1.css\" media=\"all\" rel=\"stylesheet\" type=\"text/css\"/>\n",
       "<script src=\"https://ajax.googleapis.com/ajax/libs/jquery/1.12.0/jquery.min.js\"></script>\n",
       "<meta content=\"씨네21, 영화, 전문가 평점 , 최신 영화 정보, 영화추천, 시사회, 영화제, 박스오피스, 개봉예정작, movie, 한국영화, 예매, 예스24, 잡지, 영화배우, 감독, 매거진, 리뷰, 별점, 이동진, 김혜리, 박평식, 영화순위\" name=\"keywords\"/>\n",
       "<meta content=\"159893937406354\" property=\"fb:pages\">\n",
       "<script src=\"//static.criteo.net/js/ld/publishertag.js\" type=\"text/javascript\"></script>\n",
       "<meta content=\"대한민국 최고 영화전문매체 씨네21은 최신영화 정보, 전문가 평점, 박스오피스 영화, 시사회 이벤트 정보 등 최다 영화 관련 기사와 정보를 제공합니다.\" property=\"description\">\n",
       "<meta content=\"website\" property=\"og:type\"/>\n",
       "<meta content=\"씨네21\" property=\"og:title\"/>\n",
       "<meta content=\"대한민국 최고 영화전문매체\" property=\"og:description\"/>\n",
       "<meta content=\"http://image.cine21.com/www1/common/cine21_logoicon.jpg\" property=\"og:image\"/>\n",
       "<meta content=\"http://www.cine21.com/rank/person\" property=\"og:url\"/>\n",
       "<link href=\"/inc/ext/jqueryui/jquery-ui.css\" rel=\"stylesheet\"/>\n",
       "<script src=\"/inc/ext/jqueryui/jquery-ui.js\" type=\"text/javascript\"></script>\n",
       "<script src=\"/inc/ext/placeholder/jquery.placeholder.js\"></script>\n",
       "<script src=\"/inc/www/js/common.js\"></script>\n",
       "<script src=\"/inc/www/js/search.js\"></script>\n",
       "<script>\n",
       "        var member_me = \"\";\n",
       "\t</script>\n",
       "</meta></meta></head>\n",
       "<body>\n",
       "<script>(function(){\n",
       "            return;\n",
       "            var qs_s = location.href.includes(\"/issue\") ? 18445 : 18252;\n",
       "            var d=!1,e=\"//www.mediacategory.com/servlet/iadbn?from=\"+escape(document.referrer)+\"&s=\"+qs_s+\"&psb=99\",c=function(){d=!0;var a=document.createElement(\"iframe\");a.src=e;a.width=\"0\";a.height=\"0\";a.frameBorder=0;a.marginWidth=0;a.marginHeight=0;a.scrolling=\"no\";a.async?a.async=!0:a.defer&&(a.defer=!0);if(document.body)document.body.appendChild(a);else{var b=document.getElementsByTagName(\"html\")[0],c=document.createElement(\"body\");b.appendChild(c);c.appendChild(a)}};try{var f=setTimeout(c,1E3),g=document.getElementsByTagName(\"head\").item(0),b=document.createElement(\"script\");b.src=\"//cdn.megadata.co.kr/js/media/1.1/MBSHandler.js\";b.type=\"text/javascript\";b.async?b.async=!0:b.defer=!0;b.onload=function(){!0!==d&&(clearTimeout(f),enlipleMBSHandler(enlipleMBSHandler.getProductTypeCode(\"ico\"),enlipleMBSHandler.getWebCode(),qs_s).appendICover(e))};g.appendChild(b)}catch(a){c()}}\n",
       "    )();</script>\n",
       "<div class=\"acce_nav\">\n",
       "<a href=\"#content\">컨텐츠 바로가기[Skip to contents]</a>\n",
       "</div>\n",
       "<!-- Wrap -->\n",
       "<div id=\"wrap\">\n",
       "<!-- Header -->\n",
       "<div id=\"header\">\n",
       "<div class=\"logo_area\">\n",
       "<!-- logo -->\n",
       "<h1 class=\"logo\"><a href=\"/\"><img alt=\"씨네21\" src=\"http://image.cine21.com/www1/common/logo.png\"/></a></h1>\n",
       "<!-- logo -->\n",
       "<!-- banner -->\n",
       "<div class=\"banner_header\">\n",
       "<script src=\"https://adservice.hani.co.kr/RealMedia/ads/adstream_jx.ads/www.cine21.com/main@x29\"></script>\n",
       "</div>\n",
       "<!-- //banner -->\n",
       "<!-- logout상태 -->\n",
       "<div class=\"login_area\">\n",
       "<!--\t\t\t\t<a href=\"https://member.hani.co.kr/login.php?url=http%3A%2F%2Fwww.cine21.com%2Fmember%2Fbridge%2Flogin_return%2F%3Fnext_url%3Dhttp%25253A%25252F%25252Fwww.cine21.com%25252Frank%25252Fperson\" class=\"btn_login\">로그인</a>-->\n",
       "<a class=\"btn_login\" href=\"https://member.hani.co.kr/login.php?url=http%3A%2F%2Fwww.cine21.com%2Frank%2Fperson\">로그인</a>\n",
       "<a class=\"btn_signup\" href=\"/member/bridge/join\">회원가입</a>\n",
       "</div>\n",
       "<!-- //logout상태 -->\n",
       "</div>\n",
       "<div class=\"gnb_area\">\n",
       "<div class=\"gnb_box\">\n",
       "<!-- gnb -->\n",
       "<ul id=\"gnb\">\n",
       "<li><a class=\"\" href=\"/news\"><span>기사</span></a></li>\n",
       "<li><a class=\"\" href=\"/news/issue/list\"><span>데일리뉴스</span></a></li>\n",
       "<li><a class=\"on\" href=\"/movie\"><span>영화</span></a></li>\n",
       "<li><a class=\"\" href=\"/rank\"><span>랭킹</span></a></li>\n",
       "<li><a class=\"\" href=\"/media\"><span>멀티미디어</span></a></li>\n",
       "<li><a class=\"\" href=\"/event\"><span>이벤트&amp;커뮤니티</span></a></li>\n",
       "<li><a class=\"\" href=\"/subscription\"><span>정기구독</span></a></li>\n",
       "<li><a class=\"\" href=\"/db\"><span>아카이브</span></a></li>\n",
       "</ul> <!--\n",
       "\t\t\t\t<ul id=\"gnb\">\n",
       "\t\t\t\t\t<li><a href=\"/news\" class=\"\"><span>기사</span></a></li>\n",
       "\t\t\t\t\t<li><a href=\"/movie\" class=\"\"><span>영화</span></a></li>\n",
       "\t\t\t\t\t<li><a href=\"/rank\" class=\"\"><span>랭킹</span></a></li>\n",
       "\t\t\t\t\t<li><a href=\"/media\" class=\"\"><span>멀티미디어</span></a></li>\n",
       "\t\t\t\t\t<li><a href=\"/event\" class=\"\"><span>이벤트&amp;커뮤니티</span></a></li>\n",
       "\t\t\t\t\t<li><a href=\"/subscription\" class=\"\"><span>구독</span></a></li>\t\t\t\t\t\n",
       "\t\t\t\t\t<li><a href=\"/news/issue\" class=\"\"><span>핫이슈</span></a></li>\t\t\t\t\t\n",
       "\t\t\t\t</ul>\n",
       "\t\t\t\t-->\n",
       "<!-- // gnb -->\n",
       "<ul class=\"gnb_special\" id=\"gnb_quick\">\n",
       "<li class=\"gnb_people\"><a class=\"\" href=\"/community/recruit/\"><span>영화인 리쿠르트</span></a></li>\n",
       "<!--\t\t\t\t\t<li class=\"gnb_db\"><a href=\"/db\" class=\"\"><span>아카이브</span></a></li>-->\n",
       "</ul>\n",
       "<!-- search form -->\n",
       "<div class=\"search_area\">\n",
       "<form action=\"/search/\" id=\"total_search_form\" method=\"get\">\n",
       "<fieldset>\n",
       "<legend>통합검색</legend>\n",
       "<input class=\"input_search\" id=\"search_q\" name=\"q\" placeholder=\"검색어를 입력해 주세요\" title=\"검색어 입력\" type=\"text\"/>\n",
       "<a class=\"btn_search\" href=\"javascript:;\" onclick=\"$('#total_search_form').submit()\"></a>검색\n",
       "<!--<input type=\"submit\" value=\"검색\" />-->\n",
       "</fieldset>\n",
       "</form>\n",
       "</div>\n",
       "<!-- // search form -->\n",
       "</div>\n",
       "</div>\n",
       "</div>\n",
       "<!-- // Header -->\n",
       "<div id=\"container\">\n",
       "<div class=\"lnb_area\">\n",
       "<p class=\"lnb_title\"></p>\n",
       "<ul id=\"lnb\">\n",
       "<li style=\"width:50%\">\n",
       "<a class=\"\" href=\"/movie/lists\">\n",
       "<span>영화정보</span>\n",
       "</a>\n",
       "</li>\n",
       "<li style=\"width:50%\">\n",
       "<a class=\"on\" href=\"/movie/point\">\n",
       "<span>영화별점</span>\n",
       "</a>\n",
       "</li>\n",
       "</ul>\n",
       "</div> <script>\n",
       "var section=\"actor\";\n",
       "var fetch_page = 1;\n",
       "var fetch_gender = \"all\";\n",
       "$(function(){\n",
       "\t$('.search_option a').click(function(e){\n",
       "\t\tif($(this).hasClass('.on')) return;\n",
       "\t\t$(this).parent().find('.on').removeClass('on');\n",
       "\t\t$(this).addClass('on');\n",
       "\t\tfetch_list(1);\n",
       "\t});\t\n",
       "\tresetFields();\n",
       "});\n",
       "\n",
       "   function resetFields(){\n",
       "        $('#li_gender a').eq(0).click();\n",
       "        $('#li_period a').eq(0).click();\n",
       "        fetch_list(1);\n",
       "    }\n",
       "\n",
       "    function get_postdata(){\n",
       "        var post_data = {};\n",
       "        post_data['section'] = section;\n",
       "        post_data['period_start'] = $('#li_period a.on').attr('data-r');\n",
       "        post_data['gender'] = $('#li_gender a.on').attr('data-r');\n",
       "        post_data['page'] = fetch_page;\n",
       "        return post_data;\n",
       "    }\n",
       "\n",
       "    function fetch_list(page){\n",
       "        var post_data = get_postdata();\n",
       "        post_data['page'] = page;\n",
       "\n",
       "        $.post('/rank/person/content', post_data, function(d){\n",
       "            fetch_page = page;\n",
       "            $('#rank_holder').html(d);\n",
       "            /*\n",
       "            $('#rank_holder .bx_n_graph').each(function(i){\n",
       "                //drawGraph($(this));\n",
       "            });\n",
       "        */\n",
       "        });\n",
       "    }\n",
       "\n",
       "    function fill_dateInput(subs, anchor){\n",
       "        $(\"input[name='period_start']\").datepicker(\"setDate\", '-'+subs);\n",
       "        $(\"input[name='period_end']\").datepicker(\"setDate\", '-1d');\n",
       "        $(\"#dd_period a.on\").removeClass(\"on\");\n",
       "        $(anchor).addClass(\"on\");\n",
       "    }\n",
       "\n",
       "    function setGender(gender, anchor){\n",
       "        fetch_gender = gender;\n",
       "        $('#dd_gender a.on').removeClass('on');\n",
       "        $(anchor).addClass('on');\n",
       "    }\n",
       "\n",
       "\n",
       "    function show_list(person_id, elem){\n",
       "\n",
       "        var post_data = get_postdata();\n",
       "        if(post_data==false) return;\n",
       "\n",
       "        post_data['person_id'] = person_id;\n",
       "        $.post(\"/movie/boxoffice/ranking_list\", post_data, function(d){\n",
       "            //alert(d);return;\n",
       "            $('#actor_list_popup').remove();\n",
       "            var $li = $('.bx_n_tbst_people li').has($(elem));\n",
       "            $(d).appendTo($li);\n",
       "            drawGraph($li.find('.bx_n_graph'));\n",
       "            \n",
       "        });\n",
       "    }\n",
       "    function drawGraph($div){\n",
       "        var d = $.parseJSON($div.html());\n",
       "        $div.empty();\n",
       "        $div.highcharts({\n",
       "            chart: {\n",
       "                type: 'line'\n",
       "            },\n",
       "            title: null,\n",
       "            subtitle: null,\n",
       "            xAxis: {\n",
       "                categories: d.categories\n",
       "            },\n",
       "            yAxis: {\n",
       "                title: null\n",
       "            },\n",
       "            plotOptions: {\n",
       "                line: {\n",
       "                    dataLabels: {\n",
       "                        enabled: false\n",
       "                    },\n",
       "                    enableMouseTracking: false\n",
       "                }\n",
       "            },\n",
       "            series: d.series\n",
       "        });\n",
       "\n",
       "    }\n",
       "\n",
       "\n",
       "\n",
       "\n",
       "</script>\n",
       "<div class=\"ranking people\" id=\"content\">\n",
       "<!-- SNB -->\n",
       "<ul id=\"snb_t\">\n",
       "<li style=\"width:50%\"><a class=\"on\" href=\"/rank/person//?s=actor\">배우<span class=\"ico\"></span></a></li>\n",
       "<li style=\"width:50%\"><a class=\"\" href=\"/rank/person//?s=director\">감독<span class=\"ico\"></span></a></li>\n",
       "</ul> <!-- //SNB -->\n",
       "<!-- 검색옵션 -->\n",
       "<div class=\"search_option_area\">\n",
       "<ul class=\"search_option\">\n",
       "<li id=\"li_gender\">\n",
       "<span class=\"tit\">성별</span>\n",
       "<a class=\"on\" data-r=\"all\" href=\"javascript:;\">전체</a><span class=\"bar\">|</span>\n",
       "<a data-r=\"m\" href=\"javascript:;\">남자</a><span class=\"bar\">|</span>\n",
       "<a data-r=\"f\" href=\"javascript:;\">여자</a>\n",
       "</li>\n",
       "<li id=\"li_period\">\n",
       "<span class=\"tit\">집계기간</span>\n",
       "<a class=\"on\" data-r=\"2022-01\" href=\"javascript:;\">1개월</a><span class=\"bar\">|</span>\n",
       "<a data-r=\"2021-08\" href=\"javascript:;\">6개월</a><span class=\"bar\">|</span>\n",
       "<a data-r=\"2021-02\" href=\"javascript:;\">1년</a><span class=\"bar\">|</span>\n",
       "<a data-r=\"2020-02\" href=\"javascript:;\">2년</a>\n",
       "</li>\n",
       "</ul>\n",
       "<div class=\"btnArea\">\n",
       "<a class=\"btn_red_s\" href=\"javascript:;\" onclick=\"fetch_list(1)\">조회</a> <a class=\"btn_gray_s\" href=\"javascript:;\" onclick=\"resetFields()\">설정초기화</a>\n",
       "</div>\n",
       "</div>\n",
       "<!-- //검색옵션 -->\n",
       "<div id=\"rank_holder\"></div>\n",
       "<div class=\"from_kobis\">\n",
       "<img alt=\"kobis\" src=\"http://image.cine21.com/www1/rank/from_kobis.jpg\"/> 본 서비스는 영화진흥위원회가 제공하는 영화관입장권통합전산망(kobis.or.kr)정보를 활용하였습니다.\n",
       "\t\t\t</div>\n",
       "</div>\n",
       "<!-- 배너:리얼클릭 왼쪽 160x600 -->\n",
       "<style>\n",
       "\t\t\t.real_ad_container {margin:0 auto}\n",
       "\t\t</style>\n",
       "<div class=\"banner_left\">\n",
       "<div class=\"realssp_dv\" data-mcode=\"Y2luZTIxMjEwMDAwMV8zMjQyOA==\" id=\"realssp_cine212100001_32428\" title=\"리얼클릭 배너광고\"></div><script async=\"\" src=\"//ssp.realclick.co.kr/realclickssp.js?v=1.0&amp;m=cine212100001_32428&amp;t=j\"></script>\n",
       "</div>\n",
       "<!-- //배너:리얼클릭 -->\n",
       "<!-- 배너:리얼클릭 오른쪽 160x600 -->\n",
       "<div class=\"banner_right\">\n",
       "<div class=\"realssp_dv\" data-mcode=\"Y2luZTIxMjEwMDAwMV8zMjQyOQ==\" id=\"realssp_cine212100001_32429\" title=\"리얼클릭 배너광고\"></div><script async=\"\" src=\"//ssp.realclick.co.kr/realclickssp.js?v=1.0&amp;m=cine212100001_32429&amp;t=j\"></script>\n",
       "</div>\n",
       "<!-- //배너:리얼클릭 -->\n",
       "</div>\n",
       "<!-- Footer -->\n",
       "<div id=\"footer\">\n",
       "<div class=\"ft_menu1_area\">\n",
       "<div class=\"ft_menu1_left\">\n",
       "<h2>cine21 잡지</h2>\n",
       "<div class=\"btnArea subscription\">\n",
       "<a class=\"highlight\" href=\"/subscription/apply\">구독신청</a>\n",
       "<a href=\"https://smartstore.naver.com/cine21\" target=\"_blank\">낱권구매</a>\n",
       "<a href=\"https://docs.google.com/forms/d/1stxITs9RPvVQLega4CFlgmPqx9PAkHJ4Q0XiVsBH2RI/viewform\" target=\"_blank\">무료 구독 이벤트</a>\n",
       "<!--a href=\"/community/post/\">독자엽서</a-->\n",
       "</div>\n",
       "<ul class=\"magazine\">\n",
       "<li>\n",
       "<a href=\"/db/mag/content/?ind_serial=1342\">\n",
       "<p class=\"thumbnail\"><img alt=\"\" src=\"https://image.cine21.com/resize/cine21/site/2022/0204/11_16_55__61fc8c9776d38[F190,238].jpg\"/></p>\n",
       "<p class=\"number\">1342호</p>\n",
       "</a>\n",
       "</li>\n",
       "<li>\n",
       "<a href=\"/db/mag/content/?ind_serial=1341\">\n",
       "<p class=\"thumbnail\"><img alt=\"\" src=\"https://image.cine21.com/resize/cine21/site/2022/0121/11_09_52__61ea15f0c486c[F190,238].jpg\"/></p>\n",
       "<p class=\"number\">1341호</p>\n",
       "</a>\n",
       "</li>\n",
       "<li>\n",
       "<a href=\"/db/mag/content/?ind_serial=1340\">\n",
       "<p class=\"thumbnail\"><img alt=\"\" src=\"https://image.cine21.com/resize/cine21/site/2022/0114/11_09_16__61e0db4c84b07[F190,238].jpg\"/></p>\n",
       "<p class=\"number\">1340호</p>\n",
       "</a>\n",
       "</li>\n",
       "</ul>\n",
       "</div>\n",
       "<div class=\"ft_menu1_right\">\n",
       "<!-- 공지사항 -->\n",
       "<div class=\"notice\">\n",
       "<h2>공지사항<a class=\"more\" href=\"/misc/cs/notice_list/\">더 보기</a></h2>\n",
       "<ul>\n",
       "<li><a href=\"/misc/cs/notice_view/?article_no=8311\">· 도서 &lt;후회하는 소녀와 축제의 밤&gt; 기대평 이벤트 당첨자 발표</a></li>\n",
       "<li><a href=\"/misc/cs/notice_view/?article_no=8310\">· 도서 &lt;윌: WILL&gt;  기대평 이벤트 당첨자 발표</a></li>\n",
       "<li><a href=\"/misc/cs/notice_view/?article_no=8309\">· 도서 &lt;일회용 아내&gt; 기대평 이벤트 당첨자 발표</a></li>\n",
       "<li><a href=\"/misc/cs/notice_view/?article_no=8308\">· 영화 &lt;만년이 지나도 변하지 않는 게 있어&gt; 시사회 초대 이벤트 당첨자 발표</a></li>\n",
       "<li><a href=\"/misc/cs/notice_view/?article_no=8307\">· 연극 &lt;옥탑방 고양이&gt; 초대 이벤트 당첨자 발표</a></li>\n",
       "</ul>\n",
       "</div>\n",
       "<!-- //공지사항 -->\n",
       "<!-- cine21 sns -->\n",
       "<div class=\"sns\">\n",
       "<h2>cine21 SNS</h2>\n",
       "<ul>\n",
       "<li><a href=\"https://www.facebook.com/cine21\" target=\"_blank\"><span class=\"menu_img ico1\"></span>페이스북</a></li>\n",
       "<li><a href=\"https://www.youtube.com/channel/UCz4vMhiedEWgICIF7NBYiYA\" target=\"_blank\"><span class=\"menu_img ico2\"></span>유튜브</a></li>\n",
       "<li><a href=\"https://www.instagram.com/cine_21\" target=\"_blank\"><span class=\"menu_img ico3\"></span>인스타그램</a></li>\n",
       "<li><a href=\"https://blog.naver.com/cine21yo\" target=\"_blank\"><span class=\"menu_img ico4\"></span>네이버 블로그</a></li>\n",
       "<li><a href=\"https://www.twitter.com/cine21_editor\" target=\"_blank\"><span class=\"menu_img ico5\"></span>트위터</a></li>\n",
       "<li><a href=\"https://m.post.naver.com/my.nhn?memberNo=15205863\" target=\"_blank\"><span class=\"menu_img ico6\"></span>네이버 포스트</a></li>\n",
       "</ul>\n",
       "</div>\n",
       "<!-- //cine21 sns -->\n",
       "<!-- 주목 -->\n",
       "<div class=\"family\">\n",
       "<h2>주목</h2>\n",
       "<ul>\n",
       "<li><a href=\"http://modumagazine.co.kr/\" target=\"_blank\"><span class=\"menu_img ico1\"></span>MODU</a></li>\n",
       "<li><a href=\"https://bridge.hani.co.kr/Hani/User?command=magazineform\" target=\"_blank\"><span class=\"menu_img ico2\"></span>뉴스레터 구독</a></li>\n",
       "</ul>\n",
       "</div>\n",
       "<!-- //주목 -->\n",
       "</div>\n",
       "</div>\n",
       "<div class=\"ft_menu2_area\">\n",
       "<ul class=\"ft_menu2\">\n",
       "<li><a href=\"/misc/company/\">회사소개</a></li>\n",
       "<li><a href=\"/misc/company/contact/\">부서별 전화번호</a></li>\n",
       "<li><a href=\"/misc/ad/\">광고 및 제휴 안내</a></li>\n",
       "<li><a href=\"/misc/cs/\">고객센터</a></li>\n",
       "<li><a href=\"/member/policy/privacy\">개인정보취급방침</a></li>\n",
       "<li><a href=\"/member/policy/email\">이메일주소무단수집거부</a></li>\n",
       "<li><a href=\"/member/policy/agreement\">이용약관</a></li>\n",
       "<li><a href=\"/misc/doc/sitemap\">사이트맵</a></li>\n",
       "</ul>\n",
       "</div>\n",
       "<div class=\"copyright_area\">\n",
       "<div class=\"copyright\">\n",
       "\t\t\t\t씨네이십일주식회사 / 서울시 영등포구 당산로 41길 11 SK V1센터 E동 1102호 / 대표전화 : 02-6377-0500 / 대표이사 : 한정택<br/>\n",
       "\t\t\t\t사업자등록번호 : 105-86-57632 / 통신판매업번호 : 제2015-서울영등포-0671호<br/>\n",
       "\t\t\t\t제호 : 씨네21 / 등록번호 : 서울,자00347 / 등록일자 : 2011년 07월 20일 / 발행인ㆍ편집인 : 한정택 / 청소년보호책임자 : 장영엽<br/>\n",
       "\t\t\t\tE-mail : webmaster@cine21.com / (c) CINE21 Co., LTD\n",
       "\t\t\t</div>\n",
       "</div>\n",
       "</div>\n",
       "<!-- // Footer -->\n",
       "</div>\n",
       "<script src=\"/modules/_INC/js/dm-ce.js\"></script>\n",
       "</body>\n",
       "<script async=\"\" src=\"https://www.googletagmanager.com/gtag/js?id=UA-56624682-7\"></script>\n",
       "<script>\n",
       "    window.dataLayer = window.dataLayer || [];\n",
       "    function gtag(){dataLayer.push(arguments);}\n",
       "\n",
       "    gtag('js', new Date());\n",
       "    gtag('config', 'UA-56624682-7');\n",
       "    if(member_me!=\"\"){\n",
       "        gtag('set', {'user_id': member_me});\n",
       "    }\n",
       "\n",
       "    $(function(){\n",
       "        $(\"a[glab]\").click(function(e){\n",
       "            var $anchor = $(this);\n",
       "            var glab = $(this).attr(\"glab\");\n",
       "            gtag('event', 'location', {\n",
       "                'event_category': 'anchor',\n",
       "                'event_label': glab,\n",
       "                'event_callback' : function(){\n",
       "                    var href = $anchor.attr(\"href\");\n",
       "                    if(!href || href==\"\") {\n",
       "                        return;\n",
       "                    }\n",
       "                    location.href = href;\n",
       "                }\n",
       "            });\n",
       "            return false;\n",
       "        });\n",
       "    });\n",
       "\n",
       "</script>\n",
       "<script type=\"application/ld+json\">\n",
       "\t{\n",
       "\t\t\"@context\": \"http://schema.org\",\n",
       "\t\t\"@type\": \"Organization\",\n",
       "\t\t\"url\": \"http://www.cine21.com\",\n",
       "\t\t\"name\": \"씨네이십일주식회사\",\n",
       "\t\t\"description\": \"대한민국 영화미디어의 표준, 씨네21\",\n",
       "\t\t\"contactPoint\": {\n",
       "\t\t\t\"@type\": \"ContactPoint\",\n",
       "\t\t\t\"telephone\": \"+82-02-6377-0500\",\n",
       "\t\t\t\"contactType\": \"Customer service\"\n",
       "\t\t},\n",
       "\t\t\"sameAs\" : [\n",
       "\t\t\t\"http://post.naver.com/my.nhn?memberNo=15205863\",\n",
       "\t\t\t\"https://www.facebook.com/cine21/\",\n",
       "\t\t\t\"https://www.instagram.com/cine_21/\",\n",
       "\t\t\t\"https://twitter.com/cine21_editor\",\n",
       "\t\t\t\"https://www.youtube.com/channel/UCz4vMhiedEWgICIF7NBYiYA\",\n",
       "\t\t\t\"https://blog.naver.com/cine21yo\"\n",
       "\t\t]\n",
       "\t}\n",
       "</script>\n",
       "<script src=\"http://wcs.naver.net/wcslog.js\" type=\"text/javascript\"></script> <script type=\"text/javascript\"> if(!wcs_add) var wcs_add = {}; wcs_add[\"wa\"] = \"13cb4df462cbbf0\"; wcs_do(); </script>\n",
       "<script src=\"//cdn.ads.tapzin.com/cine21/tdn_settings.js\"></script>\n",
       "</html>"
      ]
     },
     "execution_count": 76,
     "metadata": {},
     "output_type": "execute_result"
    }
   ],
   "source": [
    "res = requests.post(url, data=data)\n",
    "soup = BeautifulSoup(res.text, 'html.parser')\n",
    "soup"
   ]
  },
  {
   "cell_type": "code",
   "execution_count": 78,
   "id": "ad498a4f",
   "metadata": {},
   "outputs": [
    {
     "data": {
      "text/plain": [
       "0"
      ]
     },
     "execution_count": 78,
     "metadata": {},
     "output_type": "execute_result"
    }
   ],
   "source": [
    "li_tags = soup.select('li.peeple_li')\n",
    "len(li_tags)"
   ]
  },
  {
   "cell_type": "code",
   "execution_count": 83,
   "id": "29fa8d50",
   "metadata": {},
   "outputs": [
    {
     "data": {
      "text/plain": [
       "0"
      ]
     },
     "execution_count": 83,
     "metadata": {},
     "output_type": "execute_result"
    }
   ],
   "source": [
    "tags = soup.select('li.peeple_li > div.name')\n",
    "len(tags)"
   ]
  },
  {
   "cell_type": "code",
   "execution_count": 84,
   "id": "0e558f66",
   "metadata": {},
   "outputs": [],
   "source": [
    "main_url = 'http://www.cine21.com'\n",
    "\n",
    "for t in tags:\n",
    "    print(t[0].select('a')[0]['href'])\n",
    "    print(t.text)"
   ]
  },
  {
   "cell_type": "code",
   "execution_count": null,
   "id": "c20ba821",
   "metadata": {},
   "outputs": [],
   "source": [
    "actor_url = "
   ]
  },
  {
   "cell_type": "code",
   "execution_count": null,
   "id": "3b965c40",
   "metadata": {},
   "outputs": [],
   "source": []
  },
  {
   "cell_type": "code",
   "execution_count": 86,
   "id": "29436763",
   "metadata": {},
   "outputs": [
    {
     "data": {
      "text/plain": [
       "<pymongo.results.InsertManyResult at 0x2426addea40>"
      ]
     },
     "execution_count": 86,
     "metadata": {},
     "output_type": "execute_result"
    }
   ],
   "source": [
    "\n",
    "from bs4 import BeautifulSoup\n",
    "import requests\n",
    "import pymongo\n",
    "import re\n",
    "\n",
    "conn = pymongo.MongoClient()\n",
    "actor_db = conn.cine21\n",
    "actor_collection = actor_db.actor_collection\n",
    "\n",
    "actors_info_list = list()\n",
    "\n",
    "cine21_url = 'http://www.cine21.com/rank/person/content'\n",
    "post_data = dict()\n",
    "post_data['section'] = 'actor'\n",
    "post_data['period_start'] = '2018-08'\n",
    "post_data['gender'] = 'all'\n",
    "\n",
    "for index in range(1, 21):\n",
    "    post_data['page'] = index\n",
    "\n",
    "    res = requests.post(cine21_url, data=post_data)\n",
    "    soup = BeautifulSoup(res.content, 'html.parser')\n",
    "\n",
    "    actors = soup.select('li.people_li div.name')\n",
    "    hits = soup.select('ul.num_info > li > strong')\n",
    "    movies = soup.select('ul.mov_list')\n",
    "    rankings = soup.select('li.people_li > span.grade')\n",
    "    \n",
    "    for index, actor in enumerate(actors):\n",
    "        actor_name = re.sub('\\(\\w*\\)', '', actor.text)\n",
    "        actor_hits = int(hits[index].text.replace(',', ''))\n",
    "        movie_titles = movies[index].select('li a span')\n",
    "        movie_title_list = list()\n",
    "        for movie_title in movie_titles:\n",
    "            movie_title_list.append(movie_title.text)\n",
    "        actor_info_dict = dict()\n",
    "        actor_info_dict['배우이름'] = actor_name\n",
    "        actor_info_dict['흥행지수'] = actor_hits\n",
    "        actor_info_dict['출연영화'] = movie_title_list\n",
    "        actor_info_dict['랭킹'] = rankings[index].text\n",
    "\n",
    "        actor_link = 'http://www.cine21.com' + actor.select_one('a').attrs['href']\n",
    "        response_actor = requests.get(actor_link)\n",
    "        soup_actor = BeautifulSoup(response_actor.content, 'html.parser')\n",
    "        default_info = soup_actor.select_one('ul.default_info')\n",
    "        actor_details = default_info.select('li')\n",
    "\n",
    "        for actor_item in actor_details:\n",
    "            actor_item_field = actor_item.select_one('span.tit').text\n",
    "            actor_item_value = re.sub('<span.*?>.*?</span>', '', str(actor_item))\n",
    "            actor_item_value = re.sub('<.*?>', '', actor_item_value)\n",
    "            actor_info_dict[actor_item_field] = actor_item_value\n",
    "        actors_info_list.append(actor_info_dict)\n",
    "        \n",
    "actor_collection.insert_many(actors_info_list)"
   ]
  },
  {
   "cell_type": "code",
   "execution_count": 89,
   "id": "9d9e2645",
   "metadata": {
    "collapsed": true
   },
   "outputs": [
    {
     "ename": "TypeError",
     "evalue": "'Collection' object is not callable. If you meant to call the 'insesrt_many' method on a 'Collection' object it is failing because no such method exists.",
     "output_type": "error",
     "traceback": [
      "\u001b[1;31m---------------------------------------------------------------------------\u001b[0m",
      "\u001b[1;31mTypeError\u001b[0m                                 Traceback (most recent call last)",
      "\u001b[1;32m~\\AppData\\Local\\Temp/ipykernel_12944/1447764814.py\u001b[0m in \u001b[0;36m<module>\u001b[1;34m\u001b[0m\n\u001b[1;32m----> 1\u001b[1;33m \u001b[0mactor_collection\u001b[0m\u001b[1;33m.\u001b[0m\u001b[0minsesrt_many\u001b[0m\u001b[1;33m(\u001b[0m\u001b[0mactors_info_list\u001b[0m\u001b[1;33m)\u001b[0m\u001b[1;33m\u001b[0m\u001b[1;33m\u001b[0m\u001b[0m\n\u001b[0m",
      "\u001b[1;32m~\\anaconda3\\lib\\site-packages\\pymongo\\collection.py\u001b[0m in \u001b[0;36m__call__\u001b[1;34m(self, *args, **kwargs)\u001b[0m\n\u001b[0;32m   2582\u001b[0m                             \u001b[1;34m\"exists.\"\u001b[0m \u001b[1;33m%\u001b[0m\u001b[1;33m\u001b[0m\u001b[1;33m\u001b[0m\u001b[0m\n\u001b[0;32m   2583\u001b[0m                             self.__name)\n\u001b[1;32m-> 2584\u001b[1;33m         raise TypeError(\"'Collection' object is not callable. If you meant to \"\n\u001b[0m\u001b[0;32m   2585\u001b[0m                         \u001b[1;34m\"call the '%s' method on a 'Collection' object it is \"\u001b[0m\u001b[1;33m\u001b[0m\u001b[1;33m\u001b[0m\u001b[0m\n\u001b[0;32m   2586\u001b[0m                         \u001b[1;34m\"failing because no such method exists.\"\u001b[0m \u001b[1;33m%\u001b[0m\u001b[1;33m\u001b[0m\u001b[1;33m\u001b[0m\u001b[0m\n",
      "\u001b[1;31mTypeError\u001b[0m: 'Collection' object is not callable. If you meant to call the 'insesrt_many' method on a 'Collection' object it is failing because no such method exists."
     ]
    }
   ],
   "source": [
    "actor_collection.insesrt_many(actors_info_list)"
   ]
  },
  {
   "cell_type": "code",
   "execution_count": null,
   "id": "8f62cc4b",
   "metadata": {},
   "outputs": [],
   "source": []
  },
  {
   "cell_type": "code",
   "execution_count": 88,
   "id": "7dea9f88",
   "metadata": {},
   "outputs": [
    {
     "data": {
      "text/html": [
       "<div>\n",
       "<style scoped>\n",
       "    .dataframe tbody tr th:only-of-type {\n",
       "        vertical-align: middle;\n",
       "    }\n",
       "\n",
       "    .dataframe tbody tr th {\n",
       "        vertical-align: top;\n",
       "    }\n",
       "\n",
       "    .dataframe thead th {\n",
       "        text-align: right;\n",
       "    }\n",
       "</style>\n",
       "<table border=\"1\" class=\"dataframe\">\n",
       "  <thead>\n",
       "    <tr style=\"text-align: right;\">\n",
       "      <th></th>\n",
       "      <th>배우이름</th>\n",
       "      <th>흥행지수</th>\n",
       "      <th>출연영화</th>\n",
       "      <th>랭킹</th>\n",
       "      <th>다른 이름</th>\n",
       "      <th>직업</th>\n",
       "      <th>생년월일</th>\n",
       "      <th>성별</th>\n",
       "      <th>홈페이지</th>\n",
       "      <th>신장/체중</th>\n",
       "      <th>학교</th>\n",
       "      <th>취미</th>\n",
       "      <th>_id</th>\n",
       "      <th>특기</th>\n",
       "      <th>소속사</th>\n",
       "      <th>원어명</th>\n",
       "    </tr>\n",
       "  </thead>\n",
       "  <tbody>\n",
       "    <tr>\n",
       "      <th>0</th>\n",
       "      <td>하정우</td>\n",
       "      <td>21830</td>\n",
       "      <td>[신과 함께-인과 연, 백두산, PMC: 더 벙커, 클로젯, 신과 함께-죄와 벌, ...</td>\n",
       "      <td>1</td>\n",
       "      <td>김성훈; 河正宇</td>\n",
       "      <td>배우</td>\n",
       "      <td>1978-03-11</td>\n",
       "      <td>남</td>\n",
       "      <td>\\nhttps://www.facebook.com/ft.hajungwoo\\n</td>\n",
       "      <td>184cm, 75kg</td>\n",
       "      <td>중앙대학교 연극학 학사</td>\n",
       "      <td>피아노, 검도, 수영</td>\n",
       "      <td>620366249554eee55a529409</td>\n",
       "      <td>NaN</td>\n",
       "      <td>NaN</td>\n",
       "      <td>NaN</td>\n",
       "    </tr>\n",
       "    <tr>\n",
       "      <th>1</th>\n",
       "      <td>마동석</td>\n",
       "      <td>19552</td>\n",
       "      <td>[나쁜 녀석들: 더 무비, 신과 함께-인과 연, 성난황소, 동네사람들, 원더풀 고스...</td>\n",
       "      <td>2</td>\n",
       "      <td>Ma Dongseok</td>\n",
       "      <td>배우</td>\n",
       "      <td>1971-03-01</td>\n",
       "      <td>남</td>\n",
       "      <td>\\nhttps://www.instagram.com/madongseok_/\\nhttp...</td>\n",
       "      <td>178cm, 100kg</td>\n",
       "      <td>NaN</td>\n",
       "      <td>NaN</td>\n",
       "      <td>620366249554eee55a52940a</td>\n",
       "      <td>NaN</td>\n",
       "      <td>NaN</td>\n",
       "      <td>NaN</td>\n",
       "    </tr>\n",
       "    <tr>\n",
       "      <th>2</th>\n",
       "      <td>이병헌</td>\n",
       "      <td>16450</td>\n",
       "      <td>[백두산, 남산의 부장들, 내부자들, 그것만이 내 세상, 광해, 왕이 된 남자, 번...</td>\n",
       "      <td>3</td>\n",
       "      <td>Byung-hun Lee;BH Lee</td>\n",
       "      <td>배우</td>\n",
       "      <td>1970-07-12</td>\n",
       "      <td>남</td>\n",
       "      <td>\\nhttp://www.leebyunghun.kr/\\n</td>\n",
       "      <td>177cm, 72kg</td>\n",
       "      <td>한양대학교 불어문학과</td>\n",
       "      <td>모자수집, 여행</td>\n",
       "      <td>620366249554eee55a52940b</td>\n",
       "      <td>태권도, 스노우보드, 수영, 팔씨름</td>\n",
       "      <td>NaN</td>\n",
       "      <td>NaN</td>\n",
       "    </tr>\n",
       "    <tr>\n",
       "      <th>3</th>\n",
       "      <td>황정민</td>\n",
       "      <td>15902</td>\n",
       "      <td>[공작, 인질, 다만 악에서 구하소서, 신세계, 와이키키 브라더스, 부당거래]</td>\n",
       "      <td>4</td>\n",
       "      <td>NaN</td>\n",
       "      <td>배우</td>\n",
       "      <td>1970-09-01</td>\n",
       "      <td>남</td>\n",
       "      <td>NaN</td>\n",
       "      <td>180cm, 75kg</td>\n",
       "      <td>서울예술대학 연극과 졸업</td>\n",
       "      <td>NaN</td>\n",
       "      <td>620366249554eee55a52940c</td>\n",
       "      <td>농구, 악기연주</td>\n",
       "      <td>예당엔터테인먼트</td>\n",
       "      <td>NaN</td>\n",
       "    </tr>\n",
       "    <tr>\n",
       "      <th>4</th>\n",
       "      <td>이성민</td>\n",
       "      <td>15648</td>\n",
       "      <td>[남산의 부장들, 목격자, 공작, 기적, 비스트, 마약왕]</td>\n",
       "      <td>5</td>\n",
       "      <td>NaN</td>\n",
       "      <td>배우</td>\n",
       "      <td>1968-10-15</td>\n",
       "      <td>남</td>\n",
       "      <td>NaN</td>\n",
       "      <td>178cm</td>\n",
       "      <td>NaN</td>\n",
       "      <td>NaN</td>\n",
       "      <td>620366249554eee55a52940d</td>\n",
       "      <td>NaN</td>\n",
       "      <td>NaN</td>\n",
       "      <td>NaN</td>\n",
       "    </tr>\n",
       "    <tr>\n",
       "      <th>...</th>\n",
       "      <td>...</td>\n",
       "      <td>...</td>\n",
       "      <td>...</td>\n",
       "      <td>...</td>\n",
       "      <td>...</td>\n",
       "      <td>...</td>\n",
       "      <td>...</td>\n",
       "      <td>...</td>\n",
       "      <td>...</td>\n",
       "      <td>...</td>\n",
       "      <td>...</td>\n",
       "      <td>...</td>\n",
       "      <td>...</td>\n",
       "      <td>...</td>\n",
       "      <td>...</td>\n",
       "      <td>...</td>\n",
       "    </tr>\n",
       "    <tr>\n",
       "      <th>135</th>\n",
       "      <td>김혜수</td>\n",
       "      <td>1953</td>\n",
       "      <td>[내가 죽던 날, 국가부도의 날, 타짜, 도둑들, 닥터봉]</td>\n",
       "      <td>136</td>\n",
       "      <td>NaN</td>\n",
       "      <td>배우</td>\n",
       "      <td>1970-09-05</td>\n",
       "      <td>여</td>\n",
       "      <td>NaN</td>\n",
       "      <td>171cm, 49kg</td>\n",
       "      <td>동국대 연극영화 - 성균관대언론정보대학원 석사</td>\n",
       "      <td>영화 감상, 사진집 모으기, 태권도, 수영, 테니스, 볼링</td>\n",
       "      <td>620366249554eee55a529490</td>\n",
       "      <td>태권도</td>\n",
       "      <td>NaN</td>\n",
       "      <td>NaN</td>\n",
       "    </tr>\n",
       "    <tr>\n",
       "      <th>136</th>\n",
       "      <td>남문철</td>\n",
       "      <td>1950</td>\n",
       "      <td>[공작, 나랏말싸미, 유열의 음악앨범, 독전, 애비규환, 4등]</td>\n",
       "      <td>137</td>\n",
       "      <td>NaN</td>\n",
       "      <td>배우</td>\n",
       "      <td>1971-03-20</td>\n",
       "      <td>남</td>\n",
       "      <td>NaN</td>\n",
       "      <td>NaN</td>\n",
       "      <td>NaN</td>\n",
       "      <td>NaN</td>\n",
       "      <td>620366249554eee55a529491</td>\n",
       "      <td>NaN</td>\n",
       "      <td>NaN</td>\n",
       "      <td>NaN</td>\n",
       "    </tr>\n",
       "    <tr>\n",
       "      <th>137</th>\n",
       "      <td>손종학</td>\n",
       "      <td>1946</td>\n",
       "      <td>[돈, 강철비2: 정상회담, 정직한 후보, 도희야, 검은 사제들, 비밀은 없다]</td>\n",
       "      <td>138</td>\n",
       "      <td>NaN</td>\n",
       "      <td>배우</td>\n",
       "      <td>1967-06-20</td>\n",
       "      <td>남</td>\n",
       "      <td>NaN</td>\n",
       "      <td>NaN</td>\n",
       "      <td>NaN</td>\n",
       "      <td>NaN</td>\n",
       "      <td>620366249554eee55a529492</td>\n",
       "      <td>NaN</td>\n",
       "      <td>NaN</td>\n",
       "      <td>NaN</td>\n",
       "    </tr>\n",
       "    <tr>\n",
       "      <th>138</th>\n",
       "      <td>최덕문</td>\n",
       "      <td>1911</td>\n",
       "      <td>[나랏말싸미, 마약왕, 블랙머니, 소공녀, 암살, 애비규환]</td>\n",
       "      <td>139</td>\n",
       "      <td>NaN</td>\n",
       "      <td>배우</td>\n",
       "      <td>1970-00-00</td>\n",
       "      <td>남</td>\n",
       "      <td>NaN</td>\n",
       "      <td>NaN</td>\n",
       "      <td>NaN</td>\n",
       "      <td>NaN</td>\n",
       "      <td>620366249554eee55a529493</td>\n",
       "      <td>NaN</td>\n",
       "      <td>NaN</td>\n",
       "      <td>NaN</td>\n",
       "    </tr>\n",
       "    <tr>\n",
       "      <th>139</th>\n",
       "      <td>강하늘</td>\n",
       "      <td>1900</td>\n",
       "      <td>[해적: 도깨비 깃발, 비와 당신의 이야기, 해피 뉴 이어, 동주, 청년경찰, 좋아해줘]</td>\n",
       "      <td>140</td>\n",
       "      <td>김하늘</td>\n",
       "      <td>배우</td>\n",
       "      <td>1990-02-21</td>\n",
       "      <td>남</td>\n",
       "      <td>\\nhttp://weibo.com/galpos3?is_hot=1\\n</td>\n",
       "      <td>181cm, 70kg</td>\n",
       "      <td>중앙대학교 연극학과</td>\n",
       "      <td>NaN</td>\n",
       "      <td>620366249554eee55a529494</td>\n",
       "      <td>NaN</td>\n",
       "      <td>NaN</td>\n",
       "      <td>NaN</td>\n",
       "    </tr>\n",
       "  </tbody>\n",
       "</table>\n",
       "<p>140 rows × 16 columns</p>\n",
       "</div>"
      ],
      "text/plain": [
       "    배우이름   흥행지수                                               출연영화   랭킹  \\\n",
       "0    하정우  21830  [신과 함께-인과 연, 백두산, PMC: 더 벙커, 클로젯, 신과 함께-죄와 벌, ...    1   \n",
       "1    마동석  19552  [나쁜 녀석들: 더 무비, 신과 함께-인과 연, 성난황소, 동네사람들, 원더풀 고스...    2   \n",
       "2    이병헌  16450  [백두산, 남산의 부장들, 내부자들, 그것만이 내 세상, 광해, 왕이 된 남자, 번...    3   \n",
       "3    황정민  15902        [공작, 인질, 다만 악에서 구하소서, 신세계, 와이키키 브라더스, 부당거래]    4   \n",
       "4    이성민  15648                   [남산의 부장들, 목격자, 공작, 기적, 비스트, 마약왕]    5   \n",
       "..   ...    ...                                                ...  ...   \n",
       "135  김혜수   1953                   [내가 죽던 날, 국가부도의 날, 타짜, 도둑들, 닥터봉]  136   \n",
       "136  남문철   1950                [공작, 나랏말싸미, 유열의 음악앨범, 독전, 애비규환, 4등]  137   \n",
       "137  손종학   1946       [돈, 강철비2: 정상회담, 정직한 후보, 도희야, 검은 사제들, 비밀은 없다]  138   \n",
       "138  최덕문   1911                  [나랏말싸미, 마약왕, 블랙머니, 소공녀, 암살, 애비규환]  139   \n",
       "139  강하늘   1900  [해적: 도깨비 깃발, 비와 당신의 이야기, 해피 뉴 이어, 동주, 청년경찰, 좋아해줘]  140   \n",
       "\n",
       "                    다른 이름  직업        생년월일 성별  \\\n",
       "0                김성훈; 河正宇  배우  1978-03-11  남   \n",
       "1             Ma Dongseok  배우  1971-03-01  남   \n",
       "2    Byung-hun Lee;BH Lee  배우  1970-07-12  남   \n",
       "3                     NaN  배우  1970-09-01  남   \n",
       "4                     NaN  배우  1968-10-15  남   \n",
       "..                    ...  ..         ... ..   \n",
       "135                   NaN  배우  1970-09-05  여   \n",
       "136                   NaN  배우  1971-03-20  남   \n",
       "137                   NaN  배우  1967-06-20  남   \n",
       "138                   NaN  배우  1970-00-00  남   \n",
       "139                   김하늘  배우  1990-02-21  남   \n",
       "\n",
       "                                                  홈페이지         신장/체중  \\\n",
       "0            \\nhttps://www.facebook.com/ft.hajungwoo\\n   184cm, 75kg   \n",
       "1    \\nhttps://www.instagram.com/madongseok_/\\nhttp...  178cm, 100kg   \n",
       "2                       \\nhttp://www.leebyunghun.kr/\\n   177cm, 72kg   \n",
       "3                                                  NaN   180cm, 75kg   \n",
       "4                                                  NaN         178cm   \n",
       "..                                                 ...           ...   \n",
       "135                                                NaN   171cm, 49kg   \n",
       "136                                                NaN           NaN   \n",
       "137                                                NaN           NaN   \n",
       "138                                                NaN           NaN   \n",
       "139              \\nhttp://weibo.com/galpos3?is_hot=1\\n   181cm, 70kg   \n",
       "\n",
       "                            학교                                취미  \\\n",
       "0                 중앙대학교 연극학 학사                       피아노, 검도, 수영   \n",
       "1                          NaN                               NaN   \n",
       "2                  한양대학교 불어문학과                          모자수집, 여행   \n",
       "3                서울예술대학 연극과 졸업                               NaN   \n",
       "4                          NaN                               NaN   \n",
       "..                         ...                               ...   \n",
       "135  동국대 연극영화 - 성균관대언론정보대학원 석사  영화 감상, 사진집 모으기, 태권도, 수영, 테니스, 볼링   \n",
       "136                        NaN                               NaN   \n",
       "137                        NaN                               NaN   \n",
       "138                        NaN                               NaN   \n",
       "139                 중앙대학교 연극학과                               NaN   \n",
       "\n",
       "                          _id                   특기       소속사  원어명  \n",
       "0    620366249554eee55a529409                  NaN       NaN  NaN  \n",
       "1    620366249554eee55a52940a                  NaN       NaN  NaN  \n",
       "2    620366249554eee55a52940b  태권도, 스노우보드, 수영, 팔씨름       NaN  NaN  \n",
       "3    620366249554eee55a52940c             농구, 악기연주  예당엔터테인먼트  NaN  \n",
       "4    620366249554eee55a52940d                  NaN       NaN  NaN  \n",
       "..                        ...                  ...       ...  ...  \n",
       "135  620366249554eee55a529490                  태권도       NaN  NaN  \n",
       "136  620366249554eee55a529491                  NaN       NaN  NaN  \n",
       "137  620366249554eee55a529492                  NaN       NaN  NaN  \n",
       "138  620366249554eee55a529493                  NaN       NaN  NaN  \n",
       "139  620366249554eee55a529494                  NaN       NaN  NaN  \n",
       "\n",
       "[140 rows x 16 columns]"
      ]
     },
     "execution_count": 88,
     "metadata": {},
     "output_type": "execute_result"
    }
   ],
   "source": [
    "import pandas as pd\n",
    "pd.DataFrame(actors_info_list)"
   ]
  },
  {
   "cell_type": "code",
   "execution_count": null,
   "id": "37bd04cd",
   "metadata": {},
   "outputs": [],
   "source": []
  },
  {
   "cell_type": "code",
   "execution_count": null,
   "id": "5a368f0f",
   "metadata": {},
   "outputs": [],
   "source": []
  },
  {
   "cell_type": "code",
   "execution_count": null,
   "id": "cc7845ce",
   "metadata": {},
   "outputs": [],
   "source": []
  },
  {
   "cell_type": "code",
   "execution_count": null,
   "id": "1502c2db",
   "metadata": {},
   "outputs": [],
   "source": []
  },
  {
   "cell_type": "code",
   "execution_count": null,
   "id": "1bcec9d4",
   "metadata": {},
   "outputs": [],
   "source": []
  },
  {
   "cell_type": "code",
   "execution_count": null,
   "id": "83e85ead",
   "metadata": {},
   "outputs": [],
   "source": []
  },
  {
   "cell_type": "code",
   "execution_count": null,
   "id": "d7020f91",
   "metadata": {},
   "outputs": [],
   "source": []
  },
  {
   "cell_type": "code",
   "execution_count": null,
   "id": "1651f541",
   "metadata": {},
   "outputs": [],
   "source": []
  }
 ],
 "metadata": {
  "kernelspec": {
   "display_name": "Python 3 (ipykernel)",
   "language": "python",
   "name": "python3"
  },
  "language_info": {
   "codemirror_mode": {
    "name": "ipython",
    "version": 3
   },
   "file_extension": ".py",
   "mimetype": "text/x-python",
   "name": "python",
   "nbconvert_exporter": "python",
   "pygments_lexer": "ipython3",
   "version": "3.9.7"
  }
 },
 "nbformat": 4,
 "nbformat_minor": 5
}
