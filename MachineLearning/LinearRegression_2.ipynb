{
 "cells": [
  {
   "cell_type": "code",
   "execution_count": null,
   "id": "37c0e56d",
   "metadata": {},
   "outputs": [],
   "source": []
  },
  {
   "cell_type": "code",
   "execution_count": 24,
   "id": "85b33005",
   "metadata": {},
   "outputs": [],
   "source": [
    "# Machine Learning\n",
    "\n",
    "# Supervised Learning(지도학습) - 예측하는 모델. 예측대상(y, target, Label)\n",
    "    # 1. Linear Algorithm(회귀분석) - 예측대상이 연속값(continuous)\n",
    "    # 2. Classification Algorithm(분류분석) - 예측대상이 불연속값(discrete) - binary, mulit\n",
    "# Unsupervised Learning(비지도학습) - 예측하지 않음\n",
    "    # 1. clustering(군집분석) - 유사한 특성을 갖는 데이터끼리 묶는다"
   ]
  },
  {
   "cell_type": "code",
   "execution_count": null,
   "id": "53af1f20",
   "metadata": {},
   "outputs": [],
   "source": []
  },
  {
   "cell_type": "code",
   "execution_count": null,
   "id": "ce1c909d",
   "metadata": {},
   "outputs": [],
   "source": []
  },
  {
   "cell_type": "code",
   "execution_count": 22,
   "id": "92b5e912",
   "metadata": {},
   "outputs": [],
   "source": [
    "import pandas as pd\n",
    "import numpy as np\n",
    "import matplotlib.pyplot as plt\n",
    "import seaborn as sns\n",
    "\n",
    "from sklearn.model_selection import train_test_split\n",
    "from sklearn.linear_model import LinearRegression\n",
    "from sklearn.metrics import r2_score"
   ]
  },
  {
   "cell_type": "code",
   "execution_count": 5,
   "id": "13f2ef25",
   "metadata": {},
   "outputs": [
    {
     "data": {
      "text/html": [
       "<div>\n",
       "<style scoped>\n",
       "    .dataframe tbody tr th:only-of-type {\n",
       "        vertical-align: middle;\n",
       "    }\n",
       "\n",
       "    .dataframe tbody tr th {\n",
       "        vertical-align: top;\n",
       "    }\n",
       "\n",
       "    .dataframe thead th {\n",
       "        text-align: right;\n",
       "    }\n",
       "</style>\n",
       "<table border=\"1\" class=\"dataframe\">\n",
       "  <thead>\n",
       "    <tr style=\"text-align: right;\">\n",
       "      <th></th>\n",
       "      <th>Email</th>\n",
       "      <th>Address</th>\n",
       "      <th>Avatar</th>\n",
       "      <th>Avg. Session Length</th>\n",
       "      <th>Time on App</th>\n",
       "      <th>Time on Website</th>\n",
       "      <th>Length of Membership</th>\n",
       "      <th>Yearly Amount Spent</th>\n",
       "    </tr>\n",
       "  </thead>\n",
       "  <tbody>\n",
       "    <tr>\n",
       "      <th>0</th>\n",
       "      <td>mstephenson@fernandez.com</td>\n",
       "      <td>835 Frank Tunnel\\nWrightmouth, MI 82180-9605</td>\n",
       "      <td>Violet</td>\n",
       "      <td>34.497268</td>\n",
       "      <td>12.655651</td>\n",
       "      <td>39.577668</td>\n",
       "      <td>4.082621</td>\n",
       "      <td>587.951054</td>\n",
       "    </tr>\n",
       "    <tr>\n",
       "      <th>1</th>\n",
       "      <td>hduke@hotmail.com</td>\n",
       "      <td>4547 Archer Common\\nDiazchester, CA 06566-8576</td>\n",
       "      <td>DarkGreen</td>\n",
       "      <td>31.926272</td>\n",
       "      <td>11.109461</td>\n",
       "      <td>37.268959</td>\n",
       "      <td>2.664034</td>\n",
       "      <td>392.204933</td>\n",
       "    </tr>\n",
       "  </tbody>\n",
       "</table>\n",
       "</div>"
      ],
      "text/plain": [
       "                       Email                                         Address  \\\n",
       "0  mstephenson@fernandez.com    835 Frank Tunnel\\nWrightmouth, MI 82180-9605   \n",
       "1          hduke@hotmail.com  4547 Archer Common\\nDiazchester, CA 06566-8576   \n",
       "\n",
       "      Avatar  Avg. Session Length  Time on App  Time on Website  \\\n",
       "0     Violet            34.497268    12.655651        39.577668   \n",
       "1  DarkGreen            31.926272    11.109461        37.268959   \n",
       "\n",
       "   Length of Membership  Yearly Amount Spent  \n",
       "0              4.082621           587.951054  \n",
       "1              2.664034           392.204933  "
      ]
     },
     "execution_count": 5,
     "metadata": {},
     "output_type": "execute_result"
    }
   ],
   "source": [
    "df = pd.read_csv('./ml_source_files/Ecommerce Customers.txt')\n",
    "df.head(2)"
   ]
  },
  {
   "cell_type": "code",
   "execution_count": 10,
   "id": "2735f93f",
   "metadata": {
    "collapsed": true
   },
   "outputs": [
    {
     "name": "stdout",
     "output_type": "stream",
     "text": [
      "<class 'pandas.core.frame.DataFrame'>\n",
      "RangeIndex: 500 entries, 0 to 499\n",
      "Data columns (total 8 columns):\n",
      " #   Column                Non-Null Count  Dtype  \n",
      "---  ------                --------------  -----  \n",
      " 0   Email                 500 non-null    object \n",
      " 1   Address               500 non-null    object \n",
      " 2   Avatar                500 non-null    object \n",
      " 3   Avg. Session Length   500 non-null    float64\n",
      " 4   Time on App           500 non-null    float64\n",
      " 5   Time on Website       500 non-null    float64\n",
      " 6   Length of Membership  500 non-null    float64\n",
      " 7   Yearly Amount Spent   500 non-null    float64\n",
      "dtypes: float64(5), object(3)\n",
      "memory usage: 31.4+ KB\n"
     ]
    }
   ],
   "source": [
    "df.info()"
   ]
  },
  {
   "cell_type": "code",
   "execution_count": null,
   "id": "66f5feb7",
   "metadata": {},
   "outputs": [],
   "source": []
  },
  {
   "cell_type": "code",
   "execution_count": null,
   "id": "e8506907",
   "metadata": {},
   "outputs": [],
   "source": [
    "# 연간 지출금액을 예측하는 회귀모델.."
   ]
  },
  {
   "cell_type": "code",
   "execution_count": 6,
   "id": "35cfd876",
   "metadata": {},
   "outputs": [],
   "source": [
    "y = df['Yearly Amount Spent']"
   ]
  },
  {
   "cell_type": "code",
   "execution_count": 15,
   "id": "df4bfb4b",
   "metadata": {},
   "outputs": [],
   "source": [
    "x = df.drop(['Email','Address', 'Avatar', 'Yearly Amount Spent'], axis=1)"
   ]
  },
  {
   "cell_type": "code",
   "execution_count": null,
   "id": "bfa20ff4",
   "metadata": {},
   "outputs": [],
   "source": []
  },
  {
   "cell_type": "code",
   "execution_count": null,
   "id": "ae33257b",
   "metadata": {},
   "outputs": [],
   "source": [
    "# train test로 분리..\n",
    "# train - 학습용 데이터\n",
    "# test - 모델을 평가 시 사용할 데이터..(모델을 테스트할 때는 모델을 훈련할 때 이용한 데이터가 포함되면 안됨)"
   ]
  },
  {
   "cell_type": "code",
   "execution_count": null,
   "id": "7b8d3663",
   "metadata": {},
   "outputs": [],
   "source": [
    "# x_train = x[:300]\n",
    "# x_test = x[300:]\n",
    "\n",
    "# y_train = y[:300]\n",
    "# y_test = y[300:]"
   ]
  },
  {
   "cell_type": "code",
   "execution_count": 16,
   "id": "c5fa71ec",
   "metadata": {},
   "outputs": [],
   "source": [
    "x_train, x_test, y_train, y_test = train_test_split(x,y, test_size=0.2, random_state=111)  # shuffle"
   ]
  },
  {
   "cell_type": "code",
   "execution_count": null,
   "id": "2eb86c71",
   "metadata": {},
   "outputs": [],
   "source": []
  },
  {
   "cell_type": "code",
   "execution_count": null,
   "id": "32c52b2a",
   "metadata": {},
   "outputs": [],
   "source": [
    "# LinearRegression Algorithm을 import"
   ]
  },
  {
   "cell_type": "code",
   "execution_count": 12,
   "id": "63df4679",
   "metadata": {},
   "outputs": [],
   "source": [
    "lr = LinearRegression()"
   ]
  },
  {
   "cell_type": "code",
   "execution_count": null,
   "id": "342f29fc",
   "metadata": {},
   "outputs": [],
   "source": []
  },
  {
   "cell_type": "code",
   "execution_count": 13,
   "id": "af51d7ae",
   "metadata": {},
   "outputs": [],
   "source": [
    "# Algorithm (= machine model) train => fit() => model"
   ]
  },
  {
   "cell_type": "code",
   "execution_count": 17,
   "id": "6e69b5ef",
   "metadata": {},
   "outputs": [
    {
     "data": {
      "text/plain": [
       "LinearRegression()"
      ]
     },
     "execution_count": 17,
     "metadata": {},
     "output_type": "execute_result"
    }
   ],
   "source": [
    "lr.fit(x_train, y_train)"
   ]
  },
  {
   "cell_type": "code",
   "execution_count": null,
   "id": "3d48e933",
   "metadata": {},
   "outputs": [],
   "source": []
  },
  {
   "cell_type": "code",
   "execution_count": 18,
   "id": "f89aba47",
   "metadata": {},
   "outputs": [],
   "source": [
    "# predict"
   ]
  },
  {
   "cell_type": "code",
   "execution_count": 20,
   "id": "29682e06",
   "metadata": {},
   "outputs": [],
   "source": [
    "preds = lr.predict(x_test)"
   ]
  },
  {
   "cell_type": "code",
   "execution_count": 25,
   "id": "f6e8e3bc",
   "metadata": {
    "collapsed": true
   },
   "outputs": [
    {
     "data": {
      "text/plain": [
       "array([589.52145964, 449.63900424, 547.82498363, 435.96358626,\n",
       "       516.68062594, 656.70862985, 482.12471604, 500.74397724,\n",
       "       523.55894444, 460.88673205, 543.10720417, 427.3607424 ,\n",
       "       545.48373245, 511.86650309, 390.56061453, 503.79034741,\n",
       "       437.70910695, 392.49543843, 609.39698152, 513.47592204,\n",
       "       412.4019026 , 458.92508507, 556.80185749, 552.85351837,\n",
       "       570.01492483, 609.82384561, 470.84728359, 599.09965226,\n",
       "       398.11837843, 288.43150881, 599.2221111 , 507.45604806,\n",
       "       256.32822976, 472.93402313, 418.66406807, 498.65572273,\n",
       "       433.48507663, 511.75979823, 425.25604665, 424.19475651,\n",
       "       451.01333725, 375.84659588, 394.53260862, 539.84290054,\n",
       "       684.02504064, 374.19424441, 535.4165198 , 593.37847918,\n",
       "       494.10231045, 519.09649673, 702.52737349, 415.15634836,\n",
       "       448.75026788, 563.0000242 , 637.961218  , 576.39082098,\n",
       "       599.20713475, 553.46752633, 481.62941888, 425.70113196,\n",
       "       572.24167229, 402.41029126, 516.5883543 , 569.52330824,\n",
       "       508.92129293, 315.8985367 , 474.25609341, 438.53240512,\n",
       "       481.37682402, 461.70535105, 587.64642958, 426.47052598,\n",
       "       589.27734169, 588.64822471, 572.14631489, 358.09416487,\n",
       "       478.40317139, 547.56214638, 479.58961145, 647.94421374,\n",
       "       503.62315134, 446.20490479, 548.14238198, 482.64810437,\n",
       "       515.38826472, 558.07731451, 542.75361453, 457.07069927,\n",
       "       531.8006526 , 552.19796834, 481.22403032, 764.88664549,\n",
       "       507.31555132, 577.0079752 , 491.08954266, 500.33584333,\n",
       "       511.4735498 , 478.88737304, 536.47421044, 471.48623544])"
      ]
     },
     "execution_count": 25,
     "metadata": {},
     "output_type": "execute_result"
    }
   ],
   "source": [
    "preds"
   ]
  },
  {
   "cell_type": "code",
   "execution_count": null,
   "id": "437afea2",
   "metadata": {},
   "outputs": [],
   "source": []
  },
  {
   "cell_type": "code",
   "execution_count": 21,
   "id": "bf891193",
   "metadata": {},
   "outputs": [],
   "source": [
    "# model evaluation"
   ]
  },
  {
   "cell_type": "code",
   "execution_count": 23,
   "id": "9a907e1d",
   "metadata": {},
   "outputs": [
    {
     "data": {
      "text/plain": [
       "0.9850895763407301"
      ]
     },
     "execution_count": 23,
     "metadata": {},
     "output_type": "execute_result"
    }
   ],
   "source": [
    "r2_score(preds, y_test)  # 회귀모델의 설명력 : ssr/sst "
   ]
  },
  {
   "cell_type": "code",
   "execution_count": null,
   "id": "328b7a9d",
   "metadata": {},
   "outputs": [],
   "source": []
  },
  {
   "cell_type": "code",
   "execution_count": 26,
   "id": "d95d8f31",
   "metadata": {},
   "outputs": [
    {
     "name": "stdout",
     "output_type": "stream",
     "text": [
      "MSE : 105.36217783099016\n",
      "RMSE : 10.264608021302625\n",
      "MAE : 8.101929980887277\n"
     ]
    }
   ],
   "source": [
    "from sklearn.metrics import mean_squared_error, mean_absolute_error\n",
    "\n",
    "print('MSE :', mean_squared_error(y_test, preds))\n",
    "print('RMSE :', np.sqrt(mean_squared_error(y_test, preds)))\n",
    "print('MAE :', mean_absolute_error(y_test, preds))"
   ]
  },
  {
   "cell_type": "code",
   "execution_count": null,
   "id": "fd0762e2",
   "metadata": {},
   "outputs": [],
   "source": []
  },
  {
   "cell_type": "code",
   "execution_count": null,
   "id": "59b5c84a",
   "metadata": {},
   "outputs": [],
   "source": []
  }
 ],
 "metadata": {
  "kernelspec": {
   "display_name": "Python 3 (ipykernel)",
   "language": "python",
   "name": "python3"
  },
  "language_info": {
   "codemirror_mode": {
    "name": "ipython",
    "version": 3
   },
   "file_extension": ".py",
   "mimetype": "text/x-python",
   "name": "python",
   "nbconvert_exporter": "python",
   "pygments_lexer": "ipython3",
   "version": "3.9.7"
  }
 },
 "nbformat": 4,
 "nbformat_minor": 5
}
