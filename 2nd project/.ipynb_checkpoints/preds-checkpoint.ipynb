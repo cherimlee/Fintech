{
 "cells": [
  {
   "cell_type": "code",
   "execution_count": 1,
   "id": "264658ae",
   "metadata": {},
   "outputs": [],
   "source": [
    "import pandas as pd\n",
    "import numpy as np\n",
    "import matplotlib.pyplot as plt\n",
    "import seaborn as sns"
   ]
  },
  {
   "cell_type": "code",
   "execution_count": 2,
   "id": "f09c2ba4",
   "metadata": {},
   "outputs": [],
   "source": [
    "import warnings\n",
    "\n",
    "warnings.filterwarnings(action='ignore')"
   ]
  },
  {
   "cell_type": "code",
   "execution_count": 4,
   "id": "499d604b",
   "metadata": {},
   "outputs": [
    {
     "data": {
      "text/html": [
       "<div>\n",
       "<style scoped>\n",
       "    .dataframe tbody tr th:only-of-type {\n",
       "        vertical-align: middle;\n",
       "    }\n",
       "\n",
       "    .dataframe tbody tr th {\n",
       "        vertical-align: top;\n",
       "    }\n",
       "\n",
       "    .dataframe thead th {\n",
       "        text-align: right;\n",
       "    }\n",
       "</style>\n",
       "<table border=\"1\" class=\"dataframe\">\n",
       "  <thead>\n",
       "    <tr style=\"text-align: right;\">\n",
       "      <th></th>\n",
       "      <th>date</th>\n",
       "      <th>매출액</th>\n",
       "      <th>매출원가</th>\n",
       "      <th>매출총이익</th>\n",
       "      <th>영업이익</th>\n",
       "      <th>순이익</th>\n",
       "      <th>자산총계</th>\n",
       "      <th>매출총이익률</th>\n",
       "      <th>영업이익률</th>\n",
       "      <th>주당순이익EPS(달러)</th>\n",
       "      <th>주가수익배수PER(배)</th>\n",
       "      <th>총자산이익률ROA(%)</th>\n",
       "    </tr>\n",
       "  </thead>\n",
       "  <tbody>\n",
       "    <tr>\n",
       "      <th>0</th>\n",
       "      <td>2015-01-02</td>\n",
       "      <td>NaN</td>\n",
       "      <td>NaN</td>\n",
       "      <td>NaN</td>\n",
       "      <td>NaN</td>\n",
       "      <td>NaN</td>\n",
       "      <td>NaN</td>\n",
       "      <td>NaN</td>\n",
       "      <td>NaN</td>\n",
       "      <td>NaN</td>\n",
       "      <td>NaN</td>\n",
       "      <td>NaN</td>\n",
       "    </tr>\n",
       "    <tr>\n",
       "      <th>1</th>\n",
       "      <td>2015-01-05</td>\n",
       "      <td>NaN</td>\n",
       "      <td>NaN</td>\n",
       "      <td>NaN</td>\n",
       "      <td>NaN</td>\n",
       "      <td>NaN</td>\n",
       "      <td>NaN</td>\n",
       "      <td>NaN</td>\n",
       "      <td>NaN</td>\n",
       "      <td>NaN</td>\n",
       "      <td>NaN</td>\n",
       "      <td>NaN</td>\n",
       "    </tr>\n",
       "    <tr>\n",
       "      <th>2</th>\n",
       "      <td>2015-01-06</td>\n",
       "      <td>NaN</td>\n",
       "      <td>NaN</td>\n",
       "      <td>NaN</td>\n",
       "      <td>NaN</td>\n",
       "      <td>NaN</td>\n",
       "      <td>NaN</td>\n",
       "      <td>NaN</td>\n",
       "      <td>NaN</td>\n",
       "      <td>NaN</td>\n",
       "      <td>NaN</td>\n",
       "      <td>NaN</td>\n",
       "    </tr>\n",
       "    <tr>\n",
       "      <th>3</th>\n",
       "      <td>2015-01-07</td>\n",
       "      <td>NaN</td>\n",
       "      <td>NaN</td>\n",
       "      <td>NaN</td>\n",
       "      <td>NaN</td>\n",
       "      <td>NaN</td>\n",
       "      <td>NaN</td>\n",
       "      <td>NaN</td>\n",
       "      <td>NaN</td>\n",
       "      <td>NaN</td>\n",
       "      <td>NaN</td>\n",
       "      <td>NaN</td>\n",
       "    </tr>\n",
       "    <tr>\n",
       "      <th>4</th>\n",
       "      <td>2015-01-08</td>\n",
       "      <td>NaN</td>\n",
       "      <td>NaN</td>\n",
       "      <td>NaN</td>\n",
       "      <td>NaN</td>\n",
       "      <td>NaN</td>\n",
       "      <td>NaN</td>\n",
       "      <td>NaN</td>\n",
       "      <td>NaN</td>\n",
       "      <td>NaN</td>\n",
       "      <td>NaN</td>\n",
       "      <td>NaN</td>\n",
       "    </tr>\n",
       "    <tr>\n",
       "      <th>...</th>\n",
       "      <td>...</td>\n",
       "      <td>...</td>\n",
       "      <td>...</td>\n",
       "      <td>...</td>\n",
       "      <td>...</td>\n",
       "      <td>...</td>\n",
       "      <td>...</td>\n",
       "      <td>...</td>\n",
       "      <td>...</td>\n",
       "      <td>...</td>\n",
       "      <td>...</td>\n",
       "      <td>...</td>\n",
       "    </tr>\n",
       "    <tr>\n",
       "      <th>1822</th>\n",
       "      <td>2022-02-28</td>\n",
       "      <td>53823.0</td>\n",
       "      <td>40217.0</td>\n",
       "      <td>13606.0</td>\n",
       "      <td>6523.0</td>\n",
       "      <td>5519.0</td>\n",
       "      <td>62131.0</td>\n",
       "      <td>25.279156</td>\n",
       "      <td>12.119354</td>\n",
       "      <td>4.9</td>\n",
       "      <td>192.3</td>\n",
       "      <td>9.7</td>\n",
       "    </tr>\n",
       "    <tr>\n",
       "      <th>1823</th>\n",
       "      <td>2022-03-01</td>\n",
       "      <td>53823.0</td>\n",
       "      <td>40217.0</td>\n",
       "      <td>13606.0</td>\n",
       "      <td>6523.0</td>\n",
       "      <td>5519.0</td>\n",
       "      <td>62131.0</td>\n",
       "      <td>25.279156</td>\n",
       "      <td>12.119354</td>\n",
       "      <td>4.9</td>\n",
       "      <td>192.3</td>\n",
       "      <td>9.7</td>\n",
       "    </tr>\n",
       "    <tr>\n",
       "      <th>1824</th>\n",
       "      <td>2022-03-02</td>\n",
       "      <td>53823.0</td>\n",
       "      <td>40217.0</td>\n",
       "      <td>13606.0</td>\n",
       "      <td>6523.0</td>\n",
       "      <td>5519.0</td>\n",
       "      <td>62131.0</td>\n",
       "      <td>25.279156</td>\n",
       "      <td>12.119354</td>\n",
       "      <td>4.9</td>\n",
       "      <td>192.3</td>\n",
       "      <td>9.7</td>\n",
       "    </tr>\n",
       "    <tr>\n",
       "      <th>1825</th>\n",
       "      <td>2022-03-03</td>\n",
       "      <td>53823.0</td>\n",
       "      <td>40217.0</td>\n",
       "      <td>13606.0</td>\n",
       "      <td>6523.0</td>\n",
       "      <td>5519.0</td>\n",
       "      <td>62131.0</td>\n",
       "      <td>25.279156</td>\n",
       "      <td>12.119354</td>\n",
       "      <td>4.9</td>\n",
       "      <td>192.3</td>\n",
       "      <td>9.7</td>\n",
       "    </tr>\n",
       "    <tr>\n",
       "      <th>1826</th>\n",
       "      <td>2022-03-04</td>\n",
       "      <td>53823.0</td>\n",
       "      <td>40217.0</td>\n",
       "      <td>13606.0</td>\n",
       "      <td>6523.0</td>\n",
       "      <td>5519.0</td>\n",
       "      <td>62131.0</td>\n",
       "      <td>25.279156</td>\n",
       "      <td>12.119354</td>\n",
       "      <td>4.9</td>\n",
       "      <td>192.3</td>\n",
       "      <td>9.7</td>\n",
       "    </tr>\n",
       "  </tbody>\n",
       "</table>\n",
       "<p>1827 rows × 12 columns</p>\n",
       "</div>"
      ],
      "text/plain": [
       "            date      매출액     매출원가    매출총이익    영업이익     순이익     자산총계  \\\n",
       "0     2015-01-02      NaN      NaN      NaN     NaN     NaN      NaN   \n",
       "1     2015-01-05      NaN      NaN      NaN     NaN     NaN      NaN   \n",
       "2     2015-01-06      NaN      NaN      NaN     NaN     NaN      NaN   \n",
       "3     2015-01-07      NaN      NaN      NaN     NaN     NaN      NaN   \n",
       "4     2015-01-08      NaN      NaN      NaN     NaN     NaN      NaN   \n",
       "...          ...      ...      ...      ...     ...     ...      ...   \n",
       "1822  2022-02-28  53823.0  40217.0  13606.0  6523.0  5519.0  62131.0   \n",
       "1823  2022-03-01  53823.0  40217.0  13606.0  6523.0  5519.0  62131.0   \n",
       "1824  2022-03-02  53823.0  40217.0  13606.0  6523.0  5519.0  62131.0   \n",
       "1825  2022-03-03  53823.0  40217.0  13606.0  6523.0  5519.0  62131.0   \n",
       "1826  2022-03-04  53823.0  40217.0  13606.0  6523.0  5519.0  62131.0   \n",
       "\n",
       "         매출총이익률      영업이익률  주당순이익EPS(달러)  주가수익배수PER(배)  총자산이익률ROA(%)  \n",
       "0           NaN        NaN           NaN           NaN           NaN  \n",
       "1           NaN        NaN           NaN           NaN           NaN  \n",
       "2           NaN        NaN           NaN           NaN           NaN  \n",
       "3           NaN        NaN           NaN           NaN           NaN  \n",
       "4           NaN        NaN           NaN           NaN           NaN  \n",
       "...         ...        ...           ...           ...           ...  \n",
       "1822  25.279156  12.119354           4.9         192.3           9.7  \n",
       "1823  25.279156  12.119354           4.9         192.3           9.7  \n",
       "1824  25.279156  12.119354           4.9         192.3           9.7  \n",
       "1825  25.279156  12.119354           4.9         192.3           9.7  \n",
       "1826  25.279156  12.119354           4.9         192.3           9.7  \n",
       "\n",
       "[1827 rows x 12 columns]"
      ]
     },
     "execution_count": 4,
     "metadata": {},
     "output_type": "execute_result"
    }
   ],
   "source": [
    "df_tesla = pd.read_csv('./재무제표 2015.csv', index_col=0)\n",
    "df_tesla"
   ]
  },
  {
   "cell_type": "code",
   "execution_count": 29,
   "id": "ec1f1ae5",
   "metadata": {},
   "outputs": [
    {
     "data": {
      "text/plain": [
       "Index(['Unnamed: 0', 'date', 'tesla', 'tesla_거래량', 'tesla_volatility',\n",
       "       'elec_fee', 'oli_price', 'oli_price_volatility', 'carbon_credits',\n",
       "       'carbon_credits_volatility', 'EVE종가', 'EVE거래량', 'EVE변동률', 'BYD종가',\n",
       "       'BYD거래량', 'BYD변동률', 'PSI종가', 'PSI거래량', 'SOXX종가', 'SOXX거래량', 'SOXL종가',\n",
       "       'SOXL거래량', 'LIT조정종가', 'LIT거래량', 'SGL종가', 'SGL변동률', 'li_price', 'co',\n",
       "       'co_volatility', '희토류가격', 'nasdaq', 'nasdaq_거래량', 'nasdaq_volatility',\n",
       "       'ssec', 'ssec_거래량', 'ssec_volatility', 'dollar', 'dollar_volatility',\n",
       "       'alu_price', 'alu_vol', 'alu_change', 'cu_price', 'cu_change',\n",
       "       'REGI_price', 'REGI_vol', 'REGI_change'],\n",
       "      dtype='object')"
      ]
     },
     "execution_count": 29,
     "metadata": {},
     "output_type": "execute_result"
    }
   ],
   "source": [
    "df_tesla.columns"
   ]
  },
  {
   "cell_type": "code",
   "execution_count": 30,
   "id": "57afddc2",
   "metadata": {
    "collapsed": true
   },
   "outputs": [
    {
     "data": {
      "text/plain": [
       "Unnamed: 0                   0\n",
       "date                         0\n",
       "tesla                        0\n",
       "tesla_거래량                    0\n",
       "tesla_volatility             0\n",
       "elec_fee                     0\n",
       "oli_price                    0\n",
       "oli_price_volatility         0\n",
       "carbon_credits               0\n",
       "carbon_credits_volatility    0\n",
       "EVE종가                        0\n",
       "EVE거래량                       0\n",
       "EVE변동률                       0\n",
       "BYD종가                        0\n",
       "BYD거래량                       0\n",
       "BYD변동률                       0\n",
       "PSI종가                        0\n",
       "PSI거래량                       0\n",
       "SOXX종가                       0\n",
       "SOXX거래량                      0\n",
       "SOXL종가                       0\n",
       "SOXL거래량                      0\n",
       "LIT조정종가                      0\n",
       "LIT거래량                       0\n",
       "SGL종가                        0\n",
       "SGL변동률                       0\n",
       "li_price                     0\n",
       "co                           0\n",
       "co_volatility                0\n",
       "희토류가격                        0\n",
       "nasdaq                       0\n",
       "nasdaq_거래량                   0\n",
       "nasdaq_volatility            0\n",
       "ssec                         0\n",
       "ssec_거래량                     0\n",
       "ssec_volatility              0\n",
       "dollar                       0\n",
       "dollar_volatility            0\n",
       "alu_price                    0\n",
       "alu_vol                      0\n",
       "alu_change                   0\n",
       "cu_price                     0\n",
       "cu_change                    0\n",
       "REGI_price                   0\n",
       "REGI_vol                     0\n",
       "REGI_change                  0\n",
       "dtype: int64"
      ]
     },
     "execution_count": 30,
     "metadata": {},
     "output_type": "execute_result"
    }
   ],
   "source": [
    "df_tesla.isnull().sum()"
   ]
  },
  {
   "cell_type": "code",
   "execution_count": 31,
   "id": "905f2015",
   "metadata": {},
   "outputs": [],
   "source": [
    "y = df_tesla['tesla']\n",
    "x = df_tesla.drop(['tesla', 'Unnamed: 0', 'date'], axis = 1)"
   ]
  },
  {
   "cell_type": "code",
   "execution_count": null,
   "id": "b03c439b",
   "metadata": {},
   "outputs": [],
   "source": []
  },
  {
   "cell_type": "code",
   "execution_count": null,
   "id": "c2e8e2eb",
   "metadata": {},
   "outputs": [],
   "source": []
  },
  {
   "cell_type": "code",
   "execution_count": 32,
   "id": "0eff4656",
   "metadata": {},
   "outputs": [],
   "source": [
    "from sklearn.model_selection import train_test_split"
   ]
  },
  {
   "cell_type": "code",
   "execution_count": 33,
   "id": "932f8e69",
   "metadata": {},
   "outputs": [],
   "source": [
    "x_train, x_test, y_train, y_test = train_test_split(x, y, train_size=0.2, random_state=111)"
   ]
  },
  {
   "cell_type": "code",
   "execution_count": null,
   "id": "f972293d",
   "metadata": {},
   "outputs": [],
   "source": []
  },
  {
   "cell_type": "code",
   "execution_count": 34,
   "id": "ad9dc736",
   "metadata": {},
   "outputs": [],
   "source": [
    "from sklearn.linear_model import LinearRegression"
   ]
  },
  {
   "cell_type": "code",
   "execution_count": 35,
   "id": "bed76a7e",
   "metadata": {},
   "outputs": [],
   "source": [
    "lr = LinearRegression()"
   ]
  },
  {
   "cell_type": "code",
   "execution_count": 36,
   "id": "084c8a1a",
   "metadata": {},
   "outputs": [
    {
     "data": {
      "text/plain": [
       "LinearRegression()"
      ]
     },
     "execution_count": 36,
     "metadata": {},
     "output_type": "execute_result"
    }
   ],
   "source": [
    "lr.fit(x_train, y_train)"
   ]
  },
  {
   "cell_type": "code",
   "execution_count": 37,
   "id": "bd62681d",
   "metadata": {},
   "outputs": [
    {
     "data": {
      "text/plain": [
       "array([  35.90586283,   92.49614031, 1044.7617014 , ...,   73.67148594,\n",
       "        717.83342161,   73.97325483])"
      ]
     },
     "execution_count": 37,
     "metadata": {},
     "output_type": "execute_result"
    }
   ],
   "source": [
    "preds = lr.predict(x_test)\n",
    "preds"
   ]
  },
  {
   "cell_type": "code",
   "execution_count": 38,
   "id": "e7484519",
   "metadata": {},
   "outputs": [],
   "source": [
    "from sklearn.metrics import r2_score"
   ]
  },
  {
   "cell_type": "code",
   "execution_count": 39,
   "id": "7e8578e6",
   "metadata": {},
   "outputs": [
    {
     "data": {
      "text/plain": [
       "0.9771895835783243"
      ]
     },
     "execution_count": 39,
     "metadata": {},
     "output_type": "execute_result"
    }
   ],
   "source": [
    "r2_score(y_test, preds)"
   ]
  },
  {
   "cell_type": "code",
   "execution_count": null,
   "id": "c7e60425",
   "metadata": {},
   "outputs": [],
   "source": []
  },
  {
   "cell_type": "code",
   "execution_count": null,
   "id": "56155354",
   "metadata": {},
   "outputs": [],
   "source": []
  },
  {
   "cell_type": "code",
   "execution_count": null,
   "id": "d212f8cf",
   "metadata": {},
   "outputs": [],
   "source": []
  },
  {
   "cell_type": "code",
   "execution_count": null,
   "id": "bb7a21f1",
   "metadata": {},
   "outputs": [],
   "source": []
  },
  {
   "cell_type": "code",
   "execution_count": 43,
   "id": "250c0f08",
   "metadata": {},
   "outputs": [
    {
     "data": {
      "text/plain": [
       "<AxesSubplot:xlabel='count', ylabel='희토류가격'>"
      ]
     },
     "execution_count": 43,
     "metadata": {},
     "output_type": "execute_result"
    },
    {
     "data": {
      "image/png": "[encoded data removed]",
      "text/plain": [
       "<Figure size 576x720 with 1 Axes>"
      ]
     },
     "metadata": {
      "needs_background": "light"
     },
     "output_type": "display_data"
    }
   ],
   "source": [
    "fig = plt.figure(figsize=(8, 10))\n",
    "sns.countplot(y='희토류가격', data=df_tesla)"
   ]
  },
  {
   "cell_type": "code",
   "execution_count": null,
   "id": "9c735f26",
   "metadata": {},
   "outputs": [],
   "source": []
  }
 ],
 "metadata": {
  "kernelspec": {
   "display_name": "Python 3 (ipykernel)",
   "language": "python",
   "name": "python3"
  },
  "language_info": {
   "codemirror_mode": {
    "name": "ipython",
    "version": 3
   },
   "file_extension": ".py",
   "mimetype": "text/x-python",
   "name": "python",
   "nbconvert_exporter": "python",
   "pygments_lexer": "ipython3",
   "version": "3.9.7"
  }
 },
 "nbformat": 4,
 "nbformat_minor": 5
}
