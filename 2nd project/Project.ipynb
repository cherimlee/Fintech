{
 "cells": [
  {
   "cell_type": "code",
   "execution_count": 28,
   "id": "481f2442",
   "metadata": {},
   "outputs": [],
   "source": [
    "import pandas as pd\n",
    "import numpy as np\n",
    "import matplotlib.pyplot as plt \n",
    "import seaborn as sns"
   ]
  },
  {
   "cell_type": "code",
   "execution_count": 29,
   "id": "ea85f013",
   "metadata": {},
   "outputs": [],
   "source": [
    "import os"
   ]
  },
  {
   "cell_type": "code",
   "execution_count": 156,
   "id": "33402b7a",
   "metadata": {},
   "outputs": [],
   "source": [
    "# REGI 데이터 가져오기\n",
    "datas = os.listdir('data/REGI')\n",
    "li = []\n",
    "for d in datas:\n",
    "    df = pd.read_csv(f\"data/REGI/{d}\")\n",
    "    li.append(df)"
   ]
  },
  {
   "cell_type": "code",
   "execution_count": 157,
   "id": "c40f9c31",
   "metadata": {},
   "outputs": [],
   "source": [
    "# 합병, 저장\n",
    "regi = pd.concat(li)\n",
    "regi.to_csv('./prepro_data/REGI_data.csv')"
   ]
  },
  {
   "cell_type": "code",
   "execution_count": null,
   "id": "4bbd6c43",
   "metadata": {},
   "outputs": [],
   "source": []
  },
  {
   "cell_type": "code",
   "execution_count": 243,
   "id": "06868f9b",
   "metadata": {
    "collapsed": true
   },
   "outputs": [
    {
     "ename": "ImportError",
     "evalue": "cannot import name 'Stylesheet' from 'bs4.element' (C:\\Users\\bitcamp\\anaconda3\\lib\\site-packages\\bs4\\element.py)",
     "output_type": "error",
     "traceback": [
      "\u001b[1;31m---------------------------------------------------------------------------\u001b[0m",
      "\u001b[1;31mImportError\u001b[0m                               Traceback (most recent call last)",
      "\u001b[1;32m~\\AppData\\Local\\Temp/ipykernel_18036/852116523.py\u001b[0m in \u001b[0;36m<module>\u001b[1;34m\u001b[0m\n\u001b[0;32m      1\u001b[0m \u001b[1;32mimport\u001b[0m \u001b[0mrequests\u001b[0m\u001b[1;33m\u001b[0m\u001b[1;33m\u001b[0m\u001b[0m\n\u001b[1;32m----> 2\u001b[1;33m \u001b[1;32mfrom\u001b[0m \u001b[0mbs4\u001b[0m \u001b[1;32mimport\u001b[0m \u001b[0mBeautifulSoup\u001b[0m\u001b[1;33m\u001b[0m\u001b[1;33m\u001b[0m\u001b[0m\n\u001b[0m",
      "\u001b[1;32m~\\anaconda3\\lib\\site-packages\\bs4\\__init__.py\u001b[0m in \u001b[0;36m<module>\u001b[1;34m\u001b[0m\n\u001b[0;32m     36\u001b[0m     \u001b[1;32mraise\u001b[0m \u001b[0mImportError\u001b[0m\u001b[1;33m(\u001b[0m\u001b[1;34m'You are trying to use a Python 3-specific version of Beautiful Soup under Python 2. This will not work. The final version of Beautiful Soup to support Python 2 was 4.9.3.'\u001b[0m\u001b[1;33m)\u001b[0m\u001b[1;33m\u001b[0m\u001b[1;33m\u001b[0m\u001b[0m\n\u001b[0;32m     37\u001b[0m \u001b[1;33m\u001b[0m\u001b[0m\n\u001b[1;32m---> 38\u001b[1;33m \u001b[1;32mfrom\u001b[0m \u001b[1;33m.\u001b[0m\u001b[0mbuilder\u001b[0m \u001b[1;32mimport\u001b[0m \u001b[0mbuilder_registry\u001b[0m\u001b[1;33m,\u001b[0m \u001b[0mParserRejectedMarkup\u001b[0m\u001b[1;33m\u001b[0m\u001b[1;33m\u001b[0m\u001b[0m\n\u001b[0m\u001b[0;32m     39\u001b[0m \u001b[1;32mfrom\u001b[0m \u001b[1;33m.\u001b[0m\u001b[0mdammit\u001b[0m \u001b[1;32mimport\u001b[0m \u001b[0mUnicodeDammit\u001b[0m\u001b[1;33m\u001b[0m\u001b[1;33m\u001b[0m\u001b[0m\n\u001b[0;32m     40\u001b[0m from .element import (\n",
      "\u001b[1;32m~\\anaconda3\\lib\\site-packages\\bs4\\builder\\__init__.py\u001b[0m in \u001b[0;36m<module>\u001b[1;34m\u001b[0m\n\u001b[0;32m      5\u001b[0m \u001b[1;32mimport\u001b[0m \u001b[0mitertools\u001b[0m\u001b[1;33m\u001b[0m\u001b[1;33m\u001b[0m\u001b[0m\n\u001b[0;32m      6\u001b[0m \u001b[1;32mimport\u001b[0m \u001b[0msys\u001b[0m\u001b[1;33m\u001b[0m\u001b[1;33m\u001b[0m\u001b[0m\n\u001b[1;32m----> 7\u001b[1;33m from bs4.element import (\n\u001b[0m\u001b[0;32m      8\u001b[0m     \u001b[0mCharsetMetaAttributeValue\u001b[0m\u001b[1;33m,\u001b[0m\u001b[1;33m\u001b[0m\u001b[1;33m\u001b[0m\u001b[0m\n\u001b[0;32m      9\u001b[0m     \u001b[0mContentMetaAttributeValue\u001b[0m\u001b[1;33m,\u001b[0m\u001b[1;33m\u001b[0m\u001b[1;33m\u001b[0m\u001b[0m\n",
      "\u001b[1;31mImportError\u001b[0m: cannot import name 'Stylesheet' from 'bs4.element' (C:\\Users\\bitcamp\\anaconda3\\lib\\site-packages\\bs4\\element.py)"
     ]
    }
   ],
   "source": [
    "import requests\n",
    "from bs4 import BeautifulSoup\n",
    "from html_table_parser import parser_functions"
   ]
  },
  {
   "cell_type": "code",
   "execution_count": 34,
   "id": "76071baf",
   "metadata": {},
   "outputs": [],
   "source": [
    "# 재무제표 데이터 크롤링\n",
    "url = 'https://www.choicestock.co.kr/search/invest/TSLA/MRQ'\n",
    "res = requests.get(url)\n",
    "soup = BeautifulSoup(res.text, 'html.parser')\n",
    "datas = soup.select('table.tableRanking')"
   ]
  },
  {
   "cell_type": "code",
   "execution_count": null,
   "id": "850a8ea3",
   "metadata": {},
   "outputs": [],
   "source": [
    "# 데이터 프레임 생성\n",
    "li = []\n",
    "for data in datas:\n",
    "    table = parser_functions.make2d(data)\n",
    "    df = pd.DataFrame(data=table[1:], columns=table[0])\n",
    "    li.append(df)"
   ]
  },
  {
   "cell_type": "code",
   "execution_count": null,
   "id": "7f5bb7dd",
   "metadata": {},
   "outputs": [],
   "source": [
    "# 합병\n",
    "df = pd.concat(li)"
   ]
  },
  {
   "cell_type": "code",
   "execution_count": null,
   "id": "c835dc44",
   "metadata": {},
   "outputs": [],
   "source": [
    "# 저장\n",
    "df.to_csv('prepro_data/fn_statement.csv')"
   ]
  },
  {
   "cell_type": "code",
   "execution_count": null,
   "id": "ce99e315",
   "metadata": {},
   "outputs": [],
   "source": []
  },
  {
   "cell_type": "code",
   "execution_count": 163,
   "id": "ce8d9c2f",
   "metadata": {},
   "outputs": [],
   "source": [
    "# Date 전처리 함수\n",
    "def change_date(x):\n",
    "    ret = []\n",
    "    for da in x.split():\n",
    "        ret.append(da[:-1])\n",
    "    return '.'.join(ret)"
   ]
  },
  {
   "cell_type": "code",
   "execution_count": 183,
   "id": "11a4ac92",
   "metadata": {},
   "outputs": [],
   "source": [
    "# Volumn 전치리 함수\n",
    "def m_to_k(x):\n",
    "    if x[-1] == 'M':\n",
    "        return float(x[:-1]) * 1000\n",
    "    elif x[-1] == 'B':\n",
    "        return float(x[:-1]) * 1000000\n",
    "    elif x[-1] == 'K':\n",
    "        return float(x[:-1])\n",
    "    else:\n",
    "        return np.nan"
   ]
  },
  {
   "cell_type": "code",
   "execution_count": null,
   "id": "956cc925",
   "metadata": {},
   "outputs": [],
   "source": []
  },
  {
   "cell_type": "code",
   "execution_count": 244,
   "id": "a534fdea",
   "metadata": {},
   "outputs": [],
   "source": [
    "# 알루미늄 전처리\n",
    "df1 = pd.read_csv('data/알루미늄 내역.csv')\n",
    "df1.drop(['오픈', '고가', '저가'], axis=1, inplace=True)\n",
    "df1.columns = ['date', 'alu_price', 'alu_vol', 'alu_change']"
   ]
  },
  {
   "cell_type": "code",
   "execution_count": 245,
   "id": "fe7c8bee",
   "metadata": {},
   "outputs": [],
   "source": [
    "df1.date = df1.date.apply(change_date)"
   ]
  },
  {
   "cell_type": "code",
   "execution_count": 246,
   "id": "74787799",
   "metadata": {},
   "outputs": [],
   "source": [
    "df1.date = pd.to_datetime(df1.date)"
   ]
  },
  {
   "cell_type": "code",
   "execution_count": 247,
   "id": "c54573ef",
   "metadata": {},
   "outputs": [],
   "source": [
    "df1['alu_price'] = df1['alu_price'].apply(lambda x: x.replace(',', ''))"
   ]
  },
  {
   "cell_type": "code",
   "execution_count": 248,
   "id": "0cbf277d",
   "metadata": {},
   "outputs": [],
   "source": [
    "df1['alu_price'] = pd.to_numeric(df1['alu_price'])"
   ]
  },
  {
   "cell_type": "code",
   "execution_count": 249,
   "id": "3718a6e7",
   "metadata": {},
   "outputs": [],
   "source": [
    "df1['alu_vol'] = df1['alu_vol'].apply(m_to_k)"
   ]
  },
  {
   "cell_type": "code",
   "execution_count": 250,
   "id": "841180f6",
   "metadata": {},
   "outputs": [],
   "source": [
    "df1['alu_change'] = df1['alu_change'].apply(lambda x: float(x.replace('%', '')))"
   ]
  },
  {
   "cell_type": "code",
   "execution_count": 251,
   "id": "780fe96c",
   "metadata": {},
   "outputs": [
    {
     "name": "stdout",
     "output_type": "stream",
     "text": [
      "<class 'pandas.core.frame.DataFrame'>\n",
      "RangeIndex: 1815 entries, 0 to 1814\n",
      "Data columns (total 4 columns):\n",
      " #   Column      Non-Null Count  Dtype         \n",
      "---  ------      --------------  -----         \n",
      " 0   date        1815 non-null   datetime64[ns]\n",
      " 1   alu_price   1815 non-null   float64       \n",
      " 2   alu_vol     1814 non-null   float64       \n",
      " 3   alu_change  1815 non-null   float64       \n",
      "dtypes: datetime64[ns](1), float64(3)\n",
      "memory usage: 56.8 KB\n"
     ]
    }
   ],
   "source": [
    "df1.info()"
   ]
  },
  {
   "cell_type": "code",
   "execution_count": null,
   "id": "e3b0d370",
   "metadata": {},
   "outputs": [],
   "source": []
  },
  {
   "cell_type": "code",
   "execution_count": null,
   "id": "354f4648",
   "metadata": {},
   "outputs": [],
   "source": []
  },
  {
   "cell_type": "code",
   "execution_count": 252,
   "id": "1455c62f",
   "metadata": {},
   "outputs": [],
   "source": [
    "# 구리 데이터 전처리\n",
    "df2 = pd.read_csv('data/영국 구리 선물 내역.csv')\n",
    "df2.drop(['오픈', '고가', '저가', '거래량'], axis=1, inplace=True)\n",
    "df2.columns = ['date', 'cu_price', 'cu_change']"
   ]
  },
  {
   "cell_type": "code",
   "execution_count": 256,
   "id": "42d03757",
   "metadata": {},
   "outputs": [],
   "source": [
    "df2.date = df2.date.apply(change_date)"
   ]
  },
  {
   "cell_type": "code",
   "execution_count": 257,
   "id": "77d8d3a6",
   "metadata": {},
   "outputs": [],
   "source": [
    "df2.date = pd.to_datetime(df2.date)"
   ]
  },
  {
   "cell_type": "code",
   "execution_count": 258,
   "id": "fbfe1eb3",
   "metadata": {},
   "outputs": [],
   "source": [
    "df2.cu_price = df2.cu_price.apply(lambda x: float(x.replace(',', '')))"
   ]
  },
  {
   "cell_type": "code",
   "execution_count": 259,
   "id": "3acfb5af",
   "metadata": {},
   "outputs": [],
   "source": [
    "df2['cu_change'] = df2['cu_change'].apply(lambda x: float(x.replace('%', '')))"
   ]
  },
  {
   "cell_type": "code",
   "execution_count": 181,
   "id": "0e36be0b",
   "metadata": {},
   "outputs": [],
   "source": [
    "# 알루미늄, 구리 데이터 합병\n",
    "df_mg = pd.merge(df1, df2, on='date', how='outer')"
   ]
  },
  {
   "cell_type": "code",
   "execution_count": null,
   "id": "38aa41ed",
   "metadata": {},
   "outputs": [],
   "source": []
  },
  {
   "cell_type": "code",
   "execution_count": 194,
   "id": "c43f14a7",
   "metadata": {},
   "outputs": [],
   "source": [
    "# REGI 데이터 전처리\n",
    "df3 = pd.read_csv('prepro_data/REGI_data.csv')\n",
    "df3.drop(['Unnamed: 0', '오픈', '고가', '저가'], axis=1, inplace=True)\n",
    "df3.columns = ['date', 'REGI_price', 'REGI_vol', 'REGI_change']"
   ]
  },
  {
   "cell_type": "code",
   "execution_count": 200,
   "id": "4fde923f",
   "metadata": {},
   "outputs": [],
   "source": [
    "df3.date = df3.date.apply(change_date)"
   ]
  },
  {
   "cell_type": "code",
   "execution_count": 201,
   "id": "7e4f455b",
   "metadata": {},
   "outputs": [],
   "source": [
    "df3.date = pd.to_datetime(df3.date)"
   ]
  },
  {
   "cell_type": "code",
   "execution_count": 204,
   "id": "61e57d92",
   "metadata": {},
   "outputs": [],
   "source": [
    "df3.REGI_vol = df3.REGI_vol.apply(m_to_k)"
   ]
  },
  {
   "cell_type": "code",
   "execution_count": 205,
   "id": "3df31ac6",
   "metadata": {},
   "outputs": [],
   "source": [
    "df3['REGI_change'] = df3['REGI_change'].apply(lambda x: float(x.replace('%', '')))"
   ]
  },
  {
   "cell_type": "code",
   "execution_count": 208,
   "id": "4b795396",
   "metadata": {},
   "outputs": [],
   "source": [
    "# REGI 합병\n",
    "df_mg1 = pd.merge(df_mg, df3, on='date', how='outer')"
   ]
  },
  {
   "cell_type": "code",
   "execution_count": 211,
   "id": "d8c2e1c8",
   "metadata": {},
   "outputs": [],
   "source": [
    "# 합병한 데이터프레임 저장\n",
    "df_mg1.to_csv('./prepro_data/alu_cu_REGI_df.csv')"
   ]
  },
  {
   "cell_type": "code",
   "execution_count": null,
   "id": "b9fe8d2b",
   "metadata": {},
   "outputs": [],
   "source": []
  },
  {
   "cell_type": "code",
   "execution_count": null,
   "id": "d67c07c7",
   "metadata": {},
   "outputs": [],
   "source": [
    "# 리튬 전처리 및 저장"
   ]
  },
  {
   "cell_type": "code",
   "execution_count": 222,
   "id": "8f57fad9",
   "metadata": {},
   "outputs": [],
   "source": [
    "df = pd.read_excel('data/리튬+가격2022-03-08.xls')"
   ]
  },
  {
   "cell_type": "code",
   "execution_count": 224,
   "id": "07fd8304",
   "metadata": {},
   "outputs": [],
   "source": [
    "df.drop(['등락가', '등락비율', '재고량'], axis=1, inplace=True)"
   ]
  },
  {
   "cell_type": "code",
   "execution_count": 226,
   "id": "fd7e3149",
   "metadata": {},
   "outputs": [],
   "source": [
    "df.columns = ['date', 'li_price']"
   ]
  },
  {
   "cell_type": "code",
   "execution_count": 231,
   "id": "6b5c3899",
   "metadata": {},
   "outputs": [],
   "source": [
    "df.date = pd.to_datetime(df.date)"
   ]
  },
  {
   "cell_type": "code",
   "execution_count": 234,
   "id": "5e65e882",
   "metadata": {},
   "outputs": [],
   "source": [
    "df.to_csv('prepro_data/data_li.csv')"
   ]
  },
  {
   "cell_type": "code",
   "execution_count": null,
   "id": "2c7607f4",
   "metadata": {},
   "outputs": [],
   "source": []
  },
  {
   "cell_type": "code",
   "execution_count": null,
   "id": "102409ee",
   "metadata": {},
   "outputs": [],
   "source": []
  },
  {
   "cell_type": "code",
   "execution_count": null,
   "id": "2f10ab3f",
   "metadata": {},
   "outputs": [],
   "source": []
  },
  {
   "cell_type": "code",
   "execution_count": null,
   "id": "6f5b1ae5",
   "metadata": {},
   "outputs": [],
   "source": []
  },
  {
   "cell_type": "code",
   "execution_count": null,
   "id": "ab044618",
   "metadata": {},
   "outputs": [],
   "source": []
  },
  {
   "cell_type": "code",
   "execution_count": null,
   "id": "d5b72bf0",
   "metadata": {},
   "outputs": [],
   "source": []
  }
 ],
 "metadata": {
  "kernelspec": {
   "display_name": "Python 3 (ipykernel)",
   "language": "python",
   "name": "python3"
  },
  "language_info": {
   "codemirror_mode": {
    "name": "ipython",
    "version": 3
   },
   "file_extension": ".py",
   "mimetype": "text/x-python",
   "name": "python",
   "nbconvert_exporter": "python",
   "pygments_lexer": "ipython3",
   "version": "3.9.7"
  }
 },
 "nbformat": 4,
 "nbformat_minor": 5
}
