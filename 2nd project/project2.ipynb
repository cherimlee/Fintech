{
 "cells": [
  {
   "cell_type": "code",
   "execution_count": 22,
   "id": "9104697b",
   "metadata": {},
   "outputs": [],
   "source": [
    "import pandas as pd\n",
    "import numpy as np\n",
    "import matplotlib.pyplot as plt \n",
    "import seaborn as sns"
   ]
  },
  {
   "cell_type": "code",
   "execution_count": 20,
   "id": "bcc0ca79",
   "metadata": {},
   "outputs": [],
   "source": [
    "from bs4 import BeautifulSoup\n",
    "import requests\n",
    "from html_table_parser import parser_functions"
   ]
  },
  {
   "cell_type": "code",
   "execution_count": null,
   "id": "bffe647d",
   "metadata": {},
   "outputs": [],
   "source": []
  },
  {
   "cell_type": "code",
   "execution_count": 82,
   "id": "e411397f",
   "metadata": {},
   "outputs": [],
   "source": [
    "# 데이터 스크롤링\n",
    "url = 'https://www.choicestock.co.kr/search/invest/TSLA'\n",
    "res = requests.get(url)\n",
    "soup = BeautifulSoup(res.text, 'html.parser')\n",
    "datas = soup.select('table')"
   ]
  },
  {
   "cell_type": "code",
   "execution_count": 86,
   "id": "cce32d53",
   "metadata": {},
   "outputs": [],
   "source": [
    "# 테이블 데이터 프레임으로 생성\n",
    "li = []\n",
    "for data in datas:\n",
    "    table = parser_functions.make2d(data)\n",
    "    df = pd.DataFrame(data=table[1:], columns=table[0])\n",
    "    li.append(df)"
   ]
  },
  {
   "cell_type": "code",
   "execution_count": 93,
   "id": "a87e5a8d",
   "metadata": {},
   "outputs": [],
   "source": [
    "# 합병\n",
    "df = pd.concat(li)"
   ]
  },
  {
   "cell_type": "code",
   "execution_count": 94,
   "id": "e9543433",
   "metadata": {},
   "outputs": [],
   "source": [
    "# 전처리\n",
    "df = df.iloc[:12, :].drop(['초이스스탁US 프리미엄', '프리미엄', '무료'], axis=1).set_index('').T"
   ]
  },
  {
   "cell_type": "code",
   "execution_count": 96,
   "id": "71259b18",
   "metadata": {},
   "outputs": [],
   "source": [
    "# 저장\n",
    "df.to_csv('data/재무재표_전처리.csv')"
   ]
  },
  {
   "cell_type": "code",
   "execution_count": null,
   "id": "54ceed83",
   "metadata": {},
   "outputs": [],
   "source": []
  }
 ],
 "metadata": {
  "kernelspec": {
   "display_name": "Python 3 (ipykernel)",
   "language": "python",
   "name": "python3"
  },
  "language_info": {
   "codemirror_mode": {
    "name": "ipython",
    "version": 3
   },
   "file_extension": ".py",
   "mimetype": "text/x-python",
   "name": "python",
   "nbconvert_exporter": "python",
   "pygments_lexer": "ipython3",
   "version": "3.9.7"
  }
 },
 "nbformat": 4,
 "nbformat_minor": 5
}
