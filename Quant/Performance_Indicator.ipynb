{
 "cells": [
  {
   "cell_type": "code",
   "execution_count": 1,
   "id": "5af4050a",
   "metadata": {},
   "outputs": [],
   "source": [
    "import pandas as pd\n",
    "import numpy as np\n",
    "import matplotlib.pyplot as plt\n",
    "import seaborn as sns\n",
    "import FinanceDataReader as fdr"
   ]
  },
  {
   "cell_type": "code",
   "execution_count": 15,
   "id": "d2bc0908",
   "metadata": {},
   "outputs": [],
   "source": [
    "# matplotlib 한글화\n",
    "import matplotlib as mpl\n",
    "import matplotlib.font_manager as fm\n",
    "\n",
    "mpl.rcParams['axes.unicode_minus'] = False\n",
    "\n",
    "path = 'C:/Windows/Fonts/malgun.ttf'\n",
    "font_name = fm.FontProperties(fname=path, size=50).get_name()\n",
    "plt.rc('font', family=font_name)"
   ]
  },
  {
   "cell_type": "code",
   "execution_count": 68,
   "id": "aad0899b",
   "metadata": {},
   "outputs": [],
   "source": [
    "df1 = fdr.DataReader(\"005930\",\"2018-01-02\", \"2018-10-30\")\n",
    "df2 = fdr.DataReader(\"069500\",\"2018-01-02\", \"2018-10-30\")    # kodex 200"
   ]
  },
  {
   "cell_type": "code",
   "execution_count": 69,
   "id": "11b6a4e4",
   "metadata": {},
   "outputs": [
    {
     "data": {
      "text/html": [
       "<div>\n",
       "<style scoped>\n",
       "    .dataframe tbody tr th:only-of-type {\n",
       "        vertical-align: middle;\n",
       "    }\n",
       "\n",
       "    .dataframe tbody tr th {\n",
       "        vertical-align: top;\n",
       "    }\n",
       "\n",
       "    .dataframe thead th {\n",
       "        text-align: right;\n",
       "    }\n",
       "</style>\n",
       "<table border=\"1\" class=\"dataframe\">\n",
       "  <thead>\n",
       "    <tr style=\"text-align: right;\">\n",
       "      <th></th>\n",
       "      <th>Close</th>\n",
       "      <th>Close</th>\n",
       "    </tr>\n",
       "    <tr>\n",
       "      <th>Date</th>\n",
       "      <th></th>\n",
       "      <th></th>\n",
       "    </tr>\n",
       "  </thead>\n",
       "  <tbody>\n",
       "    <tr>\n",
       "      <th>2018-01-02</th>\n",
       "      <td>51020</td>\n",
       "      <td>29836</td>\n",
       "    </tr>\n",
       "    <tr>\n",
       "      <th>2018-01-03</th>\n",
       "      <td>51620</td>\n",
       "      <td>29964</td>\n",
       "    </tr>\n",
       "    <tr>\n",
       "      <th>2018-01-04</th>\n",
       "      <td>51080</td>\n",
       "      <td>29727</td>\n",
       "    </tr>\n",
       "    <tr>\n",
       "      <th>2018-01-05</th>\n",
       "      <td>52120</td>\n",
       "      <td>30131</td>\n",
       "    </tr>\n",
       "    <tr>\n",
       "      <th>2018-01-08</th>\n",
       "      <td>52020</td>\n",
       "      <td>30333</td>\n",
       "    </tr>\n",
       "  </tbody>\n",
       "</table>\n",
       "</div>"
      ],
      "text/plain": [
       "            Close  Close\n",
       "Date                    \n",
       "2018-01-02  51020  29836\n",
       "2018-01-03  51620  29964\n",
       "2018-01-04  51080  29727\n",
       "2018-01-05  52120  30131\n",
       "2018-01-08  52020  30333"
      ]
     },
     "execution_count": 69,
     "metadata": {},
     "output_type": "execute_result"
    }
   ],
   "source": [
    "df = pd.concat([df1['Close'], df2['Close']], axis=1)\n",
    "df.head()"
   ]
  },
  {
   "cell_type": "code",
   "execution_count": 70,
   "id": "a0c2277c",
   "metadata": {},
   "outputs": [
    {
     "data": {
      "text/html": [
       "<div>\n",
       "<style scoped>\n",
       "    .dataframe tbody tr th:only-of-type {\n",
       "        vertical-align: middle;\n",
       "    }\n",
       "\n",
       "    .dataframe tbody tr th {\n",
       "        vertical-align: top;\n",
       "    }\n",
       "\n",
       "    .dataframe thead th {\n",
       "        text-align: right;\n",
       "    }\n",
       "</style>\n",
       "<table border=\"1\" class=\"dataframe\">\n",
       "  <thead>\n",
       "    <tr style=\"text-align: right;\">\n",
       "      <th></th>\n",
       "      <th>삼성전자</th>\n",
       "      <th>kodex200</th>\n",
       "    </tr>\n",
       "    <tr>\n",
       "      <th>Date</th>\n",
       "      <th></th>\n",
       "      <th></th>\n",
       "    </tr>\n",
       "  </thead>\n",
       "  <tbody>\n",
       "    <tr>\n",
       "      <th>2018-01-02</th>\n",
       "      <td>51020</td>\n",
       "      <td>29836</td>\n",
       "    </tr>\n",
       "    <tr>\n",
       "      <th>2018-01-03</th>\n",
       "      <td>51620</td>\n",
       "      <td>29964</td>\n",
       "    </tr>\n",
       "    <tr>\n",
       "      <th>2018-01-04</th>\n",
       "      <td>51080</td>\n",
       "      <td>29727</td>\n",
       "    </tr>\n",
       "    <tr>\n",
       "      <th>2018-01-05</th>\n",
       "      <td>52120</td>\n",
       "      <td>30131</td>\n",
       "    </tr>\n",
       "    <tr>\n",
       "      <th>2018-01-08</th>\n",
       "      <td>52020</td>\n",
       "      <td>30333</td>\n",
       "    </tr>\n",
       "  </tbody>\n",
       "</table>\n",
       "</div>"
      ],
      "text/plain": [
       "             삼성전자  kodex200\n",
       "Date                       \n",
       "2018-01-02  51020     29836\n",
       "2018-01-03  51620     29964\n",
       "2018-01-04  51080     29727\n",
       "2018-01-05  52120     30131\n",
       "2018-01-08  52020     30333"
      ]
     },
     "execution_count": 70,
     "metadata": {},
     "output_type": "execute_result"
    }
   ],
   "source": [
    "df.columns = ['삼성전자','kodex200']\n",
    "df.head()"
   ]
  },
  {
   "cell_type": "code",
   "execution_count": 71,
   "id": "41c4d4af",
   "metadata": {},
   "outputs": [
    {
     "data": {
      "text/html": [
       "<div>\n",
       "<style scoped>\n",
       "    .dataframe tbody tr th:only-of-type {\n",
       "        vertical-align: middle;\n",
       "    }\n",
       "\n",
       "    .dataframe tbody tr th {\n",
       "        vertical-align: top;\n",
       "    }\n",
       "\n",
       "    .dataframe thead th {\n",
       "        text-align: right;\n",
       "    }\n",
       "</style>\n",
       "<table border=\"1\" class=\"dataframe\">\n",
       "  <thead>\n",
       "    <tr style=\"text-align: right;\">\n",
       "      <th></th>\n",
       "      <th>삼성전자</th>\n",
       "      <th>kodex200</th>\n",
       "    </tr>\n",
       "    <tr>\n",
       "      <th>Date</th>\n",
       "      <th></th>\n",
       "      <th></th>\n",
       "    </tr>\n",
       "  </thead>\n",
       "  <tbody>\n",
       "    <tr>\n",
       "      <th>2018-01-02</th>\n",
       "      <td>0.000000</td>\n",
       "      <td>0.000000</td>\n",
       "    </tr>\n",
       "    <tr>\n",
       "      <th>2018-01-03</th>\n",
       "      <td>0.011760</td>\n",
       "      <td>0.004290</td>\n",
       "    </tr>\n",
       "    <tr>\n",
       "      <th>2018-01-04</th>\n",
       "      <td>-0.010461</td>\n",
       "      <td>-0.007909</td>\n",
       "    </tr>\n",
       "    <tr>\n",
       "      <th>2018-01-05</th>\n",
       "      <td>0.020360</td>\n",
       "      <td>0.013590</td>\n",
       "    </tr>\n",
       "    <tr>\n",
       "      <th>2018-01-08</th>\n",
       "      <td>-0.001919</td>\n",
       "      <td>0.006704</td>\n",
       "    </tr>\n",
       "    <tr>\n",
       "      <th>...</th>\n",
       "      <td>...</td>\n",
       "      <td>...</td>\n",
       "    </tr>\n",
       "    <tr>\n",
       "      <th>2018-10-24</th>\n",
       "      <td>-0.011614</td>\n",
       "      <td>-0.005153</td>\n",
       "    </tr>\n",
       "    <tr>\n",
       "      <th>2018-10-25</th>\n",
       "      <td>-0.036428</td>\n",
       "      <td>-0.015976</td>\n",
       "    </tr>\n",
       "    <tr>\n",
       "      <th>2018-10-26</th>\n",
       "      <td>0.000000</td>\n",
       "      <td>-0.015871</td>\n",
       "    </tr>\n",
       "    <tr>\n",
       "      <th>2018-10-29</th>\n",
       "      <td>0.009756</td>\n",
       "      <td>-0.008064</td>\n",
       "    </tr>\n",
       "    <tr>\n",
       "      <th>2018-10-30</th>\n",
       "      <td>0.022947</td>\n",
       "      <td>0.006926</td>\n",
       "    </tr>\n",
       "  </tbody>\n",
       "</table>\n",
       "<p>202 rows × 2 columns</p>\n",
       "</div>"
      ],
      "text/plain": [
       "                삼성전자  kodex200\n",
       "Date                          \n",
       "2018-01-02  0.000000  0.000000\n",
       "2018-01-03  0.011760  0.004290\n",
       "2018-01-04 -0.010461 -0.007909\n",
       "2018-01-05  0.020360  0.013590\n",
       "2018-01-08 -0.001919  0.006704\n",
       "...              ...       ...\n",
       "2018-10-24 -0.011614 -0.005153\n",
       "2018-10-25 -0.036428 -0.015976\n",
       "2018-10-26  0.000000 -0.015871\n",
       "2018-10-29  0.009756 -0.008064\n",
       "2018-10-30  0.022947  0.006926\n",
       "\n",
       "[202 rows x 2 columns]"
      ]
     },
     "execution_count": 71,
     "metadata": {},
     "output_type": "execute_result"
    }
   ],
   "source": [
    "# simple return \n",
    "# 곱셈 연산을 덧셈 연산으로 변환 가능 -> 수익률 계산 용이\n",
    "simple_rtn_df = df.pct_change(1).fillna(0)\n",
    "simple_rtn_df"
   ]
  },
  {
   "cell_type": "code",
   "execution_count": 72,
   "id": "ef21516b",
   "metadata": {},
   "outputs": [
    {
     "data": {
      "text/html": [
       "<div>\n",
       "<style scoped>\n",
       "    .dataframe tbody tr th:only-of-type {\n",
       "        vertical-align: middle;\n",
       "    }\n",
       "\n",
       "    .dataframe tbody tr th {\n",
       "        vertical-align: top;\n",
       "    }\n",
       "\n",
       "    .dataframe thead th {\n",
       "        text-align: right;\n",
       "    }\n",
       "</style>\n",
       "<table border=\"1\" class=\"dataframe\">\n",
       "  <thead>\n",
       "    <tr style=\"text-align: right;\">\n",
       "      <th></th>\n",
       "      <th>삼성전자</th>\n",
       "      <th>kodex200</th>\n",
       "    </tr>\n",
       "    <tr>\n",
       "      <th>Date</th>\n",
       "      <th></th>\n",
       "      <th></th>\n",
       "    </tr>\n",
       "  </thead>\n",
       "  <tbody>\n",
       "    <tr>\n",
       "      <th>2018-01-02</th>\n",
       "      <td>0.000000</td>\n",
       "      <td>0.000000</td>\n",
       "    </tr>\n",
       "    <tr>\n",
       "      <th>2018-01-03</th>\n",
       "      <td>0.011691</td>\n",
       "      <td>0.004281</td>\n",
       "    </tr>\n",
       "    <tr>\n",
       "      <th>2018-01-04</th>\n",
       "      <td>-0.010516</td>\n",
       "      <td>-0.007941</td>\n",
       "    </tr>\n",
       "    <tr>\n",
       "      <th>2018-01-05</th>\n",
       "      <td>0.020156</td>\n",
       "      <td>0.013499</td>\n",
       "    </tr>\n",
       "    <tr>\n",
       "      <th>2018-01-08</th>\n",
       "      <td>-0.001920</td>\n",
       "      <td>0.006682</td>\n",
       "    </tr>\n",
       "    <tr>\n",
       "      <th>...</th>\n",
       "      <td>...</td>\n",
       "      <td>...</td>\n",
       "    </tr>\n",
       "    <tr>\n",
       "      <th>2018-10-24</th>\n",
       "      <td>-0.011682</td>\n",
       "      <td>-0.005166</td>\n",
       "    </tr>\n",
       "    <tr>\n",
       "      <th>2018-10-25</th>\n",
       "      <td>-0.037108</td>\n",
       "      <td>-0.016105</td>\n",
       "    </tr>\n",
       "    <tr>\n",
       "      <th>2018-10-26</th>\n",
       "      <td>0.000000</td>\n",
       "      <td>-0.015998</td>\n",
       "    </tr>\n",
       "    <tr>\n",
       "      <th>2018-10-29</th>\n",
       "      <td>0.009709</td>\n",
       "      <td>-0.008096</td>\n",
       "    </tr>\n",
       "    <tr>\n",
       "      <th>2018-10-30</th>\n",
       "      <td>0.022688</td>\n",
       "      <td>0.006902</td>\n",
       "    </tr>\n",
       "  </tbody>\n",
       "</table>\n",
       "<p>202 rows × 2 columns</p>\n",
       "</div>"
      ],
      "text/plain": [
       "                삼성전자  kodex200\n",
       "Date                          \n",
       "2018-01-02  0.000000  0.000000\n",
       "2018-01-03  0.011691  0.004281\n",
       "2018-01-04 -0.010516 -0.007941\n",
       "2018-01-05  0.020156  0.013499\n",
       "2018-01-08 -0.001920  0.006682\n",
       "...              ...       ...\n",
       "2018-10-24 -0.011682 -0.005166\n",
       "2018-10-25 -0.037108 -0.016105\n",
       "2018-10-26  0.000000 -0.015998\n",
       "2018-10-29  0.009709 -0.008096\n",
       "2018-10-30  0.022688  0.006902\n",
       "\n",
       "[202 rows x 2 columns]"
      ]
     },
     "execution_count": 72,
     "metadata": {},
     "output_type": "execute_result"
    }
   ],
   "source": [
    "# log return \n",
    "log_rtn_df = np.log (df/ df.shift(1)).fillna(0)\n",
    "log_rtn_df"
   ]
  },
  {
   "cell_type": "code",
   "execution_count": 73,
   "id": "cec03dfd",
   "metadata": {},
   "outputs": [
    {
     "data": {
      "image/png": "[encoded data removed]",
      "text/plain": [
       "<Figure size 432x288 with 1 Axes>"
      ]
     },
     "metadata": {
      "needs_background": "light"
     },
     "output_type": "display_data"
    }
   ],
   "source": [
    "log_rtn_df.plot()\n",
    "plt.show()"
   ]
  },
  {
   "cell_type": "code",
   "execution_count": 74,
   "id": "f3f32f54",
   "metadata": {},
   "outputs": [
    {
     "data": {
      "text/plain": [
       "<AxesSubplot:ylabel='Frequency'>"
      ]
     },
     "execution_count": 74,
     "metadata": {},
     "output_type": "execute_result"
    },
    {
     "data": {
      "image/png": "[encoded data removed]",
      "text/plain": [
       "<Figure size 432x288 with 1 Axes>"
      ]
     },
     "metadata": {
      "needs_background": "light"
     },
     "output_type": "display_data"
    }
   ],
   "source": [
    "log_rtn_df.plot(kind='hist', bins=30)"
   ]
  },
  {
   "cell_type": "markdown",
   "id": "31f91715",
   "metadata": {},
   "source": [
    "### 누적 수익률"
   ]
  },
  {
   "cell_type": "code",
   "execution_count": 75,
   "id": "7331f5a1",
   "metadata": {},
   "outputs": [
    {
     "data": {
      "text/html": [
       "<div>\n",
       "<style scoped>\n",
       "    .dataframe tbody tr th:only-of-type {\n",
       "        vertical-align: middle;\n",
       "    }\n",
       "\n",
       "    .dataframe tbody tr th {\n",
       "        vertical-align: top;\n",
       "    }\n",
       "\n",
       "    .dataframe thead th {\n",
       "        text-align: right;\n",
       "    }\n",
       "</style>\n",
       "<table border=\"1\" class=\"dataframe\">\n",
       "  <thead>\n",
       "    <tr style=\"text-align: right;\">\n",
       "      <th></th>\n",
       "      <th>삼성전자</th>\n",
       "      <th>kodex200</th>\n",
       "    </tr>\n",
       "    <tr>\n",
       "      <th>Date</th>\n",
       "      <th></th>\n",
       "      <th></th>\n",
       "    </tr>\n",
       "  </thead>\n",
       "  <tbody>\n",
       "    <tr>\n",
       "      <th>2018-01-02</th>\n",
       "      <td>1.000000</td>\n",
       "      <td>1.000000</td>\n",
       "    </tr>\n",
       "    <tr>\n",
       "      <th>2018-01-03</th>\n",
       "      <td>1.011760</td>\n",
       "      <td>1.004290</td>\n",
       "    </tr>\n",
       "    <tr>\n",
       "      <th>2018-01-04</th>\n",
       "      <td>1.001176</td>\n",
       "      <td>0.996347</td>\n",
       "    </tr>\n",
       "    <tr>\n",
       "      <th>2018-01-05</th>\n",
       "      <td>1.021560</td>\n",
       "      <td>1.009887</td>\n",
       "    </tr>\n",
       "    <tr>\n",
       "      <th>2018-01-08</th>\n",
       "      <td>1.019600</td>\n",
       "      <td>1.016658</td>\n",
       "    </tr>\n",
       "    <tr>\n",
       "      <th>...</th>\n",
       "      <td>...</td>\n",
       "      <td>...</td>\n",
       "    </tr>\n",
       "    <tr>\n",
       "      <th>2018-10-24</th>\n",
       "      <td>0.833987</td>\n",
       "      <td>0.841266</td>\n",
       "    </tr>\n",
       "    <tr>\n",
       "      <th>2018-10-25</th>\n",
       "      <td>0.803606</td>\n",
       "      <td>0.827825</td>\n",
       "    </tr>\n",
       "    <tr>\n",
       "      <th>2018-10-26</th>\n",
       "      <td>0.803606</td>\n",
       "      <td>0.814687</td>\n",
       "    </tr>\n",
       "    <tr>\n",
       "      <th>2018-10-29</th>\n",
       "      <td>0.811446</td>\n",
       "      <td>0.808118</td>\n",
       "    </tr>\n",
       "    <tr>\n",
       "      <th>2018-10-30</th>\n",
       "      <td>0.830067</td>\n",
       "      <td>0.813715</td>\n",
       "    </tr>\n",
       "  </tbody>\n",
       "</table>\n",
       "<p>202 rows × 2 columns</p>\n",
       "</div>"
      ],
      "text/plain": [
       "                삼성전자  kodex200\n",
       "Date                          \n",
       "2018-01-02  1.000000  1.000000\n",
       "2018-01-03  1.011760  1.004290\n",
       "2018-01-04  1.001176  0.996347\n",
       "2018-01-05  1.021560  1.009887\n",
       "2018-01-08  1.019600  1.016658\n",
       "...              ...       ...\n",
       "2018-10-24  0.833987  0.841266\n",
       "2018-10-25  0.803606  0.827825\n",
       "2018-10-26  0.803606  0.814687\n",
       "2018-10-29  0.811446  0.808118\n",
       "2018-10-30  0.830067  0.813715\n",
       "\n",
       "[202 rows x 2 columns]"
      ]
     },
     "execution_count": 75,
     "metadata": {},
     "output_type": "execute_result"
    }
   ],
   "source": [
    "# 누적곱\n",
    "cum_rtn_df = (simple_rtn_df + 1).cumprod() \n",
    "cum_rtn_df"
   ]
  },
  {
   "cell_type": "code",
   "execution_count": 76,
   "id": "25a97e41",
   "metadata": {},
   "outputs": [
    {
     "data": {
      "text/html": [
       "<div>\n",
       "<style scoped>\n",
       "    .dataframe tbody tr th:only-of-type {\n",
       "        vertical-align: middle;\n",
       "    }\n",
       "\n",
       "    .dataframe tbody tr th {\n",
       "        vertical-align: top;\n",
       "    }\n",
       "\n",
       "    .dataframe thead th {\n",
       "        text-align: right;\n",
       "    }\n",
       "</style>\n",
       "<table border=\"1\" class=\"dataframe\">\n",
       "  <thead>\n",
       "    <tr style=\"text-align: right;\">\n",
       "      <th></th>\n",
       "      <th>삼성전자</th>\n",
       "      <th>kodex200</th>\n",
       "    </tr>\n",
       "    <tr>\n",
       "      <th>Date</th>\n",
       "      <th></th>\n",
       "      <th></th>\n",
       "    </tr>\n",
       "  </thead>\n",
       "  <tbody>\n",
       "    <tr>\n",
       "      <th>2018-01-02</th>\n",
       "      <td>1.000000</td>\n",
       "      <td>1.000000</td>\n",
       "    </tr>\n",
       "    <tr>\n",
       "      <th>2018-01-03</th>\n",
       "      <td>1.011760</td>\n",
       "      <td>1.004290</td>\n",
       "    </tr>\n",
       "    <tr>\n",
       "      <th>2018-01-04</th>\n",
       "      <td>1.001176</td>\n",
       "      <td>0.996347</td>\n",
       "    </tr>\n",
       "    <tr>\n",
       "      <th>2018-01-05</th>\n",
       "      <td>1.021560</td>\n",
       "      <td>1.009887</td>\n",
       "    </tr>\n",
       "    <tr>\n",
       "      <th>2018-01-08</th>\n",
       "      <td>1.019600</td>\n",
       "      <td>1.016658</td>\n",
       "    </tr>\n",
       "    <tr>\n",
       "      <th>...</th>\n",
       "      <td>...</td>\n",
       "      <td>...</td>\n",
       "    </tr>\n",
       "    <tr>\n",
       "      <th>2018-10-24</th>\n",
       "      <td>0.833987</td>\n",
       "      <td>0.841266</td>\n",
       "    </tr>\n",
       "    <tr>\n",
       "      <th>2018-10-25</th>\n",
       "      <td>0.803606</td>\n",
       "      <td>0.827825</td>\n",
       "    </tr>\n",
       "    <tr>\n",
       "      <th>2018-10-26</th>\n",
       "      <td>0.803606</td>\n",
       "      <td>0.814687</td>\n",
       "    </tr>\n",
       "    <tr>\n",
       "      <th>2018-10-29</th>\n",
       "      <td>0.811446</td>\n",
       "      <td>0.808118</td>\n",
       "    </tr>\n",
       "    <tr>\n",
       "      <th>2018-10-30</th>\n",
       "      <td>0.830067</td>\n",
       "      <td>0.813715</td>\n",
       "    </tr>\n",
       "  </tbody>\n",
       "</table>\n",
       "<p>202 rows × 2 columns</p>\n",
       "</div>"
      ],
      "text/plain": [
       "                삼성전자  kodex200\n",
       "Date                          \n",
       "2018-01-02  1.000000  1.000000\n",
       "2018-01-03  1.011760  1.004290\n",
       "2018-01-04  1.001176  0.996347\n",
       "2018-01-05  1.021560  1.009887\n",
       "2018-01-08  1.019600  1.016658\n",
       "...              ...       ...\n",
       "2018-10-24  0.833987  0.841266\n",
       "2018-10-25  0.803606  0.827825\n",
       "2018-10-26  0.803606  0.814687\n",
       "2018-10-29  0.811446  0.808118\n",
       "2018-10-30  0.830067  0.813715\n",
       "\n",
       "[202 rows x 2 columns]"
      ]
     },
     "execution_count": 76,
     "metadata": {},
     "output_type": "execute_result"
    }
   ],
   "source": [
    "# 누적합\n",
    "log_rtn_df.cumsum()\n",
    "np.exp(log_rtn_df.cumsum())"
   ]
  },
  {
   "cell_type": "markdown",
   "id": "2cbe5949",
   "metadata": {},
   "source": [
    "## Log Return"
   ]
  },
  {
   "cell_type": "code",
   "execution_count": 85,
   "id": "a2806628",
   "metadata": {},
   "outputs": [],
   "source": [
    "def get_annualized_returns_series(log_return_df, num_day_in_year = 250):\n",
    "    return (log_return_df.mean() * num_day_in_year).round(2)\n",
    "            # 일 평균로그 수익률  *    날짜 \n",
    "    \n",
    "def get_annualized_std_series(log_return_df, num_day_in_year=250):\n",
    "    return (log_return_df.std() * (num_day_in_year ** 0.5)).round(2)\n",
    "       # 일 로그 수익률의 표준편차                   루트를 씌워서 일수를 곱해서 \n",
    "    \n",
    "# val1 + val1 + val1...-> n * var1 -> std1 * np.sqrt(n)    "
   ]
  },
  {
   "cell_type": "code",
   "execution_count": 86,
   "id": "c4dd5827",
   "metadata": {},
   "outputs": [
    {
     "data": {
      "text/plain": [
       "삼성전자       -0.23\n",
       "kodex200   -0.26\n",
       "dtype: float64"
      ]
     },
     "execution_count": 86,
     "metadata": {},
     "output_type": "execute_result"
    }
   ],
   "source": [
    "# 연평균 로그수익률\n",
    "get_annualized_returns_series(log_rtn_df, num_day_in_year = 250)"
   ]
  },
  {
   "cell_type": "code",
   "execution_count": 87,
   "id": "a9cd4e79",
   "metadata": {},
   "outputs": [
    {
     "data": {
      "text/plain": [
       "삼성전자        0.27\n",
       "kodex200    0.14\n",
       "dtype: float64"
      ]
     },
     "execution_count": 87,
     "metadata": {},
     "output_type": "execute_result"
    }
   ],
   "source": [
    "# 연 평균 로그 수익률의 표준 편차 \n",
    "get_annualized_std_series(log_rtn_df, num_day_in_year=250)"
   ]
  },
  {
   "cell_type": "code",
   "execution_count": null,
   "id": "f4a673c1",
   "metadata": {},
   "outputs": [],
   "source": []
  },
  {
   "cell_type": "markdown",
   "id": "e18e43ef",
   "metadata": {},
   "source": [
    "### CAGR : Compound Annual Growth Rate\n",
    "### 연 환산 복리 수익률"
   ]
  },
  {
   "cell_type": "code",
   "execution_count": 22,
   "id": "4c3cd58f",
   "metadata": {
    "collapsed": true
   },
   "outputs": [
    {
     "data": {
      "text/html": [
       "<div>\n",
       "<style scoped>\n",
       "    .dataframe tbody tr th:only-of-type {\n",
       "        vertical-align: middle;\n",
       "    }\n",
       "\n",
       "    .dataframe tbody tr th {\n",
       "        vertical-align: top;\n",
       "    }\n",
       "\n",
       "    .dataframe thead th {\n",
       "        text-align: right;\n",
       "    }\n",
       "</style>\n",
       "<table border=\"1\" class=\"dataframe\">\n",
       "  <thead>\n",
       "    <tr style=\"text-align: right;\">\n",
       "      <th></th>\n",
       "      <th>삼성전자</th>\n",
       "      <th>kodex200</th>\n",
       "    </tr>\n",
       "    <tr>\n",
       "      <th>Date</th>\n",
       "      <th></th>\n",
       "      <th></th>\n",
       "    </tr>\n",
       "  </thead>\n",
       "  <tbody>\n",
       "    <tr>\n",
       "      <th>2018-01-02</th>\n",
       "      <td>1.000000</td>\n",
       "      <td>1.000000</td>\n",
       "    </tr>\n",
       "    <tr>\n",
       "      <th>2018-01-03</th>\n",
       "      <td>1.011760</td>\n",
       "      <td>1.004290</td>\n",
       "    </tr>\n",
       "    <tr>\n",
       "      <th>2018-01-04</th>\n",
       "      <td>1.001176</td>\n",
       "      <td>0.996347</td>\n",
       "    </tr>\n",
       "    <tr>\n",
       "      <th>2018-01-05</th>\n",
       "      <td>1.021560</td>\n",
       "      <td>1.009887</td>\n",
       "    </tr>\n",
       "    <tr>\n",
       "      <th>2018-01-08</th>\n",
       "      <td>1.019600</td>\n",
       "      <td>1.016658</td>\n",
       "    </tr>\n",
       "    <tr>\n",
       "      <th>...</th>\n",
       "      <td>...</td>\n",
       "      <td>...</td>\n",
       "    </tr>\n",
       "    <tr>\n",
       "      <th>2018-10-24</th>\n",
       "      <td>0.833987</td>\n",
       "      <td>0.841266</td>\n",
       "    </tr>\n",
       "    <tr>\n",
       "      <th>2018-10-25</th>\n",
       "      <td>0.803606</td>\n",
       "      <td>0.827825</td>\n",
       "    </tr>\n",
       "    <tr>\n",
       "      <th>2018-10-26</th>\n",
       "      <td>0.803606</td>\n",
       "      <td>0.814687</td>\n",
       "    </tr>\n",
       "    <tr>\n",
       "      <th>2018-10-29</th>\n",
       "      <td>0.811446</td>\n",
       "      <td>0.808118</td>\n",
       "    </tr>\n",
       "    <tr>\n",
       "      <th>2018-10-30</th>\n",
       "      <td>0.830067</td>\n",
       "      <td>0.813715</td>\n",
       "    </tr>\n",
       "  </tbody>\n",
       "</table>\n",
       "<p>202 rows × 2 columns</p>\n",
       "</div>"
      ],
      "text/plain": [
       "                삼성전자  kodex200\n",
       "Date                          \n",
       "2018-01-02  1.000000  1.000000\n",
       "2018-01-03  1.011760  1.004290\n",
       "2018-01-04  1.001176  0.996347\n",
       "2018-01-05  1.021560  1.009887\n",
       "2018-01-08  1.019600  1.016658\n",
       "...              ...       ...\n",
       "2018-10-24  0.833987  0.841266\n",
       "2018-10-25  0.803606  0.827825\n",
       "2018-10-26  0.803606  0.814687\n",
       "2018-10-29  0.811446  0.808118\n",
       "2018-10-30  0.830067  0.813715\n",
       "\n",
       "[202 rows x 2 columns]"
      ]
     },
     "execution_count": 22,
     "metadata": {},
     "output_type": "execute_result"
    }
   ],
   "source": [
    "cum_rtn_df"
   ]
  },
  {
   "cell_type": "code",
   "execution_count": 57,
   "id": "3f31bd59",
   "metadata": {},
   "outputs": [
    {
     "data": {
      "text/plain": [
       "삼성전자        0.830067\n",
       "kodex200    0.813715\n",
       "Name: 2018-10-30 00:00:00, dtype: float64"
      ]
     },
     "execution_count": 57,
     "metadata": {},
     "output_type": "execute_result"
    }
   ],
   "source": [
    "# 10개월 복리 수익률)\n",
    "cum_rtn_df.iloc[-1]"
   ]
  },
  {
   "cell_type": "code",
   "execution_count": 58,
   "id": "0a70979f",
   "metadata": {},
   "outputs": [
    {
     "data": {
      "text/plain": [
       "삼성전자        0.792668\n",
       "kodex200    0.773236\n",
       "Name: 2018-10-30 00:00:00, dtype: float64"
      ]
     },
     "execution_count": 58,
     "metadata": {},
     "output_type": "execute_result"
    }
   ],
   "source": [
    "# 년 환산 수익률 \n",
    "num_day_in_year = 252\n",
    "cum_rtn_df.iloc[-1]** (252 / len(cum_rtn_df))"
   ]
  },
  {
   "cell_type": "code",
   "execution_count": 59,
   "id": "3cf2620f",
   "metadata": {},
   "outputs": [
    {
     "data": {
      "text/plain": [
       "202"
      ]
     },
     "execution_count": 59,
     "metadata": {},
     "output_type": "execute_result"
    }
   ],
   "source": [
    "len(cum_rtn_df)"
   ]
  },
  {
   "cell_type": "code",
   "execution_count": 61,
   "id": "0b3507ef",
   "metadata": {},
   "outputs": [
    {
     "data": {
      "text/plain": [
       "1.2376237623762376"
      ]
     },
     "execution_count": 61,
     "metadata": {},
     "output_type": "execute_result"
    }
   ],
   "source": [
    "# 10개월치를 년으로 환산하기 위해 : 1.2일\n",
    "250 / len(cum_rtn_df)"
   ]
  },
  {
   "cell_type": "code",
   "execution_count": 66,
   "id": "0016f29f",
   "metadata": {},
   "outputs": [],
   "source": [
    "# 연 평균 복리 수익률 \n",
    "def get_cagr_series(cum_rtn_df, num_day_in_year = 250):\n",
    "    cagr_series = cum_rtn_df.iloc[-1]**(num_day_in_year/(len(cum_rtn_df))) -1\n",
    "    return cagr_series"
   ]
  },
  {
   "cell_type": "code",
   "execution_count": 67,
   "id": "7314a1d9",
   "metadata": {},
   "outputs": [
    {
     "data": {
      "text/plain": [
       "0.10478620660928994"
      ]
     },
     "execution_count": 67,
     "metadata": {},
     "output_type": "execute_result"
    }
   ],
   "source": [
    "get_cagr_series(cum_rtn_df, num_day_in_year = 250)"
   ]
  },
  {
   "cell_type": "code",
   "execution_count": null,
   "id": "af2f7416",
   "metadata": {},
   "outputs": [],
   "source": []
  },
  {
   "cell_type": "code",
   "execution_count": null,
   "id": "4942a237",
   "metadata": {},
   "outputs": [],
   "source": [
    "# kodex200 연평균 복리수익률"
   ]
  },
  {
   "cell_type": "code",
   "execution_count": 64,
   "id": "4ddf4801",
   "metadata": {
    "collapsed": true
   },
   "outputs": [
    {
     "data": {
      "text/html": [
       "<div>\n",
       "<style scoped>\n",
       "    .dataframe tbody tr th:only-of-type {\n",
       "        vertical-align: middle;\n",
       "    }\n",
       "\n",
       "    .dataframe tbody tr th {\n",
       "        vertical-align: top;\n",
       "    }\n",
       "\n",
       "    .dataframe thead th {\n",
       "        text-align: right;\n",
       "    }\n",
       "</style>\n",
       "<table border=\"1\" class=\"dataframe\">\n",
       "  <thead>\n",
       "    <tr style=\"text-align: right;\">\n",
       "      <th></th>\n",
       "      <th>Open</th>\n",
       "      <th>High</th>\n",
       "      <th>Low</th>\n",
       "      <th>Close</th>\n",
       "      <th>Volume</th>\n",
       "      <th>Change</th>\n",
       "    </tr>\n",
       "    <tr>\n",
       "      <th>Date</th>\n",
       "      <th></th>\n",
       "      <th></th>\n",
       "      <th></th>\n",
       "      <th></th>\n",
       "      <th></th>\n",
       "      <th></th>\n",
       "    </tr>\n",
       "  </thead>\n",
       "  <tbody>\n",
       "    <tr>\n",
       "      <th>2019-01-02</th>\n",
       "      <td>24741</td>\n",
       "      <td>24778</td>\n",
       "      <td>24191</td>\n",
       "      <td>24278</td>\n",
       "      <td>5189755</td>\n",
       "      <td>-0.011482</td>\n",
       "    </tr>\n",
       "    <tr>\n",
       "      <th>2019-01-03</th>\n",
       "      <td>24266</td>\n",
       "      <td>24293</td>\n",
       "      <td>24007</td>\n",
       "      <td>24042</td>\n",
       "      <td>6113088</td>\n",
       "      <td>-0.009721</td>\n",
       "    </tr>\n",
       "    <tr>\n",
       "      <th>2019-01-04</th>\n",
       "      <td>24025</td>\n",
       "      <td>24252</td>\n",
       "      <td>23961</td>\n",
       "      <td>24226</td>\n",
       "      <td>11125638</td>\n",
       "      <td>0.007653</td>\n",
       "    </tr>\n",
       "    <tr>\n",
       "      <th>2019-01-07</th>\n",
       "      <td>24525</td>\n",
       "      <td>24746</td>\n",
       "      <td>24512</td>\n",
       "      <td>24570</td>\n",
       "      <td>6168349</td>\n",
       "      <td>0.014200</td>\n",
       "    </tr>\n",
       "    <tr>\n",
       "      <th>2019-01-08</th>\n",
       "      <td>24577</td>\n",
       "      <td>24650</td>\n",
       "      <td>24390</td>\n",
       "      <td>24413</td>\n",
       "      <td>5054042</td>\n",
       "      <td>-0.006390</td>\n",
       "    </tr>\n",
       "    <tr>\n",
       "      <th>...</th>\n",
       "      <td>...</td>\n",
       "      <td>...</td>\n",
       "      <td>...</td>\n",
       "      <td>...</td>\n",
       "      <td>...</td>\n",
       "      <td>...</td>\n",
       "    </tr>\n",
       "    <tr>\n",
       "      <th>2020-10-26</th>\n",
       "      <td>30442</td>\n",
       "      <td>30549</td>\n",
       "      <td>30263</td>\n",
       "      <td>30295</td>\n",
       "      <td>8855213</td>\n",
       "      <td>-0.001911</td>\n",
       "    </tr>\n",
       "    <tr>\n",
       "      <th>2020-10-27</th>\n",
       "      <td>30075</td>\n",
       "      <td>30258</td>\n",
       "      <td>29964</td>\n",
       "      <td>30035</td>\n",
       "      <td>8057978</td>\n",
       "      <td>-0.008582</td>\n",
       "    </tr>\n",
       "    <tr>\n",
       "      <th>2020-10-28</th>\n",
       "      <td>29921</td>\n",
       "      <td>30196</td>\n",
       "      <td>29830</td>\n",
       "      <td>30195</td>\n",
       "      <td>5719513</td>\n",
       "      <td>0.005327</td>\n",
       "    </tr>\n",
       "    <tr>\n",
       "      <th>2020-10-29</th>\n",
       "      <td>29815</td>\n",
       "      <td>29907</td>\n",
       "      <td>29545</td>\n",
       "      <td>29881</td>\n",
       "      <td>10171385</td>\n",
       "      <td>-0.010399</td>\n",
       "    </tr>\n",
       "    <tr>\n",
       "      <th>2020-10-30</th>\n",
       "      <td>29764</td>\n",
       "      <td>29778</td>\n",
       "      <td>29068</td>\n",
       "      <td>29071</td>\n",
       "      <td>20679472</td>\n",
       "      <td>-0.027108</td>\n",
       "    </tr>\n",
       "  </tbody>\n",
       "</table>\n",
       "<p>452 rows × 6 columns</p>\n",
       "</div>"
      ],
      "text/plain": [
       "             Open   High    Low  Close    Volume    Change\n",
       "Date                                                      \n",
       "2019-01-02  24741  24778  24191  24278   5189755 -0.011482\n",
       "2019-01-03  24266  24293  24007  24042   6113088 -0.009721\n",
       "2019-01-04  24025  24252  23961  24226  11125638  0.007653\n",
       "2019-01-07  24525  24746  24512  24570   6168349  0.014200\n",
       "2019-01-08  24577  24650  24390  24413   5054042 -0.006390\n",
       "...           ...    ...    ...    ...       ...       ...\n",
       "2020-10-26  30442  30549  30263  30295   8855213 -0.001911\n",
       "2020-10-27  30075  30258  29964  30035   8057978 -0.008582\n",
       "2020-10-28  29921  30196  29830  30195   5719513  0.005327\n",
       "2020-10-29  29815  29907  29545  29881  10171385 -0.010399\n",
       "2020-10-30  29764  29778  29068  29071  20679472 -0.027108\n",
       "\n",
       "[452 rows x 6 columns]"
      ]
     },
     "execution_count": 64,
     "metadata": {},
     "output_type": "execute_result"
    }
   ],
   "source": [
    "temp_df = fdr.DataReader(\"069500\",\"2019-01-02\",\"2020-10-30\")\n",
    "temp_df"
   ]
  },
  {
   "cell_type": "code",
   "execution_count": 65,
   "id": "ac182ac0",
   "metadata": {},
   "outputs": [
    {
     "data": {
      "text/plain": [
       "0.10478620660928994"
      ]
     },
     "execution_count": 65,
     "metadata": {},
     "output_type": "execute_result"
    }
   ],
   "source": [
    "log_rtn_df = np.log(temp_df.pct_change() + 1).fillna(0)\n",
    "log_rtn_df = log_rtn_df['Close']\n",
    "cum_rtn_df = np.exp(log_rtn_df.cumsum())\n",
    "get_cagr_series(cum_rtn_df, num_day_in_year = 250)"
   ]
  },
  {
   "cell_type": "code",
   "execution_count": null,
   "id": "2872f33e",
   "metadata": {},
   "outputs": [],
   "source": [
    "# np.exp "
   ]
  },
  {
   "cell_type": "code",
   "execution_count": null,
   "id": "340ac563",
   "metadata": {},
   "outputs": [],
   "source": []
  },
  {
   "cell_type": "markdown",
   "id": "a05a21a3",
   "metadata": {},
   "source": [
    "# Sharp ratio\n",
    "#### 초과 수익률 / 변동성\n",
    "* 리스크 대비 얼마나 수익률을 얻었나"
   ]
  },
  {
   "cell_type": "code",
   "execution_count": 88,
   "id": "ffa97aeb",
   "metadata": {},
   "outputs": [
    {
     "data": {
      "text/plain": [
       "삼성전자       -0.937691\n",
       "kodex200   -1.950080\n",
       "dtype: float64"
      ]
     },
     "execution_count": 88,
     "metadata": {},
     "output_type": "execute_result"
    }
   ],
   "source": [
    "# 기본적인 국채 수익률 \n",
    "yearly_rfr = 0.025\n",
    "\n",
    "# 초과 수익률 \n",
    "excess_rtns = log_rtn_df.mean() * 252 - yearly_rfr\n",
    "# 위험 대비 얼마나 수익률이 나왔나 \n",
    "excess_rtns / (log_rtn_df.std() * np.sqrt(252))"
   ]
  },
  {
   "cell_type": "code",
   "execution_count": null,
   "id": "f66ed72e",
   "metadata": {},
   "outputs": [],
   "source": [
    "def get_sharpe_ratio(log_rtn_df, yearly_rfr = 0.025) : \n",
    "    excess_rtns = log_rtn_df.mean()*252 - yearly_rfr\n",
    "    return excess_rtns / (log_rtn_df.std() * np.sqrt(252))"
   ]
  },
  {
   "cell_type": "code",
   "execution_count": null,
   "id": "a78a27b7",
   "metadata": {},
   "outputs": [],
   "source": []
  },
  {
   "cell_type": "markdown",
   "id": "a1a78cbb",
   "metadata": {},
   "source": [
    "# Drawdown"
   ]
  },
  {
   "cell_type": "code",
   "execution_count": 94,
   "id": "8783c2ee",
   "metadata": {
    "collapsed": true
   },
   "outputs": [
    {
     "data": {
      "image/png": "[encoded data removed]",
      "text/plain": [
       "<Figure size 720x360 with 1 Axes>"
      ]
     },
     "metadata": {
      "needs_background": "light"
     },
     "output_type": "display_data"
    }
   ],
   "source": [
    "# 전고점\n",
    "cummax_df = cum_rtn_df.cummax()\n",
    "\n",
    "ax = cummax_df.plot(figsize=(10,5))\n",
    "cummax_df.plot(ax=ax)\n",
    "\n",
    "plt.show()"
   ]
  },
  {
   "cell_type": "code",
   "execution_count": null,
   "id": "04a12004",
   "metadata": {},
   "outputs": [],
   "source": []
  },
  {
   "cell_type": "code",
   "execution_count": null,
   "id": "c43755aa",
   "metadata": {},
   "outputs": [],
   "source": [
    "# 1. MDD max draw down"
   ]
  },
  {
   "cell_type": "code",
   "execution_count": null,
   "id": "8f6ab94a",
   "metadata": {},
   "outputs": [],
   "source": [
    "# 2. longest dd period"
   ]
  },
  {
   "cell_type": "code",
   "execution_count": null,
   "id": "dbf88800",
   "metadata": {},
   "outputs": [],
   "source": [
    "drawdown_df[drawdown_df == 0] "
   ]
  },
  {
   "cell_type": "code",
   "execution_count": null,
   "id": "7aebff16",
   "metadata": {},
   "outputs": [],
   "source": [
    "d"
   ]
  },
  {
   "cell_type": "code",
   "execution_count": null,
   "id": "760480f1",
   "metadata": {},
   "outputs": [],
   "source": []
  },
  {
   "cell_type": "code",
   "execution_count": null,
   "id": "8156ae9c",
   "metadata": {},
   "outputs": [],
   "source": []
  }
 ],
 "metadata": {
  "kernelspec": {
   "display_name": "Python 3 (ipykernel)",
   "language": "python",
   "name": "python3"
  },
  "language_info": {
   "codemirror_mode": {
    "name": "ipython",
    "version": 3
   },
   "file_extension": ".py",
   "mimetype": "text/x-python",
   "name": "python",
   "nbconvert_exporter": "python",
   "pygments_lexer": "ipython3",
   "version": "3.9.7"
  }
 },
 "nbformat": 4,
 "nbformat_minor": 5
}
